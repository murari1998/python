{
  "nbformat": 4,
  "nbformat_minor": 0,
  "metadata": {
    "colab": {
      "provenance": []
    },
    "kernelspec": {
      "name": "python3",
      "display_name": "Python 3"
    },
    "language_info": {
      "name": "python"
    }
  },
  "cells": [
    {
      "cell_type": "code",
      "execution_count": null,
      "metadata": {
        "id": "PFXOKM6Y4529"
      },
      "outputs": [],
      "source": [
        "# Introduction to Python\n",
        "\n",
        "# Fundamentals of Python\n",
        "# (1). Data types\n",
        "# (2). Variables\n",
        "# (3). Print() and input()"
      ]
    },
    {
      "cell_type": "code",
      "source": [
        "# (1). Data types\n",
        "# (a). Integer ----> 35 , -35\n",
        "# (b). Float  ---> 13.57\n",
        "# (c). String ---> '' , \" \" , ''' '''\n",
        "# (d). Boolean  ----> True , False"
      ],
      "metadata": {
        "id": "twiR8gsg5u50"
      },
      "execution_count": null,
      "outputs": []
    },
    {
      "cell_type": "code",
      "source": [
        "# (2). Variables ---> This is a container in which we can store or assign the values .\n",
        "# Ex.\n",
        "a = 5\n",
        "b = 'sam'\n",
        "c = 45.89\n",
        "\n",
        "### here a,b,c = variables\n",
        "\n",
        "# Types of Variables ----->\n",
        "# (a). Global Variable ---> This is outside of code of block .\n",
        "a = 5\n",
        "b = ['sam' , 'raj']\n",
        "# (b). Local Variable  ---> This is inside of code of block .\n",
        "def my_add():\n",
        "  a = 5\n",
        "  b = 6\n",
        "  c = a + b\n",
        "  print(c)\n",
        "my_add()\n",
        "\n",
        "### here a,b ,c local variables .\n",
        "\n",
        "def my_add(a,b):\n",
        "  c = a + b\n",
        "  print(c)\n",
        "a = 5\n",
        "b = 6\n",
        "my_add(a,b)\n",
        "\n",
        "## here a,b ---> global variable and c ---> local variable ."
      ],
      "metadata": {
        "colab": {
          "base_uri": "https://localhost:8080/"
        },
        "id": "DR5qlHQU50X0",
        "outputId": "4aa098b3-7cd8-4774-dca2-c19dae1f5b7b"
      },
      "execution_count": null,
      "outputs": [
        {
          "output_type": "stream",
          "name": "stdout",
          "text": [
            "11\n",
            "11\n"
          ]
        }
      ]
    },
    {
      "cell_type": "code",
      "source": [
        "# input() ----> This is pre-defined function of python that will take query from users and its output\n",
        "# is stored in string format by default .\n",
        "\n",
        "a = '1'\n",
        "# type(a)\n",
        "b = '2'\n",
        "c = a + b\n",
        "c"
      ],
      "metadata": {
        "colab": {
          "base_uri": "https://localhost:8080/",
          "height": 35
        },
        "id": "ZefosJ6b53ZU",
        "outputId": "62407134-4ffc-449b-ed09-277b44c81b2d"
      },
      "execution_count": null,
      "outputs": [
        {
          "output_type": "execute_result",
          "data": {
            "text/plain": [
              "'12'"
            ],
            "application/vnd.google.colaboratory.intrinsic+json": {
              "type": "string"
            }
          },
          "metadata": {},
          "execution_count": 4
        }
      ]
    },
    {
      "cell_type": "code",
      "source": [
        "a = input(\"Enter first number:\")\n",
        "b = input(\"Enter second number:\")\n",
        "c = a + b\n",
        "c"
      ],
      "metadata": {
        "colab": {
          "base_uri": "https://localhost:8080/",
          "height": 70
        },
        "id": "_ePYMa9e54s1",
        "outputId": "d08df95f-0375-4928-de3c-7c7a54189360"
      },
      "execution_count": null,
      "outputs": [
        {
          "name": "stdout",
          "output_type": "stream",
          "text": [
            "Enter first number:85\n",
            "Enter second number:78\n"
          ]
        },
        {
          "output_type": "execute_result",
          "data": {
            "text/plain": [
              "'8578'"
            ],
            "application/vnd.google.colaboratory.intrinsic+json": {
              "type": "string"
            }
          },
          "metadata": {},
          "execution_count": 5
        }
      ]
    },
    {
      "cell_type": "code",
      "source": [
        "# type-casting -----> Using this method , we can change one data-type value to another data type ."
      ],
      "metadata": {
        "id": "X08U0GoM56_N"
      },
      "execution_count": null,
      "outputs": []
    },
    {
      "cell_type": "code",
      "source": [
        "a = 5\n",
        "print(a)\n",
        "print(type(a))\n",
        "b = float(a)\n",
        "print(b)\n",
        "print(type(b))\n",
        "c = str(b)\n",
        "print(c)\n",
        "print(type(c))"
      ],
      "metadata": {
        "colab": {
          "base_uri": "https://localhost:8080/"
        },
        "id": "uHK6loRz6Bzf",
        "outputId": "2c28643a-127c-40b9-b4d8-eb8a508688f2"
      },
      "execution_count": null,
      "outputs": [
        {
          "output_type": "stream",
          "name": "stdout",
          "text": [
            "5\n",
            "<class 'int'>\n",
            "5.0\n",
            "<class 'float'>\n",
            "5.0\n",
            "<class 'str'>\n"
          ]
        }
      ]
    },
    {
      "cell_type": "code",
      "source": [
        "a = int(input(\"Enter first number:\"))\n",
        "b = int(input(\"Enter second number:\"))\n",
        "c = a + b\n",
        "c"
      ],
      "metadata": {
        "colab": {
          "base_uri": "https://localhost:8080/"
        },
        "id": "6V9-qqTC6EJJ",
        "outputId": "ed7bfc2b-a0c4-425f-f8cf-c98f1d1d6eb2"
      },
      "execution_count": null,
      "outputs": [
        {
          "name": "stdout",
          "output_type": "stream",
          "text": [
            "Enter first number:25\n",
            "Enter second number:45\n"
          ]
        },
        {
          "output_type": "execute_result",
          "data": {
            "text/plain": [
              "70"
            ]
          },
          "metadata": {},
          "execution_count": 10
        }
      ]
    },
    {
      "cell_type": "code",
      "source": [
        "# print() ----> This is also a pre-defined function in python that will execute our query on the terminal .\n",
        "a = 5\n",
        "print(a)\n",
        "b = 56.89\n",
        "print(b)"
      ],
      "metadata": {
        "colab": {
          "base_uri": "https://localhost:8080/"
        },
        "id": "vKjDxYw-6GS5",
        "outputId": "bdfb0d94-0ca5-48d7-fd2e-c79b87641f95"
      },
      "execution_count": null,
      "outputs": [
        {
          "output_type": "stream",
          "name": "stdout",
          "text": [
            "5\n",
            "56.89\n"
          ]
        }
      ]
    },
    {
      "cell_type": "code",
      "source": [
        "a = input(\"Enter first word:\")\n",
        "b = input(\"Enter second word:\")\n",
        "c = a + b\n",
        "c"
      ],
      "metadata": {
        "colab": {
          "base_uri": "https://localhost:8080/",
          "height": 70
        },
        "id": "qSF1fmsr6I2e",
        "outputId": "015119b5-3f58-4d30-a149-0fc6502b3e75"
      },
      "execution_count": null,
      "outputs": [
        {
          "name": "stdout",
          "output_type": "stream",
          "text": [
            "Enter first word:5\n",
            "Enter second word:7\n"
          ]
        },
        {
          "output_type": "execute_result",
          "data": {
            "text/plain": [
              "'57'"
            ],
            "application/vnd.google.colaboratory.intrinsic+json": {
              "type": "string"
            }
          },
          "metadata": {},
          "execution_count": 11
        }
      ]
    },
    {
      "cell_type": "code",
      "source": [
        "# Most common used operators in python\n",
        "\n",
        "# (1). Add(+) -----> 5+4 = 9\n",
        "# (2). Substract(-) ---> 5-3 =2\n",
        "# (3). Multiplication(*) ----> 5*2 = 10\n",
        "# (4). Division(/) ---> 5/2 = 2.5\n",
        "# (5). Floor Division(//) ---> 5//2\n",
        "# (6). Module(%) ---> FOr Remainder Calculation ---> 25%10 = 5\n",
        "# (7). Equal to (=) ---> for values assignment ---> a = 5\n",
        "# (8). Equal Equal to(==) ---> for values comparison ---> 'sam'=='mohit'\n",
        "# (9). Not Equal to(!=) ---> Not Equal to ---> 'sam'!='Mohit'\n",
        "# (10). Greater thna (>) ---> 5>4\n",
        "# (11). Less than (<) ---> 3<5\n",
        "# (12). Greater than or Equal to (>=) ---> 5>=5\n",
        "# (13). Less than or Equal to (<=) ---> 4<=5\n",
        "# (14). Power(**) ---> 2**3 = 8"
      ],
      "metadata": {
        "id": "bjeiJaZi7dQ2"
      },
      "execution_count": null,
      "outputs": []
    },
    {
      "cell_type": "code",
      "source": [
        "# # Conditional Statement in python\n",
        "\n",
        "# if\n",
        "\n",
        "# elif           user_query\n",
        "\n",
        "# else"
      ],
      "metadata": {
        "id": "wNB1ZWJY-pfd"
      },
      "execution_count": null,
      "outputs": []
    },
    {
      "cell_type": "code",
      "source": [
        "a = input(\"Enter name:\")\n",
        "if(a=='sam'):\n",
        "  print('yes')\n",
        "elif(a=='raj'):\n",
        "  print('no')\n",
        "else:\n",
        "  print('try again...')"
      ],
      "metadata": {
        "colab": {
          "base_uri": "https://localhost:8080/"
        },
        "id": "LcRPvBh9-r3E",
        "outputId": "4c12136d-3be3-4522-ac40-5927ba0d5f09"
      },
      "execution_count": null,
      "outputs": [
        {
          "output_type": "stream",
          "name": "stdout",
          "text": [
            "Enter name:sam\n",
            "yes\n"
          ]
        }
      ]
    },
    {
      "cell_type": "code",
      "source": [
        "# Q.2 Write a program who tell user is child , young or old ."
      ],
      "metadata": {
        "id": "EE2QbKDj-zER"
      },
      "execution_count": null,
      "outputs": []
    },
    {
      "cell_type": "code",
      "source": [
        "a = int(input(\"Enter Number:\"))\n",
        "if(0<=a<=20):\n",
        "  print(\"child\")\n",
        "elif(21<=a<=50):\n",
        "  print(\"young\")\n",
        "elif(51<=a<=90):\n",
        "  print(\"old\")\n",
        "else:\n",
        "  print(\"Please enter valid age.....\")"
      ],
      "metadata": {
        "colab": {
          "base_uri": "https://localhost:8080/"
        },
        "id": "rsrxQghu-0Si",
        "outputId": "f794d7da-5143-40d0-b641-736df96efddf"
      },
      "execution_count": null,
      "outputs": [
        {
          "output_type": "stream",
          "name": "stdout",
          "text": [
            "Enter Number:48\n",
            "young\n"
          ]
        }
      ]
    },
    {
      "cell_type": "code",
      "source": [
        "# Q.3"
      ],
      "metadata": {
        "id": "cq1CTaX3-3tv"
      },
      "execution_count": null,
      "outputs": []
    },
    {
      "cell_type": "code",
      "source": [
        "print(\"Pizaa-100 , Burgur-50 , Juice-20 , Biryani-100\")\n",
        "a = input(\"Enter your yummy item.....\")\n",
        "\n",
        "if (a == 'Biryani'):\n",
        "  b = int(input(\"Enter total quantity:\"))\n",
        "  print(\"Your yummy item is Biryani.\")\n",
        "  c = b*100\n",
        "  if (c>1000):\n",
        "    print(\"Your 10% discounted price is\" , c-(c*10/100))\n",
        "  else:\n",
        "      print(\"Your total bill is :\" , c)"
      ],
      "metadata": {
        "colab": {
          "base_uri": "https://localhost:8080/"
        },
        "id": "TUYDUmz9-8ki",
        "outputId": "6b5003a7-af0e-446a-93a6-37cdcf9ccefa"
      },
      "execution_count": null,
      "outputs": [
        {
          "name": "stdout",
          "output_type": "stream",
          "text": [
            "Pizaa-100 , Burgur-50 , Juice-20 , Biryani-100\n",
            "Enter your yummy item.....biryani\n"
          ]
        }
      ]
    },
    {
      "cell_type": "code",
      "source": [
        "# que(1). wap that take a interger inpput from the user and check whether the number is odd or even."
      ],
      "metadata": {
        "id": "CQeaSSVU_EqO"
      },
      "execution_count": null,
      "outputs": []
    },
    {
      "cell_type": "code",
      "source": [
        "num=int(input(\"enter a number :\"))\n",
        "\n",
        "if(num%2==0):\n",
        "  print(\"even\")\n",
        "else:\n",
        "  print(\"odd\")"
      ],
      "metadata": {
        "colab": {
          "base_uri": "https://localhost:8080/"
        },
        "id": "CF_a3Wi5NzPb",
        "outputId": "ee5e158e-1464-4850-83d4-c861a523d2ae"
      },
      "execution_count": null,
      "outputs": [
        {
          "output_type": "stream",
          "name": "stdout",
          "text": [
            "enter a number :98\n",
            "even\n"
          ]
        }
      ]
    },
    {
      "cell_type": "code",
      "source": [
        "# que(2).-wap that take three number as input and print the largest of three"
      ],
      "metadata": {
        "id": "IX6JcDPxOKXW"
      },
      "execution_count": null,
      "outputs": []
    },
    {
      "cell_type": "code",
      "source": [
        "a=int(input(\"enter a number :\"))\n",
        "b=int(input(\"enter b number :\"))\n",
        "c=int(input(\"enter c number :\"))\n",
        "\n",
        "if(a>=b and a>=c):\n",
        "  print(\"a is largest number\",a)\n",
        "elif(b>=a and b>=c):\n",
        "  print(\"b is largest number\",b)\n",
        "elif(c>=a and c>=b):\n",
        "  print(\"c is largest number\",c)\n"
      ],
      "metadata": {
        "colab": {
          "base_uri": "https://localhost:8080/"
        },
        "id": "a9s6tKELOstp",
        "outputId": "94fd0b86-52f9-4ae7-850a-333afe9fe557"
      },
      "execution_count": null,
      "outputs": [
        {
          "output_type": "stream",
          "name": "stdout",
          "text": [
            "enter a number :85\n",
            "enter b number :45\n",
            "enter c number :854\n",
            "c is largest number 854\n"
          ]
        }
      ]
    },
    {
      "cell_type": "code",
      "source": [
        "# que(3).-Write a program to check if a given year is a leap year. A leap year is divisible by 4 but not by 100\n",
        "# unless it is also divisible by 400."
      ],
      "metadata": {
        "id": "R3rIihgOPX5a"
      },
      "execution_count": null,
      "outputs": []
    },
    {
      "cell_type": "code",
      "source": [
        "year=int(input(\"enter year :\"))\n",
        "\n",
        "if(year%400==0) or (year%4==0 and year%100!=0):\n",
        "  print(\"leap year\")\n",
        "else:\n",
        "  print(\"not a leap year\")"
      ],
      "metadata": {
        "colab": {
          "base_uri": "https://localhost:8080/"
        },
        "id": "Ax1GBS3vPvkI",
        "outputId": "d0b85d93-d37c-418f-ebe5-6494d27b6af9"
      },
      "execution_count": null,
      "outputs": [
        {
          "output_type": "stream",
          "name": "stdout",
          "text": [
            "enter year :20232\n",
            "leap year\n"
          ]
        }
      ]
    },
    {
      "cell_type": "code",
      "source": [
        "# Q4 Write a program that takes a percentage (integer) as input and prints the corresponding grade based\n",
        "# on the following criteria:\n",
        "# >= 90: Grade A\n",
        "# >= 80: Grade B\n",
        "# >= 70: Grade C\n",
        "# >= 60: Grade D\n",
        "# < 60: Grade F"
      ],
      "metadata": {
        "id": "tw5DGxQRR94r"
      },
      "execution_count": null,
      "outputs": []
    },
    {
      "cell_type": "code",
      "source": [
        "per=int(input(\"enter your percent :\"))\n",
        "\n",
        "if(per>=90):\n",
        "  print(\"grade A\")\n",
        "elif(per>=80):\n",
        "  print(\"grade B\")\n",
        "elif(per>=70):\n",
        "  print(\"grade C\")\n",
        "elif(per>=60):\n",
        "  print(\"grade D\")\n",
        "elif(per<60):\n",
        "  print(\"grade F\")"
      ],
      "metadata": {
        "colab": {
          "base_uri": "https://localhost:8080/"
        },
        "id": "Y85BlmsLWAhP",
        "outputId": "8e01ed69-0239-48b3-ecc0-8226b80ab623"
      },
      "execution_count": null,
      "outputs": [
        {
          "output_type": "stream",
          "name": "stdout",
          "text": [
            "enter your percent :62\n",
            "grade D\n"
          ]
        }
      ]
    },
    {
      "cell_type": "code",
      "source": [
        "# Q5 Write a program that checks if a given letter is a vowel (a, e, i, o, u) or a consonant."
      ],
      "metadata": {
        "id": "1gvMoj2oXGJT"
      },
      "execution_count": null,
      "outputs": []
    },
    {
      "cell_type": "code",
      "source": [
        "letter=input(\"enter your letter :\")\n",
        "\n",
        "if(letter in 'aeiouAEIOU'):\n",
        "  print(\"vowel\")\n",
        "else:\n",
        "  print(\"consonant\")"
      ],
      "metadata": {
        "colab": {
          "base_uri": "https://localhost:8080/"
        },
        "id": "d9jTSMq_XYrb",
        "outputId": "4ce2ef4c-e12c-4c26-eb3c-3473f26513b6"
      },
      "execution_count": null,
      "outputs": [
        {
          "output_type": "stream",
          "name": "stdout",
          "text": [
            "enter your letter :p\n",
            "consonante\n"
          ]
        }
      ]
    },
    {
      "cell_type": "code",
      "source": [
        "# Q6 Write a basic calculator program that takes two numbers and an operator (+, -, *, /) as input and\n",
        "# performs the specified operation. Print the result based on the operation."
      ],
      "metadata": {
        "id": "06BWfyYkX9vY"
      },
      "execution_count": null,
      "outputs": []
    },
    {
      "cell_type": "code",
      "source": [
        "a=float(input(\"enter  a :\"))\n",
        "oper=input(\"enter operation (+,-,*,/) : \")\n",
        "b=float(input(\"enter  b :\"))\n",
        "\n",
        "if(oper=='+'):\n",
        "  print(a+b)\n",
        "elif(oper=='-'):\n",
        "  print(a-b)\n",
        "elif(oper=='*'):\n",
        "  print(a*b)\n",
        "elif(oper=='/'):\n",
        "  if(b!=0):\n",
        "   print(a/b)\n",
        "  else:\n",
        "    print(\"cannot divided by zero\")\n",
        "else:\n",
        "  print(\"invalid operator\")\n"
      ],
      "metadata": {
        "colab": {
          "base_uri": "https://localhost:8080/"
        },
        "id": "B7UYnBc-Yh0t",
        "outputId": "74ae018b-65aa-4c7d-cfa2-2562107e758b"
      },
      "execution_count": null,
      "outputs": [
        {
          "output_type": "stream",
          "name": "stdout",
          "text": [
            "enter  a :8\n",
            "enter operation (+,-,*,/) : /\n",
            "enter  b :0\n",
            "cannot divided by zero\n"
          ]
        }
      ]
    },
    {
      "cell_type": "code",
      "source": [
        "# Q7 Write a program that takes a number as input and checks whether it is positive, negative, or zero."
      ],
      "metadata": {
        "id": "yddO5hKlaUYS"
      },
      "execution_count": null,
      "outputs": []
    },
    {
      "cell_type": "code",
      "source": [
        "num=int(input(\"enter a number\"))\n",
        "\n",
        "if(num>0):\n",
        "  print(\"positive\")\n",
        "elif(num<0):\n",
        "  print(\"negative\")\n",
        "else:\n",
        "  print(\"zero\")"
      ],
      "metadata": {
        "colab": {
          "base_uri": "https://localhost:8080/"
        },
        "id": "EeTVvL_Lal4I",
        "outputId": "c49ea9a4-fbe2-4b1e-9175-f2c7aac133dd"
      },
      "execution_count": null,
      "outputs": [
        {
          "output_type": "stream",
          "name": "stdout",
          "text": [
            "enter a number8\n",
            "positive\n"
          ]
        }
      ]
    },
    {
      "cell_type": "code",
      "source": [
        "# Q8 Write a program that checks if a username and password entered by the user match the pre-set values\n",
        "# username = \"admin\" and password = \"1234\". If both match, print \"Login Successful\", otherwise print\n",
        "# \"Login Failed\"."
      ],
      "metadata": {
        "id": "VSffTqLZbDz0"
      },
      "execution_count": null,
      "outputs": []
    },
    {
      "cell_type": "code",
      "source": [
        "username=input(\"enter username :\")\n",
        "password=input(\"enter password :\")\n",
        "\n",
        "if(username==\"admin\" and password==\"1234\"):\n",
        "  print(\"login sucessful\")\n",
        "\n",
        "else:\n",
        "  print(\"login failed\")"
      ],
      "metadata": {
        "colab": {
          "base_uri": "https://localhost:8080/"
        },
        "id": "xL7wJ3XVbas6",
        "outputId": "b6171128-616d-4183-c40a-357c48dc7ae5"
      },
      "execution_count": null,
      "outputs": [
        {
          "output_type": "stream",
          "name": "stdout",
          "text": [
            "enter username :admin\n",
            "enter password :1234\n",
            "login sucessful\n"
          ]
        }
      ]
    },
    {
      "cell_type": "code",
      "source": [
        "# Q9 Write a program that takes three sides of a triangle as input and checks if those sides form a valid\n",
        "# triangle. A triangle is valid if the sum of any two sides is greater than the third side.\n",
        "# Check conditions like a + b > c, b + c > a, and a + c > b."
      ],
      "metadata": {
        "id": "1_cBD95fcGjK"
      },
      "execution_count": null,
      "outputs": []
    },
    {
      "cell_type": "code",
      "source": [
        "a=int(input(\"enter side a\"))\n",
        "b=int(input(\"enter side b\"))\n",
        "c=int(input(\"enter side c\"))\n",
        "\n",
        "if(a+b>c and b+c>a and a+c>b):\n",
        "  print(\"valid tringle\")\n",
        "else:\n",
        "  print(\"invalid tringle\")"
      ],
      "metadata": {
        "colab": {
          "base_uri": "https://localhost:8080/"
        },
        "id": "BhYiVw68cpWq",
        "outputId": "2589cc3f-ebf3-4a8f-ba97-b89defd65087"
      },
      "execution_count": null,
      "outputs": [
        {
          "output_type": "stream",
          "name": "stdout",
          "text": [
            "enter side a8\n",
            "enter side b5\n",
            "enter side c5\n",
            "valid tringle\n"
          ]
        }
      ]
    },
    {
      "cell_type": "code",
      "source": [
        "# Q10 Write a program that calculates the Body Mass Index (BMI) based on user input for weight (in\n",
        "# kilograms) and height (in meters). Then categorize the BMI into:\n",
        "# Underweight (BMI < 18.5)\n",
        "# Normal weight (18.5 <= BMI < 24.9)\n",
        "# Overweight (25 <= BMI < 29.9)\n",
        "# Obesity (BMI >= 30)\n",
        "# Use the formula: BMI = weight / (height ** 2)\n"
      ],
      "metadata": {
        "id": "z5N3OPz3dbL4"
      },
      "execution_count": null,
      "outputs": []
    },
    {
      "cell_type": "code",
      "source": [
        "# wap that calculate the discount for a product based on its price"
      ],
      "metadata": {
        "id": "tfTWULSugvFG"
      },
      "execution_count": null,
      "outputs": []
    },
    {
      "cell_type": "code",
      "source": [
        "price=int(input(\"enter price\"))"
      ],
      "metadata": {
        "id": "8Hw1vHyMhW8U"
      },
      "execution_count": null,
      "outputs": []
    },
    {
      "cell_type": "code",
      "source": [
        "# Q11 Write a program that calculates the discount for a product based on its price:\n",
        "# If price is greater than 1000, discount is 10%\n",
        "# If price is between 500 and 1000, discount is 5%\n",
        "# Otherwise, no discount\n",
        "# Print the final price after applying the discount."
      ],
      "metadata": {
        "id": "E4z28SHxbFhU"
      },
      "execution_count": null,
      "outputs": []
    },
    {
      "cell_type": "code",
      "source": [
        "price=int(input(\"enter price :\"))\n",
        "\n",
        "if(price>1000):\n",
        "  discount=0.10*price\n",
        "\n",
        "elif(price>=500 and price<=1000):\n",
        "  discount=0.05*price\n",
        "\n",
        "else:\n",
        "  discount=0\n",
        "\n",
        "final_price=price-discount\n",
        "\n",
        "print(\"discount applied:\",discount)\n",
        "print(\"final price:\",final_price)"
      ],
      "metadata": {
        "colab": {
          "base_uri": "https://localhost:8080/"
        },
        "id": "l_wRAvr1bHsz",
        "outputId": "189a59c8-7c2b-4a70-bb1b-3c42f82f7f87"
      },
      "execution_count": null,
      "outputs": [
        {
          "output_type": "stream",
          "name": "stdout",
          "text": [
            "enter price :1452\n",
            "discount applied: 145.20000000000002\n",
            "final price: 1306.8\n"
          ]
        }
      ]
    },
    {
      "cell_type": "code",
      "source": [
        "# Q12 Write a program that takes the name of a month as input and prints the number of days in that\n",
        "# month. Consider leap years for February.\n"
      ],
      "metadata": {
        "id": "3ouGdEHEbXbA"
      },
      "execution_count": null,
      "outputs": []
    },
    {
      "cell_type": "code",
      "source": [
        "month=input(\"enter month name : \")\n",
        "\n",
        "if(month in==\"january\",\"march\",\"may\",\"july\",\"august\",\"octomber\",\"december\"):\n",
        "  print(\"31 days\")\n",
        "elif(month in==\"april\",\"june\",\"september\",\"novvember\"):\n",
        "  print(\"30 days\")\n",
        "elif(month==\"febuary\"):"
      ],
      "metadata": {
        "colab": {
          "base_uri": "https://localhost:8080/"
        },
        "id": "L9jaI8y-dogx",
        "outputId": "26836ced-d4a5-4a40-f894-bf7279acd970"
      },
      "execution_count": null,
      "outputs": [
        {
          "output_type": "stream",
          "name": "stdout",
          "text": [
            "enter month name : may\n",
            "31 days\n"
          ]
        }
      ]
    },
    {
      "cell_type": "code",
      "source": [],
      "metadata": {
        "id": "YUVDCD5QfMWa"
      },
      "execution_count": null,
      "outputs": []
    },
    {
      "cell_type": "code",
      "source": [
        "# nested condiction----------> condiction ke ander condiction"
      ],
      "metadata": {
        "id": "qa9Vafa6rLN2"
      },
      "execution_count": null,
      "outputs": []
    },
    {
      "cell_type": "code",
      "source": [
        "age=8\n",
        "if(age>2):\n",
        "  print(\"age is grater than 2\")\n",
        "  if(age==10):\n",
        "    print(\"age is equal of 10\")\n",
        "  else:\n",
        "    print(\"age is not eequal to 10\")\n",
        "else:\n",
        "  print(\"age not grater then 2\")"
      ],
      "metadata": {
        "colab": {
          "base_uri": "https://localhost:8080/"
        },
        "id": "iU2LGEwZrOFk",
        "outputId": "d0b0a6be-6f16-4859-92de-519d29988840"
      },
      "execution_count": null,
      "outputs": [
        {
          "output_type": "stream",
          "name": "stdout",
          "text": [
            "age is grater than 2\n",
            "age is not eequal to 10\n"
          ]
        }
      ]
    },
    {
      "cell_type": "code",
      "source": [
        "a=4\n",
        "if(a%2==0):\n",
        "  print(\"number diveded by 2\")\n",
        "  if(a%5==0):\n",
        "    print(\"number diveded by 21 and 5\")\n",
        "  else:\n",
        "    print(\"number not dived by 5 but 2\")\n",
        "else:\n",
        "  print(\"number not dived bby all \")"
      ],
      "metadata": {
        "colab": {
          "base_uri": "https://localhost:8080/"
        },
        "id": "9I9_DMiiry9g",
        "outputId": "3a85d174-5dd4-469d-b6c4-f7df92958d8e"
      },
      "execution_count": null,
      "outputs": [
        {
          "output_type": "stream",
          "name": "stdout",
          "text": [
            "number diveded by 2\n",
            "number not dived by 5 but 2\n"
          ]
        }
      ]
    },
    {
      "cell_type": "code",
      "source": [
        "gender=\"m\"\n",
        "salary=5000\n",
        "if(gender==\"m\"):\n",
        "  if(salary>2000):\n",
        "   print(\"salary wala employed\")\n",
        "  else:\n",
        "    print(\"self employed\")\n",
        "else:\n",
        "  print(\"female\")"
      ],
      "metadata": {
        "colab": {
          "base_uri": "https://localhost:8080/"
        },
        "id": "2pIwBonbs1Qk",
        "outputId": "1a2d60eb-5b28-4fab-d1a2-c0e5f54db3aa"
      },
      "execution_count": null,
      "outputs": [
        {
          "output_type": "stream",
          "name": "stdout",
          "text": [
            "salary wala employed\n"
          ]
        }
      ]
    },
    {
      "cell_type": "code",
      "source": [
        "data=\"a\"\n",
        "year=2028\n",
        "if(data=='a' or data=='e' or data=='i' or data=='o' or data=='u' and year==2025):\n",
        "  print(\" data is vowel and year is 2025\")\n",
        "  if(data=='a' or data=='e' or data=='i' or data=='o' or data=='u' and year!=2025):\n",
        "    print(\"data is vowel and year is not is 2025\")\n",
        "else:\n",
        "  print(\"not a vowel\")\n"
      ],
      "metadata": {
        "colab": {
          "base_uri": "https://localhost:8080/"
        },
        "id": "lyUWbyDSuVLX",
        "outputId": "c5cbdeab-76be-4be3-86a6-4ca056810280"
      },
      "execution_count": null,
      "outputs": [
        {
          "output_type": "stream",
          "name": "stdout",
          "text": [
            " data is vowel and year is 2025\n",
            "data is vowel and year is not is 2025\n"
          ]
        }
      ]
    },
    {
      "cell_type": "code",
      "source": [
        "data=\"a\"\n",
        "year=2028\n",
        "if(data=='a' or data=='e' or data=='i' or data=='o' or data=='u'):\n",
        "  if(year==2025):\n",
        "    print(\"data is vowel and year is 2025\")\n",
        "  else:\n",
        "    print(\"vowel but year is not 2025\")\n",
        "else:\n",
        "  print(\"not a vowel\")"
      ],
      "metadata": {
        "colab": {
          "base_uri": "https://localhost:8080/"
        },
        "id": "KG7eATPZw8xR",
        "outputId": "1f003ffd-7257-4c08-b30f-2a27783dd96c"
      },
      "execution_count": null,
      "outputs": [
        {
          "output_type": "stream",
          "name": "stdout",
          "text": [
            "vowel but year is not 2025\n"
          ]
        }
      ]
    },
    {
      "cell_type": "code",
      "source": [
        "data=8\n",
        "year=2028\n",
        "if(data%2==0):\n",
        "  if(data%8==0):\n",
        "    print(\"even and diveded by 8\")\n",
        "  else:\n",
        "    print(\"even and not diveded by 8\")\n",
        "else:\n",
        "  print(\"odd\")"
      ],
      "metadata": {
        "colab": {
          "base_uri": "https://localhost:8080/"
        },
        "id": "LWm4k52B0jtZ",
        "outputId": "34cb6a31-1492-4224-ddcc-f7554a345e79"
      },
      "execution_count": null,
      "outputs": [
        {
          "output_type": "stream",
          "name": "stdout",
          "text": [
            "even and diveded by 8\n"
          ]
        }
      ]
    },
    {
      "cell_type": "code",
      "source": [
        "# loops ---->\n",
        "# loops are used to repetatively exicute a task\n",
        "# for\n",
        "# iteration => for loop\n",
        "# verna while"
      ],
      "metadata": {
        "id": "4X5VNU3z2Hud"
      },
      "execution_count": null,
      "outputs": []
    },
    {
      "cell_type": "code",
      "source": [
        "# for i in range(1,10)\n",
        "#\n",
        "# range(start,stop)\n",
        "\n",
        "\n"
      ],
      "metadata": {
        "id": "SnqhLEDc27Dn"
      },
      "execution_count": null,
      "outputs": []
    },
    {
      "cell_type": "code",
      "source": [
        "for i in range(1,6):\n",
        "  print(\"hey\",i)"
      ],
      "metadata": {
        "colab": {
          "base_uri": "https://localhost:8080/"
        },
        "id": "H9dK0pbm3XIe",
        "outputId": "1e9822d5-5d0e-4af2-d9e5-fb14e63ca214"
      },
      "execution_count": null,
      "outputs": [
        {
          "output_type": "stream",
          "name": "stdout",
          "text": [
            "hey 1\n",
            "hey 2\n",
            "hey 3\n",
            "hey 4\n",
            "hey 5\n"
          ]
        }
      ]
    },
    {
      "cell_type": "code",
      "source": [
        "# range(start,stop,[step=1])\n",
        "\n",
        "for i in range(1,10,2):\n",
        "  print(\"hey\",i)"
      ],
      "metadata": {
        "colab": {
          "base_uri": "https://localhost:8080/"
        },
        "id": "HwvgpWkl3gXT",
        "outputId": "02ddf162-2edc-4f8d-c64d-e66279660e8e"
      },
      "execution_count": null,
      "outputs": [
        {
          "output_type": "stream",
          "name": "stdout",
          "text": [
            "hey 1\n",
            "hey 3\n",
            "hey 5\n",
            "hey 7\n",
            "hey 9\n"
          ]
        }
      ]
    },
    {
      "cell_type": "code",
      "source": [
        "for i in range(7,1,-1):\n",
        "  print(\"hey\",i)"
      ],
      "metadata": {
        "colab": {
          "base_uri": "https://localhost:8080/"
        },
        "id": "Ks3a-0GH3zHn",
        "outputId": "930183b1-da26-445a-dff7-f19a3dc15393"
      },
      "execution_count": null,
      "outputs": [
        {
          "output_type": "stream",
          "name": "stdout",
          "text": [
            "hey 7\n",
            "hey 6\n",
            "hey 5\n",
            "hey 4\n",
            "hey 3\n",
            "hey 2\n"
          ]
        }
      ]
    },
    {
      "cell_type": "code",
      "source": [
        "for data in range(1,5):\n",
        "  print(data)"
      ],
      "metadata": {
        "colab": {
          "base_uri": "https://localhost:8080/"
        },
        "id": "eGXPLaTY4PcV",
        "outputId": "9955bea0-eb10-475b-983d-ef424857f1d9"
      },
      "execution_count": null,
      "outputs": [
        {
          "output_type": "stream",
          "name": "stdout",
          "text": [
            "1\n",
            "2\n",
            "3\n",
            "4\n"
          ]
        }
      ]
    },
    {
      "cell_type": "code",
      "source": [
        "for data in range(1,5):\n",
        "  if(data==2):\n",
        "    print(\"dabang\",data)\n",
        "  print(data)"
      ],
      "metadata": {
        "colab": {
          "base_uri": "https://localhost:8080/"
        },
        "id": "OzVnTL6b4eBW",
        "outputId": "16050b2c-f854-4150-b3f3-49e839713590"
      },
      "execution_count": null,
      "outputs": [
        {
          "output_type": "stream",
          "name": "stdout",
          "text": [
            "1\n",
            "dabang 2\n",
            "2\n",
            "3\n",
            "4\n"
          ]
        }
      ]
    },
    {
      "cell_type": "code",
      "source": [
        "# string indexing and slicing\n",
        "# RAJASTHAN\n",
        "# RAJASTHAN =>strring--collection of charcter\n",
        "# SEQUENCE OF CHARECTER\n",
        "# RAJASTHAN-\n",
        "# ------4,-3,-2,-1   [NEGATIVE INDEXING]\n",
        "# 0,1,2,3,4,5        [POSITIVE INDEXING]\n",
        "#"
      ],
      "metadata": {
        "id": "gRs4Y5Kt4zE2"
      },
      "execution_count": null,
      "outputs": []
    },
    {
      "cell_type": "code",
      "source": [
        "state='rajasthan'\n",
        "print(state[1])\n"
      ],
      "metadata": {
        "colab": {
          "base_uri": "https://localhost:8080/"
        },
        "id": "QZ1vhZBJ7R60",
        "outputId": "feb77d0b-7fa0-498a-ec7b-5f46270193b3"
      },
      "execution_count": null,
      "outputs": [
        {
          "output_type": "stream",
          "name": "stdout",
          "text": [
            "a\n"
          ]
        }
      ]
    },
    {
      "cell_type": "code",
      "source": [
        "state='rajasthan'\n",
        "print(state[3])"
      ],
      "metadata": {
        "colab": {
          "base_uri": "https://localhost:8080/"
        },
        "id": "BLeLAx9M7cM-",
        "outputId": "06786a78-8843-49f6-c6c6-d19120a81977"
      },
      "execution_count": null,
      "outputs": [
        {
          "output_type": "stream",
          "name": "stdout",
          "text": [
            "a\n"
          ]
        }
      ]
    },
    {
      "cell_type": "code",
      "source": [
        "state='rajasthan'\n",
        "print(state[5])"
      ],
      "metadata": {
        "colab": {
          "base_uri": "https://localhost:8080/"
        },
        "id": "IIS9d70R7h5f",
        "outputId": "20d92973-2ac9-4f4c-90a8-5a1d52898170"
      },
      "execution_count": null,
      "outputs": [
        {
          "output_type": "stream",
          "name": "stdout",
          "text": [
            "t\n"
          ]
        }
      ]
    },
    {
      "cell_type": "code",
      "source": [
        "state='rajasthan'\n",
        "print(state[-3])"
      ],
      "metadata": {
        "colab": {
          "base_uri": "https://localhost:8080/"
        },
        "id": "8HanmX7P7lu8",
        "outputId": "1059ec9c-9d0f-4fb6-8af1-2bdad057b84e"
      },
      "execution_count": null,
      "outputs": [
        {
          "output_type": "stream",
          "name": "stdout",
          "text": [
            "h\n"
          ]
        }
      ]
    },
    {
      "cell_type": "code",
      "source": [
        "state='rajasthan'\n",
        "# slicing---extracting some portion of your data\n",
        "# [start:stop:step]\n",
        "# stop exclusive---[not include]"
      ],
      "metadata": {
        "id": "te8632zW7oY1"
      },
      "execution_count": null,
      "outputs": []
    },
    {
      "cell_type": "code",
      "source": [
        "state='RAJASTHAN'\n",
        "state[0:4]"
      ],
      "metadata": {
        "colab": {
          "base_uri": "https://localhost:8080/",
          "height": 35
        },
        "id": "SvuX0eG58QSf",
        "outputId": "1df60bab-ce85-4bfe-9000-0c4dc3ae2f77"
      },
      "execution_count": null,
      "outputs": [
        {
          "output_type": "execute_result",
          "data": {
            "text/plain": [
              "'RAJA'"
            ],
            "application/vnd.google.colaboratory.intrinsic+json": {
              "type": "string"
            }
          },
          "metadata": {},
          "execution_count": 57
        }
      ]
    },
    {
      "cell_type": "code",
      "source": [
        "state='RAJASTHAN'\n",
        "state[1:5]"
      ],
      "metadata": {
        "colab": {
          "base_uri": "https://localhost:8080/",
          "height": 35
        },
        "id": "xTniHqxA8Ykr",
        "outputId": "e961668d-5f57-4158-a62b-9c3c89dd0fa0"
      },
      "execution_count": null,
      "outputs": [
        {
          "output_type": "execute_result",
          "data": {
            "text/plain": [
              "'AJAS'"
            ],
            "application/vnd.google.colaboratory.intrinsic+json": {
              "type": "string"
            }
          },
          "metadata": {},
          "execution_count": 59
        }
      ]
    },
    {
      "cell_type": "code",
      "source": [
        "state='RAJASTHAN'\n",
        "state[2:2]"
      ],
      "metadata": {
        "colab": {
          "base_uri": "https://localhost:8080/",
          "height": 35
        },
        "id": "l1Y2tvyK8t8b",
        "outputId": "a35d1abb-3f14-4373-da43-d31739e7ccd2"
      },
      "execution_count": null,
      "outputs": [
        {
          "output_type": "execute_result",
          "data": {
            "text/plain": [
              "''"
            ],
            "application/vnd.google.colaboratory.intrinsic+json": {
              "type": "string"
            }
          },
          "metadata": {},
          "execution_count": 60
        }
      ]
    },
    {
      "cell_type": "code",
      "source": [
        "state='RAJASTHAN'\n",
        "state[2:5]"
      ],
      "metadata": {
        "colab": {
          "base_uri": "https://localhost:8080/",
          "height": 35
        },
        "id": "rdER29XE834X",
        "outputId": "3f28ef3e-9baf-4ef2-a4fb-c1fb47dd9235"
      },
      "execution_count": null,
      "outputs": [
        {
          "output_type": "execute_result",
          "data": {
            "text/plain": [
              "'JAS'"
            ],
            "application/vnd.google.colaboratory.intrinsic+json": {
              "type": "string"
            }
          },
          "metadata": {},
          "execution_count": 61
        }
      ]
    },
    {
      "cell_type": "code",
      "source": [
        "# by defult sstep size 1"
      ],
      "metadata": {
        "id": "xQ8uAoWz9I1y"
      },
      "execution_count": null,
      "outputs": []
    },
    {
      "cell_type": "code",
      "source": [
        "state='RAJASTHAN'\n",
        "state[0:4:1]"
      ],
      "metadata": {
        "colab": {
          "base_uri": "https://localhost:8080/",
          "height": 35
        },
        "id": "Do4ZDmCE9MSI",
        "outputId": "2f7bc097-8215-4a10-f0fe-381bc153d318"
      },
      "execution_count": null,
      "outputs": [
        {
          "output_type": "execute_result",
          "data": {
            "text/plain": [
              "'RAJA'"
            ],
            "application/vnd.google.colaboratory.intrinsic+json": {
              "type": "string"
            }
          },
          "metadata": {},
          "execution_count": 63
        }
      ]
    },
    {
      "cell_type": "code",
      "source": [
        "state='RAJASTHAN'\n",
        "state[0:4:2]"
      ],
      "metadata": {
        "colab": {
          "base_uri": "https://localhost:8080/",
          "height": 35
        },
        "id": "m78JcV2b9P-a",
        "outputId": "eb652b62-6300-4a6c-dfcd-47838c9af63e"
      },
      "execution_count": null,
      "outputs": [
        {
          "output_type": "execute_result",
          "data": {
            "text/plain": [
              "'RJ'"
            ],
            "application/vnd.google.colaboratory.intrinsic+json": {
              "type": "string"
            }
          },
          "metadata": {},
          "execution_count": 64
        }
      ]
    },
    {
      "cell_type": "code",
      "source": [
        "state='RAJASTHAN'\n",
        "state[1:8:2]"
      ],
      "metadata": {
        "colab": {
          "base_uri": "https://localhost:8080/",
          "height": 35
        },
        "id": "JcBPyjd_9UvG",
        "outputId": "e247c946-51ea-4c2e-d8da-9b23f753eff3"
      },
      "execution_count": null,
      "outputs": [
        {
          "output_type": "execute_result",
          "data": {
            "text/plain": [
              "'AATA'"
            ],
            "application/vnd.google.colaboratory.intrinsic+json": {
              "type": "string"
            }
          },
          "metadata": {},
          "execution_count": 65
        }
      ]
    },
    {
      "cell_type": "code",
      "source": [
        "state='RAJASTHAN'\n",
        "state[0:]"
      ],
      "metadata": {
        "colab": {
          "base_uri": "https://localhost:8080/",
          "height": 35
        },
        "id": "XS6_PP969de3",
        "outputId": "0a25060a-47cc-4161-99a4-b9081a6a154e"
      },
      "execution_count": null,
      "outputs": [
        {
          "output_type": "execute_result",
          "data": {
            "text/plain": [
              "'RAJASTHAN'"
            ],
            "application/vnd.google.colaboratory.intrinsic+json": {
              "type": "string"
            }
          },
          "metadata": {},
          "execution_count": 66
        }
      ]
    },
    {
      "cell_type": "code",
      "source": [
        "state='RAJASTHAN'\n",
        "state[2:]"
      ],
      "metadata": {
        "colab": {
          "base_uri": "https://localhost:8080/",
          "height": 35
        },
        "id": "UO5zqf-39rS0",
        "outputId": "4e335f0c-e856-4798-a6bc-66842398ddfa"
      },
      "execution_count": null,
      "outputs": [
        {
          "output_type": "execute_result",
          "data": {
            "text/plain": [
              "'JASTHAN'"
            ],
            "application/vnd.google.colaboratory.intrinsic+json": {
              "type": "string"
            }
          },
          "metadata": {},
          "execution_count": 67
        }
      ]
    },
    {
      "cell_type": "code",
      "source": [
        "state='RAJASTHAN'\n",
        "state[:4]"
      ],
      "metadata": {
        "colab": {
          "base_uri": "https://localhost:8080/",
          "height": 35
        },
        "id": "NnpSIDkF9wiL",
        "outputId": "b70290f8-9a3b-4b66-c7b9-50c21bedd977"
      },
      "execution_count": null,
      "outputs": [
        {
          "output_type": "execute_result",
          "data": {
            "text/plain": [
              "'RAJA'"
            ],
            "application/vnd.google.colaboratory.intrinsic+json": {
              "type": "string"
            }
          },
          "metadata": {},
          "execution_count": 68
        }
      ]
    },
    {
      "cell_type": "code",
      "source": [
        "state='RAJASTHAN'\n",
        "state[:6:2]"
      ],
      "metadata": {
        "colab": {
          "base_uri": "https://localhost:8080/",
          "height": 35
        },
        "id": "hbCnaW0G-onw",
        "outputId": "e3a3ca7d-ab33-4faa-e699-4bc1ea82144b"
      },
      "execution_count": null,
      "outputs": [
        {
          "output_type": "execute_result",
          "data": {
            "text/plain": [
              "'RJS'"
            ],
            "application/vnd.google.colaboratory.intrinsic+json": {
              "type": "string"
            }
          },
          "metadata": {},
          "execution_count": 69
        }
      ]
    },
    {
      "cell_type": "code",
      "source": [
        "state='RAJASTHAN'\n",
        "state[-1:-4:-1]"
      ],
      "metadata": {
        "colab": {
          "base_uri": "https://localhost:8080/",
          "height": 35
        },
        "id": "UNbhd2S8-u6P",
        "outputId": "89df8068-8c0d-4f0d-cc75-6d68c70ba87f"
      },
      "execution_count": null,
      "outputs": [
        {
          "output_type": "execute_result",
          "data": {
            "text/plain": [
              "'NAH'"
            ],
            "application/vnd.google.colaboratory.intrinsic+json": {
              "type": "string"
            }
          },
          "metadata": {},
          "execution_count": 71
        }
      ]
    },
    {
      "cell_type": "code",
      "source": [
        "state='RAJASTHAN'\n",
        "state[-4:-1:1]"
      ],
      "metadata": {
        "colab": {
          "base_uri": "https://localhost:8080/",
          "height": 35
        },
        "id": "rnZB4fbv-90y",
        "outputId": "566d3aa5-da88-44fc-add1-87385c563650"
      },
      "execution_count": null,
      "outputs": [
        {
          "output_type": "execute_result",
          "data": {
            "text/plain": [
              "'THA'"
            ],
            "application/vnd.google.colaboratory.intrinsic+json": {
              "type": "string"
            }
          },
          "metadata": {},
          "execution_count": 73
        }
      ]
    },
    {
      "cell_type": "code",
      "source": [
        "for i in range(15,46):\n",
        "  if(i%2==0):\n",
        "    print(\"even\",i)\n",
        "  else:\n",
        "    print(\"odd =>\",i)"
      ],
      "metadata": {
        "colab": {
          "base_uri": "https://localhost:8080/"
        },
        "id": "jpJUZwpH_UZR",
        "outputId": "cae05c14-fed4-40ae-ac2c-59dbfdd3a79b"
      },
      "execution_count": null,
      "outputs": [
        {
          "output_type": "stream",
          "name": "stdout",
          "text": [
            "odd => 15\n",
            "even 16\n",
            "odd => 17\n",
            "even 18\n",
            "odd => 19\n",
            "even 20\n",
            "odd => 21\n",
            "even 22\n",
            "odd => 23\n",
            "even 24\n",
            "odd => 25\n",
            "even 26\n",
            "odd => 27\n",
            "even 28\n",
            "odd => 29\n",
            "even 30\n",
            "odd => 31\n",
            "even 32\n",
            "odd => 33\n",
            "even 34\n",
            "odd => 35\n",
            "even 36\n",
            "odd => 37\n",
            "even 38\n",
            "odd => 39\n",
            "even 40\n",
            "odd => 41\n",
            "even 42\n",
            "odd => 43\n",
            "even 44\n",
            "odd => 45\n"
          ]
        }
      ]
    },
    {
      "cell_type": "code",
      "source": [
        "for i in range(98,47,-1):\n",
        "  if(i%2==0 and i%7==0):\n",
        "    print(i)"
      ],
      "metadata": {
        "colab": {
          "base_uri": "https://localhost:8080/"
        },
        "id": "rpkOS639ABOp",
        "outputId": "770620fa-e593-4d48-e376-cf6160d9ae8e"
      },
      "execution_count": null,
      "outputs": [
        {
          "output_type": "stream",
          "name": "stdout",
          "text": [
            "98\n",
            "84\n",
            "70\n",
            "56\n"
          ]
        }
      ]
    },
    {
      "cell_type": "code",
      "source": [
        "# to get the sum of puggy\n",
        "piggy=0\n",
        "for i in range(1,8):\n",
        "  piggy=piggy+i\n",
        "  print(i,piggy)"
      ],
      "metadata": {
        "colab": {
          "base_uri": "https://localhost:8080/"
        },
        "id": "gZa_Jw9ZBUxo",
        "outputId": "4968e5ba-7f85-4c11-89d3-606963ca0d6d"
      },
      "execution_count": null,
      "outputs": [
        {
          "output_type": "stream",
          "name": "stdout",
          "text": [
            "1 1\n",
            "2 3\n",
            "3 6\n",
            "4 10\n",
            "5 15\n",
            "6 21\n",
            "7 28\n"
          ]
        }
      ]
    },
    {
      "cell_type": "code",
      "source": [
        "sum=0\n",
        "for i in range(3,27):\n",
        "  if(i%4==0):\n",
        "    sum=sum+i\n",
        "    print(sum)"
      ],
      "metadata": {
        "colab": {
          "base_uri": "https://localhost:8080/"
        },
        "id": "r2xNGXT0CLkk",
        "outputId": "90d17c5a-815e-48a7-f094-4407d0f52d86"
      },
      "execution_count": null,
      "outputs": [
        {
          "output_type": "stream",
          "name": "stdout",
          "text": [
            "4\n",
            "12\n",
            "24\n",
            "40\n",
            "60\n",
            "84\n"
          ]
        }
      ]
    },
    {
      "cell_type": "code",
      "source": [
        "# num=6\n",
        "num=6\n",
        "fact=1\n",
        "for i in range(1,num+1):\n",
        "  if(num%i==0):\n",
        "    print(i)"
      ],
      "metadata": {
        "colab": {
          "base_uri": "https://localhost:8080/"
        },
        "id": "upaOOm1iCzlU",
        "outputId": "a28aacef-06d6-4b93-f0f1-f918a169d3e3"
      },
      "execution_count": null,
      "outputs": [
        {
          "output_type": "stream",
          "name": "stdout",
          "text": [
            "1\n",
            "2\n",
            "3\n",
            "6\n"
          ]
        }
      ]
    },
    {
      "cell_type": "code",
      "source": [
        "num=6\n",
        "count=0\n",
        "for i in range(1,num+1):\n",
        "  if(num%i==0):\n",
        "    count=count+1\n",
        "print(count)"
      ],
      "metadata": {
        "colab": {
          "base_uri": "https://localhost:8080/"
        },
        "id": "HX9jy8dADcTe",
        "outputId": "1d93466b-c42d-4553-ef02-4ec24aeea287"
      },
      "execution_count": null,
      "outputs": [
        {
          "output_type": "stream",
          "name": "stdout",
          "text": [
            "4\n"
          ]
        }
      ]
    },
    {
      "cell_type": "code",
      "source": [
        "state='goa'\n",
        "for i in range(0,3):\n",
        "  print(i,state[i])"
      ],
      "metadata": {
        "colab": {
          "base_uri": "https://localhost:8080/"
        },
        "id": "TxJfz6VCE0BT",
        "outputId": "df4c0f2a-51eb-4af6-9459-0d2a50e56950"
      },
      "execution_count": null,
      "outputs": [
        {
          "output_type": "stream",
          "name": "stdout",
          "text": [
            "0 g\n",
            "1 o\n",
            "2 a\n"
          ]
        }
      ]
    },
    {
      "cell_type": "code",
      "source": [
        "# itrable --ek aise datatype jis par dircet loop chala sakte ha"
      ],
      "metadata": {
        "id": "0g6O395bFjOM"
      },
      "execution_count": null,
      "outputs": []
    },
    {
      "cell_type": "code",
      "source": [
        "state='goa'\n",
        "for i in range(0,3):\n",
        "  print(state[i])"
      ],
      "metadata": {
        "colab": {
          "base_uri": "https://localhost:8080/"
        },
        "id": "2BGoBfdzG0iR",
        "outputId": "92c5b0cc-1f5c-4e2f-c8d3-a620f02f9aef"
      },
      "execution_count": null,
      "outputs": [
        {
          "output_type": "stream",
          "name": "stdout",
          "text": [
            "g\n",
            "o\n",
            "a\n"
          ]
        }
      ]
    },
    {
      "cell_type": "code",
      "source": [
        "state='goa'\n",
        "for i in state:\n",
        "  if(i in 'aeiou'):\n",
        "    print(i)"
      ],
      "metadata": {
        "colab": {
          "base_uri": "https://localhost:8080/"
        },
        "id": "a9Ryjhm9G1-8",
        "outputId": "506c417c-9f98-4c77-f3da-26a3819a32d6"
      },
      "execution_count": null,
      "outputs": [
        {
          "output_type": "stream",
          "name": "stdout",
          "text": [
            "o\n",
            "a\n"
          ]
        }
      ]
    },
    {
      "cell_type": "code",
      "source": [],
      "metadata": {
        "id": "trMTaLllTjZA"
      },
      "execution_count": null,
      "outputs": []
    },
    {
      "cell_type": "code",
      "source": [
        "# For Loop & While Loop ( Questions)\n",
        "\n",
        "# 1. Write a program to print all natural numbers from 1 to n. – using while\n",
        "# loop\n",
        "# 2. Write a program to print all natural numbers in reverse (from n to 1). –\n",
        "# using while loop\n",
        "# 3. Write a program to print all alphabets from a to z.#  – using while loop\n",
        "# 4. Write a program to print all even numbers between 1 to 100. – using\n",
        "# while loop\n",
        "# 5. Write a program to find the sum of all odd numbers between 1 to n.\n",
        "# 6. Write a program to count the number of digits in a number.\n",
        "# 7. Write a program to calculate the sum of digits of a number.\n",
        "# 8. Write a program to find the first and last digit of a number.\n",
        "# 9. Write a program to find the sum of first and last digit of a number.\n",
        "# 10.Write a program to enter a number and print its reverse.\n",
        "# 11.Write a program to find the power of a number using for loop."
      ],
      "metadata": {
        "id": "yLAAw0U6HGK2"
      },
      "execution_count": null,
      "outputs": []
    },
    {
      "cell_type": "code",
      "source": [
        "#  1. Write a program to print all natural numbers from 1 to n.\n",
        "n=int(input(\"enter n number :\"))\n",
        "\n",
        "for i in range(1,n):\n",
        "  print(i)\n"
      ],
      "metadata": {
        "colab": {
          "base_uri": "https://localhost:8080/"
        },
        "id": "jDDe-HvvIOg3",
        "outputId": "de7237ad-6810-4cda-89d4-f3959013ab49"
      },
      "execution_count": null,
      "outputs": [
        {
          "output_type": "stream",
          "name": "stdout",
          "text": [
            "enter n number :10\n",
            "1\n",
            "2\n",
            "3\n",
            "4\n",
            "5\n",
            "6\n",
            "7\n",
            "8\n",
            "9\n"
          ]
        }
      ]
    },
    {
      "cell_type": "code",
      "source": [
        "#  2. Write a program to print all natural numbers in reverse (from n to 1).\n",
        "\n",
        "n=int(input(\"enter n number :\"))\n",
        "\n",
        "for i in range(n,0,-1):\n",
        "  print(i)"
      ],
      "metadata": {
        "colab": {
          "base_uri": "https://localhost:8080/"
        },
        "id": "e7Sdlq08IshX",
        "outputId": "8ba3aa85-f92c-4158-a475-61c2eb2fa39e"
      },
      "execution_count": null,
      "outputs": [
        {
          "output_type": "stream",
          "name": "stdout",
          "text": [
            "enter n number :10\n",
            "10\n",
            "9\n",
            "8\n",
            "7\n",
            "6\n",
            "5\n",
            "4\n",
            "3\n",
            "2\n",
            "1\n"
          ]
        }
      ]
    },
    {
      "cell_type": "code",
      "source": [
        "# 3. Write a program to print all alphabets from a to z.\n",
        "\n",
        "for i in range(ord('a'),ord('z')+1):\n",
        "  print(chr(i),end=\" \")"
      ],
      "metadata": {
        "colab": {
          "base_uri": "https://localhost:8080/"
        },
        "id": "uh8RnLorI_7D",
        "outputId": "98aeecc5-72f3-4aa7-a693-12d6e350230d"
      },
      "execution_count": null,
      "outputs": [
        {
          "output_type": "stream",
          "name": "stdout",
          "text": [
            "a b c d e f g h i j k l m n o p q r s t u v w x y z "
          ]
        }
      ]
    },
    {
      "cell_type": "code",
      "source": [
        "# 5. Write a program to find the sum of all odd numbers between 1 to n.\n",
        "n=int(input(\"enter n number :\"))\n",
        "sum=0\n",
        "for i in range(1,n):\n",
        "  if(i%2!=0):\n",
        "    sum=sum+i\n",
        "print(sum)\n"
      ],
      "metadata": {
        "colab": {
          "base_uri": "https://localhost:8080/"
        },
        "id": "3NZjV4iHKPmN",
        "outputId": "33111d88-78e0-48c6-8a6a-28d0fafc3571"
      },
      "execution_count": null,
      "outputs": [
        {
          "output_type": "stream",
          "name": "stdout",
          "text": [
            "enter n number :58\n",
            "841\n"
          ]
        }
      ]
    },
    {
      "cell_type": "code",
      "source": [
        "# 6. Write a program to count the number of digits in a number.\n",
        "num=input(\"enter number :\")\n",
        "for i in num:\n",
        "  num=num%10\n",
        "  count=count+1\n",
        "  num=num//10\n",
        "  print(count)\n"
      ],
      "metadata": {
        "colab": {
          "base_uri": "https://localhost:8080/",
          "height": 228
        },
        "id": "k9DEBATgL5_y",
        "outputId": "3d8f764e-4603-485a-966b-1a0817da4abc"
      },
      "execution_count": null,
      "outputs": [
        {
          "name": "stdout",
          "output_type": "stream",
          "text": [
            "enter number :78547\n"
          ]
        },
        {
          "output_type": "error",
          "ename": "TypeError",
          "evalue": "not all arguments converted during string formatting",
          "traceback": [
            "\u001b[0;31m---------------------------------------------------------------------------\u001b[0m",
            "\u001b[0;31mTypeError\u001b[0m                                 Traceback (most recent call last)",
            "\u001b[0;32m/tmp/ipython-input-128-808157280.py\u001b[0m in \u001b[0;36m<cell line: 0>\u001b[0;34m()\u001b[0m\n\u001b[1;32m      2\u001b[0m \u001b[0mnum\u001b[0m\u001b[0;34m=\u001b[0m\u001b[0minput\u001b[0m\u001b[0;34m(\u001b[0m\u001b[0;34m\"enter number :\"\u001b[0m\u001b[0;34m)\u001b[0m\u001b[0;34m\u001b[0m\u001b[0;34m\u001b[0m\u001b[0m\n\u001b[1;32m      3\u001b[0m \u001b[0;32mfor\u001b[0m \u001b[0mi\u001b[0m \u001b[0;32min\u001b[0m \u001b[0mnum\u001b[0m\u001b[0;34m:\u001b[0m\u001b[0;34m\u001b[0m\u001b[0;34m\u001b[0m\u001b[0m\n\u001b[0;32m----> 4\u001b[0;31m   \u001b[0mnum\u001b[0m\u001b[0;34m=\u001b[0m\u001b[0mnum\u001b[0m\u001b[0;34m%\u001b[0m\u001b[0;36m10\u001b[0m\u001b[0;34m\u001b[0m\u001b[0;34m\u001b[0m\u001b[0m\n\u001b[0m\u001b[1;32m      5\u001b[0m   \u001b[0mcount\u001b[0m\u001b[0;34m=\u001b[0m\u001b[0mcount\u001b[0m\u001b[0;34m+\u001b[0m\u001b[0;36m1\u001b[0m\u001b[0;34m\u001b[0m\u001b[0;34m\u001b[0m\u001b[0m\n\u001b[1;32m      6\u001b[0m   \u001b[0mnum\u001b[0m\u001b[0;34m=\u001b[0m\u001b[0mnum\u001b[0m\u001b[0;34m//\u001b[0m\u001b[0;36m10\u001b[0m\u001b[0;34m\u001b[0m\u001b[0;34m\u001b[0m\u001b[0m\n",
            "\u001b[0;31mTypeError\u001b[0m: not all arguments converted during string formatting"
          ]
        }
      ]
    },
    {
      "cell_type": "markdown",
      "metadata": {
        "id": "39ebe06c"
      },
      "source": [
        "Now, let's calculate the sum of digits of a number."
      ]
    },
    {
      "cell_type": "code",
      "source": [
        "# 6. Write a program to count the number of digits in a number.\n",
        "count=0\n",
        "num=int(input(\"enter a number :\"))\n",
        "while(num>0):\n",
        "  digit=num%10\n",
        "  count=count+1\n",
        "  num=num//10\n",
        "print(count)"
      ],
      "metadata": {
        "colab": {
          "base_uri": "https://localhost:8080/"
        },
        "id": "hb3nJS96gVda",
        "outputId": "4c0f287a-cc25-4a30-f10f-1d20df31ae82"
      },
      "execution_count": null,
      "outputs": [
        {
          "output_type": "stream",
          "name": "stdout",
          "text": [
            "enter a number :789321456\n",
            "9\n"
          ]
        }
      ]
    },
    {
      "cell_type": "code",
      "metadata": {
        "id": "6e8b70ea"
      },
      "source": [
        "# 7. Write a program to calculate the sum of digits of a number.\n",
        "num = int(input(\"Enter a number: \"))\n",
        "sum_of_digits = 0\n",
        "num_str = str(num)\n",
        "for digit in num_str:\n",
        "  sum_of_digits += int(digit)\n",
        "print(\"Sum of digits:\", sum_of_digits)"
      ],
      "execution_count": null,
      "outputs": []
    },
    {
      "cell_type": "code",
      "source": [
        "# 7. Write a program to calculate the sum of digits of a number.\n",
        "\n",
        "num=45878\n",
        "sum=0\n",
        "while num > 0:\n",
        "  digit=num%10\n",
        "  sum=sum+digit\n",
        "  num=num//10\n",
        "print(sum)"
      ],
      "metadata": {
        "id": "MPOhWIOIN_3m",
        "colab": {
          "base_uri": "https://localhost:8080/"
        },
        "outputId": "b548f420-0082-487a-d436-a97a01529ea7"
      },
      "execution_count": null,
      "outputs": [
        {
          "output_type": "stream",
          "name": "stdout",
          "text": [
            "32\n"
          ]
        }
      ]
    },
    {
      "cell_type": "code",
      "source": [
        "# 8. Write a program to find the first and last digit of a number.\n",
        "\n",
        "num=int(input(\"enter a number :\"))\n",
        "\n",
        "last_digit=num%10\n",
        "while(num>=10):\n",
        "  num=num//10\n",
        "  first=num\n",
        "print(first)\n",
        "print(last_digit)\n"
      ],
      "metadata": {
        "colab": {
          "base_uri": "https://localhost:8080/"
        },
        "id": "jso9Umd9gGt3",
        "outputId": "97da5752-b190-4621-9a10-5c362c643924"
      },
      "execution_count": null,
      "outputs": [
        {
          "output_type": "stream",
          "name": "stdout",
          "text": [
            "enter a number :7854\n",
            "7\n",
            "4\n"
          ]
        }
      ]
    },
    {
      "cell_type": "code",
      "source": [
        "# 9. Write a program to find the sum of first and last digit of a number.\n",
        "\n",
        "num=int(input(\"enter a num :\"))\n",
        "last=num%10\n",
        "\n",
        "while(num>=10):\n",
        "  num=num//10\n",
        "  first=num\n",
        "print(first+last)\n",
        "print(first)\n",
        "print(last)"
      ],
      "metadata": {
        "colab": {
          "base_uri": "https://localhost:8080/"
        },
        "id": "BZ5aFJraiJ5W",
        "outputId": "d93fc6fd-d770-407c-fcd4-2a9723bfb458"
      },
      "execution_count": null,
      "outputs": [
        {
          "output_type": "stream",
          "name": "stdout",
          "text": [
            "enter a num :78965\n",
            "12\n",
            "7\n",
            "5\n"
          ]
        }
      ]
    },
    {
      "cell_type": "code",
      "source": [
        "# 10.Write a program to enter a number and print its reverse.\n",
        "\n",
        "num=int(input(\"enter a number : \"))\n",
        "\n",
        "rev=0\n",
        "while(num>0):\n",
        "  digit=num%10\n",
        "  rev=rev*10+digit\n",
        "  num=num//10\n",
        "print(rev)"
      ],
      "metadata": {
        "colab": {
          "base_uri": "https://localhost:8080/"
        },
        "id": "QWZ2hOGgj_v-",
        "outputId": "8cce53ee-885a-4241-c264-6b8b4040cd00"
      },
      "execution_count": null,
      "outputs": [
        {
          "output_type": "stream",
          "name": "stdout",
          "text": [
            "enter a number : 5432\n",
            "2345\n"
          ]
        }
      ]
    },
    {
      "cell_type": "code",
      "source": [
        "# 11.Write a program to find the power of a number using for loop.\n",
        "\n"
      ],
      "metadata": {
        "id": "mRSccMfJlKSH"
      },
      "execution_count": null,
      "outputs": []
    },
    {
      "cell_type": "code",
      "source": [
        "ord('b')"
      ],
      "metadata": {
        "colab": {
          "base_uri": "https://localhost:8080/"
        },
        "id": "UKKw3Y9JExfS",
        "outputId": "3bd5de77-3414-41a4-e5b6-c388ca49c7e2"
      },
      "execution_count": null,
      "outputs": [
        {
          "output_type": "execute_result",
          "data": {
            "text/plain": [
              "98"
            ]
          },
          "metadata": {},
          "execution_count": 1
        }
      ]
    },
    {
      "cell_type": "code",
      "source": [
        "chr(66)"
      ],
      "metadata": {
        "colab": {
          "base_uri": "https://localhost:8080/",
          "height": 35
        },
        "id": "uW377sj_E180",
        "outputId": "3a5da0ad-f07a-42d1-efce-89069edc77f4"
      },
      "execution_count": null,
      "outputs": [
        {
          "output_type": "execute_result",
          "data": {
            "text/plain": [
              "'B'"
            ],
            "application/vnd.google.colaboratory.intrinsic+json": {
              "type": "string"
            }
          },
          "metadata": {},
          "execution_count": 2
        }
      ]
    },
    {
      "cell_type": "markdown",
      "source": [
        "wile loop"
      ],
      "metadata": {
        "id": "k7MpdmwbFN8Z"
      }
    },
    {
      "cell_type": "code",
      "source": [
        "# while loop\n",
        "\n",
        "# itraction nahi pata ho tab\n",
        "\n",
        "\n",
        "# 1 se 100 tak------> use for loop\n",
        "\n",
        "'''\n",
        "for i in range( ):\n",
        "\n",
        "\n",
        "while(condiction=>true):\n",
        "  statement\n",
        "\n",
        "\n",
        "'''"
      ],
      "metadata": {
        "id": "apkuNUPLE4nR"
      },
      "execution_count": null,
      "outputs": []
    },
    {
      "cell_type": "code",
      "source": [
        "i=1\n",
        "while(i==1):\n",
        "  print(\"hey\")\n",
        "  i=i+1"
      ],
      "metadata": {
        "colab": {
          "base_uri": "https://localhost:8080/"
        },
        "id": "vUaakoXjFMuv",
        "outputId": "4ecd67f0-f2e1-4989-ceb2-b6755a52c6ca"
      },
      "execution_count": null,
      "outputs": [
        {
          "output_type": "stream",
          "name": "stdout",
          "text": [
            "hey\n"
          ]
        }
      ]
    },
    {
      "cell_type": "code",
      "source": [
        "i=1\n",
        "while(i<4):\n",
        "  print(\"hey\",i)\n",
        "  i=i+1"
      ],
      "metadata": {
        "colab": {
          "base_uri": "https://localhost:8080/"
        },
        "id": "C4IQQedZHBhl",
        "outputId": "ac1b6e5b-f67e-49a9-bd0b-f0a2d24d854a"
      },
      "execution_count": null,
      "outputs": [
        {
          "output_type": "stream",
          "name": "stdout",
          "text": [
            "hey 1\n",
            "hey 2\n",
            "hey 3\n"
          ]
        }
      ]
    },
    {
      "cell_type": "code",
      "source": [
        "# i=2\n",
        "# while(i<=22):\n",
        "#   if(i%2==0):\n",
        "#     print(i)\n",
        "#   i=i+1\n",
        "\n",
        "\n",
        "  # method 2\n",
        "i=2\n",
        "while(i<=22):\n",
        "  print(i)\n",
        "  i=i+2"
      ],
      "metadata": {
        "colab": {
          "base_uri": "https://localhost:8080/"
        },
        "id": "sD0w0doEHqhh",
        "outputId": "11ad6340-e2b7-496e-f428-1b3d64dc55c2"
      },
      "execution_count": null,
      "outputs": [
        {
          "output_type": "stream",
          "name": "stdout",
          "text": [
            "2\n",
            "4\n",
            "6\n",
            "8\n",
            "10\n",
            "12\n",
            "14\n",
            "16\n",
            "18\n",
            "20\n",
            "22\n"
          ]
        }
      ]
    },
    {
      "cell_type": "code",
      "source": [
        "#\n",
        "i=47\n",
        "while(i>=5):\n",
        "  if(i%3==0):\n",
        "    print(i)\n",
        "  i=i-1"
      ],
      "metadata": {
        "colab": {
          "base_uri": "https://localhost:8080/"
        },
        "id": "rDXvHDanIJKJ",
        "outputId": "d733b059-1047-4ef0-9ee8-57980adfe98d"
      },
      "execution_count": null,
      "outputs": [
        {
          "output_type": "stream",
          "name": "stdout",
          "text": [
            "45\n",
            "42\n",
            "39\n",
            "36\n",
            "33\n",
            "30\n",
            "27\n",
            "24\n",
            "21\n",
            "18\n",
            "15\n",
            "12\n",
            "9\n",
            "6\n"
          ]
        }
      ]
    },
    {
      "cell_type": "code",
      "source": [
        "i=1\n",
        "num=7\n",
        "while(i<=num):\n",
        "  if(num%i==0):\n",
        "    print(i)\n",
        "  i=i+1"
      ],
      "metadata": {
        "colab": {
          "base_uri": "https://localhost:8080/"
        },
        "id": "ghGP4Iu5K7Gf",
        "outputId": "47207df5-b759-4dc9-ed33-f2df2e85e35c"
      },
      "execution_count": null,
      "outputs": [
        {
          "output_type": "stream",
          "name": "stdout",
          "text": [
            "1\n",
            "7\n"
          ]
        }
      ]
    },
    {
      "cell_type": "code",
      "source": [
        "num=7\n",
        "for i in range(1,num+1):\n",
        "  if(num%i==0):\n",
        "    print(i)"
      ],
      "metadata": {
        "colab": {
          "base_uri": "https://localhost:8080/"
        },
        "id": "zhahdwwULYXt",
        "outputId": "44629044-4924-4c7c-8d6e-71f3a6a1ffee"
      },
      "execution_count": null,
      "outputs": [
        {
          "output_type": "stream",
          "name": "stdout",
          "text": [
            "1\n",
            "7\n"
          ]
        }
      ]
    },
    {
      "cell_type": "code",
      "source": [
        "i=100\n",
        "count=0\n",
        "while(i>=49):\n",
        "  if(i%2!=0):\n",
        "    count=count+1\n",
        "  i=i-1\n",
        "print(count)\n",
        "\n"
      ],
      "metadata": {
        "colab": {
          "base_uri": "https://localhost:8080/"
        },
        "id": "z9uHiSnmL_-S",
        "outputId": "1c4f5cba-a138-4f31-a256-89d6d00848f4"
      },
      "execution_count": null,
      "outputs": [
        {
          "output_type": "stream",
          "name": "stdout",
          "text": [
            "26\n"
          ]
        }
      ]
    },
    {
      "cell_type": "code",
      "source": [
        "data=\"raj\"\n",
        "for i in range(0,len(data)):\n",
        "  print(i,data[i])"
      ],
      "metadata": {
        "colab": {
          "base_uri": "https://localhost:8080/"
        },
        "id": "BqMKzkh3NWtM",
        "outputId": "b8bf0a6e-8001-44dd-9a35-af3e621ca8a5"
      },
      "execution_count": null,
      "outputs": [
        {
          "output_type": "stream",
          "name": "stdout",
          "text": [
            "0 r\n",
            "1 a\n",
            "2 j\n"
          ]
        }
      ]
    },
    {
      "cell_type": "code",
      "source": [
        "data=\"rajiv\"\n",
        "i=0\n",
        "while(i<len(data)):\n",
        "  print(i,data[i])\n",
        "  i=i+1"
      ],
      "metadata": {
        "colab": {
          "base_uri": "https://localhost:8080/"
        },
        "id": "Fv6jkEMlQ5p5",
        "outputId": "e21afaa9-ea39-4102-d736-e859a74b7365"
      },
      "execution_count": null,
      "outputs": [
        {
          "output_type": "stream",
          "name": "stdout",
          "text": [
            "0 r\n",
            "1 a\n",
            "2 j\n",
            "3 i\n",
            "4 v\n"
          ]
        }
      ]
    },
    {
      "cell_type": "code",
      "source": [
        "data=\"rajiv\"\n",
        "i=0\n",
        "while(i<len(data)):\n",
        "  if data[i] in 'aeiou':\n",
        "    print(data[i])\n",
        "  i=i+1\n"
      ],
      "metadata": {
        "colab": {
          "base_uri": "https://localhost:8080/"
        },
        "id": "eNOH7pF1ScP9",
        "outputId": "1c0c254d-fe3e-4932-a760-a556ddb5a40a"
      },
      "execution_count": null,
      "outputs": [
        {
          "output_type": "stream",
          "name": "stdout",
          "text": [
            "a\n",
            "i\n"
          ]
        }
      ]
    },
    {
      "cell_type": "code",
      "source": [
        "data=\"rajuv\"\n",
        "i=0\n",
        "while(i<len(data)):\n",
        "  if(data[i]=='a' or data[i]=='u'):\n",
        "    print(data[i])\n",
        "  i=i+1"
      ],
      "metadata": {
        "colab": {
          "base_uri": "https://localhost:8080/"
        },
        "id": "DZgGMyFUSs9G",
        "outputId": "ee844bc8-abe0-4f99-ef2b-4d4d3fda1c2e"
      },
      "execution_count": null,
      "outputs": [
        {
          "output_type": "stream",
          "name": "stdout",
          "text": [
            "a\n",
            "u\n"
          ]
        }
      ]
    },
    {
      "cell_type": "code",
      "source": [
        "# prime number progra\n",
        "\n",
        "num=7\n",
        "factor=0\n",
        "i=1\n",
        "while(i<=num):\n",
        "  if(num%i==0):\n",
        "    factor=factor+1\n",
        "  i=i+1\n",
        "print(factor)\n",
        "\n",
        "if(factor>2):\n",
        "  print(\"not a prime\")\n",
        "else:\n",
        "  print(\"prime number\")\n"
      ],
      "metadata": {
        "colab": {
          "base_uri": "https://localhost:8080/"
        },
        "id": "zrtRMQ6lUJv2",
        "outputId": "d6f2dd87-85c8-4c8c-9ded-6b6565b02031"
      },
      "execution_count": null,
      "outputs": [
        {
          "output_type": "stream",
          "name": "stdout",
          "text": [
            "2\n",
            "prime number\n"
          ]
        }
      ]
    },
    {
      "cell_type": "code",
      "source": [
        "# breck\n",
        "\n",
        "start=1\n",
        "while(start<=5):\n",
        "  if(start==3):\n",
        "    break\n",
        "  print(start)\n",
        "  start+=1"
      ],
      "metadata": {
        "colab": {
          "base_uri": "https://localhost:8080/"
        },
        "id": "3BEZonzBvTLL",
        "outputId": "6224950f-6fd9-4037-838b-cad98c824796"
      },
      "execution_count": null,
      "outputs": [
        {
          "output_type": "stream",
          "name": "stdout",
          "text": [
            "1\n",
            "2\n"
          ]
        }
      ]
    },
    {
      "cell_type": "code",
      "source": [
        "# continoue\n",
        "\n",
        "start=1\n",
        "while(start<=5):\n",
        "  if(start==3):\n",
        "    start+=1\n",
        "    continue\n",
        "  print(start)\n",
        "  start+=1\n"
      ],
      "metadata": {
        "colab": {
          "base_uri": "https://localhost:8080/"
        },
        "id": "sd3JueBYz1PP",
        "outputId": "678367fc-7667-4994-b470-6362a6a3a105"
      },
      "execution_count": null,
      "outputs": [
        {
          "output_type": "stream",
          "name": "stdout",
          "text": [
            "1\n",
            "2\n",
            "4\n",
            "5\n"
          ]
        }
      ]
    },
    {
      "cell_type": "code",
      "source": [
        "num=8\n",
        "i=2\n",
        "while(i<num):\n",
        "  print(i)\n",
        "  i=i+1"
      ],
      "metadata": {
        "colab": {
          "base_uri": "https://localhost:8080/"
        },
        "id": "BeNfZD8vz5bq",
        "outputId": "5671619c-14de-457a-ca05-f68ede789061"
      },
      "execution_count": null,
      "outputs": [
        {
          "output_type": "stream",
          "name": "stdout",
          "text": [
            "2\n",
            "3\n",
            "4\n",
            "5\n",
            "6\n",
            "7\n"
          ]
        }
      ]
    },
    {
      "cell_type": "code",
      "source": [
        "num=13\n",
        "i=2\n",
        "out=0\n",
        "while(i<num):\n",
        "  if(num%i==0):\n",
        "    out=1\n",
        "    break\n",
        "\n",
        "  i=i+1\n",
        "\n",
        "if(out==0):\n",
        "  print(\"prime\")\n",
        "else:\n",
        "  print(\"not a prime\")"
      ],
      "metadata": {
        "colab": {
          "base_uri": "https://localhost:8080/"
        },
        "id": "Xdgx3AOr1tcn",
        "outputId": "395e7403-346b-47ac-cd67-0ea29f400607"
      },
      "execution_count": null,
      "outputs": [
        {
          "output_type": "stream",
          "name": "stdout",
          "text": [
            "prime\n"
          ]
        }
      ]
    },
    {
      "cell_type": "code",
      "source": [
        "# to find wether is a sting palindrom or not\n",
        "\n",
        "data=\"SARAS\"\n",
        "i=0\n",
        "out=0\n",
        "end=len(data)-1\n",
        "while(i<len(data)-1):\n",
        "  if(data[i]!=data[end]):\n",
        "    out=2\n",
        "    break\n",
        "\n",
        "  i=i+1\n",
        "  end-=1\n",
        "\n",
        "if(out==0):\n",
        "  print(\"palindrom\")\n",
        "else:\n",
        "  print(\"not a palindrom\")"
      ],
      "metadata": {
        "colab": {
          "base_uri": "https://localhost:8080/"
        },
        "id": "5JWp_7xY4C0X",
        "outputId": "07013088-4056-4e33-ff55-358c0e9ba73e"
      },
      "execution_count": null,
      "outputs": [
        {
          "output_type": "stream",
          "name": "stdout",
          "text": [
            "palindrom\n"
          ]
        }
      ]
    },
    {
      "cell_type": "code",
      "source": [
        "s=\"saros\"\n",
        "if(s==s[::-1]):\n",
        "  print(\"palindrom\")\n",
        "else:\n",
        "  print(\"not a palindrom\")"
      ],
      "metadata": {
        "colab": {
          "base_uri": "https://localhost:8080/"
        },
        "id": "6jiNM87L6Mbn",
        "outputId": "a34f8cce-545a-45c9-8848-4b3c20821214"
      },
      "execution_count": null,
      "outputs": [
        {
          "output_type": "stream",
          "name": "stdout",
          "text": [
            "not a palindrom\n"
          ]
        }
      ]
    },
    {
      "cell_type": "code",
      "source": [
        "# 1. Write a program to print all natural numbers from 1 to n. – using while\n",
        "# loop\n",
        "# 2. Write a program to print all natural numbers in reverse (from n to 1). –\n",
        "# using while loop\n",
        "# 3. Write a program to print all alphabets from a to z. – using while loop\n",
        "# 4. Write a program to print all even numbers between 1 to 100. – using\n",
        "# while loop\n",
        "# 5. Write a program to find the sum of all odd numbers between 1 to n.\n",
        "# 6. Write a program to count the number of digits in a number.\n",
        "# 7. Write a program to calculate the sum of digits of a number.\n",
        "# 8. Write a program to find the first and last digit of a number.\n",
        "# 9. Write a program to find the sum of first and last digit of a number.\n",
        "# 10.Write a program to enter a number and print its reverse.\n",
        "# 11.Write a program to find the power of a number using for loop.\n",
        "# 12.Write a program to find all factors of a number.\n",
        "# 13.Write a program to calculate the factorial of a number.\n",
        "# 14.Write a program to find LCM of two numbers.\n",
        "# 15.Write a program to check whether a number is Prime number or not.\n",
        "# 16.Write a program to print all Prime numbers between 1 to n.\n",
        "# 17.Write a program to find all prime factors of a number.\n",
        "# 18.Write a program to check whether a number is an Armstrong number or\n",
        "# not.\n",
        "# a. An Armstrong number is a n-digit number that is equal to the sum\n",
        "# of the nth power of its digits. For example –\n",
        "# 6 = 61 = 6\n",
        "# 371 = 33 + 73 + 13 = 371\n",
        "\n",
        "# 19.Write a program to check whether a number is Strong number or not\n",
        "# a. Strong number is a special number whose sum of factorial digits is\n",
        "# equal to the original number.\n",
        "# For example: 145 is a strong number. Since, 1! + 4! + 5! = 145\n",
        "# 20.Write a program to check whether a number is perfect number or not\n",
        "\n",
        "# a. Perfect number is a positive integer which is equal to the sum of\n",
        "# its proper positive divisors.\n",
        "# For example: 6 is the first perfect number\n",
        "# Proper divisors of 6 are 1, 2, 3\n",
        "# Sum of its proper divisors = 1 + 2 + 3 = 6.\n",
        "# Hence 6 is a perfect number.\n",
        "\n",
        "# 21.Write a program to print fibonacci series upto n terms\n",
        "# a. Fibonacci series is a series of numbers where the current number\n",
        "# is the sum of the previous two terms. For Example: 0, 1, 1, 2, 3, 5,\n",
        "# 8, 13, 21, ... , (n-1th + n-2th)\n",
        "\n",
        "# 22.Write a program to find ones complement of a binary number\n",
        "# a. One's complement of a binary number is defined as value\n",
        "# obtained by inverting all binary bits. It is the result of swapping all\n",
        "# 1s to 0s and all 0s to 1s.\n",
        "\n",
        "# b."
      ],
      "metadata": {
        "id": "hX4jRraJ9r5b"
      },
      "execution_count": null,
      "outputs": []
    },
    {
      "cell_type": "code",
      "source": [
        "# 1. Write a program to print all natural numbers from 1 to n. – using while\n",
        "# loop\n",
        "\n",
        "num=int(input(\"enter a number :\"))\n",
        "i=1\n",
        "while(i<=num):\n",
        "  print(i)\n",
        "  i=i+1\n"
      ],
      "metadata": {
        "colab": {
          "base_uri": "https://localhost:8080/"
        },
        "id": "6mTb6O1YOcMl",
        "outputId": "8a2bd015-21eb-4092-d5c8-604e27f70ee3"
      },
      "execution_count": null,
      "outputs": [
        {
          "output_type": "stream",
          "name": "stdout",
          "text": [
            "enter a number :22\n",
            "1\n",
            "2\n",
            "3\n",
            "4\n",
            "5\n",
            "6\n",
            "7\n",
            "8\n",
            "9\n",
            "10\n",
            "11\n",
            "12\n",
            "13\n",
            "14\n",
            "15\n",
            "16\n",
            "17\n",
            "18\n",
            "19\n",
            "20\n",
            "21\n",
            "22\n"
          ]
        }
      ]
    },
    {
      "cell_type": "code",
      "source": [
        "# 2. Write a program to print all natural numbers in reverse (from n to 1). –\n",
        "# using while loop\n",
        "\n",
        "num=int(input(\"enter a number :\"))\n",
        "i=num\n",
        "while(i>=1):\n",
        "  print(i)\n",
        "  i=i-1"
      ],
      "metadata": {
        "colab": {
          "base_uri": "https://localhost:8080/"
        },
        "id": "V6JpbpDgO1O2",
        "outputId": "09984f2e-3e46-4428-aafa-0dc27ecaa2db"
      },
      "execution_count": null,
      "outputs": [
        {
          "output_type": "stream",
          "name": "stdout",
          "text": [
            "enter a number :5\n",
            "5\n",
            "4\n",
            "3\n",
            "2\n",
            "1\n"
          ]
        }
      ]
    },
    {
      "cell_type": "code",
      "source": [
        "# 3. Write a program to print all alphabets from a to z. – using while loop\n",
        "\n",
        "i=65\n",
        "while(i<91):\n",
        "  print(chr(i),end=\"\")\n",
        "  i=i+1"
      ],
      "metadata": {
        "colab": {
          "base_uri": "https://localhost:8080/"
        },
        "id": "6u7_qaGDPZsl",
        "outputId": "d7186cfd-8f81-4d70-cf25-402912aebca3"
      },
      "execution_count": null,
      "outputs": [
        {
          "output_type": "stream",
          "name": "stdout",
          "text": [
            "ABCDEFGHIJKLMNOPQRSTUVWXYZ"
          ]
        }
      ]
    },
    {
      "cell_type": "code",
      "source": [
        "# 4. Write a program to print all even numbers between 1 to 100. – using\n",
        "\n",
        "i=1\n",
        "while(i<=100):\n",
        "  if(i%2==0):\n",
        "    print(i)\n",
        "  i=i+1"
      ],
      "metadata": {
        "colab": {
          "base_uri": "https://localhost:8080/"
        },
        "id": "hFW9E8MRSJSa",
        "outputId": "82e6d0f5-6802-4002-8418-4892afe8f71f"
      },
      "execution_count": null,
      "outputs": [
        {
          "output_type": "stream",
          "name": "stdout",
          "text": [
            "2\n",
            "4\n",
            "6\n",
            "8\n",
            "10\n",
            "12\n",
            "14\n",
            "16\n",
            "18\n",
            "20\n",
            "22\n",
            "24\n",
            "26\n",
            "28\n",
            "30\n",
            "32\n",
            "34\n",
            "36\n",
            "38\n",
            "40\n",
            "42\n",
            "44\n",
            "46\n",
            "48\n",
            "50\n",
            "52\n",
            "54\n",
            "56\n",
            "58\n",
            "60\n",
            "62\n",
            "64\n",
            "66\n",
            "68\n",
            "70\n",
            "72\n",
            "74\n",
            "76\n",
            "78\n",
            "80\n",
            "82\n",
            "84\n",
            "86\n",
            "88\n",
            "90\n",
            "92\n",
            "94\n",
            "96\n",
            "98\n",
            "100\n"
          ]
        }
      ]
    },
    {
      "cell_type": "code",
      "source": [
        "# 5. Write a program to find the sum of all odd numbers between 1 to n.\n",
        "\n",
        "num=int(input(\"enter a number :\"))\n",
        "i=1\n",
        "sum=0\n",
        "while(i<=num):\n",
        "  if(i%2!=0):\n",
        "    sum=sum+i\n",
        "  i=i+1\n",
        "print(sum)"
      ],
      "metadata": {
        "colab": {
          "base_uri": "https://localhost:8080/"
        },
        "id": "CdoBIc-XTkfY",
        "outputId": "fc08f4d0-8c1c-4bc6-a092-10f8860588fb"
      },
      "execution_count": null,
      "outputs": [
        {
          "output_type": "stream",
          "name": "stdout",
          "text": [
            "enter a number :5\n",
            "9\n"
          ]
        }
      ]
    },
    {
      "cell_type": "code",
      "source": [
        "# 6. Write a program to count the number of digits in a number.\n",
        "num=45687\n",
        "count=0\n",
        "while(num>0):\n",
        "  digit=num%10\n",
        "  count=count+1\n",
        "  num=num//10\n",
        "print(count)\n"
      ],
      "metadata": {
        "colab": {
          "base_uri": "https://localhost:8080/"
        },
        "id": "SYAfaXUdU4H0",
        "outputId": "ae09e364-51a2-4f3d-b2eb-6846cb13145b"
      },
      "execution_count": null,
      "outputs": [
        {
          "output_type": "stream",
          "name": "stdout",
          "text": [
            "5\n"
          ]
        }
      ]
    },
    {
      "cell_type": "code",
      "source": [
        "# 7. Write a program to calculate the sum of digits of a number.\n",
        "\n",
        "num=785\n",
        "sum=0\n",
        "while(num>0):\n",
        "  digit=num%10\n",
        "  sum=sum+digit\n",
        "  num=num//10\n",
        "print(sum)"
      ],
      "metadata": {
        "colab": {
          "base_uri": "https://localhost:8080/"
        },
        "id": "cyLv5dnkVuBQ",
        "outputId": "38debd8a-1ed3-49e3-cbec-95c623cf9398"
      },
      "execution_count": null,
      "outputs": [
        {
          "output_type": "stream",
          "name": "stdout",
          "text": [
            "20\n"
          ]
        }
      ]
    },
    {
      "cell_type": "code",
      "source": [
        "# 8. Write a program to find the first and last digit of a number.\n",
        "\n",
        "num = 7859\n",
        "\n",
        "\n",
        "last = num % 10\n",
        "\n",
        "first = num\n",
        "while first >= 10:\n",
        "    first = first // 10\n",
        "\n",
        "print(\"First digit:\", first)\n",
        "print(\"Last digit:\", last)\n"
      ],
      "metadata": {
        "colab": {
          "base_uri": "https://localhost:8080/"
        },
        "id": "Ec53kaHrWVU7",
        "outputId": "79871c5c-9c0e-427e-e8cc-1ae83600f4ed"
      },
      "execution_count": null,
      "outputs": [
        {
          "output_type": "stream",
          "name": "stdout",
          "text": [
            "First digit: 7\n",
            "Last digit: 9\n"
          ]
        }
      ]
    },
    {
      "cell_type": "code",
      "source": [
        "# 9. Write a program to find the sum of first and last digit of a number.\n",
        "\n",
        "num=4587\n",
        "\n",
        "last=num%10\n",
        "\n",
        "first=num\n",
        "while(first>=10):\n",
        "  first=first//10\n",
        "\n",
        "print(first,last,first+last)"
      ],
      "metadata": {
        "colab": {
          "base_uri": "https://localhost:8080/"
        },
        "id": "-Vj51-w5Xtqy",
        "outputId": "5f23fe6f-5731-42a7-f380-a9fc2b4ff4ee"
      },
      "execution_count": null,
      "outputs": [
        {
          "output_type": "stream",
          "name": "stdout",
          "text": [
            "4 7 11\n"
          ]
        }
      ]
    },
    {
      "cell_type": "code",
      "source": [
        "# 10.Write a program to enter a number and print its reverse.\n",
        "\n",
        "num=int(input(\"enter a number :\"))\n",
        "rev=0\n",
        "while(num>0):\n",
        "  digit=num%10\n",
        "  rev=rev*10+digit\n",
        "  num=num//10\n",
        "print(rev)\n"
      ],
      "metadata": {
        "colab": {
          "base_uri": "https://localhost:8080/"
        },
        "id": "hqwoKwAEbiwO",
        "outputId": "b42f2f26-d98f-4139-a229-0ad7aa20b744"
      },
      "execution_count": null,
      "outputs": [
        {
          "output_type": "stream",
          "name": "stdout",
          "text": [
            "enter a number :7896\n",
            "6987\n"
          ]
        }
      ]
    },
    {
      "cell_type": "code",
      "source": [
        "# 11.Write a program to find the power of a number using for loop.\n",
        "\n",
        "\n",
        "num=int(input(\"enter a number :\"))\n",
        "power=int(input(\"enter power of  a number  :\"))\n",
        "i=1\n",
        "result=1\n",
        "while(i<=power):\n",
        "  result=result*num\n",
        "  i=i+1\n",
        "print(result)\n"
      ],
      "metadata": {
        "colab": {
          "base_uri": "https://localhost:8080/"
        },
        "id": "0BwjzR_2cBUu",
        "outputId": "325d582d-ed21-4441-8bd0-664e4b28dae6"
      },
      "execution_count": null,
      "outputs": [
        {
          "output_type": "stream",
          "name": "stdout",
          "text": [
            "enter a number :2\n",
            "enter power of  a number  :3\n",
            "8\n"
          ]
        }
      ]
    },
    {
      "cell_type": "code",
      "source": [
        "# 12.Write a program to find all factors of a number.\n",
        "\n",
        "num=int(input(\"enter a number :\"))\n",
        "i=1\n",
        "while(i<=num):\n",
        "  if(num%i==0):\n",
        "    print(\"facter\",i)\n",
        "  i=i+1"
      ],
      "metadata": {
        "colab": {
          "base_uri": "https://localhost:8080/"
        },
        "id": "dJRKxZZvgciT",
        "outputId": "f3ee6c66-6bd9-4262-b8c0-c66dcc26dd0b"
      },
      "execution_count": null,
      "outputs": [
        {
          "output_type": "stream",
          "name": "stdout",
          "text": [
            "enter a number :8\n",
            "facter 1\n",
            "facter 2\n",
            "facter 4\n",
            "facter 8\n"
          ]
        }
      ]
    },
    {
      "cell_type": "code",
      "source": [
        "from re import I\n",
        "# 13.Write a program to calculate the factorial of a number.\n",
        "\n",
        "num=int(input(\"enter a number :\"))\n",
        "fact=1\n",
        "i=1\n",
        "while(i<=num):\n",
        "  fact=fact*i\n",
        "  i=i+1\n",
        "print(fact)"
      ],
      "metadata": {
        "colab": {
          "base_uri": "https://localhost:8080/"
        },
        "id": "pdm9bVFOia-1",
        "outputId": "9a0b28a3-3ecd-4534-920e-7483b0e8379d"
      },
      "execution_count": null,
      "outputs": [
        {
          "output_type": "stream",
          "name": "stdout",
          "text": [
            "enter a number :5\n",
            "120\n"
          ]
        }
      ]
    },
    {
      "cell_type": "code",
      "source": [
        "# 14.Write a program to find LCM of two numbers.\n",
        "\n",
        "a=int(input(\"enter a number \"))\n",
        "b=int(input(\"enter b number \"))\n",
        "\n",
        "while(b!=0):\n",
        "  a,b=b,a%b\n",
        "  gcd=a\n",
        "print(\"gcd\",gcd)\n",
        "\n",
        "\n",
        "\n",
        "\n"
      ],
      "metadata": {
        "id": "5hDdY9NgkBGL",
        "colab": {
          "base_uri": "https://localhost:8080/"
        },
        "outputId": "ada9205e-57ab-4c3f-e7f2-8a0595d66095"
      },
      "execution_count": null,
      "outputs": [
        {
          "output_type": "stream",
          "name": "stdout",
          "text": [
            "enter a number 8\n",
            "enter b number 4\n",
            "gcd 4\n"
          ]
        }
      ]
    },
    {
      "cell_type": "code",
      "source": [
        "#lcm using gcd\n",
        "\n",
        "a=int(input(\"enter a number \"))\n",
        "b=int(input(\"enter b number \"))\n",
        "\n",
        "x=a\n",
        "y=b\n",
        "\n",
        "while(b!=0):\n",
        "  a,b=b,a%b\n",
        "gcd=a\n",
        "lcm=(x*y)//gcd\n",
        "\n",
        "print(\"gcd\",a)\n",
        "print(\"lcm\",lcm)\n",
        "\n"
      ],
      "metadata": {
        "colab": {
          "base_uri": "https://localhost:8080/"
        },
        "id": "9pwyH7C8vndF",
        "outputId": "67323a92-4e68-4da3-ff99-4276db9c4c29"
      },
      "execution_count": null,
      "outputs": [
        {
          "output_type": "stream",
          "name": "stdout",
          "text": [
            "enter a number 8\n",
            "enter b number 4\n",
            "gcd 4\n",
            "lcm 8\n"
          ]
        }
      ]
    },
    {
      "cell_type": "code",
      "source": [
        "# 15.Write a program to check whether a number is Prime number or not.\n",
        "\n",
        "num=int(input(\"enter a number \"))\n",
        "i=1\n",
        "factor=0\n",
        "while(i<=num):\n",
        "  if(num%i==0):\n",
        "    factor=factor+1\n",
        "  i=i+1\n",
        "\n",
        "if(factor>2):\n",
        "  print(\"not a prime\")\n",
        "else:\n",
        "  print(\"prime\")\n"
      ],
      "metadata": {
        "colab": {
          "base_uri": "https://localhost:8080/"
        },
        "id": "smcYoQ4HmYmy",
        "outputId": "76298b40-2640-4d06-a2e8-f042e5c38095"
      },
      "execution_count": null,
      "outputs": [
        {
          "output_type": "stream",
          "name": "stdout",
          "text": [
            "enter a number 8\n",
            "not a prime\n"
          ]
        }
      ]
    },
    {
      "cell_type": "code",
      "source": [
        "# usint 2nd method\n",
        "\n",
        "num=int(input(\"enter a number \"))\n",
        "i=2\n",
        "x=0\n",
        "while(i<num):\n",
        "  if(num%i==0):\n",
        "    x=1\n",
        "    break\n",
        "  i=i+1\n",
        "if(x==0):\n",
        "  print(\"prime numeber \")\n",
        "else:\n",
        "   print(\"not a prime\")\n",
        "\n"
      ],
      "metadata": {
        "colab": {
          "base_uri": "https://localhost:8080/"
        },
        "id": "mIUloERqxzby",
        "outputId": "3683ce74-a081-42f6-9cf4-7c472588f4a5"
      },
      "execution_count": null,
      "outputs": [
        {
          "output_type": "stream",
          "name": "stdout",
          "text": [
            "enter a number 7\n",
            "prime numeber \n"
          ]
        }
      ]
    },
    {
      "cell_type": "code",
      "source": [
        "num=int(input(\"enter a number \"))\n",
        "i=2\n",
        "x=0\n",
        "while(i<num):\n",
        "  if(num%i==0):\n",
        "    x=1\n",
        "    break\n",
        "  i=i+1\n",
        "if(x==0):\n",
        "  print(\"prime numeber \")\n",
        "else:\n",
        "   print(\"not a prime\")\n"
      ],
      "metadata": {
        "colab": {
          "base_uri": "https://localhost:8080/"
        },
        "id": "A4eTFMNpmZNT",
        "outputId": "2005477e-0afa-47b3-abc3-284ddc034f18"
      },
      "execution_count": null,
      "outputs": [
        {
          "output_type": "stream",
          "name": "stdout",
          "text": [
            "enter a number 7\n",
            "prime numeber  7\n"
          ]
        }
      ]
    },
    {
      "cell_type": "code",
      "source": [
        "# 16.Write a program to print all Prime numbers between 1 to n."
      ],
      "metadata": {
        "id": "j4q4G1pomZpU"
      },
      "execution_count": null,
      "outputs": []
    },
    {
      "cell_type": "code",
      "source": [
        "# 17.Write a program to find all prime factors of a number.\n"
      ],
      "metadata": {
        "id": "xYblLx1vmaJc"
      },
      "execution_count": null,
      "outputs": []
    },
    {
      "cell_type": "code",
      "source": [
        "# 18.Write a program to check whether a number is an Armstrong number or\n",
        "# not.\n",
        "# a. An Armstrong number is a n-digit number that is equal to the sum\n",
        "# of the nth power of its digits. For example –\n",
        "# 6 = 61 = 6\n",
        "# 371 = 33 + 73 + 13 = 371\n",
        "\n",
        "num=153\n",
        "x=num\n",
        "total=0\n",
        "while(num>0):\n",
        "  rem=num%10\n",
        "  num=num//10\n",
        "  total=total+rem**3\n",
        "  print(rem**3,num,total)\n",
        "\n",
        "if(total==x):\n",
        "  print(\"armstrong\")"
      ],
      "metadata": {
        "colab": {
          "base_uri": "https://localhost:8080/"
        },
        "id": "a6QR0NXKma0v",
        "outputId": "483ee55b-5161-4090-d171-d15aa85616e2"
      },
      "execution_count": null,
      "outputs": [
        {
          "output_type": "stream",
          "name": "stdout",
          "text": [
            "27 15 27\n",
            "125 1 152\n",
            "1 0 153\n",
            "armstrong\n"
          ]
        }
      ]
    },
    {
      "cell_type": "code",
      "source": [
        "for num in range(150, 401):\n",
        "    total = 0\n",
        "    x = num\n",
        "    temp = num  # use a separate variable so that original num is not lost\n",
        "\n",
        "    while temp > 0:\n",
        "        rem = temp % 10\n",
        "        temp = temp // 10\n",
        "        total = total + rem ** 3\n",
        "\n",
        "    if total == x:\n",
        "        print(\"--armstrong--\", x)"
      ],
      "metadata": {
        "colab": {
          "base_uri": "https://localhost:8080/"
        },
        "id": "S95bJoSn-Mkd",
        "outputId": "8fe2022e-67f7-4c3e-e3eb-cb4d511563d8"
      },
      "execution_count": null,
      "outputs": [
        {
          "output_type": "stream",
          "name": "stdout",
          "text": [
            "--armstrong-- 153\n",
            "--armstrong-- 370\n",
            "--armstrong-- 371\n"
          ]
        }
      ]
    },
    {
      "cell_type": "code",
      "source": [
        "# method 2\n",
        "\n",
        "for num in range(1, 1001):\n",
        "    order = len(str(num))\n",
        "    sum = 0\n",
        "    temp = num\n",
        "\n",
        "    while temp > 0:\n",
        "        digit = temp % 10\n",
        "        sum += digit ** order\n",
        "        temp //= 10\n",
        "\n",
        "    if num == sum:\n",
        "        print(num, \"is an Armstrong number\")\n"
      ],
      "metadata": {
        "colab": {
          "base_uri": "https://localhost:8080/"
        },
        "id": "ExTRL0tPmbYy",
        "outputId": "da68b6a1-183a-42b8-e59a-b790e6deea15"
      },
      "execution_count": null,
      "outputs": [
        {
          "output_type": "stream",
          "name": "stdout",
          "text": [
            "1 is an Armstrong number\n",
            "2 is an Armstrong number\n",
            "3 is an Armstrong number\n",
            "4 is an Armstrong number\n",
            "5 is an Armstrong number\n",
            "6 is an Armstrong number\n",
            "7 is an Armstrong number\n",
            "8 is an Armstrong number\n",
            "9 is an Armstrong number\n",
            "153 is an Armstrong number\n",
            "370 is an Armstrong number\n",
            "371 is an Armstrong number\n",
            "407 is an Armstrong number\n"
          ]
        }
      ]
    },
    {
      "cell_type": "code",
      "source": [
        "# 19.Write a program to check whether a number is Strong number or not\n",
        "# a. Strong number is a special number whose sum of factorial digits is\n",
        "# equal to the original number.\n",
        "# For example: 145 is a strong number. Since, 1! + 4! + 5! = 145\n",
        "\n",
        "num = int(input(\"Enter a number: \"))\n",
        "temp = num\n",
        "sum = 0\n",
        "\n",
        "while temp > 0:\n",
        "    digit = temp % 10\n",
        "    fact = 1\n",
        "    i = 1\n",
        "    while i <= digit:\n",
        "        fact = fact * i\n",
        "        i += 1\n",
        "    sum += fact\n",
        "    temp = temp // 10\n",
        "\n",
        "if sum == num:\n",
        "    print(num, \"is a Strong number.\")\n",
        "else:\n",
        "    print(num, \"is not a Strong number.\")\n",
        "\n"
      ],
      "metadata": {
        "id": "pRQCBFhCmcIG"
      },
      "execution_count": null,
      "outputs": []
    },
    {
      "cell_type": "code",
      "source": [
        "\n"
      ],
      "metadata": {
        "colab": {
          "base_uri": "https://localhost:8080/"
        },
        "id": "dwn6ZYzM93g5",
        "outputId": "0d743eb9-c7d2-4aaa-ffa4-440093e6c874"
      },
      "execution_count": null,
      "outputs": [
        {
          "output_type": "stream",
          "name": "stdout",
          "text": [
            "--armstrong-- 153\n",
            "--armstrong-- 370\n",
            "--armstrong-- 371\n"
          ]
        }
      ]
    },
    {
      "cell_type": "code",
      "source": [
        "num = int(input(\"Enter number: \"))\n",
        "x = num\n",
        "total = 0\n",
        "\n",
        "while num > 0:\n",
        "    rem = num % 10\n",
        "\n",
        "    # Calculate factorial of rem\n",
        "    fact = 1\n",
        "    i = 1\n",
        "    while i <= rem:\n",
        "        fact = fact * i\n",
        "        i += 1\n",
        "\n",
        "    total = total + fact\n",
        "    num = num // 10\n",
        "\n",
        "    print(fact, num, total)  # Print: factorial, num left, total sum\n",
        "\n",
        "if total == x:\n",
        "    print(\"Strong number\")\n",
        "else:\n",
        "    print(\"Not a Strong number\")\n"
      ],
      "metadata": {
        "id": "HfYXdmUBmcvU"
      },
      "execution_count": null,
      "outputs": []
    },
    {
      "cell_type": "code",
      "source": [
        "# 20.Write a program to check whether a number is perfect number or not\n",
        "\n",
        "# a. Perfect number is a positive integer which is equal to the sum of\n",
        "# its proper positive divisors.\n",
        "# For example: 6 is the first perfect number\n",
        "# Proper divisors of 6 are 1, 2, 3\n",
        "# Sum of its proper divisors = 1 + 2 + 3 = 6.\n",
        "# Hence 6 is a perfect number.\n",
        "\n",
        "\n",
        "num = int(input(\"Enter a number: \"))\n",
        "total = 0\n",
        "\n",
        "# Proper divisors loop (excluding number itself)\n",
        "for i in range(1, num):\n",
        "    if num % i == 0:\n",
        "        total += i\n",
        "\n",
        "# Check if perfect\n",
        "if total == num:\n",
        "    print(num, \"is a Perfect Number.\")\n",
        "else:\n",
        "    print(num, \"is not a Perfect Number.\")\n"
      ],
      "metadata": {
        "colab": {
          "base_uri": "https://localhost:8080/"
        },
        "id": "fcawuM9i9gvm",
        "outputId": "b250854e-cf8f-4116-cde4-abeabddb57f2"
      },
      "execution_count": null,
      "outputs": [
        {
          "output_type": "stream",
          "name": "stdout",
          "text": [
            "Enter a number: 745\n",
            "745 is not a Perfect Number.\n"
          ]
        }
      ]
    },
    {
      "cell_type": "code",
      "source": [
        "for num in range(1, 1001):\n",
        "    total = 0\n",
        "    for i in range(1, num):\n",
        "        if num % i == 0:\n",
        "            total += i\n",
        "    if total == num:\n",
        "        print(num, \"is a Perfect Number\")"
      ],
      "metadata": {
        "colab": {
          "base_uri": "https://localhost:8080/"
        },
        "id": "kbSko-Ff9gqj",
        "outputId": "15316374-3934-46da-b6d4-efecf76f7c47"
      },
      "execution_count": null,
      "outputs": [
        {
          "output_type": "stream",
          "name": "stdout",
          "text": [
            "6 is a Perfect Number\n",
            "28 is a Perfect Number\n",
            "496 is a Perfect Number\n"
          ]
        }
      ]
    },
    {
      "cell_type": "code",
      "source": [
        "# 21.Write a program to print fibonacci series upto n terms\n",
        "# a. Fibonacci series is a series of numbers where the current number\n",
        "# is the sum of the previous two terms. For Example: 0, 1, 1, 2, 3, 5,\n",
        "# 8, 13, 21, ... , (n-1th + n-2th)\n",
        "\n",
        "\n",
        "n = int(input(\"Enter number of terms: \"))\n",
        "\n",
        "a = 0\n",
        "b = 1\n",
        "count = 0\n",
        "\n",
        "print(\"Fibonacci Series:\")\n",
        "\n",
        "while count < n:\n",
        "    print(a, end=\" \")\n",
        "    c = a + b       # अगली संख्या = पिछले दो का योग\n",
        "    a = b           # पहला नंबर अब दूसरा बन जाएगा\n",
        "    b = c           # दूसरा नंबर अब नया योग बन जाएगा\n",
        "    count += 1      # count बढ़ाते रहेंगे\n"
      ],
      "metadata": {
        "colab": {
          "base_uri": "https://localhost:8080/"
        },
        "id": "vohiBj899glX",
        "outputId": "806792e6-478b-45e0-cb14-192663d70a3d"
      },
      "execution_count": null,
      "outputs": [
        {
          "output_type": "stream",
          "name": "stdout",
          "text": [
            "Enter number of terms: 5\n",
            "Fibonacci Series:\n",
            "0 1 1 2 3 "
          ]
        }
      ]
    },
    {
      "cell_type": "code",
      "source": [
        "\n",
        "# 22.Write a program to find ones complement of a binary number\n",
        "# a. One's complement of a binary number is defined as value\n",
        "# obtained by inverting all binary bits. It is the result of swapping all\n",
        "# 1s to 0s and all 0s to 1s.\n",
        "\n",
        "\n"
      ],
      "metadata": {
        "id": "9g3R5Xz_9ggO"
      },
      "execution_count": null,
      "outputs": []
    },
    {
      "cell_type": "code",
      "source": [
        "# narcissists number\n",
        "\n",
        "num = int(input(\"Enter a number: \"))\n",
        "order = len(str(num))\n",
        "sum = 0\n",
        "temp = num\n",
        "\n",
        "while temp > 0:\n",
        "    digit = temp % 10\n",
        "    sum += digit ** order\n",
        "    temp = temp // 10\n",
        "\n",
        "if sum == num:\n",
        "    print(num, \"is a Narcissistic Number.\")\n",
        "else:\n",
        "    print(num, \"is not a Narcissistic Number.\")\n"
      ],
      "metadata": {
        "colab": {
          "base_uri": "https://localhost:8080/"
        },
        "id": "wjf8cKau9gbg",
        "outputId": "96d69ec2-a7ef-470c-cf46-b7c22df8400e"
      },
      "execution_count": null,
      "outputs": [
        {
          "output_type": "stream",
          "name": "stdout",
          "text": [
            "Enter a number: 12321\n",
            "12321 is not a Narcissistic Number.\n"
          ]
        }
      ]
    },
    {
      "cell_type": "code",
      "source": [],
      "metadata": {
        "id": "lWA0jau49gVX"
      },
      "execution_count": null,
      "outputs": []
    },
    {
      "cell_type": "code",
      "source": [],
      "metadata": {
        "id": "vvE5mGR69gPY"
      },
      "execution_count": null,
      "outputs": []
    },
    {
      "cell_type": "code",
      "source": [],
      "metadata": {
        "id": "vggRWNGn9gKO"
      },
      "execution_count": null,
      "outputs": []
    },
    {
      "cell_type": "code",
      "source": [
        "# finding wether is a numbeer prime or not\n",
        "\n",
        "num=7\n",
        "i=1\n",
        "factor=0\n",
        "while(i<=num):\n",
        "  if(num%i==0):\n",
        "    factor=factor+1\n",
        "  i=i+1\n",
        "print(factor)\n",
        "\n",
        "if(factor>2):\n",
        "  print(\"not a prime number\")\n",
        "else:\n",
        "  print(\"prime number\")"
      ],
      "metadata": {
        "colab": {
          "base_uri": "https://localhost:8080/"
        },
        "id": "UWpibJD-mdWr",
        "outputId": "9c26404b-a0a1-45c4-b324-1be648214bcd"
      },
      "execution_count": null,
      "outputs": [
        {
          "output_type": "stream",
          "name": "stdout",
          "text": [
            "2\n",
            "prime number\n"
          ]
        }
      ]
    },
    {
      "cell_type": "code",
      "source": [
        "# method 2 nd\n",
        "\n",
        "num=8\n",
        "i=2\n",
        "x=0\n",
        "while(i<num):\n",
        "  if(num%i==0):\n",
        "    x=1\n",
        "    break\n",
        "  i+=1\n",
        "\n",
        "if(x==0):\n",
        "  print(\"prime\")\n",
        "else:\n",
        "   print(\"not prime\")"
      ],
      "metadata": {
        "colab": {
          "base_uri": "https://localhost:8080/"
        },
        "id": "hfiXKgY_ob2z",
        "outputId": "abb18ac9-9374-4479-d185-62fcbf731e44"
      },
      "execution_count": null,
      "outputs": [
        {
          "output_type": "stream",
          "name": "stdout",
          "text": [
            "not prime\n"
          ]
        }
      ]
    },
    {
      "cell_type": "code",
      "source": [
        "num=13\n",
        "x=0\n",
        "for i in range(2,num):\n",
        "  if(num%i==0):\n",
        "    x=1\n",
        "    break\n",
        "  i+=1\n",
        "\n",
        "if(x==0):\n",
        "  print(\"prime\")\n",
        "else:\n",
        "   print(\"not prime\")"
      ],
      "metadata": {
        "colab": {
          "base_uri": "https://localhost:8080/"
        },
        "id": "60zi91qdrptJ",
        "outputId": "cc5de8a3-54fd-4229-ba19-fc2efa9dde68"
      },
      "execution_count": null,
      "outputs": [
        {
          "output_type": "stream",
          "name": "stdout",
          "text": [
            "prime\n"
          ]
        }
      ]
    },
    {
      "cell_type": "code",
      "source": [
        "# wether a string palindrom or not\n",
        "\n",
        "s=\"saras\"\n",
        "i=0\n",
        "end=len(s)-1\n",
        "out=0\n",
        "\n",
        "while(i<len(s)-1):\n",
        "  if(s[i]!=s[end]):\n",
        "    out=1\n",
        "    break\n",
        "  i=i+1\n",
        "  end=end-1\n",
        "\n",
        "if(out==0):\n",
        "  print(\"palindrom\")\n",
        "else:\n",
        "  print(\"not a palindrom\")"
      ],
      "metadata": {
        "colab": {
          "base_uri": "https://localhost:8080/"
        },
        "id": "szHaPtBDsYEU",
        "outputId": "cd9d4a52-a33f-4ab6-906f-de71257b2894"
      },
      "execution_count": null,
      "outputs": [
        {
          "output_type": "stream",
          "name": "stdout",
          "text": [
            "palindrom\n"
          ]
        }
      ]
    },
    {
      "cell_type": "code",
      "source": [
        "# member ship operator\n",
        "# IDENTITY OPERATOR\n",
        "\n",
        "#ki koi data kisi or data ka part ha ya nahi\n",
        "\n",
        "'h'in \"hello\"\n"
      ],
      "metadata": {
        "colab": {
          "base_uri": "https://localhost:8080/"
        },
        "id": "pycwEFqLp8a8",
        "outputId": "ec7453f5-d96f-42b4-dcd1-6e2aba8c2848"
      },
      "execution_count": null,
      "outputs": [
        {
          "output_type": "execute_result",
          "data": {
            "text/plain": [
              "True"
            ]
          },
          "metadata": {},
          "execution_count": 6
        }
      ]
    },
    {
      "cell_type": "code",
      "source": [
        "'h' not in \"HELLO\""
      ],
      "metadata": {
        "colab": {
          "base_uri": "https://localhost:8080/"
        },
        "id": "lxa5OngHqGoL",
        "outputId": "a530681f-bd6b-4b2a-9746-bb263774cfd9"
      },
      "execution_count": null,
      "outputs": [
        {
          "output_type": "execute_result",
          "data": {
            "text/plain": [
              "True"
            ]
          },
          "metadata": {},
          "execution_count": 7
        }
      ]
    },
    {
      "cell_type": "code",
      "source": [
        "# identity operator\n",
        "# to check wether koi or varible kisi class ko belong karta ha"
      ],
      "metadata": {
        "id": "LlmxT8ohqLuC"
      },
      "execution_count": null,
      "outputs": []
    },
    {
      "cell_type": "code",
      "source": [
        "x=10\n",
        "type(x) is int"
      ],
      "metadata": {
        "colab": {
          "base_uri": "https://localhost:8080/"
        },
        "id": "sNTDkkkpq3n8",
        "outputId": "6b7b6d77-ca08-4727-a901-2ac5ab5b92bd"
      },
      "execution_count": null,
      "outputs": [
        {
          "output_type": "execute_result",
          "data": {
            "text/plain": [
              "True"
            ]
          },
          "metadata": {},
          "execution_count": 9
        }
      ]
    },
    {
      "cell_type": "code",
      "source": [
        "x=\"10\"\n",
        "type(x) is int"
      ],
      "metadata": {
        "colab": {
          "base_uri": "https://localhost:8080/"
        },
        "id": "hm-zBRk_rKbX",
        "outputId": "9d67ca2d-8e78-4612-f939-339915643c48"
      },
      "execution_count": null,
      "outputs": [
        {
          "output_type": "execute_result",
          "data": {
            "text/plain": [
              "False"
            ]
          },
          "metadata": {},
          "execution_count": 10
        }
      ]
    },
    {
      "cell_type": "code",
      "source": [
        "x=\"10\"\n",
        "type(x) is not int"
      ],
      "metadata": {
        "colab": {
          "base_uri": "https://localhost:8080/"
        },
        "id": "OWhFtCHbrS29",
        "outputId": "70d4ef32-7556-4386-e5f9-760b55e06290"
      },
      "execution_count": null,
      "outputs": [
        {
          "output_type": "execute_result",
          "data": {
            "text/plain": [
              "True"
            ]
          },
          "metadata": {},
          "execution_count": 11
        }
      ]
    },
    {
      "cell_type": "code",
      "source": [
        "# call by value\n",
        "\n",
        "x=10\n",
        "print(\"value of x=>\",x, id(x))\n",
        "a=x\n",
        "print(\"value of a=>\",a, id(a))\n",
        "\n",
        "a=99\n",
        "print(\"value of a=>\",a, id(a),x,id(x))"
      ],
      "metadata": {
        "colab": {
          "base_uri": "https://localhost:8080/"
        },
        "id": "PSO1OWzXrXq2",
        "outputId": "0e7fce0a-c3b2-4427-9235-23fe71f766cf"
      },
      "execution_count": null,
      "outputs": [
        {
          "output_type": "stream",
          "name": "stdout",
          "text": [
            "value of x=> 10 10758024\n",
            "value of a=> 10 10758024\n",
            "value of a=> 99 10760872 10 10758024\n"
          ]
        }
      ]
    },
    {
      "cell_type": "code",
      "source": [
        "# python ma int,string,tuple,float  immutable datatype hote ha"
      ],
      "metadata": {
        "id": "c080oQp5u9Io"
      },
      "execution_count": null,
      "outputs": []
    },
    {
      "cell_type": "code",
      "source": [
        "# python call by object reference folloe karta ha"
      ],
      "metadata": {
        "id": "uPpdEP3Gvn8P"
      },
      "execution_count": null,
      "outputs": []
    },
    {
      "cell_type": "code",
      "source": [],
      "metadata": {
        "id": "UIzoIq48v5lS"
      },
      "execution_count": null,
      "outputs": []
    },
    {
      "cell_type": "code",
      "source": [
        "# bitwise operator\n",
        "\n",
        "10 & 14    # and"
      ],
      "metadata": {
        "colab": {
          "base_uri": "https://localhost:8080/"
        },
        "id": "ETaMMFOEwFPo",
        "outputId": "e5acfc0f-d137-4267-f3f0-3767bcee2918"
      },
      "execution_count": null,
      "outputs": [
        {
          "output_type": "execute_result",
          "data": {
            "text/plain": [
              "10"
            ]
          },
          "metadata": {},
          "execution_count": 18
        }
      ]
    },
    {
      "cell_type": "code",
      "source": [
        "10 | 14   # or"
      ],
      "metadata": {
        "colab": {
          "base_uri": "https://localhost:8080/"
        },
        "id": "Yi6wza-exq6j",
        "outputId": "70ccd624-63b3-4000-da8a-ee22016b5e22"
      },
      "execution_count": null,
      "outputs": [
        {
          "output_type": "execute_result",
          "data": {
            "text/plain": [
              "14"
            ]
          },
          "metadata": {},
          "execution_count": 20
        }
      ]
    },
    {
      "cell_type": "code",
      "source": [
        "# nested loop\n",
        "\n",
        "for i in range(1,4):\n",
        "  print(\"student\",i)\n",
        "  for j in range(1,5):\n",
        "    print(\"subject==>\",j)"
      ],
      "metadata": {
        "colab": {
          "base_uri": "https://localhost:8080/"
        },
        "id": "E_cMGMHdxt8h",
        "outputId": "cdfd946a-fb14-4543-933e-6512c09fb0c2"
      },
      "execution_count": null,
      "outputs": [
        {
          "output_type": "stream",
          "name": "stdout",
          "text": [
            "student 1\n",
            "subject==> 1\n",
            "subject==> 2\n",
            "subject==> 3\n",
            "subject==> 4\n",
            "student 2\n",
            "subject==> 1\n",
            "subject==> 2\n",
            "subject==> 3\n",
            "subject==> 4\n",
            "student 3\n",
            "subject==> 1\n",
            "subject==> 2\n",
            "subject==> 3\n",
            "subject==> 4\n"
          ]
        }
      ]
    },
    {
      "cell_type": "code",
      "source": [
        "for i in range(1,4):\n",
        "  print(\"student\",i)\n",
        "  for j in range(4,0,-1):\n",
        "    print(\"subject==>\",j)"
      ],
      "metadata": {
        "colab": {
          "base_uri": "https://localhost:8080/"
        },
        "id": "rpIq5xS1zLj5",
        "outputId": "5b10bd74-53a7-480c-f856-e9ddc1bed2e9"
      },
      "execution_count": null,
      "outputs": [
        {
          "output_type": "stream",
          "name": "stdout",
          "text": [
            "student 1\n",
            "subject==> 4\n",
            "subject==> 3\n",
            "subject==> 2\n",
            "subject==> 1\n",
            "student 2\n",
            "subject==> 4\n",
            "subject==> 3\n",
            "subject==> 2\n",
            "subject==> 1\n",
            "student 3\n",
            "subject==> 4\n",
            "subject==> 3\n",
            "subject==> 2\n",
            "subject==> 1\n"
          ]
        }
      ]
    },
    {
      "cell_type": "code",
      "source": [
        "for i in range(4,0,-1):\n",
        "  print(\"student\",i)\n",
        "  for j in range(4,0,-1):\n",
        "    print(\"subject==>\",j)"
      ],
      "metadata": {
        "colab": {
          "base_uri": "https://localhost:8080/"
        },
        "id": "MmxUICfszdwC",
        "outputId": "39f87b74-bf1e-44e6-e64c-36582f2c42fd"
      },
      "execution_count": null,
      "outputs": [
        {
          "output_type": "stream",
          "name": "stdout",
          "text": [
            "student 4\n",
            "subject==> 4\n",
            "subject==> 3\n",
            "subject==> 2\n",
            "subject==> 1\n",
            "student 3\n",
            "subject==> 4\n",
            "subject==> 3\n",
            "subject==> 2\n",
            "subject==> 1\n",
            "student 2\n",
            "subject==> 4\n",
            "subject==> 3\n",
            "subject==> 2\n",
            "subject==> 1\n",
            "student 1\n",
            "subject==> 4\n",
            "subject==> 3\n",
            "subject==> 2\n",
            "subject==> 1\n"
          ]
        }
      ]
    },
    {
      "cell_type": "code",
      "source": [
        "for i in range(1,4):\n",
        "  print(\"student\",i)\n",
        "  for j in range(1,i+1):\n",
        "    print(\"subject==>\",j)"
      ],
      "metadata": {
        "colab": {
          "base_uri": "https://localhost:8080/"
        },
        "id": "q9vruvc2zlSs",
        "outputId": "58af10d3-30e1-4c85-e1dd-cdaf6e36fec3"
      },
      "execution_count": null,
      "outputs": [
        {
          "output_type": "stream",
          "name": "stdout",
          "text": [
            "student 1\n",
            "subject==> 1\n",
            "student 2\n",
            "subject==> 1\n",
            "subject==> 2\n",
            "student 3\n",
            "subject==> 1\n",
            "subject==> 2\n",
            "subject==> 3\n"
          ]
        }
      ]
    },
    {
      "cell_type": "code",
      "source": [
        "for i in range(1,4):\n",
        "  print(\"student\",i)\n",
        "  for j in range(i,5):\n",
        "    print(\"subject==>\",j)"
      ],
      "metadata": {
        "colab": {
          "base_uri": "https://localhost:8080/"
        },
        "id": "xVfb3jBy0pQs",
        "outputId": "fc1f9cdf-3516-4e17-c1be-5450794a28a9"
      },
      "execution_count": null,
      "outputs": [
        {
          "output_type": "stream",
          "name": "stdout",
          "text": [
            "student 1\n",
            "subject==> 1\n",
            "subject==> 2\n",
            "subject==> 3\n",
            "subject==> 4\n",
            "student 2\n",
            "subject==> 2\n",
            "subject==> 3\n",
            "subject==> 4\n",
            "student 3\n",
            "subject==> 3\n",
            "subject==> 4\n"
          ]
        }
      ]
    },
    {
      "cell_type": "code",
      "source": [
        "for i in range(1,4):\n",
        "  print(\"student\",i)\n",
        "  for j in range(i,6-i):\n",
        "    print(\"subject==>\",j)"
      ],
      "metadata": {
        "id": "jqcvbuYq1mQE",
        "colab": {
          "base_uri": "https://localhost:8080/"
        },
        "outputId": "4cafb35d-4523-4f2b-e2d3-e37766b24366"
      },
      "execution_count": 2,
      "outputs": [
        {
          "output_type": "stream",
          "name": "stdout",
          "text": [
            "student 1\n",
            "subject==> 1\n",
            "subject==> 2\n",
            "subject==> 3\n",
            "subject==> 4\n",
            "student 2\n",
            "subject==> 2\n",
            "subject==> 3\n",
            "student 3\n"
          ]
        }
      ]
    },
    {
      "cell_type": "code",
      "source": [
        "\n",
        "for j in range(1,6):\n",
        "  for i in range(1,11):\n",
        "    print(j*i)"
      ],
      "metadata": {
        "colab": {
          "base_uri": "https://localhost:8080/"
        },
        "id": "qHQTOHnH9H9e",
        "outputId": "835aa762-4cc0-47b7-e262-9911a1ae48b8"
      },
      "execution_count": 9,
      "outputs": [
        {
          "output_type": "stream",
          "name": "stdout",
          "text": [
            "1\n",
            "2\n",
            "3\n",
            "4\n",
            "5\n",
            "6\n",
            "7\n",
            "8\n",
            "9\n",
            "10\n",
            "2\n",
            "4\n",
            "6\n",
            "8\n",
            "10\n",
            "12\n",
            "14\n",
            "16\n",
            "18\n",
            "20\n",
            "3\n",
            "6\n",
            "9\n",
            "12\n",
            "15\n",
            "18\n",
            "21\n",
            "24\n",
            "27\n",
            "30\n",
            "4\n",
            "8\n",
            "12\n",
            "16\n",
            "20\n",
            "24\n",
            "28\n",
            "32\n",
            "36\n",
            "40\n",
            "5\n",
            "10\n",
            "15\n",
            "20\n",
            "25\n",
            "30\n",
            "35\n",
            "40\n",
            "45\n",
            "50\n"
          ]
        }
      ]
    },
    {
      "cell_type": "code",
      "source": [
        "\n",
        "a=0\n",
        "for num in range(2,8):\n",
        "  for i in range(2,num):\n",
        "    if(num%i==0):\n",
        "      a=1\n",
        "      break\n",
        "  if(a==0):\n",
        "    print(\"prime\",num)\n",
        "  else:\n",
        "    print(\"not prime\",num)\n"
      ],
      "metadata": {
        "colab": {
          "base_uri": "https://localhost:8080/"
        },
        "id": "wwzu6v0D-WYJ",
        "outputId": "b7da0319-4070-44e9-ad29-4bc9f227b364"
      },
      "execution_count": 15,
      "outputs": [
        {
          "output_type": "stream",
          "name": "stdout",
          "text": [
            "prime 2\n",
            "prime 3\n",
            "not prime 4\n",
            "not prime 5\n",
            "not prime 6\n",
            "not prime 7\n"
          ]
        }
      ]
    },
    {
      "cell_type": "code",
      "source": [
        "for num in range(400,451):\n",
        "  total=0\n",
        "  orignal=num\n",
        "  while(num>0):\n",
        "    rem=num%10\n",
        "    num=num//10\n",
        "    total=total+rem\n",
        "  print(\"total=>\",orignal,total)"
      ],
      "metadata": {
        "colab": {
          "base_uri": "https://localhost:8080/"
        },
        "id": "bEmFF7iDA_ma",
        "outputId": "2a7ee0e3-da69-4e1e-b025-ecc804307c85"
      },
      "execution_count": 16,
      "outputs": [
        {
          "output_type": "stream",
          "name": "stdout",
          "text": [
            "total=> 400 4\n",
            "total=> 401 5\n",
            "total=> 402 6\n",
            "total=> 403 7\n",
            "total=> 404 8\n",
            "total=> 405 9\n",
            "total=> 406 10\n",
            "total=> 407 11\n",
            "total=> 408 12\n",
            "total=> 409 13\n",
            "total=> 410 5\n",
            "total=> 411 6\n",
            "total=> 412 7\n",
            "total=> 413 8\n",
            "total=> 414 9\n",
            "total=> 415 10\n",
            "total=> 416 11\n",
            "total=> 417 12\n",
            "total=> 418 13\n",
            "total=> 419 14\n",
            "total=> 420 6\n",
            "total=> 421 7\n",
            "total=> 422 8\n",
            "total=> 423 9\n",
            "total=> 424 10\n",
            "total=> 425 11\n",
            "total=> 426 12\n",
            "total=> 427 13\n",
            "total=> 428 14\n",
            "total=> 429 15\n",
            "total=> 430 7\n",
            "total=> 431 8\n",
            "total=> 432 9\n",
            "total=> 433 10\n",
            "total=> 434 11\n",
            "total=> 435 12\n",
            "total=> 436 13\n",
            "total=> 437 14\n",
            "total=> 438 15\n",
            "total=> 439 16\n",
            "total=> 440 8\n",
            "total=> 441 9\n",
            "total=> 442 10\n",
            "total=> 443 11\n",
            "total=> 444 12\n",
            "total=> 445 13\n",
            "total=> 446 14\n",
            "total=> 447 15\n",
            "total=> 448 16\n",
            "total=> 449 17\n",
            "total=> 450 9\n"
          ]
        }
      ]
    },
    {
      "cell_type": "code",
      "source": [
        "for num in range(150,401):\n",
        "  orignal=num\n",
        "  total=0\n",
        "  while(num>0):\n",
        "    rem=num%10\n",
        "    total=total+rem**3\n",
        "    num=num//10\n",
        "\n",
        "  if(orignal==total):\n",
        "    print(\"arrmstrong\",orignal)"
      ],
      "metadata": {
        "colab": {
          "base_uri": "https://localhost:8080/"
        },
        "id": "fF99obKkDG1o",
        "outputId": "6cd39099-3300-4e3f-daa6-6fbcf02be692"
      },
      "execution_count": 23,
      "outputs": [
        {
          "output_type": "stream",
          "name": "stdout",
          "text": [
            "arrmstrong 153\n",
            "arrmstrong 370\n",
            "arrmstrong 371\n"
          ]
        }
      ]
    },
    {
      "cell_type": "code",
      "source": [
        "for i in range(1,4):\n",
        "  print(\"student\",i)\n",
        "  for j in range(1,5):\n",
        "    print(\"subject\",j,end=\" \")\n",
        "  print(\" \")"
      ],
      "metadata": {
        "colab": {
          "base_uri": "https://localhost:8080/"
        },
        "id": "36F_8CbgEvs-",
        "outputId": "1795a907-5dd0-4019-bfe8-dded48409849"
      },
      "execution_count": 24,
      "outputs": [
        {
          "output_type": "stream",
          "name": "stdout",
          "text": [
            "student 1\n",
            "subject 1 subject 2 subject 3 subject 4  \n",
            "student 2\n",
            "subject 1 subject 2 subject 3 subject 4  \n",
            "student 3\n",
            "subject 1 subject 2 subject 3 subject 4  \n"
          ]
        }
      ]
    },
    {
      "cell_type": "code",
      "source": [
        "for i in range(1,5):\n",
        "  for j in range(1,5):\n",
        "    print(\"*\",end=\" \")\n",
        "  print(\" \")"
      ],
      "metadata": {
        "colab": {
          "base_uri": "https://localhost:8080/"
        },
        "id": "aTq8bEZOK4yq",
        "outputId": "559ca9b1-5501-49ce-99a0-c98880f3dbbb"
      },
      "execution_count": 27,
      "outputs": [
        {
          "output_type": "stream",
          "name": "stdout",
          "text": [
            "* * * *  \n",
            "* * * *  \n",
            "* * * *  \n",
            "* * * *  \n"
          ]
        }
      ]
    },
    {
      "cell_type": "code",
      "source": [
        "for i in range(1,5):\n",
        "  for j in range(1,5):\n",
        "    print(j,end=\" \")\n",
        "  print(\" \")"
      ],
      "metadata": {
        "colab": {
          "base_uri": "https://localhost:8080/"
        },
        "id": "CNqrXkB5LQFA",
        "outputId": "1a4da04c-8f04-45fb-c69a-d473fa669dfd"
      },
      "execution_count": 29,
      "outputs": [
        {
          "output_type": "stream",
          "name": "stdout",
          "text": [
            "1 2 3 4  \n",
            "1 2 3 4  \n",
            "1 2 3 4  \n",
            "1 2 3 4  \n"
          ]
        }
      ]
    },
    {
      "cell_type": "code",
      "source": [
        "for i in range(1,5):\n",
        "  for j in range(1,5):\n",
        "    print(i,end=\" \")\n",
        "  print(\" \")"
      ],
      "metadata": {
        "colab": {
          "base_uri": "https://localhost:8080/"
        },
        "id": "yDzBZBwyMNva",
        "outputId": "95f04445-4a64-4909-8468-4d7801e702c9"
      },
      "execution_count": 32,
      "outputs": [
        {
          "output_type": "stream",
          "name": "stdout",
          "text": [
            "1 1 1 1  \n",
            "2 2 2 2  \n",
            "3 3 3 3  \n",
            "4 4 4 4  \n"
          ]
        }
      ]
    },
    {
      "cell_type": "code",
      "source": [
        "for i in range(3,0,-1):\n",
        "  for j in range(1,5):\n",
        "    print(i,end=\" \")\n",
        "  print(\" \")"
      ],
      "metadata": {
        "colab": {
          "base_uri": "https://localhost:8080/"
        },
        "id": "GjyWz88vMet8",
        "outputId": "62ac8b09-9c92-49ed-b335-efb60c91a7a4"
      },
      "execution_count": 41,
      "outputs": [
        {
          "output_type": "stream",
          "name": "stdout",
          "text": [
            "3 3 3 3  \n",
            "2 2 2 2  \n",
            "1 1 1 1  \n"
          ]
        }
      ]
    },
    {
      "cell_type": "code",
      "source": [
        "x=3\n",
        "for i in range(1,4):\n",
        "  for j in range(1,5):\n",
        "    print(x,end=\" \")\n",
        "  x=x-1\n",
        "  print(\" \")"
      ],
      "metadata": {
        "colab": {
          "base_uri": "https://localhost:8080/"
        },
        "id": "OQ2s_vExMyN4",
        "outputId": "1e521c24-c5fd-4163-9c51-824d9b36ccf6"
      },
      "execution_count": 42,
      "outputs": [
        {
          "output_type": "stream",
          "name": "stdout",
          "text": [
            "3 3 3 3  \n",
            "2 2 2 2  \n",
            "1 1 1 1  \n"
          ]
        }
      ]
    },
    {
      "cell_type": "code",
      "source": [
        "x=9\n",
        "for i in range(1,4):\n",
        "  for j in range(1,4):\n",
        "    print(x,end=\" \")\n",
        "    x=x-1\n",
        "  print(\" \")"
      ],
      "metadata": {
        "colab": {
          "base_uri": "https://localhost:8080/"
        },
        "id": "LcDv4aQiNzEb",
        "outputId": "12a6a0a3-f56c-4baa-ed21-2d0d6afed66f"
      },
      "execution_count": 47,
      "outputs": [
        {
          "output_type": "stream",
          "name": "stdout",
          "text": [
            "9 8 7  \n",
            "6 5 4  \n",
            "3 2 1  \n"
          ]
        }
      ]
    },
    {
      "cell_type": "code",
      "source": [
        "x=1\n",
        "for i in range(1,4):\n",
        "  for j in range(1,4):\n",
        "    print(x,end=\" \")\n",
        "    x=x+1\n",
        "  print(\" \")"
      ],
      "metadata": {
        "colab": {
          "base_uri": "https://localhost:8080/"
        },
        "id": "hwWDj6GFOLou",
        "outputId": "fcd5d477-3e17-4f3b-d0b5-89e71d29e920"
      },
      "execution_count": 48,
      "outputs": [
        {
          "output_type": "stream",
          "name": "stdout",
          "text": [
            "1 2 3  \n",
            "4 5 6  \n",
            "7 8 9  \n"
          ]
        }
      ]
    },
    {
      "cell_type": "code",
      "source": [
        "\n",
        "for i in range(1,4):\n",
        "  x=2\n",
        "  for j in range(1,4):\n",
        "    print(x,end=\" \")\n",
        "    x=x+1\n",
        "  print(\" \")"
      ],
      "metadata": {
        "colab": {
          "base_uri": "https://localhost:8080/"
        },
        "id": "Rwg3T1UCOo-M",
        "outputId": "47305b3c-33c9-4b0c-8484-60c2a0257639"
      },
      "execution_count": 49,
      "outputs": [
        {
          "output_type": "stream",
          "name": "stdout",
          "text": [
            "2 3 4  \n",
            "2 3 4  \n",
            "2 3 4  \n"
          ]
        }
      ]
    },
    {
      "cell_type": "code",
      "source": [
        "for i in range(1,6):\n",
        "  for j in range(1,i+1):\n",
        "    print(\"*\" ,end=\" \")\n",
        "  print(\" \")"
      ],
      "metadata": {
        "colab": {
          "base_uri": "https://localhost:8080/"
        },
        "id": "lhW9lYZ-PKFl",
        "outputId": "6d466bad-803a-4d89-8641-7a895600984c"
      },
      "execution_count": 2,
      "outputs": [
        {
          "output_type": "stream",
          "name": "stdout",
          "text": [
            "*  \n",
            "* *  \n",
            "* * *  \n",
            "* * * *  \n",
            "* * * * *  \n"
          ]
        }
      ]
    },
    {
      "cell_type": "code",
      "source": [
        "for i in range(1,6):\n",
        "  for j in range(1,i+1):\n",
        "    print(5 ,end=\" \")\n",
        "  print(\" \")"
      ],
      "metadata": {
        "colab": {
          "base_uri": "https://localhost:8080/"
        },
        "id": "EWFd1bHk8qxn",
        "outputId": "c698a0d9-df6f-4ec0-e105-b2a879ce109f"
      },
      "execution_count": 3,
      "outputs": [
        {
          "output_type": "stream",
          "name": "stdout",
          "text": [
            "5  \n",
            "5 5  \n",
            "5 5 5  \n",
            "5 5 5 5  \n",
            "5 5 5 5 5  \n"
          ]
        }
      ]
    },
    {
      "cell_type": "code",
      "source": [
        "for i in range(1,4):\n",
        "  for j in range(1,i+1):\n",
        "    print(j ,end=\" \")\n",
        "  print(\" \")"
      ],
      "metadata": {
        "colab": {
          "base_uri": "https://localhost:8080/"
        },
        "id": "--KOMl3f-P0j",
        "outputId": "a6d3eb65-76d5-4541-bfd0-8c57734d7c44"
      },
      "execution_count": 8,
      "outputs": [
        {
          "output_type": "stream",
          "name": "stdout",
          "text": [
            "1  \n",
            "1 2  \n",
            "1 2 3  \n"
          ]
        }
      ]
    },
    {
      "cell_type": "code",
      "source": [
        "num=7\n",
        "for i in range(1,4):\n",
        "  for j in range(1,i+1):\n",
        "    print(num ,end=\" \")\n",
        "    num=num+1\n",
        "  print(\" \")"
      ],
      "metadata": {
        "colab": {
          "base_uri": "https://localhost:8080/"
        },
        "id": "7bBZ6lNO-nDq",
        "outputId": "242c3e86-10f7-4bb3-afe5-e0af8475e11b"
      },
      "execution_count": 10,
      "outputs": [
        {
          "output_type": "stream",
          "name": "stdout",
          "text": [
            "7  \n",
            "8 9  \n",
            "10 11 12  \n"
          ]
        }
      ]
    },
    {
      "cell_type": "code",
      "source": [
        "num=7\n",
        "for i in range(1,4):\n",
        "  for j in range(1,i+1):\n",
        "    print(num ,end=\" \")\n",
        "    num=num-1\n",
        "  print(\" \")"
      ],
      "metadata": {
        "colab": {
          "base_uri": "https://localhost:8080/"
        },
        "id": "VoaacP9R-966",
        "outputId": "4f245deb-8268-4a96-f88e-beaa669ec9f5"
      },
      "execution_count": 11,
      "outputs": [
        {
          "output_type": "stream",
          "name": "stdout",
          "text": [
            "7  \n",
            "6 5  \n",
            "4 3 2  \n"
          ]
        }
      ]
    },
    {
      "cell_type": "code",
      "source": [
        "num=7\n",
        "for i in range(1,5):\n",
        "  for j in range(1,i+1):\n",
        "    print(j,end=\" \")\n",
        "    num=num-1\n",
        "  print(\" \")"
      ],
      "metadata": {
        "colab": {
          "base_uri": "https://localhost:8080/"
        },
        "id": "W8FWsGRo_FyQ",
        "outputId": "babbc273-053d-4cb3-9745-fff666dab411"
      },
      "execution_count": 13,
      "outputs": [
        {
          "output_type": "stream",
          "name": "stdout",
          "text": [
            "1  \n",
            "1 2  \n",
            "1 2 3  \n",
            "1 2 3 4  \n"
          ]
        }
      ]
    },
    {
      "cell_type": "code",
      "source": [
        "num=7\n",
        "for i in range(1,5):\n",
        "  for j in range(1,i+1):\n",
        "    print(i,end=\" \")\n",
        "    num=num-1\n",
        "  print(\" \")"
      ],
      "metadata": {
        "colab": {
          "base_uri": "https://localhost:8080/"
        },
        "id": "dG-pc2Qf_P7G",
        "outputId": "5b6bdc71-1c60-4c97-a6e9-2899742689c5"
      },
      "execution_count": 14,
      "outputs": [
        {
          "output_type": "stream",
          "name": "stdout",
          "text": [
            "1  \n",
            "2 2  \n",
            "3 3 3  \n",
            "4 4 4 4  \n"
          ]
        }
      ]
    },
    {
      "cell_type": "code",
      "source": [
        "num=7\n",
        "for i in range(1,5):\n",
        "  for j in range(i,i-1):\n",
        "    print(i,end=\" \")\n",
        "    num=num-1\n",
        "  print(\" \")"
      ],
      "metadata": {
        "colab": {
          "base_uri": "https://localhost:8080/"
        },
        "id": "uo4NeT_t_kCY",
        "outputId": "ade48176-2901-4375-9e77-e2dba16ccdfb"
      },
      "execution_count": 17,
      "outputs": [
        {
          "output_type": "stream",
          "name": "stdout",
          "text": [
            " \n",
            " \n",
            " \n",
            " \n"
          ]
        }
      ]
    },
    {
      "cell_type": "code",
      "source": [
        "num=1\n",
        "for i in range(1,5):\n",
        "  for j in range(1,i+1):\n",
        "    print(num,end=\" \")\n",
        "    num=num+1\n",
        "  print(\" \")"
      ],
      "metadata": {
        "colab": {
          "base_uri": "https://localhost:8080/"
        },
        "id": "tz7UbajR_ru-",
        "outputId": "59106e16-2c6e-4f81-8e4f-223661979640"
      },
      "execution_count": 19,
      "outputs": [
        {
          "output_type": "stream",
          "name": "stdout",
          "text": [
            "1  \n",
            "2 3  \n",
            "4 5 6  \n",
            "7 8 9 10  \n"
          ]
        }
      ]
    },
    {
      "cell_type": "code",
      "source": [
        "for i in range(4,0,-1):\n",
        "  for i in range(i):\n",
        "    print(\"*\",end=\"\")\n",
        "  print(\" \")"
      ],
      "metadata": {
        "colab": {
          "base_uri": "https://localhost:8080/"
        },
        "id": "SZU7K4Zx_7GA",
        "outputId": "7f88c4c8-6343-4a59-c8e5-933ece0845b8"
      },
      "execution_count": 27,
      "outputs": [
        {
          "output_type": "stream",
          "name": "stdout",
          "text": [
            "**** \n",
            "*** \n",
            "** \n",
            "* \n"
          ]
        }
      ]
    },
    {
      "cell_type": "code",
      "source": [
        "num=1\n",
        "for i in range(4,0,-1):\n",
        "  for i in range(i):\n",
        "    print(num,end=\" \")\n",
        "    num=num+1\n",
        "  print(\" \")"
      ],
      "metadata": {
        "colab": {
          "base_uri": "https://localhost:8080/"
        },
        "id": "HsTH4sdOAhko",
        "outputId": "0a7bd4b7-61ce-43b7-9f37-1c9f62a15e5e"
      },
      "execution_count": 34,
      "outputs": [
        {
          "output_type": "stream",
          "name": "stdout",
          "text": [
            "1 2 3 4  \n",
            "5 6 7  \n",
            "8 9  \n",
            "10  \n"
          ]
        }
      ]
    },
    {
      "cell_type": "code",
      "source": [
        "\n",
        "for i in range(4,0,-1):\n",
        "  num=4\n",
        "  for i in range(i):\n",
        "    print(num,end=\" \")\n",
        "    num=num-1\n",
        "  print(\" \")"
      ],
      "metadata": {
        "colab": {
          "base_uri": "https://localhost:8080/"
        },
        "id": "yfJnWIzJBQYA",
        "outputId": "1c65e726-e65a-4b59-9fbb-1e24369acb88"
      },
      "execution_count": 48,
      "outputs": [
        {
          "output_type": "stream",
          "name": "stdout",
          "text": [
            "4 3 2 1  \n",
            "4 3 2  \n",
            "4 3  \n",
            "4  \n"
          ]
        }
      ]
    },
    {
      "cell_type": "code",
      "source": [
        "for i in range(4,0,-1):\n",
        "  num=1\n",
        "  for i in range(i):\n",
        "    print(num,end=\" \")\n",
        "    num=num+1\n",
        "  print(\" \")"
      ],
      "metadata": {
        "colab": {
          "base_uri": "https://localhost:8080/"
        },
        "id": "uaUhXD1mCEik",
        "outputId": "d669a5a8-e3e2-48f4-8259-ed981f81a69f"
      },
      "execution_count": 51,
      "outputs": [
        {
          "output_type": "stream",
          "name": "stdout",
          "text": [
            "1 2 3 4  \n",
            "1 2 3  \n",
            "1 2  \n",
            "1  \n"
          ]
        }
      ]
    },
    {
      "cell_type": "code",
      "source": [
        "\n",
        "num=1\n",
        "for i in range(1,5):\n",
        "  for i in range(1,i-1):\n",
        "    print(j,end=\" \")\n",
        "  print(\" \")"
      ],
      "metadata": {
        "colab": {
          "base_uri": "https://localhost:8080/"
        },
        "id": "yO4-2rAQDJ16",
        "outputId": "a59cefa3-dca1-4bba-8e5d-bd602db75def"
      },
      "execution_count": 62,
      "outputs": [
        {
          "output_type": "stream",
          "name": "stdout",
          "text": [
            " \n",
            " \n",
            "4  \n",
            "4 4  \n"
          ]
        }
      ]
    },
    {
      "cell_type": "code",
      "source": [
        "for i in range(1,4):\n",
        "  num=65\n",
        "  for j in range(1,i+1):\n",
        "    print(chr(num),end=\" \")\n",
        "    num=num+1\n",
        "  print(\" \")"
      ],
      "metadata": {
        "colab": {
          "base_uri": "https://localhost:8080/"
        },
        "id": "ok8EklwpEMMl",
        "outputId": "53ad6fc7-dd9d-4fff-d0ae-1f1d7e1c4575"
      },
      "execution_count": 74,
      "outputs": [
        {
          "output_type": "stream",
          "name": "stdout",
          "text": [
            "A  \n",
            "A B  \n",
            "A B C  \n"
          ]
        }
      ]
    },
    {
      "cell_type": "code",
      "source": [
        "for i in range(1,5):\n",
        "  num=65\n",
        "  for j in range(i,5):\n",
        "    print(chr(num),end=\" \")\n",
        "    num=num+1\n",
        "  print(\" \")"
      ],
      "metadata": {
        "colab": {
          "base_uri": "https://localhost:8080/"
        },
        "id": "AwSr89nVFaiY",
        "outputId": "df7b8b82-afa4-4e67-9edb-45954eaa0194"
      },
      "execution_count": 76,
      "outputs": [
        {
          "output_type": "stream",
          "name": "stdout",
          "text": [
            "A B C D  \n",
            "A B C  \n",
            "A B  \n",
            "A  \n"
          ]
        }
      ]
    },
    {
      "cell_type": "code",
      "source": [
        "for i in range(1,5):\n",
        "  for i in range(i,4):\n",
        "    print(\"-\",end=\"\")\n",
        "  print(\" \")"
      ],
      "metadata": {
        "colab": {
          "base_uri": "https://localhost:8080/"
        },
        "id": "_8UoglFzG2AP",
        "outputId": "c2cb1cc4-8c29-4022-b2cb-9c5d9c170aeb"
      },
      "execution_count": 77,
      "outputs": [
        {
          "output_type": "stream",
          "name": "stdout",
          "text": [
            "--- \n",
            "-- \n",
            "- \n",
            " \n"
          ]
        }
      ]
    },
    {
      "cell_type": "code",
      "source": [
        "for i in range(1,5):\n",
        "  for i in range(1,5-i):\n",
        "    print(\"-\",end=\"\")\n",
        "  print(\" \")"
      ],
      "metadata": {
        "colab": {
          "base_uri": "https://localhost:8080/"
        },
        "id": "cO1M5Y44JVmx",
        "outputId": "c0cc6492-8abc-4cee-f16f-a6e607fc1394"
      },
      "execution_count": 79,
      "outputs": [
        {
          "output_type": "stream",
          "name": "stdout",
          "text": [
            "--- \n",
            "-- \n",
            "- \n",
            " \n"
          ]
        }
      ]
    },
    {
      "cell_type": "code",
      "source": [
        "for i in range(1,5):\n",
        "  for i in range(1,i+1):\n",
        "    print(\"*\",end=\"\")\n",
        "  print(\" \")"
      ],
      "metadata": {
        "colab": {
          "base_uri": "https://localhost:8080/"
        },
        "id": "ZlXjdVBXJmpQ",
        "outputId": "e45243b4-efcb-4895-c14d-a7d91bdd01d6"
      },
      "execution_count": 80,
      "outputs": [
        {
          "output_type": "stream",
          "name": "stdout",
          "text": [
            "* \n",
            "** \n",
            "*** \n",
            "**** \n"
          ]
        }
      ]
    },
    {
      "cell_type": "code",
      "source": [],
      "metadata": {
        "colab": {
          "base_uri": "https://localhost:8080/"
        },
        "id": "gKXQDKVfJ2VN",
        "outputId": "06d5478c-4d7b-407d-b662-0b86a72d615d"
      },
      "execution_count": 84,
      "outputs": [
        {
          "output_type": "stream",
          "name": "stdout",
          "text": [
            "---*** \n",
            "--** \n",
            "-* \n",
            "**** \n"
          ]
        }
      ]
    },
    {
      "cell_type": "code",
      "source": [
        "for i in range(1,5):\n",
        "  for j in range(1,5-i):\n",
        "    print(\"-\",end=\"\")\n",
        "  for j in range(1,i+1):\n",
        "    print(\"*\",end=\" \")\n",
        "\n",
        "  print(\" \")"
      ],
      "metadata": {
        "colab": {
          "base_uri": "https://localhost:8080/"
        },
        "id": "q2O7HpyMJ-GS",
        "outputId": "c9f7a929-c186-4a85-d79b-0d749b1d3c04"
      },
      "execution_count": 88,
      "outputs": [
        {
          "output_type": "stream",
          "name": "stdout",
          "text": [
            "---* \n",
            "--** \n",
            "-*** \n",
            "**** \n"
          ]
        }
      ]
    },
    {
      "cell_type": "code",
      "source": [
        "for i in range(1,5):\n",
        "  for j in range(1,5-i):\n",
        "    print(\" \",end=\"\")\n",
        "  for j in range(1,i+1):\n",
        "    print(\"*\",end=\" \")\n",
        "\n",
        "  print(\" \")"
      ],
      "metadata": {
        "colab": {
          "base_uri": "https://localhost:8080/"
        },
        "id": "B3rtp0TJKt4R",
        "outputId": "1a42a0c4-3a88-4d30-8703-10feba2d66ba"
      },
      "execution_count": 91,
      "outputs": [
        {
          "output_type": "stream",
          "name": "stdout",
          "text": [
            "   *  \n",
            "  * *  \n",
            " * * *  \n",
            "* * * *  \n"
          ]
        }
      ]
    },
    {
      "cell_type": "code",
      "source": [
        "for i in range(1,5):\n",
        "  for j in range(0,i-1):\n",
        "    print(\"-\",end=\" \")\n",
        "  for j in range(5-i):\n",
        "    print(\"*\",end=\" \")\n",
        "\n",
        "  print(\" \")"
      ],
      "metadata": {
        "colab": {
          "base_uri": "https://localhost:8080/"
        },
        "id": "T3eaync6Lb0M",
        "outputId": "01f47dbf-2ca5-4027-9ce5-273ef857420b"
      },
      "execution_count": 102,
      "outputs": [
        {
          "output_type": "stream",
          "name": "stdout",
          "text": [
            "* * * *  \n",
            "- * * *  \n",
            "- - * *  \n",
            "- - - *  \n"
          ]
        }
      ]
    },
    {
      "cell_type": "code",
      "source": [
        "for i in range(1,5):\n",
        "  for j in range(1,i):\n",
        "    print(\"-\",end=\" \")\n",
        "  for k in range(i,5):\n",
        "    print(\"*\",end=\" \")\n",
        "\n",
        "  print(\" \")"
      ],
      "metadata": {
        "colab": {
          "base_uri": "https://localhost:8080/"
        },
        "id": "REexZsbpMQb7",
        "outputId": "7cac049a-c73d-4481-cd9f-b05f4aa16cf8"
      },
      "execution_count": 101,
      "outputs": [
        {
          "output_type": "stream",
          "name": "stdout",
          "text": [
            "* * * *  \n",
            "- * * *  \n",
            "- - * *  \n",
            "- - - *  \n"
          ]
        }
      ]
    },
    {
      "cell_type": "code",
      "source": [
        "for i in range(1,6):\n",
        "  for j in range(1,i+1):\n",
        "    print(\"*\",end=\" \")\n",
        "  print(\" \")"
      ],
      "metadata": {
        "colab": {
          "base_uri": "https://localhost:8080/"
        },
        "id": "lyYb08W5NrVi",
        "outputId": "785f1dce-03b3-487d-ef6a-0ec6ae2f5a59"
      },
      "execution_count": 105,
      "outputs": [
        {
          "output_type": "stream",
          "name": "stdout",
          "text": [
            "*  \n",
            "* *  \n",
            "* * *  \n",
            "* * * *  \n",
            "* * * * *  \n"
          ]
        }
      ]
    },
    {
      "cell_type": "code",
      "source": [
        "for i in range(1,6):\n",
        "  for j in range(1,i+1):\n",
        "    if(j==1 or i==5 or i==j):\n",
        "     print(\"*\",end=\" \")\n",
        "    else:\n",
        "      print(\" \",end=\" \")\n",
        "  print(\" \")"
      ],
      "metadata": {
        "colab": {
          "base_uri": "https://localhost:8080/"
        },
        "id": "Lxsu6qdJOoH_",
        "outputId": "dad314d4-5dc6-498a-885e-bacdc2d23a92"
      },
      "execution_count": 106,
      "outputs": [
        {
          "output_type": "stream",
          "name": "stdout",
          "text": [
            "*  \n",
            "* *  \n",
            "*   *  \n",
            "*     *  \n",
            "* * * * *  \n"
          ]
        }
      ]
    },
    {
      "cell_type": "code",
      "source": [
        "for i in range(1,6):\n",
        "  for j in range(1,i+1):\n",
        "    if(j==1 or i==5 or i==j):\n",
        "     print(\"*\",end=\" \")\n",
        "    else:\n",
        "      print(\" \",end=\" \")\n",
        "  print(\" \")"
      ],
      "metadata": {
        "colab": {
          "base_uri": "https://localhost:8080/"
        },
        "id": "-0a-bez1Qima",
        "outputId": "1c2ae8d1-452b-4cf0-86b6-ee868475d03b"
      },
      "execution_count": 113,
      "outputs": [
        {
          "output_type": "stream",
          "name": "stdout",
          "text": [
            "*  \n",
            "* *  \n",
            "*   *  \n",
            "*     *  \n",
            "* * * * *  \n"
          ]
        }
      ]
    },
    {
      "cell_type": "code",
      "source": [
        "for i in range(1,7):\n",
        "  for j in range(i,7):\n",
        "    if(j==1 or i==6 or i==j):\n",
        "     print(\"*\",end=\" \")\n",
        "    else:\n",
        "      print(\" \",end=\" \")\n",
        "  print(\" \")"
      ],
      "metadata": {
        "colab": {
          "base_uri": "https://localhost:8080/"
        },
        "id": "vtOR8_ncTnbA",
        "outputId": "53ec8ab8-c4dd-4116-9c07-fe6ccf53777f"
      },
      "execution_count": 115,
      "outputs": [
        {
          "output_type": "stream",
          "name": "stdout",
          "text": [
            "*            \n",
            "*          \n",
            "*        \n",
            "*      \n",
            "*    \n",
            "*  \n"
          ]
        }
      ]
    },
    {
      "cell_type": "code",
      "source": [
        "for i in range(1,5):\n",
        "  for j in range(1,5-i):\n",
        "    print(\" \",end=\"\")\n",
        "  for j in range(1,i+1):\n",
        "    print(\"*\",end=\" \")\n",
        "  print(\" \")\n"
      ],
      "metadata": {
        "colab": {
          "base_uri": "https://localhost:8080/"
        },
        "id": "CYwd0M-8Sjkl",
        "outputId": "f048a5e0-b00e-44c1-af80-44543860a36a"
      },
      "execution_count": 117,
      "outputs": [
        {
          "output_type": "stream",
          "name": "stdout",
          "text": [
            "   *  \n",
            "  * *  \n",
            " * * *  \n",
            "* * * *  \n"
          ]
        }
      ]
    },
    {
      "cell_type": "code",
      "source": [
        "for i in range(1,5):\n",
        "  for j in range(0,i-1):\n",
        "    print(\" \",end=\" \")\n",
        "  for j in range(5-i):\n",
        "    print(\"*\",end=\" \")\n",
        "\n",
        "  print(\" \")"
      ],
      "metadata": {
        "colab": {
          "base_uri": "https://localhost:8080/"
        },
        "id": "HXkCRqb3UeEa",
        "outputId": "ee3e78e2-943d-4a81-fef9-fcf4e2c10187"
      },
      "execution_count": 119,
      "outputs": [
        {
          "output_type": "stream",
          "name": "stdout",
          "text": [
            "* * * *  \n",
            "  * * *  \n",
            "    * *  \n",
            "      *  \n"
          ]
        }
      ]
    },
    {
      "cell_type": "code",
      "source": [
        "for i in range(1,5):\n",
        "  for j in range(i,4):\n",
        "    print(\"_\",end=\"\")\n",
        "  for j in range(1,i+1):\n",
        "    print(\"*\",end=\" \")\n",
        "  print(\"\")"
      ],
      "metadata": {
        "colab": {
          "base_uri": "https://localhost:8080/"
        },
        "id": "5vCT4UifU6_b",
        "outputId": "e4a222a7-1b18-4c2c-9704-1cb1e858b7cb"
      },
      "execution_count": 120,
      "outputs": [
        {
          "output_type": "stream",
          "name": "stdout",
          "text": [
            "___* \n",
            "__* * \n",
            "_* * * \n",
            "* * * * \n"
          ]
        }
      ]
    },
    {
      "cell_type": "code",
      "source": [
        "for i in range(1,5):\n",
        "  for j in range(i,4):\n",
        "    print(\"-\",end=\"\")\n",
        "  for k in range(1,i+1):\n",
        "    print(\"*\",end=\" \")\n",
        "  print(\" \")"
      ],
      "metadata": {
        "colab": {
          "base_uri": "https://localhost:8080/"
        },
        "id": "W5dSXCbEWxDy",
        "outputId": "c143ff44-9956-45ad-c643-269795196552"
      },
      "execution_count": 4,
      "outputs": [
        {
          "output_type": "stream",
          "name": "stdout",
          "text": [
            "---*  \n",
            "--* *  \n",
            "-* * *  \n",
            "* * * *  \n"
          ]
        }
      ]
    },
    {
      "cell_type": "code",
      "source": [
        "for i in range(1,5):\n",
        "  for j in  range(1,i):\n",
        "    print(\"-\",end=\"\")\n",
        "  for k in range(i,5):\n",
        "    print(\"*\",end=\" \")\n",
        "  print(\" \")"
      ],
      "metadata": {
        "colab": {
          "base_uri": "https://localhost:8080/"
        },
        "id": "wKyFQEwVuV1a",
        "outputId": "c15d2274-3360-4177-b568-22efe5be703e"
      },
      "execution_count": 12,
      "outputs": [
        {
          "output_type": "stream",
          "name": "stdout",
          "text": [
            "* * * *  \n",
            "-* * *  \n",
            "--* *  \n",
            "---*  \n"
          ]
        }
      ]
    },
    {
      "cell_type": "code",
      "source": [
        "num=1\n",
        "for i in range(1,5):\n",
        "  for j in  range(1,i):\n",
        "    print(\"-\",end=\"\")\n",
        "  for k in range(i,5):\n",
        "    print(num,end=\" \")\n",
        "    num=num+1\n",
        "  print(\" \")"
      ],
      "metadata": {
        "colab": {
          "base_uri": "https://localhost:8080/"
        },
        "id": "srvOFcqYwAJd",
        "outputId": "62c673fa-d747-41d1-dff9-c211117fa679"
      },
      "execution_count": 16,
      "outputs": [
        {
          "output_type": "stream",
          "name": "stdout",
          "text": [
            "1 2 3 4  \n",
            "-5 6 7  \n",
            "--8 9  \n",
            "---10  \n"
          ]
        }
      ]
    },
    {
      "cell_type": "code",
      "source": [
        "num=1\n",
        "for i in range(1,5):\n",
        "  for j in  range(1,i):\n",
        "    print(\"-\",end=\"\")\n",
        "  for k in range(i,5):\n",
        "    print(num,end=\" \")\n",
        "    num=num+1\n",
        "  print(\" \")"
      ],
      "metadata": {
        "id": "0RB7zlnXxnXR"
      },
      "execution_count": null,
      "outputs": []
    },
    {
      "cell_type": "code",
      "source": [
        "for k  in range(3,0,-1):\n",
        "  for l in range(i):\n",
        "    print(\"*\",end=\" \")\n",
        "  print(\" \")"
      ],
      "metadata": {
        "colab": {
          "base_uri": "https://localhost:8080/"
        },
        "id": "04Xz7ic3LAiN",
        "outputId": "c4959184-741b-432c-d83a-218c7a39bc45"
      },
      "execution_count": 30,
      "outputs": [
        {
          "output_type": "stream",
          "name": "stdout",
          "text": [
            "* * *  \n",
            "* *  \n",
            "*  \n"
          ]
        }
      ]
    },
    {
      "cell_type": "code",
      "source": [
        "# list\n",
        "\n"
      ],
      "metadata": {
        "id": "30DZcOzbNSyx"
      },
      "execution_count": null,
      "outputs": []
    },
    {
      "cell_type": "code",
      "source": [
        "my_list=[10,20,30,67,10,2,6,8,15,1,2,3,4,5,6,44]\n",
        "new_list=[]\n",
        "for i in range(0,len(my_list)):\n",
        "  if(my_list[i]>10):\n",
        "    print(my_list[i])"
      ],
      "metadata": {
        "colab": {
          "base_uri": "https://localhost:8080/"
        },
        "id": "XFmVphVPQTCD",
        "outputId": "6ea657d9-8347-4ba0-f881-4781e4a8f1a2"
      },
      "execution_count": 37,
      "outputs": [
        {
          "output_type": "stream",
          "name": "stdout",
          "text": [
            "20\n",
            "30\n",
            "67\n",
            "15\n",
            "44\n"
          ]
        }
      ]
    },
    {
      "cell_type": "code",
      "source": [
        "my_list = [10, 20, 30, \"hey\", \"naina\", 10, \"29\"]\n",
        "\n",
        "for i in range(len(my_list)):\n",
        "    if type(my_list[i]) == int:\n",
        "        print(my_list[i])\n"
      ],
      "metadata": {
        "colab": {
          "base_uri": "https://localhost:8080/"
        },
        "id": "v2Ax1xCtSpeN",
        "outputId": "48387609-cc60-4368-94dc-460eaa51f402"
      },
      "execution_count": 39,
      "outputs": [
        {
          "output_type": "stream",
          "name": "stdout",
          "text": [
            "10\n",
            "20\n",
            "30\n",
            "10\n"
          ]
        }
      ]
    },
    {
      "cell_type": "code",
      "source": [
        "my_list=[10,20,30,15,6,7,8,999]\n",
        "max=my_list[0]\n",
        "for i in range(0,len(my_list)):\n",
        "  if(my_list[i]>0):\n",
        "    max=my_list[i]\n",
        "print(max)\n"
      ],
      "metadata": {
        "colab": {
          "base_uri": "https://localhost:8080/"
        },
        "id": "SP9I2TOnSfYI",
        "outputId": "69148e9f-5240-470c-f457-1ebf57ddd9f9"
      },
      "execution_count": 44,
      "outputs": [
        {
          "output_type": "stream",
          "name": "stdout",
          "text": [
            "999\n"
          ]
        }
      ]
    },
    {
      "cell_type": "code",
      "source": [
        "my_list=[10,20,30,15,6,7,8,999]\n",
        "min=my_list[0]\n",
        "for i in range(0,len(my_list)):\n",
        "  if(my_list[i]<min):\n",
        "    min=my_list[i]\n",
        "print(min)"
      ],
      "metadata": {
        "colab": {
          "base_uri": "https://localhost:8080/"
        },
        "id": "BRr2dPK7UmbA",
        "outputId": "3a7e3e93-ee1f-4256-823a-0d24489d4268"
      },
      "execution_count": 43,
      "outputs": [
        {
          "output_type": "stream",
          "name": "stdout",
          "text": [
            "6\n"
          ]
        }
      ]
    },
    {
      "cell_type": "code",
      "source": [
        "my_list=[10,20,30,15,6,7,8,999]\n",
        "sum=0\n",
        "total=0\n",
        "for i in range(0,len(my_list)):\n",
        "  sum=sum+my_list[i]\n",
        "  total=total+1\n",
        "  avg=sum/total\n",
        "print(\"sum is\",sum,\"total is \",total,\"avarge is\",avg)"
      ],
      "metadata": {
        "colab": {
          "base_uri": "https://localhost:8080/"
        },
        "id": "yJhp_01KVCt5",
        "outputId": "1836916a-4f78-4284-a6d3-ca3fc6544a21"
      },
      "execution_count": 48,
      "outputs": [
        {
          "output_type": "stream",
          "name": "stdout",
          "text": [
            "sum is 1095 total is  8 avarge is 136.875\n"
          ]
        }
      ]
    },
    {
      "cell_type": "code",
      "source": [
        " lis = [\"hello\", \"saini\", \"murari\", \"lal\", \"sankhala\"]\n",
        "count = 0\n",
        "for i in range(0, len(lis)):\n",
        "    if(len(lis[i]) >4):\n",
        "        count = count + 1\n",
        "print(count)\n"
      ],
      "metadata": {
        "colab": {
          "base_uri": "https://localhost:8080/"
        },
        "id": "hsKlAd1BhHrB",
        "outputId": "9db24ed6-3e11-4002-b8eb-f7910efb5138"
      },
      "execution_count": 70,
      "outputs": [
        {
          "output_type": "stream",
          "name": "stdout",
          "text": [
            "4\n"
          ]
        }
      ]
    },
    {
      "cell_type": "code",
      "source": [
        "lis = [\"hllo\", \"hey\", \"user\", \"aman\", \"ujjwal\"]\n",
        "count = 0\n",
        "for i in range(0, len(lis)):\n",
        "    if len(lis[i]) < 4:\n",
        "        count = count + 1\n",
        "        print(count)\n"
      ],
      "metadata": {
        "colab": {
          "base_uri": "https://localhost:8080/"
        },
        "id": "C7C_WfsYiZ21",
        "outputId": "9e5bdca2-9674-4e28-b723-bb86565d9033"
      },
      "execution_count": 67,
      "outputs": [
        {
          "output_type": "stream",
          "name": "stdout",
          "text": [
            "1\n"
          ]
        }
      ]
    },
    {
      "cell_type": "code",
      "source": [],
      "metadata": {
        "id": "KseK2kHLlGiA"
      },
      "execution_count": null,
      "outputs": []
    }
  ]
}