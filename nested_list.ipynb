{
  "nbformat": 4,
  "nbformat_minor": 0,
  "metadata": {
    "colab": {
      "provenance": []
    },
    "kernelspec": {
      "name": "python3",
      "display_name": "Python 3"
    },
    "language_info": {
      "name": "python"
    }
  },
  "cells": [
    {
      "cell_type": "code",
      "execution_count": 1,
      "metadata": {
        "colab": {
          "base_uri": "https://localhost:8080/"
        },
        "id": "uOVvnuX_2psZ",
        "outputId": "f825924d-3df6-408d-c3cc-42fb08d13cdc"
      },
      "outputs": [
        {
          "output_type": "stream",
          "name": "stdout",
          "text": [
            "duplicate  e\n"
          ]
        }
      ],
      "source": [
        "s=\"hey user\"\n",
        "for i in range(0,len(s)):\n",
        "  for j in range(i+1,len(s)):\n",
        "    if(s[i]==s[j]):\n",
        "      print(\"duplicate \",s[j])\n"
      ]
    },
    {
      "cell_type": "code",
      "source": [
        "mylist=[1,2,3,7,14]\n",
        "target=9\n",
        "for i in range(0,len(mylist)):\n",
        "  for j in range(i+1,len(mylist)):\n",
        "    if(mylist[i]+mylist[j]==target):\n",
        "      print(mylist[i],mylist[j])\n"
      ],
      "metadata": {
        "colab": {
          "base_uri": "https://localhost:8080/"
        },
        "id": "vlU6wS-X2yau",
        "outputId": "de9396d8-3540-48cd-f853-2dff47494b11"
      },
      "execution_count": 2,
      "outputs": [
        {
          "output_type": "stream",
          "name": "stdout",
          "text": [
            "2 7\n"
          ]
        }
      ]
    },
    {
      "cell_type": "code",
      "source": [
        "mylist=[10,20,30,40,20,50,30]\n",
        "for i in range(0,len(mylist)):\n",
        "  for j in range(i+1,len(mylist)):\n",
        "    if(mylist[i]==mylist[j]):\n",
        "      print(\"duplicate \",mylist[j])"
      ],
      "metadata": {
        "colab": {
          "base_uri": "https://localhost:8080/"
        },
        "id": "_w7bBe_A22MG",
        "outputId": "9595a6a4-0354-424f-d4dd-8f72f626c722"
      },
      "execution_count": 3,
      "outputs": [
        {
          "output_type": "stream",
          "name": "stdout",
          "text": [
            "duplicate  20\n",
            "duplicate  30\n"
          ]
        }
      ]
    },
    {
      "cell_type": "code",
      "source": [
        "mylist = [1, 2, 3, 5, 7, 11, 18]\n",
        "target = 9\n",
        "i = 0\n",
        "end = len(mylist) - 1\n",
        "\n",
        "while i < end:\n",
        "    total = mylist[i] + mylist[end]\n",
        "    if total > target:\n",
        "        end -= 1\n",
        "    elif total < target:\n",
        "        i += 1\n",
        "    else:\n",
        "        print(\"Total of two values:\", mylist[i], \"+\", mylist[end], \"=\", target)\n",
        "        break\n",
        ""
      ],
      "metadata": {
        "colab": {
          "base_uri": "https://localhost:8080/"
        },
        "id": "UyVQCEeq26Ge",
        "outputId": "89bebde9-3270-4f2b-9104-a8c5f40f57d0"
      },
      "execution_count": 5,
      "outputs": [
        {
          "output_type": "stream",
          "name": "stdout",
          "text": [
            "Total of two values: 2 + 7 = 9\n"
          ]
        }
      ]
    },
    {
      "cell_type": "code",
      "source": [
        "data='SARAS'\n",
        "i=0\n",
        "end=len(data)-1\n",
        "a=0\n",
        "while i < end:  # Correct condition: loop while the left pointer is less than the right pointer\n",
        "  if(data[i]!=data[end]):\n",
        "    a=1\n",
        "    break\n",
        "  i=i+1\n",
        "  end=end-1\n",
        "\n",
        "if(a==0):\n",
        "  print(\"palindrom\")\n",
        "else:\n",
        "  print(\"not palindrom\")"
      ],
      "metadata": {
        "colab": {
          "base_uri": "https://localhost:8080/"
        },
        "id": "7bqv93_PDRK6",
        "outputId": "61108fd6-9b11-493d-fe61-1dc562ddc74b"
      },
      "execution_count": 6,
      "outputs": [
        {
          "output_type": "stream",
          "name": "stdout",
          "text": [
            "palindrom\n"
          ]
        }
      ]
    },
    {
      "cell_type": "code",
      "source": [
        "# 1. Write a Python program to find the maximum element in a list of numbers without\n",
        "# max functions\n",
        "# numbers = [10, 20, 4, 45, 99]\n",
        "# The maximum element is: 99"
      ],
      "metadata": {
        "id": "mlWU0-_eDY2u"
      },
      "execution_count": null,
      "outputs": []
    },
    {
      "cell_type": "code",
      "source": [
        "mylist=[10,20,4,45,99]\n",
        "max=mylist[0]\n",
        "for i in range(0,len(mylist)):\n",
        "  if(mylist[i]>max):\n",
        "    max=mylist[i]\n",
        "print(max)\n"
      ],
      "metadata": {
        "colab": {
          "base_uri": "https://localhost:8080/"
        },
        "id": "zPlO3SrlNFkn",
        "outputId": "c40415f2-3eb0-4b70-e40e-8bac7a824136"
      },
      "execution_count": 7,
      "outputs": [
        {
          "output_type": "stream",
          "name": "stdout",
          "text": [
            "99\n"
          ]
        }
      ]
    },
    {
      "cell_type": "code",
      "source": [
        "# 2. Write a Python program to sum all the elements in a list of numbers.\n",
        "# a. numbers = [10, 20, 30, 40]\n",
        "# b. The sum of all elements is: 100\n",
        "\n",
        "\n",
        "\n",
        "mylist=[10,20,30,40]\n",
        "sum=0\n",
        "for i in range(0,len(mylist)):\n",
        "  sum=sum+mylist[i]\n",
        "  # i=i+1\n",
        "print(sum)"
      ],
      "metadata": {
        "colab": {
          "base_uri": "https://localhost:8080/"
        },
        "id": "MuNKyZGuNlnu",
        "outputId": "c1abb9d2-bc94-42ab-a548-6d79079e6e21"
      },
      "execution_count": 10,
      "outputs": [
        {
          "output_type": "stream",
          "name": "stdout",
          "text": [
            "100\n"
          ]
        }
      ]
    },
    {
      "cell_type": "code",
      "source": [
        "# 3. Write a Python program to reverse a list without reverse or slicing operator\n",
        "# a. numbers = [1, 2, 3, 4, 5]\n",
        "# b. Reversed list: [5, 4, 3, 2, 1]\n",
        "\n",
        "\n",
        "mylist=[1,2,3,4,5]\n",
        "rev_list=[]\n",
        "\n",
        "for i in range(len(mylist)-1,-1,-1):\n",
        "  rev_list.append(mylist[i])\n",
        "\n",
        "print(rev_list)\n",
        "\n",
        "\n"
      ],
      "metadata": {
        "colab": {
          "base_uri": "https://localhost:8080/"
        },
        "id": "zOYRUavOOiFW",
        "outputId": "8392eb57-e0f8-4856-c410-aeb84c4869be"
      },
      "execution_count": 16,
      "outputs": [
        {
          "output_type": "stream",
          "name": "stdout",
          "text": [
            "[5, 4, 3, 2, 1]\n"
          ]
        }
      ]
    },
    {
      "cell_type": "code",
      "source": [
        "# using slicing\n",
        "\n",
        "numbers = [1, 2, 3, 4, 5]\n",
        "reverse=numbers[::-1]\n",
        "print(reverse)"
      ],
      "metadata": {
        "colab": {
          "base_uri": "https://localhost:8080/"
        },
        "id": "rpcit7CBSEic",
        "outputId": "78edb81c-607c-4776-b74d-256bac282a72"
      },
      "execution_count": 19,
      "outputs": [
        {
          "output_type": "stream",
          "name": "stdout",
          "text": [
            "[5, 4, 3, 2, 1]\n"
          ]
        }
      ]
    },
    {
      "cell_type": "code",
      "source": [
        "# using while loop\n",
        "\n",
        "numbers = [1, 2, 3, 4, 5]\n",
        "rev=[]\n",
        "i=len(numbers)-1\n",
        "\n",
        "while(i>=0):\n",
        "  rev.append(numbers[i])\n",
        "  i=i-1\n",
        "\n",
        "print(rev)"
      ],
      "metadata": {
        "colab": {
          "base_uri": "https://localhost:8080/"
        },
        "id": "wZfyXxqFPyKH",
        "outputId": "6e3e61dc-6558-4bd9-e509-43c6f2a9f0b0"
      },
      "execution_count": 20,
      "outputs": [
        {
          "output_type": "stream",
          "name": "stdout",
          "text": [
            "[5, 4, 3, 2, 1]\n"
          ]
        }
      ]
    },
    {
      "cell_type": "code",
      "source": [
        "# 4. Write a Python program to sort a list in ascending order without sort functions\n",
        "\n",
        "mylist=[58,25,45,69,85,45,74]\n",
        "\n",
        "mylist.sort()\n",
        "\n",
        "print(mylist)\n",
        "\n",
        "\n"
      ],
      "metadata": {
        "colab": {
          "base_uri": "https://localhost:8080/"
        },
        "id": "6gR1eKTDTQKs",
        "outputId": "c18531c3-a602-4386-cad8-920a40aff447"
      },
      "execution_count": 31,
      "outputs": [
        {
          "output_type": "stream",
          "name": "stdout",
          "text": [
            "[25, 45, 45, 58, 69, 74, 85]\n"
          ]
        }
      ]
    },
    {
      "cell_type": "code",
      "source": [
        "# 5. Write a Python program to remove duplicates from a list while maintaining the order\n",
        "# of elements.\n",
        "# a. numbers = [1, 2, 2, 3, 4, 4, 5]\n",
        "\n",
        "numbers=[1,2,2,3,4,4,5]\n",
        "new=[]\n",
        "duplicate=[]\n",
        "for i in range(0,len(numbers)):\n",
        "  if(numbers[i] not in new):\n",
        "    new.append(numbers[i])\n",
        "  elif(numbers[i] in new):\n",
        "    duplicate.append(numbers[i])\n",
        "print(\"new list\",new)\n",
        "print(\"duplicate\",duplicate)\n",
        "\n"
      ],
      "metadata": {
        "colab": {
          "base_uri": "https://localhost:8080/"
        },
        "id": "Q3KC9eSRUCyL",
        "outputId": "590fa266-6696-4daa-b705-b49fe85cb133"
      },
      "execution_count": 36,
      "outputs": [
        {
          "output_type": "stream",
          "name": "stdout",
          "text": [
            "new list [1, 2, 3, 4, 5]\n",
            "duplicate [2, 4]\n"
          ]
        }
      ]
    },
    {
      "cell_type": "code",
      "source": [
        "# method 2\n",
        "\n",
        "numbers = [1, 2, 2, 3, 4, 4, 5]\n",
        "unique = []\n",
        "\n",
        "for num in numbers:\n",
        "    if num not in unique:\n",
        "        unique.append(num)\n",
        "\n",
        "print(\"List after removing duplicates:\", unique)\n"
      ],
      "metadata": {
        "colab": {
          "base_uri": "https://localhost:8080/"
        },
        "id": "K8tu8DmIZaZq",
        "outputId": "c1e9558d-7e02-4c98-ab58-c0e87ff6c831"
      },
      "execution_count": 37,
      "outputs": [
        {
          "output_type": "stream",
          "name": "stdout",
          "text": [
            "List after removing duplicates: [1, 2, 3, 4, 5]\n"
          ]
        }
      ]
    },
    {
      "cell_type": "code",
      "source": [
        "# 6. Write a Python program to find all pairs of numbers in a list that add up to a specific\n",
        "# target sum.\n",
        "# a. numbers = [1, 2, 3, 4, 3, 5, 6] target_sum = 6\n",
        "# b. Pairs that add up to 6: [(3, 3), (2, 4), (1, 5)]\n",
        "\n",
        "numbers = [1, 2, 3, 4, 3, 5, 6]\n",
        "target= 6\n",
        "\n",
        "for i in range(0,len(numbers)):\n",
        "  for j in range(i+1,len(numbers)):\n",
        "    if(numbers[i]+numbers[j]==target):\n",
        "      print((numbers[i],numbers[j]))"
      ],
      "metadata": {
        "colab": {
          "base_uri": "https://localhost:8080/"
        },
        "id": "_H2kLMASYKOn",
        "outputId": "e7167c86-fe3c-432d-cfbc-6657d5d8435b"
      },
      "execution_count": 47,
      "outputs": [
        {
          "output_type": "stream",
          "name": "stdout",
          "text": [
            "(1, 5)\n",
            "(2, 4)\n",
            "(3, 3)\n"
          ]
        }
      ]
    },
    {
      "cell_type": "code",
      "source": [
        "# 7. Write a Python program to flatten a nested list (list within lists) into a single list.\n",
        "# a. nested_list = [1, [2, 3], [4, [5, 6], 7], 8]\n",
        "# b. Flattened list: [1, 2, 3, 4, 5, 6, 7, 8]"
      ],
      "metadata": {
        "id": "CX-yd_5_bQjl"
      },
      "execution_count": null,
      "outputs": []
    },
    {
      "cell_type": "code",
      "source": [
        "# 8. Write a Python program to find the sum of the elements in a list, excluding the largest\n",
        "# and smallest element. Don’t use max or min functions\n",
        "# a. numbers = [1, 2, 3, 4, 5]\n",
        "\n",
        "numbers = [1, 2, 3, 4, 5]\n",
        "max_val = numbers[0]\n",
        "min_val = numbers[0]\n",
        "total_sum = 0\n",
        "\n",
        "for num in numbers:\n",
        "  if num > max_val:\n",
        "    max_val = num\n",
        "  elif num < min_val:\n",
        "    min_val = num\n",
        "  total_sum += num\n",
        "\n",
        "# Calculate the sum excluding the largest and smallest elements\n",
        "sum_excluding_min_max = total_sum - max_val - min_val\n",
        "\n",
        "\n",
        "print(\"maximum\",max_val)\n",
        "print(\"minimum\",min_val)\n",
        "print(\"Sum excluding max and min:\", sum_excluding_min_max)"
      ],
      "metadata": {
        "colab": {
          "base_uri": "https://localhost:8080/"
        },
        "id": "bJt4wAkkdIU2",
        "outputId": "20852de0-cb2a-4579-8a45-0df2c96e3a40"
      },
      "execution_count": 58,
      "outputs": [
        {
          "output_type": "stream",
          "name": "stdout",
          "text": [
            "maximum 5\n",
            "minimum 1\n"
          ]
        }
      ]
    },
    {
      "cell_type": "code",
      "source": [],
      "metadata": {
        "id": "g58K0prpiRJU"
      },
      "execution_count": null,
      "outputs": []
    },
    {
      "cell_type": "code",
      "metadata": {
        "colab": {
          "base_uri": "https://localhost:8080/"
        },
        "id": "bf80e4ec",
        "outputId": "f86d2068-3f20-424c-8c9d-7b1caa7e0105"
      },
      "source": [
        "# 8. Write a Python program to find the sum of the elements in a list, excluding the largest\n",
        "# and smallest element. Don’t use max or min functions\n",
        "# a. numbers = [1, 2, 3, 4, 5]\n",
        "\n",
        "numbers = [1, 2, 3, 4, 5]\n",
        "max_val = numbers[0]\n",
        "min_val = numbers[0]\n",
        "total_sum = 0\n",
        "\n",
        "for num in numbers:\n",
        "  if num > max_val:\n",
        "    max_val = num\n",
        "  elif num < min_val:\n",
        "    min_val = num\n",
        "  total_sum += num\n",
        "\n",
        "# Calculate the sum excluding the largest and smallest elements\n",
        "sum_excluding_min_max = total_sum - max_val - min_val\n",
        "\n",
        "\n",
        "print(\"maximum\",max_val)\n",
        "print(\"minimum\",min_val)\n",
        "print(\"Sum excluding max and min:\", sum_excluding_min_max)"
      ],
      "execution_count": 66,
      "outputs": [
        {
          "output_type": "stream",
          "name": "stdout",
          "text": [
            "maximum 5\n",
            "minimum 1\n",
            "Sum excluding max and min: 9\n"
          ]
        }
      ]
    },
    {
      "cell_type": "code",
      "source": [],
      "metadata": {
        "id": "5inEP3qjjogp"
      },
      "execution_count": null,
      "outputs": []
    }
  ]
}