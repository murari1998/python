{
  "nbformat": 4,
  "nbformat_minor": 0,
  "metadata": {
    "colab": {
      "provenance": []
    },
    "kernelspec": {
      "name": "python3",
      "display_name": "Python 3"
    },
    "language_info": {
      "name": "python"
    }
  },
  "cells": [
    {
      "cell_type": "code",
      "execution_count": null,
      "metadata": {
        "id": "VvRteLW9kv2z"
      },
      "outputs": [],
      "source": [
        "# Functions in Python\n",
        "# Function is reusable block of code ."
      ]
    },
    {
      "cell_type": "code",
      "source": [
        "# Types of Functions\n",
        "# (a). Pre-defined function  ----> print() , sum() , main() , max() , append() .....\n",
        "# (b). Manually Created function --->\n",
        "# step-1 def\n",
        "# step-2 Name of function\n",
        "# step-3 logic for create the function\n",
        "# step-4 Call the function (Name of function)"
      ],
      "metadata": {
        "id": "TfyPK1m3k9S6"
      },
      "execution_count": null,
      "outputs": []
    },
    {
      "cell_type": "code",
      "source": [
        "# # syntax :\n",
        "# def Name_of_function():\n",
        "#   logic\n",
        "# Name_of_function()"
      ],
      "metadata": {
        "id": "CQRdXXa2lw1d"
      },
      "execution_count": null,
      "outputs": []
    },
    {
      "cell_type": "code",
      "source": [
        "# Q.1 Create a function who add 2 numbers ?\n",
        "def my_add():\n",
        "  a = 5\n",
        "  b = 6\n",
        "  c = a + b\n",
        "  print(\"Total = \" , c)\n"
      ],
      "metadata": {
        "id": "I6-0CQmel9AL"
      },
      "execution_count": null,
      "outputs": []
    },
    {
      "cell_type": "code",
      "source": [
        "my_add()"
      ],
      "metadata": {
        "colab": {
          "base_uri": "https://localhost:8080/"
        },
        "id": "gVfUmEVAmSMB",
        "outputId": "d3ecd7c9-62d0-4f94-c9f2-96fa1ba451aa"
      },
      "execution_count": null,
      "outputs": [
        {
          "output_type": "stream",
          "name": "stdout",
          "text": [
            "Total =  11\n"
          ]
        }
      ]
    },
    {
      "cell_type": "code",
      "source": [
        "# Q.2 Create a function who add sum of square of a given number ?"
      ],
      "metadata": {
        "id": "kpxBEKMVmV7p"
      },
      "execution_count": null,
      "outputs": []
    },
    {
      "cell_type": "code",
      "source": [
        "i = 1\n",
        "n = 3\n",
        "sum = 0\n",
        "while(i<=n):\n",
        "  sum = sum + i**2\n",
        "  i = i + 1\n",
        "print(\"Total = \" , sum)"
      ],
      "metadata": {
        "colab": {
          "base_uri": "https://localhost:8080/"
        },
        "id": "QS7z0Wa3mjLg",
        "outputId": "e91fa1b9-bf0c-4dd2-9449-bbf246714011"
      },
      "execution_count": null,
      "outputs": [
        {
          "output_type": "stream",
          "name": "stdout",
          "text": [
            "Total =  14\n"
          ]
        }
      ]
    },
    {
      "cell_type": "code",
      "source": [
        "# i = 1,2,3\n",
        "# 1**2 + 2**2+ 3**2  = 1 + 4 + 9 = 14"
      ],
      "metadata": {
        "id": "6VxowFuCmx9R"
      },
      "execution_count": null,
      "outputs": []
    },
    {
      "cell_type": "code",
      "source": [
        "def my_squ():\n",
        "  i=1\n",
        "  n=3\n",
        "  sum=0\n",
        "  while(i<=n):\n",
        "    sum=sum+i**2\n",
        "    i=i+1\n",
        "  print(\"Total = \" , sum)\n",
        "my_squ()"
      ],
      "metadata": {
        "colab": {
          "base_uri": "https://localhost:8080/"
        },
        "id": "n9FUC02wm97N",
        "outputId": "5bbdd5ea-c07b-4272-e088-70eca450ee8e"
      },
      "execution_count": null,
      "outputs": [
        {
          "output_type": "stream",
          "name": "stdout",
          "text": [
            "Total =  14\n"
          ]
        }
      ]
    },
    {
      "cell_type": "code",
      "source": [
        "i = 1234\n",
        "sum = 0\n",
        "while(i>0):\n",
        "  d = i%10\n",
        "  sum = sum + d\n",
        "  i  = i//10\n",
        "print(\"Total =\" , sum)\n"
      ],
      "metadata": {
        "colab": {
          "base_uri": "https://localhost:8080/"
        },
        "id": "DRXq0IR5nHWz",
        "outputId": "fe6bff43-5362-47d4-d261-8e63a29722f9"
      },
      "execution_count": null,
      "outputs": [
        {
          "output_type": "stream",
          "name": "stdout",
          "text": [
            "Total = 10\n"
          ]
        }
      ]
    },
    {
      "cell_type": "code",
      "source": [
        "# i = 1+2+3+4 = 10"
      ],
      "metadata": {
        "id": "DcjYjXm-n3S6"
      },
      "execution_count": null,
      "outputs": []
    },
    {
      "cell_type": "code",
      "source": [
        "# Q.2 Create a function in which user will give a number and we have to calculate sum of this number ."
      ],
      "metadata": {
        "id": "JQn57D1tn7_0"
      },
      "execution_count": null,
      "outputs": []
    },
    {
      "cell_type": "code",
      "source": [
        "def my_add():\n",
        "  i = int(input(\"Enter number:\"))\n",
        "  sum=0\n",
        "  while(i>0):\n",
        "    d = i%10\n",
        "    sum = sum + d\n",
        "    i = i//10\n",
        "  print(\"Sum = \" , sum)\n",
        "my_add()\n"
      ],
      "metadata": {
        "colab": {
          "base_uri": "https://localhost:8080/"
        },
        "id": "kHCxVWhsoB3L",
        "outputId": "12799583-8bbd-418d-8622-3642d8fec892"
      },
      "execution_count": null,
      "outputs": [
        {
          "output_type": "stream",
          "name": "stdout",
          "text": [
            "Enter number:1234\n",
            "Sum =  10\n"
          ]
        }
      ]
    },
    {
      "cell_type": "code",
      "source": [
        "# Arguments and Parameters\n",
        "\n",
        "# Parameters ---> These are the values which we passes when we create a function .\n",
        "# Arguments ----> These are the values which we passes when we call a function ."
      ],
      "metadata": {
        "id": "SpcpzljKoRk8"
      },
      "execution_count": null,
      "outputs": []
    },
    {
      "cell_type": "code",
      "source": [
        "def my_add(a,b):\n",
        "  c = a + b\n",
        "  print(\"Total = \",c)\n",
        "my_add(3,4)\n",
        "\n",
        "### here (a,b) ---> Parameters , (3,4) ---> Arguments"
      ],
      "metadata": {
        "colab": {
          "base_uri": "https://localhost:8080/"
        },
        "id": "EjG0pd1ar7jF",
        "outputId": "f17a2821-bdd6-4f08-8666-aa09b5857954"
      },
      "execution_count": null,
      "outputs": [
        {
          "output_type": "stream",
          "name": "stdout",
          "text": [
            "Total =  7\n"
          ]
        }
      ]
    },
    {
      "cell_type": "code",
      "source": [
        "# Q.2 Write a program who can check given number is odd or even ?"
      ],
      "metadata": {
        "id": "O_bHZnvWsB8Y"
      },
      "execution_count": null,
      "outputs": []
    },
    {
      "cell_type": "code",
      "source": [
        "def oddeve():\n",
        "  i = int(input(\"Enter number:\"))\n",
        "  if(i%2==0):\n",
        "    print(\"Even Number\")\n",
        "  else:\n",
        "    print(\"Odd Number...\")\n",
        "oddeve()"
      ],
      "metadata": {
        "colab": {
          "base_uri": "https://localhost:8080/"
        },
        "id": "Z7vltYtRsMGO",
        "outputId": "58153df4-72fa-497d-a082-94ed75468e6c"
      },
      "execution_count": null,
      "outputs": [
        {
          "output_type": "stream",
          "name": "stdout",
          "text": [
            "Enter number:35\n",
            "Odd Number...\n"
          ]
        }
      ]
    },
    {
      "cell_type": "code",
      "source": [
        "def oddeve(a):\n",
        "  if(a%2==0):\n",
        "    print(\"Even Number\")\n",
        "  else:\n",
        "    print(\"Odd Number\")\n",
        "p= int(input(\"Enter number:\"))\n",
        "oddeve(p)\n",
        "\n",
        "### here (a) ---> Parameter , (49 , p) ----> Argument"
      ],
      "metadata": {
        "colab": {
          "base_uri": "https://localhost:8080/"
        },
        "id": "MPDmop_DsZaF",
        "outputId": "5baacec7-aaa6-4c68-8049-8600057d8af1"
      },
      "execution_count": null,
      "outputs": [
        {
          "output_type": "stream",
          "name": "stdout",
          "text": [
            "Enter number:49\n",
            "Odd Number\n"
          ]
        }
      ]
    },
    {
      "cell_type": "code",
      "source": [],
      "metadata": {
        "id": "QBA9APlHsp27"
      },
      "execution_count": null,
      "outputs": []
    }
  ]
}