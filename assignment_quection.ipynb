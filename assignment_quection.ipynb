{
  "nbformat": 4,
  "nbformat_minor": 0,
  "metadata": {
    "colab": {
      "provenance": []
    },
    "kernelspec": {
      "name": "python3",
      "display_name": "Python 3"
    },
    "language_info": {
      "name": "python"
    }
  },
  "cells": [
    {
      "cell_type": "code",
      "source": [
        "# check number is even or odd\n",
        "\n",
        "\n",
        "num=int(input(\"enter a number: \"))\n",
        "if(num%2==0):\n",
        "  print(\"even number\")\n",
        "else:\n",
        "  print(\"odd\")"
      ],
      "metadata": {
        "id": "a06r2teddbAC",
        "colab": {
          "base_uri": "https://localhost:8080/"
        },
        "outputId": "a01d1869-743d-4a92-8c7b-ccedc5b362f1"
      },
      "execution_count": null,
      "outputs": [
        {
          "output_type": "stream",
          "name": "stdout",
          "text": [
            "enter a number: 85\n",
            "odd\n"
          ]
        }
      ]
    },
    {
      "cell_type": "code",
      "source": [
        "# check largest number of given number\n",
        "\n",
        "a=int(input(\"enter a number: \"))\n",
        "b=int(input(\"enter b number: \"))\n",
        "c=int(input(\"enter c number: \"))\n",
        "\n",
        "if(a>=b and a>=c):\n",
        "  print(\"a is largest\")\n",
        "elif(b>=a and b>=c):\n",
        "  print(\"b is largest\")\n",
        "else:\n",
        "  print(\"c is largest\")"
      ],
      "metadata": {
        "colab": {
          "base_uri": "https://localhost:8080/"
        },
        "id": "qcaYEOldrFrO",
        "outputId": "72cfde69-0176-4a1d-9b42-c73b2a8415c8"
      },
      "execution_count": null,
      "outputs": [
        {
          "output_type": "stream",
          "name": "stdout",
          "text": [
            "enter a number: 5\n",
            "enter b number: 8\n",
            "enter c number: 10\n",
            "c is largest\n"
          ]
        }
      ]
    },
    {
      "cell_type": "code",
      "source": [
        "#  check grade system in a school\n",
        "\n",
        "\n",
        "per=int(input(\"enter your percent: \"))\n",
        "if(per>=90):\n",
        "  print(\"grade A\")\n",
        "elif(per>=80 and per<90):\n",
        "  print(\"grade B\")\n",
        "elif(per>=70 and per<80):\n",
        "  print(\"grade C\")\n",
        "elif(per>=60 and per<70):\n",
        "  print(\"grade D\")\n",
        "else:\n",
        "  print(\"fail\")"
      ],
      "metadata": {
        "colab": {
          "base_uri": "https://localhost:8080/"
        },
        "id": "aCB1tEBzsIMl",
        "outputId": "7facea52-99ff-4dac-efc0-73925cef4fb3"
      },
      "execution_count": null,
      "outputs": [
        {
          "output_type": "stream",
          "name": "stdout",
          "text": [
            "enter your percent: 95\n",
            "grade A\n"
          ]
        }
      ]
    },
    {
      "cell_type": "code",
      "source": [
        "# chek charecter is vowel or consonante\n",
        "\n",
        "\n",
        "ch=(input(\"enter a latter: \"))\n",
        "if(ch=='a'):\n",
        "  print(\"vowel\")\n",
        "elif(ch=='e'):\n",
        "  print(\"vowel\")\n",
        "elif(ch=='i'):\n",
        "  print(\"vowel\")\n",
        "elif(ch=='o'):\n",
        "  print(\"vowel\")\n",
        "elif(ch=='u'):\n",
        "  print(\"vowel\")\n",
        "else:\n",
        "  print(\"consonante\")\n",
        "\n",
        "\n"
      ],
      "metadata": {
        "colab": {
          "base_uri": "https://localhost:8080/"
        },
        "id": "-yCX98sNtVw6",
        "outputId": "86d4645b-3880-48c7-fde4-e58038b47df8"
      },
      "execution_count": null,
      "outputs": [
        {
          "output_type": "stream",
          "name": "stdout",
          "text": [
            "enter a latter: a\n",
            "vowel\n"
          ]
        }
      ]
    },
    {
      "cell_type": "code",
      "source": [
        "# check leap year or not\n",
        "\n",
        "\n",
        "year=int(input(\"enter a value: \"))\n",
        "if(year%4==0 and year%100!=0) or (year%400==0):\n",
        "  print(\"leap year\")\n",
        "else:\n",
        "  print(\"not a leap year\")"
      ],
      "metadata": {
        "colab": {
          "base_uri": "https://localhost:8080/"
        },
        "id": "53G0B31Fwr4A",
        "outputId": "5947bb9d-3d1c-4a50-f774-7a002b7c7aca"
      },
      "execution_count": null,
      "outputs": [
        {
          "output_type": "stream",
          "name": "stdout",
          "text": [
            "enter a value: 2024\n",
            "leap year\n"
          ]
        }
      ]
    },
    {
      "cell_type": "code",
      "source": [
        "# check number positive nagative and zero\n",
        "\n",
        "\n",
        "num=int(input(\"enter a number: \"))\n",
        "if(num>0):\n",
        "  print(\"positive\")\n",
        "elif(num<0):\n",
        "  print(\"negative\")\n",
        "else:\n",
        "  print(\"zero\")"
      ],
      "metadata": {
        "colab": {
          "base_uri": "https://localhost:8080/"
        },
        "id": "s218sE5exqRD",
        "outputId": "46894fa5-33a1-4047-f310-d19598fa849b"
      },
      "execution_count": null,
      "outputs": [
        {
          "output_type": "stream",
          "name": "stdout",
          "text": [
            "enter a number: 0\n",
            "zero\n"
          ]
        }
      ]
    },
    {
      "cell_type": "code",
      "source": [
        "#   login id programm\n",
        "\n",
        "\n",
        "id=(input(\"enter your id : \"))\n",
        "pwd=int(input(\"enter your password: \"))\n",
        "\n",
        "if(id=='admin' and pwd==1234):\n",
        "  print(\"login suceessful\")\n",
        "else:\n",
        "  print(\"login failed\")"
      ],
      "metadata": {
        "colab": {
          "base_uri": "https://localhost:8080/"
        },
        "id": "vJYXir1JzfBE",
        "outputId": "d2d0d68d-3ae3-4e4b-f345-2abd45ca3e2b"
      },
      "execution_count": null,
      "outputs": [
        {
          "output_type": "stream",
          "name": "stdout",
          "text": [
            "enter your id : admin\n",
            "enter your password: 4568\n",
            "login failed\n"
          ]
        }
      ]
    },
    {
      "cell_type": "code",
      "source": [
        "# valid tringle or not a valid tringle\n",
        "\n",
        "\n",
        "a=float(input(\"enter first side: \"))\n",
        "b=float(input(\"enter second side: \"))\n",
        "c=float(input(\"enter thired side: \"))\n",
        "if(a+b>c and b+c>a and a+c>b):\n",
        "  print(\"valid tringle\")\n",
        "else:\n",
        "  print(\"not a valid tringle\")"
      ],
      "metadata": {
        "colab": {
          "base_uri": "https://localhost:8080/"
        },
        "id": "qSj22f3R0rV-",
        "outputId": "a2cb0969-bcfa-4093-af2f-340b1b777d85"
      },
      "execution_count": null,
      "outputs": [
        {
          "output_type": "stream",
          "name": "stdout",
          "text": [
            "enter first side: 4\n",
            "enter second side: 5\n",
            "enter thired side: 7\n",
            "valid tringle\n"
          ]
        }
      ]
    },
    {
      "cell_type": "code",
      "source": [
        "# dicount based on prize\n",
        "\n",
        "price = float(input(\"Enter price: \"))\n",
        "\n",
        "if price > 1000:\n",
        "    discount = 0.10\n",
        "elif price >= 500:\n",
        "    discount = 0.05\n",
        "else:\n",
        "    discount = 0.0\n",
        "\n",
        "final_price = price - (price * discount)\n",
        "print(\"Final price:\", round(final_price, 2))"
      ],
      "metadata": {
        "colab": {
          "base_uri": "https://localhost:8080/"
        },
        "id": "LZXqIMYt1x7x",
        "outputId": "a1fafeef-d030-4419-90e1-3602a52a6a46"
      },
      "execution_count": null,
      "outputs": [
        {
          "output_type": "stream",
          "name": "stdout",
          "text": [
            "Enter price: 568\n",
            "Final price: 539.6\n"
          ]
        }
      ]
    },
    {
      "cell_type": "code",
      "source": [
        "\n",
        "# days in month\n",
        "\n",
        "month = input(\"Enter month name: \")\n",
        "year = int(input(\"Enter year: \"))\n",
        "\n",
        "if(month=='january', 'march', 'may', 'july', 'august', 'october', 'december'):\n",
        "    print(\"31 days\")\n",
        "elif(month =='april', 'june', 'september', 'november'):\n",
        "    print(\"30 days\")\n",
        "elif(month=='february'):\n",
        "    if (year % 4 == 0 and year % 100 != 0) or (year % 400 == 0):\n",
        "        print(\"29 days\")\n",
        "    else:\n",
        "        print(\"28 days\")\n",
        "else:\n",
        "    print(\"Invalid month\")"
      ],
      "metadata": {
        "colab": {
          "base_uri": "https://localhost:8080/"
        },
        "id": "Kg4xSqm9244x",
        "outputId": "e8b1a261-fb79-4078-fed5-bd47ac3b1d94"
      },
      "execution_count": null,
      "outputs": [
        {
          "output_type": "stream",
          "name": "stdout",
          "text": [
            "Enter month name: june\n",
            "Enter year: 2004\n",
            "31 days\n"
          ]
        }
      ]
    },
    {
      "cell_type": "code",
      "source": [
        "#  days in week\n",
        "\n",
        "\n",
        "day = int(input(\"Enter a number (1-7): \"))\n",
        "\n",
        "if(day==1):\n",
        "    print(\"Monday\")\n",
        "elif(day==2):\n",
        "    print(\"Tuesday\")\n",
        "elif(day==3):\n",
        "    print(\"Wednesday\")\n",
        "elif(day==4):\n",
        "    print(\"Thursday\")\n",
        "elif(day==5):\n",
        "    print(\"Friday\")\n",
        "elif(day==6):\n",
        "    print(\"Saturday\")\n",
        "elif(day==7):\n",
        "    print(\"Sunday\")\n",
        "else:\n",
        "    print(\"Invalid input\")"
      ],
      "metadata": {
        "colab": {
          "base_uri": "https://localhost:8080/"
        },
        "id": "BG0xOqYK4SlE",
        "outputId": "f529592f-eb67-4a68-cdd5-1945a4734a63"
      },
      "execution_count": null,
      "outputs": [
        {
          "output_type": "stream",
          "name": "stdout",
          "text": [
            "Enter a number (1-7): 5\n",
            "Friday\n"
          ]
        }
      ]
    },
    {
      "cell_type": "code",
      "source": [
        "# age group categraization\n",
        "\n",
        "age = int(input(\"Enter age: \"))\n",
        "\n",
        "if(age >= 0 and age <= 1):\n",
        "    print(\"Infant\")\n",
        "elif(age >= 2 and age <= 4):\n",
        "    print(\"Toddler\")\n",
        "elif(age >= 5 and age <= 12):\n",
        "    print(\"Child\")\n",
        "elif(age >= 13 and age <= 19):\n",
        "    print(\"Teenager\")\n",
        "elif(age >= 20 and age <= 59):\n",
        "    print(\"Adult\")\n",
        "elif (age >= 60):\n",
        "    print(\"Senior\")\n",
        "else:\n",
        "    print(\"Invalid age\")"
      ],
      "metadata": {
        "colab": {
          "base_uri": "https://localhost:8080/"
        },
        "id": "IobDYv2Y5ZjU",
        "outputId": "b6cf464f-eb58-420d-fbc5-9d11ad195d67"
      },
      "execution_count": null,
      "outputs": [
        {
          "output_type": "stream",
          "name": "stdout",
          "text": [
            "Enter age: 58\n",
            "Adult\n"
          ]
        }
      ]
    },
    {
      "cell_type": "code",
      "source": [
        "#   loops"
      ],
      "metadata": {
        "id": "isX3fYPr6D7w"
      },
      "execution_count": null,
      "outputs": []
    },
    {
      "cell_type": "code",
      "source": [],
      "metadata": {
        "id": "OBUU9Euy6Hcy"
      },
      "execution_count": null,
      "outputs": []
    },
    {
      "cell_type": "code",
      "source": [
        "lst = [5, 10, 15, 20]\n",
        "total = 0\n",
        "for i in lst:\n",
        "    total += i / 2\n",
        "print(total)"
      ],
      "metadata": {
        "id": "0KqKFkjI6IAX",
        "outputId": "08009299-fabb-4fda-deb1-5e0707e5e620",
        "colab": {
          "base_uri": "https://localhost:8080/"
        }
      },
      "execution_count": null,
      "outputs": [
        {
          "output_type": "stream",
          "name": "stdout",
          "text": [
            "25.0\n"
          ]
        }
      ]
    },
    {
      "cell_type": "code",
      "source": [
        "  # for loop\n",
        "  #que=1\n",
        "  #       print all natural number from 1 to n"
      ],
      "metadata": {
        "id": "0df1h60hQF7h"
      },
      "execution_count": null,
      "outputs": []
    },
    {
      "cell_type": "code",
      "source": [
        "number=int(input(\"enter a number :\"))\n",
        "for i in range(0,number):\n",
        "  print(i+1)\n"
      ],
      "metadata": {
        "colab": {
          "base_uri": "https://localhost:8080/"
        },
        "id": "CN93goMBSAOx",
        "outputId": "0ee25b7b-c684-4eeb-d46e-5996c549a6a0"
      },
      "execution_count": null,
      "outputs": [
        {
          "output_type": "stream",
          "name": "stdout",
          "text": [
            "enter a number :9\n",
            "1\n",
            "2\n",
            "3\n",
            "4\n",
            "5\n",
            "6\n",
            "7\n",
            "8\n",
            "9\n"
          ]
        }
      ]
    },
    {
      "cell_type": "code",
      "source": [
        "# using while loop\n",
        "\n",
        "i=0\n",
        "number=int(input(\"enter a number\"))\n",
        "while(i<=number):\n",
        "  print(i)\n",
        "  i=i+1"
      ],
      "metadata": {
        "colab": {
          "base_uri": "https://localhost:8080/"
        },
        "id": "RzSmbvXvSXfI",
        "outputId": "beaf77f5-9074-445a-f57a-ceab5792c825"
      },
      "execution_count": null,
      "outputs": [
        {
          "output_type": "stream",
          "name": "stdout",
          "text": [
            "enter a number8\n",
            "0\n",
            "1\n",
            "2\n",
            "3\n",
            "4\n",
            "5\n",
            "6\n",
            "7\n",
            "8\n"
          ]
        }
      ]
    },
    {
      "cell_type": "code",
      "source": [
        "# que=2\n",
        "\n",
        "# print all natural number in reverse\n"
      ],
      "metadata": {
        "id": "2x83-U4fSc8i"
      },
      "execution_count": null,
      "outputs": []
    },
    {
      "cell_type": "code",
      "source": [
        "number=int(input(\"enter a number :\"))\n",
        "for i in range(number,0,-1):\n",
        "  print(i)"
      ],
      "metadata": {
        "colab": {
          "base_uri": "https://localhost:8080/"
        },
        "id": "Db4qAsBMTTu2",
        "outputId": "af7608f0-5b8d-4e42-b9c3-0a0f05e68b4d"
      },
      "execution_count": null,
      "outputs": [
        {
          "output_type": "stream",
          "name": "stdout",
          "text": [
            "enter a number :8\n",
            "8\n",
            "7\n",
            "6\n",
            "5\n",
            "4\n",
            "3\n",
            "2\n",
            "1\n"
          ]
        }
      ]
    },
    {
      "cell_type": "code",
      "source": [
        "# using while loop\n",
        "\n",
        "number=int(input(\"enter a number :\"))\n",
        "while(number>=0):\n",
        "  print(number)\n",
        "  number=number-1"
      ],
      "metadata": {
        "colab": {
          "base_uri": "https://localhost:8080/"
        },
        "id": "ysiV4OaITu7s",
        "outputId": "033b49e8-46a8-4526-ea41-b6ed66f49904"
      },
      "execution_count": null,
      "outputs": [
        {
          "output_type": "stream",
          "name": "stdout",
          "text": [
            "enter a number :5\n",
            "5\n",
            "4\n",
            "3\n",
            "2\n",
            "1\n",
            "0\n"
          ]
        }
      ]
    },
    {
      "cell_type": "code",
      "source": [
        "# que=3\n",
        "\n",
        "#  print all alphabate a to z\n"
      ],
      "metadata": {
        "id": "SMaOHJlIWLIE"
      },
      "execution_count": null,
      "outputs": []
    },
    {
      "cell_type": "code",
      "source": [
        "for i in range(ord('a'),ord('z')+1):\n",
        "  print(chr(i),end=\" \")"
      ],
      "metadata": {
        "colab": {
          "base_uri": "https://localhost:8080/"
        },
        "id": "T1LPAReDWNSz",
        "outputId": "af096b5a-913e-496f-a5ad-32b95bcfe0c8"
      },
      "execution_count": null,
      "outputs": [
        {
          "output_type": "stream",
          "name": "stdout",
          "text": [
            "a b c d e f g h i j k l m n o p q r s t u v w x y z "
          ]
        }
      ]
    },
    {
      "cell_type": "code",
      "source": [
        "# using while loop\n",
        "\n",
        "'''i=ord('a')\n",
        "while(i<=('z')):\n",
        "  print(chr(i))\n",
        "  i=i+1'''\n",
        "\n",
        "i = ord('a')\n",
        "while i <= ord('z'):\n",
        "    print(chr(i),end=\" \")\n",
        "    i = i + 1\n"
      ],
      "metadata": {
        "colab": {
          "base_uri": "https://localhost:8080/"
        },
        "id": "rvv6dBlmXkLE",
        "outputId": "5a6ccb48-1fd4-4773-e3a7-7e6f668da6c4"
      },
      "execution_count": null,
      "outputs": [
        {
          "output_type": "stream",
          "name": "stdout",
          "text": [
            "a b c d e f g h i j k l m n o p q r s t u v w x y z "
          ]
        }
      ]
    },
    {
      "cell_type": "code",
      "source": [
        "# que=4\n",
        "\n",
        "#  print all even number between 1 to 100"
      ],
      "metadata": {
        "id": "NQqdzgqBZbw6"
      },
      "execution_count": null,
      "outputs": []
    },
    {
      "cell_type": "code",
      "source": [
        "for i in range(1,100):\n",
        "  if(i%2==0):\n",
        "    print(i)"
      ],
      "metadata": {
        "colab": {
          "base_uri": "https://localhost:8080/"
        },
        "id": "hdgEwSaRZh47",
        "outputId": "fc732b70-8ac0-4b1d-9708-de00abda3d9e"
      },
      "execution_count": null,
      "outputs": [
        {
          "output_type": "stream",
          "name": "stdout",
          "text": [
            "2\n",
            "4\n",
            "6\n",
            "8\n",
            "10\n",
            "12\n",
            "14\n",
            "16\n",
            "18\n",
            "20\n",
            "22\n",
            "24\n",
            "26\n",
            "28\n",
            "30\n",
            "32\n",
            "34\n",
            "36\n",
            "38\n",
            "40\n",
            "42\n",
            "44\n",
            "46\n",
            "48\n",
            "50\n",
            "52\n",
            "54\n",
            "56\n",
            "58\n",
            "60\n",
            "62\n",
            "64\n",
            "66\n",
            "68\n",
            "70\n",
            "72\n",
            "74\n",
            "76\n",
            "78\n",
            "80\n",
            "82\n",
            "84\n",
            "86\n",
            "88\n",
            "90\n",
            "92\n",
            "94\n",
            "96\n",
            "98\n"
          ]
        }
      ]
    },
    {
      "cell_type": "code",
      "source": [
        "# using while loop\n",
        "\n",
        "i=1\n",
        "while(i<=100):\n",
        "  if(i%2==0):\n",
        "    print(i)\n",
        "  i=i+1"
      ],
      "metadata": {
        "colab": {
          "base_uri": "https://localhost:8080/"
        },
        "id": "BBYZUwydZ3kX",
        "outputId": "447e3c2e-1bc8-4441-a279-317fea3c0cae"
      },
      "execution_count": null,
      "outputs": [
        {
          "output_type": "stream",
          "name": "stdout",
          "text": [
            "2\n",
            "4\n",
            "6\n",
            "8\n",
            "10\n",
            "12\n",
            "14\n",
            "16\n",
            "18\n",
            "20\n",
            "22\n",
            "24\n",
            "26\n",
            "28\n",
            "30\n",
            "32\n",
            "34\n",
            "36\n",
            "38\n",
            "40\n",
            "42\n",
            "44\n",
            "46\n",
            "48\n",
            "50\n",
            "52\n",
            "54\n",
            "56\n",
            "58\n",
            "60\n",
            "62\n",
            "64\n",
            "66\n",
            "68\n",
            "70\n",
            "72\n",
            "74\n",
            "76\n",
            "78\n",
            "80\n",
            "82\n",
            "84\n",
            "86\n",
            "88\n",
            "90\n",
            "92\n",
            "94\n",
            "96\n",
            "98\n",
            "100\n"
          ]
        }
      ]
    },
    {
      "cell_type": "code",
      "source": [
        "#que=5\n",
        "\n",
        "#  find the sum of all odd number"
      ],
      "metadata": {
        "id": "a78i-RkacFy8"
      },
      "execution_count": null,
      "outputs": []
    },
    {
      "cell_type": "code",
      "source": [
        "sum=0\n",
        "num=int(input(\"enter a number:\"))\n",
        "for i in range(1,num):\n",
        "  if(i%2!=0):\n",
        "    sum=sum+i\n",
        "    print(i,sum)\n"
      ],
      "metadata": {
        "colab": {
          "base_uri": "https://localhost:8080/"
        },
        "id": "8qjwWsV8cWds",
        "outputId": "e6081e68-7b00-4cd1-e22e-ee239b19bd7b"
      },
      "execution_count": null,
      "outputs": [
        {
          "output_type": "stream",
          "name": "stdout",
          "text": [
            "enter a number:20\n",
            "1 1\n",
            "3 4\n",
            "5 9\n",
            "7 16\n",
            "9 25\n",
            "11 36\n",
            "13 49\n",
            "15 64\n",
            "17 81\n",
            "19 100\n"
          ]
        }
      ]
    },
    {
      "cell_type": "code",
      "source": [
        "# using while loop\n",
        "\n",
        "'''num=int(input(\"enter a number:\"))\n",
        "i=1\n",
        "sum=0\n",
        "while(i<=num):\n",
        "  if(i%2!=0):\n",
        "    sum=sum+i\n",
        "    i=i+1\n",
        "    print(i,sum)'''\n",
        "\n",
        "num = int(input(\"Enter a number: \"))\n",
        "i = 1\n",
        "sum = 0\n",
        "while i <= num:\n",
        "    if i % 2 != 0:\n",
        "        sum = sum + i\n",
        "    print(i, sum)\n",
        "    i = i + 1\n"
      ],
      "metadata": {
        "colab": {
          "base_uri": "https://localhost:8080/"
        },
        "id": "CuM6kKVbeUw7",
        "outputId": "1d6d2c71-e174-40a8-9e6c-45155c7b09dd"
      },
      "execution_count": null,
      "outputs": [
        {
          "output_type": "stream",
          "name": "stdout",
          "text": [
            "Enter a number: 20\n",
            "1 1\n",
            "2 1\n",
            "3 4\n",
            "4 4\n",
            "5 9\n",
            "6 9\n",
            "7 16\n",
            "8 16\n",
            "9 25\n",
            "10 25\n",
            "11 36\n",
            "12 36\n",
            "13 49\n",
            "14 49\n",
            "15 64\n",
            "16 64\n",
            "17 81\n",
            "18 81\n",
            "19 100\n",
            "20 100\n"
          ]
        }
      ]
    },
    {
      "cell_type": "code",
      "source": [
        "# que=7\n",
        "\n",
        "# count of number of digit in a number\n"
      ],
      "metadata": {
        "id": "Xu6hCDatg_mK"
      },
      "execution_count": null,
      "outputs": []
    },
    {
      "cell_type": "code",
      "source": [
        "# for loop\n",
        "num=int(input(\"enter a number :\"))\n",
        "count=0\n",
        "for i in range(num>0):\n",
        "  num=num%10\n",
        "  count=count+1\n",
        "  print(count)"
      ],
      "metadata": {
        "id": "uSyJRPuOhEic"
      },
      "execution_count": null,
      "outputs": []
    },
    {
      "cell_type": "code",
      "source": [
        "# using while loop\n",
        "\n",
        "num=int(input(\"enter a number :\"))\n",
        "count=0\n",
        "while(num>0):\n",
        "  num=num//10\n",
        "  count=count+1\n",
        "  print(count)\n"
      ],
      "metadata": {
        "colab": {
          "base_uri": "https://localhost:8080/"
        },
        "id": "mwFBTXL_jnyE",
        "outputId": "a59e87ce-6351-4107-ad34-869fdc36b7ae"
      },
      "execution_count": null,
      "outputs": [
        {
          "output_type": "stream",
          "name": "stdout",
          "text": [
            "enter a number :58987\n",
            "1\n",
            "2\n",
            "3\n",
            "4\n",
            "5\n"
          ]
        }
      ]
    },
    {
      "cell_type": "code",
      "source": [
        "# que=8 calculate the sum of digit of a givven number"
      ],
      "metadata": {
        "id": "u4Id4uJmrlxG"
      },
      "execution_count": null,
      "outputs": []
    },
    {
      "cell_type": "code",
      "source": [
        "num = int(input(\"Enter a number: \"))\n",
        "sum = 0\n",
        "\n",
        "while num > 0:\n",
        "    digit = num % 10  # आखिरी अंक निकालना\n",
        "    sum=sum+digit  # अंक का योग जोड़ना\n",
        "    num //= 10  # अंक को हटाना\n",
        "\n",
        "print(\"Sum of digits:\", sum)  # अंक का योग प्रिंट करना\n",
        "\n"
      ],
      "metadata": {
        "colab": {
          "base_uri": "https://localhost:8080/"
        },
        "id": "0OQBE3M-qh2M",
        "outputId": "2219ae20-95e2-4ee8-fad1-2e8dff6f1aed"
      },
      "execution_count": null,
      "outputs": [
        {
          "output_type": "stream",
          "name": "stdout",
          "text": [
            "enter a number :4587\n",
            "7\n"
          ]
        }
      ]
    },
    {
      "cell_type": "code",
      "source": [
        "num = int(input(\"Enter a number: \"))\n",
        "sum = 0\n",
        "\n",
        "while num > 0:\n",
        "    digit = num % 10  # आखिरी अंक निकालना\n",
        "    sum=sum+digit  # अंक का योग जोड़ना\n",
        "    num //= 10  # अंक को हटाना\n",
        "\n",
        "print(\"Sum of digits:\", sum)  # अंक का योग प्रिंट करना"
      ],
      "metadata": {
        "colab": {
          "base_uri": "https://localhost:8080/"
        },
        "id": "zpsxVBmRBGxF",
        "outputId": "ee8d7ebe-3c06-427d-ce8c-053b7fc80271"
      },
      "execution_count": null,
      "outputs": [
        {
          "output_type": "stream",
          "name": "stdout",
          "text": [
            "Enter a number: 1584\n",
            "Sum of digits: 18\n"
          ]
        }
      ]
    },
    {
      "cell_type": "code",
      "source": [
        "# reverse number\n",
        "\n",
        "num=int(input(\"enter a number:\"))\n",
        "rev=0\n",
        "while(num>0):\n",
        "  rev=rev*10+num%10\n",
        "  num=num//10\n",
        "print(rev)"
      ],
      "metadata": {
        "colab": {
          "base_uri": "https://localhost:8080/"
        },
        "id": "5Xpph5dAEbob",
        "outputId": "21111f95-79a2-4a6e-fec9-f49bed7cd977"
      },
      "execution_count": null,
      "outputs": [
        {
          "output_type": "stream",
          "name": "stdout",
          "text": [
            "enter a number:4587\n",
            "7854\n"
          ]
        }
      ]
    }
  ]
}