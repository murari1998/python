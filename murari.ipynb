{
  "nbformat": 4,
  "nbformat_minor": 0,
  "metadata": {
    "colab": {
      "provenance": []
    },
    "kernelspec": {
      "name": "python3",
      "display_name": "Python 3"
    },
    "language_info": {
      "name": "python"
    }
  },
  "cells": [
    {
      "cell_type": "code",
      "execution_count": null,
      "metadata": {
        "colab": {
          "base_uri": "https://localhost:8080/"
        },
        "id": "X_2WzvL-JrjV",
        "outputId": "f9498252-be35-4303-d44c-040e9bb2b2f0"
      },
      "outputs": [
        {
          "output_type": "stream",
          "name": "stdout",
          "text": [
            "hello world\n"
          ]
        }
      ],
      "source": [
        " print(\"hello world\")\n"
      ]
    },
    {
      "cell_type": "code",
      "source": [
        "print(\"hey\")"
      ],
      "metadata": {
        "colab": {
          "base_uri": "https://localhost:8080/"
        },
        "id": "hcDXvlVvKLVE",
        "outputId": "266acf02-c818-453f-ca5c-3ec19a57aa28"
      },
      "execution_count": null,
      "outputs": [
        {
          "output_type": "stream",
          "name": "stdout",
          "text": [
            "hey\n"
          ]
        }
      ]
    },
    {
      "cell_type": "code",
      "source": [
        "print(\"hi\", end=\"-\")\n",
        "print(\"murari\")"
      ],
      "metadata": {
        "colab": {
          "base_uri": "https://localhost:8080/"
        },
        "id": "RzYaffyBKeDk",
        "outputId": "59b32f34-7c1a-437f-9286-270ff357b5f5"
      },
      "execution_count": null,
      "outputs": [
        {
          "output_type": "stream",
          "name": "stdout",
          "text": [
            "hi-murari\n"
          ]
        }
      ]
    },
    {
      "cell_type": "code",
      "source": [
        "x=20\n",
        "print(type(x))"
      ],
      "metadata": {
        "colab": {
          "base_uri": "https://localhost:8080/"
        },
        "id": "-U4XoIaNLG2n",
        "outputId": "ba0a8a88-2dac-430a-f441-8e555eabeaa0"
      },
      "execution_count": null,
      "outputs": [
        {
          "output_type": "stream",
          "name": "stdout",
          "text": [
            "<class 'int'>\n"
          ]
        }
      ]
    },
    {
      "cell_type": "code",
      "source": [],
      "metadata": {
        "id": "0ap7jbvHNYGY"
      },
      "execution_count": null,
      "outputs": []
    },
    {
      "cell_type": "code",
      "source": [],
      "metadata": {
        "id": "bwuArzqHNX_6"
      },
      "execution_count": null,
      "outputs": []
    },
    {
      "cell_type": "code",
      "source": [
        "x=\"saini\"\n",
        "print(type(x))"
      ],
      "metadata": {
        "colab": {
          "base_uri": "https://localhost:8080/"
        },
        "id": "hbn1zVb9MrT5",
        "outputId": "1d0008e7-ade8-4890-b382-258f43d79cbf"
      },
      "execution_count": null,
      "outputs": [
        {
          "output_type": "stream",
          "name": "stdout",
          "text": [
            "<class 'str'>\n"
          ]
        }
      ]
    },
    {
      "cell_type": "code",
      "source": [],
      "metadata": {
        "id": "d1D0aWKmM60i"
      },
      "execution_count": null,
      "outputs": []
    },
    {
      "cell_type": "code",
      "source": [
        "gendar=\"male\"\n",
        "print(type(\"gender\"))"
      ],
      "metadata": {
        "colab": {
          "base_uri": "https://localhost:8080/"
        },
        "id": "vTKI0xdXM6ft",
        "outputId": "e2057efc-80b9-4181-d4f8-58393425412c"
      },
      "execution_count": null,
      "outputs": [
        {
          "output_type": "stream",
          "name": "stdout",
          "text": [
            "<class 'str'>\n"
          ]
        }
      ]
    },
    {
      "cell_type": "code",
      "source": [
        "gender='female'\n",
        "print(type(\"gender\"))"
      ],
      "metadata": {
        "colab": {
          "base_uri": "https://localhost:8080/"
        },
        "id": "mF74bgwVN1nm",
        "outputId": "04b29579-bd1f-49cf-a284-cb4c4d4f2b5d"
      },
      "execution_count": null,
      "outputs": [
        {
          "output_type": "stream",
          "name": "stdout",
          "text": [
            "<class 'str'>\n"
          ]
        }
      ]
    },
    {
      "cell_type": "code",
      "source": [
        "address='''basant vihar\n",
        "jaipur 333305'''\n",
        "print(type(address))"
      ],
      "metadata": {
        "colab": {
          "base_uri": "https://localhost:8080/"
        },
        "id": "-QE9EJBKN1hf",
        "outputId": "597caa37-98b5-4a55-d701-ab41aa3eb2dc"
      },
      "execution_count": null,
      "outputs": [
        {
          "output_type": "stream",
          "name": "stdout",
          "text": [
            "<class 'str'>\n"
          ]
        }
      ]
    },
    {
      "cell_type": "code",
      "source": [
        "#this is basic of phyton\n",
        "\n",
        "# this is define code\n",
        "\n",
        "'''  this is a multi line comment\n",
        "\n",
        "defint'''"
      ],
      "metadata": {
        "id": "ZMup87SlPPTW"
      },
      "execution_count": null,
      "outputs": []
    },
    {
      "cell_type": "code",
      "source": [
        "#basic,print,end\n",
        "# variaable , string,multi linr string, comment,\n"
      ],
      "metadata": {
        "id": "am8Pwig2P7Ou"
      },
      "execution_count": null,
      "outputs": []
    },
    {
      "cell_type": "code",
      "source": [],
      "metadata": {
        "id": "dptwe8TRQ--M"
      },
      "execution_count": null,
      "outputs": []
    },
    {
      "cell_type": "code",
      "source": [
        "# string formatting\n",
        "\n"
      ],
      "metadata": {
        "id": "Uxh_JuYaQvYA"
      },
      "execution_count": null,
      "outputs": []
    },
    {
      "cell_type": "code",
      "source": [
        "year=2025\n",
        "company=\"regeex\"\n",
        "print(\"currnt year is\",year,\"company is=\",company)"
      ],
      "metadata": {
        "colab": {
          "base_uri": "https://localhost:8080/"
        },
        "id": "Er-nBhzVRBwy",
        "outputId": "956bfc29-9a79-41f5-9f9d-fa84bbc57634"
      },
      "execution_count": null,
      "outputs": [
        {
          "output_type": "stream",
          "name": "stdout",
          "text": [
            "currnt year is 2025 company is= regeex\n"
          ]
        }
      ]
    },
    {
      "cell_type": "code",
      "source": [
        "year=2025\n",
        "comapny=\"saini\"\n",
        "\n",
        "y = f\"currnt year is {year} company is {comapny}\"\n",
        "\n",
        "print(y)"
      ],
      "metadata": {
        "colab": {
          "base_uri": "https://localhost:8080/"
        },
        "id": "WfAxFbPMRmiC",
        "outputId": "0e495830-8850-41e6-da92-1d54c3fe35ff"
      },
      "execution_count": null,
      "outputs": [
        {
          "output_type": "stream",
          "name": "stdout",
          "text": [
            "currnt year is 2025 company is saini\n"
          ]
        }
      ]
    },
    {
      "cell_type": "code",
      "source": [
        "print(y)"
      ],
      "metadata": {
        "colab": {
          "base_uri": "https://localhost:8080/"
        },
        "id": "RPX7d1doV6CH",
        "outputId": "ac3ce2ea-f47e-4fd9-bafd-0c5bd422be3a"
      },
      "execution_count": null,
      "outputs": [
        {
          "output_type": "stream",
          "name": "stdout",
          "text": [
            "currnt year is 2025 company is saini\n"
          ]
        }
      ]
    },
    {
      "cell_type": "code",
      "source": [
        "username=\"murari\"\n",
        "msg=f\"my name is {username}\"\n",
        "print(msg)\n",
        "\n",
        "username=\"abhisek\"\n",
        "print(msg)"
      ],
      "metadata": {
        "colab": {
          "base_uri": "https://localhost:8080/"
        },
        "id": "QXWsIMqZaMnA",
        "outputId": "e50044cc-00aa-40ac-bffd-34a1f3084a0d"
      },
      "execution_count": null,
      "outputs": [
        {
          "output_type": "stream",
          "name": "stdout",
          "text": [
            "my name is murari\n",
            "my name is murari\n"
          ]
        }
      ]
    },
    {
      "cell_type": "code",
      "source": [
        "year=2025\n",
        "comapny=\"saini\"\n",
        "\n",
        "y = f\"currnt year is {year} company is {comapny}\"\n"
      ],
      "metadata": {
        "id": "D19sn6EcbrZz"
      },
      "execution_count": null,
      "outputs": []
    },
    {
      "cell_type": "code",
      "source": [
        "\"current year is{} company is ={}\".format(2025,company  )"
      ],
      "metadata": {
        "colab": {
          "base_uri": "https://localhost:8080/",
          "height": 35
        },
        "id": "qMCZG0exb4DP",
        "outputId": "d06b86c9-4d7e-43a9-9083-944e0d96d364"
      },
      "execution_count": null,
      "outputs": [
        {
          "output_type": "execute_result",
          "data": {
            "text/plain": [
              "'current year is2025 company is =saini'"
            ],
            "application/vnd.google.colaboratory.intrinsic+json": {
              "type": "string"
            }
          },
          "metadata": {},
          "execution_count": 66
        }
      ]
    },
    {
      "cell_type": "code",
      "source": [
        "\n",
        "\n",
        "\n",
        "\n",
        "\n",
        "\n",
        "\n",
        "\n",
        "\n",
        "\n",
        "\n",
        "# day 2 24 april\n",
        "\n",
        "\n",
        "\n",
        "\n",
        "\n",
        "\n"
      ],
      "metadata": {
        "id": "FsVvqi6Zcno7"
      },
      "execution_count": null,
      "outputs": []
    },
    {
      "cell_type": "code",
      "source": [
        "10/3\n"
      ],
      "metadata": {
        "colab": {
          "base_uri": "https://localhost:8080/"
        },
        "id": "YdVIlEB_d6o-",
        "outputId": "92586eba-a96e-4f71-f957-f0710bcfd62e"
      },
      "execution_count": null,
      "outputs": [
        {
          "output_type": "execute_result",
          "data": {
            "text/plain": [
              "3.3333333333333335"
            ]
          },
          "metadata": {},
          "execution_count": 67
        }
      ]
    },
    {
      "cell_type": "code",
      "source": [
        "10//3"
      ],
      "metadata": {
        "colab": {
          "base_uri": "https://localhost:8080/"
        },
        "id": "QdKX50PQeRV_",
        "outputId": "0dfcc5a9-ab18-4d3a-d6b2-fbc53516646b"
      },
      "execution_count": null,
      "outputs": [
        {
          "output_type": "execute_result",
          "data": {
            "text/plain": [
              "3"
            ]
          },
          "metadata": {},
          "execution_count": 68
        }
      ]
    },
    {
      "cell_type": "code",
      "source": [
        "3.332+10"
      ],
      "metadata": {
        "colab": {
          "base_uri": "https://localhost:8080/"
        },
        "id": "LAvs_r9OeUFx",
        "outputId": "f117bfa1-adb7-4077-cd3d-6c47ea560871"
      },
      "execution_count": null,
      "outputs": [
        {
          "output_type": "execute_result",
          "data": {
            "text/plain": [
              "13.332"
            ]
          },
          "metadata": {},
          "execution_count": 69
        }
      ]
    },
    {
      "cell_type": "code",
      "source": [
        "10%3"
      ],
      "metadata": {
        "colab": {
          "base_uri": "https://localhost:8080/"
        },
        "id": "XZxuQECNeXEE",
        "outputId": "a3ec1284-9e49-4fcc-a491-a316d35741a8"
      },
      "execution_count": null,
      "outputs": [
        {
          "output_type": "execute_result",
          "data": {
            "text/plain": [
              "1"
            ]
          },
          "metadata": {},
          "execution_count": 70
        }
      ]
    },
    {
      "cell_type": "code",
      "source": [
        "2**3\n",
        "#2*2*2"
      ],
      "metadata": {
        "colab": {
          "base_uri": "https://localhost:8080/"
        },
        "id": "briwU-8Reang",
        "outputId": "4bb5ca6c-d741-46ed-fa20-d4edb0f0a510"
      },
      "execution_count": null,
      "outputs": [
        {
          "output_type": "execute_result",
          "data": {
            "text/plain": [
              "8"
            ]
          },
          "metadata": {},
          "execution_count": 71
        }
      ]
    },
    {
      "cell_type": "code",
      "source": [
        "3**4"
      ],
      "metadata": {
        "colab": {
          "base_uri": "https://localhost:8080/"
        },
        "id": "lgJYZMnHegcd",
        "outputId": "c073c939-f5e3-4069-ebba-2e8d744e0527"
      },
      "execution_count": null,
      "outputs": [
        {
          "output_type": "execute_result",
          "data": {
            "text/plain": [
              "81"
            ]
          },
          "metadata": {},
          "execution_count": 72
        }
      ]
    },
    {
      "cell_type": "code",
      "source": [
        "\n",
        "2*2/4-1"
      ],
      "metadata": {
        "colab": {
          "base_uri": "https://localhost:8080/"
        },
        "id": "Rt-QAv4jejZt",
        "outputId": "76629c3a-154f-454e-c63f-fbdaeb252e29"
      },
      "execution_count": null,
      "outputs": [
        {
          "output_type": "execute_result",
          "data": {
            "text/plain": [
              "0.0"
            ]
          },
          "metadata": {},
          "execution_count": 1
        }
      ]
    },
    {
      "cell_type": "code",
      "source": [
        "3+2*2/4-1"
      ],
      "metadata": {
        "colab": {
          "base_uri": "https://localhost:8080/"
        },
        "id": "HT3OKdTee2bm",
        "outputId": "82d706e3-674f-40d7-c51f-42b6da336ba2"
      },
      "execution_count": null,
      "outputs": [
        {
          "output_type": "execute_result",
          "data": {
            "text/plain": [
              "3.0"
            ]
          },
          "metadata": {},
          "execution_count": 75
        }
      ]
    },
    {
      "cell_type": "code",
      "source": [
        "'''priorty in python\n",
        "\n",
        "**\n",
        "* / // %\n",
        "\n",
        "+ -\n",
        "\n",
        "\n",
        "\n",
        "\n",
        "'''"
      ],
      "metadata": {
        "id": "pTHCxuw6fJrs"
      },
      "execution_count": null,
      "outputs": []
    },
    {
      "cell_type": "code",
      "source": [
        "# comparison operator => true/false\n",
        "\n",
        "10>2\n",
        "#  >, >= , <, <=, ==, !="
      ],
      "metadata": {
        "id": "FkvfZrxYfrzO"
      },
      "execution_count": null,
      "outputs": []
    },
    {
      "cell_type": "code",
      "source": [
        "x=10\n",
        "x+5\n",
        "print(x)"
      ],
      "metadata": {
        "colab": {
          "base_uri": "https://localhost:8080/"
        },
        "id": "3I5gnMdkgW9M",
        "outputId": "3cf0e48f-1ae7-4c0d-e767-f9b9c5887bae"
      },
      "execution_count": null,
      "outputs": [
        {
          "output_type": "stream",
          "name": "stdout",
          "text": [
            "10\n"
          ]
        }
      ]
    },
    {
      "cell_type": "code",
      "source": [
        "x=10\n",
        "x=x+5\n",
        "print(x)"
      ],
      "metadata": {
        "colab": {
          "base_uri": "https://localhost:8080/"
        },
        "id": "YGze7dtEgihi",
        "outputId": "f8a94a4e-3d4c-47f0-f61b-337f3b41d43d"
      },
      "execution_count": null,
      "outputs": [
        {
          "output_type": "stream",
          "name": "stdout",
          "text": [
            "15\n"
          ]
        }
      ]
    },
    {
      "cell_type": "code",
      "source": [
        "x=10\n",
        "x+=5   #x=x+5   , +=, -=, %=\n",
        "print(x)"
      ],
      "metadata": {
        "colab": {
          "base_uri": "https://localhost:8080/"
        },
        "id": "-gJeE30ugoVI",
        "outputId": "e705c3ef-8aaf-41ff-fe2a-6b62a33d5eb4"
      },
      "execution_count": null,
      "outputs": [
        {
          "output_type": "stream",
          "name": "stdout",
          "text": [
            "15\n"
          ]
        }
      ]
    },
    {
      "cell_type": "code",
      "source": [
        "x=26\n",
        "x%=4  # x=x%4\n",
        "print(x)"
      ],
      "metadata": {
        "colab": {
          "base_uri": "https://localhost:8080/"
        },
        "id": "SlUufB1yhZP9",
        "outputId": "53cc19a4-f136-4ca2-b176-c2e3f0969dd1"
      },
      "execution_count": null,
      "outputs": [
        {
          "output_type": "stream",
          "name": "stdout",
          "text": [
            "2\n"
          ]
        }
      ]
    },
    {
      "cell_type": "code",
      "source": [
        "  # logical operator    alll condiction are true than true otherthan false\n",
        "10>2  and 10>5"
      ],
      "metadata": {
        "colab": {
          "base_uri": "https://localhost:8080/"
        },
        "id": "0h5byrsbh_cJ",
        "outputId": "b262cecc-7327-456f-d0b3-afaa8e8637c9"
      },
      "execution_count": null,
      "outputs": [
        {
          "output_type": "execute_result",
          "data": {
            "text/plain": [
              "True"
            ]
          },
          "metadata": {},
          "execution_count": 83
        }
      ]
    },
    {
      "cell_type": "code",
      "source": [
        "10>2 or 10>50  # one condiction is true than true"
      ],
      "metadata": {
        "colab": {
          "base_uri": "https://localhost:8080/"
        },
        "id": "8y_stnNmj3_H",
        "outputId": "37271106-bb09-452d-92e9-c225c61aaab8"
      },
      "execution_count": null,
      "outputs": [
        {
          "output_type": "execute_result",
          "data": {
            "text/plain": [
              "True"
            ]
          },
          "metadata": {},
          "execution_count": 84
        }
      ]
    },
    {
      "cell_type": "code",
      "source": [
        "10>2 or 10>5 and 10>70"
      ],
      "metadata": {
        "colab": {
          "base_uri": "https://localhost:8080/"
        },
        "id": "rpCYcCT1kLmM",
        "outputId": "e9294624-9935-4791-b6de-db95d8033b74"
      },
      "execution_count": null,
      "outputs": [
        {
          "output_type": "execute_result",
          "data": {
            "text/plain": [
              "True"
            ]
          },
          "metadata": {},
          "execution_count": 85
        }
      ]
    },
    {
      "cell_type": "code",
      "source": [
        "# membership operator\n",
        "# used to checck whether some data is avilable into some other datatype\n",
        "\n"
      ],
      "metadata": {
        "id": "cmMOSSQmsFMk"
      },
      "execution_count": null,
      "outputs": []
    },
    {
      "cell_type": "code",
      "source": [
        "\"r\"in \"regex\""
      ],
      "metadata": {
        "colab": {
          "base_uri": "https://localhost:8080/"
        },
        "id": "lv2SSlh9saLW",
        "outputId": "7bfdd97a-7c8a-4f9d-b0e0-5f4238088d0c"
      },
      "execution_count": null,
      "outputs": [
        {
          "output_type": "execute_result",
          "data": {
            "text/plain": [
              "True"
            ]
          },
          "metadata": {},
          "execution_count": 86
        }
      ]
    },
    {
      "cell_type": "code",
      "source": [
        "\"R\"not in \"regex\""
      ],
      "metadata": {
        "colab": {
          "base_uri": "https://localhost:8080/"
        },
        "id": "qRqL2flGstwT",
        "outputId": "3fe5db3f-0052-4826-d90d-d33d491cabf4"
      },
      "execution_count": null,
      "outputs": [
        {
          "output_type": "execute_result",
          "data": {
            "text/plain": [
              "True"
            ]
          },
          "metadata": {},
          "execution_count": 88
        }
      ]
    },
    {
      "cell_type": "code",
      "source": [
        "# string indexing and slicing\n",
        "\n",
        "'''\n",
        "STRING : COLLECCTION OF CCHARCTER IN A CERTAIN ORDER\n",
        "-5-4-3-2-1  [NEGETIVE INDEX]\n",
        "REGEX\n",
        "01234 [POSITIVE INDEX]\n",
        "\n",
        "'''"
      ],
      "metadata": {
        "id": "mLyx4sBbs4GO"
      },
      "execution_count": null,
      "outputs": []
    },
    {
      "cell_type": "code",
      "source": [
        "state=\"RAJASTHAN\"\n",
        "print(state[-3])"
      ],
      "metadata": {
        "colab": {
          "base_uri": "https://localhost:8080/"
        },
        "id": "_wccCcpJu-Dr",
        "outputId": "9b618152-0187-4f38-844b-604a9a7b8b08"
      },
      "execution_count": null,
      "outputs": [
        {
          "output_type": "stream",
          "name": "stdout",
          "text": [
            "A\n"
          ]
        }
      ]
    },
    {
      "cell_type": "code",
      "source": [
        "# slicing operator : extract data from a variable or a string based on the index position\n",
        "# [start : stop : [step=1]]"
      ],
      "metadata": {
        "id": "i_yvOAfZvnWL"
      },
      "execution_count": null,
      "outputs": []
    },
    {
      "cell_type": "code",
      "source": [
        "state=\"RAJASTHAN\"\n",
        "print(state[0:4])"
      ],
      "metadata": {
        "colab": {
          "base_uri": "https://localhost:8080/"
        },
        "id": "ZmjoBPZuvd_o",
        "outputId": "9e99d57d-22c7-4fce-8116-b0a92ee3b3c3"
      },
      "execution_count": null,
      "outputs": [
        {
          "output_type": "stream",
          "name": "stdout",
          "text": [
            "RAJA\n"
          ]
        }
      ]
    },
    {
      "cell_type": "code",
      "source": [
        "state=\"RAJASTHAN\"\n",
        "print(state[2:6])"
      ],
      "metadata": {
        "colab": {
          "base_uri": "https://localhost:8080/"
        },
        "id": "pqBdzKhywQPl",
        "outputId": "e5cf29be-1a0e-462d-af93-fe43612c4f8b"
      },
      "execution_count": null,
      "outputs": [
        {
          "output_type": "stream",
          "name": "stdout",
          "text": [
            "JAST\n"
          ]
        }
      ]
    },
    {
      "cell_type": "code",
      "source": [
        "state=\"RAJASTHAN\"\n",
        "print(state[:8])"
      ],
      "metadata": {
        "colab": {
          "base_uri": "https://localhost:8080/"
        },
        "id": "RnbP3quqw-wz",
        "outputId": "951aec0f-a8ca-49d7-938e-0219f312e81e"
      },
      "execution_count": null,
      "outputs": [
        {
          "output_type": "stream",
          "name": "stdout",
          "text": [
            "RAJASTHA\n"
          ]
        }
      ]
    },
    {
      "cell_type": "code",
      "source": [
        "state=\"RAJASTHAN\"\n",
        "print(state[:5])"
      ],
      "metadata": {
        "colab": {
          "base_uri": "https://localhost:8080/"
        },
        "id": "i-e00ADSxUk8",
        "outputId": "0f5cc36f-9f73-4d64-d1bd-95a394f0c490"
      },
      "execution_count": null,
      "outputs": [
        {
          "output_type": "stream",
          "name": "stdout",
          "text": [
            "RAJAS\n"
          ]
        }
      ]
    },
    {
      "cell_type": "code",
      "source": [
        "state=\"RAJASTHAN\"\n",
        "print(state[::1])"
      ],
      "metadata": {
        "colab": {
          "base_uri": "https://localhost:8080/"
        },
        "id": "AJnfD26-xe6x",
        "outputId": "388bd43c-4609-4031-beff-d75b974ed697"
      },
      "execution_count": null,
      "outputs": [
        {
          "output_type": "stream",
          "name": "stdout",
          "text": [
            "RAJASTHAN\n"
          ]
        }
      ]
    },
    {
      "cell_type": "code",
      "source": [
        "state=\"RAJASTHAN\"\n",
        "print(state[::-1])"
      ],
      "metadata": {
        "colab": {
          "base_uri": "https://localhost:8080/"
        },
        "id": "4kdFzcpsxnxV",
        "outputId": "87f9a1a8-ed35-4946-8894-c8f09fb2398b"
      },
      "execution_count": null,
      "outputs": [
        {
          "output_type": "stream",
          "name": "stdout",
          "text": [
            "NAHTSAJAR\n"
          ]
        }
      ]
    },
    {
      "cell_type": "code",
      "source": [
        "state=\"RAJASTHAN\"\n",
        "print(state[0:-4])"
      ],
      "metadata": {
        "colab": {
          "base_uri": "https://localhost:8080/"
        },
        "id": "yY5wPx1ox1FS",
        "outputId": "1e2d27a1-248b-4d3f-d761-9a66e5606e60"
      },
      "execution_count": null,
      "outputs": [
        {
          "output_type": "stream",
          "name": "stdout",
          "text": [
            "RAJAS\n"
          ]
        }
      ]
    },
    {
      "cell_type": "code",
      "source": [
        "state=\"RAJASTHAN\"\n",
        "print(state[3:-1])"
      ],
      "metadata": {
        "colab": {
          "base_uri": "https://localhost:8080/"
        },
        "id": "WYc0DBjvyBbA",
        "outputId": "11c41147-ea3e-4b6c-ca30-8a47c4573d39"
      },
      "execution_count": null,
      "outputs": [
        {
          "output_type": "stream",
          "name": "stdout",
          "text": [
            "ASTHA\n"
          ]
        }
      ]
    },
    {
      "cell_type": "code",
      "source": [
        "state=\"RAJASTHAN\"\n",
        "print(state[-5:-1])"
      ],
      "metadata": {
        "colab": {
          "base_uri": "https://localhost:8080/"
        },
        "id": "iyI0IqhMyR9e",
        "outputId": "78938e66-9e0a-4f1a-f7ab-db4a26a730e7"
      },
      "execution_count": null,
      "outputs": [
        {
          "output_type": "stream",
          "name": "stdout",
          "text": [
            "STHA\n"
          ]
        }
      ]
    },
    {
      "cell_type": "code",
      "source": [
        "state=\"RAJASTHAN\"\n",
        "print(state[-5:7])"
      ],
      "metadata": {
        "colab": {
          "base_uri": "https://localhost:8080/"
        },
        "id": "iaGGZjvryddm",
        "outputId": "6ea2f38a-941c-4c9b-f6b5-837fe4b9328b"
      },
      "execution_count": null,
      "outputs": [
        {
          "output_type": "stream",
          "name": "stdout",
          "text": [
            "STH\n"
          ]
        }
      ]
    },
    {
      "cell_type": "code",
      "source": [
        "state=\"RAJASTHAN\"\n",
        "print(state[-5:2])"
      ],
      "metadata": {
        "colab": {
          "base_uri": "https://localhost:8080/"
        },
        "id": "9cXIsrT2yvYB",
        "outputId": "077825f5-6343-4208-ca46-39f03a64fd4c"
      },
      "execution_count": null,
      "outputs": [
        {
          "output_type": "stream",
          "name": "stdout",
          "text": [
            "\n"
          ]
        }
      ]
    },
    {
      "cell_type": "code",
      "source": [
        "\n",
        "\n",
        "\n",
        "\n",
        "\n",
        "# days 3  25/04/2025\n",
        "\n",
        "\n",
        "\n",
        "\n",
        "\n",
        "\n"
      ],
      "metadata": {
        "id": "vM7DzeEr05_M"
      },
      "execution_count": null,
      "outputs": []
    },
    {
      "cell_type": "code",
      "source": [
        "#conditional statement\n",
        "'''\n",
        "\n",
        "if(condition){\n",
        "\n",
        "statement\n",
        "\n",
        "   statement\n",
        "}\n",
        "\n",
        "if(condition):\n",
        "  statement\n",
        "\n",
        "\n",
        "\n",
        "  '''"
      ],
      "metadata": {
        "colab": {
          "base_uri": "https://localhost:8080/",
          "height": 106
        },
        "id": "bqgkxuOq1Eo7",
        "outputId": "0bd815d8-9caf-4e54-9ba2-09b3ebd95f6e"
      },
      "execution_count": null,
      "outputs": [
        {
          "output_type": "error",
          "ename": "IndentationError",
          "evalue": "unexpected indent (<ipython-input-107-eb5524e92bb5>, line 18)",
          "traceback": [
            "\u001b[0;36m  File \u001b[0;32m\"<ipython-input-107-eb5524e92bb5>\"\u001b[0;36m, line \u001b[0;32m18\u001b[0m\n\u001b[0;31m    print(\"hey\")\u001b[0m\n\u001b[0m    ^\u001b[0m\n\u001b[0;31mIndentationError\u001b[0m\u001b[0;31m:\u001b[0m unexpected indent\n"
          ]
        }
      ]
    },
    {
      "cell_type": "code",
      "source": [
        "if(True):\n",
        "  print(\"hey\")"
      ],
      "metadata": {
        "colab": {
          "base_uri": "https://localhost:8080/"
        },
        "id": "g5635sl53luY",
        "outputId": "60996afd-55d4-492d-bbcd-d19c01957b8e"
      },
      "execution_count": null,
      "outputs": [
        {
          "output_type": "stream",
          "name": "stdout",
          "text": [
            "hey\n"
          ]
        }
      ]
    },
    {
      "cell_type": "code",
      "source": [
        "if(False):\n",
        "  print(\"hey\")"
      ],
      "metadata": {
        "id": "ewJkV4vM3xbf"
      },
      "execution_count": null,
      "outputs": []
    },
    {
      "cell_type": "code",
      "source": [
        "num=10\n",
        "if(num==10):\n",
        "  print(\"number is 10\")\n",
        "\n",
        "print(\"hey\")  # outside of statement\n"
      ],
      "metadata": {
        "colab": {
          "base_uri": "https://localhost:8080/"
        },
        "id": "_te5ZKyh34Y6",
        "outputId": "ca681901-e925-40ee-e680-f077183b33cb"
      },
      "execution_count": null,
      "outputs": [
        {
          "output_type": "stream",
          "name": "stdout",
          "text": [
            "number is 10\n",
            "hey\n"
          ]
        }
      ]
    },
    {
      "cell_type": "code",
      "source": [
        "num=12\n",
        "if(num==10):\n",
        "  print(\"number is 10\")\n",
        "else:\n",
        "  print(\"condiction is false\")"
      ],
      "metadata": {
        "colab": {
          "base_uri": "https://localhost:8080/"
        },
        "id": "JbXvBesn4gLk",
        "outputId": "171b8ef0-95ce-4a0c-e915-feb8bb30b8eb"
      },
      "execution_count": null,
      "outputs": [
        {
          "output_type": "stream",
          "name": "stdout",
          "text": [
            "condiction is false\n"
          ]
        }
      ]
    },
    {
      "cell_type": "code",
      "source": [
        "num=5\n",
        "if(num%2==0):\n",
        "  print(\" number is even\")\n",
        "else:\n",
        "  print(\"number is odd\")"
      ],
      "metadata": {
        "colab": {
          "base_uri": "https://localhost:8080/"
        },
        "id": "zDTXso255T7m",
        "outputId": "3a0770f2-105c-4031-ef35-6533979b583a"
      },
      "execution_count": null,
      "outputs": [
        {
          "output_type": "stream",
          "name": "stdout",
          "text": [
            "number is odd\n"
          ]
        }
      ]
    },
    {
      "cell_type": "code",
      "source": [
        "# num=8  2,3\n",
        "# 2 = number is diveded\n",
        "# 3 =number is diveded by 3\n",
        "\n",
        "num=8\n",
        "if(num%2==0):\n",
        "  print(\"number diveded by 2\")\n",
        "\n",
        "else:\n",
        "  print(\"condiction is false\")\n",
        "\n",
        "if(num%3==0):\n",
        "  print(\"number diveded by 3\")\n",
        "else:\n",
        "  print(\"comdiction is false\")"
      ],
      "metadata": {
        "colab": {
          "base_uri": "https://localhost:8080/"
        },
        "id": "aDaroh9D5-4K",
        "outputId": "4ae4aae6-0835-4855-e72b-29411d1d0ad0"
      },
      "execution_count": null,
      "outputs": [
        {
          "output_type": "stream",
          "name": "stdout",
          "text": [
            "number diveded by 2\n",
            "comdiction is false\n"
          ]
        }
      ]
    },
    {
      "cell_type": "code",
      "source": [
        "num=7\n",
        "if(num%2==0):\n",
        "  print(\"number diveded by 2\")\n",
        "\n",
        "elif(num%3==0):\n",
        "  print(\"number diveded by 3\")\n",
        "else:\n",
        "  print(\"condiction is false\")\n"
      ],
      "metadata": {
        "colab": {
          "base_uri": "https://localhost:8080/"
        },
        "id": "qn9UhiiZ7g06",
        "outputId": "8c880cfd-f0c6-4971-b68d-4299648c6847"
      },
      "execution_count": null,
      "outputs": [
        {
          "output_type": "stream",
          "name": "stdout",
          "text": [
            "condiction is false\n"
          ]
        }
      ]
    },
    {
      "cell_type": "code",
      "source": [
        "a=7\n",
        "b=5\n",
        "c=8\n",
        "\n",
        "if(a<=b and a<=c):\n",
        "  print(\"smallest is a\")\n",
        "\n",
        "elif(b<=a and b<=c):\n",
        "  print(\"b is smallest\")\n",
        "\n",
        "else:\n",
        "  print(\"smallest is c\")"
      ],
      "metadata": {
        "colab": {
          "base_uri": "https://localhost:8080/"
        },
        "id": "gcJMsptF8S5M",
        "outputId": "c78a41b7-ea58-4864-e695-a9fd5cfdc9bc"
      },
      "execution_count": null,
      "outputs": [
        {
          "output_type": "stream",
          "name": "stdout",
          "text": [
            "b is smallest\n"
          ]
        }
      ]
    },
    {
      "cell_type": "code",
      "source": [
        "num=12\n",
        "if(num%2==0 and num%3==0):\n",
        "  print(6)\n",
        "\n",
        "elif(num%2==0):\n",
        "  print(2)\n",
        "\n",
        "elif(num%3==0):\n",
        "  print(3)\n",
        "\n",
        "else:\n",
        "  print(\"number not divided by 2 and 3\")"
      ],
      "metadata": {
        "colab": {
          "base_uri": "https://localhost:8080/"
        },
        "id": "Ku-5y5-Z-uBu",
        "outputId": "a17f2407-c292-46b5-b802-d69ce70472ad"
      },
      "execution_count": null,
      "outputs": [
        {
          "output_type": "stream",
          "name": "stdout",
          "text": [
            "6\n"
          ]
        }
      ]
    },
    {
      "cell_type": "code",
      "source": [
        "age=52\n",
        "\n",
        "if(age>=60):\n",
        "  print(\"senior citizen\")\n",
        "\n",
        "elif(age>=35):\n",
        "  print(\"yong\")\n",
        "\n",
        "elif(age>=25):\n",
        "  print(\"adult\")\n",
        "\n",
        "else:\n",
        "  print(\"child\")\n"
      ],
      "metadata": {
        "colab": {
          "base_uri": "https://localhost:8080/"
        },
        "id": "1snnREeUA-mv",
        "outputId": "517d8660-3f08-439e-f7af-9cdf801c4fa9"
      },
      "execution_count": null,
      "outputs": [
        {
          "output_type": "stream",
          "name": "stdout",
          "text": [
            "yong\n"
          ]
        }
      ]
    },
    {
      "cell_type": "code",
      "source": [
        "# nested if-else\n",
        "# condition ke andar koi condiction\n"
      ],
      "metadata": {
        "id": "Wpmd_2P0Btcy"
      },
      "execution_count": null,
      "outputs": []
    },
    {
      "cell_type": "code",
      "source": [
        "#account\n",
        "# aadhar card , pan card\n"
      ],
      "metadata": {
        "id": "T5wDgNafDVLj"
      },
      "execution_count": null,
      "outputs": []
    },
    {
      "cell_type": "code",
      "source": [
        "num=4\n",
        "if(num>2):\n",
        "  print(\"greter than 2\")\n",
        "\n",
        "else:\n",
        "  print(\"smaller than 2\")"
      ],
      "metadata": {
        "colab": {
          "base_uri": "https://localhost:8080/"
        },
        "id": "6H5k4sXQDfkG",
        "outputId": "c60e54e8-69f8-4c3f-b8c4-8abeeb292ca1"
      },
      "execution_count": null,
      "outputs": [
        {
          "output_type": "stream",
          "name": "stdout",
          "text": [
            "greter than 2\n"
          ]
        }
      ]
    },
    {
      "cell_type": "code",
      "source": [
        "num=6\n",
        "if(num>2):\n",
        "  print(\"greter than 2\")\n",
        "  if(num>4):\n",
        "    print(\"greter thsn 2 and 4\")\n",
        "\n",
        "else:\n",
        "  print(\"smaller than 2\")"
      ],
      "metadata": {
        "colab": {
          "base_uri": "https://localhost:8080/"
        },
        "id": "37ov5Z_EFasx",
        "outputId": "f07561e1-8198-44a9-98b1-a354e8482417"
      },
      "execution_count": null,
      "outputs": [
        {
          "output_type": "stream",
          "name": "stdout",
          "text": [
            "greter than 2\n",
            "greter thsn 2 and 4\n"
          ]
        }
      ]
    },
    {
      "cell_type": "code",
      "source": [
        "\n",
        "\n",
        "\n",
        "#day 4\n",
        "\n",
        "#26/04/2025\n",
        "\n",
        "\n",
        "\n",
        "\n"
      ],
      "metadata": {
        "id": "fRHw2VxMbaF0"
      },
      "execution_count": null,
      "outputs": []
    },
    {
      "cell_type": "code",
      "source": [
        "#loops =loops statement\n"
      ],
      "metadata": {
        "id": "EdLKXDycbvo7"
      },
      "execution_count": null,
      "outputs": []
    },
    {
      "cell_type": "code",
      "source": [
        "# for(int i=0; i<5; i++)\n",
        "# for i in rang (0,5)\n"
      ],
      "metadata": {
        "id": "CZ81f8WIb40r"
      },
      "execution_count": null,
      "outputs": []
    },
    {
      "cell_type": "code",
      "source": [
        "for i in range(0,5):\n",
        "  print(\"hey\",i)"
      ],
      "metadata": {
        "colab": {
          "base_uri": "https://localhost:8080/"
        },
        "id": "OraeVY6HcNBQ",
        "outputId": "da894f1a-2465-417c-dd08-600c66ff1307"
      },
      "execution_count": null,
      "outputs": [
        {
          "output_type": "stream",
          "name": "stdout",
          "text": [
            "hey 0\n",
            "hey 1\n",
            "hey 2\n",
            "hey 3\n",
            "hey 4\n"
          ]
        }
      ]
    },
    {
      "cell_type": "code",
      "source": [
        "for i in range(1,5):\n",
        "  print(\"hey\",i)"
      ],
      "metadata": {
        "colab": {
          "base_uri": "https://localhost:8080/"
        },
        "id": "-lHYU2rKce15",
        "outputId": "f0be1771-770b-4a62-d5f6-dd655f659a41"
      },
      "execution_count": null,
      "outputs": [
        {
          "output_type": "stream",
          "name": "stdout",
          "text": [
            "hey 1\n",
            "hey 2\n",
            "hey 3\n",
            "hey 4\n"
          ]
        }
      ]
    },
    {
      "cell_type": "code",
      "source": [
        "for i in range(1,7,2):\n",
        "  print(\"hey\",i)"
      ],
      "metadata": {
        "colab": {
          "base_uri": "https://localhost:8080/"
        },
        "id": "ApZi0504dMqE",
        "outputId": "93c2c94e-4f1c-4c40-e70b-5c98abbcbe4c"
      },
      "execution_count": null,
      "outputs": [
        {
          "output_type": "stream",
          "name": "stdout",
          "text": [
            "hey 1\n",
            "hey 3\n",
            "hey 5\n"
          ]
        }
      ]
    },
    {
      "cell_type": "code",
      "source": [
        "for i in range(1,10,2):\n",
        "  print(\"hey\",i)"
      ],
      "metadata": {
        "colab": {
          "base_uri": "https://localhost:8080/"
        },
        "id": "bj9GEzBEdjoG",
        "outputId": "2934c7aa-c1fe-440a-8e68-01e9135742a6"
      },
      "execution_count": null,
      "outputs": [
        {
          "output_type": "stream",
          "name": "stdout",
          "text": [
            "hey 1\n",
            "hey 3\n",
            "hey 5\n",
            "hey 7\n",
            "hey 9\n"
          ]
        }
      ]
    },
    {
      "cell_type": "code",
      "source": [
        "for i in range(5,1,-1):\n",
        "  print(\"hey\",i)"
      ],
      "metadata": {
        "colab": {
          "base_uri": "https://localhost:8080/"
        },
        "id": "nhaX_4RbdxDb",
        "outputId": "f411cbc2-adff-421c-a66f-1417170fc495"
      },
      "execution_count": null,
      "outputs": [
        {
          "output_type": "stream",
          "name": "stdout",
          "text": [
            "hey 5\n",
            "hey 4\n",
            "hey 3\n",
            "hey 2\n"
          ]
        }
      ]
    },
    {
      "cell_type": "code",
      "source": [
        "total=0\n",
        "for i in range(1,8):\n",
        "\n",
        "  total=total+i  #total=total=1\n",
        "  print(\"hey\",i,total)"
      ],
      "metadata": {
        "colab": {
          "base_uri": "https://localhost:8080/"
        },
        "id": "tbZBdCRreAqQ",
        "outputId": "6bfe7f99-f769-4464-cef2-ab0c6289a8c5"
      },
      "execution_count": null,
      "outputs": [
        {
          "output_type": "stream",
          "name": "stdout",
          "text": [
            "hey 1 1\n",
            "hey 2 3\n",
            "hey 3 6\n",
            "hey 4 10\n",
            "hey 5 15\n",
            "hey 6 21\n",
            "hey 7 28\n"
          ]
        }
      ]
    },
    {
      "cell_type": "code",
      "source": [
        "total=0\n",
        "for i in range(95,57,-1):\n",
        "  total=total+i\n",
        "  print(\"hey\",i, total)"
      ],
      "metadata": {
        "colab": {
          "base_uri": "https://localhost:8080/"
        },
        "id": "JaMdkq5IgBBQ",
        "outputId": "d3d30494-98b8-47cb-f0d1-eccf82030a51"
      },
      "execution_count": null,
      "outputs": [
        {
          "output_type": "stream",
          "name": "stdout",
          "text": [
            "hey 95 95\n",
            "hey 94 189\n",
            "hey 93 282\n",
            "hey 92 374\n",
            "hey 91 465\n",
            "hey 90 555\n",
            "hey 89 644\n",
            "hey 88 732\n",
            "hey 87 819\n",
            "hey 86 905\n",
            "hey 85 990\n",
            "hey 84 1074\n",
            "hey 83 1157\n",
            "hey 82 1239\n",
            "hey 81 1320\n",
            "hey 80 1400\n",
            "hey 79 1479\n",
            "hey 78 1557\n",
            "hey 77 1634\n",
            "hey 76 1710\n",
            "hey 75 1785\n",
            "hey 74 1859\n",
            "hey 73 1932\n",
            "hey 72 2004\n",
            "hey 71 2075\n",
            "hey 70 2145\n",
            "hey 69 2214\n",
            "hey 68 2282\n",
            "hey 67 2349\n",
            "hey 66 2415\n",
            "hey 65 2480\n",
            "hey 64 2544\n",
            "hey 63 2607\n",
            "hey 62 2669\n",
            "hey 61 2730\n",
            "hey 60 2790\n",
            "hey 59 2849\n",
            "hey 58 2907\n"
          ]
        }
      ]
    },
    {
      "cell_type": "code",
      "source": [
        "\n",
        "for i in range(1,7):\n",
        "  if(i%2==0):\n",
        "    print(\"diveded by 2  :\",i)"
      ],
      "metadata": {
        "colab": {
          "base_uri": "https://localhost:8080/"
        },
        "id": "JMu3RwtEhtDQ",
        "outputId": "a6601cff-4cbb-4f81-8f59-5d4e88306e09"
      },
      "execution_count": null,
      "outputs": [
        {
          "output_type": "stream",
          "name": "stdout",
          "text": [
            "diveded by 2  : 2\n",
            "diveded by 2  : 4\n",
            "diveded by 2  : 6\n"
          ]
        }
      ]
    },
    {
      "cell_type": "code",
      "source": [
        "total=0\n",
        "for i in range(40,17,-1):\n",
        "  if(i%2!=0):\n",
        "    total=total+i\n",
        "print(total)"
      ],
      "metadata": {
        "colab": {
          "base_uri": "https://localhost:8080/"
        },
        "id": "PlG9kZvAib7H",
        "outputId": "184777e8-290d-46bf-b4e4-d61ef1db19b5"
      },
      "execution_count": null,
      "outputs": [
        {
          "output_type": "stream",
          "name": "stdout",
          "text": [
            "319\n"
          ]
        }
      ]
    },
    {
      "cell_type": "code",
      "source": [
        "print( ord(\"b\"))"
      ],
      "metadata": {
        "colab": {
          "base_uri": "https://localhost:8080/"
        },
        "id": "bfJTcoJpkVSw",
        "outputId": "b1177461-7617-475a-dcee-4ea4912ef6f2"
      },
      "execution_count": null,
      "outputs": [
        {
          "output_type": "stream",
          "name": "stdout",
          "text": [
            "98\n"
          ]
        }
      ]
    },
    {
      "cell_type": "code",
      "source": [
        "print( ord(\"A\"))"
      ],
      "metadata": {
        "colab": {
          "base_uri": "https://localhost:8080/"
        },
        "id": "tKg3Mh2zkcPD",
        "outputId": "b6c31680-56d5-426a-abe6-36c90cf8337e"
      },
      "execution_count": null,
      "outputs": [
        {
          "output_type": "stream",
          "name": "stdout",
          "text": [
            "65\n"
          ]
        }
      ]
    },
    {
      "cell_type": "code",
      "source": [
        "print( ord(\"1\"))"
      ],
      "metadata": {
        "colab": {
          "base_uri": "https://localhost:8080/"
        },
        "id": "Tf9okSw0khse",
        "outputId": "21dec6f0-5080-489e-f2ba-538e8f1561e1"
      },
      "execution_count": null,
      "outputs": [
        {
          "output_type": "stream",
          "name": "stdout",
          "text": [
            "49\n"
          ]
        }
      ]
    },
    {
      "cell_type": "code",
      "source": [
        "print(chr(97))"
      ],
      "metadata": {
        "colab": {
          "base_uri": "https://localhost:8080/"
        },
        "id": "FCjlscGjkhCR",
        "outputId": "e86069a3-76b9-44ed-fca3-91f1d161f0ff"
      },
      "execution_count": null,
      "outputs": [
        {
          "output_type": "stream",
          "name": "stdout",
          "text": [
            "a\n"
          ]
        }
      ]
    },
    {
      "cell_type": "code",
      "source": [
        "print(chr(65))"
      ],
      "metadata": {
        "colab": {
          "base_uri": "https://localhost:8080/"
        },
        "id": "F1mNF0x8lFSj",
        "outputId": "06c85e07-e7ba-49a6-ed05-44335c8cf569"
      },
      "execution_count": null,
      "outputs": [
        {
          "output_type": "stream",
          "name": "stdout",
          "text": [
            "A\n"
          ]
        }
      ]
    },
    {
      "cell_type": "code",
      "source": [
        "x=\"yash\"\n",
        "for i in x:   # x= iterable (direct for loop)\n",
        "  print(i)"
      ],
      "metadata": {
        "colab": {
          "base_uri": "https://localhost:8080/"
        },
        "id": "LC06tyXxlQen",
        "outputId": "73828678-32f9-4c69-d489-eb459ce19595"
      },
      "execution_count": null,
      "outputs": [
        {
          "output_type": "stream",
          "name": "stdout",
          "text": [
            "y\n",
            "a\n",
            "s\n",
            "h\n"
          ]
        }
      ]
    },
    {
      "cell_type": "code",
      "source": [
        "x=\"yash\"\n",
        "for i in range(0,4):\n",
        "  print(i)"
      ],
      "metadata": {
        "colab": {
          "base_uri": "https://localhost:8080/"
        },
        "id": "-ge4Qp2Ul2Q_",
        "outputId": "e9ff26ef-4627-4544-df71-7f8a8217e453"
      },
      "execution_count": null,
      "outputs": [
        {
          "output_type": "stream",
          "name": "stdout",
          "text": [
            "0\n",
            "1\n",
            "2\n",
            "3\n"
          ]
        }
      ]
    },
    {
      "cell_type": "code",
      "source": [
        "data=\"yash\"\n",
        "for i in range(0,4):\n",
        "  print(i,data[i])"
      ],
      "metadata": {
        "colab": {
          "base_uri": "https://localhost:8080/"
        },
        "id": "ZLvLSnvNmnGU",
        "outputId": "229b589f-1331-4ff7-b6cf-b283410204a5"
      },
      "execution_count": null,
      "outputs": [
        {
          "output_type": "stream",
          "name": "stdout",
          "text": [
            "0 y\n",
            "1 a\n",
            "2 s\n",
            "3 h\n"
          ]
        }
      ]
    },
    {
      "cell_type": "code",
      "source": [
        "data=\"SAINIMURARI\"\n",
        "len(data)"
      ],
      "metadata": {
        "colab": {
          "base_uri": "https://localhost:8080/"
        },
        "id": "kwAXHfYIm7kt",
        "outputId": "59a8e1d6-3ed3-4478-8f95-1feaa604d0f0"
      },
      "execution_count": null,
      "outputs": [
        {
          "output_type": "execute_result",
          "data": {
            "text/plain": [
              "11"
            ]
          },
          "metadata": {},
          "execution_count": 201
        }
      ]
    },
    {
      "cell_type": "code",
      "source": [
        "data=\"HEYUSERABC\"\n",
        "for i in range(0,10):\n",
        "  print(i,data[i])"
      ],
      "metadata": {
        "colab": {
          "base_uri": "https://localhost:8080/"
        },
        "id": "ts9Fs8dym6gC",
        "outputId": "239ed1f2-54ce-489f-a309-e7d36da22d67"
      },
      "execution_count": null,
      "outputs": [
        {
          "output_type": "stream",
          "name": "stdout",
          "text": [
            "0 H\n",
            "1 E\n",
            "2 Y\n",
            "3 U\n",
            "4 S\n",
            "5 E\n",
            "6 R\n",
            "7 A\n",
            "8 B\n",
            "9 C\n"
          ]
        }
      ]
    },
    {
      "cell_type": "code",
      "source": [
        "data=\"HEYUSERABCD\"\n",
        "for i in  range(0,len(data)):\n",
        "  print(i,data[i])"
      ],
      "metadata": {
        "colab": {
          "base_uri": "https://localhost:8080/"
        },
        "id": "uuQ4hIT0nxhd",
        "outputId": "73cba0fd-8750-48eb-bdaf-6b50642ea6e8"
      },
      "execution_count": null,
      "outputs": [
        {
          "output_type": "stream",
          "name": "stdout",
          "text": [
            "0 H\n",
            "1 E\n",
            "2 Y\n",
            "3 U\n",
            "4 S\n",
            "5 E\n",
            "6 R\n",
            "7 A\n",
            "8 B\n",
            "9 C\n",
            "10 D\n"
          ]
        }
      ]
    },
    {
      "cell_type": "code",
      "source": [
        "192//10\n",
        "19//10\n",
        "1//10"
      ],
      "metadata": {
        "colab": {
          "base_uri": "https://localhost:8080/"
        },
        "id": "c_8W8GEHvB1C",
        "outputId": "311fdc2a-a5c9-45c8-9183-f2fa0ee0ea51"
      },
      "execution_count": null,
      "outputs": [
        {
          "output_type": "execute_result",
          "data": {
            "text/plain": [
              "0"
            ]
          },
          "metadata": {},
          "execution_count": 38
        }
      ]
    },
    {
      "cell_type": "code",
      "source": [
        "\n",
        "\n",
        "\n",
        "\n",
        "\n",
        "#  days   5\n",
        "\n",
        "\n",
        "#28/04/2025\n",
        "\n",
        "\n",
        "#for loop\n",
        "# while loop\n",
        "\n",
        "\n",
        "\n",
        "\n"
      ],
      "metadata": {
        "id": "5quZfU3mvwJP"
      },
      "execution_count": null,
      "outputs": []
    },
    {
      "cell_type": "code",
      "source": [
        "'''\n",
        "for i in range(1,5):\n",
        "\n",
        "\n",
        "\n",
        "  while(condiction):  #condiction =true\n",
        "    statement"
      ],
      "metadata": {
        "id": "dANUjgBoxAew"
      },
      "execution_count": null,
      "outputs": []
    },
    {
      "cell_type": "code",
      "source": [
        "i=1\n",
        "while(i<5):\n",
        "  print(\"hi\")\n",
        "  i=i+1"
      ],
      "metadata": {
        "colab": {
          "base_uri": "https://localhost:8080/"
        },
        "id": "JW6N-E3BxR-I",
        "outputId": "f0c66e9b-adf0-43c6-915e-878546d4eb34"
      },
      "execution_count": null,
      "outputs": [
        {
          "output_type": "stream",
          "name": "stdout",
          "text": [
            "hi\n",
            "hi\n",
            "hi\n",
            "hi\n"
          ]
        }
      ]
    },
    {
      "cell_type": "code",
      "source": [
        "i=3\n",
        "total=0\n",
        "while(i<77):\n",
        "  total=total+i\n",
        "  print(i,total)\n",
        "  i+=1\n"
      ],
      "metadata": {
        "colab": {
          "base_uri": "https://localhost:8080/"
        },
        "id": "8urqN5D4yvL9",
        "outputId": "fe743e04-da4c-496a-8897-b072390e94a1"
      },
      "execution_count": null,
      "outputs": [
        {
          "output_type": "stream",
          "name": "stdout",
          "text": [
            "3 3\n",
            "4 7\n",
            "5 12\n",
            "6 18\n",
            "7 25\n",
            "8 33\n",
            "9 42\n",
            "10 52\n",
            "11 63\n",
            "12 75\n",
            "13 88\n",
            "14 102\n",
            "15 117\n",
            "16 133\n",
            "17 150\n",
            "18 168\n",
            "19 187\n",
            "20 207\n",
            "21 228\n",
            "22 250\n",
            "23 273\n",
            "24 297\n",
            "25 322\n",
            "26 348\n",
            "27 375\n",
            "28 403\n",
            "29 432\n",
            "30 462\n",
            "31 493\n",
            "32 525\n",
            "33 558\n",
            "34 592\n",
            "35 627\n",
            "36 663\n",
            "37 700\n",
            "38 738\n",
            "39 777\n",
            "40 817\n",
            "41 858\n",
            "42 900\n",
            "43 943\n",
            "44 987\n",
            "45 1032\n",
            "46 1078\n",
            "47 1125\n",
            "48 1173\n",
            "49 1222\n",
            "50 1272\n",
            "51 1323\n",
            "52 1375\n",
            "53 1428\n",
            "54 1482\n",
            "55 1537\n",
            "56 1593\n",
            "57 1650\n",
            "58 1708\n",
            "59 1767\n",
            "60 1827\n",
            "61 1888\n",
            "62 1950\n",
            "63 2013\n",
            "64 2077\n",
            "65 2142\n",
            "66 2208\n",
            "67 2275\n",
            "68 2343\n",
            "69 2412\n",
            "70 2482\n",
            "71 2553\n",
            "72 2625\n",
            "73 2698\n",
            "74 2772\n",
            "75 2847\n",
            "76 2923\n"
          ]
        }
      ]
    },
    {
      "cell_type": "code",
      "source": [
        "num=2379\n",
        "while(num>0):\n",
        "  rem=num%10\n",
        "  num=num//10\n",
        "  print(rem,num)"
      ],
      "metadata": {
        "colab": {
          "base_uri": "https://localhost:8080/"
        },
        "id": "Ddudh2P6zQl3",
        "outputId": "ca06a2ac-68f6-4d35-b687-104d8654bce3"
      },
      "execution_count": null,
      "outputs": [
        {
          "output_type": "stream",
          "name": "stdout",
          "text": [
            "9 237\n",
            "7 23\n",
            "3 2\n",
            "2 0\n"
          ]
        }
      ]
    },
    {
      "cell_type": "code",
      "source": [
        "i=80\n",
        "while(i>=20):\n",
        "  if(i%7==0):\n",
        "    print(\"hey\",i)\n",
        "  i-=1"
      ],
      "metadata": {
        "colab": {
          "base_uri": "https://localhost:8080/"
        },
        "id": "yfmMqU857Hly",
        "outputId": "00e6a9dc-c366-4306-e56d-e6339d961fcc"
      },
      "execution_count": null,
      "outputs": [
        {
          "output_type": "stream",
          "name": "stdout",
          "text": [
            "hey 77\n",
            "hey 70\n",
            "hey 63\n",
            "hey 56\n",
            "hey 49\n",
            "hey 42\n",
            "hey 35\n",
            "hey 28\n",
            "hey 21\n"
          ]
        }
      ]
    },
    {
      "cell_type": "code",
      "source": [
        "i=80\n",
        "while(i>=20):\n",
        "  if(i%7==00):\n",
        "    print(i)\n",
        "  i=i-1"
      ],
      "metadata": {
        "colab": {
          "base_uri": "https://localhost:8080/"
        },
        "id": "kLWUuD3pbm4x",
        "outputId": "5d5c3c2a-4997-4eb2-8f11-db7a35dd682f"
      },
      "execution_count": null,
      "outputs": [
        {
          "output_type": "stream",
          "name": "stdout",
          "text": [
            "77\n",
            "70\n",
            "63\n",
            "56\n",
            "49\n",
            "42\n",
            "35\n",
            "28\n",
            "21\n"
          ]
        }
      ]
    },
    {
      "cell_type": "code",
      "source": [
        "print(\"hello worlld\")"
      ],
      "metadata": {
        "colab": {
          "base_uri": "https://localhost:8080/"
        },
        "id": "oW0msDe573P4",
        "outputId": "af069c4e-5025-4289-b8c7-388a76b299da"
      },
      "execution_count": null,
      "outputs": [
        {
          "output_type": "stream",
          "name": "stdout",
          "text": [
            "hello worlld\n"
          ]
        }
      ]
    },
    {
      "cell_type": "code",
      "source": [
        "i=1\n",
        "count=0\n",
        "sum=0\n",
        "while(i<151):\n",
        "  if(i%2!=0):\n",
        "    sum=sum+i\n",
        "    count=count+1\n",
        "    print(i,sum,count)\n",
        "  i+=1\n",
        "\n"
      ],
      "metadata": {
        "colab": {
          "base_uri": "https://localhost:8080/"
        },
        "id": "LcU5W27B8yU5",
        "outputId": "23359714-6475-4f32-d098-0a5897e1869b"
      },
      "execution_count": null,
      "outputs": [
        {
          "output_type": "stream",
          "name": "stdout",
          "text": [
            "1 1 1\n",
            "3 4 2\n",
            "5 9 3\n",
            "7 16 4\n",
            "9 25 5\n",
            "11 36 6\n",
            "13 49 7\n",
            "15 64 8\n",
            "17 81 9\n",
            "19 100 10\n",
            "21 121 11\n",
            "23 144 12\n",
            "25 169 13\n",
            "27 196 14\n",
            "29 225 15\n",
            "31 256 16\n",
            "33 289 17\n",
            "35 324 18\n",
            "37 361 19\n",
            "39 400 20\n",
            "41 441 21\n",
            "43 484 22\n",
            "45 529 23\n",
            "47 576 24\n",
            "49 625 25\n",
            "51 676 26\n",
            "53 729 27\n",
            "55 784 28\n",
            "57 841 29\n",
            "59 900 30\n",
            "61 961 31\n",
            "63 1024 32\n",
            "65 1089 33\n",
            "67 1156 34\n",
            "69 1225 35\n",
            "71 1296 36\n",
            "73 1369 37\n",
            "75 1444 38\n",
            "77 1521 39\n",
            "79 1600 40\n",
            "81 1681 41\n",
            "83 1764 42\n",
            "85 1849 43\n",
            "87 1936 44\n",
            "89 2025 45\n",
            "91 2116 46\n",
            "93 2209 47\n",
            "95 2304 48\n",
            "97 2401 49\n",
            "99 2500 50\n",
            "101 2601 51\n",
            "103 2704 52\n",
            "105 2809 53\n",
            "107 2916 54\n",
            "109 3025 55\n",
            "111 3136 56\n",
            "113 3249 57\n",
            "115 3364 58\n",
            "117 3481 59\n",
            "119 3600 60\n",
            "121 3721 61\n",
            "123 3844 62\n",
            "125 3969 63\n",
            "127 4096 64\n",
            "129 4225 65\n",
            "131 4356 66\n",
            "133 4489 67\n",
            "135 4624 68\n",
            "137 4761 69\n",
            "139 4900 70\n",
            "141 5041 71\n",
            "143 5184 72\n",
            "145 5329 73\n",
            "147 5476 74\n",
            "149 5625 75\n"
          ]
        }
      ]
    },
    {
      "cell_type": "code",
      "source": [
        "#factor\n",
        "num=8\n",
        "i=1\n",
        "while(i<=num):\n",
        "  if(num%i==0):\n",
        "    print(\"factor=\",i)\n",
        "  i+=1"
      ],
      "metadata": {
        "colab": {
          "base_uri": "https://localhost:8080/"
        },
        "id": "yBJJlrgyApVT",
        "outputId": "ec49f68f-a498-4fe8-df4b-8ab8649cae22"
      },
      "execution_count": null,
      "outputs": [
        {
          "output_type": "stream",
          "name": "stdout",
          "text": [
            "factor= 1\n",
            "factor= 2\n",
            "factor= 4\n",
            "factor= 8\n"
          ]
        }
      ]
    },
    {
      "cell_type": "code",
      "source": [
        "# breck\n",
        "\n",
        "for i in range(1,6):\n",
        "  print(i)\n",
        "  break\n",
        "\n",
        "print(\"----outside loop----\")\n"
      ],
      "metadata": {
        "colab": {
          "base_uri": "https://localhost:8080/"
        },
        "id": "t-0Sh1c5Bp1Q",
        "outputId": "fa582952-711d-4ba9-deda-75d8f4ff4dd0"
      },
      "execution_count": null,
      "outputs": [
        {
          "output_type": "stream",
          "name": "stdout",
          "text": [
            "1\n",
            "----outside loop----\n"
          ]
        }
      ]
    },
    {
      "cell_type": "code",
      "source": [
        "\n",
        "for i in range(1,6):\n",
        "  if(i==3):\n",
        "    break\n",
        "  print(i)\n",
        "\n",
        "print(\"--outside loop--\")"
      ],
      "metadata": {
        "colab": {
          "base_uri": "https://localhost:8080/"
        },
        "id": "i0_fDDfTDElH",
        "outputId": "316778a3-2f33-4af3-f98f-1b60754edef3"
      },
      "execution_count": null,
      "outputs": [
        {
          "output_type": "stream",
          "name": "stdout",
          "text": [
            "1\n",
            "2\n",
            "--outside loop--\n"
          ]
        }
      ]
    },
    {
      "cell_type": "code",
      "source": [
        "# continue\n",
        "\n",
        "for i in range(1,6):\n",
        "  if(i==3):\n",
        "    continue\n",
        "  print(i)\n",
        "\n",
        "print(\"--outside loop--\")"
      ],
      "metadata": {
        "colab": {
          "base_uri": "https://localhost:8080/"
        },
        "id": "jv5T3jdvDr7E",
        "outputId": "4499afbe-af89-423d-8e6c-9ad18051e83a"
      },
      "execution_count": null,
      "outputs": [
        {
          "output_type": "stream",
          "name": "stdout",
          "text": [
            "1\n",
            "2\n",
            "4\n",
            "5\n",
            "--outside loop--\n"
          ]
        }
      ]
    },
    {
      "cell_type": "code",
      "source": [
        "# continue\n",
        "total=0\n",
        "for i in range(1,100):\n",
        "  if(i%2==0 or i%3==0):\n",
        "    continue\n",
        "  total=total+i\n",
        "  print(i)\n",
        "\n",
        "print(\"--outside loop--\",total)"
      ],
      "metadata": {
        "colab": {
          "base_uri": "https://localhost:8080/"
        },
        "id": "TTXzsWDrEw5A",
        "outputId": "28ca84dd-c2ec-40e9-c265-b52186c6e4fe"
      },
      "execution_count": null,
      "outputs": [
        {
          "output_type": "stream",
          "name": "stdout",
          "text": [
            "1\n",
            "5\n",
            "7\n",
            "11\n",
            "13\n",
            "17\n",
            "19\n",
            "23\n",
            "25\n",
            "29\n",
            "31\n",
            "35\n",
            "37\n",
            "41\n",
            "43\n",
            "47\n",
            "49\n",
            "53\n",
            "55\n",
            "59\n",
            "61\n",
            "65\n",
            "67\n",
            "71\n",
            "73\n",
            "77\n",
            "79\n",
            "83\n",
            "85\n",
            "89\n",
            "91\n",
            "95\n",
            "97\n",
            "--outside loop-- 1633\n"
          ]
        }
      ]
    },
    {
      "cell_type": "code",
      "source": [
        "num=8\n",
        "count=0\n",
        "for i in range(1,num+1):\n",
        "  if(num%i==0):\n",
        "    count+=1\n",
        "\n",
        "\n",
        "    print(\"---outside loop---\",count)\n"
      ],
      "metadata": {
        "colab": {
          "base_uri": "https://localhost:8080/"
        },
        "id": "JJQxbkmjFvA9",
        "outputId": "6688c127-e3bb-4a25-eedc-2f1b6b81edd0"
      },
      "execution_count": null,
      "outputs": [
        {
          "output_type": "stream",
          "name": "stdout",
          "text": [
            "---outside loop--- 1\n",
            "---outside loop--- 2\n",
            "---outside loop--- 3\n",
            "---outside loop--- 4\n"
          ]
        }
      ]
    },
    {
      "cell_type": "code",
      "source": [
        "num=5\n",
        "count=0\n",
        "for i in range(1,num+1):\n",
        "  if(num%i==0):\n",
        "    count+=1\n",
        "\n",
        "\n",
        "  print(\"---outside loop---\",count)\n",
        "  if(count>2):\n",
        "    print(\"not a PRIME\")\n",
        "  else:\n",
        "     print(\"prime\")"
      ],
      "metadata": {
        "colab": {
          "base_uri": "https://localhost:8080/"
        },
        "id": "wX_70PFGHTXk",
        "outputId": "e73f108d-f568-4724-9f93-f74d47c1f6a9"
      },
      "execution_count": null,
      "outputs": [
        {
          "output_type": "stream",
          "name": "stdout",
          "text": [
            "---outside loop--- 1\n",
            "prime\n",
            "---outside loop--- 1\n",
            "prime\n",
            "---outside loop--- 1\n",
            "prime\n",
            "---outside loop--- 1\n",
            "prime\n",
            "---outside loop--- 2\n",
            "prime\n"
          ]
        }
      ]
    },
    {
      "cell_type": "code",
      "source": [
        "num=153\n",
        "x=num\n",
        "total=0\n",
        "while(num>0):\n",
        "  rem=num%10\n",
        "  num=num//10\n",
        "  total=total+rem**3\n",
        "  print(rem**3,num,total)\n",
        "\n",
        "if(total==x):\n",
        "  print(\"armstrong\")\n",
        "\n",
        "\n"
      ],
      "metadata": {
        "colab": {
          "base_uri": "https://localhost:8080/"
        },
        "id": "RzKoSoc2g5B8",
        "outputId": "ccf7fbc2-96b3-40ea-db98-056d6d37709d"
      },
      "execution_count": null,
      "outputs": [
        {
          "output_type": "stream",
          "name": "stdout",
          "text": [
            "27 15 27\n",
            "125 1 152\n",
            "1 0 153\n",
            "armstrong\n"
          ]
        }
      ]
    },
    {
      "cell_type": "code",
      "source": [
        "\n",
        "\n",
        "#  pattern\n",
        "\n"
      ],
      "metadata": {
        "id": "HeMQl3SRjS5D"
      },
      "execution_count": null,
      "outputs": []
    },
    {
      "cell_type": "code",
      "source": [
        "for i in range(1,5):\n",
        "  for j in range(1,5):\n",
        "    print(\"*\",end=\" \")"
      ],
      "metadata": {
        "colab": {
          "base_uri": "https://localhost:8080/"
        },
        "id": "JEN3SC1ukUNu",
        "outputId": "fefbc745-0d5e-4fe0-bae7-4cd6d383fc99"
      },
      "execution_count": null,
      "outputs": [
        {
          "output_type": "stream",
          "name": "stdout",
          "text": [
            "* * * * * * * * * * * * * * * * "
          ]
        }
      ]
    },
    {
      "cell_type": "code",
      "source": [
        "for i in range(4, 0, -1):\n",
        "    for j in range(i):\n",
        "        print(5, end=\" \")\n",
        "    print()\n"
      ],
      "metadata": {
        "id": "JepeLvn1uQp-",
        "outputId": "07c05de4-5934-4ecc-cb0a-0a511f596902",
        "colab": {
          "base_uri": "https://localhost:8080/"
        }
      },
      "execution_count": null,
      "outputs": [
        {
          "output_type": "stream",
          "name": "stdout",
          "text": [
            "5 5 5 5 \n",
            "5 5 5 \n",
            "5 5 \n",
            "5 \n"
          ]
        }
      ]
    },
    {
      "cell_type": "code",
      "source": [],
      "metadata": {
        "id": "1qe5gHHiU5NU"
      },
      "execution_count": null,
      "outputs": []
    },
    {
      "cell_type": "code",
      "source": [
        "\n",
        "\n",
        "#  nesxted loop\n",
        "\n"
      ],
      "metadata": {
        "id": "RZHUzDfmVXo9"
      },
      "execution_count": null,
      "outputs": []
    },
    {
      "cell_type": "code",
      "source": [
        "num=7\n",
        "for i in range(1,num+1):\n",
        "  if(num%i==0):\n",
        "    print(\"factor=\",i)"
      ],
      "metadata": {
        "colab": {
          "base_uri": "https://localhost:8080/"
        },
        "id": "sBcOM2MwVbum",
        "outputId": "57157a99-509a-4176-9e35-0581a49da3e8"
      },
      "execution_count": null,
      "outputs": [
        {
          "output_type": "stream",
          "name": "stdout",
          "text": [
            "factor= 1\n",
            "factor= 7\n"
          ]
        }
      ]
    },
    {
      "cell_type": "code",
      "source": [
        "x = 0\n",
        "for i in range(3, 0, -1):\n",
        "    for j in range(1, 4):\n",
        "        if i == 2:\n",
        "            break\n",
        "        x += i\n",
        "print(x)"
      ],
      "metadata": {
        "id": "-frwbWrakzOt",
        "outputId": "b604a12e-5839-450d-b1a7-883508e531f8",
        "colab": {
          "base_uri": "https://localhost:8080/"
        }
      },
      "execution_count": null,
      "outputs": [
        {
          "output_type": "stream",
          "name": "stdout",
          "text": [
            "12\n"
          ]
        }
      ]
    },
    {
      "cell_type": "code",
      "source": [
        "s = 0\n",
        "for i in range(10, 0, -2):\n",
        "    s += i\n",
        "print(s)"
      ],
      "metadata": {
        "colab": {
          "base_uri": "https://localhost:8080/"
        },
        "id": "aZKpNykmket2",
        "outputId": "604384a3-313f-447f-9dd8-22121a51de39"
      },
      "execution_count": null,
      "outputs": [
        {
          "output_type": "stream",
          "name": "stdout",
          "text": [
            "30\n"
          ]
        }
      ]
    },
    {
      "cell_type": "code",
      "source": [
        "num=8\n",
        "for i in range(1,num+1):\n",
        "  if(num%i==0):\n",
        "    print(\"factor=\",i)"
      ],
      "metadata": {
        "colab": {
          "base_uri": "https://localhost:8080/"
        },
        "id": "vgsbO-39V2bc",
        "outputId": "37616494-9155-4a2c-a559-2036875ece61"
      },
      "execution_count": null,
      "outputs": [
        {
          "output_type": "stream",
          "name": "stdout",
          "text": [
            "factor= 1\n",
            "factor= 2\n",
            "factor= 4\n",
            "factor= 8\n"
          ]
        }
      ]
    },
    {
      "cell_type": "code",
      "source": [
        "for num in range(2,8):\n",
        "  for i in range(1,num+1):\n",
        "    if(num%i==0):\n",
        "      print(\"factor=\",i)\n",
        "  print(\"---\")"
      ],
      "metadata": {
        "colab": {
          "base_uri": "https://localhost:8080/"
        },
        "id": "SqhylJnNV_51",
        "outputId": "1a834f8b-192f-415c-e57f-cf8e68881a5f"
      },
      "execution_count": null,
      "outputs": [
        {
          "output_type": "stream",
          "name": "stdout",
          "text": [
            "factor= 1\n",
            "factor= 2\n",
            "---\n",
            "factor= 1\n",
            "factor= 3\n",
            "---\n",
            "factor= 1\n",
            "factor= 2\n",
            "factor= 4\n",
            "---\n",
            "factor= 1\n",
            "factor= 5\n",
            "---\n",
            "factor= 1\n",
            "factor= 2\n",
            "factor= 3\n",
            "factor= 6\n",
            "---\n",
            "factor= 1\n",
            "factor= 7\n",
            "---\n"
          ]
        }
      ]
    },
    {
      "cell_type": "code",
      "source": [
        "num=153\n",
        "total=0\n",
        "x=num\n",
        "while(num>0):\n",
        "  rem=num%10\n",
        "  num=num//10\n",
        "  total=total+rem**3\n",
        "  print(rem**3,num,total)\n",
        "\n",
        "if(total==x):\n",
        "  print(\"armstrong\")\n",
        "else:\n",
        "  print(\"not armstrong\")\n"
      ],
      "metadata": {
        "colab": {
          "base_uri": "https://localhost:8080/"
        },
        "id": "9L2koavaWaDG",
        "outputId": "36a58fb1-6b58-4830-bf12-5932fd5e2cf7"
      },
      "execution_count": null,
      "outputs": [
        {
          "output_type": "stream",
          "name": "stdout",
          "text": [
            "27 15 27\n",
            "125 1 152\n",
            "1 0 153\n",
            "armstrong\n"
          ]
        }
      ]
    },
    {
      "cell_type": "code",
      "source": [
        "num=154\n",
        "total=0\n",
        "x=num\n",
        "while(num>0):\n",
        "  rem=num%10\n",
        "  num=num//10\n",
        "  total=total+rem**3\n",
        "  print(rem**3,num,total)\n",
        "\n",
        "if(total==x):\n",
        "  print(\"armstrong\")\n",
        "else:\n",
        "  print(\"not armstrong\")"
      ],
      "metadata": {
        "colab": {
          "base_uri": "https://localhost:8080/"
        },
        "id": "wTW0kgUnX2AC",
        "outputId": "514646cb-de1d-4cda-9e28-c261f091dff1"
      },
      "execution_count": null,
      "outputs": [
        {
          "output_type": "stream",
          "name": "stdout",
          "text": [
            "64 15 64\n",
            "125 1 189\n",
            "1 0 190\n",
            "not armstrong\n"
          ]
        }
      ]
    },
    {
      "cell_type": "code",
      "source": [
        "\n",
        "for num in range(150,401):\n",
        "  total=0\n",
        "  x=num\n",
        "  while(num>0):\n",
        "    rem=num%10\n",
        "    num=num//10\n",
        "    total=total+rem**3\n",
        "\n",
        "\n",
        "if(total==x):\n",
        "  print(\"--armstrong--\",x)\n"
      ],
      "metadata": {
        "id": "k_hVdep_YBAS"
      },
      "execution_count": null,
      "outputs": []
    },
    {
      "cell_type": "code",
      "source": [
        "# narcissists number\n",
        "\n",
        "#153  = 1**3+4**3+3**3\n",
        "#1634 = 1**4 + 6**4 + 3**4 + 4**4\n",
        "\n",
        "\n",
        "\n"
      ],
      "metadata": {
        "id": "OqnQQnRbZFpD"
      },
      "execution_count": null,
      "outputs": []
    },
    {
      "cell_type": "code",
      "source": [
        "\n",
        "\n",
        "\n",
        "#pattern\n",
        "\n",
        "\n"
      ],
      "metadata": {
        "id": "WqfA_dt7aC-I"
      },
      "execution_count": null,
      "outputs": []
    },
    {
      "cell_type": "code",
      "source": [
        " for i in range(1,6):\n",
        "  for j in range(1,4):\n",
        "    print(\"*\",end=\" \")\n",
        "\n",
        "\n",
        "  print(\"\")"
      ],
      "metadata": {
        "colab": {
          "base_uri": "https://localhost:8080/"
        },
        "id": "Z-jzovupaGo2",
        "outputId": "3980de8f-dcbf-4cef-f816-9b239ff250a9"
      },
      "execution_count": null,
      "outputs": [
        {
          "output_type": "stream",
          "name": "stdout",
          "text": [
            "* * * \n",
            "* * * \n",
            "* * * \n",
            "* * * \n",
            "* * * \n"
          ]
        }
      ]
    },
    {
      "cell_type": "code",
      "source": [],
      "metadata": {
        "id": "xRrvNT0FclOs"
      },
      "execution_count": null,
      "outputs": []
    },
    {
      "cell_type": "code",
      "source": [
        " for i in range(1,5):\n",
        "  for j in range(1,5):\n",
        "    print(\"*\",end=\" \")\n",
        "\n",
        "\n",
        "  print(\"\")"
      ],
      "metadata": {
        "colab": {
          "base_uri": "https://localhost:8080/"
        },
        "id": "2P28p2dNdNQU",
        "outputId": "4fe631da-b605-42f3-df14-2161c88e854c"
      },
      "execution_count": null,
      "outputs": [
        {
          "output_type": "stream",
          "name": "stdout",
          "text": [
            "* * * * \n",
            "* * * * \n",
            "* * * * \n",
            "* * * * \n"
          ]
        }
      ]
    },
    {
      "cell_type": "code",
      "source": [
        " for i in range(1,5):\n",
        "  for j in range(1,5):\n",
        "    print(\"1\",end=\" \")\n",
        "\n",
        "\n",
        "  print(\"\")"
      ],
      "metadata": {
        "colab": {
          "base_uri": "https://localhost:8080/"
        },
        "id": "XA-TzsE8dWn6",
        "outputId": "76d9af48-34b9-4784-c58e-35f3e4a12a6c"
      },
      "execution_count": null,
      "outputs": [
        {
          "output_type": "stream",
          "name": "stdout",
          "text": [
            "1 1 1 1 \n",
            "1 1 1 1 \n",
            "1 1 1 1 \n",
            "1 1 1 1 \n"
          ]
        }
      ]
    },
    {
      "cell_type": "code",
      "source": [
        " for i in range(4):\n",
        "  for j in range(4):\n",
        "    print(\"1\",end=\" \")\n",
        "\n",
        "\n",
        "  print(\"\")"
      ],
      "metadata": {
        "colab": {
          "base_uri": "https://localhost:8080/"
        },
        "id": "XzwYGMqUe5ul",
        "outputId": "c2ec9b85-b757-48ab-c729-8f2ca9fdb9a2"
      },
      "execution_count": null,
      "outputs": [
        {
          "output_type": "stream",
          "name": "stdout",
          "text": [
            "1 1 1 1 \n",
            "1 1 1 1 \n",
            "1 1 1 1 \n",
            "1 1 1 1 \n"
          ]
        }
      ]
    },
    {
      "cell_type": "code",
      "source": [
        " for i in range(1,6):\n",
        "  for j in range(1,2):\n",
        "    print(\"1 2 3 4  \",end=\" \")\n",
        "\n",
        "\n",
        "  print(\"\")"
      ],
      "metadata": {
        "colab": {
          "base_uri": "https://localhost:8080/"
        },
        "id": "buaoLB13diKy",
        "outputId": "5406a626-de5d-4cba-870a-b9f210e40a33"
      },
      "execution_count": null,
      "outputs": [
        {
          "output_type": "stream",
          "name": "stdout",
          "text": [
            "1 2 3 4   \n",
            "1 2 3 4   \n",
            "1 2 3 4   \n",
            "1 2 3 4   \n",
            "1 2 3 4   \n"
          ]
        }
      ]
    },
    {
      "cell_type": "code",
      "source": [
        " for i in range(4):\n",
        "  for j in range(1,5):\n",
        "    print(j,end=\" \")\n",
        "\n",
        "\n",
        "  print(\"\")"
      ],
      "metadata": {
        "colab": {
          "base_uri": "https://localhost:8080/"
        },
        "id": "ye-jMfS5d1yh",
        "outputId": "24fe0548-1c3a-4a9c-c4ec-b4796bea726c"
      },
      "execution_count": null,
      "outputs": [
        {
          "output_type": "stream",
          "name": "stdout",
          "text": [
            "1 2 3 4 \n",
            "1 2 3 4 \n",
            "1 2 3 4 \n",
            "1 2 3 4 \n"
          ]
        }
      ]
    },
    {
      "cell_type": "code",
      "source": [
        "for i in range(1,5):\n",
        "  for j in range(1,5):\n",
        "    print(i,end=\" \")\n",
        "\n",
        "\n",
        "  print(\"\")"
      ],
      "metadata": {
        "colab": {
          "base_uri": "https://localhost:8080/"
        },
        "id": "xol3aUYjeiyT",
        "outputId": "0817bd4d-43d4-4bfe-bcec-54cf4df39410"
      },
      "execution_count": null,
      "outputs": [
        {
          "output_type": "stream",
          "name": "stdout",
          "text": [
            "1 1 1 1 \n",
            "2 2 2 2 \n",
            "3 3 3 3 \n",
            "4 4 4 4 \n"
          ]
        }
      ]
    },
    {
      "cell_type": "code",
      "source": [
        "for i in range(1,5):\n",
        "  for j in range(1,5):\n",
        "    print(j,end=\" \")\n",
        "\n",
        "\n",
        "  print(\"\")"
      ],
      "metadata": {
        "colab": {
          "base_uri": "https://localhost:8080/"
        },
        "id": "adQxBHP6nGy0",
        "outputId": "41bce17f-3931-4438-bf21-2371311682af"
      },
      "execution_count": null,
      "outputs": [
        {
          "output_type": "stream",
          "name": "stdout",
          "text": [
            "1 2 3 4 \n",
            "1 2 3 4 \n",
            "1 2 3 4 \n",
            "1 2 3 4 \n"
          ]
        }
      ]
    },
    {
      "cell_type": "code",
      "source": [
        "for i in range(4,0,-1):\n",
        "  for j in range(1,5):\n",
        "    print(i,end=\" \")\n",
        "\n",
        "\n",
        "  print(\"\")"
      ],
      "metadata": {
        "colab": {
          "base_uri": "https://localhost:8080/"
        },
        "id": "RZWCnu9IfBJh",
        "outputId": "309967da-af03-43f3-a564-504ac00dbaf9"
      },
      "execution_count": null,
      "outputs": [
        {
          "output_type": "stream",
          "name": "stdout",
          "text": [
            "4 4 4 4 \n",
            "3 3 3 3 \n",
            "2 2 2 2 \n",
            "1 1 1 1 \n"
          ]
        }
      ]
    },
    {
      "cell_type": "code",
      "source": [],
      "metadata": {
        "id": "HXVeWtPDfBBx"
      },
      "execution_count": null,
      "outputs": []
    },
    {
      "cell_type": "code",
      "source": [
        "for i in range(1,5):\n",
        "  for j in range(5,9):\n",
        "    print(j,end=\" \")\n",
        "\n",
        "\n",
        "  print(\"\")"
      ],
      "metadata": {
        "colab": {
          "base_uri": "https://localhost:8080/"
        },
        "id": "bzf6XqVGfAmX",
        "outputId": "0f4b0617-6a02-4796-f06b-2ee056534aec"
      },
      "execution_count": null,
      "outputs": [
        {
          "output_type": "stream",
          "name": "stdout",
          "text": [
            "5 6 7 8 \n",
            "5 6 7 8 \n",
            "5 6 7 8 \n",
            "5 6 7 8 \n"
          ]
        }
      ]
    },
    {
      "cell_type": "code",
      "source": [
        "\n",
        "num=1\n",
        "for i in range(1,4):\n",
        "  for j in range(1,4):\n",
        "    print(num,end=\" \")\n",
        "    num+=1\n",
        "\n",
        "\n",
        "  print(\"\")"
      ],
      "metadata": {
        "colab": {
          "base_uri": "https://localhost:8080/"
        },
        "id": "2GMiRPgIgFSd",
        "outputId": "c470f3f7-922a-4013-8999-431b30452c14"
      },
      "execution_count": null,
      "outputs": [
        {
          "output_type": "stream",
          "name": "stdout",
          "text": [
            "1 2 3 \n",
            "4 5 6 \n",
            "7 8 9 \n"
          ]
        }
      ]
    },
    {
      "cell_type": "code",
      "source": [
        " for i in range(3):\n",
        "  for j in range(1):\n",
        "    print(65,66,67,end=\" \")\n",
        "\n",
        "\n",
        "  print(\"\")"
      ],
      "metadata": {
        "colab": {
          "base_uri": "https://localhost:8080/"
        },
        "id": "bdw2WEt8hzAQ",
        "outputId": "dd822b72-f417-4688-c133-3fd7289db01f"
      },
      "execution_count": null,
      "outputs": [
        {
          "output_type": "stream",
          "name": "stdout",
          "text": [
            "65 66 67 \n",
            "65 66 67 \n",
            "65 66 67 \n"
          ]
        }
      ]
    },
    {
      "cell_type": "code",
      "source": [
        " for i in range(1,6):\n",
        "  for j in range(1,i+1):\n",
        "    print(\"*\",end=\" \")\n",
        "\n",
        "\n",
        "  print(\"\")"
      ],
      "metadata": {
        "colab": {
          "base_uri": "https://localhost:8080/"
        },
        "id": "DUtBY3WSidxN",
        "outputId": "4302e96f-a85e-4243-e1f6-435fe834626d"
      },
      "execution_count": null,
      "outputs": [
        {
          "output_type": "stream",
          "name": "stdout",
          "text": [
            "* \n",
            "* * \n",
            "* * * \n",
            "* * * * \n",
            "* * * * * \n"
          ]
        }
      ]
    },
    {
      "cell_type": "code",
      "source": [
        " for i in range(1,6):\n",
        "  for j in range(i):\n",
        "    print(i,end=\" \")\n",
        "\n",
        "\n",
        "  print(\"\")"
      ],
      "metadata": {
        "colab": {
          "base_uri": "https://localhost:8080/"
        },
        "id": "b7IO-pNUjAlG",
        "outputId": "c2ddde5c-02a0-4f5e-9b12-857b84051e10"
      },
      "execution_count": null,
      "outputs": [
        {
          "output_type": "stream",
          "name": "stdout",
          "text": [
            "1 \n",
            "2 2 \n",
            "3 3 3 \n",
            "4 4 4 4 \n",
            "5 5 5 5 5 \n"
          ]
        }
      ]
    },
    {
      "cell_type": "code",
      "source": [
        " num=5\n",
        " for i in range(1,4):\n",
        "  for j in range(i):\n",
        "    print(num,end=\" \")\n",
        "    num=num+1\n",
        "\n",
        "\n",
        "  print(\"\")"
      ],
      "metadata": {
        "colab": {
          "base_uri": "https://localhost:8080/"
        },
        "id": "hCnZ_MuajaNf",
        "outputId": "af04a364-05e4-4d85-fed1-29615ab32d98"
      },
      "execution_count": null,
      "outputs": [
        {
          "output_type": "stream",
          "name": "stdout",
          "text": [
            "5 \n",
            "6 7 \n",
            "8 9 10 \n"
          ]
        }
      ]
    },
    {
      "cell_type": "code",
      "source": [
        "num = 5\n",
        "\n",
        "for i in range(1, 4):\n",
        "    for j in range(i):\n",
        "        print(num, end=\"\")\n",
        "    print()\n",
        "    num += 1\n"
      ],
      "metadata": {
        "colab": {
          "base_uri": "https://localhost:8080/"
        },
        "id": "Ci0nmre5j8HZ",
        "outputId": "0629337e-9890-4903-d6f0-059d9f3303dd"
      },
      "execution_count": null,
      "outputs": [
        {
          "output_type": "stream",
          "name": "stdout",
          "text": [
            "5\n",
            "66\n",
            "777\n"
          ]
        }
      ]
    },
    {
      "cell_type": "code",
      "source": [
        "for i in range(1, 4):\n",
        "    for j in range(65, 65 + i):\n",
        "        print(chr(j), end=\"\")\n",
        "    print()\n"
      ],
      "metadata": {
        "colab": {
          "base_uri": "https://localhost:8080/"
        },
        "id": "KhefJR23kziG",
        "outputId": "40db0101-8da4-4910-c570-e860b12167fd"
      },
      "execution_count": null,
      "outputs": [
        {
          "output_type": "stream",
          "name": "stdout",
          "text": [
            "A\n",
            "AB\n",
            "ABC\n"
          ]
        }
      ]
    },
    {
      "cell_type": "code",
      "source": [
        "char = 65\n",
        "\n",
        "for i in range(1, 4):\n",
        "    for j in range(i):\n",
        "        print(chr(char), end=\" \")\n",
        "        char += 1\n",
        "    print()\n"
      ],
      "metadata": {
        "colab": {
          "base_uri": "https://localhost:8080/"
        },
        "id": "W4S40LR6lI2i",
        "outputId": "74a7e505-b8d8-428e-826c-41208fe752a1"
      },
      "execution_count": null,
      "outputs": [
        {
          "output_type": "stream",
          "name": "stdout",
          "text": [
            "A \n",
            "B C \n",
            "D E F \n"
          ]
        }
      ]
    },
    {
      "cell_type": "code",
      "source": [
        " for i in range(1,6):\n",
        "  for j in range(i,6):\n",
        "    print(\"*\",end=\" \")\n",
        "\n",
        "\n",
        "  print(\"\")"
      ],
      "metadata": {
        "colab": {
          "base_uri": "https://localhost:8080/"
        },
        "id": "ejqOevvkl6b2",
        "outputId": "ecaf5232-49e1-40cc-a826-0549dbb82aeb"
      },
      "execution_count": null,
      "outputs": [
        {
          "output_type": "stream",
          "name": "stdout",
          "text": [
            "* * * * * \n",
            "* * * * \n",
            "* * * \n",
            "* * \n",
            "* \n"
          ]
        }
      ]
    },
    {
      "cell_type": "code",
      "source": [
        " for i in range(1,6):\n",
        "  for j in range(i,6):\n",
        "    print(i,end=\" \")\n",
        "\n",
        "\n",
        "  print(\"\")"
      ],
      "metadata": {
        "colab": {
          "base_uri": "https://localhost:8080/"
        },
        "id": "0JQ4h8xSqJd6",
        "outputId": "69010d72-683a-4560-c250-3719422f56a7"
      },
      "execution_count": null,
      "outputs": [
        {
          "output_type": "stream",
          "name": "stdout",
          "text": [
            "1 1 1 1 1 \n",
            "2 2 2 2 \n",
            "3 3 3 \n",
            "4 4 \n",
            "5 \n"
          ]
        }
      ]
    },
    {
      "cell_type": "code",
      "source": [
        " for i in range(1,6):\n",
        "  for j in range(i,6):\n",
        "    print(j,end=\" \")\n",
        "\n",
        "\n",
        "  print(\"\")"
      ],
      "metadata": {
        "colab": {
          "base_uri": "https://localhost:8080/"
        },
        "id": "ji4TES9PqO71",
        "outputId": "3fbfec4f-0ce3-4cb9-ca06-8409e2e43149"
      },
      "execution_count": null,
      "outputs": [
        {
          "output_type": "stream",
          "name": "stdout",
          "text": [
            "1 2 3 4 5 \n",
            "2 3 4 5 \n",
            "3 4 5 \n",
            "4 5 \n",
            "5 \n"
          ]
        }
      ]
    },
    {
      "cell_type": "code",
      "source": [
        " for i in range(1,10):\n",
        "  for j in range(i,10):\n",
        "    print(j,end=\" \")\n",
        "    i+=1\n",
        "\n",
        "  print(\"\")"
      ],
      "metadata": {
        "colab": {
          "base_uri": "https://localhost:8080/"
        },
        "id": "O_19ms6mq9T_",
        "outputId": "d4ede0b4-2806-43e8-e2a3-a6c79d7fba8f"
      },
      "execution_count": null,
      "outputs": [
        {
          "output_type": "stream",
          "name": "stdout",
          "text": [
            "1 2 3 4 5 6 7 8 9 \n",
            "2 3 4 5 6 7 8 9 \n",
            "3 4 5 6 7 8 9 \n",
            "4 5 6 7 8 9 \n",
            "5 6 7 8 9 \n",
            "6 7 8 9 \n",
            "7 8 9 \n",
            "8 9 \n",
            "9 \n"
          ]
        }
      ]
    },
    {
      "cell_type": "code",
      "source": [
        "#\n",
        "\n",
        "\n",
        "#pattern\n",
        "\n",
        "#06/05/2025\n",
        "\n"
      ],
      "metadata": {
        "id": "LyTWDVHmX1t_"
      },
      "execution_count": null,
      "outputs": []
    },
    {
      "cell_type": "code",
      "source": [
        "for i in range(1,5):\n",
        "  for j in range(i,4):\n",
        "    print(\"-\",end=\" \")\n",
        "  for j in range(1,i+1):\n",
        "    print(\"*\",end=\" \")\n",
        "  print(\"\")"
      ],
      "metadata": {
        "colab": {
          "base_uri": "https://localhost:8080/"
        },
        "id": "DiPDkWQsYAXL",
        "outputId": "d237cd2a-905d-428c-8b48-5312714182ff"
      },
      "execution_count": null,
      "outputs": [
        {
          "output_type": "stream",
          "name": "stdout",
          "text": [
            "- - - * \n",
            "- - * * \n",
            "- * * * \n",
            "* * * * \n"
          ]
        }
      ]
    },
    {
      "cell_type": "code",
      "source": [
        "for i in range(1,5):\n",
        "  for j in range(1,i):\n",
        "    print(\"-\",end=\" \")\n",
        "  for j in range(i,5):\n",
        "    print(\"*\",end=\" \")\n",
        "  print(\"\")"
      ],
      "metadata": {
        "colab": {
          "base_uri": "https://localhost:8080/"
        },
        "id": "vi5MErQXY7DQ",
        "outputId": "d007a8ea-b05a-4a41-efe1-3c8990af2c9c"
      },
      "execution_count": null,
      "outputs": [
        {
          "output_type": "stream",
          "name": "stdout",
          "text": [
            "* * * * \n",
            "- * * * \n",
            "- - * * \n",
            "- - - * \n"
          ]
        }
      ]
    },
    {
      "cell_type": "code",
      "source": [
        "for i in range(1, 6):  # Outer loop for rows (1 to 5)\n",
        "    for j in range(i, 5):  # Printing leading dashes\n",
        "        print(\"-\", end=\"\")\n",
        "\n",
        "    for k in range(1, i + 1):  # Inner loop for numbers/spaces\n",
        "        if k == 1 or i == 5 or i == k:\n",
        "            print(k, end=\" \")  # Print number at the borders\n",
        "        else:\n",
        "            print(\" \", end=\" \")  # Print space in between\n",
        "    print()  # Move to the next line"
      ],
      "metadata": {
        "colab": {
          "base_uri": "https://localhost:8080/"
        },
        "id": "dnVJ7zFqbnsU",
        "outputId": "bfdaaf28-5ec9-485f-f9c0-979ef805dbae"
      },
      "execution_count": null,
      "outputs": [
        {
          "output_type": "stream",
          "name": "stdout",
          "text": [
            "----1 \n",
            "---1 2 \n",
            "--1   3 \n",
            "-1     4 \n",
            "1 2 3 4 5 \n"
          ]
        }
      ]
    },
    {
      "cell_type": "code",
      "source": [
        "'''\n",
        "\n",
        "\n",
        "\n",
        "list - mutable datatype\n",
        "\n",
        "'''"
      ],
      "metadata": {
        "id": "JNogu63MdOo_"
      },
      "execution_count": null,
      "outputs": []
    },
    {
      "cell_type": "code",
      "source": [
        "#  list\n",
        "# datatype = multiple value are stored together\n",
        "# value can be any datatype\n",
        "# list have element based on index position\n",
        "\n"
      ],
      "metadata": {
        "id": "gWK12bt_drF_"
      },
      "execution_count": null,
      "outputs": []
    },
    {
      "cell_type": "code",
      "source": [
        "mylist=[10,20,30,40,9]\n",
        "mylist[0]=99      # update list element\n",
        "mylist.append(\"abc\")\n",
        "print(mylist)"
      ],
      "metadata": {
        "colab": {
          "base_uri": "https://localhost:8080/"
        },
        "id": "mK_sl5J6eCTW",
        "outputId": "bfa0f0b6-f312-4bb2-e3f0-95d04c15313e"
      },
      "execution_count": null,
      "outputs": [
        {
          "output_type": "stream",
          "name": "stdout",
          "text": [
            "[99, 20, 30, 40, 9, 'abc']\n"
          ]
        }
      ]
    },
    {
      "cell_type": "code",
      "source": [
        "mylist=[10,20,30,40,9]\n",
        "mylist.extend([102,12,21])  # extend required iterble      # multiple vale add\n",
        "print(mylist)"
      ],
      "metadata": {
        "colab": {
          "base_uri": "https://localhost:8080/"
        },
        "id": "XToJ0J4hfByK",
        "outputId": "3e6a2320-6759-48e3-80f0-d1ab637948ab"
      },
      "execution_count": null,
      "outputs": [
        {
          "output_type": "stream",
          "name": "stdout",
          "text": [
            "[10, 20, 30, 40, 9, 102, 12, 21]\n"
          ]
        }
      ]
    },
    {
      "cell_type": "code",
      "source": [
        "mylist=[10,20,30,40,9]\n",
        "mylist.extend([102,12,21])\n",
        "mylist.extend(\"hey\")\n",
        "print(mylist)"
      ],
      "metadata": {
        "colab": {
          "base_uri": "https://localhost:8080/"
        },
        "id": "IxPLAPDMeZox",
        "outputId": "3dd350ea-0101-4b56-83bc-8f4a54293d75"
      },
      "execution_count": null,
      "outputs": [
        {
          "output_type": "stream",
          "name": "stdout",
          "text": [
            "[10, 20, 30, 40, 9, 102, 12, 21, 'h', 'e', 'y']\n"
          ]
        }
      ]
    },
    {
      "cell_type": "code",
      "source": [
        "mylist=[10,20,30,40,9]\n",
        "mylist.pop()    # delete last value\n",
        "print(mylist)"
      ],
      "metadata": {
        "colab": {
          "base_uri": "https://localhost:8080/"
        },
        "id": "jy3vudKpfqi6",
        "outputId": "ad450385-ee39-41b0-8644-8d9cccf0a113"
      },
      "execution_count": null,
      "outputs": [
        {
          "output_type": "stream",
          "name": "stdout",
          "text": [
            "[10, 20, 30, 40]\n"
          ]
        }
      ]
    },
    {
      "cell_type": "code",
      "source": [
        "mylist=[10,20,30,40,9]\n",
        "mylist.pop(3)\n",
        "print(mylist)"
      ],
      "metadata": {
        "colab": {
          "base_uri": "https://localhost:8080/"
        },
        "id": "QQlyDgSrgJyk",
        "outputId": "5451333b-06d2-4845-f7a6-0952ff1fefa0"
      },
      "execution_count": null,
      "outputs": [
        {
          "output_type": "stream",
          "name": "stdout",
          "text": [
            "[10, 20, 30, 9]\n"
          ]
        }
      ]
    },
    {
      "cell_type": "code",
      "source": [
        "mylist=[10,20,30,40,9]\n",
        "mylist.remove(30)     # in remove function pass the value not index value\n",
        "print(mylist)"
      ],
      "metadata": {
        "colab": {
          "base_uri": "https://localhost:8080/"
        },
        "id": "O0274kSogbsF",
        "outputId": "f191ea90-117d-4a4a-a36d-f14a79d9e404"
      },
      "execution_count": null,
      "outputs": [
        {
          "output_type": "stream",
          "name": "stdout",
          "text": [
            "[10, 20, 40, 9]\n"
          ]
        }
      ]
    },
    {
      "cell_type": "code",
      "source": [
        "mylist=[10,20,30,40]\n",
        "for i in range(0,4):\n",
        "  print(i,mylist[i])"
      ],
      "metadata": {
        "colab": {
          "base_uri": "https://localhost:8080/"
        },
        "id": "aPHd26FvhGOF",
        "outputId": "92b72fe2-4637-440c-f4b4-c4b5ee7d82c7"
      },
      "execution_count": null,
      "outputs": [
        {
          "output_type": "stream",
          "name": "stdout",
          "text": [
            "0 10\n",
            "1 20\n",
            "2 30\n",
            "3 40\n"
          ]
        }
      ]
    },
    {
      "cell_type": "code",
      "source": [
        "mylist=[10,20,30,40]\n",
        "for i in range(0,4):\n",
        "  if(i%2==0):\n",
        "    print(i,mylist[i])"
      ],
      "metadata": {
        "colab": {
          "base_uri": "https://localhost:8080/"
        },
        "id": "Rwhbgw97hrwj",
        "outputId": "68b722ed-e1ef-4178-ca0e-a689bf50b605"
      },
      "execution_count": null,
      "outputs": [
        {
          "output_type": "stream",
          "name": "stdout",
          "text": [
            "0 10\n",
            "2 30\n"
          ]
        }
      ]
    },
    {
      "cell_type": "code",
      "source": [
        "mylist=[10,20,30,40]\n",
        "for i in range(0,4):\n",
        "  if(i%2==0 and i%7==0):\n",
        "    print(i,mylist[i])"
      ],
      "metadata": {
        "colab": {
          "base_uri": "https://localhost:8080/"
        },
        "id": "gseOxIpQiUdq",
        "outputId": "add03e4c-d4e7-4fd8-a3c0-d383562e9dc1"
      },
      "execution_count": null,
      "outputs": [
        {
          "output_type": "stream",
          "name": "stdout",
          "text": [
            "0 10\n"
          ]
        }
      ]
    },
    {
      "cell_type": "code",
      "source": [
        "# find the maximum number from the list\n",
        "mylist=[10,19,50,20,30,40]\n",
        "maximum_number=max(mylist)\n",
        "print(maximum_number)\n"
      ],
      "metadata": {
        "colab": {
          "base_uri": "https://localhost:8080/"
        },
        "id": "UnFmtjwqi7JE",
        "outputId": "943f0e5a-c4f7-48d4-ba62-ab8ab3be21e9"
      },
      "execution_count": null,
      "outputs": [
        {
          "output_type": "stream",
          "name": "stdout",
          "text": [
            "50\n"
          ]
        }
      ]
    },
    {
      "cell_type": "code",
      "source": [
        "# find the maximum number from the list\n",
        "mylist=[10,19,50,20,30,40]\n",
        "maxi=mylist[0]\n",
        "for i in range(0,len(mylist)):\n",
        "  if(mylist[i]>maxi):\n",
        "    maxi=mylist[i]\n",
        "print(maxi)"
      ],
      "metadata": {
        "colab": {
          "base_uri": "https://localhost:8080/"
        },
        "id": "hpvhPFWEkGvI",
        "outputId": "66425665-de4b-4775-fabd-b4d2f100aab9"
      },
      "execution_count": null,
      "outputs": [
        {
          "output_type": "stream",
          "name": "stdout",
          "text": [
            "50\n"
          ]
        }
      ]
    },
    {
      "cell_type": "code",
      "source": [
        "# minimum number\n",
        "mylist=[10,19,50,20,30,40]\n",
        "min=mylist[0]\n",
        "for i in range(0,len(mylist)):\n",
        "  if(mylist[i]<min):\n",
        "    min=mylist[i]\n",
        "print(min)"
      ],
      "metadata": {
        "colab": {
          "base_uri": "https://localhost:8080/"
        },
        "id": "q0ricWudkrFU",
        "outputId": "756ea14f-c9a0-41b3-8976-1b11671ec2bb"
      },
      "execution_count": null,
      "outputs": [
        {
          "output_type": "stream",
          "name": "stdout",
          "text": [
            "10\n"
          ]
        }
      ]
    },
    {
      "cell_type": "code",
      "source": [
        "\n",
        "\n",
        "mylist=[10,20,30,40,5,6,7]\n",
        "start=0\n",
        "end=len(mylist)-1\n",
        "mid=len(mylist)//2\n",
        "while(start<mid):\n",
        "  print(mylist[start] ,mylist[end])\n",
        "  start+=1\n",
        "  end-=1"
      ],
      "metadata": {
        "colab": {
          "base_uri": "https://localhost:8080/"
        },
        "id": "2sqWlj3hlmCl",
        "outputId": "b2440ae5-ab85-4aec-d54e-7d64c8b735c1"
      },
      "execution_count": null,
      "outputs": [
        {
          "output_type": "stream",
          "name": "stdout",
          "text": [
            "10 7\n",
            "20 6\n",
            "30 5\n"
          ]
        }
      ]
    },
    {
      "cell_type": "code",
      "source": [
        "# [10,20,30,40] swap this list\n",
        "mylist=[10,20,30,40,5,6,7]\n",
        "start=0\n",
        "end=len(mylist)-1\n",
        "mid=len(mylist)//2\n",
        "while(start<mid):\n",
        "  temp=mylist[start]\n",
        "  mylist[start]=mylist[end]\n",
        "  mylist[end]=temp\n",
        "  start+=1\n",
        "  end-=1\n",
        "print(mylist)"
      ],
      "metadata": {
        "colab": {
          "base_uri": "https://localhost:8080/"
        },
        "id": "1O8gmU7xow8K",
        "outputId": "29925b3a-0803-4140-82a9-1aa8101c0020"
      },
      "execution_count": null,
      "outputs": [
        {
          "output_type": "stream",
          "name": "stdout",
          "text": [
            "[7, 6, 5, 40, 30, 20, 10]\n"
          ]
        }
      ]
    },
    {
      "cell_type": "code",
      "source": [
        "\n",
        "\n",
        "# days ===\n",
        "\n",
        "#   07/05/2025\n",
        "\n",
        "\n",
        "\n"
      ],
      "metadata": {
        "id": "UaNL4PzQhuj-"
      },
      "execution_count": null,
      "outputs": []
    },
    {
      "cell_type": "code",
      "source": [
        "mark=[10,20,30,40]\n",
        "mark.append(50)\n",
        "x=mark\n",
        "print(mark)"
      ],
      "metadata": {
        "colab": {
          "base_uri": "https://localhost:8080/"
        },
        "id": "2w-4Vj3_i3Lf",
        "outputId": "ae5456c2-693c-427f-a915-9cc2e1c3f393"
      },
      "execution_count": null,
      "outputs": [
        {
          "output_type": "stream",
          "name": "stdout",
          "text": [
            "[10, 20, 30, 40, 50]\n"
          ]
        }
      ]
    },
    {
      "cell_type": "code",
      "source": [
        "mark=[10,20,30,40]\n",
        "\n",
        "for i in range(0,4):\n",
        "  print(i,mark[3])"
      ],
      "metadata": {
        "colab": {
          "base_uri": "https://localhost:8080/"
        },
        "id": "0lKeL7b7jLyR",
        "outputId": "a52a76ab-4b4d-44c6-d197-85debba64fba"
      },
      "execution_count": null,
      "outputs": [
        {
          "output_type": "stream",
          "name": "stdout",
          "text": [
            "0 40\n",
            "1 40\n",
            "2 40\n",
            "3 40\n"
          ]
        }
      ]
    },
    {
      "cell_type": "code",
      "source": [
        "mark=[10,20,301,40,5]\n",
        "\n",
        "for i in range(0,4):\n",
        "  if(mark[i]%2==0):\n",
        "    print(i,mark[i])"
      ],
      "metadata": {
        "colab": {
          "base_uri": "https://localhost:8080/"
        },
        "id": "g8MhXm05je8B",
        "outputId": "8172254f-fa2c-4e41-b5e0-5c99469ba84c"
      },
      "execution_count": null,
      "outputs": [
        {
          "output_type": "stream",
          "name": "stdout",
          "text": [
            "0 10\n",
            "1 20\n",
            "3 40\n"
          ]
        }
      ]
    },
    {
      "cell_type": "code",
      "source": [
        "\n",
        "mark=[10,20,30,40,10,20,40]\n",
        "# two pointer approch\n",
        "for i in range(0,len(mark)):\n",
        "  print(\"---\",mark[i])\n",
        "  for j in range(i+1,len(mark)):\n",
        "    if(mark[i]==mark[j]):\n",
        "      print(\"duplicate element\",mark[i])\n",
        "\n"
      ],
      "metadata": {
        "colab": {
          "base_uri": "https://localhost:8080/"
        },
        "id": "Nydd-Q8sjy7b",
        "outputId": "dec3c312-6027-44ea-d9e2-bc3906c4c8ba"
      },
      "execution_count": null,
      "outputs": [
        {
          "output_type": "stream",
          "name": "stdout",
          "text": [
            "--- 10\n",
            "duplicate element 10\n",
            "--- 20\n",
            "duplicate element 20\n",
            "--- 30\n",
            "--- 40\n",
            "duplicate element 40\n",
            "--- 10\n",
            "--- 20\n",
            "--- 40\n"
          ]
        }
      ]
    },
    {
      "cell_type": "code",
      "source": [
        "mark=[10,20,30,40,10]\n",
        "temp=mark[0]\n",
        "for i in range(0,len(mark)):\n",
        "  if(temp==mark[i]):\n",
        "    print(\"duplicate element\",mark[i])\n"
      ],
      "metadata": {
        "colab": {
          "base_uri": "https://localhost:8080/"
        },
        "id": "zL55-cjFmi5G",
        "outputId": "6060526d-765b-4335-ae9d-3db40c6bbda1"
      },
      "execution_count": null,
      "outputs": [
        {
          "output_type": "stream",
          "name": "stdout",
          "text": [
            "duplicate element 10\n",
            "duplicate element 10\n"
          ]
        }
      ]
    },
    {
      "cell_type": "code",
      "source": [
        "mark=[10,20,30,20,10,50,30]\n",
        "\n",
        "for i in range(0,len(mark)):\n",
        "  print(\"---\",mark[i])\n",
        "  count=1\n",
        "  for j in range(i+1,len(mark)):\n",
        "    if(mark[i]==mark[j]):\n",
        "      count+=1\n",
        "      print(\"duplicate element\",mark[i],count)\n"
      ],
      "metadata": {
        "colab": {
          "base_uri": "https://localhost:8080/"
        },
        "id": "tU8maQOunq4c",
        "outputId": "f2cd1cac-2561-4daa-e291-a8a2300edec7"
      },
      "execution_count": null,
      "outputs": [
        {
          "output_type": "stream",
          "name": "stdout",
          "text": [
            "--- 10\n",
            "duplicate element 10 2\n",
            "--- 20\n",
            "duplicate element 20 2\n",
            "--- 30\n",
            "duplicate element 30 2\n",
            "--- 20\n",
            "--- 10\n",
            "--- 50\n",
            "--- 30\n"
          ]
        }
      ]
    },
    {
      "cell_type": "code",
      "source": [
        "# target=13\n",
        "# n\n",
        "# n-1=>n2\n",
        "mylist=[0,1,2,5,11,15]\n",
        "start=0\n",
        "end=len(mylist)-1\n",
        "while(start<end):\n",
        "  if(mylist[start]+mylist[end]==13):\n",
        "    print(\"value\",   mylist[start],mylist[end])\n",
        "    break\n",
        "  elif(mylist[start] + mylist[end]<13):\n",
        "      start+=1\n",
        "  else:\n",
        "      end-=1\n",
        "\n",
        "\n"
      ],
      "metadata": {
        "id": "wnLn8mPRpt6n",
        "colab": {
          "base_uri": "https://localhost:8080/"
        },
        "outputId": "36bd14d7-7ad0-4b92-b756-4df690ec30ff"
      },
      "execution_count": null,
      "outputs": [
        {
          "output_type": "stream",
          "name": "stdout",
          "text": [
            "value 2 11\n"
          ]
        }
      ]
    },
    {
      "cell_type": "code",
      "source": [
        "# day remain"
      ],
      "metadata": {
        "id": "oKdztDE_wdd3"
      },
      "execution_count": null,
      "outputs": []
    },
    {
      "cell_type": "code",
      "source": [],
      "metadata": {
        "id": "XgkoVB_CyyzB"
      },
      "execution_count": null,
      "outputs": []
    },
    {
      "cell_type": "code",
      "source": [
        "#\n",
        "\n",
        "\n",
        "# day=\n",
        "\n",
        "\n",
        "# date =09/05/2024\n",
        "\n",
        "\n"
      ],
      "metadata": {
        "id": "re0huqBlyzX4"
      },
      "execution_count": null,
      "outputs": []
    },
    {
      "cell_type": "code",
      "source": [
        "# tuple = datatyype, multiple value\n",
        "#  immutasble\n"
      ],
      "metadata": {
        "id": "ENPMGBvjy7bd"
      },
      "execution_count": null,
      "outputs": []
    },
    {
      "cell_type": "code",
      "source": [
        "x=10,20,30\n",
        "print(type(x))"
      ],
      "metadata": {
        "colab": {
          "base_uri": "https://localhost:8080/"
        },
        "id": "06fJsRZi0RC2",
        "outputId": "8c0de720-4a09-4af9-b2bc-3b822dc8499e"
      },
      "execution_count": null,
      "outputs": [
        {
          "output_type": "stream",
          "name": "stdout",
          "text": [
            "<class 'tuple'>\n"
          ]
        }
      ]
    },
    {
      "cell_type": "code",
      "source": [
        "x=10,20,30       # immutabe\n",
        "x[0]=25\n"
      ],
      "metadata": {
        "colab": {
          "base_uri": "https://localhost:8080/",
          "height": 159
        },
        "id": "uKiPhLsw0bR0",
        "outputId": "163e344d-90a8-4ddc-d2a7-e5db4f363415"
      },
      "execution_count": null,
      "outputs": [
        {
          "output_type": "error",
          "ename": "TypeError",
          "evalue": "'tuple' object does not support item assignment",
          "traceback": [
            "\u001b[0;31m---------------------------------------------------------------------------\u001b[0m",
            "\u001b[0;31mTypeError\u001b[0m                                 Traceback (most recent call last)",
            "\u001b[0;32m<ipython-input-2-5d9ef9075faa>\u001b[0m in \u001b[0;36m<cell line: 0>\u001b[0;34m()\u001b[0m\n\u001b[1;32m      1\u001b[0m \u001b[0mx\u001b[0m\u001b[0;34m=\u001b[0m\u001b[0;36m10\u001b[0m\u001b[0;34m,\u001b[0m\u001b[0;36m20\u001b[0m\u001b[0;34m,\u001b[0m\u001b[0;36m30\u001b[0m\u001b[0;34m\u001b[0m\u001b[0;34m\u001b[0m\u001b[0m\n\u001b[0;32m----> 2\u001b[0;31m \u001b[0mx\u001b[0m\u001b[0;34m[\u001b[0m\u001b[0;36m0\u001b[0m\u001b[0;34m]\u001b[0m\u001b[0;34m=\u001b[0m\u001b[0;36m25\u001b[0m\u001b[0;34m\u001b[0m\u001b[0;34m\u001b[0m\u001b[0m\n\u001b[0m",
            "\u001b[0;31mTypeError\u001b[0m: 'tuple' object does not support item assignment"
          ]
        }
      ]
    },
    {
      "cell_type": "code",
      "source": [
        "x=(10,20,30,40)\n",
        "x.count(10)\n",
        "# x.index(20)  = return index position of the element"
      ],
      "metadata": {
        "colab": {
          "base_uri": "https://localhost:8080/"
        },
        "id": "chA55zOQ0jDo",
        "outputId": "a7ddd9b8-8161-45fa-ea0c-7b4f722c322d"
      },
      "execution_count": null,
      "outputs": [
        {
          "output_type": "execute_result",
          "data": {
            "text/plain": [
              "1"
            ]
          },
          "metadata": {},
          "execution_count": 3
        }
      ]
    },
    {
      "cell_type": "code",
      "source": [
        "# dictionary  = datatype  key:value\n",
        "#dictionary don't have any index o(1)\n",
        "# key = unique\n",
        "# value = unique/duplicate\n",
        "\n",
        "#  [\"murari.10,30,40\"]   # insert , delete o(n)\n",
        "# (n)\n",
        "\n",
        "mydictionary={10:\"murari\", 11:\"naina\", 98:\"abc\"}\n"
      ],
      "metadata": {
        "id": "y5_MEi0g0-Zn"
      },
      "execution_count": null,
      "outputs": []
    },
    {
      "cell_type": "code",
      "source": [
        "mydictionary={10:\"murari\", 11:\"naina\", 98:\"abc\"}\n",
        "mydictionary[11]"
      ],
      "metadata": {
        "colab": {
          "base_uri": "https://localhost:8080/",
          "height": 35
        },
        "id": "CHw4dpZT2k0b",
        "outputId": "35bcc171-91b9-45c9-bee5-92ded916136d"
      },
      "execution_count": null,
      "outputs": [
        {
          "output_type": "execute_result",
          "data": {
            "text/plain": [
              "'naina'"
            ],
            "application/vnd.google.colaboratory.intrinsic+json": {
              "type": "string"
            }
          },
          "metadata": {},
          "execution_count": 4
        }
      ]
    },
    {
      "cell_type": "code",
      "source": [
        "mydictionary={10:\"murari\", 11:\"naina\", 98:\"abc\"}\n",
        "mydictionary[11]=\"india\"   #updte the value\n",
        "print(mydictionary)"
      ],
      "metadata": {
        "colab": {
          "base_uri": "https://localhost:8080/"
        },
        "id": "pzSTx5SY2tpd",
        "outputId": "587a1515-63ca-483f-afc8-3b32624673bd"
      },
      "execution_count": null,
      "outputs": [
        {
          "output_type": "stream",
          "name": "stdout",
          "text": [
            "{10: 'murari', 11: 'india', 98: 'abc'}\n"
          ]
        }
      ]
    },
    {
      "cell_type": "code",
      "source": [
        "mydictionary={10:\"murari\", 11:\"naina\", 98:\"abc\"}\n",
        "mydictionary[11]=\"india\"   #updte the value\n",
        "mydictiona[16]=\"saini\"\n",
        "print(mydictionary)\n",
        "\n",
        "# dictionary are ordered collection of element"
      ],
      "metadata": {
        "id": "ni9h38QI3fTQ"
      },
      "execution_count": null,
      "outputs": []
    },
    {
      "cell_type": "code",
      "source": [
        "mydictionary={10:\"murari\", 11:\"naina\", 98:\"abc\"}\n",
        "mydictionary[11]=\"india\"   #updte the value\n",
        "mydictionary[16]=\"saini\"\n",
        "print(mydictionary)\n",
        "mydictionary.pop(10)\n",
        "print(\"after=\",mydictionary)"
      ],
      "metadata": {
        "colab": {
          "base_uri": "https://localhost:8080/"
        },
        "id": "8VuT3ZqM3xRf",
        "outputId": "9a8a675b-7711-4bb4-a47b-3c9fb19130fb"
      },
      "execution_count": null,
      "outputs": [
        {
          "output_type": "stream",
          "name": "stdout",
          "text": [
            "{10: 'murari', 11: 'india', 98: 'abc', 16: 'saini'}\n",
            "after= {11: 'india', 98: 'abc', 16: 'saini'}\n"
          ]
        }
      ]
    },
    {
      "cell_type": "code",
      "source": [
        "mydictionary={}\n",
        "mydictionary[\"salary\"]=1000\n",
        "print(mydictionary)"
      ],
      "metadata": {
        "colab": {
          "base_uri": "https://localhost:8080/"
        },
        "id": "PPuDMFsq4UTu",
        "outputId": "1d10ed09-e00c-45ce-9638-d7c32bcdf978"
      },
      "execution_count": null,
      "outputs": [
        {
          "output_type": "stream",
          "name": "stdout",
          "text": [
            "{'salary': 1000}\n"
          ]
        }
      ]
    },
    {
      "cell_type": "code",
      "source": [
        "mydictionary={11:\"abc\",12:\"def\"}\n",
        "\n",
        "\n",
        "x=mydictionary.popitem()\n",
        "print(mydictionary)\n",
        "\n"
      ],
      "metadata": {
        "colab": {
          "base_uri": "https://localhost:8080/"
        },
        "id": "EeKgv8m9457R",
        "outputId": "7e8c90c7-c71c-4474-da7b-01784b8da6d0"
      },
      "execution_count": null,
      "outputs": [
        {
          "output_type": "stream",
          "name": "stdout",
          "text": [
            "{11: 'abc'}\n"
          ]
        }
      ]
    },
    {
      "cell_type": "code",
      "source": [
        "x"
      ],
      "metadata": {
        "colab": {
          "base_uri": "https://localhost:8080/"
        },
        "id": "cmjHkSWE5mkf",
        "outputId": "a2f16171-4a2a-4e85-82ed-052f5aca2f69"
      },
      "execution_count": null,
      "outputs": [
        {
          "output_type": "execute_result",
          "data": {
            "text/plain": [
              "(12, 'def')"
            ]
          },
          "metadata": {},
          "execution_count": 14
        }
      ]
    },
    {
      "cell_type": "code",
      "source": [
        "mydictionary={11:\"abc\",12:\"def\"}\n",
        "mydictionary.keys()\n",
        "mydictionary.values()\n",
        "mydictionary.items()"
      ],
      "metadata": {
        "colab": {
          "base_uri": "https://localhost:8080/"
        },
        "id": "PH_Jnlow5pUK",
        "outputId": "9d8adca8-9c43-4d1a-d7dc-f81a6d6f90d0"
      },
      "execution_count": null,
      "outputs": [
        {
          "output_type": "execute_result",
          "data": {
            "text/plain": [
              "dict_items([(11, 'abc'), (12, 'def')])"
            ]
          },
          "metadata": {},
          "execution_count": 28
        }
      ]
    },
    {
      "cell_type": "code",
      "source": [
        "mydictionary.items()   #[(key,value) , (key,values)]"
      ],
      "metadata": {
        "colab": {
          "base_uri": "https://localhost:8080/"
        },
        "id": "dRyKmz7k6qKd",
        "outputId": "e68381b3-c181-469e-b48f-22364bfe12c8"
      },
      "execution_count": null,
      "outputs": [
        {
          "output_type": "execute_result",
          "data": {
            "text/plain": [
              "dict_items([(11, 'abc'), (12, 'def')])"
            ]
          },
          "metadata": {},
          "execution_count": 19
        }
      ]
    },
    {
      "cell_type": "code",
      "source": [
        "mydictionary.items()"
      ],
      "metadata": {
        "colab": {
          "base_uri": "https://localhost:8080/"
        },
        "id": "Y4VEO3Bz65EZ",
        "outputId": "51ab8fd0-6d31-4514-f813-6e5f841dbb27"
      },
      "execution_count": null,
      "outputs": [
        {
          "output_type": "execute_result",
          "data": {
            "text/plain": [
              "dict_items([(11, 'abc'), (12, 'def')])"
            ]
          },
          "metadata": {},
          "execution_count": 21
        }
      ]
    },
    {
      "cell_type": "code",
      "source": [
        "mydictionary={11:\"abc\",12:\"def\",\"salary\":1999}\n",
        "for i in mydictionary:\n",
        "  print(i,mydictionary[i])"
      ],
      "metadata": {
        "colab": {
          "base_uri": "https://localhost:8080/"
        },
        "id": "Uy4CwmLb7LNy",
        "outputId": "221e0502-1c7e-4623-de4d-aff6ad6bba94"
      },
      "execution_count": null,
      "outputs": [
        {
          "output_type": "stream",
          "name": "stdout",
          "text": [
            "11 abc\n",
            "12 def\n",
            "salary 1999\n"
          ]
        }
      ]
    },
    {
      "cell_type": "code",
      "source": [
        "mydictionary={11:\"abc\",12:\"def\",\"salary\":1999}\n",
        "for i in mydictionary.values():\n",
        "  print(i)"
      ],
      "metadata": {
        "colab": {
          "base_uri": "https://localhost:8080/"
        },
        "id": "iLee9XCf7eIL",
        "outputId": "d9e540e4-3397-42ff-e217-c24e466f3fbc"
      },
      "execution_count": null,
      "outputs": [
        {
          "output_type": "stream",
          "name": "stdout",
          "text": [
            "abc\n",
            "def\n",
            "1999\n"
          ]
        }
      ]
    },
    {
      "cell_type": "code",
      "source": [
        "mydictionary={11:\"abc\",12:\"def\",\"salary\":1999}\n",
        "for i in mydictionary.keys():\n",
        "  print(i)"
      ],
      "metadata": {
        "colab": {
          "base_uri": "https://localhost:8080/"
        },
        "id": "YJGg-yIv79fD",
        "outputId": "5144f495-3410-4e5d-afcc-7533b77474a1"
      },
      "execution_count": null,
      "outputs": [
        {
          "output_type": "stream",
          "name": "stdout",
          "text": [
            "11\n",
            "12\n",
            "salary\n"
          ]
        }
      ]
    },
    {
      "cell_type": "code",
      "source": [
        "mydictionary={11:\"abc\",12:\"def\",\"salary\":1999}\n",
        "for i in mydictionary.items():\n",
        "  print(i)"
      ],
      "metadata": {
        "colab": {
          "base_uri": "https://localhost:8080/"
        },
        "id": "MZVrmDzk8GVq",
        "outputId": "27a245da-44b1-4cb9-e68f-75fba3e32acf"
      },
      "execution_count": null,
      "outputs": [
        {
          "output_type": "stream",
          "name": "stdout",
          "text": [
            "(11, 'abc')\n",
            "(12, 'def')\n",
            "('salary', 1999)\n"
          ]
        }
      ]
    },
    {
      "cell_type": "code",
      "source": [
        "s=\"hello\"\n",
        "# {\"total\":5}\n"
      ],
      "metadata": {
        "id": "kM_pXsZf8NwY"
      },
      "execution_count": null,
      "outputs": []
    },
    {
      "cell_type": "code",
      "source": [
        "s=\"hello\"\n",
        "count=0\n",
        "for i in s:\n",
        "  count+=1\n",
        "\n",
        "{\"total\":count}\n"
      ],
      "metadata": {
        "colab": {
          "base_uri": "https://localhost:8080/"
        },
        "id": "Gj5zpsbo8vXX",
        "outputId": "321918e1-1c85-4720-ce3f-0efec964020f"
      },
      "execution_count": null,
      "outputs": [
        {
          "output_type": "execute_result",
          "data": {
            "text/plain": [
              "{'total': 5}"
            ]
          },
          "metadata": {},
          "execution_count": 32
        }
      ]
    },
    {
      "cell_type": "code",
      "source": [
        "mymarks={\"amount\":10,\"name\":\"aman\"}\n",
        "\n",
        "mymarks[\"amount\"]=mymarks[\"amount\"]+1\n",
        "print(mymarks)\n"
      ],
      "metadata": {
        "colab": {
          "base_uri": "https://localhost:8080/"
        },
        "id": "C0AGESS_9mb6",
        "outputId": "0fe1a639-a24f-4d63-ff3c-bf3602b4a2af"
      },
      "execution_count": null,
      "outputs": [
        {
          "output_type": "stream",
          "name": "stdout",
          "text": [
            "{'amount': 11, 'name': 'aman'}\n"
          ]
        }
      ]
    },
    {
      "cell_type": "code",
      "source": [
        "mydictionary={\"total\":0}\n",
        "for i in \"hello\":\n",
        "  mydictionary[\"total\"]=mydictionary[\"total\"]+1\n",
        "\n",
        "print(mydictionary)"
      ],
      "metadata": {
        "colab": {
          "base_uri": "https://localhost:8080/"
        },
        "id": "26RZX6KE_l53",
        "outputId": "9f654f6a-57c7-4709-8451-6032c834f167"
      },
      "execution_count": null,
      "outputs": [
        {
          "output_type": "stream",
          "name": "stdout",
          "text": [
            "{'total': 5}\n"
          ]
        }
      ]
    },
    {
      "cell_type": "code",
      "source": [
        "mylist=[1,2,4,7,11,19]\n",
        "target=9\n",
        "for x in mylist:\n",
        "  if(target-x in mylist):\n",
        "    print(x,target-x)"
      ],
      "metadata": {
        "colab": {
          "base_uri": "https://localhost:8080/"
        },
        "id": "sFGMt3e0P9ln",
        "outputId": "d46dfb70-dfea-4933-8ce6-69badda72af6"
      },
      "execution_count": null,
      "outputs": [
        {
          "output_type": "stream",
          "name": "stdout",
          "text": [
            "2 7\n",
            "7 2\n"
          ]
        }
      ]
    },
    {
      "cell_type": "code",
      "source": [
        "mydictionary={}  # {1:0 ,2:1, 4:2}\n",
        "# mydictionary[key]=value\n",
        "mylist=[1,2,4,7,11,19]\n",
        "for i in range(0,len(mylist)):\n",
        "  mydictionary[mylist[i]]=i\n",
        "print(mydictionary)"
      ],
      "metadata": {
        "colab": {
          "base_uri": "https://localhost:8080/"
        },
        "id": "ONekTlmpUWfz",
        "outputId": "0045ad7b-97b2-4ffa-92b2-e0bb4a67336a"
      },
      "execution_count": 2,
      "outputs": [
        {
          "output_type": "stream",
          "name": "stdout",
          "text": [
            "{1: 0, 2: 1, 4: 2, 7: 3, 11: 4, 19: 5}\n"
          ]
        }
      ]
    },
    {
      "cell_type": "code",
      "source": [
        "mylist = [1, 2, 4, 7, 11, 19]\n",
        "mydictionary = {}\n",
        "target = 9\n",
        "\n",
        "# Build dictionary: value -> index\n",
        "for i in range(len(mylist)):\n",
        "    mydictionary[mylist[i]] = i\n",
        "\n",
        "print(\"Dictionary:\", mydictionary)\n",
        "\n",
        "# Find two numbers that sum to target\n",
        "for x in mylist:\n",
        "    y = target - x\n",
        "    if y in mydictionary and mydictionary[y] != mylist.index(x):\n",
        "        print(f\"Pair found: {x} + {y} = {target}\")\n",
        "        print(f\"Indices: {mylist.index(x)}, {mydictionary[y]}\")\n",
        "        break\n"
      ],
      "metadata": {
        "colab": {
          "base_uri": "https://localhost:8080/"
        },
        "id": "CSX0U-5HXZ0Q",
        "outputId": "64f68388-d245-46db-c444-f6a4ed5b7911"
      },
      "execution_count": 5,
      "outputs": [
        {
          "output_type": "stream",
          "name": "stdout",
          "text": [
            "Dictionary: {1: 0, 2: 1, 4: 2, 7: 3, 11: 4, 19: 5}\n",
            "Pair found: 2 + 7 = 9\n",
            "Indices: 1, 3\n"
          ]
        }
      ]
    },
    {
      "cell_type": "code",
      "source": [
        "\n",
        "\n",
        "\n",
        "#\n",
        "\n",
        "\n",
        "#     set\n",
        "\n",
        "#set= datatype\n",
        "# unique\n",
        "#no index position\n",
        "# set are mutable\n",
        "\n",
        "myset={1,2,3,1,1,1,1,4,5}\n",
        "myset.add(\"abc\")\n"
      ],
      "metadata": {
        "id": "yYsRqo7SZely"
      },
      "execution_count": null,
      "outputs": []
    },
    {
      "cell_type": "code",
      "source": [
        "myset={1,2,3,1,1,1,1,4,5}\n",
        "myset.add(\"abc\")\n",
        "myset.update([10,20,30,\"hello\"])\n"
      ],
      "metadata": {
        "id": "Q5OZXVOraEys"
      },
      "execution_count": null,
      "outputs": []
    },
    {
      "cell_type": "code",
      "source": [
        "# sets in python----->\n",
        "# (1)-identification ={}\n",
        "# (2)-mutable datatype ---> we can change or update value at the runtime.\n"
      ],
      "metadata": {
        "id": "AorrCkOLcuQc"
      },
      "execution_count": null,
      "outputs": []
    },
    {
      "cell_type": "code",
      "source": [
        "a={1,2,3,4}\n",
        "a.add(55)\n",
        "a"
      ],
      "metadata": {
        "colab": {
          "base_uri": "https://localhost:8080/"
        },
        "id": "4nZnL4FhdYGo",
        "outputId": "b1ffcad8-0038-44e6-91fd-f328b6a19f5e"
      },
      "execution_count": null,
      "outputs": [
        {
          "output_type": "execute_result",
          "data": {
            "text/plain": [
              "{1, 2, 3, 4, 55}"
            ]
          },
          "metadata": {},
          "execution_count": 19
        }
      ]
    },
    {
      "cell_type": "code",
      "source": [
        "# loops in set\n",
        "\n",
        "a={1,345,67}\n",
        "for i in a:\n",
        "  print(i)"
      ],
      "metadata": {
        "colab": {
          "base_uri": "https://localhost:8080/"
        },
        "id": "DzxJqCJedbrH",
        "outputId": "669cd3a9-4e75-4872-d30c-cf307f37a8ab"
      },
      "execution_count": null,
      "outputs": [
        {
          "output_type": "stream",
          "name": "stdout",
          "text": [
            "345\n",
            "67\n",
            "1\n"
          ]
        }
      ]
    },
    {
      "cell_type": "code",
      "source": [
        "# a ={1,2,3}+{4,5,6}\n",
        "# a"
      ],
      "metadata": {
        "id": "00jxXooMdcDx"
      },
      "execution_count": null,
      "outputs": []
    },
    {
      "cell_type": "code",
      "source": [
        "a ={1,2,3,4}\n",
        "b={3,4,5,6}\n",
        "c=a.union(b)\n",
        "c"
      ],
      "metadata": {
        "colab": {
          "base_uri": "https://localhost:8080/"
        },
        "id": "0bQdqYgxd3m4",
        "outputId": "76088117-e453-47cb-db1d-0b3592492c1c"
      },
      "execution_count": null,
      "outputs": [
        {
          "output_type": "execute_result",
          "data": {
            "text/plain": [
              "{1, 2, 3, 4, 5, 6}"
            ]
          },
          "metadata": {},
          "execution_count": 9
        }
      ]
    },
    {
      "cell_type": "code",
      "source": [
        "d=a|b\n",
        "d"
      ],
      "metadata": {
        "colab": {
          "base_uri": "https://localhost:8080/"
        },
        "id": "JoEOiIgYeCfC",
        "outputId": "d8a2ddc8-7149-478e-a30e-3514f9e2d466"
      },
      "execution_count": null,
      "outputs": [
        {
          "output_type": "execute_result",
          "data": {
            "text/plain": [
              "{1, 2, 3, 4, 5, 6}"
            ]
          },
          "metadata": {},
          "execution_count": 10
        }
      ]
    },
    {
      "cell_type": "code",
      "source": [
        "# intersection\n",
        "a ={1,2,3,4}\n",
        "b={3,4,5,6}\n",
        "c=a.intersection(b)\n",
        "c"
      ],
      "metadata": {
        "colab": {
          "base_uri": "https://localhost:8080/"
        },
        "id": "zNxD0xpgeKuO",
        "outputId": "6237f8c1-394a-4070-fd92-1ab5816a89c0"
      },
      "execution_count": null,
      "outputs": [
        {
          "output_type": "execute_result",
          "data": {
            "text/plain": [
              "{3, 4}"
            ]
          },
          "metadata": {},
          "execution_count": 11
        }
      ]
    },
    {
      "cell_type": "code",
      "source": [
        "d=a&b\n",
        "d"
      ],
      "metadata": {
        "colab": {
          "base_uri": "https://localhost:8080/"
        },
        "id": "JjAiL5bUeWWC",
        "outputId": "29efd771-0ba1-4daa-cc83-a94c9d337394"
      },
      "execution_count": null,
      "outputs": [
        {
          "output_type": "execute_result",
          "data": {
            "text/plain": [
              "{3, 4}"
            ]
          },
          "metadata": {},
          "execution_count": 13
        }
      ]
    },
    {
      "cell_type": "code",
      "source": [
        "a-b  ### it will return only set a values removing comman element"
      ],
      "metadata": {
        "colab": {
          "base_uri": "https://localhost:8080/"
        },
        "id": "zYXINB-4edhn",
        "outputId": "387c9e9c-cde4-4f02-bfb6-b1883eeb759c"
      },
      "execution_count": null,
      "outputs": [
        {
          "output_type": "execute_result",
          "data": {
            "text/plain": [
              "{1, 2}"
            ]
          },
          "metadata": {},
          "execution_count": 14
        }
      ]
    },
    {
      "cell_type": "code",
      "source": [
        "b-a   ###it will return only set b values removing comman element"
      ],
      "metadata": {
        "colab": {
          "base_uri": "https://localhost:8080/"
        },
        "id": "wtpSzAkrexDD",
        "outputId": "b732788f-b77c-448d-e7b1-7da6166af9e7"
      },
      "execution_count": null,
      "outputs": [
        {
          "output_type": "execute_result",
          "data": {
            "text/plain": [
              "{5, 6}"
            ]
          },
          "metadata": {},
          "execution_count": 15
        }
      ]
    },
    {
      "cell_type": "code",
      "source": [
        "a={1,2,3,4}\n",
        "a.clear()\n",
        "a"
      ],
      "metadata": {
        "colab": {
          "base_uri": "https://localhost:8080/"
        },
        "id": "_obHXBfde49p",
        "outputId": "372c42cc-9807-44b6-8217-637f2ec05609"
      },
      "execution_count": null,
      "outputs": [
        {
          "output_type": "execute_result",
          "data": {
            "text/plain": [
              "set()"
            ]
          },
          "metadata": {},
          "execution_count": 16
        }
      ]
    },
    {
      "cell_type": "code",
      "source": [
        "#  que--given a list of number ,remove all dduplicate values and return the uniqe element"
      ],
      "metadata": {
        "id": "FAls1zOdfAht"
      },
      "execution_count": null,
      "outputs": []
    },
    {
      "cell_type": "code",
      "source": [
        "a = []\n",
        "size = int(input(\"Enter size of list: \"))\n",
        "\n",
        "for i in range(size):\n",
        "    val = int(input(f\"Enter value #{i + 1}: \"))\n",
        "    a.append(val)\n",
        "\n",
        "print(\"Your list:\", a)\n",
        "5\n"
      ],
      "metadata": {
        "id": "8a1rk7FegTJ7",
        "colab": {
          "base_uri": "https://localhost:8080/"
        },
        "outputId": "1f2c7c0e-e65a-4d5b-e04b-475bedefab2c"
      },
      "execution_count": 7,
      "outputs": [
        {
          "output_type": "stream",
          "name": "stdout",
          "text": [
            "Enter size of list: 2\n",
            "Enter value #1: 85\n",
            "Enter value #2: 47\n",
            "Your list: [85, 47]\n"
          ]
        }
      ]
    },
    {
      "cell_type": "code",
      "source": [
        "#que 2--given two sets ,find the comman element between them"
      ],
      "metadata": {
        "id": "-q07eE3kg0MS"
      },
      "execution_count": null,
      "outputs": []
    },
    {
      "cell_type": "code",
      "source": [
        "a={1,2,3,4}\n",
        "b={3,4,5,6}\n",
        "a.intersection(b)"
      ],
      "metadata": {
        "colab": {
          "base_uri": "https://localhost:8080/"
        },
        "id": "8-MOMXdPg9Ol",
        "outputId": "73bb353d-b9e9-4914-eafc-632c0d74befb"
      },
      "execution_count": null,
      "outputs": [
        {
          "output_type": "execute_result",
          "data": {
            "text/plain": [
              "{3, 4}"
            ]
          },
          "metadata": {},
          "execution_count": 21
        }
      ]
    },
    {
      "cell_type": "code",
      "source": [
        "#que 3-given two sets ,find the that are unique to each set"
      ],
      "metadata": {
        "id": "G-xSFga0hKF9"
      },
      "execution_count": null,
      "outputs": []
    },
    {
      "cell_type": "code",
      "source": [
        "a={1,2,3,4}\n",
        "b={3,4,5,6}\n",
        "a^b"
      ],
      "metadata": {
        "colab": {
          "base_uri": "https://localhost:8080/"
        },
        "id": "yYWghqE7hTRF",
        "outputId": "8c39773e-f639-42e3-e81e-913efdbcf480"
      },
      "execution_count": null,
      "outputs": [
        {
          "output_type": "execute_result",
          "data": {
            "text/plain": [
              "{1, 2, 5, 6}"
            ]
          },
          "metadata": {},
          "execution_count": 22
        }
      ]
    },
    {
      "cell_type": "code",
      "source": [
        "#que 4--given two sets ,find the that are only in the first set"
      ],
      "metadata": {
        "id": "XtjqUyDThaQx"
      },
      "execution_count": null,
      "outputs": []
    },
    {
      "cell_type": "code",
      "source": [
        "a={1,2,3,4}\n",
        "b={3,4,5,6}\n",
        "a-b"
      ],
      "metadata": {
        "colab": {
          "base_uri": "https://localhost:8080/"
        },
        "id": "EcyAmCQnhjOO",
        "outputId": "e5c246c4-2937-4bba-fe43-7f6e4586a410"
      },
      "execution_count": null,
      "outputs": [
        {
          "output_type": "execute_result",
          "data": {
            "text/plain": [
              "{1, 2}"
            ]
          },
          "metadata": {},
          "execution_count": 23
        }
      ]
    },
    {
      "cell_type": "code",
      "source": [
        "a.difference(b)"
      ],
      "metadata": {
        "colab": {
          "base_uri": "https://localhost:8080/"
        },
        "id": "WraAGxLNh0Oe",
        "outputId": "40ee2304-2737-426e-916e-d7547fc70c5a"
      },
      "execution_count": null,
      "outputs": [
        {
          "output_type": "execute_result",
          "data": {
            "text/plain": [
              "{1, 2}"
            ]
          },
          "metadata": {},
          "execution_count": 24
        }
      ]
    },
    {
      "cell_type": "code",
      "source": [
        "#que 5--given two sets ,check if the first set is a subset of the second"
      ],
      "metadata": {
        "id": "sNnrJhqxhsmg"
      },
      "execution_count": null,
      "outputs": []
    },
    {
      "cell_type": "code",
      "source": [
        "a={1,2,3,4}\n",
        "b={1,2}\n",
        "b.issubset(a)"
      ],
      "metadata": {
        "colab": {
          "base_uri": "https://localhost:8080/"
        },
        "id": "0oF8cpB8iBYA",
        "outputId": "eb158f5f-37d0-44c0-b08e-65e02e987738"
      },
      "execution_count": null,
      "outputs": [
        {
          "output_type": "execute_result",
          "data": {
            "text/plain": [
              "True"
            ]
          },
          "metadata": {},
          "execution_count": 25
        }
      ]
    },
    {
      "cell_type": "code",
      "source": [
        "a={1,2,3,4}\n",
        "b={1,2}\n",
        "a.issubset(b)"
      ],
      "metadata": {
        "colab": {
          "base_uri": "https://localhost:8080/"
        },
        "id": "3QndGrGEiZB7",
        "outputId": "13013b46-8b95-4c6b-be71-8ac94096716c"
      },
      "execution_count": null,
      "outputs": [
        {
          "output_type": "execute_result",
          "data": {
            "text/plain": [
              "False"
            ]
          },
          "metadata": {},
          "execution_count": 26
        }
      ]
    },
    {
      "cell_type": "code",
      "source": [
        "#que 6--given multiple sets ,return a single set that contains all unique element"
      ],
      "metadata": {
        "id": "Xyq05tY6ielF"
      },
      "execution_count": null,
      "outputs": []
    },
    {
      "cell_type": "code",
      "source": [
        "a={1,2,3,4}\n",
        "b={3,4,5,6}\n",
        "c={5,6,7,8}\n",
        "d=a.union(b)\n",
        "e=a.union(c)\n",
        "e"
      ],
      "metadata": {
        "colab": {
          "base_uri": "https://localhost:8080/"
        },
        "id": "_vL5M5ooi-aa",
        "outputId": "7df0e297-d5f8-4558-da6c-025bb1c7b4ec"
      },
      "execution_count": null,
      "outputs": [
        {
          "output_type": "execute_result",
          "data": {
            "text/plain": [
              "{1, 2, 3, 4, 5, 6, 7, 8}"
            ]
          },
          "metadata": {},
          "execution_count": 28
        }
      ]
    },
    {
      "cell_type": "code",
      "source": [],
      "metadata": {
        "id": "z2Worjd1iUow"
      },
      "execution_count": null,
      "outputs": []
    },
    {
      "cell_type": "code",
      "source": [
        "\n",
        "\n",
        "    # function in python\n",
        "\n",
        "\n",
        "     # date==14\\05\\2025\n",
        "\n",
        "\n"
      ],
      "metadata": {
        "id": "yuxkf9KtiVwH"
      },
      "execution_count": null,
      "outputs": []
    },
    {
      "cell_type": "code",
      "source": [
        "# function in python\n",
        "# function is reuseable block of code"
      ],
      "metadata": {
        "id": "QWIsFmetikLt"
      },
      "execution_count": null,
      "outputs": []
    },
    {
      "cell_type": "code",
      "source": [
        "#  type of function\n",
        "#  a- pre-define function . print(),sum(),max()\n",
        "# b- manually created function\n",
        "\n",
        "# step1-def\n",
        "# step2-name of function\n",
        "# step3-logic for create the function\n",
        "# step4-call the function(name of function)\n"
      ],
      "metadata": {
        "id": "2Ig3-9iVjyxR"
      },
      "execution_count": null,
      "outputs": []
    },
    {
      "cell_type": "code",
      "source": [
        "# syntex  :\n",
        "# def name_of_function():\n",
        "# logic\n",
        "# name_of_function\n",
        "\n",
        "\n"
      ],
      "metadata": {
        "id": "uc2OwdIYkiyV"
      },
      "execution_count": null,
      "outputs": []
    },
    {
      "cell_type": "code",
      "source": [
        "# que-1=create a function who add 2 numbers\n",
        "\n",
        "def mt_add():\n",
        "  a=5\n",
        "  b=6\n",
        "  c=a+b\n",
        "  print(c)\n",
        "\n",
        "mt_add()"
      ],
      "metadata": {
        "id": "0xIi4438npCp",
        "colab": {
          "base_uri": "https://localhost:8080/"
        },
        "outputId": "492d241b-82f4-44e5-cb45-13939512d603"
      },
      "execution_count": null,
      "outputs": [
        {
          "output_type": "stream",
          "name": "stdout",
          "text": [
            "11\n"
          ]
        }
      ]
    },
    {
      "cell_type": "code",
      "source": [
        "# que 2-create a function who add sum of square of a given number"
      ],
      "metadata": {
        "id": "D4DDx8s2n12C"
      },
      "execution_count": null,
      "outputs": []
    },
    {
      "cell_type": "code",
      "source": [
        "i=1\n",
        "n=3\n",
        "sum=0\n",
        "while(i<=n):\n",
        "  sum=sum+i**2\n",
        "  i=i+1\n",
        "print(\"total=\",sum)"
      ],
      "metadata": {
        "colab": {
          "base_uri": "https://localhost:8080/"
        },
        "id": "1FUT1muqoNSP",
        "outputId": "3c493549-dd2f-42f7-866f-188a0353a92a"
      },
      "execution_count": null,
      "outputs": [
        {
          "output_type": "stream",
          "name": "stdout",
          "text": [
            "total= 14\n"
          ]
        }
      ]
    },
    {
      "cell_type": "code",
      "source": [
        "# def my_squ():\n",
        "# i=1\n",
        "# n=3\n",
        "# sum=0\n",
        "# while(i<=n):\n",
        "#   sum=sum+i**2\n",
        "#   i=i+1\n",
        "# print(\"total=\",sum)\n",
        "# my_squ()\n",
        "\n",
        "\n",
        "def my_squ():\n",
        "    i = 1\n",
        "    n = 3\n",
        "    total = 0\n",
        "    while i <= n:\n",
        "        total = total + i**2\n",
        "        i = i + 1\n",
        "    print(\"total =\", total)\n",
        "\n",
        "my_squ()\n"
      ],
      "metadata": {
        "colab": {
          "base_uri": "https://localhost:8080/"
        },
        "id": "xQ8S5I-logZ5",
        "outputId": "b92fe654-f900-468a-e81d-b7bbf596a5d3"
      },
      "execution_count": null,
      "outputs": [
        {
          "output_type": "stream",
          "name": "stdout",
          "text": [
            "total = 14\n"
          ]
        }
      ]
    },
    {
      "cell_type": "code",
      "source": [
        "i=1234\n",
        "sum=0\n",
        "while(i>0):\n",
        "  digit=i%10\n",
        "  sum=sum+digit\n",
        "  i=i//10\n",
        "print(\"total=\",sum)"
      ],
      "metadata": {
        "colab": {
          "base_uri": "https://localhost:8080/"
        },
        "id": "uHh3iSdDo6_k",
        "outputId": "1fe119c5-6528-42bb-8713-a1aa8014a298"
      },
      "execution_count": null,
      "outputs": [
        {
          "output_type": "stream",
          "name": "stdout",
          "text": [
            "total= 10\n"
          ]
        }
      ]
    },
    {
      "cell_type": "code",
      "source": [
        "# q2 -creatw a function in which user will givwe a num and we have calcilate sum of this num\n"
      ],
      "metadata": {
        "id": "KnXKSFXepXio"
      },
      "execution_count": null,
      "outputs": []
    },
    {
      "cell_type": "code",
      "source": [
        "def my_add():\n",
        "   i=int(input(\"enter num :\"))\n",
        "   sum=0\n",
        "   while(i>0):\n",
        "    d=i%10\n",
        "    sum=sum+d\n",
        "    i=i//10\n",
        "   print(\"total=\",sum)\n",
        "   my_add()\n",
        "\n"
      ],
      "metadata": {
        "id": "jx9Jm6NppmXZ"
      },
      "execution_count": null,
      "outputs": []
    },
    {
      "cell_type": "code",
      "source": [
        "# argument and parametwr\n",
        "\n",
        "@# parameter = these are the value which we passes when we create a function\n",
        "# argument == these are the value which we passes when we call a function\n",
        "\n"
      ],
      "metadata": {
        "id": "x_9RbxCTqDWo"
      },
      "execution_count": null,
      "outputs": []
    },
    {
      "cell_type": "code",
      "source": [
        "def my_add(a,b):\n",
        "  c=a+b\n",
        "  print(\"total=\",c)\n",
        "my_add(3,4)\n",
        "\n",
        "# here(a,b)-parameters\n",
        "# here(3,4)-argument"
      ],
      "metadata": {
        "colab": {
          "base_uri": "https://localhost:8080/"
        },
        "id": "DfUj8WgvrwwG",
        "outputId": "93934cfd-af65-439b-d84a-a080f5aa519b"
      },
      "execution_count": null,
      "outputs": [
        {
          "output_type": "stream",
          "name": "stdout",
          "text": [
            "total= 7\n"
          ]
        }
      ]
    },
    {
      "cell_type": "code",
      "source": [
        "#q-3= wap who can check given number is odd or even\n"
      ],
      "metadata": {
        "id": "voTH9AQCsKUg"
      },
      "execution_count": null,
      "outputs": []
    },
    {
      "cell_type": "code",
      "source": [
        "def oddeve():\n",
        "  i=int(input(\"enter number\"))\n",
        "  if(i%2==0):\n",
        "    print(\"even\")\n",
        "  else:\n",
        "    print(\"odd\")\n",
        "oddeve()"
      ],
      "metadata": {
        "colab": {
          "base_uri": "https://localhost:8080/"
        },
        "id": "1fn7rYNjsUUS",
        "outputId": "d4f356ce-7c71-4b4b-ae88-72b186502a62"
      },
      "execution_count": null,
      "outputs": [
        {
          "output_type": "stream",
          "name": "stdout",
          "text": [
            "enter number52\n",
            "even\n"
          ]
        }
      ]
    },
    {
      "cell_type": "code",
      "source": [
        "# def oddeve(p):\n",
        "#   if(a%2==0):\n",
        "#     print(\"even\")\n",
        "#   else:\n",
        "#     print(\"odd\")\n",
        "#   p= int(input(\"enter num\"))\n",
        "# oddeve(p)\n",
        "\n",
        "def oddeve(p):\n",
        "    if p % 2 == 0:\n",
        "        print(\"even\")\n",
        "    else:\n",
        "        print(\"odd\")\n",
        "\n",
        "num = int(input(\"Enter a number: \"))\n",
        "oddeve(num)\n"
      ],
      "metadata": {
        "colab": {
          "base_uri": "https://localhost:8080/"
        },
        "id": "-ccTP_STsq1X",
        "outputId": "e4e2342d-4802-4d71-c08e-a8a88825e562"
      },
      "execution_count": null,
      "outputs": [
        {
          "output_type": "stream",
          "name": "stdout",
          "text": [
            "Enter a number: 85\n",
            "odd\n"
          ]
        }
      ]
    },
    {
      "cell_type": "code",
      "source": [
        "# lambda function= a lambda function can take any numberr of argument but can only one expression\n",
        "# syntex : lambda argument  :expression\n",
        "\n",
        "# ex\n",
        "\n",
        "x= lambda a :a+5\n",
        "print(\"total value=\",x(2))"
      ],
      "metadata": {
        "colab": {
          "base_uri": "https://localhost:8080/"
        },
        "id": "OobqZTdJrE8O",
        "outputId": "1dfda984-ccbf-460d-e02b-6f50b1fb4c2f"
      },
      "execution_count": null,
      "outputs": [
        {
          "output_type": "stream",
          "name": "stdout",
          "text": [
            "total value= 7\n"
          ]
        }
      ]
    },
    {
      "cell_type": "code",
      "source": [
        "\n",
        "x= lambda a,b :a*b\n",
        "print(\"total value=\",x(2,5))\n"
      ],
      "metadata": {
        "colab": {
          "base_uri": "https://localhost:8080/"
        },
        "id": "OVbQ5S8XtK6t",
        "outputId": "72ef6711-fd4d-4275-d7a0-3e3ad6167e9b"
      },
      "execution_count": null,
      "outputs": [
        {
          "output_type": "stream",
          "name": "stdout",
          "text": [
            "total value= 10\n"
          ]
        }
      ]
    },
    {
      "cell_type": "code",
      "source": [
        "\n",
        "x= lambda a,b,c:a+b-c\n",
        "print(\"total value=\",x(2,5,5))"
      ],
      "metadata": {
        "colab": {
          "base_uri": "https://localhost:8080/"
        },
        "id": "ZROaLcIIts1g",
        "outputId": "eb5e78d1-f276-4e61-8888-d81a21737b15"
      },
      "execution_count": null,
      "outputs": [
        {
          "output_type": "stream",
          "name": "stdout",
          "text": [
            "total value= 2\n"
          ]
        }
      ]
    },
    {
      "cell_type": "code",
      "source": [
        "# filter function= the filter function return as iterator where the item are filtered through a\n",
        "# function to test ,if the iteam is accepted return true or false\n",
        "\n",
        "ages=[5,12,17,18,34,67,50]\n",
        "def myfun(x):\n",
        "  if(x<=18):\n",
        "    return True\n",
        "  else:\n",
        "    return False\n",
        "kid=list(filter(myfun,ages))\n",
        "print(kid)\n",
        "\n"
      ],
      "metadata": {
        "colab": {
          "base_uri": "https://localhost:8080/"
        },
        "id": "7ITZBb3hvwum",
        "outputId": "c43e252d-5b81-40e9-aa44-fff62f81b55c"
      },
      "execution_count": null,
      "outputs": [
        {
          "output_type": "stream",
          "name": "stdout",
          "text": [
            "[5, 12, 17, 18]\n"
          ]
        }
      ]
    },
    {
      "cell_type": "code",
      "source": [
        "# map function()=the map() exccute a specific function for each item in a iterble\n",
        "# the item is sent to the function as parameter\n",
        "\n",
        "\n",
        "a=[\"3\",\"45\",\"89\"]\n",
        "\n",
        "#  method 1\n",
        "print(a)\n",
        "for i in range(len(a)):\n",
        "  a[i]=int(a[i])\n",
        "print(a)\n",
        "\n",
        "\n",
        "# method -2(by using map function)\n",
        "\n",
        "b=list(map(int,a))\n",
        "print(b)\n",
        "\n"
      ],
      "metadata": {
        "colab": {
          "base_uri": "https://localhost:8080/"
        },
        "id": "AZbFrCbBuxy9",
        "outputId": "bdff5f78-5d6a-4c0b-9fdc-1353e42e4c4c"
      },
      "execution_count": null,
      "outputs": [
        {
          "output_type": "stream",
          "name": "stdout",
          "text": [
            "['3', '45', '89']\n",
            "[3, 45, 89]\n",
            "[3, 45, 89]\n"
          ]
        }
      ]
    },
    {
      "cell_type": "code",
      "source": [
        "# cube using map function\n",
        "\n",
        "def cube(x):\n",
        "    return x**3\n",
        "\n",
        "num = [1, 2, 3, 4, 5]\n",
        "\n",
        "print(list(map(cube, num)))\n",
        "\n",
        "\n"
      ],
      "metadata": {
        "colab": {
          "base_uri": "https://localhost:8080/"
        },
        "id": "dOODkowixgUy",
        "outputId": "7b37060d-3e1e-4020-fff8-902364bc9587"
      },
      "execution_count": null,
      "outputs": [
        {
          "output_type": "stream",
          "name": "stdout",
          "text": [
            "[1, 8, 27, 64, 125]\n"
          ]
        }
      ]
    },
    {
      "cell_type": "code",
      "source": [
        "# args in function= args allows you to pass multiple positional argument to a function .it collect them into a tuple\n",
        "\n",
        "# def add_number(*args):\n",
        "#   total=sum(args)\n",
        "#   print(f\"sum:){total}\")\n",
        "\n",
        "# add_number(5,10,15)\n",
        "\n",
        "def add_number(*args):\n",
        "    total = sum(args)\n",
        "    print(f\"Sum: {total}\")\n",
        "\n",
        "add_number(5, 10, 15)\n",
        "\n",
        "\n",
        "\n"
      ],
      "metadata": {
        "colab": {
          "base_uri": "https://localhost:8080/"
        },
        "id": "zEBOtP3EyqGg",
        "outputId": "fef23dab-0ec3-493a-b9c2-d0f971c699de"
      },
      "execution_count": 8,
      "outputs": [
        {
          "output_type": "stream",
          "name": "stdout",
          "text": [
            "Sum: 30\n"
          ]
        }
      ]
    },
    {
      "cell_type": "code",
      "source": [
        "# **kwarge in function=\n"
      ],
      "metadata": {
        "id": "8Bh8-8aj0FxT"
      },
      "execution_count": null,
      "outputs": []
    },
    {
      "cell_type": "code",
      "source": [
        "def print_details(**kwargs):\n",
        "  for key,value in kwargs.items():\n",
        "    print(f\"{key}:{value}\")\n",
        "\n",
        "print_details(name=\"murari\",age=25,city=\"jhunjhunu\")\n"
      ],
      "metadata": {
        "colab": {
          "base_uri": "https://localhost:8080/"
        },
        "id": "fQinmEEX0MoW",
        "outputId": "c3c6cd33-5747-45b5-ac50-d130e8eda1fd"
      },
      "execution_count": null,
      "outputs": [
        {
          "output_type": "stream",
          "name": "stdout",
          "text": [
            "name:murari\n",
            "age:25\n",
            "city:jhunjhunu\n"
          ]
        }
      ]
    },
    {
      "cell_type": "code",
      "source": [
        "# using args and kwargs  together\n",
        "\n",
        "def display_info(*args,**kwargs):\n",
        "  print(\"positional argument:\",args)\n",
        "  print(\"keyword argument:\",kwargs)\n",
        "\n",
        "display_info(1,2,3,name=\"murari\")"
      ],
      "metadata": {
        "colab": {
          "base_uri": "https://localhost:8080/"
        },
        "id": "SFXtm3Bi0vNr",
        "outputId": "2f0a0891-6eb7-45b0-ffb8-8a6eb3444842"
      },
      "execution_count": null,
      "outputs": [
        {
          "output_type": "stream",
          "name": "stdout",
          "text": [
            "positional argument: (1, 2, 3)\n",
            "keyword argument: {'name': 'murari'}\n"
          ]
        }
      ]
    },
    {
      "cell_type": "code",
      "source": [
        "# require argument\n"
      ],
      "metadata": {
        "id": "hfRzw23N1a8w"
      },
      "execution_count": null,
      "outputs": []
    },
    {
      "cell_type": "code",
      "source": [
        "def greet(name):\n",
        "  print(f\"hello,{name}!\")\n",
        "\n",
        "greet(\"murari\")\n"
      ],
      "metadata": {
        "colab": {
          "base_uri": "https://localhost:8080/"
        },
        "id": "PgA5lTTi1jeT",
        "outputId": "ae6c9e6e-8ba2-49de-ab6c-ad8ff21c4398"
      },
      "execution_count": null,
      "outputs": [
        {
          "output_type": "stream",
          "name": "stdout",
          "text": [
            "hello,murari!\n"
          ]
        }
      ]
    },
    {
      "cell_type": "code",
      "source": [
        "# default argument\n",
        "def greet(name=\"guest\"):\n",
        "  print(f\"hello,{name}!\")\n",
        "\n",
        "greet(\"murari\")\n",
        "#greet()\n",
        "\n"
      ],
      "metadata": {
        "colab": {
          "base_uri": "https://localhost:8080/"
        },
        "id": "sASuwVHm10TK",
        "outputId": "8e7055b9-ff60-46b4-896f-ad0e23d94775"
      },
      "execution_count": null,
      "outputs": [
        {
          "output_type": "stream",
          "name": "stdout",
          "text": [
            "hello,murari!\n"
          ]
        }
      ]
    },
    {
      "cell_type": "code",
      "source": [
        "# return keyword"
      ],
      "metadata": {
        "id": "cByzW8622V9j"
      },
      "execution_count": null,
      "outputs": []
    },
    {
      "cell_type": "code",
      "source": [
        "def add(a,b):\n",
        "  return a+b\n",
        "\n",
        "result=add(5,3)\n",
        "print(result)\n",
        "\n",
        "\n",
        "\n",
        "\n"
      ],
      "metadata": {
        "colab": {
          "base_uri": "https://localhost:8080/"
        },
        "id": "ivSSgz4X2aHu",
        "outputId": "03cc25ab-28d8-44a2-b9b9-7eca60001777"
      },
      "execution_count": null,
      "outputs": [
        {
          "output_type": "stream",
          "name": "stdout",
          "text": [
            "8\n"
          ]
        }
      ]
    },
    {
      "cell_type": "code",
      "source": [
        "q-1\n",
        "# find the maximum number using *args\n",
        "def find_max(*args):\n",
        "    if not args:\n",
        "        return \"Error: No values provided.\"\n",
        "    return max(args)\n",
        "\n",
        "print(find_max())  # ➞ Error: No values provided.\n",
        "    # ➞ 0\n",
        "\n",
        "\n"
      ],
      "metadata": {
        "id": "QQJU4Xvb28eF",
        "colab": {
          "base_uri": "https://localhost:8080/",
          "height": 211
        },
        "outputId": "83edf956-260c-4b04-9ac0-a600607abe8a"
      },
      "execution_count": 9,
      "outputs": [
        {
          "output_type": "error",
          "ename": "NameError",
          "evalue": "name 'q' is not defined",
          "traceback": [
            "\u001b[0;31m---------------------------------------------------------------------------\u001b[0m",
            "\u001b[0;31mNameError\u001b[0m                                 Traceback (most recent call last)",
            "\u001b[0;32m<ipython-input-9-2482946121>\u001b[0m in \u001b[0;36m<cell line: 0>\u001b[0;34m()\u001b[0m\n\u001b[0;32m----> 1\u001b[0;31m \u001b[0mq\u001b[0m\u001b[0;34m-\u001b[0m\u001b[0;36m1\u001b[0m\u001b[0;34m\u001b[0m\u001b[0;34m\u001b[0m\u001b[0m\n\u001b[0m\u001b[1;32m      2\u001b[0m \u001b[0;31m# find the maximum number using *args\u001b[0m\u001b[0;34m\u001b[0m\u001b[0;34m\u001b[0m\u001b[0m\n\u001b[1;32m      3\u001b[0m \u001b[0;32mdef\u001b[0m \u001b[0mfind_max\u001b[0m\u001b[0;34m(\u001b[0m\u001b[0;34m*\u001b[0m\u001b[0margs\u001b[0m\u001b[0;34m)\u001b[0m\u001b[0;34m:\u001b[0m\u001b[0;34m\u001b[0m\u001b[0;34m\u001b[0m\u001b[0m\n\u001b[1;32m      4\u001b[0m     \u001b[0;32mif\u001b[0m \u001b[0;32mnot\u001b[0m \u001b[0margs\u001b[0m\u001b[0;34m:\u001b[0m\u001b[0;34m\u001b[0m\u001b[0;34m\u001b[0m\u001b[0m\n\u001b[1;32m      5\u001b[0m         \u001b[0;32mreturn\u001b[0m \u001b[0;34m\"Error: No values provided.\"\u001b[0m\u001b[0;34m\u001b[0m\u001b[0;34m\u001b[0m\u001b[0m\n",
            "\u001b[0;31mNameError\u001b[0m: name 'q' is not defined"
          ]
        }
      ]
    },
    {
      "cell_type": "code",
      "source": [
        "# calculate the product of number using *args\n",
        "\n",
        "def product(*args):\n",
        "  result=1\n",
        "  for num in args:\n",
        "    result *=num\n",
        "  return result\n",
        "\n",
        "print(product(2,3,4))\n",
        "print(product(5,5))\n"
      ],
      "metadata": {
        "id": "cpwqMwn-3QtN",
        "colab": {
          "base_uri": "https://localhost:8080/"
        },
        "outputId": "e6e26b1a-efb5-4365-b539-e800ebdaaad7"
      },
      "execution_count": null,
      "outputs": [
        {
          "output_type": "stream",
          "name": "stdout",
          "text": [
            "24\n",
            "25\n"
          ]
        }
      ]
    },
    {
      "cell_type": "code",
      "source": [
        "# genrate a full name using **kwargs\n",
        "def full_name(**kwargs):\n",
        "    return f\"{kwargs.get('first_name', 'unknown')} {kwargs.get('last_name', 'saini')}\"\n",
        "\n",
        "print(full_name(first_name=\"murari\", last_name=\"sharma\"))\n",
        "print(full_name(first_name=\"rahul\"))\n",
        "\n"
      ],
      "metadata": {
        "id": "d1GR-Z0d3GNT",
        "colab": {
          "base_uri": "https://localhost:8080/"
        },
        "outputId": "d39e6612-582f-4afe-b520-eac55e2a912c"
      },
      "execution_count": null,
      "outputs": [
        {
          "output_type": "stream",
          "name": "stdout",
          "text": [
            "murari sharma\n",
            "rahul saini\n"
          ]
        }
      ]
    },
    {
      "cell_type": "code",
      "source": [
        "# count vowel in a given string using return\n",
        "\n",
        "def count_vowel(string):\n",
        "  vowel=\"aeiouAEIOU\"\n",
        "  return sum(1 for char in string if char in vowel)\n",
        "print(count_vowel(\"hello world\"))\n",
        "print(count_vowel(\"python\"))\n"
      ],
      "metadata": {
        "id": "qyjPAN9Y5EoU",
        "colab": {
          "base_uri": "https://localhost:8080/"
        },
        "outputId": "5826a295-7e81-46d0-a661-91305e1f337f"
      },
      "execution_count": null,
      "outputs": [
        {
          "output_type": "stream",
          "name": "stdout",
          "text": [
            "3\n",
            "1\n"
          ]
        }
      ]
    },
    {
      "cell_type": "markdown",
      "source": [],
      "metadata": {
        "id": "rmmMZZ475BBq"
      }
    },
    {
      "cell_type": "code",
      "source": [
        "# list comprehension\n",
        "# list comprehension in python provide a concise way to create\n",
        "# they are more readble amd efficient than tradictional for loop\n",
        "# syntex:\n",
        "\n",
        "# [expression for item in iterable if condiction]"
      ],
      "metadata": {
        "id": "ee42Gk3K1uRY"
      },
      "execution_count": null,
      "outputs": []
    },
    {
      "cell_type": "code",
      "source": [
        "# create a list of square\n",
        "squares = [i**2 for i in range(1, 6)]\n",
        "print(squares)\n",
        "\n",
        "\n"
      ],
      "metadata": {
        "colab": {
          "base_uri": "https://localhost:8080/"
        },
        "id": "LMgxA5U240oE",
        "outputId": "618463e2-ff88-4e62-80e8-1fb5a1ab6148"
      },
      "execution_count": null,
      "outputs": [
        {
          "output_type": "stream",
          "name": "stdout",
          "text": [
            "[1, 4, 9, 16, 25]\n"
          ]
        }
      ]
    },
    {
      "cell_type": "code",
      "source": [
        "# fillter even number\n",
        "\n",
        "even=[x for x in range(10) if x %2==0]\n",
        "print(even)"
      ],
      "metadata": {
        "colab": {
          "base_uri": "https://localhost:8080/"
        },
        "id": "_hPca7vQ4zWG",
        "outputId": "88950074-73a1-4b0c-9f5d-8346604a8389"
      },
      "execution_count": null,
      "outputs": [
        {
          "output_type": "stream",
          "name": "stdout",
          "text": [
            "[0, 2, 4, 6, 8]\n"
          ]
        }
      ]
    },
    {
      "cell_type": "code",
      "source": [
        "# conver string to uppercase\n",
        "\n",
        "name=[\"sam\",\"rohit\",\"murari\"]\n",
        "upper_name=[name.upper() for name in name]\n",
        "print(upper_name)"
      ],
      "metadata": {
        "colab": {
          "base_uri": "https://localhost:8080/"
        },
        "id": "W3UzclH55bIT",
        "outputId": "f275a77a-4b4c-4500-bcfa-e9b4bd606e9b"
      },
      "execution_count": null,
      "outputs": [
        {
          "output_type": "stream",
          "name": "stdout",
          "text": [
            "['SAM', 'ROHIT', 'MURARI']\n"
          ]
        }
      ]
    },
    {
      "cell_type": "code",
      "source": [
        "# flatten a nested list\n",
        "\n",
        "matrix=[[1,2],[3,4],[5,6]]\n",
        "flattened=[num for sublist in matrix for num in sublist]\n",
        "print(flattened)"
      ],
      "metadata": {
        "colab": {
          "base_uri": "https://localhost:8080/"
        },
        "id": "HYqL0jkM5w_Y",
        "outputId": "6c3ee28d-4bf7-4f10-9522-21efdd047a41"
      },
      "execution_count": null,
      "outputs": [
        {
          "output_type": "stream",
          "name": "stdout",
          "text": [
            "[1, 2, 3, 4, 5, 6]\n"
          ]
        }
      ]
    },
    {
      "cell_type": "code",
      "source": [
        "# generate a list of tuple\n",
        "\n",
        "pairs=[(x,y) for x in range(3) for y in range(2)]\n",
        "print(pairs)"
      ],
      "metadata": {
        "colab": {
          "base_uri": "https://localhost:8080/"
        },
        "id": "5GKCYWox6VOF",
        "outputId": "2b84bdf9-06ca-44bd-d608-3a319e1223b9"
      },
      "execution_count": null,
      "outputs": [
        {
          "output_type": "stream",
          "name": "stdout",
          "text": [
            "[(0, 0), (0, 1), (1, 0), (1, 1), (2, 0), (2, 1)]\n"
          ]
        }
      ]
    },
    {
      "cell_type": "code",
      "source": [
        "#   traditional way to list comprehension\n"
      ],
      "metadata": {
        "id": "u6WY5VVj6mIs"
      },
      "execution_count": null,
      "outputs": []
    },
    {
      "cell_type": "code",
      "source": [
        "                      # old format\n",
        "\n",
        "square=[]\n",
        "for x in range(1,6):\n",
        "  square.append(x**2)\n",
        "\n",
        "print(square)\n"
      ],
      "metadata": {
        "colab": {
          "base_uri": "https://localhost:8080/"
        },
        "id": "heG6IMTc64G0",
        "outputId": "d76f0621-4b54-47e8-dc4f-73d98420cd99"
      },
      "execution_count": null,
      "outputs": [
        {
          "output_type": "stream",
          "name": "stdout",
          "text": [
            "[1, 4, 9, 16, 25]\n"
          ]
        }
      ]
    },
    {
      "cell_type": "code",
      "source": [
        "                  # new foemat\n",
        "squares=[x**2 for i in range(1,6)]\n",
        "print(square)"
      ],
      "metadata": {
        "id": "U9H7GjK77MBa"
      },
      "execution_count": null,
      "outputs": []
    },
    {
      "cell_type": "code",
      "source": [
        "#  crate a dictionary of sqquare\n",
        "\n",
        "square_dict ={x:x**2 for x in range(1,8)}\n",
        "print(square_dict)"
      ],
      "metadata": {
        "colab": {
          "base_uri": "https://localhost:8080/"
        },
        "id": "Z3ym2uLc7QH_",
        "outputId": "3557c31c-1d83-4151-ff97-2d9fdf7259ef"
      },
      "execution_count": null,
      "outputs": [
        {
          "output_type": "stream",
          "name": "stdout",
          "text": [
            "{1: 1, 2: 4, 3: 9, 4: 16, 5: 25, 6: 36, 7: 49}\n"
          ]
        }
      ]
    },
    {
      "cell_type": "code",
      "source": [
        "# filter even number\n",
        "\n",
        "even_dict ={x:x**2 for x in range(10) if x%2==0}\n",
        "print(even_dict)"
      ],
      "metadata": {
        "colab": {
          "base_uri": "https://localhost:8080/"
        },
        "id": "wUvuu7GA774S",
        "outputId": "94ace4cd-1546-43ff-b62b-0014bc4cdf9a"
      },
      "execution_count": null,
      "outputs": [
        {
          "output_type": "stream",
          "name": "stdout",
          "text": [
            "{0: 0, 2: 4, 4: 16, 6: 36, 8: 64}\n"
          ]
        }
      ]
    },
    {
      "cell_type": "code",
      "source": [
        "# odd number\n",
        "\n",
        "odd_dict ={x:x**2 for x in range(10) if x%2!=0}\n",
        "print(odd_dict)"
      ],
      "metadata": {
        "colab": {
          "base_uri": "https://localhost:8080/"
        },
        "id": "CL_5yegb8Nhw",
        "outputId": "0ffeb38c-b4f5-469b-a9ad-c06177cb69ee"
      },
      "execution_count": null,
      "outputs": [
        {
          "output_type": "stream",
          "name": "stdout",
          "text": [
            "{1: 1, 3: 9, 5: 25, 7: 49, 9: 81}\n"
          ]
        }
      ]
    },
    {
      "cell_type": "code",
      "source": [
        "# reverse a dictionary\n",
        "\n",
        "original={'a':1,'b':2,'c':3}\n",
        "reversed_dict={v:k for k,v in original.items()}\n",
        "print(reversed_dict)"
      ],
      "metadata": {
        "colab": {
          "base_uri": "https://localhost:8080/"
        },
        "id": "PHVJjg6J8dgs",
        "outputId": "6e30b1e2-8a8c-47a0-fe5d-7ebedc604e8f"
      },
      "execution_count": null,
      "outputs": [
        {
          "output_type": "stream",
          "name": "stdout",
          "text": [
            "{1: 'a', 2: 'b', 3: 'c'}\n"
          ]
        }
      ]
    },
    {
      "cell_type": "code",
      "source": [
        "# convert list to dictionary with length\n",
        "\n",
        "words = [\"apple\", \"banana\", \"cherry\"]\n",
        "length_dict = {word: len(word) for word in words}\n",
        "print(length_dict)\n"
      ],
      "metadata": {
        "colab": {
          "base_uri": "https://localhost:8080/"
        },
        "id": "BpDoTojc89Tj",
        "outputId": "8090eb32-ea44-4a33-c519-dcbcb162be29"
      },
      "execution_count": 10,
      "outputs": [
        {
          "output_type": "stream",
          "name": "stdout",
          "text": [
            "{'apple': 5, 'banana': 6, 'cherry': 6}\n"
          ]
        }
      ]
    },
    {
      "cell_type": "code",
      "source": [
        "# dictionary of conditional values\n",
        "\n",
        "even_odd_dict={x:('even' if x%2==0 else 'odd') for x in range(1,6)}\n",
        "print(even_odd_dict)"
      ],
      "metadata": {
        "colab": {
          "base_uri": "https://localhost:8080/"
        },
        "id": "OORmgcYI9sTa",
        "outputId": "46e83d76-fac1-497b-b58b-a921b6fbbb7f"
      },
      "execution_count": null,
      "outputs": [
        {
          "output_type": "stream",
          "name": "stdout",
          "text": [
            "{1: 'odd', 2: 'even', 3: 'odd', 4: 'even', 5: 'odd'}\n"
          ]
        }
      ]
    },
    {
      "cell_type": "code",
      "source": [],
      "metadata": {
        "id": "XlLnlZM5-P8U"
      },
      "execution_count": null,
      "outputs": []
    },
    {
      "cell_type": "code",
      "source": [
        "# ex=1  craeteing a set of square\n",
        "\n",
        "square={x**2 for x in range(1,6)}\n",
        "print(square)"
      ],
      "metadata": {
        "colab": {
          "base_uri": "https://localhost:8080/"
        },
        "id": "361pau-D-Sc1",
        "outputId": "13cf07ef-2b16-4f8e-b948-630a27427e18"
      },
      "execution_count": null,
      "outputs": [
        {
          "output_type": "stream",
          "name": "stdout",
          "text": [
            "{1, 4, 9, 16, 25}\n"
          ]
        }
      ]
    },
    {
      "cell_type": "code",
      "source": [
        "#  ex=2  filtering even number\n",
        "\n",
        "\n",
        "even={x for x in range(10) if x %2==0}\n",
        "print(even)"
      ],
      "metadata": {
        "colab": {
          "base_uri": "https://localhost:8080/"
        },
        "id": "W5cg6gTa-uFc",
        "outputId": "573be02d-5a50-4898-def5-5c16183f9a80"
      },
      "execution_count": null,
      "outputs": [
        {
          "output_type": "stream",
          "name": "stdout",
          "text": [
            "{0, 2, 4, 6, 8}\n"
          ]
        }
      ]
    },
    {
      "cell_type": "code",
      "source": [
        "# ex=3 extractring unique vowel from a string\n",
        "\n",
        "sentence=\"hello world\"\n",
        "vowel={char for char in sentence if char in \"aeiou\"}\n",
        "print(vowel)"
      ],
      "metadata": {
        "colab": {
          "base_uri": "https://localhost:8080/"
        },
        "id": "OBId4271-8k7",
        "outputId": "3f7e0c46-69a6-4ffa-f5c5-4cb0590f8e93"
      },
      "execution_count": null,
      "outputs": [
        {
          "output_type": "stream",
          "name": "stdout",
          "text": [
            "{'e', 'o'}\n"
          ]
        }
      ]
    },
    {
      "cell_type": "markdown",
      "source": [
        "exceptional handaling[link text](https:// [link text](https://))"
      ],
      "metadata": {
        "id": "kiwi60uxAgEl"
      }
    },
    {
      "cell_type": "code",
      "source": [
        "# exceptional handling\n",
        "\n",
        "# try==write our logic or program\n",
        "\n",
        "# except== if the program failed then it will return statement\n",
        "\n"
      ],
      "metadata": {
        "id": "6fG7mMagAhdA"
      },
      "execution_count": null,
      "outputs": []
    },
    {
      "cell_type": "code",
      "source": [
        "try:\n",
        "  a=5\n",
        "  b=a/0\n",
        "  print(b)\n",
        "except Exception as e:\n",
        "  print(\"you cannot diveded char and zerro\",e)\n"
      ],
      "metadata": {
        "colab": {
          "base_uri": "https://localhost:8080/"
        },
        "id": "QNjRwH4oBr9X",
        "outputId": "b6350659-f8c0-4770-db55-f611a608603e"
      },
      "execution_count": null,
      "outputs": [
        {
          "output_type": "stream",
          "name": "stdout",
          "text": [
            "you cannot diveded char and zerro division by zero\n"
          ]
        }
      ]
    },
    {
      "cell_type": "code",
      "source": [
        "# ex==2\n",
        "\n",
        "try:\n",
        "    number = int(input(\"Enter a number: \"))\n",
        "    print(number)\n",
        "except ValueError as e:\n",
        "    print(\"You cannot enter characters, only integers are allowed.\", e)\n"
      ],
      "metadata": {
        "id": "PDNpLov0CA-p",
        "colab": {
          "base_uri": "https://localhost:8080/"
        },
        "outputId": "0a27210d-9672-4290-c520-1395c8bc0b29"
      },
      "execution_count": 12,
      "outputs": [
        {
          "output_type": "stream",
          "name": "stdout",
          "text": [
            "Enter a number: 54\n",
            "54\n"
          ]
        }
      ]
    },
    {
      "cell_type": "code",
      "source": [
        " # ex==3\n",
        "\n",
        " try:\n",
        "  data={\"name\":\"murari\",\"subject\":\"math\"}\n",
        "  print(data[\"roll\"])\n",
        "except KeyError as e:\n",
        "  print(\"caught a keyerror:\",e)"
      ],
      "metadata": {
        "colab": {
          "base_uri": "https://localhost:8080/"
        },
        "id": "zi_NTc_ZCi-x",
        "outputId": "1b482bed-2e6c-4b1d-d7c6-6efbb376560b"
      },
      "execution_count": null,
      "outputs": [
        {
          "output_type": "stream",
          "name": "stdout",
          "text": [
            "caught a keyerror: 'roll'\n"
          ]
        }
      ]
    },
    {
      "cell_type": "code",
      "source": [
        "# EX-4  HANDLING INDEXERROR\n",
        "\n",
        "try:\n",
        "    my_list = [1, 2, 3]\n",
        "    print(my_list[8])  # This will raise IndexError\n",
        "except IndexError as e:\n",
        "    print(\"Caught an IndexError:\", e)\n"
      ],
      "metadata": {
        "colab": {
          "base_uri": "https://localhost:8080/"
        },
        "id": "ijB2upCCDHvQ",
        "outputId": "7bb3db3a-795c-4f77-e1ce-947c39ce703b"
      },
      "execution_count": 11,
      "outputs": [
        {
          "output_type": "stream",
          "name": "stdout",
          "text": [
            "Caught an IndexError: list index out of range\n"
          ]
        }
      ]
    },
    {
      "cell_type": "code",
      "source": [
        "# ex=5--handling filenotfounderror\n",
        "\n",
        "try:\n",
        "  with open(\"non_existent_file.txt\") as file:\n",
        "    content=file.read()\n",
        "except FileNotFoundError as e:\n",
        "  print(\"caught a FileNotFoundError :\",e)"
      ],
      "metadata": {
        "colab": {
          "base_uri": "https://localhost:8080/",
          "height": 106
        },
        "id": "oHWnnVeLECZH",
        "outputId": "b501ebe6-ff4e-4290-a466-f9deb1eeb512"
      },
      "execution_count": null,
      "outputs": [
        {
          "output_type": "error",
          "ename": "IndentationError",
          "evalue": "expected an indented block after 'with' statement on line 4 (<ipython-input-27-a40af54b19b4>, line 5)",
          "traceback": [
            "\u001b[0;36m  File \u001b[0;32m\"<ipython-input-27-a40af54b19b4>\"\u001b[0;36m, line \u001b[0;32m5\u001b[0m\n\u001b[0;31m    except FileNotFoundError as e:\u001b[0m\n\u001b[0m                                  ^\u001b[0m\n\u001b[0;31mIndentationError\u001b[0m\u001b[0;31m:\u001b[0m expected an indented block after 'with' statement on line 4\n"
          ]
        }
      ]
    },
    {
      "cell_type": "code",
      "source": [
        "# one class remaning 20\\05\\2025"
      ],
      "metadata": {
        "id": "5KrddmeVkfxn"
      },
      "execution_count": null,
      "outputs": []
    },
    {
      "cell_type": "code",
      "source": [],
      "metadata": {
        "id": "9UPQiZJhklc3"
      },
      "execution_count": null,
      "outputs": []
    },
    {
      "cell_type": "code",
      "source": [],
      "metadata": {
        "id": "Ry9P8nSIkl5_"
      },
      "execution_count": null,
      "outputs": []
    },
    {
      "cell_type": "code",
      "source": [
        "# abstraction is a  concert in     oop ,that higest unanassasry details"
      ],
      "metadata": {
        "id": "kiV7hZ9OkmZU"
      },
      "execution_count": null,
      "outputs": []
    },
    {
      "cell_type": "code",
      "source": [
        "# a decoratar @ abstract method that define method in the abstract class but does not devide implimentaction .to use abstract abc class is difuculti use\n"
      ],
      "metadata": {
        "id": "rF3UpPJNnM9_"
      },
      "execution_count": null,
      "outputs": []
    },
    {
      "cell_type": "code",
      "source": [
        "from abc import ABC,abstractmethod\n",
        "# abstract class\n",
        "class shape(ABC):\n",
        "  @abstractmethod\n",
        "  def area(self):\n",
        "    pass  # abstract method, no implimentaction\n",
        "\n",
        "  @abstractmethod\n",
        "  def perimeter(self):\n",
        "    pass  # abstract method, no implimentaction\n",
        "\n",
        "from abc import ABC,abstractmethod\n",
        "# abstract class\n",
        "class shape(ABC):\n",
        "  @abstractmethod\n",
        "  def area(self):\n",
        "    pass  # abstract method, no implimentaction\n",
        "\n",
        "  @abstractmethod\n",
        "  def perimeter(self):\n",
        "    pass  # abstract method, no implimentaction\n",
        "\n",
        "# concreate class for circule\n",
        "class Circle(shape):\n",
        "  def __init__(self,radius):\n",
        "    self.radius=radius\n",
        "\n",
        "  def area(self):\n",
        "    return 3.14*self.radius*self.radius\n",
        "\n",
        "  def perimeter(self):\n",
        "    return 2*3.14*self.radius\n",
        "\n",
        "    #using the classes\n",
        "circle=Circle(5)\n",
        "print(\"circle area :\",circle.area())\n",
        "  def area(self):\n",
        "    return 3.14*self.radius*self.radius\n",
        "\n",
        "  def perimeter(self):\n",
        "    return 2*3.14*self.radius\n",
        "\n",
        "    #using the classes\n",
        "circle=circle(5)\n",
        "print(\"circle area :\",circle.area())\n"
      ],
      "metadata": {
        "colab": {
          "base_uri": "https://localhost:8080/",
          "height": 106
        },
        "id": "m2UrjEg-nh8m",
        "outputId": "6c973190-b1c9-4ef0-b3b4-0197d3f3c551"
      },
      "execution_count": null,
      "outputs": [
        {
          "output_type": "error",
          "ename": "IndentationError",
          "evalue": "unexpected indent (<ipython-input-4-dbf9df521202>, line 37)",
          "traceback": [
            "\u001b[0;36m  File \u001b[0;32m\"<ipython-input-4-dbf9df521202>\"\u001b[0;36m, line \u001b[0;32m37\u001b[0m\n\u001b[0;31m    def area (self):\u001b[0m\n\u001b[0m    ^\u001b[0m\n\u001b[0;31mIndentationError\u001b[0m\u001b[0;31m:\u001b[0m unexpected indent\n"
          ]
        }
      ]
    },
    {
      "cell_type": "code",
      "source": [
        "from abc import ABC,abstractmethod\n",
        "# abstract class\n",
        "\n",
        "class payment(ABC):\n",
        "  @abstractmethod\n",
        "  def make_payment(self,amount):\n",
        "    pass\n",
        "\n",
        "# concreate class for credit card payment\n",
        "\n",
        "class creditcardpayment(payment):\n",
        "  def make_payment(self,amount):\n",
        "    return f\"credit card payment of ${amount} processed.\"\n",
        "\n",
        "# concreate class for paypal payment\n",
        "\n",
        "class paypalpayment(payment):\n",
        "  def make_payment(self,amount):\n",
        "    return f\"credit card payment of ${amount} processed.\"\n",
        "\n",
        "\n",
        " # using the classes\n",
        "\n",
        "payment1=creditcardpayment()\n",
        "print(payment1.make_payment(100))\n",
        "\n",
        "payment2=paypalpayment()\n",
        "print(payment1.make_payment(100))\n"
      ],
      "metadata": {
        "colab": {
          "base_uri": "https://localhost:8080/"
        },
        "id": "5OWkquY0qNzX",
        "outputId": "3e82d66f-aa49-4f93-cf0e-06ab61a839b5"
      },
      "execution_count": null,
      "outputs": [
        {
          "output_type": "stream",
          "name": "stdout",
          "text": [
            "credit card payment of $100 processed.\n",
            "credit card payment of $100 processed.\n"
          ]
        }
      ]
    },
    {
      "cell_type": "code",
      "source": [
        "payment1=creditcardpayment()\n",
        "print(payment1.make_payment(100))"
      ],
      "metadata": {
        "colab": {
          "base_uri": "https://localhost:8080/"
        },
        "id": "YIX4LLO7r8G6",
        "outputId": "5f5d56ee-f193-45f2-82a8-8e390ea74c05"
      },
      "execution_count": null,
      "outputs": [
        {
          "output_type": "stream",
          "name": "stdout",
          "text": [
            "credit card payment of $100 processed.\n"
          ]
        }
      ]
    },
    {
      "cell_type": "code",
      "source": [
        "# incapsuaction in oops\n",
        "# incapsuaction the bundaling data and function that work on data into a single unity useally a class\n"
      ],
      "metadata": {
        "id": "15ylxOA9sF5v"
      },
      "execution_count": null,
      "outputs": []
    },
    {
      "cell_type": "code",
      "source": [
        "# there are two type\n",
        "#1> public attribute\n",
        "#2>private attribute"
      ],
      "metadata": {
        "id": "iqxlG-5csbq6"
      },
      "execution_count": null,
      "outputs": []
    },
    {
      "cell_type": "code",
      "source": [
        "#  incapsulaction imprtant because it improvr data security by restric unathorize access it parmote modularity by hidding implimentaction detaile it unable control over data by providing control access method it inhanse core maintabliti and reuseablity by pritecting data from modificati#on"
      ],
      "metadata": {
        "id": "dvcgxTJvspFJ"
      },
      "execution_count": null,
      "outputs": []
    },
    {
      "cell_type": "code",
      "source": [
        "# example\n",
        "\n",
        "class bankaccount:\n",
        "  def_init_(self,account_holder,balance):\n",
        "    self._account_holder=account_holder  # private attribute\n",
        "    self._balance=balance                 # private attribute\n",
        "\n",
        " # gettter for account holder\n",
        "\n",
        " def get_account_holder(self):\n",
        "  return self._account_holder\n",
        "\n",
        "  #getter for balance\n",
        "\n",
        "   def get_balance(self):\n",
        "    return self._balance\n",
        "\n",
        "    # method to deposite mony\n",
        "\n",
        "    def deposite(self,amount):\n",
        "      if amount >0:\n",
        "        self._balance +=amount\n"
      ],
      "metadata": {
        "id": "cBeDpC6TtbyV"
      },
      "execution_count": null,
      "outputs": []
    },
    {
      "cell_type": "code",
      "source": [
        "|# Student data\n",
        "\n",
        "class Student:\n",
        "    def __init__(self, name, grade):\n",
        "        self.name = name                # public attribute\n",
        "        self.__grade = grade            # private attribute\n",
        "\n",
        "    # getter for grade\n",
        "    def get_grade(self):\n",
        "        return self.__grade\n",
        "\n",
        "    # setter for grade (with validation)\n",
        "    def set_grade(self, new_grade):\n",
        "        if 0 <= new_grade <= 100:\n",
        "            self.__grade = new_grade\n",
        "            return \"Grade updated successfully!\"\n",
        "        else:\n",
        "            return \"Invalid grade! Must be between 0 and 100.\"\n",
        "\n",
        "\n",
        "# using the class\n",
        "student = Student(\"Rohit\", 85)\n",
        "print(student.name)                 # public attribute\n",
        "print(student.get_grade())         # using getter\n",
        "print(student.set_grade(55))       # using setter\n",
        "print(student.get_grade())         # updated value\n",
        "\n",
        "\n",
        "\n"
      ],
      "metadata": {
        "colab": {
          "base_uri": "https://localhost:8080/",
          "height": 106
        },
        "id": "v_bxXNSsvWAg",
        "outputId": "07f7bc3c-9a74-45ff-89b8-26cffa85e250"
      },
      "execution_count": null,
      "outputs": [
        {
          "output_type": "error",
          "ename": "SyntaxError",
          "evalue": "invalid syntax (<ipython-input-22-c77e998ca076>, line 1)",
          "traceback": [
            "\u001b[0;36m  File \u001b[0;32m\"<ipython-input-22-c77e998ca076>\"\u001b[0;36m, line \u001b[0;32m1\u001b[0m\n\u001b[0;31m    |# Student data\u001b[0m\n\u001b[0m    ^\u001b[0m\n\u001b[0;31mSyntaxError\u001b[0m\u001b[0;31m:\u001b[0m invalid syntax\n"
          ]
        }
      ]
    },
    {
      "cell_type": "code",
      "source": [
        "# recooresiion in python refer to A PROCESS where a function call itself .\n",
        "\n",
        "\n",
        "# recurrison use in class to perform to perform repet task\n",
        "\n",
        "# feature in recurrsion ---\n",
        "# case-1\n",
        "# case-2\n",
        "\n",
        "\n",
        "# 1>base case=a condiction that stop the recursion is prevent infinite class\n",
        "# 2> recrusive case = that part where the function clll itself with the modified argument.\n",
        "\n"
      ],
      "metadata": {
        "id": "Y7ZrsS3ChW2R"
      },
      "execution_count": null,
      "outputs": []
    },
    {
      "cell_type": "code",
      "source": [
        "class BankAccount:\n",
        "    def _init_(self, holder_name, balance=0):\n",
        "        self.holder_name = holder_name\n",
        "        self.balance = balance\n",
        "\n",
        "    def deposit(self, amount):\n",
        "        if amount > 0:\n",
        "            self.balance += amount\n",
        "            print(f\"{amount}{self.balance}\")\n",
        "\n",
        "    def withdraw(self, amount):\n",
        "        if amount > 0 and amount <= self.balance:\n",
        "            self.balance -= amount\n",
        "            print(f\"{amount} {self.balance}\")\n",
        "        else:\n",
        "            print(\"enfaluance balance\")\n",
        "\n",
        "    def check_balance(self):\n",
        "        print(f\": {self.balanacc1=deposit(500)"
      ],
      "metadata": {
        "id": "NlCxFmfBnCte"
      },
      "execution_count": null,
      "outputs": []
    },
    {
      "cell_type": "code",
      "source": [
        "class student:\n",
        "  def_init_(self,name):\n",
        "    self.name=name\n",
        "    self_score=[]\n",
        "\n",
        "  def add_score(self,score):\n",
        "    if 0<=score <=100:\n",
        "      self__"
      ],
      "metadata": {
        "id": "bVkc6JF0oxMQ"
      },
      "execution_count": null,
      "outputs": []
    },
    {
      "cell_type": "code",
      "source": [],
      "metadata": {
        "id": "Qh6v4t3Owp8t"
      },
      "execution_count": null,
      "outputs": []
    },
    {
      "cell_type": "markdown",
      "source": [
        "introduction to numpy"
      ],
      "metadata": {
        "id": "QVD1-NCFZLTk"
      }
    },
    {
      "cell_type": "code",
      "source": [
        "# introduction to numpy===>\n",
        "# numpy is a open source library is used for scintific calculation"
      ],
      "metadata": {
        "id": "Xi7MM9zWZPwy"
      },
      "execution_count": null,
      "outputs": []
    },
    {
      "cell_type": "code",
      "source": [
        "#  how numpy is better than list  !\n",
        "\n",
        "#(1)= numpy is honogeneous data type while list is hetrogenous data type.\n",
        "#(2)= numpy take less memory while list take more memory.\n",
        "#(3)= numpy take lesss exicution time while list take more exicution time .\n"
      ],
      "metadata": {
        "id": "-9_LqsRoikIz"
      },
      "execution_count": null,
      "outputs": []
    },
    {
      "cell_type": "code",
      "source": [
        "pip install numpy"
      ],
      "metadata": {
        "id": "UDm5SYffkljf"
      },
      "execution_count": null,
      "outputs": []
    },
    {
      "cell_type": "code",
      "source": [
        "import numpy as np"
      ],
      "metadata": {
        "id": "7fE0EyzYkov9"
      },
      "execution_count": null,
      "outputs": []
    },
    {
      "cell_type": "code",
      "source": [
        "a=[1,45,78,90]\n",
        "type(a)\n",
        "b=np.array(a)\n",
        "b"
      ],
      "metadata": {
        "colab": {
          "base_uri": "https://localhost:8080/"
        },
        "id": "sOdIH9JukvXy",
        "outputId": "c4bf3797-5d79-4a05-fdb6-5fffe67c329b"
      },
      "execution_count": null,
      "outputs": [
        {
          "output_type": "execute_result",
          "data": {
            "text/plain": [
              "array([ 1, 45, 78, 90])"
            ]
          },
          "metadata": {},
          "execution_count": 14
        }
      ]
    },
    {
      "cell_type": "code",
      "source": [
        "a=[]\n",
        "size =int(input(\"enter size :\"))\n",
        "for i in range(size):\n",
        "  val=int(input(\"enter element:\"))\n",
        "  a.append(val)\n",
        "\n",
        "  print(a)\n",
        "\n",
        "  b=np.array(a)\n",
        "  b"
      ],
      "metadata": {
        "colab": {
          "base_uri": "https://localhost:8080/"
        },
        "id": "Rx0Z7o5lk79T",
        "outputId": "419435ec-83e4-47f5-b20b-2da31db1dfd4"
      },
      "execution_count": null,
      "outputs": [
        {
          "output_type": "stream",
          "name": "stdout",
          "text": [
            "enter size :3\n",
            "enter element:12\n",
            "[12]\n",
            "enter element:45\n",
            "[12, 45]\n",
            "enter element:78\n",
            "[12, 45, 78]\n"
          ]
        }
      ]
    },
    {
      "cell_type": "code",
      "source": [
        "type(b)"
      ],
      "metadata": {
        "colab": {
          "base_uri": "https://localhost:8080/"
        },
        "id": "DpGpm2dUlitP",
        "outputId": "cd249ea5-a1df-47c8-fc82-5153ab5e910d"
      },
      "execution_count": null,
      "outputs": [
        {
          "output_type": "execute_result",
          "data": {
            "text/plain": [
              "numpy.ndarray"
            ]
          },
          "metadata": {},
          "execution_count": 8
        }
      ]
    },
    {
      "cell_type": "code",
      "source": [
        "a=[[1,2,3,4],[4,5,6,7],[7,8,9,5]]\n",
        "a"
      ],
      "metadata": {
        "colab": {
          "base_uri": "https://localhost:8080/"
        },
        "id": "JHk7UdnnmGJE",
        "outputId": "9d9604ce-2db8-49df-d70a-760b846b6ca6"
      },
      "execution_count": null,
      "outputs": [
        {
          "output_type": "execute_result",
          "data": {
            "text/plain": [
              "[[1, 2, 3, 4], [4, 5, 6, 7], [7, 8, 9, 5]]"
            ]
          },
          "metadata": {},
          "execution_count": 9
        }
      ]
    },
    {
      "cell_type": "code",
      "source": [
        "b=np.array(a)\n",
        "b"
      ],
      "metadata": {
        "colab": {
          "base_uri": "https://localhost:8080/"
        },
        "id": "tDzyOwPUmSeE",
        "outputId": "89189f1f-b505-4b4a-9c07-681b84b075dd"
      },
      "execution_count": null,
      "outputs": [
        {
          "output_type": "execute_result",
          "data": {
            "text/plain": [
              "array([[1, 2, 3, 4],\n",
              "       [4, 5, 6, 7],\n",
              "       [7, 8, 9, 5]])"
            ]
          },
          "metadata": {},
          "execution_count": 10
        }
      ]
    },
    {
      "cell_type": "code",
      "source": [
        "print(\"total row and column :\",b.shape) # shape =n(rows),n(column)\n",
        "print(\"total element:\",b.size)  # size =total element =n(rows)*n(column)\n",
        "print(\"total dimension:\",b.ndim)  # ndim=stand for n_dimensional"
      ],
      "metadata": {
        "colab": {
          "base_uri": "https://localhost:8080/"
        },
        "id": "v4LsPvV3mXp_",
        "outputId": "7a5f215c-9926-4755-e189-68ea2dc6088d"
      },
      "execution_count": null,
      "outputs": [
        {
          "output_type": "stream",
          "name": "stdout",
          "text": [
            "total row and column : (3, 4)\n",
            "total element: 12\n",
            "total dimension: 2\n"
          ]
        }
      ]
    },
    {
      "cell_type": "code",
      "source": [
        "# function in numpy"
      ],
      "metadata": {
        "id": "57gLoMa9nAY_"
      },
      "execution_count": null,
      "outputs": []
    },
    {
      "cell_type": "code",
      "source": [
        "#  (1). zeros()-----> it will create an arrey in which all the value in either one dimensional or multi dimensinal will be 0.\n"
      ],
      "metadata": {
        "id": "FSYXZstSnw_k"
      },
      "execution_count": null,
      "outputs": []
    },
    {
      "cell_type": "code",
      "source": [
        "a=np.zeros(3)\n",
        "a"
      ],
      "metadata": {
        "colab": {
          "base_uri": "https://localhost:8080/"
        },
        "id": "bOzGXBOdoFSj",
        "outputId": "5ccf69d2-d2de-4cfe-806f-73531ff8dab8"
      },
      "execution_count": null,
      "outputs": [
        {
          "output_type": "execute_result",
          "data": {
            "text/plain": [
              "array([0., 0., 0.])"
            ]
          },
          "metadata": {},
          "execution_count": 12
        }
      ]
    },
    {
      "cell_type": "code",
      "source": [
        "a=np.zeros((3,4))\n",
        "a"
      ],
      "metadata": {
        "colab": {
          "base_uri": "https://localhost:8080/"
        },
        "id": "WEEOtah-oLEA",
        "outputId": "20dc2940-6364-4591-b95c-59105a4edc83"
      },
      "execution_count": null,
      "outputs": [
        {
          "output_type": "execute_result",
          "data": {
            "text/plain": [
              "array([[0., 0., 0., 0.],\n",
              "       [0., 0., 0., 0.],\n",
              "       [0., 0., 0., 0.]])"
            ]
          },
          "metadata": {},
          "execution_count": 14
        }
      ]
    },
    {
      "cell_type": "code",
      "source": [
        "# (2). ones()---> it will create an arrey in which all the value will be 1 in either one dimensial or multi dimensial"
      ],
      "metadata": {
        "id": "Wayt7ppVoVDI"
      },
      "execution_count": null,
      "outputs": []
    },
    {
      "cell_type": "code",
      "source": [
        "a=np.ones(3)\n",
        "a"
      ],
      "metadata": {
        "colab": {
          "base_uri": "https://localhost:8080/"
        },
        "id": "UPVqqp68qtOj",
        "outputId": "5e8b6196-a592-4c3b-ab26-222b7cc18ff1"
      },
      "execution_count": null,
      "outputs": [
        {
          "output_type": "execute_result",
          "data": {
            "text/plain": [
              "array([1., 1., 1.])"
            ]
          },
          "metadata": {},
          "execution_count": 15
        }
      ]
    },
    {
      "cell_type": "code",
      "source": [
        "a=np.ones((3,4))\n",
        "a"
      ],
      "metadata": {
        "colab": {
          "base_uri": "https://localhost:8080/"
        },
        "id": "dvUsWqMorerN",
        "outputId": "5afec788-a35b-48d5-ef77-4eb2ec8c5464"
      },
      "execution_count": null,
      "outputs": [
        {
          "output_type": "execute_result",
          "data": {
            "text/plain": [
              "array([[1., 1., 1., 1.],\n",
              "       [1., 1., 1., 1.],\n",
              "       [1., 1., 1., 1.]])"
            ]
          },
          "metadata": {},
          "execution_count": 17
        }
      ]
    },
    {
      "cell_type": "code",
      "source": [
        "# (3)= eye()------>\n",
        "# matrix----> digonal position ---->1\n",
        "# it will create an array in which digonal positional element will be 1 and reset all are 0.\n"
      ],
      "metadata": {
        "id": "hIdw_uxOrlJz"
      },
      "execution_count": null,
      "outputs": []
    },
    {
      "cell_type": "code",
      "source": [
        "a=np.eye(3)\n",
        "a"
      ],
      "metadata": {
        "colab": {
          "base_uri": "https://localhost:8080/"
        },
        "id": "HXakZsHosCRm",
        "outputId": "fc880143-a07b-447e-8801-e6b7eece19cc"
      },
      "execution_count": null,
      "outputs": [
        {
          "output_type": "execute_result",
          "data": {
            "text/plain": [
              "array([[1., 0., 0.],\n",
              "       [0., 1., 0.],\n",
              "       [0., 0., 1.]])"
            ]
          },
          "metadata": {},
          "execution_count": 18
        }
      ]
    },
    {
      "cell_type": "code",
      "source": [
        "a=np.eye(3,4)\n",
        "a"
      ],
      "metadata": {
        "colab": {
          "base_uri": "https://localhost:8080/"
        },
        "id": "JqxSn9ocsGlh",
        "outputId": "5fd49c03-a03e-426d-c7f2-9be1681dd4b0"
      },
      "execution_count": null,
      "outputs": [
        {
          "output_type": "execute_result",
          "data": {
            "text/plain": [
              "array([[1., 0., 0., 0.],\n",
              "       [0., 1., 0., 0.],\n",
              "       [0., 0., 1., 0.]])"
            ]
          },
          "metadata": {},
          "execution_count": 19
        }
      ]
    },
    {
      "cell_type": "code",
      "source": [
        "# (4). diag()--->\n",
        "#                  it will create an array in which you can set custom values at dignol position.\n"
      ],
      "metadata": {
        "id": "dcAvgVMYsZXG"
      },
      "execution_count": null,
      "outputs": []
    },
    {
      "cell_type": "code",
      "source": [
        "a=np.diag([1,45,78,90])\n",
        "a"
      ],
      "metadata": {
        "colab": {
          "base_uri": "https://localhost:8080/"
        },
        "id": "Io6n49t2ss0W",
        "outputId": "e77557aa-00b6-46b7-8190-d0c47e38e3ac"
      },
      "execution_count": null,
      "outputs": [
        {
          "output_type": "execute_result",
          "data": {
            "text/plain": [
              "array([[ 1,  0,  0,  0],\n",
              "       [ 0, 45,  0,  0],\n",
              "       [ 0,  0, 78,  0],\n",
              "       [ 0,  0,  0, 90]])"
            ]
          },
          "metadata": {},
          "execution_count": 20
        }
      ]
    },
    {
      "cell_type": "code",
      "source": [
        "# (5).=random modules-------> it will return random number\n"
      ],
      "metadata": {
        "id": "8CHFRFSStA_b"
      },
      "execution_count": null,
      "outputs": []
    },
    {
      "cell_type": "code",
      "source": [
        "# (a). randint()------> it will return random number in a given range.\n",
        "# syntex\n",
        "# np.random.randint(min_number,max_number,total_number)\n"
      ],
      "metadata": {
        "id": "Ii9pw_kQtJx6"
      },
      "execution_count": null,
      "outputs": []
    },
    {
      "cell_type": "code",
      "source": [
        "a=np.random.randint(1,10,3)\n",
        "a"
      ],
      "metadata": {
        "colab": {
          "base_uri": "https://localhost:8080/"
        },
        "id": "d5urAwkItjKO",
        "outputId": "6785dac0-bbc1-4ab0-cc02-f4cbd5f915fb"
      },
      "execution_count": null,
      "outputs": [
        {
          "output_type": "execute_result",
          "data": {
            "text/plain": [
              "array([8, 1, 7])"
            ]
          },
          "metadata": {},
          "execution_count": 21
        }
      ]
    },
    {
      "cell_type": "code",
      "source": [
        "# (b).= rand()----> it will provide random number in range of 0 to 1."
      ],
      "metadata": {
        "id": "yX-AwkcwtrU0"
      },
      "execution_count": null,
      "outputs": []
    },
    {
      "cell_type": "code",
      "source": [
        "a=np.random.rand(4)\n",
        "a"
      ],
      "metadata": {
        "colab": {
          "base_uri": "https://localhost:8080/"
        },
        "id": "Fyy3-ZwUt1vv",
        "outputId": "a7d5e541-2bc7-46c2-b284-ded73572cf9a"
      },
      "execution_count": null,
      "outputs": [
        {
          "output_type": "execute_result",
          "data": {
            "text/plain": [
              "array([0.94710198, 0.99174409, 0.91345401, 0.77266591])"
            ]
          },
          "metadata": {},
          "execution_count": 22
        }
      ]
    },
    {
      "cell_type": "code",
      "source": [
        "# random number -----> data use -----> output\n",
        "# if random number refresh update----> previous output change"
      ],
      "metadata": {
        "id": "mZxOBm97t7HG"
      },
      "execution_count": null,
      "outputs": []
    },
    {
      "cell_type": "code",
      "source": [
        "# (c).= seed()-----> it will fix our random generated data\n"
      ],
      "metadata": {
        "id": "UavnKb76uLTn"
      },
      "execution_count": null,
      "outputs": []
    },
    {
      "cell_type": "code",
      "source": [
        "\n",
        "a=np.random.randint(1,10,3)\n",
        "a"
      ],
      "metadata": {
        "colab": {
          "base_uri": "https://localhost:8080/"
        },
        "id": "vy0SOzWGuXZx",
        "outputId": "f8a1648b-61db-46f7-e7b9-b0a55750d644"
      },
      "execution_count": null,
      "outputs": [
        {
          "output_type": "execute_result",
          "data": {
            "text/plain": [
              "array([4, 9, 2])"
            ]
          },
          "metadata": {},
          "execution_count": 24
        }
      ]
    },
    {
      "cell_type": "code",
      "source": [
        "\n",
        "\n",
        "# view vs copy\n",
        "\n",
        "\n",
        "\n"
      ],
      "metadata": {
        "id": "jtc_rqwRuqBw"
      },
      "execution_count": null,
      "outputs": []
    },
    {
      "cell_type": "code",
      "source": [
        "# view mean modification in original data and copy mean modification in duplicate data."
      ],
      "metadata": {
        "id": "dDddLPsnuvIV"
      },
      "execution_count": null,
      "outputs": []
    },
    {
      "cell_type": "code",
      "source": [
        "a=np.array([10,20,30,40,50,60,70,80,90])\n",
        "a"
      ],
      "metadata": {
        "colab": {
          "base_uri": "https://localhost:8080/"
        },
        "id": "E5uGvRaTvH55",
        "outputId": "824fe6bb-c2f6-4504-e484-ea258ee5bdb7"
      },
      "execution_count": null,
      "outputs": [
        {
          "output_type": "execute_result",
          "data": {
            "text/plain": [
              "array([10, 20, 30, 40, 50, 60, 70, 80, 90])"
            ]
          },
          "metadata": {},
          "execution_count": 25
        }
      ]
    },
    {
      "cell_type": "code",
      "source": [
        "b=a[3:6]\n",
        "b[:]=0\n",
        "b"
      ],
      "metadata": {
        "colab": {
          "base_uri": "https://localhost:8080/"
        },
        "id": "XAegl31XvPWL",
        "outputId": "ab172f80-7f95-4c76-bdf7-539548e7319e"
      },
      "execution_count": null,
      "outputs": [
        {
          "output_type": "execute_result",
          "data": {
            "text/plain": [
              "array([0, 0, 0])"
            ]
          },
          "metadata": {},
          "execution_count": 26
        }
      ]
    },
    {
      "cell_type": "code",
      "source": [
        "a"
      ],
      "metadata": {
        "colab": {
          "base_uri": "https://localhost:8080/"
        },
        "id": "JDGE6nsTvWUY",
        "outputId": "14573431-111a-469a-c510-ad746728f2ab"
      },
      "execution_count": null,
      "outputs": [
        {
          "output_type": "execute_result",
          "data": {
            "text/plain": [
              "array([10, 20, 30,  0,  0,  0, 70, 80, 90])"
            ]
          },
          "metadata": {},
          "execution_count": 27
        }
      ]
    },
    {
      "cell_type": "code",
      "source": [
        "a=np.array([10,20,30,40,50,60,70,80,90])\n",
        "b=a[3:6].copy()\n",
        "b[:]=0\n",
        "b\n"
      ],
      "metadata": {
        "colab": {
          "base_uri": "https://localhost:8080/"
        },
        "id": "dZ6pCmk-vaFL",
        "outputId": "ad563df2-9573-4159-879c-954d93721f53"
      },
      "execution_count": null,
      "outputs": [
        {
          "output_type": "execute_result",
          "data": {
            "text/plain": [
              "array([0, 0, 0])"
            ]
          },
          "metadata": {},
          "execution_count": 28
        }
      ]
    },
    {
      "cell_type": "code",
      "source": [
        "a"
      ],
      "metadata": {
        "colab": {
          "base_uri": "https://localhost:8080/"
        },
        "id": "fK1QUD3WwHFI",
        "outputId": "97bc4d07-061e-42c5-e00c-8bc3ee8ca3ec"
      },
      "execution_count": null,
      "outputs": [
        {
          "output_type": "execute_result",
          "data": {
            "text/plain": [
              "array([10, 20, 30, 40, 50, 60, 70, 80, 90])"
            ]
          },
          "metadata": {},
          "execution_count": 29
        }
      ]
    },
    {
      "cell_type": "code",
      "source": [
        "# operation on array\n",
        "\n"
      ],
      "metadata": {
        "id": "oGGNQSJsvgD8"
      },
      "execution_count": null,
      "outputs": []
    },
    {
      "cell_type": "code",
      "source": [
        "import numpy as np"
      ],
      "metadata": {
        "id": "hh5Cmy_3z9YC"
      },
      "execution_count": null,
      "outputs": []
    },
    {
      "cell_type": "code",
      "source": [
        "a=np.arange(1,16,1)\n",
        "a"
      ],
      "metadata": {
        "colab": {
          "base_uri": "https://localhost:8080/"
        },
        "id": "ezz5TUTaz03R",
        "outputId": "1578fdd3-4db0-4098-85c3-5e07e6d4b395"
      },
      "execution_count": null,
      "outputs": [
        {
          "output_type": "execute_result",
          "data": {
            "text/plain": [
              "array([ 1,  2,  3,  4,  5,  6,  7,  8,  9, 10, 11, 12, 13, 14, 15])"
            ]
          },
          "metadata": {},
          "execution_count": 4
        }
      ]
    },
    {
      "cell_type": "code",
      "source": [
        "a>10"
      ],
      "metadata": {
        "colab": {
          "base_uri": "https://localhost:8080/"
        },
        "id": "wfg4EVQn0E0-",
        "outputId": "a8238855-c411-44b0-e340-8a21668a3424"
      },
      "execution_count": null,
      "outputs": [
        {
          "output_type": "execute_result",
          "data": {
            "text/plain": [
              "array([False, False, False, False, False, False, False, False, False,\n",
              "       False,  True,  True,  True,  True,  True])"
            ]
          },
          "metadata": {},
          "execution_count": 5
        }
      ]
    },
    {
      "cell_type": "code",
      "source": [
        "b=a>10\n",
        "a[b]"
      ],
      "metadata": {
        "colab": {
          "base_uri": "https://localhost:8080/"
        },
        "id": "7xK-OpHT0HND",
        "outputId": "b902b0cf-1d98-4eee-fd3c-53de80c7243a"
      },
      "execution_count": null,
      "outputs": [
        {
          "output_type": "execute_result",
          "data": {
            "text/plain": [
              "array([11, 12, 13, 14, 15])"
            ]
          },
          "metadata": {},
          "execution_count": 6
        }
      ]
    },
    {
      "cell_type": "code",
      "source": [
        "a[a%2==0]"
      ],
      "metadata": {
        "colab": {
          "base_uri": "https://localhost:8080/"
        },
        "id": "U4eUSKOK0Mdo",
        "outputId": "f8d8a6d3-8c6c-413a-8081-efda77cd4ac3"
      },
      "execution_count": null,
      "outputs": [
        {
          "output_type": "execute_result",
          "data": {
            "text/plain": [
              "array([ 2,  4,  6,  8, 10, 12, 14])"
            ]
          },
          "metadata": {},
          "execution_count": 8
        }
      ]
    },
    {
      "cell_type": "code",
      "source": [
        "a[a%2!=0]"
      ],
      "metadata": {
        "colab": {
          "base_uri": "https://localhost:8080/"
        },
        "id": "W1eXoNtB0ZmI",
        "outputId": "af447672-dd91-4921-de24-feb7d22bc970"
      },
      "execution_count": null,
      "outputs": [
        {
          "output_type": "execute_result",
          "data": {
            "text/plain": [
              "array([ 1,  3,  5,  7,  9, 11, 13, 15])"
            ]
          },
          "metadata": {},
          "execution_count": 9
        }
      ]
    },
    {
      "cell_type": "code",
      "source": [
        "a=np.arange(1,5)\n",
        "a"
      ],
      "metadata": {
        "colab": {
          "base_uri": "https://localhost:8080/"
        },
        "id": "4yu4oO8s0d72",
        "outputId": "beb60146-4a17-4ee1-bb99-920c74974cd9"
      },
      "execution_count": null,
      "outputs": [
        {
          "output_type": "execute_result",
          "data": {
            "text/plain": [
              "array([1, 2, 3, 4])"
            ]
          },
          "metadata": {},
          "execution_count": 10
        }
      ]
    },
    {
      "cell_type": "code",
      "source": [
        "# reshaping the  array"
      ],
      "metadata": {
        "id": "5aUBI7gS0jQ9"
      },
      "execution_count": null,
      "outputs": []
    },
    {
      "cell_type": "code",
      "source": [
        "a=np.arange(1,13)\n",
        "a"
      ],
      "metadata": {
        "colab": {
          "base_uri": "https://localhost:8080/"
        },
        "id": "itC7rbs2076q",
        "outputId": "0be4def7-a8e9-4be4-ffdc-d4f107dbb74f"
      },
      "execution_count": null,
      "outputs": [
        {
          "output_type": "execute_result",
          "data": {
            "text/plain": [
              "array([ 1,  2,  3,  4,  5,  6,  7,  8,  9, 10, 11, 12])"
            ]
          },
          "metadata": {},
          "execution_count": 11
        }
      ]
    },
    {
      "cell_type": "code",
      "source": [
        "a.shape"
      ],
      "metadata": {
        "colab": {
          "base_uri": "https://localhost:8080/"
        },
        "id": "-wH50mCi07dv",
        "outputId": "ae7a6cd1-d2b5-47e3-892e-345703b140bb"
      },
      "execution_count": null,
      "outputs": [
        {
          "output_type": "execute_result",
          "data": {
            "text/plain": [
              "(12,)"
            ]
          },
          "metadata": {},
          "execution_count": 12
        }
      ]
    },
    {
      "cell_type": "code",
      "source": [
        "# 1*12 ,12*1\n",
        "#2*6 ,6*2\n",
        "#3*4 ,4*3"
      ],
      "metadata": {
        "id": "_NnBPVtJ1FUy"
      },
      "execution_count": null,
      "outputs": []
    },
    {
      "cell_type": "code",
      "source": [
        "a.reshape(2,6)"
      ],
      "metadata": {
        "colab": {
          "base_uri": "https://localhost:8080/"
        },
        "id": "6G4qWCtH1Ok2",
        "outputId": "37729f17-42c9-4dad-9fbf-dac5241cb7c6"
      },
      "execution_count": null,
      "outputs": [
        {
          "output_type": "execute_result",
          "data": {
            "text/plain": [
              "array([[ 1,  2,  3,  4,  5,  6],\n",
              "       [ 7,  8,  9, 10, 11, 12]])"
            ]
          },
          "metadata": {},
          "execution_count": 13
        }
      ]
    },
    {
      "cell_type": "code",
      "source": [
        "a.reshape(3,4)"
      ],
      "metadata": {
        "colab": {
          "base_uri": "https://localhost:8080/"
        },
        "id": "RLFYsPhZ1Syy",
        "outputId": "f21adf22-394b-4971-fbf1-0819a8b07d09"
      },
      "execution_count": null,
      "outputs": [
        {
          "output_type": "execute_result",
          "data": {
            "text/plain": [
              "array([[ 1,  2,  3,  4],\n",
              "       [ 5,  6,  7,  8],\n",
              "       [ 9, 10, 11, 12]])"
            ]
          },
          "metadata": {},
          "execution_count": 14
        }
      ]
    },
    {
      "cell_type": "code",
      "source": [
        "a.reshape(1,12)"
      ],
      "metadata": {
        "colab": {
          "base_uri": "https://localhost:8080/"
        },
        "id": "5REmHeeY1XT1",
        "outputId": "e2282a63-aabf-4bf4-e10d-2a45aa60b0a3"
      },
      "execution_count": null,
      "outputs": [
        {
          "output_type": "execute_result",
          "data": {
            "text/plain": [
              "array([[ 1,  2,  3,  4,  5,  6,  7,  8,  9, 10, 11, 12]])"
            ]
          },
          "metadata": {},
          "execution_count": 15
        }
      ]
    },
    {
      "cell_type": "code",
      "source": [
        "a=np.arange(1,5).reshape(2,2)\n",
        "a"
      ],
      "metadata": {
        "colab": {
          "base_uri": "https://localhost:8080/"
        },
        "id": "S7ria2MK1c26",
        "outputId": "8af031f1-81ef-4348-9560-85c8a73f2b44"
      },
      "execution_count": null,
      "outputs": [
        {
          "output_type": "execute_result",
          "data": {
            "text/plain": [
              "array([[1, 2],\n",
              "       [3, 4]])"
            ]
          },
          "metadata": {},
          "execution_count": 16
        }
      ]
    },
    {
      "cell_type": "code",
      "source": [
        "b=np.arange(5,9).reshape(2,2)\n",
        "b"
      ],
      "metadata": {
        "colab": {
          "base_uri": "https://localhost:8080/"
        },
        "id": "fvAEU3IY1kTH",
        "outputId": "a352e575-b692-49a9-c362-e862a92f1793"
      },
      "execution_count": null,
      "outputs": [
        {
          "output_type": "execute_result",
          "data": {
            "text/plain": [
              "array([[5, 6],\n",
              "       [7, 8]])"
            ]
          },
          "metadata": {},
          "execution_count": 17
        }
      ]
    },
    {
      "cell_type": "code",
      "source": [
        "a+b  # (1+5=6 ,2+6=8, 3+7=10,4+)"
      ],
      "metadata": {
        "colab": {
          "base_uri": "https://localhost:8080/"
        },
        "id": "3Qgjtb9M1tUP",
        "outputId": "17e44d44-9c10-4b33-83ea-36351eba8939"
      },
      "execution_count": null,
      "outputs": [
        {
          "output_type": "execute_result",
          "data": {
            "text/plain": [
              "array([[ 6,  8],\n",
              "       [10, 12]])"
            ]
          },
          "metadata": {},
          "execution_count": 18
        }
      ]
    },
    {
      "cell_type": "code",
      "source": [
        "a-b"
      ],
      "metadata": {
        "colab": {
          "base_uri": "https://localhost:8080/"
        },
        "id": "gF_UcY5c1vPM",
        "outputId": "f9fb8705-36df-45bb-bbaa-633397f7c61d"
      },
      "execution_count": null,
      "outputs": [
        {
          "output_type": "execute_result",
          "data": {
            "text/plain": [
              "array([[-4, -4],\n",
              "       [-4, -4]])"
            ]
          },
          "metadata": {},
          "execution_count": 19
        }
      ]
    },
    {
      "cell_type": "code",
      "source": [
        "a*b"
      ],
      "metadata": {
        "colab": {
          "base_uri": "https://localhost:8080/"
        },
        "id": "txjt1Sl-1xZf",
        "outputId": "4bd81d76-62f0-47bf-90d6-eae8fae46810"
      },
      "execution_count": null,
      "outputs": [
        {
          "output_type": "execute_result",
          "data": {
            "text/plain": [
              "array([[ 5, 12],\n",
              "       [21, 32]])"
            ]
          },
          "metadata": {},
          "execution_count": 20
        }
      ]
    },
    {
      "cell_type": "code",
      "source": [
        "a.dot(b)"
      ],
      "metadata": {
        "colab": {
          "base_uri": "https://localhost:8080/"
        },
        "id": "mZLgxi7H16yK",
        "outputId": "f3cfc327-35c8-4db1-b439-42be5f262011"
      },
      "execution_count": null,
      "outputs": [
        {
          "output_type": "execute_result",
          "data": {
            "text/plain": [
              "array([[19, 22],\n",
              "       [43, 50]])"
            ]
          },
          "metadata": {},
          "execution_count": 21
        }
      ]
    },
    {
      "cell_type": "code",
      "source": [
        "a/b"
      ],
      "metadata": {
        "colab": {
          "base_uri": "https://localhost:8080/"
        },
        "id": "NMISl87z19v8",
        "outputId": "fb95b66d-c2c8-447d-871e-94e7aa1db239"
      },
      "execution_count": null,
      "outputs": [
        {
          "output_type": "execute_result",
          "data": {
            "text/plain": [
              "array([[0.2       , 0.33333333],\n",
              "       [0.42857143, 0.5       ]])"
            ]
          },
          "metadata": {},
          "execution_count": 22
        }
      ]
    },
    {
      "cell_type": "code",
      "source": [
        "a"
      ],
      "metadata": {
        "colab": {
          "base_uri": "https://localhost:8080/"
        },
        "id": "ili8SiXQ2Axn",
        "outputId": "9d90c698-09d3-4ea7-aa80-1b22d31e812a"
      },
      "execution_count": null,
      "outputs": [
        {
          "output_type": "execute_result",
          "data": {
            "text/plain": [
              "array([[1, 2],\n",
              "       [3, 4]])"
            ]
          },
          "metadata": {},
          "execution_count": 23
        }
      ]
    },
    {
      "cell_type": "code",
      "source": [
        "a**2"
      ],
      "metadata": {
        "colab": {
          "base_uri": "https://localhost:8080/"
        },
        "id": "DCUMvK_X2Czg",
        "outputId": "5811d7a1-40f8-49bc-c3ee-fc9e103c05f9"
      },
      "execution_count": null,
      "outputs": [
        {
          "output_type": "execute_result",
          "data": {
            "text/plain": [
              "array([[ 1,  4],\n",
              "       [ 9, 16]])"
            ]
          },
          "metadata": {},
          "execution_count": 24
        }
      ]
    },
    {
      "cell_type": "code",
      "source": [
        "a**3"
      ],
      "metadata": {
        "colab": {
          "base_uri": "https://localhost:8080/"
        },
        "id": "6sdcs78S2GWK",
        "outputId": "cb18d13b-9b41-48d9-e331-df3b8cec554d"
      },
      "execution_count": null,
      "outputs": [
        {
          "output_type": "execute_result",
          "data": {
            "text/plain": [
              "array([[ 1,  8],\n",
              "       [27, 64]])"
            ]
          },
          "metadata": {},
          "execution_count": 25
        }
      ]
    },
    {
      "cell_type": "code",
      "source": [
        "# linspace()------> it will return same gap value in a given range"
      ],
      "metadata": {
        "id": "vkRGBMnr2KTO"
      },
      "execution_count": null,
      "outputs": []
    },
    {
      "cell_type": "code",
      "source": [
        "a=np.linspace(1,2,5)"
      ],
      "metadata": {
        "id": "j6WC6rVX2Xfk"
      },
      "execution_count": null,
      "outputs": []
    },
    {
      "cell_type": "code",
      "source": [],
      "metadata": {
        "id": "3DeuG_-82XKR"
      },
      "execution_count": null,
      "outputs": []
    },
    {
      "cell_type": "code",
      "source": [
        "# unique()----> it will provide an array in which it will return 3 array\n",
        "# arr-----> return unique value\n",
        "# return_index= true------->return indexing of unique value\n",
        "# return_counts=true----->"
      ],
      "metadata": {
        "id": "bQyqeZ4b2gGR"
      },
      "execution_count": null,
      "outputs": []
    },
    {
      "cell_type": "code",
      "source": [
        "a=np.array([1,2,3,1,1,1,2,6,7])\n",
        "a"
      ],
      "metadata": {
        "colab": {
          "base_uri": "https://localhost:8080/"
        },
        "id": "2WGjNUe82-sO",
        "outputId": "7b62996d-5e84-4ef1-8c8b-c466727b1373"
      },
      "execution_count": null,
      "outputs": [
        {
          "output_type": "execute_result",
          "data": {
            "text/plain": [
              "array([1, 2, 3, 1, 1, 1, 2, 6, 7])"
            ]
          },
          "metadata": {},
          "execution_count": 27
        }
      ]
    },
    {
      "cell_type": "code",
      "source": [
        "np.unique(a , retuern_index=True , return_counts=True)"
      ],
      "metadata": {
        "colab": {
          "base_uri": "https://localhost:8080/",
          "height": 141
        },
        "id": "CMtDvyDP3HGZ",
        "outputId": "cd5c5a9e-1075-4f75-8c45-c9f3c2c206e4"
      },
      "execution_count": null,
      "outputs": [
        {
          "output_type": "error",
          "ename": "TypeError",
          "evalue": "unique() got an unexpected keyword argument 'retuern_index'",
          "traceback": [
            "\u001b[0;31m---------------------------------------------------------------------------\u001b[0m",
            "\u001b[0;31mTypeError\u001b[0m                                 Traceback (most recent call last)",
            "\u001b[0;32m<ipython-input-28-a1f24bc7b978>\u001b[0m in \u001b[0;36m<cell line: 0>\u001b[0;34m()\u001b[0m\n\u001b[0;32m----> 1\u001b[0;31m \u001b[0mnp\u001b[0m\u001b[0;34m.\u001b[0m\u001b[0munique\u001b[0m\u001b[0;34m(\u001b[0m\u001b[0ma\u001b[0m \u001b[0;34m,\u001b[0m \u001b[0mretuern_index\u001b[0m\u001b[0;34m=\u001b[0m\u001b[0;32mTrue\u001b[0m \u001b[0;34m,\u001b[0m \u001b[0mreturn_counts\u001b[0m\u001b[0;34m=\u001b[0m\u001b[0;32mTrue\u001b[0m\u001b[0;34m)\u001b[0m\u001b[0;34m\u001b[0m\u001b[0;34m\u001b[0m\u001b[0m\n\u001b[0m",
            "\u001b[0;31mTypeError\u001b[0m: unique() got an unexpected keyword argument 'retuern_index'"
          ]
        }
      ]
    },
    {
      "cell_type": "code",
      "source": [
        "a=np.arange(1,10).reshape(3,3)\n",
        "a"
      ],
      "metadata": {
        "colab": {
          "base_uri": "https://localhost:8080/"
        },
        "id": "ISe2DZ7N3b0k",
        "outputId": "4fe79892-b426-41d7-e72e-d3732ed8ea1f"
      },
      "execution_count": null,
      "outputs": [
        {
          "output_type": "execute_result",
          "data": {
            "text/plain": [
              "array([[1, 2, 3],\n",
              "       [4, 5, 6],\n",
              "       [7, 8, 9]])"
            ]
          },
          "metadata": {},
          "execution_count": 29
        }
      ]
    },
    {
      "cell_type": "code",
      "source": [
        "np.sum(a)"
      ],
      "metadata": {
        "colab": {
          "base_uri": "https://localhost:8080/"
        },
        "id": "he5tV9dv3jBv",
        "outputId": "fb45e598-2300-4c75-bd92-32ade6dbbb43"
      },
      "execution_count": null,
      "outputs": [
        {
          "output_type": "execute_result",
          "data": {
            "text/plain": [
              "np.int64(45)"
            ]
          },
          "metadata": {},
          "execution_count": 30
        }
      ]
    },
    {
      "cell_type": "code",
      "source": [
        "np.sum(a,axis=0)  # return column wise sum"
      ],
      "metadata": {
        "colab": {
          "base_uri": "https://localhost:8080/"
        },
        "id": "BeofRjeb3nXl",
        "outputId": "d17dfd63-9525-4244-f02b-f67b114ffd7e"
      },
      "execution_count": null,
      "outputs": [
        {
          "output_type": "execute_result",
          "data": {
            "text/plain": [
              "array([12, 15, 18])"
            ]
          },
          "metadata": {},
          "execution_count": 31
        }
      ]
    },
    {
      "cell_type": "code",
      "source": [
        "np.sum(a,axis=1)  # return row wise"
      ],
      "metadata": {
        "colab": {
          "base_uri": "https://localhost:8080/"
        },
        "id": "APhIYDMA32Uo",
        "outputId": "eab0b3c9-1dd3-4336-99da-7021badcfc26"
      },
      "execution_count": null,
      "outputs": [
        {
          "output_type": "execute_result",
          "data": {
            "text/plain": [
              "array([ 6, 15, 24])"
            ]
          },
          "metadata": {},
          "execution_count": 32
        }
      ]
    },
    {
      "cell_type": "code",
      "source": [],
      "metadata": {
        "id": "BiipYeOk4OKs"
      },
      "execution_count": null,
      "outputs": []
    },
    {
      "cell_type": "code",
      "source": [
        "a=np.arange(1,5)\n",
        "a=np.arange(5,9)\n",
        "a=np.arange(9,13)\n",
        "a=np.hstack()\n",
        "a=np.vstack()"
      ],
      "metadata": {
        "colab": {
          "base_uri": "https://localhost:8080/",
          "height": 176
        },
        "id": "BGidbENn3-BP",
        "outputId": "a06240fc-14d1-4cbf-a723-2c211b563d99"
      },
      "execution_count": null,
      "outputs": [
        {
          "output_type": "error",
          "ename": "TypeError",
          "evalue": "hstack() missing 1 required positional argument: 'tup'",
          "traceback": [
            "\u001b[0;31m---------------------------------------------------------------------------\u001b[0m",
            "\u001b[0;31mTypeError\u001b[0m                                 Traceback (most recent call last)",
            "\u001b[0;32m<ipython-input-34-a02a507c531c>\u001b[0m in \u001b[0;36m<cell line: 0>\u001b[0;34m()\u001b[0m\n\u001b[1;32m      2\u001b[0m \u001b[0ma\u001b[0m\u001b[0;34m=\u001b[0m\u001b[0mnp\u001b[0m\u001b[0;34m.\u001b[0m\u001b[0marange\u001b[0m\u001b[0;34m(\u001b[0m\u001b[0;36m5\u001b[0m\u001b[0;34m,\u001b[0m\u001b[0;36m9\u001b[0m\u001b[0;34m)\u001b[0m\u001b[0;34m\u001b[0m\u001b[0;34m\u001b[0m\u001b[0m\n\u001b[1;32m      3\u001b[0m \u001b[0ma\u001b[0m\u001b[0;34m=\u001b[0m\u001b[0mnp\u001b[0m\u001b[0;34m.\u001b[0m\u001b[0marange\u001b[0m\u001b[0;34m(\u001b[0m\u001b[0;36m9\u001b[0m\u001b[0;34m,\u001b[0m\u001b[0;36m13\u001b[0m\u001b[0;34m)\u001b[0m\u001b[0;34m\u001b[0m\u001b[0;34m\u001b[0m\u001b[0m\n\u001b[0;32m----> 4\u001b[0;31m \u001b[0ma\u001b[0m\u001b[0;34m=\u001b[0m\u001b[0mnp\u001b[0m\u001b[0;34m.\u001b[0m\u001b[0mhstack\u001b[0m\u001b[0;34m(\u001b[0m\u001b[0;34m)\u001b[0m\u001b[0;34m\u001b[0m\u001b[0;34m\u001b[0m\u001b[0m\n\u001b[0m",
            "\u001b[0;31mTypeError\u001b[0m: hstack() missing 1 required positional argument: 'tup'"
          ]
        }
      ]
    },
    {
      "cell_type": "code",
      "source": [
        "# numpy  quection"
      ],
      "metadata": {
        "id": "vPkjvU56e1hE"
      },
      "execution_count": null,
      "outputs": []
    },
    {
      "cell_type": "code",
      "source": [],
      "metadata": {
        "id": "_8iCh19ie6nx"
      },
      "execution_count": null,
      "outputs": []
    },
    {
      "cell_type": "code",
      "source": [
        "import numpy as np"
      ],
      "metadata": {
        "id": "14Voa63je6UW"
      },
      "execution_count": null,
      "outputs": []
    },
    {
      "cell_type": "code",
      "source": [
        "# create an array using numpy\n",
        "a=[1,2,3,4,5]\n",
        "type(a)\n",
        "b=np.array(a)\n",
        "b"
      ],
      "metadata": {
        "colab": {
          "base_uri": "https://localhost:8080/"
        },
        "id": "A_LEIXjfe6Lp",
        "outputId": "4b956c3e-3b24-43a2-ce7d-ffa24dabce51"
      },
      "execution_count": null,
      "outputs": [
        {
          "output_type": "execute_result",
          "data": {
            "text/plain": [
              "array([1, 2, 3, 4, 5])"
            ]
          },
          "metadata": {},
          "execution_count": 18
        }
      ]
    },
    {
      "cell_type": "code",
      "source": [
        "# create an array of 10 random integer"
      ],
      "metadata": {
        "id": "iCo_uyOFe_2q"
      },
      "execution_count": null,
      "outputs": []
    },
    {
      "cell_type": "code",
      "source": [
        "array=np.random.randint(1,20,10)\n",
        "array"
      ],
      "metadata": {
        "colab": {
          "base_uri": "https://localhost:8080/"
        },
        "id": "AuSBMKF9gh2z",
        "outputId": "ebc7c31c-97b9-4d95-eb9c-9f6f69b8b8a1"
      },
      "execution_count": null,
      "outputs": [
        {
          "output_type": "execute_result",
          "data": {
            "text/plain": [
              "array([ 6, 19,  1, 13, 18, 12, 11, 11, 19, 14])"
            ]
          },
          "metadata": {},
          "execution_count": 20
        }
      ]
    },
    {
      "cell_type": "code",
      "source": [
        "#create an array of element fron 10-20"
      ],
      "metadata": {
        "id": "cBQFxdiXfGzW"
      },
      "execution_count": null,
      "outputs": []
    },
    {
      "cell_type": "code",
      "source": [
        "a=np.arange(10,20)\n",
        "a"
      ],
      "metadata": {
        "colab": {
          "base_uri": "https://localhost:8080/"
        },
        "id": "uvhvfha_g4eD",
        "outputId": "5e09f0b0-c6ff-4d75-a29e-e12faf8a0c26"
      },
      "execution_count": null,
      "outputs": [
        {
          "output_type": "execute_result",
          "data": {
            "text/plain": [
              "array([10, 11, 12, 13, 14, 15, 16, 17, 18, 19])"
            ]
          },
          "metadata": {},
          "execution_count": 23
        }
      ]
    },
    {
      "cell_type": "code",
      "source": [
        "# create an array which contain value 5,10 time"
      ],
      "metadata": {
        "id": "ijtlFbGjhgNf"
      },
      "execution_count": null,
      "outputs": []
    },
    {
      "cell_type": "code",
      "source": [],
      "metadata": {
        "id": "rGHFBCAFiMe0"
      },
      "execution_count": null,
      "outputs": []
    },
    {
      "cell_type": "code",
      "source": [
        "# creatw a one dimensional array and convert that into 3*3 matrix"
      ],
      "metadata": {
        "id": "S9kpaDtaiNMb"
      },
      "execution_count": null,
      "outputs": []
    },
    {
      "cell_type": "code",
      "source": [
        "a=np.array([1,2,3,4,5,6,7,8,9])\n",
        "a=a.reshape(3,3)\n",
        "a"
      ],
      "metadata": {
        "colab": {
          "base_uri": "https://localhost:8080/"
        },
        "id": "mCgqc1OwhnfP",
        "outputId": "d97976aa-1c77-4fa1-85ec-01f15740317a"
      },
      "execution_count": null,
      "outputs": [
        {
          "output_type": "execute_result",
          "data": {
            "text/plain": [
              "array([[1, 2, 3],\n",
              "       [4, 5, 6],\n",
              "       [7, 8, 9]])"
            ]
          },
          "metadata": {},
          "execution_count": 25
        }
      ]
    },
    {
      "cell_type": "code",
      "source": [
        "# create a 2d array of size 3*3 but all the element"
      ],
      "metadata": {
        "id": "3XdjQXmWiYWq"
      },
      "execution_count": null,
      "outputs": []
    },
    {
      "cell_type": "code",
      "source": [],
      "metadata": {
        "id": "9B27uvd2ixQE"
      },
      "execution_count": null,
      "outputs": []
    },
    {
      "cell_type": "code",
      "source": [],
      "metadata": {
        "id": "Bvc3f9t_ixGy"
      },
      "execution_count": null,
      "outputs": []
    },
    {
      "cell_type": "code",
      "source": [],
      "metadata": {
        "id": "7UFbi0Qbiw6n"
      },
      "execution_count": null,
      "outputs": []
    },
    {
      "cell_type": "code",
      "source": [],
      "metadata": {
        "id": "fYgAtZKfiwxK"
      },
      "execution_count": null,
      "outputs": []
    },
    {
      "cell_type": "markdown",
      "source": [
        "pandas library"
      ],
      "metadata": {
        "id": "f7CqLeOFiyYS"
      }
    },
    {
      "cell_type": "code",
      "source": [
        "'''\n",
        "pandas is an open source library that is used for handle data manipulation.\n",
        "\n",
        "'''"
      ],
      "metadata": {
        "id": "JtqTuCfhi3gp"
      },
      "execution_count": null,
      "outputs": []
    },
    {
      "cell_type": "code",
      "source": [
        "import pandas as pd"
      ],
      "metadata": {
        "id": "ymeGg3LSj_Mp"
      },
      "execution_count": null,
      "outputs": []
    },
    {
      "cell_type": "code",
      "source": [
        "# data structure of pandas\n",
        "\n",
        "# (1)--series===1-dimensional array and it contain only values.\n",
        "# (2)--dataframe== > multi dimensional array and it contain value with column name\n"
      ],
      "metadata": {
        "id": "6eTOk36bkDW1"
      },
      "execution_count": null,
      "outputs": []
    },
    {
      "cell_type": "code",
      "source": [],
      "metadata": {
        "id": "-0ck2tzikdjW"
      },
      "execution_count": null,
      "outputs": []
    },
    {
      "cell_type": "markdown",
      "source": [
        "Series"
      ],
      "metadata": {
        "id": "OVK2tUNzkeJF"
      }
    },
    {
      "cell_type": "code",
      "source": [
        "a=pd.Series([1,45,78,90])\n",
        "a"
      ],
      "metadata": {
        "colab": {
          "base_uri": "https://localhost:8080/",
          "height": 210
        },
        "id": "eXSp6SKMkgjg",
        "outputId": "cf80c2be-7611-4b1a-e3e3-f6d1da5e2b6b"
      },
      "execution_count": null,
      "outputs": [
        {
          "output_type": "execute_result",
          "data": {
            "text/plain": [
              "0     1\n",
              "1    45\n",
              "2    78\n",
              "3    90\n",
              "dtype: int64"
            ],
            "text/html": [
              "<div>\n",
              "<style scoped>\n",
              "    .dataframe tbody tr th:only-of-type {\n",
              "        vertical-align: middle;\n",
              "    }\n",
              "\n",
              "    .dataframe tbody tr th {\n",
              "        vertical-align: top;\n",
              "    }\n",
              "\n",
              "    .dataframe thead th {\n",
              "        text-align: right;\n",
              "    }\n",
              "</style>\n",
              "<table border=\"1\" class=\"dataframe\">\n",
              "  <thead>\n",
              "    <tr style=\"text-align: right;\">\n",
              "      <th></th>\n",
              "      <th>0</th>\n",
              "    </tr>\n",
              "  </thead>\n",
              "  <tbody>\n",
              "    <tr>\n",
              "      <th>0</th>\n",
              "      <td>1</td>\n",
              "    </tr>\n",
              "    <tr>\n",
              "      <th>1</th>\n",
              "      <td>45</td>\n",
              "    </tr>\n",
              "    <tr>\n",
              "      <th>2</th>\n",
              "      <td>78</td>\n",
              "    </tr>\n",
              "    <tr>\n",
              "      <th>3</th>\n",
              "      <td>90</td>\n",
              "    </tr>\n",
              "  </tbody>\n",
              "</table>\n",
              "</div><br><label><b>dtype:</b> int64</label>"
            ]
          },
          "metadata": {},
          "execution_count": 27
        }
      ]
    },
    {
      "cell_type": "code",
      "source": [
        "type(a)"
      ],
      "metadata": {
        "colab": {
          "base_uri": "https://localhost:8080/"
        },
        "id": "KbrA84JTkpQl",
        "outputId": "f2da73d4-1f6d-4a19-bfeb-3eebde9ad4bc"
      },
      "execution_count": null,
      "outputs": [
        {
          "output_type": "execute_result",
          "data": {
            "text/plain": [
              "dict"
            ]
          },
          "metadata": {},
          "execution_count": 45
        }
      ]
    },
    {
      "cell_type": "markdown",
      "source": [
        "dataFrame"
      ],
      "metadata": {
        "id": "bfv7Z0xxkva0"
      }
    },
    {
      "cell_type": "code",
      "source": [
        "a={\n",
        "    \"emp_id\":[1,2,3,4,5],\n",
        "    \"emp_name\":[\"sam\",\"raj\",\"mohit\",\"ankit\",\"pallvi\"],\n",
        "    \"domain\":[\"it\",\"sales\",\"it\",\"it\",\"sales\"],\n",
        "    \"working_hours\":[9,8,8,9,9],\n",
        "    \"salary\":[23000,25000,31000,36000,40000]\n",
        "}"
      ],
      "metadata": {
        "id": "ZEAJ8QEzkyit"
      },
      "execution_count": null,
      "outputs": []
    },
    {
      "cell_type": "code",
      "source": [
        "type(a)"
      ],
      "metadata": {
        "colab": {
          "base_uri": "https://localhost:8080/"
        },
        "id": "lOHbJqrxliUB",
        "outputId": "e5dab456-2f81-44aa-f813-101fa4a23096"
      },
      "execution_count": null,
      "outputs": [
        {
          "output_type": "execute_result",
          "data": {
            "text/plain": [
              "dict"
            ]
          },
          "metadata": {},
          "execution_count": 35
        }
      ]
    },
    {
      "cell_type": "code",
      "source": [
        "df=pd.DataFrame(a)\n",
        "df"
      ],
      "metadata": {
        "colab": {
          "base_uri": "https://localhost:8080/",
          "height": 206
        },
        "id": "hoHugviPlma4",
        "outputId": "d7a42b9a-0a57-4a17-c320-e3415f51574f"
      },
      "execution_count": null,
      "outputs": [
        {
          "output_type": "execute_result",
          "data": {
            "text/plain": [
              "   emp_id emp_name domain  working_hours  salary\n",
              "0       1      sam     it              9   23000\n",
              "1       2      raj  sales              8   25000\n",
              "2       3    mohit     it              8   31000\n",
              "3       4    ankit     it              9   36000\n",
              "4       5   pallvi  sales              9   40000"
            ],
            "text/html": [
              "\n",
              "  <div id=\"df-bc39026a-3a04-49cf-ade4-4dd8c0d64ebf\" class=\"colab-df-container\">\n",
              "    <div>\n",
              "<style scoped>\n",
              "    .dataframe tbody tr th:only-of-type {\n",
              "        vertical-align: middle;\n",
              "    }\n",
              "\n",
              "    .dataframe tbody tr th {\n",
              "        vertical-align: top;\n",
              "    }\n",
              "\n",
              "    .dataframe thead th {\n",
              "        text-align: right;\n",
              "    }\n",
              "</style>\n",
              "<table border=\"1\" class=\"dataframe\">\n",
              "  <thead>\n",
              "    <tr style=\"text-align: right;\">\n",
              "      <th></th>\n",
              "      <th>emp_id</th>\n",
              "      <th>emp_name</th>\n",
              "      <th>domain</th>\n",
              "      <th>working_hours</th>\n",
              "      <th>salary</th>\n",
              "    </tr>\n",
              "  </thead>\n",
              "  <tbody>\n",
              "    <tr>\n",
              "      <th>0</th>\n",
              "      <td>1</td>\n",
              "      <td>sam</td>\n",
              "      <td>it</td>\n",
              "      <td>9</td>\n",
              "      <td>23000</td>\n",
              "    </tr>\n",
              "    <tr>\n",
              "      <th>1</th>\n",
              "      <td>2</td>\n",
              "      <td>raj</td>\n",
              "      <td>sales</td>\n",
              "      <td>8</td>\n",
              "      <td>25000</td>\n",
              "    </tr>\n",
              "    <tr>\n",
              "      <th>2</th>\n",
              "      <td>3</td>\n",
              "      <td>mohit</td>\n",
              "      <td>it</td>\n",
              "      <td>8</td>\n",
              "      <td>31000</td>\n",
              "    </tr>\n",
              "    <tr>\n",
              "      <th>3</th>\n",
              "      <td>4</td>\n",
              "      <td>ankit</td>\n",
              "      <td>it</td>\n",
              "      <td>9</td>\n",
              "      <td>36000</td>\n",
              "    </tr>\n",
              "    <tr>\n",
              "      <th>4</th>\n",
              "      <td>5</td>\n",
              "      <td>pallvi</td>\n",
              "      <td>sales</td>\n",
              "      <td>9</td>\n",
              "      <td>40000</td>\n",
              "    </tr>\n",
              "  </tbody>\n",
              "</table>\n",
              "</div>\n",
              "    <div class=\"colab-df-buttons\">\n",
              "\n",
              "  <div class=\"colab-df-container\">\n",
              "    <button class=\"colab-df-convert\" onclick=\"convertToInteractive('df-bc39026a-3a04-49cf-ade4-4dd8c0d64ebf')\"\n",
              "            title=\"Convert this dataframe to an interactive table.\"\n",
              "            style=\"display:none;\">\n",
              "\n",
              "  <svg xmlns=\"http://www.w3.org/2000/svg\" height=\"24px\" viewBox=\"0 -960 960 960\">\n",
              "    <path d=\"M120-120v-720h720v720H120Zm60-500h600v-160H180v160Zm220 220h160v-160H400v160Zm0 220h160v-160H400v160ZM180-400h160v-160H180v160Zm440 0h160v-160H620v160ZM180-180h160v-160H180v160Zm440 0h160v-160H620v160Z\"/>\n",
              "  </svg>\n",
              "    </button>\n",
              "\n",
              "  <style>\n",
              "    .colab-df-container {\n",
              "      display:flex;\n",
              "      gap: 12px;\n",
              "    }\n",
              "\n",
              "    .colab-df-convert {\n",
              "      background-color: #E8F0FE;\n",
              "      border: none;\n",
              "      border-radius: 50%;\n",
              "      cursor: pointer;\n",
              "      display: none;\n",
              "      fill: #1967D2;\n",
              "      height: 32px;\n",
              "      padding: 0 0 0 0;\n",
              "      width: 32px;\n",
              "    }\n",
              "\n",
              "    .colab-df-convert:hover {\n",
              "      background-color: #E2EBFA;\n",
              "      box-shadow: 0px 1px 2px rgba(60, 64, 67, 0.3), 0px 1px 3px 1px rgba(60, 64, 67, 0.15);\n",
              "      fill: #174EA6;\n",
              "    }\n",
              "\n",
              "    .colab-df-buttons div {\n",
              "      margin-bottom: 4px;\n",
              "    }\n",
              "\n",
              "    [theme=dark] .colab-df-convert {\n",
              "      background-color: #3B4455;\n",
              "      fill: #D2E3FC;\n",
              "    }\n",
              "\n",
              "    [theme=dark] .colab-df-convert:hover {\n",
              "      background-color: #434B5C;\n",
              "      box-shadow: 0px 1px 3px 1px rgba(0, 0, 0, 0.15);\n",
              "      filter: drop-shadow(0px 1px 2px rgba(0, 0, 0, 0.3));\n",
              "      fill: #FFFFFF;\n",
              "    }\n",
              "  </style>\n",
              "\n",
              "    <script>\n",
              "      const buttonEl =\n",
              "        document.querySelector('#df-bc39026a-3a04-49cf-ade4-4dd8c0d64ebf button.colab-df-convert');\n",
              "      buttonEl.style.display =\n",
              "        google.colab.kernel.accessAllowed ? 'block' : 'none';\n",
              "\n",
              "      async function convertToInteractive(key) {\n",
              "        const element = document.querySelector('#df-bc39026a-3a04-49cf-ade4-4dd8c0d64ebf');\n",
              "        const dataTable =\n",
              "          await google.colab.kernel.invokeFunction('convertToInteractive',\n",
              "                                                    [key], {});\n",
              "        if (!dataTable) return;\n",
              "\n",
              "        const docLinkHtml = 'Like what you see? Visit the ' +\n",
              "          '<a target=\"_blank\" href=https://colab.research.google.com/notebooks/data_table.ipynb>data table notebook</a>'\n",
              "          + ' to learn more about interactive tables.';\n",
              "        element.innerHTML = '';\n",
              "        dataTable['output_type'] = 'display_data';\n",
              "        await google.colab.output.renderOutput(dataTable, element);\n",
              "        const docLink = document.createElement('div');\n",
              "        docLink.innerHTML = docLinkHtml;\n",
              "        element.appendChild(docLink);\n",
              "      }\n",
              "    </script>\n",
              "  </div>\n",
              "\n",
              "\n",
              "    <div id=\"df-575ce80e-6868-4e18-a8bf-c75328e7a394\">\n",
              "      <button class=\"colab-df-quickchart\" onclick=\"quickchart('df-575ce80e-6868-4e18-a8bf-c75328e7a394')\"\n",
              "                title=\"Suggest charts\"\n",
              "                style=\"display:none;\">\n",
              "\n",
              "<svg xmlns=\"http://www.w3.org/2000/svg\" height=\"24px\"viewBox=\"0 0 24 24\"\n",
              "     width=\"24px\">\n",
              "    <g>\n",
              "        <path d=\"M19 3H5c-1.1 0-2 .9-2 2v14c0 1.1.9 2 2 2h14c1.1 0 2-.9 2-2V5c0-1.1-.9-2-2-2zM9 17H7v-7h2v7zm4 0h-2V7h2v10zm4 0h-2v-4h2v4z\"/>\n",
              "    </g>\n",
              "</svg>\n",
              "      </button>\n",
              "\n",
              "<style>\n",
              "  .colab-df-quickchart {\n",
              "      --bg-color: #E8F0FE;\n",
              "      --fill-color: #1967D2;\n",
              "      --hover-bg-color: #E2EBFA;\n",
              "      --hover-fill-color: #174EA6;\n",
              "      --disabled-fill-color: #AAA;\n",
              "      --disabled-bg-color: #DDD;\n",
              "  }\n",
              "\n",
              "  [theme=dark] .colab-df-quickchart {\n",
              "      --bg-color: #3B4455;\n",
              "      --fill-color: #D2E3FC;\n",
              "      --hover-bg-color: #434B5C;\n",
              "      --hover-fill-color: #FFFFFF;\n",
              "      --disabled-bg-color: #3B4455;\n",
              "      --disabled-fill-color: #666;\n",
              "  }\n",
              "\n",
              "  .colab-df-quickchart {\n",
              "    background-color: var(--bg-color);\n",
              "    border: none;\n",
              "    border-radius: 50%;\n",
              "    cursor: pointer;\n",
              "    display: none;\n",
              "    fill: var(--fill-color);\n",
              "    height: 32px;\n",
              "    padding: 0;\n",
              "    width: 32px;\n",
              "  }\n",
              "\n",
              "  .colab-df-quickchart:hover {\n",
              "    background-color: var(--hover-bg-color);\n",
              "    box-shadow: 0 1px 2px rgba(60, 64, 67, 0.3), 0 1px 3px 1px rgba(60, 64, 67, 0.15);\n",
              "    fill: var(--button-hover-fill-color);\n",
              "  }\n",
              "\n",
              "  .colab-df-quickchart-complete:disabled,\n",
              "  .colab-df-quickchart-complete:disabled:hover {\n",
              "    background-color: var(--disabled-bg-color);\n",
              "    fill: var(--disabled-fill-color);\n",
              "    box-shadow: none;\n",
              "  }\n",
              "\n",
              "  .colab-df-spinner {\n",
              "    border: 2px solid var(--fill-color);\n",
              "    border-color: transparent;\n",
              "    border-bottom-color: var(--fill-color);\n",
              "    animation:\n",
              "      spin 1s steps(1) infinite;\n",
              "  }\n",
              "\n",
              "  @keyframes spin {\n",
              "    0% {\n",
              "      border-color: transparent;\n",
              "      border-bottom-color: var(--fill-color);\n",
              "      border-left-color: var(--fill-color);\n",
              "    }\n",
              "    20% {\n",
              "      border-color: transparent;\n",
              "      border-left-color: var(--fill-color);\n",
              "      border-top-color: var(--fill-color);\n",
              "    }\n",
              "    30% {\n",
              "      border-color: transparent;\n",
              "      border-left-color: var(--fill-color);\n",
              "      border-top-color: var(--fill-color);\n",
              "      border-right-color: var(--fill-color);\n",
              "    }\n",
              "    40% {\n",
              "      border-color: transparent;\n",
              "      border-right-color: var(--fill-color);\n",
              "      border-top-color: var(--fill-color);\n",
              "    }\n",
              "    60% {\n",
              "      border-color: transparent;\n",
              "      border-right-color: var(--fill-color);\n",
              "    }\n",
              "    80% {\n",
              "      border-color: transparent;\n",
              "      border-right-color: var(--fill-color);\n",
              "      border-bottom-color: var(--fill-color);\n",
              "    }\n",
              "    90% {\n",
              "      border-color: transparent;\n",
              "      border-bottom-color: var(--fill-color);\n",
              "    }\n",
              "  }\n",
              "</style>\n",
              "\n",
              "      <script>\n",
              "        async function quickchart(key) {\n",
              "          const quickchartButtonEl =\n",
              "            document.querySelector('#' + key + ' button');\n",
              "          quickchartButtonEl.disabled = true;  // To prevent multiple clicks.\n",
              "          quickchartButtonEl.classList.add('colab-df-spinner');\n",
              "          try {\n",
              "            const charts = await google.colab.kernel.invokeFunction(\n",
              "                'suggestCharts', [key], {});\n",
              "          } catch (error) {\n",
              "            console.error('Error during call to suggestCharts:', error);\n",
              "          }\n",
              "          quickchartButtonEl.classList.remove('colab-df-spinner');\n",
              "          quickchartButtonEl.classList.add('colab-df-quickchart-complete');\n",
              "        }\n",
              "        (() => {\n",
              "          let quickchartButtonEl =\n",
              "            document.querySelector('#df-575ce80e-6868-4e18-a8bf-c75328e7a394 button');\n",
              "          quickchartButtonEl.style.display =\n",
              "            google.colab.kernel.accessAllowed ? 'block' : 'none';\n",
              "        })();\n",
              "      </script>\n",
              "    </div>\n",
              "\n",
              "  <div id=\"id_8e60789e-30fe-409a-9985-5f2ae8ca5160\">\n",
              "    <style>\n",
              "      .colab-df-generate {\n",
              "        background-color: #E8F0FE;\n",
              "        border: none;\n",
              "        border-radius: 50%;\n",
              "        cursor: pointer;\n",
              "        display: none;\n",
              "        fill: #1967D2;\n",
              "        height: 32px;\n",
              "        padding: 0 0 0 0;\n",
              "        width: 32px;\n",
              "      }\n",
              "\n",
              "      .colab-df-generate:hover {\n",
              "        background-color: #E2EBFA;\n",
              "        box-shadow: 0px 1px 2px rgba(60, 64, 67, 0.3), 0px 1px 3px 1px rgba(60, 64, 67, 0.15);\n",
              "        fill: #174EA6;\n",
              "      }\n",
              "\n",
              "      [theme=dark] .colab-df-generate {\n",
              "        background-color: #3B4455;\n",
              "        fill: #D2E3FC;\n",
              "      }\n",
              "\n",
              "      [theme=dark] .colab-df-generate:hover {\n",
              "        background-color: #434B5C;\n",
              "        box-shadow: 0px 1px 3px 1px rgba(0, 0, 0, 0.15);\n",
              "        filter: drop-shadow(0px 1px 2px rgba(0, 0, 0, 0.3));\n",
              "        fill: #FFFFFF;\n",
              "      }\n",
              "    </style>\n",
              "    <button class=\"colab-df-generate\" onclick=\"generateWithVariable('df')\"\n",
              "            title=\"Generate code using this dataframe.\"\n",
              "            style=\"display:none;\">\n",
              "\n",
              "  <svg xmlns=\"http://www.w3.org/2000/svg\" height=\"24px\"viewBox=\"0 0 24 24\"\n",
              "       width=\"24px\">\n",
              "    <path d=\"M7,19H8.4L18.45,9,17,7.55,7,17.6ZM5,21V16.75L18.45,3.32a2,2,0,0,1,2.83,0l1.4,1.43a1.91,1.91,0,0,1,.58,1.4,1.91,1.91,0,0,1-.58,1.4L9.25,21ZM18.45,9,17,7.55Zm-12,3A5.31,5.31,0,0,0,4.9,8.1,5.31,5.31,0,0,0,1,6.5,5.31,5.31,0,0,0,4.9,4.9,5.31,5.31,0,0,0,6.5,1,5.31,5.31,0,0,0,8.1,4.9,5.31,5.31,0,0,0,12,6.5,5.46,5.46,0,0,0,6.5,12Z\"/>\n",
              "  </svg>\n",
              "    </button>\n",
              "    <script>\n",
              "      (() => {\n",
              "      const buttonEl =\n",
              "        document.querySelector('#id_8e60789e-30fe-409a-9985-5f2ae8ca5160 button.colab-df-generate');\n",
              "      buttonEl.style.display =\n",
              "        google.colab.kernel.accessAllowed ? 'block' : 'none';\n",
              "\n",
              "      buttonEl.onclick = () => {\n",
              "        google.colab.notebook.generateWithVariable('df');\n",
              "      }\n",
              "      })();\n",
              "    </script>\n",
              "  </div>\n",
              "\n",
              "    </div>\n",
              "  </div>\n"
            ],
            "application/vnd.google.colaboratory.intrinsic+json": {
              "type": "dataframe",
              "variable_name": "df",
              "summary": "{\n  \"name\": \"df\",\n  \"rows\": 5,\n  \"fields\": [\n    {\n      \"column\": \"emp_id\",\n      \"properties\": {\n        \"dtype\": \"number\",\n        \"std\": 1,\n        \"min\": 1,\n        \"max\": 5,\n        \"num_unique_values\": 5,\n        \"samples\": [\n          2,\n          5,\n          3\n        ],\n        \"semantic_type\": \"\",\n        \"description\": \"\"\n      }\n    },\n    {\n      \"column\": \"emp_name\",\n      \"properties\": {\n        \"dtype\": \"string\",\n        \"num_unique_values\": 5,\n        \"samples\": [\n          \"raj\",\n          \"pallvi\",\n          \"mohit\"\n        ],\n        \"semantic_type\": \"\",\n        \"description\": \"\"\n      }\n    },\n    {\n      \"column\": \"domain\",\n      \"properties\": {\n        \"dtype\": \"category\",\n        \"num_unique_values\": 2,\n        \"samples\": [\n          \"sales\",\n          \"it\"\n        ],\n        \"semantic_type\": \"\",\n        \"description\": \"\"\n      }\n    },\n    {\n      \"column\": \"working_hours\",\n      \"properties\": {\n        \"dtype\": \"number\",\n        \"std\": 0,\n        \"min\": 8,\n        \"max\": 9,\n        \"num_unique_values\": 2,\n        \"samples\": [\n          8,\n          9\n        ],\n        \"semantic_type\": \"\",\n        \"description\": \"\"\n      }\n    },\n    {\n      \"column\": \"salary\",\n      \"properties\": {\n        \"dtype\": \"number\",\n        \"std\": 7176,\n        \"min\": 23000,\n        \"max\": 40000,\n        \"num_unique_values\": 5,\n        \"samples\": [\n          25000,\n          40000\n        ],\n        \"semantic_type\": \"\",\n        \"description\": \"\"\n      }\n    }\n  ]\n}"
            }
          },
          "metadata": {},
          "execution_count": 36
        }
      ]
    },
    {
      "cell_type": "code",
      "source": [
        "df.to_csv(\"/content/sample_data.csv\")"
      ],
      "metadata": {
        "id": "IZFo-WAIl4B1"
      },
      "execution_count": null,
      "outputs": []
    },
    {
      "cell_type": "markdown",
      "source": [
        "import data"
      ],
      "metadata": {
        "id": "YU4VmzZBn18j"
      }
    },
    {
      "cell_type": "code",
      "source": [
        "df=pd.read_csv(\"/content/sample_data.csv\")\n",
        "df"
      ],
      "metadata": {
        "colab": {
          "base_uri": "https://localhost:8080/",
          "height": 206
        },
        "id": "BQIeadYrn6Qy",
        "outputId": "2f749b0d-4b08-437b-c923-5a38887f8d50"
      },
      "execution_count": null,
      "outputs": [
        {
          "output_type": "execute_result",
          "data": {
            "text/plain": [
              "   Unnamed: 0  emp_id emp_name domain  working_hours  salary\n",
              "0           0       1      sam     it              9   23000\n",
              "1           1       2      raj  sales              8   25000\n",
              "2           2       3    mohit     it              8   31000\n",
              "3           3       4    ankit     it              9   36000\n",
              "4           4       5   pallvi  sales              9   40000"
            ],
            "text/html": [
              "\n",
              "  <div id=\"df-b5dde967-f2ff-4c1c-b46c-c9f5c9eae2c8\" class=\"colab-df-container\">\n",
              "    <div>\n",
              "<style scoped>\n",
              "    .dataframe tbody tr th:only-of-type {\n",
              "        vertical-align: middle;\n",
              "    }\n",
              "\n",
              "    .dataframe tbody tr th {\n",
              "        vertical-align: top;\n",
              "    }\n",
              "\n",
              "    .dataframe thead th {\n",
              "        text-align: right;\n",
              "    }\n",
              "</style>\n",
              "<table border=\"1\" class=\"dataframe\">\n",
              "  <thead>\n",
              "    <tr style=\"text-align: right;\">\n",
              "      <th></th>\n",
              "      <th>Unnamed: 0</th>\n",
              "      <th>emp_id</th>\n",
              "      <th>emp_name</th>\n",
              "      <th>domain</th>\n",
              "      <th>working_hours</th>\n",
              "      <th>salary</th>\n",
              "    </tr>\n",
              "  </thead>\n",
              "  <tbody>\n",
              "    <tr>\n",
              "      <th>0</th>\n",
              "      <td>0</td>\n",
              "      <td>1</td>\n",
              "      <td>sam</td>\n",
              "      <td>it</td>\n",
              "      <td>9</td>\n",
              "      <td>23000</td>\n",
              "    </tr>\n",
              "    <tr>\n",
              "      <th>1</th>\n",
              "      <td>1</td>\n",
              "      <td>2</td>\n",
              "      <td>raj</td>\n",
              "      <td>sales</td>\n",
              "      <td>8</td>\n",
              "      <td>25000</td>\n",
              "    </tr>\n",
              "    <tr>\n",
              "      <th>2</th>\n",
              "      <td>2</td>\n",
              "      <td>3</td>\n",
              "      <td>mohit</td>\n",
              "      <td>it</td>\n",
              "      <td>8</td>\n",
              "      <td>31000</td>\n",
              "    </tr>\n",
              "    <tr>\n",
              "      <th>3</th>\n",
              "      <td>3</td>\n",
              "      <td>4</td>\n",
              "      <td>ankit</td>\n",
              "      <td>it</td>\n",
              "      <td>9</td>\n",
              "      <td>36000</td>\n",
              "    </tr>\n",
              "    <tr>\n",
              "      <th>4</th>\n",
              "      <td>4</td>\n",
              "      <td>5</td>\n",
              "      <td>pallvi</td>\n",
              "      <td>sales</td>\n",
              "      <td>9</td>\n",
              "      <td>40000</td>\n",
              "    </tr>\n",
              "  </tbody>\n",
              "</table>\n",
              "</div>\n",
              "    <div class=\"colab-df-buttons\">\n",
              "\n",
              "  <div class=\"colab-df-container\">\n",
              "    <button class=\"colab-df-convert\" onclick=\"convertToInteractive('df-b5dde967-f2ff-4c1c-b46c-c9f5c9eae2c8')\"\n",
              "            title=\"Convert this dataframe to an interactive table.\"\n",
              "            style=\"display:none;\">\n",
              "\n",
              "  <svg xmlns=\"http://www.w3.org/2000/svg\" height=\"24px\" viewBox=\"0 -960 960 960\">\n",
              "    <path d=\"M120-120v-720h720v720H120Zm60-500h600v-160H180v160Zm220 220h160v-160H400v160Zm0 220h160v-160H400v160ZM180-400h160v-160H180v160Zm440 0h160v-160H620v160ZM180-180h160v-160H180v160Zm440 0h160v-160H620v160Z\"/>\n",
              "  </svg>\n",
              "    </button>\n",
              "\n",
              "  <style>\n",
              "    .colab-df-container {\n",
              "      display:flex;\n",
              "      gap: 12px;\n",
              "    }\n",
              "\n",
              "    .colab-df-convert {\n",
              "      background-color: #E8F0FE;\n",
              "      border: none;\n",
              "      border-radius: 50%;\n",
              "      cursor: pointer;\n",
              "      display: none;\n",
              "      fill: #1967D2;\n",
              "      height: 32px;\n",
              "      padding: 0 0 0 0;\n",
              "      width: 32px;\n",
              "    }\n",
              "\n",
              "    .colab-df-convert:hover {\n",
              "      background-color: #E2EBFA;\n",
              "      box-shadow: 0px 1px 2px rgba(60, 64, 67, 0.3), 0px 1px 3px 1px rgba(60, 64, 67, 0.15);\n",
              "      fill: #174EA6;\n",
              "    }\n",
              "\n",
              "    .colab-df-buttons div {\n",
              "      margin-bottom: 4px;\n",
              "    }\n",
              "\n",
              "    [theme=dark] .colab-df-convert {\n",
              "      background-color: #3B4455;\n",
              "      fill: #D2E3FC;\n",
              "    }\n",
              "\n",
              "    [theme=dark] .colab-df-convert:hover {\n",
              "      background-color: #434B5C;\n",
              "      box-shadow: 0px 1px 3px 1px rgba(0, 0, 0, 0.15);\n",
              "      filter: drop-shadow(0px 1px 2px rgba(0, 0, 0, 0.3));\n",
              "      fill: #FFFFFF;\n",
              "    }\n",
              "  </style>\n",
              "\n",
              "    <script>\n",
              "      const buttonEl =\n",
              "        document.querySelector('#df-b5dde967-f2ff-4c1c-b46c-c9f5c9eae2c8 button.colab-df-convert');\n",
              "      buttonEl.style.display =\n",
              "        google.colab.kernel.accessAllowed ? 'block' : 'none';\n",
              "\n",
              "      async function convertToInteractive(key) {\n",
              "        const element = document.querySelector('#df-b5dde967-f2ff-4c1c-b46c-c9f5c9eae2c8');\n",
              "        const dataTable =\n",
              "          await google.colab.kernel.invokeFunction('convertToInteractive',\n",
              "                                                    [key], {});\n",
              "        if (!dataTable) return;\n",
              "\n",
              "        const docLinkHtml = 'Like what you see? Visit the ' +\n",
              "          '<a target=\"_blank\" href=https://colab.research.google.com/notebooks/data_table.ipynb>data table notebook</a>'\n",
              "          + ' to learn more about interactive tables.';\n",
              "        element.innerHTML = '';\n",
              "        dataTable['output_type'] = 'display_data';\n",
              "        await google.colab.output.renderOutput(dataTable, element);\n",
              "        const docLink = document.createElement('div');\n",
              "        docLink.innerHTML = docLinkHtml;\n",
              "        element.appendChild(docLink);\n",
              "      }\n",
              "    </script>\n",
              "  </div>\n",
              "\n",
              "\n",
              "    <div id=\"df-22375fc8-6b04-4573-8730-2c3cc8364a36\">\n",
              "      <button class=\"colab-df-quickchart\" onclick=\"quickchart('df-22375fc8-6b04-4573-8730-2c3cc8364a36')\"\n",
              "                title=\"Suggest charts\"\n",
              "                style=\"display:none;\">\n",
              "\n",
              "<svg xmlns=\"http://www.w3.org/2000/svg\" height=\"24px\"viewBox=\"0 0 24 24\"\n",
              "     width=\"24px\">\n",
              "    <g>\n",
              "        <path d=\"M19 3H5c-1.1 0-2 .9-2 2v14c0 1.1.9 2 2 2h14c1.1 0 2-.9 2-2V5c0-1.1-.9-2-2-2zM9 17H7v-7h2v7zm4 0h-2V7h2v10zm4 0h-2v-4h2v4z\"/>\n",
              "    </g>\n",
              "</svg>\n",
              "      </button>\n",
              "\n",
              "<style>\n",
              "  .colab-df-quickchart {\n",
              "      --bg-color: #E8F0FE;\n",
              "      --fill-color: #1967D2;\n",
              "      --hover-bg-color: #E2EBFA;\n",
              "      --hover-fill-color: #174EA6;\n",
              "      --disabled-fill-color: #AAA;\n",
              "      --disabled-bg-color: #DDD;\n",
              "  }\n",
              "\n",
              "  [theme=dark] .colab-df-quickchart {\n",
              "      --bg-color: #3B4455;\n",
              "      --fill-color: #D2E3FC;\n",
              "      --hover-bg-color: #434B5C;\n",
              "      --hover-fill-color: #FFFFFF;\n",
              "      --disabled-bg-color: #3B4455;\n",
              "      --disabled-fill-color: #666;\n",
              "  }\n",
              "\n",
              "  .colab-df-quickchart {\n",
              "    background-color: var(--bg-color);\n",
              "    border: none;\n",
              "    border-radius: 50%;\n",
              "    cursor: pointer;\n",
              "    display: none;\n",
              "    fill: var(--fill-color);\n",
              "    height: 32px;\n",
              "    padding: 0;\n",
              "    width: 32px;\n",
              "  }\n",
              "\n",
              "  .colab-df-quickchart:hover {\n",
              "    background-color: var(--hover-bg-color);\n",
              "    box-shadow: 0 1px 2px rgba(60, 64, 67, 0.3), 0 1px 3px 1px rgba(60, 64, 67, 0.15);\n",
              "    fill: var(--button-hover-fill-color);\n",
              "  }\n",
              "\n",
              "  .colab-df-quickchart-complete:disabled,\n",
              "  .colab-df-quickchart-complete:disabled:hover {\n",
              "    background-color: var(--disabled-bg-color);\n",
              "    fill: var(--disabled-fill-color);\n",
              "    box-shadow: none;\n",
              "  }\n",
              "\n",
              "  .colab-df-spinner {\n",
              "    border: 2px solid var(--fill-color);\n",
              "    border-color: transparent;\n",
              "    border-bottom-color: var(--fill-color);\n",
              "    animation:\n",
              "      spin 1s steps(1) infinite;\n",
              "  }\n",
              "\n",
              "  @keyframes spin {\n",
              "    0% {\n",
              "      border-color: transparent;\n",
              "      border-bottom-color: var(--fill-color);\n",
              "      border-left-color: var(--fill-color);\n",
              "    }\n",
              "    20% {\n",
              "      border-color: transparent;\n",
              "      border-left-color: var(--fill-color);\n",
              "      border-top-color: var(--fill-color);\n",
              "    }\n",
              "    30% {\n",
              "      border-color: transparent;\n",
              "      border-left-color: var(--fill-color);\n",
              "      border-top-color: var(--fill-color);\n",
              "      border-right-color: var(--fill-color);\n",
              "    }\n",
              "    40% {\n",
              "      border-color: transparent;\n",
              "      border-right-color: var(--fill-color);\n",
              "      border-top-color: var(--fill-color);\n",
              "    }\n",
              "    60% {\n",
              "      border-color: transparent;\n",
              "      border-right-color: var(--fill-color);\n",
              "    }\n",
              "    80% {\n",
              "      border-color: transparent;\n",
              "      border-right-color: var(--fill-color);\n",
              "      border-bottom-color: var(--fill-color);\n",
              "    }\n",
              "    90% {\n",
              "      border-color: transparent;\n",
              "      border-bottom-color: var(--fill-color);\n",
              "    }\n",
              "  }\n",
              "</style>\n",
              "\n",
              "      <script>\n",
              "        async function quickchart(key) {\n",
              "          const quickchartButtonEl =\n",
              "            document.querySelector('#' + key + ' button');\n",
              "          quickchartButtonEl.disabled = true;  // To prevent multiple clicks.\n",
              "          quickchartButtonEl.classList.add('colab-df-spinner');\n",
              "          try {\n",
              "            const charts = await google.colab.kernel.invokeFunction(\n",
              "                'suggestCharts', [key], {});\n",
              "          } catch (error) {\n",
              "            console.error('Error during call to suggestCharts:', error);\n",
              "          }\n",
              "          quickchartButtonEl.classList.remove('colab-df-spinner');\n",
              "          quickchartButtonEl.classList.add('colab-df-quickchart-complete');\n",
              "        }\n",
              "        (() => {\n",
              "          let quickchartButtonEl =\n",
              "            document.querySelector('#df-22375fc8-6b04-4573-8730-2c3cc8364a36 button');\n",
              "          quickchartButtonEl.style.display =\n",
              "            google.colab.kernel.accessAllowed ? 'block' : 'none';\n",
              "        })();\n",
              "      </script>\n",
              "    </div>\n",
              "\n",
              "  <div id=\"id_3018baf6-57d5-4748-a505-41b65a714290\">\n",
              "    <style>\n",
              "      .colab-df-generate {\n",
              "        background-color: #E8F0FE;\n",
              "        border: none;\n",
              "        border-radius: 50%;\n",
              "        cursor: pointer;\n",
              "        display: none;\n",
              "        fill: #1967D2;\n",
              "        height: 32px;\n",
              "        padding: 0 0 0 0;\n",
              "        width: 32px;\n",
              "      }\n",
              "\n",
              "      .colab-df-generate:hover {\n",
              "        background-color: #E2EBFA;\n",
              "        box-shadow: 0px 1px 2px rgba(60, 64, 67, 0.3), 0px 1px 3px 1px rgba(60, 64, 67, 0.15);\n",
              "        fill: #174EA6;\n",
              "      }\n",
              "\n",
              "      [theme=dark] .colab-df-generate {\n",
              "        background-color: #3B4455;\n",
              "        fill: #D2E3FC;\n",
              "      }\n",
              "\n",
              "      [theme=dark] .colab-df-generate:hover {\n",
              "        background-color: #434B5C;\n",
              "        box-shadow: 0px 1px 3px 1px rgba(0, 0, 0, 0.15);\n",
              "        filter: drop-shadow(0px 1px 2px rgba(0, 0, 0, 0.3));\n",
              "        fill: #FFFFFF;\n",
              "      }\n",
              "    </style>\n",
              "    <button class=\"colab-df-generate\" onclick=\"generateWithVariable('df')\"\n",
              "            title=\"Generate code using this dataframe.\"\n",
              "            style=\"display:none;\">\n",
              "\n",
              "  <svg xmlns=\"http://www.w3.org/2000/svg\" height=\"24px\"viewBox=\"0 0 24 24\"\n",
              "       width=\"24px\">\n",
              "    <path d=\"M7,19H8.4L18.45,9,17,7.55,7,17.6ZM5,21V16.75L18.45,3.32a2,2,0,0,1,2.83,0l1.4,1.43a1.91,1.91,0,0,1,.58,1.4,1.91,1.91,0,0,1-.58,1.4L9.25,21ZM18.45,9,17,7.55Zm-12,3A5.31,5.31,0,0,0,4.9,8.1,5.31,5.31,0,0,0,1,6.5,5.31,5.31,0,0,0,4.9,4.9,5.31,5.31,0,0,0,6.5,1,5.31,5.31,0,0,0,8.1,4.9,5.31,5.31,0,0,0,12,6.5,5.46,5.46,0,0,0,6.5,12Z\"/>\n",
              "  </svg>\n",
              "    </button>\n",
              "    <script>\n",
              "      (() => {\n",
              "      const buttonEl =\n",
              "        document.querySelector('#id_3018baf6-57d5-4748-a505-41b65a714290 button.colab-df-generate');\n",
              "      buttonEl.style.display =\n",
              "        google.colab.kernel.accessAllowed ? 'block' : 'none';\n",
              "\n",
              "      buttonEl.onclick = () => {\n",
              "        google.colab.notebook.generateWithVariable('df');\n",
              "      }\n",
              "      })();\n",
              "    </script>\n",
              "  </div>\n",
              "\n",
              "    </div>\n",
              "  </div>\n"
            ],
            "application/vnd.google.colaboratory.intrinsic+json": {
              "type": "dataframe",
              "variable_name": "df",
              "summary": "{\n  \"name\": \"df\",\n  \"rows\": 5,\n  \"fields\": [\n    {\n      \"column\": \"Unnamed: 0\",\n      \"properties\": {\n        \"dtype\": \"number\",\n        \"std\": 1,\n        \"min\": 0,\n        \"max\": 4,\n        \"num_unique_values\": 5,\n        \"samples\": [\n          1,\n          4,\n          2\n        ],\n        \"semantic_type\": \"\",\n        \"description\": \"\"\n      }\n    },\n    {\n      \"column\": \"emp_id\",\n      \"properties\": {\n        \"dtype\": \"number\",\n        \"std\": 1,\n        \"min\": 1,\n        \"max\": 5,\n        \"num_unique_values\": 5,\n        \"samples\": [\n          2,\n          5,\n          3\n        ],\n        \"semantic_type\": \"\",\n        \"description\": \"\"\n      }\n    },\n    {\n      \"column\": \"emp_name\",\n      \"properties\": {\n        \"dtype\": \"string\",\n        \"num_unique_values\": 5,\n        \"samples\": [\n          \"raj\",\n          \"pallvi\",\n          \"mohit\"\n        ],\n        \"semantic_type\": \"\",\n        \"description\": \"\"\n      }\n    },\n    {\n      \"column\": \"domain\",\n      \"properties\": {\n        \"dtype\": \"category\",\n        \"num_unique_values\": 2,\n        \"samples\": [\n          \"sales\",\n          \"it\"\n        ],\n        \"semantic_type\": \"\",\n        \"description\": \"\"\n      }\n    },\n    {\n      \"column\": \"working_hours\",\n      \"properties\": {\n        \"dtype\": \"number\",\n        \"std\": 0,\n        \"min\": 8,\n        \"max\": 9,\n        \"num_unique_values\": 2,\n        \"samples\": [\n          8,\n          9\n        ],\n        \"semantic_type\": \"\",\n        \"description\": \"\"\n      }\n    },\n    {\n      \"column\": \"salary\",\n      \"properties\": {\n        \"dtype\": \"number\",\n        \"std\": 7176,\n        \"min\": 23000,\n        \"max\": 40000,\n        \"num_unique_values\": 5,\n        \"samples\": [\n          25000,\n          40000\n        ],\n        \"semantic_type\": \"\",\n        \"description\": \"\"\n      }\n    }\n  ]\n}"
            }
          },
          "metadata": {},
          "execution_count": 44
        }
      ]
    },
    {
      "cell_type": "code",
      "source": [
        "import pandas as pd"
      ],
      "metadata": {
        "id": "GQzMmHwrxOl4"
      },
      "execution_count": null,
      "outputs": []
    },
    {
      "cell_type": "code",
      "source": [
        "a={\n",
        "    \"stu_roll_no\":[1,2,3,4,5,6,7,8,9,10],\n",
        "    \"stu_name\":[\"murari\",\"jassi\",\"vinod\",\"parmod\",\"parveen\",\"ramu\",\"dilip\",\"banti\",\"viju\",\"goutam\"],\n",
        "    \"stu_course\":[\"mca\",\"ba\",\"ba\",\"bcom\",\"bsc\",\"ba\",\"bsc\",\"ba\",\"bcom\",\"bsc\"],\n",
        "    \"stu_marks\":[66,55,60,65,70,50,36,58,70,85]\n",
        "}"
      ],
      "metadata": {
        "id": "8Q2X_U9cxW2k"
      },
      "execution_count": null,
      "outputs": []
    },
    {
      "cell_type": "code",
      "source": [
        "type(a)"
      ],
      "metadata": {
        "colab": {
          "base_uri": "https://localhost:8080/"
        },
        "id": "39EQb0QxzQvJ",
        "outputId": "be28b81e-d9c5-404f-8027-1d499b0a4d61"
      },
      "execution_count": null,
      "outputs": [
        {
          "output_type": "execute_result",
          "data": {
            "text/plain": [
              "dict"
            ]
          },
          "metadata": {},
          "execution_count": 5
        }
      ]
    },
    {
      "cell_type": "code",
      "source": [
        "df=pd.DataFrame(a)\n",
        "\n",
        "df"
      ],
      "metadata": {
        "id": "zZMTTDZ3zhGk"
      },
      "execution_count": null,
      "outputs": []
    },
    {
      "cell_type": "code",
      "source": [
        "df.to_csv(\"/content/stu_data.csv\")"
      ],
      "metadata": {
        "id": "vAVUkkQj0Cr9"
      },
      "execution_count": null,
      "outputs": []
    },
    {
      "cell_type": "code",
      "source": [
        "df=pd.read_csv(\"/content/stu_data.csv\")\n",
        "df"
      ],
      "metadata": {
        "id": "Hx8SAAEdmFHQ",
        "colab": {
          "base_uri": "https://localhost:8080/",
          "height": 363
        },
        "outputId": "3eb8ea3c-eb8b-4d7e-bb83-f7c7283e5d87"
      },
      "execution_count": null,
      "outputs": [
        {
          "output_type": "execute_result",
          "data": {
            "text/plain": [
              "   Unnamed: 0  stu_roll_no stu_name stu_course  stu_marks\n",
              "0           0            1   murari        mca         66\n",
              "1           1            2    jassi         ba         55\n",
              "2           2            3    vinod         ba         60\n",
              "3           3            4   parmod       bcom         65\n",
              "4           4            5  parveen        bsc         70\n",
              "5           5            6     ramu         ba         50\n",
              "6           6            7    dilip        bsc         36\n",
              "7           7            8    banti         ba         58\n",
              "8           8            9     viju       bcom         70\n",
              "9           9           10   goutam        bsc         85"
            ],
            "text/html": [
              "\n",
              "  <div id=\"df-1848761b-6b46-405a-813a-7feb75264feb\" class=\"colab-df-container\">\n",
              "    <div>\n",
              "<style scoped>\n",
              "    .dataframe tbody tr th:only-of-type {\n",
              "        vertical-align: middle;\n",
              "    }\n",
              "\n",
              "    .dataframe tbody tr th {\n",
              "        vertical-align: top;\n",
              "    }\n",
              "\n",
              "    .dataframe thead th {\n",
              "        text-align: right;\n",
              "    }\n",
              "</style>\n",
              "<table border=\"1\" class=\"dataframe\">\n",
              "  <thead>\n",
              "    <tr style=\"text-align: right;\">\n",
              "      <th></th>\n",
              "      <th>Unnamed: 0</th>\n",
              "      <th>stu_roll_no</th>\n",
              "      <th>stu_name</th>\n",
              "      <th>stu_course</th>\n",
              "      <th>stu_marks</th>\n",
              "    </tr>\n",
              "  </thead>\n",
              "  <tbody>\n",
              "    <tr>\n",
              "      <th>0</th>\n",
              "      <td>0</td>\n",
              "      <td>1</td>\n",
              "      <td>murari</td>\n",
              "      <td>mca</td>\n",
              "      <td>66</td>\n",
              "    </tr>\n",
              "    <tr>\n",
              "      <th>1</th>\n",
              "      <td>1</td>\n",
              "      <td>2</td>\n",
              "      <td>jassi</td>\n",
              "      <td>ba</td>\n",
              "      <td>55</td>\n",
              "    </tr>\n",
              "    <tr>\n",
              "      <th>2</th>\n",
              "      <td>2</td>\n",
              "      <td>3</td>\n",
              "      <td>vinod</td>\n",
              "      <td>ba</td>\n",
              "      <td>60</td>\n",
              "    </tr>\n",
              "    <tr>\n",
              "      <th>3</th>\n",
              "      <td>3</td>\n",
              "      <td>4</td>\n",
              "      <td>parmod</td>\n",
              "      <td>bcom</td>\n",
              "      <td>65</td>\n",
              "    </tr>\n",
              "    <tr>\n",
              "      <th>4</th>\n",
              "      <td>4</td>\n",
              "      <td>5</td>\n",
              "      <td>parveen</td>\n",
              "      <td>bsc</td>\n",
              "      <td>70</td>\n",
              "    </tr>\n",
              "    <tr>\n",
              "      <th>5</th>\n",
              "      <td>5</td>\n",
              "      <td>6</td>\n",
              "      <td>ramu</td>\n",
              "      <td>ba</td>\n",
              "      <td>50</td>\n",
              "    </tr>\n",
              "    <tr>\n",
              "      <th>6</th>\n",
              "      <td>6</td>\n",
              "      <td>7</td>\n",
              "      <td>dilip</td>\n",
              "      <td>bsc</td>\n",
              "      <td>36</td>\n",
              "    </tr>\n",
              "    <tr>\n",
              "      <th>7</th>\n",
              "      <td>7</td>\n",
              "      <td>8</td>\n",
              "      <td>banti</td>\n",
              "      <td>ba</td>\n",
              "      <td>58</td>\n",
              "    </tr>\n",
              "    <tr>\n",
              "      <th>8</th>\n",
              "      <td>8</td>\n",
              "      <td>9</td>\n",
              "      <td>viju</td>\n",
              "      <td>bcom</td>\n",
              "      <td>70</td>\n",
              "    </tr>\n",
              "    <tr>\n",
              "      <th>9</th>\n",
              "      <td>9</td>\n",
              "      <td>10</td>\n",
              "      <td>goutam</td>\n",
              "      <td>bsc</td>\n",
              "      <td>85</td>\n",
              "    </tr>\n",
              "  </tbody>\n",
              "</table>\n",
              "</div>\n",
              "    <div class=\"colab-df-buttons\">\n",
              "\n",
              "  <div class=\"colab-df-container\">\n",
              "    <button class=\"colab-df-convert\" onclick=\"convertToInteractive('df-1848761b-6b46-405a-813a-7feb75264feb')\"\n",
              "            title=\"Convert this dataframe to an interactive table.\"\n",
              "            style=\"display:none;\">\n",
              "\n",
              "  <svg xmlns=\"http://www.w3.org/2000/svg\" height=\"24px\" viewBox=\"0 -960 960 960\">\n",
              "    <path d=\"M120-120v-720h720v720H120Zm60-500h600v-160H180v160Zm220 220h160v-160H400v160Zm0 220h160v-160H400v160ZM180-400h160v-160H180v160Zm440 0h160v-160H620v160ZM180-180h160v-160H180v160Zm440 0h160v-160H620v160Z\"/>\n",
              "  </svg>\n",
              "    </button>\n",
              "\n",
              "  <style>\n",
              "    .colab-df-container {\n",
              "      display:flex;\n",
              "      gap: 12px;\n",
              "    }\n",
              "\n",
              "    .colab-df-convert {\n",
              "      background-color: #E8F0FE;\n",
              "      border: none;\n",
              "      border-radius: 50%;\n",
              "      cursor: pointer;\n",
              "      display: none;\n",
              "      fill: #1967D2;\n",
              "      height: 32px;\n",
              "      padding: 0 0 0 0;\n",
              "      width: 32px;\n",
              "    }\n",
              "\n",
              "    .colab-df-convert:hover {\n",
              "      background-color: #E2EBFA;\n",
              "      box-shadow: 0px 1px 2px rgba(60, 64, 67, 0.3), 0px 1px 3px 1px rgba(60, 64, 67, 0.15);\n",
              "      fill: #174EA6;\n",
              "    }\n",
              "\n",
              "    .colab-df-buttons div {\n",
              "      margin-bottom: 4px;\n",
              "    }\n",
              "\n",
              "    [theme=dark] .colab-df-convert {\n",
              "      background-color: #3B4455;\n",
              "      fill: #D2E3FC;\n",
              "    }\n",
              "\n",
              "    [theme=dark] .colab-df-convert:hover {\n",
              "      background-color: #434B5C;\n",
              "      box-shadow: 0px 1px 3px 1px rgba(0, 0, 0, 0.15);\n",
              "      filter: drop-shadow(0px 1px 2px rgba(0, 0, 0, 0.3));\n",
              "      fill: #FFFFFF;\n",
              "    }\n",
              "  </style>\n",
              "\n",
              "    <script>\n",
              "      const buttonEl =\n",
              "        document.querySelector('#df-1848761b-6b46-405a-813a-7feb75264feb button.colab-df-convert');\n",
              "      buttonEl.style.display =\n",
              "        google.colab.kernel.accessAllowed ? 'block' : 'none';\n",
              "\n",
              "      async function convertToInteractive(key) {\n",
              "        const element = document.querySelector('#df-1848761b-6b46-405a-813a-7feb75264feb');\n",
              "        const dataTable =\n",
              "          await google.colab.kernel.invokeFunction('convertToInteractive',\n",
              "                                                    [key], {});\n",
              "        if (!dataTable) return;\n",
              "\n",
              "        const docLinkHtml = 'Like what you see? Visit the ' +\n",
              "          '<a target=\"_blank\" href=https://colab.research.google.com/notebooks/data_table.ipynb>data table notebook</a>'\n",
              "          + ' to learn more about interactive tables.';\n",
              "        element.innerHTML = '';\n",
              "        dataTable['output_type'] = 'display_data';\n",
              "        await google.colab.output.renderOutput(dataTable, element);\n",
              "        const docLink = document.createElement('div');\n",
              "        docLink.innerHTML = docLinkHtml;\n",
              "        element.appendChild(docLink);\n",
              "      }\n",
              "    </script>\n",
              "  </div>\n",
              "\n",
              "\n",
              "    <div id=\"df-be64a2e7-be63-40d3-9858-900087bd5d21\">\n",
              "      <button class=\"colab-df-quickchart\" onclick=\"quickchart('df-be64a2e7-be63-40d3-9858-900087bd5d21')\"\n",
              "                title=\"Suggest charts\"\n",
              "                style=\"display:none;\">\n",
              "\n",
              "<svg xmlns=\"http://www.w3.org/2000/svg\" height=\"24px\"viewBox=\"0 0 24 24\"\n",
              "     width=\"24px\">\n",
              "    <g>\n",
              "        <path d=\"M19 3H5c-1.1 0-2 .9-2 2v14c0 1.1.9 2 2 2h14c1.1 0 2-.9 2-2V5c0-1.1-.9-2-2-2zM9 17H7v-7h2v7zm4 0h-2V7h2v10zm4 0h-2v-4h2v4z\"/>\n",
              "    </g>\n",
              "</svg>\n",
              "      </button>\n",
              "\n",
              "<style>\n",
              "  .colab-df-quickchart {\n",
              "      --bg-color: #E8F0FE;\n",
              "      --fill-color: #1967D2;\n",
              "      --hover-bg-color: #E2EBFA;\n",
              "      --hover-fill-color: #174EA6;\n",
              "      --disabled-fill-color: #AAA;\n",
              "      --disabled-bg-color: #DDD;\n",
              "  }\n",
              "\n",
              "  [theme=dark] .colab-df-quickchart {\n",
              "      --bg-color: #3B4455;\n",
              "      --fill-color: #D2E3FC;\n",
              "      --hover-bg-color: #434B5C;\n",
              "      --hover-fill-color: #FFFFFF;\n",
              "      --disabled-bg-color: #3B4455;\n",
              "      --disabled-fill-color: #666;\n",
              "  }\n",
              "\n",
              "  .colab-df-quickchart {\n",
              "    background-color: var(--bg-color);\n",
              "    border: none;\n",
              "    border-radius: 50%;\n",
              "    cursor: pointer;\n",
              "    display: none;\n",
              "    fill: var(--fill-color);\n",
              "    height: 32px;\n",
              "    padding: 0;\n",
              "    width: 32px;\n",
              "  }\n",
              "\n",
              "  .colab-df-quickchart:hover {\n",
              "    background-color: var(--hover-bg-color);\n",
              "    box-shadow: 0 1px 2px rgba(60, 64, 67, 0.3), 0 1px 3px 1px rgba(60, 64, 67, 0.15);\n",
              "    fill: var(--button-hover-fill-color);\n",
              "  }\n",
              "\n",
              "  .colab-df-quickchart-complete:disabled,\n",
              "  .colab-df-quickchart-complete:disabled:hover {\n",
              "    background-color: var(--disabled-bg-color);\n",
              "    fill: var(--disabled-fill-color);\n",
              "    box-shadow: none;\n",
              "  }\n",
              "\n",
              "  .colab-df-spinner {\n",
              "    border: 2px solid var(--fill-color);\n",
              "    border-color: transparent;\n",
              "    border-bottom-color: var(--fill-color);\n",
              "    animation:\n",
              "      spin 1s steps(1) infinite;\n",
              "  }\n",
              "\n",
              "  @keyframes spin {\n",
              "    0% {\n",
              "      border-color: transparent;\n",
              "      border-bottom-color: var(--fill-color);\n",
              "      border-left-color: var(--fill-color);\n",
              "    }\n",
              "    20% {\n",
              "      border-color: transparent;\n",
              "      border-left-color: var(--fill-color);\n",
              "      border-top-color: var(--fill-color);\n",
              "    }\n",
              "    30% {\n",
              "      border-color: transparent;\n",
              "      border-left-color: var(--fill-color);\n",
              "      border-top-color: var(--fill-color);\n",
              "      border-right-color: var(--fill-color);\n",
              "    }\n",
              "    40% {\n",
              "      border-color: transparent;\n",
              "      border-right-color: var(--fill-color);\n",
              "      border-top-color: var(--fill-color);\n",
              "    }\n",
              "    60% {\n",
              "      border-color: transparent;\n",
              "      border-right-color: var(--fill-color);\n",
              "    }\n",
              "    80% {\n",
              "      border-color: transparent;\n",
              "      border-right-color: var(--fill-color);\n",
              "      border-bottom-color: var(--fill-color);\n",
              "    }\n",
              "    90% {\n",
              "      border-color: transparent;\n",
              "      border-bottom-color: var(--fill-color);\n",
              "    }\n",
              "  }\n",
              "</style>\n",
              "\n",
              "      <script>\n",
              "        async function quickchart(key) {\n",
              "          const quickchartButtonEl =\n",
              "            document.querySelector('#' + key + ' button');\n",
              "          quickchartButtonEl.disabled = true;  // To prevent multiple clicks.\n",
              "          quickchartButtonEl.classList.add('colab-df-spinner');\n",
              "          try {\n",
              "            const charts = await google.colab.kernel.invokeFunction(\n",
              "                'suggestCharts', [key], {});\n",
              "          } catch (error) {\n",
              "            console.error('Error during call to suggestCharts:', error);\n",
              "          }\n",
              "          quickchartButtonEl.classList.remove('colab-df-spinner');\n",
              "          quickchartButtonEl.classList.add('colab-df-quickchart-complete');\n",
              "        }\n",
              "        (() => {\n",
              "          let quickchartButtonEl =\n",
              "            document.querySelector('#df-be64a2e7-be63-40d3-9858-900087bd5d21 button');\n",
              "          quickchartButtonEl.style.display =\n",
              "            google.colab.kernel.accessAllowed ? 'block' : 'none';\n",
              "        })();\n",
              "      </script>\n",
              "    </div>\n",
              "\n",
              "  <div id=\"id_6feb9457-161e-4d3d-b2a0-6b2c4c844eba\">\n",
              "    <style>\n",
              "      .colab-df-generate {\n",
              "        background-color: #E8F0FE;\n",
              "        border: none;\n",
              "        border-radius: 50%;\n",
              "        cursor: pointer;\n",
              "        display: none;\n",
              "        fill: #1967D2;\n",
              "        height: 32px;\n",
              "        padding: 0 0 0 0;\n",
              "        width: 32px;\n",
              "      }\n",
              "\n",
              "      .colab-df-generate:hover {\n",
              "        background-color: #E2EBFA;\n",
              "        box-shadow: 0px 1px 2px rgba(60, 64, 67, 0.3), 0px 1px 3px 1px rgba(60, 64, 67, 0.15);\n",
              "        fill: #174EA6;\n",
              "      }\n",
              "\n",
              "      [theme=dark] .colab-df-generate {\n",
              "        background-color: #3B4455;\n",
              "        fill: #D2E3FC;\n",
              "      }\n",
              "\n",
              "      [theme=dark] .colab-df-generate:hover {\n",
              "        background-color: #434B5C;\n",
              "        box-shadow: 0px 1px 3px 1px rgba(0, 0, 0, 0.15);\n",
              "        filter: drop-shadow(0px 1px 2px rgba(0, 0, 0, 0.3));\n",
              "        fill: #FFFFFF;\n",
              "      }\n",
              "    </style>\n",
              "    <button class=\"colab-df-generate\" onclick=\"generateWithVariable('df')\"\n",
              "            title=\"Generate code using this dataframe.\"\n",
              "            style=\"display:none;\">\n",
              "\n",
              "  <svg xmlns=\"http://www.w3.org/2000/svg\" height=\"24px\"viewBox=\"0 0 24 24\"\n",
              "       width=\"24px\">\n",
              "    <path d=\"M7,19H8.4L18.45,9,17,7.55,7,17.6ZM5,21V16.75L18.45,3.32a2,2,0,0,1,2.83,0l1.4,1.43a1.91,1.91,0,0,1,.58,1.4,1.91,1.91,0,0,1-.58,1.4L9.25,21ZM18.45,9,17,7.55Zm-12,3A5.31,5.31,0,0,0,4.9,8.1,5.31,5.31,0,0,0,1,6.5,5.31,5.31,0,0,0,4.9,4.9,5.31,5.31,0,0,0,6.5,1,5.31,5.31,0,0,0,8.1,4.9,5.31,5.31,0,0,0,12,6.5,5.46,5.46,0,0,0,6.5,12Z\"/>\n",
              "  </svg>\n",
              "    </button>\n",
              "    <script>\n",
              "      (() => {\n",
              "      const buttonEl =\n",
              "        document.querySelector('#id_6feb9457-161e-4d3d-b2a0-6b2c4c844eba button.colab-df-generate');\n",
              "      buttonEl.style.display =\n",
              "        google.colab.kernel.accessAllowed ? 'block' : 'none';\n",
              "\n",
              "      buttonEl.onclick = () => {\n",
              "        google.colab.notebook.generateWithVariable('df');\n",
              "      }\n",
              "      })();\n",
              "    </script>\n",
              "  </div>\n",
              "\n",
              "    </div>\n",
              "  </div>\n"
            ],
            "application/vnd.google.colaboratory.intrinsic+json": {
              "type": "dataframe",
              "variable_name": "df",
              "summary": "{\n  \"name\": \"df\",\n  \"rows\": 10,\n  \"fields\": [\n    {\n      \"column\": \"Unnamed: 0\",\n      \"properties\": {\n        \"dtype\": \"number\",\n        \"std\": 3,\n        \"min\": 0,\n        \"max\": 9,\n        \"num_unique_values\": 10,\n        \"samples\": [\n          8,\n          1,\n          5\n        ],\n        \"semantic_type\": \"\",\n        \"description\": \"\"\n      }\n    },\n    {\n      \"column\": \"stu_roll_no\",\n      \"properties\": {\n        \"dtype\": \"number\",\n        \"std\": 3,\n        \"min\": 1,\n        \"max\": 10,\n        \"num_unique_values\": 10,\n        \"samples\": [\n          9,\n          2,\n          6\n        ],\n        \"semantic_type\": \"\",\n        \"description\": \"\"\n      }\n    },\n    {\n      \"column\": \"stu_name\",\n      \"properties\": {\n        \"dtype\": \"string\",\n        \"num_unique_values\": 10,\n        \"samples\": [\n          \"viju\",\n          \"jassi\",\n          \"ramu\"\n        ],\n        \"semantic_type\": \"\",\n        \"description\": \"\"\n      }\n    },\n    {\n      \"column\": \"stu_course\",\n      \"properties\": {\n        \"dtype\": \"category\",\n        \"num_unique_values\": 4,\n        \"samples\": [\n          \"ba\",\n          \"bsc\",\n          \"mca\"\n        ],\n        \"semantic_type\": \"\",\n        \"description\": \"\"\n      }\n    },\n    {\n      \"column\": \"stu_marks\",\n      \"properties\": {\n        \"dtype\": \"number\",\n        \"std\": 13,\n        \"min\": 36,\n        \"max\": 85,\n        \"num_unique_values\": 9,\n        \"samples\": [\n          58,\n          55,\n          50\n        ],\n        \"semantic_type\": \"\",\n        \"description\": \"\"\n      }\n    }\n  ]\n}"
            }
          },
          "metadata": {},
          "execution_count": 10
        }
      ]
    },
    {
      "cell_type": "code",
      "source": [
        "import numpy as np\n",
        "import pandas as pd"
      ],
      "metadata": {
        "id": "FZfEz4kImFrq"
      },
      "execution_count": null,
      "outputs": []
    },
    {
      "cell_type": "code",
      "source": [
        "df=pd.read_csv(\"/content/flipkart (2).csv\")\n",
        "#df\n"
      ],
      "metadata": {
        "id": "pTvzhLdmuJJU"
      },
      "execution_count": null,
      "outputs": []
    },
    {
      "cell_type": "code",
      "source": [
        "df.head()"
      ],
      "metadata": {
        "colab": {
          "base_uri": "https://localhost:8080/",
          "height": 672
        },
        "id": "mTr8fzSkxRsm",
        "outputId": "22efdbd8-ca66-4c11-9758-5e8d7d772a4f"
      },
      "execution_count": null,
      "outputs": [
        {
          "output_type": "execute_result",
          "data": {
            "text/plain": [
              "                                         CGtC98 href  \\\n",
              "0  https://www.flipkart.com/samsung-galaxy-s25-ul...   \n",
              "1  https://www.flipkart.com/nothing-phone-3a-pro-...   \n",
              "2  https://www.flipkart.com/vivo-v40-pro-5g-gange...   \n",
              "3  https://www.flipkart.com/samsung-galaxy-s24-5g...   \n",
              "4  https://www.flipkart.com/samsung-galaxy-s25-ul...   \n",
              "\n",
              "                                          DByuf4 src          uu79Xy  \\\n",
              "0  https://rukminim2.flixcart.com/image/312/312/x...  Add to Compare   \n",
              "1  https://rukminim2.flixcart.com/image/312/312/x...  Add to Compare   \n",
              "2  https://rukminim2.flixcart.com/image/312/312/x...  Add to Compare   \n",
              "3  https://rukminim2.flixcart.com/image/312/312/x...  Add to Compare   \n",
              "4  https://rukminim2.flixcart.com/image/312/312/x...  Add to Compare   \n",
              "\n",
              "                                              KzDlHZ  XQDdHH  \\\n",
              "0  Samsung Galaxy S25 Ultra 5G (Titanium Black, 5...     4.7   \n",
              "1              Nothing Phone (3a) Pro (Grey, 256 GB)     4.5   \n",
              "2              vivo V40 Pro 5G (Ganges Blue, 512 GB)     4.5   \n",
              "3     Samsung Galaxy S24+ 5G (Cobalt Violet, 256 GB)     4.5   \n",
              "4  Samsung Galaxy S25 Ultra 5G (Titanium Silverbl...     4.7   \n",
              "\n",
              "                                          Rza2QY src         Wphh3N hG7V+4  \\\n",
              "0  data:image/svg+xml;base64,PHN2ZyB4bWxucz0iaHR0...  1,695 Ratings      &   \n",
              "1  data:image/svg+xml;base64,PHN2ZyB4bWxucz0iaHR0...  1,676 Ratings      &   \n",
              "2  data:image/svg+xml;base64,PHN2ZyB4bWxucz0iaHR0...    875 Ratings      &   \n",
              "3  data:image/svg+xml;base64,PHN2ZyB4bWxucz0iaHR0...  9,624 Ratings      &   \n",
              "4  data:image/svg+xml;base64,PHN2ZyB4bWxucz0iaHR0...  1,695 Ratings      &   \n",
              "\n",
              "      Wphh3N 2                   J+igdf  ...  \\\n",
              "0  203 Reviews   12 GB RAM | 512 GB ROM  ...   \n",
              "1  148 Reviews   12 GB RAM | 256 GB ROM  ...   \n",
              "2   99 Reviews   12 GB RAM | 512 GB ROM  ...   \n",
              "3  735 Reviews   12 GB RAM | 256 GB ROM  ...   \n",
              "4  203 Reviews  12 GB RAM | 1024 GB ROM  ...   \n",
              "\n",
              "                                            J+igdf 6     Nx9bqj     yRaY8j  \\\n",
              "0  1 Year Manufacturer Warranty for Device and 6 ...  ₹1,29,999  ₹1,41,999   \n",
              "1                      1 Year Manufacturing Warranty    ₹33,999    ₹36,999   \n",
              "2  1 Year Warranty on Handset and 6 Months Warran...    ₹55,999    ₹60,999   \n",
              "3  1 Year Manufacturer Warranty for Device and 6 ...    ₹52,999    ₹99,999   \n",
              "4  1 Year Manufacturer Warranty for Device and 6 ...  ₹1,53,999  ₹1,65,999   \n",
              "\n",
              "    UkUFwK         yiggsN                                        _0CSTHy src  \\\n",
              "0   8% off  Free delivery  https://static-assets-web.flixcart.com/fk-p-li...   \n",
              "1   8% off  Free delivery  https://static-assets-web.flixcart.com/fk-p-li...   \n",
              "2   8% off  Free delivery  https://static-assets-web.flixcart.com/fk-p-li...   \n",
              "3  47% off  Free delivery  https://static-assets-web.flixcart.com/fk-p-li...   \n",
              "4   7% off  Free delivery  https://static-assets-web.flixcart.com/fk-p-li...   \n",
              "\n",
              "                   yiggsN 2 yiggsN 3 yiggsN 4         yiggsN 5  \n",
              "0                Saver Deal     Upto  ₹45,150  Off on Exchange  \n",
              "1                Saver Deal     Upto  ₹25,350  Off on Exchange  \n",
              "2                Saver Deal     Upto  ₹42,300  Off on Exchange  \n",
              "3  Top Discount of the Sale     Upto  ₹38,600  Off on Exchange  \n",
              "4                Saver Deal     Upto  ₹45,150  Off on Exchange  \n",
              "\n",
              "[5 rows x 24 columns]"
            ],
            "text/html": [
              "\n",
              "  <div id=\"df-85d6b8be-3923-4a8b-8a40-bc053eb60ef4\" class=\"colab-df-container\">\n",
              "    <div>\n",
              "<style scoped>\n",
              "    .dataframe tbody tr th:only-of-type {\n",
              "        vertical-align: middle;\n",
              "    }\n",
              "\n",
              "    .dataframe tbody tr th {\n",
              "        vertical-align: top;\n",
              "    }\n",
              "\n",
              "    .dataframe thead th {\n",
              "        text-align: right;\n",
              "    }\n",
              "</style>\n",
              "<table border=\"1\" class=\"dataframe\">\n",
              "  <thead>\n",
              "    <tr style=\"text-align: right;\">\n",
              "      <th></th>\n",
              "      <th>CGtC98 href</th>\n",
              "      <th>DByuf4 src</th>\n",
              "      <th>uu79Xy</th>\n",
              "      <th>KzDlHZ</th>\n",
              "      <th>XQDdHH</th>\n",
              "      <th>Rza2QY src</th>\n",
              "      <th>Wphh3N</th>\n",
              "      <th>hG7V+4</th>\n",
              "      <th>Wphh3N 2</th>\n",
              "      <th>J+igdf</th>\n",
              "      <th>...</th>\n",
              "      <th>J+igdf 6</th>\n",
              "      <th>Nx9bqj</th>\n",
              "      <th>yRaY8j</th>\n",
              "      <th>UkUFwK</th>\n",
              "      <th>yiggsN</th>\n",
              "      <th>_0CSTHy src</th>\n",
              "      <th>yiggsN 2</th>\n",
              "      <th>yiggsN 3</th>\n",
              "      <th>yiggsN 4</th>\n",
              "      <th>yiggsN 5</th>\n",
              "    </tr>\n",
              "  </thead>\n",
              "  <tbody>\n",
              "    <tr>\n",
              "      <th>0</th>\n",
              "      <td>https://www.flipkart.com/samsung-galaxy-s25-ul...</td>\n",
              "      <td>https://rukminim2.flixcart.com/image/312/312/x...</td>\n",
              "      <td>Add to Compare</td>\n",
              "      <td>Samsung Galaxy S25 Ultra 5G (Titanium Black, 5...</td>\n",
              "      <td>4.7</td>\n",
              "      <td>data:image/svg+xml;base64,PHN2ZyB4bWxucz0iaHR0...</td>\n",
              "      <td>1,695 Ratings</td>\n",
              "      <td>&amp;</td>\n",
              "      <td>203 Reviews</td>\n",
              "      <td>12 GB RAM | 512 GB ROM</td>\n",
              "      <td>...</td>\n",
              "      <td>1 Year Manufacturer Warranty for Device and 6 ...</td>\n",
              "      <td>₹1,29,999</td>\n",
              "      <td>₹1,41,999</td>\n",
              "      <td>8% off</td>\n",
              "      <td>Free delivery</td>\n",
              "      <td>https://static-assets-web.flixcart.com/fk-p-li...</td>\n",
              "      <td>Saver Deal</td>\n",
              "      <td>Upto</td>\n",
              "      <td>₹45,150</td>\n",
              "      <td>Off on Exchange</td>\n",
              "    </tr>\n",
              "    <tr>\n",
              "      <th>1</th>\n",
              "      <td>https://www.flipkart.com/nothing-phone-3a-pro-...</td>\n",
              "      <td>https://rukminim2.flixcart.com/image/312/312/x...</td>\n",
              "      <td>Add to Compare</td>\n",
              "      <td>Nothing Phone (3a) Pro (Grey, 256 GB)</td>\n",
              "      <td>4.5</td>\n",
              "      <td>data:image/svg+xml;base64,PHN2ZyB4bWxucz0iaHR0...</td>\n",
              "      <td>1,676 Ratings</td>\n",
              "      <td>&amp;</td>\n",
              "      <td>148 Reviews</td>\n",
              "      <td>12 GB RAM | 256 GB ROM</td>\n",
              "      <td>...</td>\n",
              "      <td>1 Year Manufacturing Warranty</td>\n",
              "      <td>₹33,999</td>\n",
              "      <td>₹36,999</td>\n",
              "      <td>8% off</td>\n",
              "      <td>Free delivery</td>\n",
              "      <td>https://static-assets-web.flixcart.com/fk-p-li...</td>\n",
              "      <td>Saver Deal</td>\n",
              "      <td>Upto</td>\n",
              "      <td>₹25,350</td>\n",
              "      <td>Off on Exchange</td>\n",
              "    </tr>\n",
              "    <tr>\n",
              "      <th>2</th>\n",
              "      <td>https://www.flipkart.com/vivo-v40-pro-5g-gange...</td>\n",
              "      <td>https://rukminim2.flixcart.com/image/312/312/x...</td>\n",
              "      <td>Add to Compare</td>\n",
              "      <td>vivo V40 Pro 5G (Ganges Blue, 512 GB)</td>\n",
              "      <td>4.5</td>\n",
              "      <td>data:image/svg+xml;base64,PHN2ZyB4bWxucz0iaHR0...</td>\n",
              "      <td>875 Ratings</td>\n",
              "      <td>&amp;</td>\n",
              "      <td>99 Reviews</td>\n",
              "      <td>12 GB RAM | 512 GB ROM</td>\n",
              "      <td>...</td>\n",
              "      <td>1 Year Warranty on Handset and 6 Months Warran...</td>\n",
              "      <td>₹55,999</td>\n",
              "      <td>₹60,999</td>\n",
              "      <td>8% off</td>\n",
              "      <td>Free delivery</td>\n",
              "      <td>https://static-assets-web.flixcart.com/fk-p-li...</td>\n",
              "      <td>Saver Deal</td>\n",
              "      <td>Upto</td>\n",
              "      <td>₹42,300</td>\n",
              "      <td>Off on Exchange</td>\n",
              "    </tr>\n",
              "    <tr>\n",
              "      <th>3</th>\n",
              "      <td>https://www.flipkart.com/samsung-galaxy-s24-5g...</td>\n",
              "      <td>https://rukminim2.flixcart.com/image/312/312/x...</td>\n",
              "      <td>Add to Compare</td>\n",
              "      <td>Samsung Galaxy S24+ 5G (Cobalt Violet, 256 GB)</td>\n",
              "      <td>4.5</td>\n",
              "      <td>data:image/svg+xml;base64,PHN2ZyB4bWxucz0iaHR0...</td>\n",
              "      <td>9,624 Ratings</td>\n",
              "      <td>&amp;</td>\n",
              "      <td>735 Reviews</td>\n",
              "      <td>12 GB RAM | 256 GB ROM</td>\n",
              "      <td>...</td>\n",
              "      <td>1 Year Manufacturer Warranty for Device and 6 ...</td>\n",
              "      <td>₹52,999</td>\n",
              "      <td>₹99,999</td>\n",
              "      <td>47% off</td>\n",
              "      <td>Free delivery</td>\n",
              "      <td>https://static-assets-web.flixcart.com/fk-p-li...</td>\n",
              "      <td>Top Discount of the Sale</td>\n",
              "      <td>Upto</td>\n",
              "      <td>₹38,600</td>\n",
              "      <td>Off on Exchange</td>\n",
              "    </tr>\n",
              "    <tr>\n",
              "      <th>4</th>\n",
              "      <td>https://www.flipkart.com/samsung-galaxy-s25-ul...</td>\n",
              "      <td>https://rukminim2.flixcart.com/image/312/312/x...</td>\n",
              "      <td>Add to Compare</td>\n",
              "      <td>Samsung Galaxy S25 Ultra 5G (Titanium Silverbl...</td>\n",
              "      <td>4.7</td>\n",
              "      <td>data:image/svg+xml;base64,PHN2ZyB4bWxucz0iaHR0...</td>\n",
              "      <td>1,695 Ratings</td>\n",
              "      <td>&amp;</td>\n",
              "      <td>203 Reviews</td>\n",
              "      <td>12 GB RAM | 1024 GB ROM</td>\n",
              "      <td>...</td>\n",
              "      <td>1 Year Manufacturer Warranty for Device and 6 ...</td>\n",
              "      <td>₹1,53,999</td>\n",
              "      <td>₹1,65,999</td>\n",
              "      <td>7% off</td>\n",
              "      <td>Free delivery</td>\n",
              "      <td>https://static-assets-web.flixcart.com/fk-p-li...</td>\n",
              "      <td>Saver Deal</td>\n",
              "      <td>Upto</td>\n",
              "      <td>₹45,150</td>\n",
              "      <td>Off on Exchange</td>\n",
              "    </tr>\n",
              "  </tbody>\n",
              "</table>\n",
              "<p>5 rows × 24 columns</p>\n",
              "</div>\n",
              "    <div class=\"colab-df-buttons\">\n",
              "\n",
              "  <div class=\"colab-df-container\">\n",
              "    <button class=\"colab-df-convert\" onclick=\"convertToInteractive('df-85d6b8be-3923-4a8b-8a40-bc053eb60ef4')\"\n",
              "            title=\"Convert this dataframe to an interactive table.\"\n",
              "            style=\"display:none;\">\n",
              "\n",
              "  <svg xmlns=\"http://www.w3.org/2000/svg\" height=\"24px\" viewBox=\"0 -960 960 960\">\n",
              "    <path d=\"M120-120v-720h720v720H120Zm60-500h600v-160H180v160Zm220 220h160v-160H400v160Zm0 220h160v-160H400v160ZM180-400h160v-160H180v160Zm440 0h160v-160H620v160ZM180-180h160v-160H180v160Zm440 0h160v-160H620v160Z\"/>\n",
              "  </svg>\n",
              "    </button>\n",
              "\n",
              "  <style>\n",
              "    .colab-df-container {\n",
              "      display:flex;\n",
              "      gap: 12px;\n",
              "    }\n",
              "\n",
              "    .colab-df-convert {\n",
              "      background-color: #E8F0FE;\n",
              "      border: none;\n",
              "      border-radius: 50%;\n",
              "      cursor: pointer;\n",
              "      display: none;\n",
              "      fill: #1967D2;\n",
              "      height: 32px;\n",
              "      padding: 0 0 0 0;\n",
              "      width: 32px;\n",
              "    }\n",
              "\n",
              "    .colab-df-convert:hover {\n",
              "      background-color: #E2EBFA;\n",
              "      box-shadow: 0px 1px 2px rgba(60, 64, 67, 0.3), 0px 1px 3px 1px rgba(60, 64, 67, 0.15);\n",
              "      fill: #174EA6;\n",
              "    }\n",
              "\n",
              "    .colab-df-buttons div {\n",
              "      margin-bottom: 4px;\n",
              "    }\n",
              "\n",
              "    [theme=dark] .colab-df-convert {\n",
              "      background-color: #3B4455;\n",
              "      fill: #D2E3FC;\n",
              "    }\n",
              "\n",
              "    [theme=dark] .colab-df-convert:hover {\n",
              "      background-color: #434B5C;\n",
              "      box-shadow: 0px 1px 3px 1px rgba(0, 0, 0, 0.15);\n",
              "      filter: drop-shadow(0px 1px 2px rgba(0, 0, 0, 0.3));\n",
              "      fill: #FFFFFF;\n",
              "    }\n",
              "  </style>\n",
              "\n",
              "    <script>\n",
              "      const buttonEl =\n",
              "        document.querySelector('#df-85d6b8be-3923-4a8b-8a40-bc053eb60ef4 button.colab-df-convert');\n",
              "      buttonEl.style.display =\n",
              "        google.colab.kernel.accessAllowed ? 'block' : 'none';\n",
              "\n",
              "      async function convertToInteractive(key) {\n",
              "        const element = document.querySelector('#df-85d6b8be-3923-4a8b-8a40-bc053eb60ef4');\n",
              "        const dataTable =\n",
              "          await google.colab.kernel.invokeFunction('convertToInteractive',\n",
              "                                                    [key], {});\n",
              "        if (!dataTable) return;\n",
              "\n",
              "        const docLinkHtml = 'Like what you see? Visit the ' +\n",
              "          '<a target=\"_blank\" href=https://colab.research.google.com/notebooks/data_table.ipynb>data table notebook</a>'\n",
              "          + ' to learn more about interactive tables.';\n",
              "        element.innerHTML = '';\n",
              "        dataTable['output_type'] = 'display_data';\n",
              "        await google.colab.output.renderOutput(dataTable, element);\n",
              "        const docLink = document.createElement('div');\n",
              "        docLink.innerHTML = docLinkHtml;\n",
              "        element.appendChild(docLink);\n",
              "      }\n",
              "    </script>\n",
              "  </div>\n",
              "\n",
              "\n",
              "    <div id=\"df-49a142ae-60d5-49e7-86c3-ea1a9b4caffb\">\n",
              "      <button class=\"colab-df-quickchart\" onclick=\"quickchart('df-49a142ae-60d5-49e7-86c3-ea1a9b4caffb')\"\n",
              "                title=\"Suggest charts\"\n",
              "                style=\"display:none;\">\n",
              "\n",
              "<svg xmlns=\"http://www.w3.org/2000/svg\" height=\"24px\"viewBox=\"0 0 24 24\"\n",
              "     width=\"24px\">\n",
              "    <g>\n",
              "        <path d=\"M19 3H5c-1.1 0-2 .9-2 2v14c0 1.1.9 2 2 2h14c1.1 0 2-.9 2-2V5c0-1.1-.9-2-2-2zM9 17H7v-7h2v7zm4 0h-2V7h2v10zm4 0h-2v-4h2v4z\"/>\n",
              "    </g>\n",
              "</svg>\n",
              "      </button>\n",
              "\n",
              "<style>\n",
              "  .colab-df-quickchart {\n",
              "      --bg-color: #E8F0FE;\n",
              "      --fill-color: #1967D2;\n",
              "      --hover-bg-color: #E2EBFA;\n",
              "      --hover-fill-color: #174EA6;\n",
              "      --disabled-fill-color: #AAA;\n",
              "      --disabled-bg-color: #DDD;\n",
              "  }\n",
              "\n",
              "  [theme=dark] .colab-df-quickchart {\n",
              "      --bg-color: #3B4455;\n",
              "      --fill-color: #D2E3FC;\n",
              "      --hover-bg-color: #434B5C;\n",
              "      --hover-fill-color: #FFFFFF;\n",
              "      --disabled-bg-color: #3B4455;\n",
              "      --disabled-fill-color: #666;\n",
              "  }\n",
              "\n",
              "  .colab-df-quickchart {\n",
              "    background-color: var(--bg-color);\n",
              "    border: none;\n",
              "    border-radius: 50%;\n",
              "    cursor: pointer;\n",
              "    display: none;\n",
              "    fill: var(--fill-color);\n",
              "    height: 32px;\n",
              "    padding: 0;\n",
              "    width: 32px;\n",
              "  }\n",
              "\n",
              "  .colab-df-quickchart:hover {\n",
              "    background-color: var(--hover-bg-color);\n",
              "    box-shadow: 0 1px 2px rgba(60, 64, 67, 0.3), 0 1px 3px 1px rgba(60, 64, 67, 0.15);\n",
              "    fill: var(--button-hover-fill-color);\n",
              "  }\n",
              "\n",
              "  .colab-df-quickchart-complete:disabled,\n",
              "  .colab-df-quickchart-complete:disabled:hover {\n",
              "    background-color: var(--disabled-bg-color);\n",
              "    fill: var(--disabled-fill-color);\n",
              "    box-shadow: none;\n",
              "  }\n",
              "\n",
              "  .colab-df-spinner {\n",
              "    border: 2px solid var(--fill-color);\n",
              "    border-color: transparent;\n",
              "    border-bottom-color: var(--fill-color);\n",
              "    animation:\n",
              "      spin 1s steps(1) infinite;\n",
              "  }\n",
              "\n",
              "  @keyframes spin {\n",
              "    0% {\n",
              "      border-color: transparent;\n",
              "      border-bottom-color: var(--fill-color);\n",
              "      border-left-color: var(--fill-color);\n",
              "    }\n",
              "    20% {\n",
              "      border-color: transparent;\n",
              "      border-left-color: var(--fill-color);\n",
              "      border-top-color: var(--fill-color);\n",
              "    }\n",
              "    30% {\n",
              "      border-color: transparent;\n",
              "      border-left-color: var(--fill-color);\n",
              "      border-top-color: var(--fill-color);\n",
              "      border-right-color: var(--fill-color);\n",
              "    }\n",
              "    40% {\n",
              "      border-color: transparent;\n",
              "      border-right-color: var(--fill-color);\n",
              "      border-top-color: var(--fill-color);\n",
              "    }\n",
              "    60% {\n",
              "      border-color: transparent;\n",
              "      border-right-color: var(--fill-color);\n",
              "    }\n",
              "    80% {\n",
              "      border-color: transparent;\n",
              "      border-right-color: var(--fill-color);\n",
              "      border-bottom-color: var(--fill-color);\n",
              "    }\n",
              "    90% {\n",
              "      border-color: transparent;\n",
              "      border-bottom-color: var(--fill-color);\n",
              "    }\n",
              "  }\n",
              "</style>\n",
              "\n",
              "      <script>\n",
              "        async function quickchart(key) {\n",
              "          const quickchartButtonEl =\n",
              "            document.querySelector('#' + key + ' button');\n",
              "          quickchartButtonEl.disabled = true;  // To prevent multiple clicks.\n",
              "          quickchartButtonEl.classList.add('colab-df-spinner');\n",
              "          try {\n",
              "            const charts = await google.colab.kernel.invokeFunction(\n",
              "                'suggestCharts', [key], {});\n",
              "          } catch (error) {\n",
              "            console.error('Error during call to suggestCharts:', error);\n",
              "          }\n",
              "          quickchartButtonEl.classList.remove('colab-df-spinner');\n",
              "          quickchartButtonEl.classList.add('colab-df-quickchart-complete');\n",
              "        }\n",
              "        (() => {\n",
              "          let quickchartButtonEl =\n",
              "            document.querySelector('#df-49a142ae-60d5-49e7-86c3-ea1a9b4caffb button');\n",
              "          quickchartButtonEl.style.display =\n",
              "            google.colab.kernel.accessAllowed ? 'block' : 'none';\n",
              "        })();\n",
              "      </script>\n",
              "    </div>\n",
              "\n",
              "    </div>\n",
              "  </div>\n"
            ],
            "application/vnd.google.colaboratory.intrinsic+json": {
              "type": "dataframe",
              "variable_name": "df"
            }
          },
          "metadata": {},
          "execution_count": 19
        }
      ]
    },
    {
      "cell_type": "code",
      "source": [
        "df.tail()"
      ],
      "metadata": {
        "colab": {
          "base_uri": "https://localhost:8080/",
          "height": 516
        },
        "id": "izBtb0_CxVxd",
        "outputId": "fd712069-aa27-4dc9-c551-9f9886f3216a"
      },
      "execution_count": null,
      "outputs": [
        {
          "output_type": "execute_result",
          "data": {
            "text/plain": [
              "                                          CGtC98 href  \\\n",
              "21  https://www.flipkart.com/samsung-galaxy-s25-ul...   \n",
              "22  https://www.flipkart.com/vivo-v50-5g-rose-red-...   \n",
              "23  https://www.flipkart.com/samsung-galaxy-s24-5g...   \n",
              "24                                                NaN   \n",
              "25                                                NaN   \n",
              "\n",
              "                                           DByuf4 src          uu79Xy  \\\n",
              "21  https://rukminim2.flixcart.com/image/312/312/x...  Add to Compare   \n",
              "22  https://rukminim2.flixcart.com/image/312/312/x...  Add to Compare   \n",
              "23  https://rukminim2.flixcart.com/image/312/312/x...  Add to Compare   \n",
              "24                                                NaN             NaN   \n",
              "25                                                NaN             NaN   \n",
              "\n",
              "                                               KzDlHZ  XQDdHH  \\\n",
              "21  Samsung Galaxy S25 Ultra 5G (Titanium Silverbl...     4.7   \n",
              "22                     vivo V50 5G (Rose Red, 512 GB)     4.5   \n",
              "23        Samsung Galaxy S24+ 5G (Onyx Black, 256 GB)     4.5   \n",
              "24                                                NaN     NaN   \n",
              "25                                                NaN     NaN   \n",
              "\n",
              "                                           Rza2QY src         Wphh3N hG7V+4  \\\n",
              "21  data:image/svg+xml;base64,PHN2ZyB4bWxucz0iaHR0...  1,695 Ratings      &   \n",
              "22  data:image/svg+xml;base64,PHN2ZyB4bWxucz0iaHR0...  1,401 Ratings      &   \n",
              "23  data:image/svg+xml;base64,PHN2ZyB4bWxucz0iaHR0...  9,624 Ratings      &   \n",
              "24                                                NaN            NaN    NaN   \n",
              "25                                                NaN            NaN    NaN   \n",
              "\n",
              "       Wphh3N 2                  J+igdf  ...  \\\n",
              "21  203 Reviews  12 GB RAM | 256 GB ROM  ...   \n",
              "22  131 Reviews  12 GB RAM | 512 GB ROM  ...   \n",
              "23  735 Reviews  12 GB RAM | 256 GB ROM  ...   \n",
              "24          NaN                     NaN  ...   \n",
              "25          NaN                     NaN  ...   \n",
              "\n",
              "                                             J+igdf 6     Nx9bqj     yRaY8j  \\\n",
              "21  1 Year Manufacturer Warranty for Device and 6 ...  ₹1,17,999  ₹1,29,999   \n",
              "22  1 Year Manufacturer Warranty for Device and 6 ...    ₹40,999    ₹48,999   \n",
              "23  1 Year Manufacturer Warranty for Device and 6 ...    ₹52,999    ₹99,999   \n",
              "24                                                NaN        NaN        NaN   \n",
              "25                                                NaN        NaN        NaN   \n",
              "\n",
              "     UkUFwK         yiggsN                                        _0CSTHy src  \\\n",
              "21   9% off  Free delivery  https://static-assets-web.flixcart.com/fk-p-li...   \n",
              "22  16% off  Free delivery  https://static-assets-web.flixcart.com/fk-p-li...   \n",
              "23  47% off  Free delivery  https://static-assets-web.flixcart.com/fk-p-li...   \n",
              "24      NaN            NaN                                                NaN   \n",
              "25      NaN            NaN                                                NaN   \n",
              "\n",
              "                    yiggsN 2       yiggsN 3 yiggsN 4         yiggsN 5  \n",
              "21                Saver Deal           Upto  ₹45,150  Off on Exchange  \n",
              "22             Only few left           Upto  ₹31,000  Off on Exchange  \n",
              "23  Top Discount of the Sale  Only few left      NaN              NaN  \n",
              "24                       NaN            NaN      NaN              NaN  \n",
              "25                       NaN            NaN      NaN              NaN  \n",
              "\n",
              "[5 rows x 24 columns]"
            ],
            "text/html": [
              "\n",
              "  <div id=\"df-bc5d2c0a-9a23-4b40-8db6-d47899152161\" class=\"colab-df-container\">\n",
              "    <div>\n",
              "<style scoped>\n",
              "    .dataframe tbody tr th:only-of-type {\n",
              "        vertical-align: middle;\n",
              "    }\n",
              "\n",
              "    .dataframe tbody tr th {\n",
              "        vertical-align: top;\n",
              "    }\n",
              "\n",
              "    .dataframe thead th {\n",
              "        text-align: right;\n",
              "    }\n",
              "</style>\n",
              "<table border=\"1\" class=\"dataframe\">\n",
              "  <thead>\n",
              "    <tr style=\"text-align: right;\">\n",
              "      <th></th>\n",
              "      <th>CGtC98 href</th>\n",
              "      <th>DByuf4 src</th>\n",
              "      <th>uu79Xy</th>\n",
              "      <th>KzDlHZ</th>\n",
              "      <th>XQDdHH</th>\n",
              "      <th>Rza2QY src</th>\n",
              "      <th>Wphh3N</th>\n",
              "      <th>hG7V+4</th>\n",
              "      <th>Wphh3N 2</th>\n",
              "      <th>J+igdf</th>\n",
              "      <th>...</th>\n",
              "      <th>J+igdf 6</th>\n",
              "      <th>Nx9bqj</th>\n",
              "      <th>yRaY8j</th>\n",
              "      <th>UkUFwK</th>\n",
              "      <th>yiggsN</th>\n",
              "      <th>_0CSTHy src</th>\n",
              "      <th>yiggsN 2</th>\n",
              "      <th>yiggsN 3</th>\n",
              "      <th>yiggsN 4</th>\n",
              "      <th>yiggsN 5</th>\n",
              "    </tr>\n",
              "  </thead>\n",
              "  <tbody>\n",
              "    <tr>\n",
              "      <th>21</th>\n",
              "      <td>https://www.flipkart.com/samsung-galaxy-s25-ul...</td>\n",
              "      <td>https://rukminim2.flixcart.com/image/312/312/x...</td>\n",
              "      <td>Add to Compare</td>\n",
              "      <td>Samsung Galaxy S25 Ultra 5G (Titanium Silverbl...</td>\n",
              "      <td>4.7</td>\n",
              "      <td>data:image/svg+xml;base64,PHN2ZyB4bWxucz0iaHR0...</td>\n",
              "      <td>1,695 Ratings</td>\n",
              "      <td>&amp;</td>\n",
              "      <td>203 Reviews</td>\n",
              "      <td>12 GB RAM | 256 GB ROM</td>\n",
              "      <td>...</td>\n",
              "      <td>1 Year Manufacturer Warranty for Device and 6 ...</td>\n",
              "      <td>₹1,17,999</td>\n",
              "      <td>₹1,29,999</td>\n",
              "      <td>9% off</td>\n",
              "      <td>Free delivery</td>\n",
              "      <td>https://static-assets-web.flixcart.com/fk-p-li...</td>\n",
              "      <td>Saver Deal</td>\n",
              "      <td>Upto</td>\n",
              "      <td>₹45,150</td>\n",
              "      <td>Off on Exchange</td>\n",
              "    </tr>\n",
              "    <tr>\n",
              "      <th>22</th>\n",
              "      <td>https://www.flipkart.com/vivo-v50-5g-rose-red-...</td>\n",
              "      <td>https://rukminim2.flixcart.com/image/312/312/x...</td>\n",
              "      <td>Add to Compare</td>\n",
              "      <td>vivo V50 5G (Rose Red, 512 GB)</td>\n",
              "      <td>4.5</td>\n",
              "      <td>data:image/svg+xml;base64,PHN2ZyB4bWxucz0iaHR0...</td>\n",
              "      <td>1,401 Ratings</td>\n",
              "      <td>&amp;</td>\n",
              "      <td>131 Reviews</td>\n",
              "      <td>12 GB RAM | 512 GB ROM</td>\n",
              "      <td>...</td>\n",
              "      <td>1 Year Manufacturer Warranty for Device and 6 ...</td>\n",
              "      <td>₹40,999</td>\n",
              "      <td>₹48,999</td>\n",
              "      <td>16% off</td>\n",
              "      <td>Free delivery</td>\n",
              "      <td>https://static-assets-web.flixcart.com/fk-p-li...</td>\n",
              "      <td>Only few left</td>\n",
              "      <td>Upto</td>\n",
              "      <td>₹31,000</td>\n",
              "      <td>Off on Exchange</td>\n",
              "    </tr>\n",
              "    <tr>\n",
              "      <th>23</th>\n",
              "      <td>https://www.flipkart.com/samsung-galaxy-s24-5g...</td>\n",
              "      <td>https://rukminim2.flixcart.com/image/312/312/x...</td>\n",
              "      <td>Add to Compare</td>\n",
              "      <td>Samsung Galaxy S24+ 5G (Onyx Black, 256 GB)</td>\n",
              "      <td>4.5</td>\n",
              "      <td>data:image/svg+xml;base64,PHN2ZyB4bWxucz0iaHR0...</td>\n",
              "      <td>9,624 Ratings</td>\n",
              "      <td>&amp;</td>\n",
              "      <td>735 Reviews</td>\n",
              "      <td>12 GB RAM | 256 GB ROM</td>\n",
              "      <td>...</td>\n",
              "      <td>1 Year Manufacturer Warranty for Device and 6 ...</td>\n",
              "      <td>₹52,999</td>\n",
              "      <td>₹99,999</td>\n",
              "      <td>47% off</td>\n",
              "      <td>Free delivery</td>\n",
              "      <td>https://static-assets-web.flixcart.com/fk-p-li...</td>\n",
              "      <td>Top Discount of the Sale</td>\n",
              "      <td>Only few left</td>\n",
              "      <td>NaN</td>\n",
              "      <td>NaN</td>\n",
              "    </tr>\n",
              "    <tr>\n",
              "      <th>24</th>\n",
              "      <td>NaN</td>\n",
              "      <td>NaN</td>\n",
              "      <td>NaN</td>\n",
              "      <td>NaN</td>\n",
              "      <td>NaN</td>\n",
              "      <td>NaN</td>\n",
              "      <td>NaN</td>\n",
              "      <td>NaN</td>\n",
              "      <td>NaN</td>\n",
              "      <td>NaN</td>\n",
              "      <td>...</td>\n",
              "      <td>NaN</td>\n",
              "      <td>NaN</td>\n",
              "      <td>NaN</td>\n",
              "      <td>NaN</td>\n",
              "      <td>NaN</td>\n",
              "      <td>NaN</td>\n",
              "      <td>NaN</td>\n",
              "      <td>NaN</td>\n",
              "      <td>NaN</td>\n",
              "      <td>NaN</td>\n",
              "    </tr>\n",
              "    <tr>\n",
              "      <th>25</th>\n",
              "      <td>NaN</td>\n",
              "      <td>NaN</td>\n",
              "      <td>NaN</td>\n",
              "      <td>NaN</td>\n",
              "      <td>NaN</td>\n",
              "      <td>NaN</td>\n",
              "      <td>NaN</td>\n",
              "      <td>NaN</td>\n",
              "      <td>NaN</td>\n",
              "      <td>NaN</td>\n",
              "      <td>...</td>\n",
              "      <td>NaN</td>\n",
              "      <td>NaN</td>\n",
              "      <td>NaN</td>\n",
              "      <td>NaN</td>\n",
              "      <td>NaN</td>\n",
              "      <td>NaN</td>\n",
              "      <td>NaN</td>\n",
              "      <td>NaN</td>\n",
              "      <td>NaN</td>\n",
              "      <td>NaN</td>\n",
              "    </tr>\n",
              "  </tbody>\n",
              "</table>\n",
              "<p>5 rows × 24 columns</p>\n",
              "</div>\n",
              "    <div class=\"colab-df-buttons\">\n",
              "\n",
              "  <div class=\"colab-df-container\">\n",
              "    <button class=\"colab-df-convert\" onclick=\"convertToInteractive('df-bc5d2c0a-9a23-4b40-8db6-d47899152161')\"\n",
              "            title=\"Convert this dataframe to an interactive table.\"\n",
              "            style=\"display:none;\">\n",
              "\n",
              "  <svg xmlns=\"http://www.w3.org/2000/svg\" height=\"24px\" viewBox=\"0 -960 960 960\">\n",
              "    <path d=\"M120-120v-720h720v720H120Zm60-500h600v-160H180v160Zm220 220h160v-160H400v160Zm0 220h160v-160H400v160ZM180-400h160v-160H180v160Zm440 0h160v-160H620v160ZM180-180h160v-160H180v160Zm440 0h160v-160H620v160Z\"/>\n",
              "  </svg>\n",
              "    </button>\n",
              "\n",
              "  <style>\n",
              "    .colab-df-container {\n",
              "      display:flex;\n",
              "      gap: 12px;\n",
              "    }\n",
              "\n",
              "    .colab-df-convert {\n",
              "      background-color: #E8F0FE;\n",
              "      border: none;\n",
              "      border-radius: 50%;\n",
              "      cursor: pointer;\n",
              "      display: none;\n",
              "      fill: #1967D2;\n",
              "      height: 32px;\n",
              "      padding: 0 0 0 0;\n",
              "      width: 32px;\n",
              "    }\n",
              "\n",
              "    .colab-df-convert:hover {\n",
              "      background-color: #E2EBFA;\n",
              "      box-shadow: 0px 1px 2px rgba(60, 64, 67, 0.3), 0px 1px 3px 1px rgba(60, 64, 67, 0.15);\n",
              "      fill: #174EA6;\n",
              "    }\n",
              "\n",
              "    .colab-df-buttons div {\n",
              "      margin-bottom: 4px;\n",
              "    }\n",
              "\n",
              "    [theme=dark] .colab-df-convert {\n",
              "      background-color: #3B4455;\n",
              "      fill: #D2E3FC;\n",
              "    }\n",
              "\n",
              "    [theme=dark] .colab-df-convert:hover {\n",
              "      background-color: #434B5C;\n",
              "      box-shadow: 0px 1px 3px 1px rgba(0, 0, 0, 0.15);\n",
              "      filter: drop-shadow(0px 1px 2px rgba(0, 0, 0, 0.3));\n",
              "      fill: #FFFFFF;\n",
              "    }\n",
              "  </style>\n",
              "\n",
              "    <script>\n",
              "      const buttonEl =\n",
              "        document.querySelector('#df-bc5d2c0a-9a23-4b40-8db6-d47899152161 button.colab-df-convert');\n",
              "      buttonEl.style.display =\n",
              "        google.colab.kernel.accessAllowed ? 'block' : 'none';\n",
              "\n",
              "      async function convertToInteractive(key) {\n",
              "        const element = document.querySelector('#df-bc5d2c0a-9a23-4b40-8db6-d47899152161');\n",
              "        const dataTable =\n",
              "          await google.colab.kernel.invokeFunction('convertToInteractive',\n",
              "                                                    [key], {});\n",
              "        if (!dataTable) return;\n",
              "\n",
              "        const docLinkHtml = 'Like what you see? Visit the ' +\n",
              "          '<a target=\"_blank\" href=https://colab.research.google.com/notebooks/data_table.ipynb>data table notebook</a>'\n",
              "          + ' to learn more about interactive tables.';\n",
              "        element.innerHTML = '';\n",
              "        dataTable['output_type'] = 'display_data';\n",
              "        await google.colab.output.renderOutput(dataTable, element);\n",
              "        const docLink = document.createElement('div');\n",
              "        docLink.innerHTML = docLinkHtml;\n",
              "        element.appendChild(docLink);\n",
              "      }\n",
              "    </script>\n",
              "  </div>\n",
              "\n",
              "\n",
              "    <div id=\"df-7af0c69f-6e5c-4843-9b2f-8808861b0f31\">\n",
              "      <button class=\"colab-df-quickchart\" onclick=\"quickchart('df-7af0c69f-6e5c-4843-9b2f-8808861b0f31')\"\n",
              "                title=\"Suggest charts\"\n",
              "                style=\"display:none;\">\n",
              "\n",
              "<svg xmlns=\"http://www.w3.org/2000/svg\" height=\"24px\"viewBox=\"0 0 24 24\"\n",
              "     width=\"24px\">\n",
              "    <g>\n",
              "        <path d=\"M19 3H5c-1.1 0-2 .9-2 2v14c0 1.1.9 2 2 2h14c1.1 0 2-.9 2-2V5c0-1.1-.9-2-2-2zM9 17H7v-7h2v7zm4 0h-2V7h2v10zm4 0h-2v-4h2v4z\"/>\n",
              "    </g>\n",
              "</svg>\n",
              "      </button>\n",
              "\n",
              "<style>\n",
              "  .colab-df-quickchart {\n",
              "      --bg-color: #E8F0FE;\n",
              "      --fill-color: #1967D2;\n",
              "      --hover-bg-color: #E2EBFA;\n",
              "      --hover-fill-color: #174EA6;\n",
              "      --disabled-fill-color: #AAA;\n",
              "      --disabled-bg-color: #DDD;\n",
              "  }\n",
              "\n",
              "  [theme=dark] .colab-df-quickchart {\n",
              "      --bg-color: #3B4455;\n",
              "      --fill-color: #D2E3FC;\n",
              "      --hover-bg-color: #434B5C;\n",
              "      --hover-fill-color: #FFFFFF;\n",
              "      --disabled-bg-color: #3B4455;\n",
              "      --disabled-fill-color: #666;\n",
              "  }\n",
              "\n",
              "  .colab-df-quickchart {\n",
              "    background-color: var(--bg-color);\n",
              "    border: none;\n",
              "    border-radius: 50%;\n",
              "    cursor: pointer;\n",
              "    display: none;\n",
              "    fill: var(--fill-color);\n",
              "    height: 32px;\n",
              "    padding: 0;\n",
              "    width: 32px;\n",
              "  }\n",
              "\n",
              "  .colab-df-quickchart:hover {\n",
              "    background-color: var(--hover-bg-color);\n",
              "    box-shadow: 0 1px 2px rgba(60, 64, 67, 0.3), 0 1px 3px 1px rgba(60, 64, 67, 0.15);\n",
              "    fill: var(--button-hover-fill-color);\n",
              "  }\n",
              "\n",
              "  .colab-df-quickchart-complete:disabled,\n",
              "  .colab-df-quickchart-complete:disabled:hover {\n",
              "    background-color: var(--disabled-bg-color);\n",
              "    fill: var(--disabled-fill-color);\n",
              "    box-shadow: none;\n",
              "  }\n",
              "\n",
              "  .colab-df-spinner {\n",
              "    border: 2px solid var(--fill-color);\n",
              "    border-color: transparent;\n",
              "    border-bottom-color: var(--fill-color);\n",
              "    animation:\n",
              "      spin 1s steps(1) infinite;\n",
              "  }\n",
              "\n",
              "  @keyframes spin {\n",
              "    0% {\n",
              "      border-color: transparent;\n",
              "      border-bottom-color: var(--fill-color);\n",
              "      border-left-color: var(--fill-color);\n",
              "    }\n",
              "    20% {\n",
              "      border-color: transparent;\n",
              "      border-left-color: var(--fill-color);\n",
              "      border-top-color: var(--fill-color);\n",
              "    }\n",
              "    30% {\n",
              "      border-color: transparent;\n",
              "      border-left-color: var(--fill-color);\n",
              "      border-top-color: var(--fill-color);\n",
              "      border-right-color: var(--fill-color);\n",
              "    }\n",
              "    40% {\n",
              "      border-color: transparent;\n",
              "      border-right-color: var(--fill-color);\n",
              "      border-top-color: var(--fill-color);\n",
              "    }\n",
              "    60% {\n",
              "      border-color: transparent;\n",
              "      border-right-color: var(--fill-color);\n",
              "    }\n",
              "    80% {\n",
              "      border-color: transparent;\n",
              "      border-right-color: var(--fill-color);\n",
              "      border-bottom-color: var(--fill-color);\n",
              "    }\n",
              "    90% {\n",
              "      border-color: transparent;\n",
              "      border-bottom-color: var(--fill-color);\n",
              "    }\n",
              "  }\n",
              "</style>\n",
              "\n",
              "      <script>\n",
              "        async function quickchart(key) {\n",
              "          const quickchartButtonEl =\n",
              "            document.querySelector('#' + key + ' button');\n",
              "          quickchartButtonEl.disabled = true;  // To prevent multiple clicks.\n",
              "          quickchartButtonEl.classList.add('colab-df-spinner');\n",
              "          try {\n",
              "            const charts = await google.colab.kernel.invokeFunction(\n",
              "                'suggestCharts', [key], {});\n",
              "          } catch (error) {\n",
              "            console.error('Error during call to suggestCharts:', error);\n",
              "          }\n",
              "          quickchartButtonEl.classList.remove('colab-df-spinner');\n",
              "          quickchartButtonEl.classList.add('colab-df-quickchart-complete');\n",
              "        }\n",
              "        (() => {\n",
              "          let quickchartButtonEl =\n",
              "            document.querySelector('#df-7af0c69f-6e5c-4843-9b2f-8808861b0f31 button');\n",
              "          quickchartButtonEl.style.display =\n",
              "            google.colab.kernel.accessAllowed ? 'block' : 'none';\n",
              "        })();\n",
              "      </script>\n",
              "    </div>\n",
              "\n",
              "    </div>\n",
              "  </div>\n"
            ],
            "application/vnd.google.colaboratory.intrinsic+json": {
              "type": "dataframe"
            }
          },
          "metadata": {},
          "execution_count": 20
        }
      ]
    },
    {
      "cell_type": "code",
      "source": [
        "df.info()"
      ],
      "metadata": {
        "colab": {
          "base_uri": "https://localhost:8080/"
        },
        "id": "o1WHCvSjyXyT",
        "outputId": "8e21bfd1-210b-4215-c405-086eb4867b7d"
      },
      "execution_count": null,
      "outputs": [
        {
          "output_type": "stream",
          "name": "stdout",
          "text": [
            "<class 'pandas.core.frame.DataFrame'>\n",
            "RangeIndex: 26 entries, 0 to 25\n",
            "Data columns (total 24 columns):\n",
            " #   Column       Non-Null Count  Dtype  \n",
            "---  ------       --------------  -----  \n",
            " 0   CGtC98 href  24 non-null     object \n",
            " 1   DByuf4 src   24 non-null     object \n",
            " 2   uu79Xy       24 non-null     object \n",
            " 3   KzDlHZ       24 non-null     object \n",
            " 4   XQDdHH       24 non-null     float64\n",
            " 5   Rza2QY src   24 non-null     object \n",
            " 6   Wphh3N       24 non-null     object \n",
            " 7   hG7V+4       24 non-null     object \n",
            " 8   Wphh3N 2     24 non-null     object \n",
            " 9   J+igdf       24 non-null     object \n",
            " 10  J+igdf 2     24 non-null     object \n",
            " 11  J+igdf 3     24 non-null     object \n",
            " 12  J+igdf 4     24 non-null     object \n",
            " 13  J+igdf 5     24 non-null     object \n",
            " 14  J+igdf 6     17 non-null     object \n",
            " 15  Nx9bqj       24 non-null     object \n",
            " 16  yRaY8j       23 non-null     object \n",
            " 17  UkUFwK       23 non-null     object \n",
            " 18  yiggsN       24 non-null     object \n",
            " 19  _0CSTHy src  24 non-null     object \n",
            " 20  yiggsN 2     24 non-null     object \n",
            " 21  yiggsN 3     24 non-null     object \n",
            " 22  yiggsN 4     22 non-null     object \n",
            " 23  yiggsN 5     22 non-null     object \n",
            "dtypes: float64(1), object(23)\n",
            "memory usage: 5.0+ KB\n"
          ]
        }
      ]
    },
    {
      "cell_type": "code",
      "source": [
        "import numpy as np\n",
        "import pandas as pd"
      ],
      "metadata": {
        "id": "SLV4UvZ93M_5"
      },
      "execution_count": null,
      "outputs": []
    },
    {
      "cell_type": "code",
      "source": [
        "a={\n",
        "    \"stu_roll_no\":[1,2,3,4,5,6,7,8,9,10],\n",
        "    \"stu_name\":[\"murari\",\"jassi\",\"vinod\",\"parmod\",\"parveen\",\"ramu\",\"dilip\",\"banti\",\"viju\",\"goutam\"],\n",
        "    \"stu_course\":[\"mca\",\"ba\",\"ba\",\"bcom\",\"bsc\",\"ba\",\"bsc\",\"ba\",\"bcom\",\"bsc\"],\n",
        "    \"stu_marks\":[66,55,60,65,70,50,36,58,70,85]\n",
        "}"
      ],
      "metadata": {
        "id": "1kxKb_qX_HyL"
      },
      "execution_count": null,
      "outputs": []
    },
    {
      "cell_type": "code",
      "source": [
        "df=pd.DataFrame(a)\n",
        "df"
      ],
      "metadata": {
        "id": "j2YKj34L_e1e",
        "outputId": "01d339d0-5a25-406d-c70d-b794ff39f299",
        "colab": {
          "base_uri": "https://localhost:8080/",
          "height": 363
        }
      },
      "execution_count": null,
      "outputs": [
        {
          "output_type": "execute_result",
          "data": {
            "text/plain": [
              "   stu_roll_no stu_name stu_course  stu_marks\n",
              "0            1   murari        mca         66\n",
              "1            2    jassi         ba         55\n",
              "2            3    vinod         ba         60\n",
              "3            4   parmod       bcom         65\n",
              "4            5  parveen        bsc         70\n",
              "5            6     ramu         ba         50\n",
              "6            7    dilip        bsc         36\n",
              "7            8    banti         ba         58\n",
              "8            9     viju       bcom         70\n",
              "9           10   goutam        bsc         85"
            ],
            "text/html": [
              "\n",
              "  <div id=\"df-2706ced7-d24a-42cb-820f-f3c8d64a6530\" class=\"colab-df-container\">\n",
              "    <div>\n",
              "<style scoped>\n",
              "    .dataframe tbody tr th:only-of-type {\n",
              "        vertical-align: middle;\n",
              "    }\n",
              "\n",
              "    .dataframe tbody tr th {\n",
              "        vertical-align: top;\n",
              "    }\n",
              "\n",
              "    .dataframe thead th {\n",
              "        text-align: right;\n",
              "    }\n",
              "</style>\n",
              "<table border=\"1\" class=\"dataframe\">\n",
              "  <thead>\n",
              "    <tr style=\"text-align: right;\">\n",
              "      <th></th>\n",
              "      <th>stu_roll_no</th>\n",
              "      <th>stu_name</th>\n",
              "      <th>stu_course</th>\n",
              "      <th>stu_marks</th>\n",
              "    </tr>\n",
              "  </thead>\n",
              "  <tbody>\n",
              "    <tr>\n",
              "      <th>0</th>\n",
              "      <td>1</td>\n",
              "      <td>murari</td>\n",
              "      <td>mca</td>\n",
              "      <td>66</td>\n",
              "    </tr>\n",
              "    <tr>\n",
              "      <th>1</th>\n",
              "      <td>2</td>\n",
              "      <td>jassi</td>\n",
              "      <td>ba</td>\n",
              "      <td>55</td>\n",
              "    </tr>\n",
              "    <tr>\n",
              "      <th>2</th>\n",
              "      <td>3</td>\n",
              "      <td>vinod</td>\n",
              "      <td>ba</td>\n",
              "      <td>60</td>\n",
              "    </tr>\n",
              "    <tr>\n",
              "      <th>3</th>\n",
              "      <td>4</td>\n",
              "      <td>parmod</td>\n",
              "      <td>bcom</td>\n",
              "      <td>65</td>\n",
              "    </tr>\n",
              "    <tr>\n",
              "      <th>4</th>\n",
              "      <td>5</td>\n",
              "      <td>parveen</td>\n",
              "      <td>bsc</td>\n",
              "      <td>70</td>\n",
              "    </tr>\n",
              "    <tr>\n",
              "      <th>5</th>\n",
              "      <td>6</td>\n",
              "      <td>ramu</td>\n",
              "      <td>ba</td>\n",
              "      <td>50</td>\n",
              "    </tr>\n",
              "    <tr>\n",
              "      <th>6</th>\n",
              "      <td>7</td>\n",
              "      <td>dilip</td>\n",
              "      <td>bsc</td>\n",
              "      <td>36</td>\n",
              "    </tr>\n",
              "    <tr>\n",
              "      <th>7</th>\n",
              "      <td>8</td>\n",
              "      <td>banti</td>\n",
              "      <td>ba</td>\n",
              "      <td>58</td>\n",
              "    </tr>\n",
              "    <tr>\n",
              "      <th>8</th>\n",
              "      <td>9</td>\n",
              "      <td>viju</td>\n",
              "      <td>bcom</td>\n",
              "      <td>70</td>\n",
              "    </tr>\n",
              "    <tr>\n",
              "      <th>9</th>\n",
              "      <td>10</td>\n",
              "      <td>goutam</td>\n",
              "      <td>bsc</td>\n",
              "      <td>85</td>\n",
              "    </tr>\n",
              "  </tbody>\n",
              "</table>\n",
              "</div>\n",
              "    <div class=\"colab-df-buttons\">\n",
              "\n",
              "  <div class=\"colab-df-container\">\n",
              "    <button class=\"colab-df-convert\" onclick=\"convertToInteractive('df-2706ced7-d24a-42cb-820f-f3c8d64a6530')\"\n",
              "            title=\"Convert this dataframe to an interactive table.\"\n",
              "            style=\"display:none;\">\n",
              "\n",
              "  <svg xmlns=\"http://www.w3.org/2000/svg\" height=\"24px\" viewBox=\"0 -960 960 960\">\n",
              "    <path d=\"M120-120v-720h720v720H120Zm60-500h600v-160H180v160Zm220 220h160v-160H400v160Zm0 220h160v-160H400v160ZM180-400h160v-160H180v160Zm440 0h160v-160H620v160ZM180-180h160v-160H180v160Zm440 0h160v-160H620v160Z\"/>\n",
              "  </svg>\n",
              "    </button>\n",
              "\n",
              "  <style>\n",
              "    .colab-df-container {\n",
              "      display:flex;\n",
              "      gap: 12px;\n",
              "    }\n",
              "\n",
              "    .colab-df-convert {\n",
              "      background-color: #E8F0FE;\n",
              "      border: none;\n",
              "      border-radius: 50%;\n",
              "      cursor: pointer;\n",
              "      display: none;\n",
              "      fill: #1967D2;\n",
              "      height: 32px;\n",
              "      padding: 0 0 0 0;\n",
              "      width: 32px;\n",
              "    }\n",
              "\n",
              "    .colab-df-convert:hover {\n",
              "      background-color: #E2EBFA;\n",
              "      box-shadow: 0px 1px 2px rgba(60, 64, 67, 0.3), 0px 1px 3px 1px rgba(60, 64, 67, 0.15);\n",
              "      fill: #174EA6;\n",
              "    }\n",
              "\n",
              "    .colab-df-buttons div {\n",
              "      margin-bottom: 4px;\n",
              "    }\n",
              "\n",
              "    [theme=dark] .colab-df-convert {\n",
              "      background-color: #3B4455;\n",
              "      fill: #D2E3FC;\n",
              "    }\n",
              "\n",
              "    [theme=dark] .colab-df-convert:hover {\n",
              "      background-color: #434B5C;\n",
              "      box-shadow: 0px 1px 3px 1px rgba(0, 0, 0, 0.15);\n",
              "      filter: drop-shadow(0px 1px 2px rgba(0, 0, 0, 0.3));\n",
              "      fill: #FFFFFF;\n",
              "    }\n",
              "  </style>\n",
              "\n",
              "    <script>\n",
              "      const buttonEl =\n",
              "        document.querySelector('#df-2706ced7-d24a-42cb-820f-f3c8d64a6530 button.colab-df-convert');\n",
              "      buttonEl.style.display =\n",
              "        google.colab.kernel.accessAllowed ? 'block' : 'none';\n",
              "\n",
              "      async function convertToInteractive(key) {\n",
              "        const element = document.querySelector('#df-2706ced7-d24a-42cb-820f-f3c8d64a6530');\n",
              "        const dataTable =\n",
              "          await google.colab.kernel.invokeFunction('convertToInteractive',\n",
              "                                                    [key], {});\n",
              "        if (!dataTable) return;\n",
              "\n",
              "        const docLinkHtml = 'Like what you see? Visit the ' +\n",
              "          '<a target=\"_blank\" href=https://colab.research.google.com/notebooks/data_table.ipynb>data table notebook</a>'\n",
              "          + ' to learn more about interactive tables.';\n",
              "        element.innerHTML = '';\n",
              "        dataTable['output_type'] = 'display_data';\n",
              "        await google.colab.output.renderOutput(dataTable, element);\n",
              "        const docLink = document.createElement('div');\n",
              "        docLink.innerHTML = docLinkHtml;\n",
              "        element.appendChild(docLink);\n",
              "      }\n",
              "    </script>\n",
              "  </div>\n",
              "\n",
              "\n",
              "    <div id=\"df-277b04b4-d1e0-45de-a446-b54b88b86f44\">\n",
              "      <button class=\"colab-df-quickchart\" onclick=\"quickchart('df-277b04b4-d1e0-45de-a446-b54b88b86f44')\"\n",
              "                title=\"Suggest charts\"\n",
              "                style=\"display:none;\">\n",
              "\n",
              "<svg xmlns=\"http://www.w3.org/2000/svg\" height=\"24px\"viewBox=\"0 0 24 24\"\n",
              "     width=\"24px\">\n",
              "    <g>\n",
              "        <path d=\"M19 3H5c-1.1 0-2 .9-2 2v14c0 1.1.9 2 2 2h14c1.1 0 2-.9 2-2V5c0-1.1-.9-2-2-2zM9 17H7v-7h2v7zm4 0h-2V7h2v10zm4 0h-2v-4h2v4z\"/>\n",
              "    </g>\n",
              "</svg>\n",
              "      </button>\n",
              "\n",
              "<style>\n",
              "  .colab-df-quickchart {\n",
              "      --bg-color: #E8F0FE;\n",
              "      --fill-color: #1967D2;\n",
              "      --hover-bg-color: #E2EBFA;\n",
              "      --hover-fill-color: #174EA6;\n",
              "      --disabled-fill-color: #AAA;\n",
              "      --disabled-bg-color: #DDD;\n",
              "  }\n",
              "\n",
              "  [theme=dark] .colab-df-quickchart {\n",
              "      --bg-color: #3B4455;\n",
              "      --fill-color: #D2E3FC;\n",
              "      --hover-bg-color: #434B5C;\n",
              "      --hover-fill-color: #FFFFFF;\n",
              "      --disabled-bg-color: #3B4455;\n",
              "      --disabled-fill-color: #666;\n",
              "  }\n",
              "\n",
              "  .colab-df-quickchart {\n",
              "    background-color: var(--bg-color);\n",
              "    border: none;\n",
              "    border-radius: 50%;\n",
              "    cursor: pointer;\n",
              "    display: none;\n",
              "    fill: var(--fill-color);\n",
              "    height: 32px;\n",
              "    padding: 0;\n",
              "    width: 32px;\n",
              "  }\n",
              "\n",
              "  .colab-df-quickchart:hover {\n",
              "    background-color: var(--hover-bg-color);\n",
              "    box-shadow: 0 1px 2px rgba(60, 64, 67, 0.3), 0 1px 3px 1px rgba(60, 64, 67, 0.15);\n",
              "    fill: var(--button-hover-fill-color);\n",
              "  }\n",
              "\n",
              "  .colab-df-quickchart-complete:disabled,\n",
              "  .colab-df-quickchart-complete:disabled:hover {\n",
              "    background-color: var(--disabled-bg-color);\n",
              "    fill: var(--disabled-fill-color);\n",
              "    box-shadow: none;\n",
              "  }\n",
              "\n",
              "  .colab-df-spinner {\n",
              "    border: 2px solid var(--fill-color);\n",
              "    border-color: transparent;\n",
              "    border-bottom-color: var(--fill-color);\n",
              "    animation:\n",
              "      spin 1s steps(1) infinite;\n",
              "  }\n",
              "\n",
              "  @keyframes spin {\n",
              "    0% {\n",
              "      border-color: transparent;\n",
              "      border-bottom-color: var(--fill-color);\n",
              "      border-left-color: var(--fill-color);\n",
              "    }\n",
              "    20% {\n",
              "      border-color: transparent;\n",
              "      border-left-color: var(--fill-color);\n",
              "      border-top-color: var(--fill-color);\n",
              "    }\n",
              "    30% {\n",
              "      border-color: transparent;\n",
              "      border-left-color: var(--fill-color);\n",
              "      border-top-color: var(--fill-color);\n",
              "      border-right-color: var(--fill-color);\n",
              "    }\n",
              "    40% {\n",
              "      border-color: transparent;\n",
              "      border-right-color: var(--fill-color);\n",
              "      border-top-color: var(--fill-color);\n",
              "    }\n",
              "    60% {\n",
              "      border-color: transparent;\n",
              "      border-right-color: var(--fill-color);\n",
              "    }\n",
              "    80% {\n",
              "      border-color: transparent;\n",
              "      border-right-color: var(--fill-color);\n",
              "      border-bottom-color: var(--fill-color);\n",
              "    }\n",
              "    90% {\n",
              "      border-color: transparent;\n",
              "      border-bottom-color: var(--fill-color);\n",
              "    }\n",
              "  }\n",
              "</style>\n",
              "\n",
              "      <script>\n",
              "        async function quickchart(key) {\n",
              "          const quickchartButtonEl =\n",
              "            document.querySelector('#' + key + ' button');\n",
              "          quickchartButtonEl.disabled = true;  // To prevent multiple clicks.\n",
              "          quickchartButtonEl.classList.add('colab-df-spinner');\n",
              "          try {\n",
              "            const charts = await google.colab.kernel.invokeFunction(\n",
              "                'suggestCharts', [key], {});\n",
              "          } catch (error) {\n",
              "            console.error('Error during call to suggestCharts:', error);\n",
              "          }\n",
              "          quickchartButtonEl.classList.remove('colab-df-spinner');\n",
              "          quickchartButtonEl.classList.add('colab-df-quickchart-complete');\n",
              "        }\n",
              "        (() => {\n",
              "          let quickchartButtonEl =\n",
              "            document.querySelector('#df-277b04b4-d1e0-45de-a446-b54b88b86f44 button');\n",
              "          quickchartButtonEl.style.display =\n",
              "            google.colab.kernel.accessAllowed ? 'block' : 'none';\n",
              "        })();\n",
              "      </script>\n",
              "    </div>\n",
              "\n",
              "  <div id=\"id_18b2ea01-03f5-494c-93a8-b186b5eb6225\">\n",
              "    <style>\n",
              "      .colab-df-generate {\n",
              "        background-color: #E8F0FE;\n",
              "        border: none;\n",
              "        border-radius: 50%;\n",
              "        cursor: pointer;\n",
              "        display: none;\n",
              "        fill: #1967D2;\n",
              "        height: 32px;\n",
              "        padding: 0 0 0 0;\n",
              "        width: 32px;\n",
              "      }\n",
              "\n",
              "      .colab-df-generate:hover {\n",
              "        background-color: #E2EBFA;\n",
              "        box-shadow: 0px 1px 2px rgba(60, 64, 67, 0.3), 0px 1px 3px 1px rgba(60, 64, 67, 0.15);\n",
              "        fill: #174EA6;\n",
              "      }\n",
              "\n",
              "      [theme=dark] .colab-df-generate {\n",
              "        background-color: #3B4455;\n",
              "        fill: #D2E3FC;\n",
              "      }\n",
              "\n",
              "      [theme=dark] .colab-df-generate:hover {\n",
              "        background-color: #434B5C;\n",
              "        box-shadow: 0px 1px 3px 1px rgba(0, 0, 0, 0.15);\n",
              "        filter: drop-shadow(0px 1px 2px rgba(0, 0, 0, 0.3));\n",
              "        fill: #FFFFFF;\n",
              "      }\n",
              "    </style>\n",
              "    <button class=\"colab-df-generate\" onclick=\"generateWithVariable('df')\"\n",
              "            title=\"Generate code using this dataframe.\"\n",
              "            style=\"display:none;\">\n",
              "\n",
              "  <svg xmlns=\"http://www.w3.org/2000/svg\" height=\"24px\"viewBox=\"0 0 24 24\"\n",
              "       width=\"24px\">\n",
              "    <path d=\"M7,19H8.4L18.45,9,17,7.55,7,17.6ZM5,21V16.75L18.45,3.32a2,2,0,0,1,2.83,0l1.4,1.43a1.91,1.91,0,0,1,.58,1.4,1.91,1.91,0,0,1-.58,1.4L9.25,21ZM18.45,9,17,7.55Zm-12,3A5.31,5.31,0,0,0,4.9,8.1,5.31,5.31,0,0,0,1,6.5,5.31,5.31,0,0,0,4.9,4.9,5.31,5.31,0,0,0,6.5,1,5.31,5.31,0,0,0,8.1,4.9,5.31,5.31,0,0,0,12,6.5,5.46,5.46,0,0,0,6.5,12Z\"/>\n",
              "  </svg>\n",
              "    </button>\n",
              "    <script>\n",
              "      (() => {\n",
              "      const buttonEl =\n",
              "        document.querySelector('#id_18b2ea01-03f5-494c-93a8-b186b5eb6225 button.colab-df-generate');\n",
              "      buttonEl.style.display =\n",
              "        google.colab.kernel.accessAllowed ? 'block' : 'none';\n",
              "\n",
              "      buttonEl.onclick = () => {\n",
              "        google.colab.notebook.generateWithVariable('df');\n",
              "      }\n",
              "      })();\n",
              "    </script>\n",
              "  </div>\n",
              "\n",
              "    </div>\n",
              "  </div>\n"
            ],
            "application/vnd.google.colaboratory.intrinsic+json": {
              "type": "dataframe",
              "variable_name": "df",
              "summary": "{\n  \"name\": \"df\",\n  \"rows\": 10,\n  \"fields\": [\n    {\n      \"column\": \"stu_roll_no\",\n      \"properties\": {\n        \"dtype\": \"number\",\n        \"std\": 3,\n        \"min\": 1,\n        \"max\": 10,\n        \"num_unique_values\": 10,\n        \"samples\": [\n          9,\n          2,\n          6\n        ],\n        \"semantic_type\": \"\",\n        \"description\": \"\"\n      }\n    },\n    {\n      \"column\": \"stu_name\",\n      \"properties\": {\n        \"dtype\": \"string\",\n        \"num_unique_values\": 10,\n        \"samples\": [\n          \"viju\",\n          \"jassi\",\n          \"ramu\"\n        ],\n        \"semantic_type\": \"\",\n        \"description\": \"\"\n      }\n    },\n    {\n      \"column\": \"stu_course\",\n      \"properties\": {\n        \"dtype\": \"category\",\n        \"num_unique_values\": 4,\n        \"samples\": [\n          \"ba\",\n          \"bsc\",\n          \"mca\"\n        ],\n        \"semantic_type\": \"\",\n        \"description\": \"\"\n      }\n    },\n    {\n      \"column\": \"stu_marks\",\n      \"properties\": {\n        \"dtype\": \"number\",\n        \"std\": 13,\n        \"min\": 36,\n        \"max\": 85,\n        \"num_unique_values\": 9,\n        \"samples\": [\n          58,\n          55,\n          50\n        ],\n        \"semantic_type\": \"\",\n        \"description\": \"\"\n      }\n    }\n  ]\n}"
            }
          },
          "metadata": {},
          "execution_count": 3
        }
      ]
    },
    {
      "cell_type": "code",
      "source": [
        "df.to_csv(\"/content/stu_data\")"
      ],
      "metadata": {
        "id": "GzIKF3fb_h5U"
      },
      "execution_count": null,
      "outputs": []
    },
    {
      "cell_type": "code",
      "source": [
        "df=pd.read_csv(\"/content/stu_data\")\n",
        "df"
      ],
      "metadata": {
        "colab": {
          "base_uri": "https://localhost:8080/",
          "height": 363
        },
        "id": "hbUP3pQKAK_u",
        "outputId": "a85a5efd-700f-4660-b889-50054b1e5b6c"
      },
      "execution_count": null,
      "outputs": [
        {
          "output_type": "execute_result",
          "data": {
            "text/plain": [
              "   Unnamed: 0  stu_roll_no stu_name stu_course  stu_marks\n",
              "0           0            1   murari        mca         66\n",
              "1           1            2    jassi         ba         55\n",
              "2           2            3    vinod         ba         60\n",
              "3           3            4   parmod       bcom         65\n",
              "4           4            5  parveen        bsc         70\n",
              "5           5            6     ramu         ba         50\n",
              "6           6            7    dilip        bsc         36\n",
              "7           7            8    banti         ba         58\n",
              "8           8            9     viju       bcom         70\n",
              "9           9           10   goutam        bsc         85"
            ],
            "text/html": [
              "\n",
              "  <div id=\"df-721ec683-8b8b-4ed7-a583-e4b379c5713f\" class=\"colab-df-container\">\n",
              "    <div>\n",
              "<style scoped>\n",
              "    .dataframe tbody tr th:only-of-type {\n",
              "        vertical-align: middle;\n",
              "    }\n",
              "\n",
              "    .dataframe tbody tr th {\n",
              "        vertical-align: top;\n",
              "    }\n",
              "\n",
              "    .dataframe thead th {\n",
              "        text-align: right;\n",
              "    }\n",
              "</style>\n",
              "<table border=\"1\" class=\"dataframe\">\n",
              "  <thead>\n",
              "    <tr style=\"text-align: right;\">\n",
              "      <th></th>\n",
              "      <th>Unnamed: 0</th>\n",
              "      <th>stu_roll_no</th>\n",
              "      <th>stu_name</th>\n",
              "      <th>stu_course</th>\n",
              "      <th>stu_marks</th>\n",
              "    </tr>\n",
              "  </thead>\n",
              "  <tbody>\n",
              "    <tr>\n",
              "      <th>0</th>\n",
              "      <td>0</td>\n",
              "      <td>1</td>\n",
              "      <td>murari</td>\n",
              "      <td>mca</td>\n",
              "      <td>66</td>\n",
              "    </tr>\n",
              "    <tr>\n",
              "      <th>1</th>\n",
              "      <td>1</td>\n",
              "      <td>2</td>\n",
              "      <td>jassi</td>\n",
              "      <td>ba</td>\n",
              "      <td>55</td>\n",
              "    </tr>\n",
              "    <tr>\n",
              "      <th>2</th>\n",
              "      <td>2</td>\n",
              "      <td>3</td>\n",
              "      <td>vinod</td>\n",
              "      <td>ba</td>\n",
              "      <td>60</td>\n",
              "    </tr>\n",
              "    <tr>\n",
              "      <th>3</th>\n",
              "      <td>3</td>\n",
              "      <td>4</td>\n",
              "      <td>parmod</td>\n",
              "      <td>bcom</td>\n",
              "      <td>65</td>\n",
              "    </tr>\n",
              "    <tr>\n",
              "      <th>4</th>\n",
              "      <td>4</td>\n",
              "      <td>5</td>\n",
              "      <td>parveen</td>\n",
              "      <td>bsc</td>\n",
              "      <td>70</td>\n",
              "    </tr>\n",
              "    <tr>\n",
              "      <th>5</th>\n",
              "      <td>5</td>\n",
              "      <td>6</td>\n",
              "      <td>ramu</td>\n",
              "      <td>ba</td>\n",
              "      <td>50</td>\n",
              "    </tr>\n",
              "    <tr>\n",
              "      <th>6</th>\n",
              "      <td>6</td>\n",
              "      <td>7</td>\n",
              "      <td>dilip</td>\n",
              "      <td>bsc</td>\n",
              "      <td>36</td>\n",
              "    </tr>\n",
              "    <tr>\n",
              "      <th>7</th>\n",
              "      <td>7</td>\n",
              "      <td>8</td>\n",
              "      <td>banti</td>\n",
              "      <td>ba</td>\n",
              "      <td>58</td>\n",
              "    </tr>\n",
              "    <tr>\n",
              "      <th>8</th>\n",
              "      <td>8</td>\n",
              "      <td>9</td>\n",
              "      <td>viju</td>\n",
              "      <td>bcom</td>\n",
              "      <td>70</td>\n",
              "    </tr>\n",
              "    <tr>\n",
              "      <th>9</th>\n",
              "      <td>9</td>\n",
              "      <td>10</td>\n",
              "      <td>goutam</td>\n",
              "      <td>bsc</td>\n",
              "      <td>85</td>\n",
              "    </tr>\n",
              "  </tbody>\n",
              "</table>\n",
              "</div>\n",
              "    <div class=\"colab-df-buttons\">\n",
              "\n",
              "  <div class=\"colab-df-container\">\n",
              "    <button class=\"colab-df-convert\" onclick=\"convertToInteractive('df-721ec683-8b8b-4ed7-a583-e4b379c5713f')\"\n",
              "            title=\"Convert this dataframe to an interactive table.\"\n",
              "            style=\"display:none;\">\n",
              "\n",
              "  <svg xmlns=\"http://www.w3.org/2000/svg\" height=\"24px\" viewBox=\"0 -960 960 960\">\n",
              "    <path d=\"M120-120v-720h720v720H120Zm60-500h600v-160H180v160Zm220 220h160v-160H400v160Zm0 220h160v-160H400v160ZM180-400h160v-160H180v160Zm440 0h160v-160H620v160ZM180-180h160v-160H180v160Zm440 0h160v-160H620v160Z\"/>\n",
              "  </svg>\n",
              "    </button>\n",
              "\n",
              "  <style>\n",
              "    .colab-df-container {\n",
              "      display:flex;\n",
              "      gap: 12px;\n",
              "    }\n",
              "\n",
              "    .colab-df-convert {\n",
              "      background-color: #E8F0FE;\n",
              "      border: none;\n",
              "      border-radius: 50%;\n",
              "      cursor: pointer;\n",
              "      display: none;\n",
              "      fill: #1967D2;\n",
              "      height: 32px;\n",
              "      padding: 0 0 0 0;\n",
              "      width: 32px;\n",
              "    }\n",
              "\n",
              "    .colab-df-convert:hover {\n",
              "      background-color: #E2EBFA;\n",
              "      box-shadow: 0px 1px 2px rgba(60, 64, 67, 0.3), 0px 1px 3px 1px rgba(60, 64, 67, 0.15);\n",
              "      fill: #174EA6;\n",
              "    }\n",
              "\n",
              "    .colab-df-buttons div {\n",
              "      margin-bottom: 4px;\n",
              "    }\n",
              "\n",
              "    [theme=dark] .colab-df-convert {\n",
              "      background-color: #3B4455;\n",
              "      fill: #D2E3FC;\n",
              "    }\n",
              "\n",
              "    [theme=dark] .colab-df-convert:hover {\n",
              "      background-color: #434B5C;\n",
              "      box-shadow: 0px 1px 3px 1px rgba(0, 0, 0, 0.15);\n",
              "      filter: drop-shadow(0px 1px 2px rgba(0, 0, 0, 0.3));\n",
              "      fill: #FFFFFF;\n",
              "    }\n",
              "  </style>\n",
              "\n",
              "    <script>\n",
              "      const buttonEl =\n",
              "        document.querySelector('#df-721ec683-8b8b-4ed7-a583-e4b379c5713f button.colab-df-convert');\n",
              "      buttonEl.style.display =\n",
              "        google.colab.kernel.accessAllowed ? 'block' : 'none';\n",
              "\n",
              "      async function convertToInteractive(key) {\n",
              "        const element = document.querySelector('#df-721ec683-8b8b-4ed7-a583-e4b379c5713f');\n",
              "        const dataTable =\n",
              "          await google.colab.kernel.invokeFunction('convertToInteractive',\n",
              "                                                    [key], {});\n",
              "        if (!dataTable) return;\n",
              "\n",
              "        const docLinkHtml = 'Like what you see? Visit the ' +\n",
              "          '<a target=\"_blank\" href=https://colab.research.google.com/notebooks/data_table.ipynb>data table notebook</a>'\n",
              "          + ' to learn more about interactive tables.';\n",
              "        element.innerHTML = '';\n",
              "        dataTable['output_type'] = 'display_data';\n",
              "        await google.colab.output.renderOutput(dataTable, element);\n",
              "        const docLink = document.createElement('div');\n",
              "        docLink.innerHTML = docLinkHtml;\n",
              "        element.appendChild(docLink);\n",
              "      }\n",
              "    </script>\n",
              "  </div>\n",
              "\n",
              "\n",
              "    <div id=\"df-1d8fa7ad-4ec7-47cd-9d04-f09bde32b011\">\n",
              "      <button class=\"colab-df-quickchart\" onclick=\"quickchart('df-1d8fa7ad-4ec7-47cd-9d04-f09bde32b011')\"\n",
              "                title=\"Suggest charts\"\n",
              "                style=\"display:none;\">\n",
              "\n",
              "<svg xmlns=\"http://www.w3.org/2000/svg\" height=\"24px\"viewBox=\"0 0 24 24\"\n",
              "     width=\"24px\">\n",
              "    <g>\n",
              "        <path d=\"M19 3H5c-1.1 0-2 .9-2 2v14c0 1.1.9 2 2 2h14c1.1 0 2-.9 2-2V5c0-1.1-.9-2-2-2zM9 17H7v-7h2v7zm4 0h-2V7h2v10zm4 0h-2v-4h2v4z\"/>\n",
              "    </g>\n",
              "</svg>\n",
              "      </button>\n",
              "\n",
              "<style>\n",
              "  .colab-df-quickchart {\n",
              "      --bg-color: #E8F0FE;\n",
              "      --fill-color: #1967D2;\n",
              "      --hover-bg-color: #E2EBFA;\n",
              "      --hover-fill-color: #174EA6;\n",
              "      --disabled-fill-color: #AAA;\n",
              "      --disabled-bg-color: #DDD;\n",
              "  }\n",
              "\n",
              "  [theme=dark] .colab-df-quickchart {\n",
              "      --bg-color: #3B4455;\n",
              "      --fill-color: #D2E3FC;\n",
              "      --hover-bg-color: #434B5C;\n",
              "      --hover-fill-color: #FFFFFF;\n",
              "      --disabled-bg-color: #3B4455;\n",
              "      --disabled-fill-color: #666;\n",
              "  }\n",
              "\n",
              "  .colab-df-quickchart {\n",
              "    background-color: var(--bg-color);\n",
              "    border: none;\n",
              "    border-radius: 50%;\n",
              "    cursor: pointer;\n",
              "    display: none;\n",
              "    fill: var(--fill-color);\n",
              "    height: 32px;\n",
              "    padding: 0;\n",
              "    width: 32px;\n",
              "  }\n",
              "\n",
              "  .colab-df-quickchart:hover {\n",
              "    background-color: var(--hover-bg-color);\n",
              "    box-shadow: 0 1px 2px rgba(60, 64, 67, 0.3), 0 1px 3px 1px rgba(60, 64, 67, 0.15);\n",
              "    fill: var(--button-hover-fill-color);\n",
              "  }\n",
              "\n",
              "  .colab-df-quickchart-complete:disabled,\n",
              "  .colab-df-quickchart-complete:disabled:hover {\n",
              "    background-color: var(--disabled-bg-color);\n",
              "    fill: var(--disabled-fill-color);\n",
              "    box-shadow: none;\n",
              "  }\n",
              "\n",
              "  .colab-df-spinner {\n",
              "    border: 2px solid var(--fill-color);\n",
              "    border-color: transparent;\n",
              "    border-bottom-color: var(--fill-color);\n",
              "    animation:\n",
              "      spin 1s steps(1) infinite;\n",
              "  }\n",
              "\n",
              "  @keyframes spin {\n",
              "    0% {\n",
              "      border-color: transparent;\n",
              "      border-bottom-color: var(--fill-color);\n",
              "      border-left-color: var(--fill-color);\n",
              "    }\n",
              "    20% {\n",
              "      border-color: transparent;\n",
              "      border-left-color: var(--fill-color);\n",
              "      border-top-color: var(--fill-color);\n",
              "    }\n",
              "    30% {\n",
              "      border-color: transparent;\n",
              "      border-left-color: var(--fill-color);\n",
              "      border-top-color: var(--fill-color);\n",
              "      border-right-color: var(--fill-color);\n",
              "    }\n",
              "    40% {\n",
              "      border-color: transparent;\n",
              "      border-right-color: var(--fill-color);\n",
              "      border-top-color: var(--fill-color);\n",
              "    }\n",
              "    60% {\n",
              "      border-color: transparent;\n",
              "      border-right-color: var(--fill-color);\n",
              "    }\n",
              "    80% {\n",
              "      border-color: transparent;\n",
              "      border-right-color: var(--fill-color);\n",
              "      border-bottom-color: var(--fill-color);\n",
              "    }\n",
              "    90% {\n",
              "      border-color: transparent;\n",
              "      border-bottom-color: var(--fill-color);\n",
              "    }\n",
              "  }\n",
              "</style>\n",
              "\n",
              "      <script>\n",
              "        async function quickchart(key) {\n",
              "          const quickchartButtonEl =\n",
              "            document.querySelector('#' + key + ' button');\n",
              "          quickchartButtonEl.disabled = true;  // To prevent multiple clicks.\n",
              "          quickchartButtonEl.classList.add('colab-df-spinner');\n",
              "          try {\n",
              "            const charts = await google.colab.kernel.invokeFunction(\n",
              "                'suggestCharts', [key], {});\n",
              "          } catch (error) {\n",
              "            console.error('Error during call to suggestCharts:', error);\n",
              "          }\n",
              "          quickchartButtonEl.classList.remove('colab-df-spinner');\n",
              "          quickchartButtonEl.classList.add('colab-df-quickchart-complete');\n",
              "        }\n",
              "        (() => {\n",
              "          let quickchartButtonEl =\n",
              "            document.querySelector('#df-1d8fa7ad-4ec7-47cd-9d04-f09bde32b011 button');\n",
              "          quickchartButtonEl.style.display =\n",
              "            google.colab.kernel.accessAllowed ? 'block' : 'none';\n",
              "        })();\n",
              "      </script>\n",
              "    </div>\n",
              "\n",
              "  <div id=\"id_eea3f8b6-6c2c-4131-8914-d95059a077d4\">\n",
              "    <style>\n",
              "      .colab-df-generate {\n",
              "        background-color: #E8F0FE;\n",
              "        border: none;\n",
              "        border-radius: 50%;\n",
              "        cursor: pointer;\n",
              "        display: none;\n",
              "        fill: #1967D2;\n",
              "        height: 32px;\n",
              "        padding: 0 0 0 0;\n",
              "        width: 32px;\n",
              "      }\n",
              "\n",
              "      .colab-df-generate:hover {\n",
              "        background-color: #E2EBFA;\n",
              "        box-shadow: 0px 1px 2px rgba(60, 64, 67, 0.3), 0px 1px 3px 1px rgba(60, 64, 67, 0.15);\n",
              "        fill: #174EA6;\n",
              "      }\n",
              "\n",
              "      [theme=dark] .colab-df-generate {\n",
              "        background-color: #3B4455;\n",
              "        fill: #D2E3FC;\n",
              "      }\n",
              "\n",
              "      [theme=dark] .colab-df-generate:hover {\n",
              "        background-color: #434B5C;\n",
              "        box-shadow: 0px 1px 3px 1px rgba(0, 0, 0, 0.15);\n",
              "        filter: drop-shadow(0px 1px 2px rgba(0, 0, 0, 0.3));\n",
              "        fill: #FFFFFF;\n",
              "      }\n",
              "    </style>\n",
              "    <button class=\"colab-df-generate\" onclick=\"generateWithVariable('df')\"\n",
              "            title=\"Generate code using this dataframe.\"\n",
              "            style=\"display:none;\">\n",
              "\n",
              "  <svg xmlns=\"http://www.w3.org/2000/svg\" height=\"24px\"viewBox=\"0 0 24 24\"\n",
              "       width=\"24px\">\n",
              "    <path d=\"M7,19H8.4L18.45,9,17,7.55,7,17.6ZM5,21V16.75L18.45,3.32a2,2,0,0,1,2.83,0l1.4,1.43a1.91,1.91,0,0,1,.58,1.4,1.91,1.91,0,0,1-.58,1.4L9.25,21ZM18.45,9,17,7.55Zm-12,3A5.31,5.31,0,0,0,4.9,8.1,5.31,5.31,0,0,0,1,6.5,5.31,5.31,0,0,0,4.9,4.9,5.31,5.31,0,0,0,6.5,1,5.31,5.31,0,0,0,8.1,4.9,5.31,5.31,0,0,0,12,6.5,5.46,5.46,0,0,0,6.5,12Z\"/>\n",
              "  </svg>\n",
              "    </button>\n",
              "    <script>\n",
              "      (() => {\n",
              "      const buttonEl =\n",
              "        document.querySelector('#id_eea3f8b6-6c2c-4131-8914-d95059a077d4 button.colab-df-generate');\n",
              "      buttonEl.style.display =\n",
              "        google.colab.kernel.accessAllowed ? 'block' : 'none';\n",
              "\n",
              "      buttonEl.onclick = () => {\n",
              "        google.colab.notebook.generateWithVariable('df');\n",
              "      }\n",
              "      })();\n",
              "    </script>\n",
              "  </div>\n",
              "\n",
              "    </div>\n",
              "  </div>\n"
            ],
            "application/vnd.google.colaboratory.intrinsic+json": {
              "type": "dataframe",
              "variable_name": "df",
              "summary": "{\n  \"name\": \"df\",\n  \"rows\": 10,\n  \"fields\": [\n    {\n      \"column\": \"Unnamed: 0\",\n      \"properties\": {\n        \"dtype\": \"number\",\n        \"std\": 3,\n        \"min\": 0,\n        \"max\": 9,\n        \"num_unique_values\": 10,\n        \"samples\": [\n          8,\n          1,\n          5\n        ],\n        \"semantic_type\": \"\",\n        \"description\": \"\"\n      }\n    },\n    {\n      \"column\": \"stu_roll_no\",\n      \"properties\": {\n        \"dtype\": \"number\",\n        \"std\": 3,\n        \"min\": 1,\n        \"max\": 10,\n        \"num_unique_values\": 10,\n        \"samples\": [\n          9,\n          2,\n          6\n        ],\n        \"semantic_type\": \"\",\n        \"description\": \"\"\n      }\n    },\n    {\n      \"column\": \"stu_name\",\n      \"properties\": {\n        \"dtype\": \"string\",\n        \"num_unique_values\": 10,\n        \"samples\": [\n          \"viju\",\n          \"jassi\",\n          \"ramu\"\n        ],\n        \"semantic_type\": \"\",\n        \"description\": \"\"\n      }\n    },\n    {\n      \"column\": \"stu_course\",\n      \"properties\": {\n        \"dtype\": \"category\",\n        \"num_unique_values\": 4,\n        \"samples\": [\n          \"ba\",\n          \"bsc\",\n          \"mca\"\n        ],\n        \"semantic_type\": \"\",\n        \"description\": \"\"\n      }\n    },\n    {\n      \"column\": \"stu_marks\",\n      \"properties\": {\n        \"dtype\": \"number\",\n        \"std\": 13,\n        \"min\": 36,\n        \"max\": 85,\n        \"num_unique_values\": 9,\n        \"samples\": [\n          58,\n          55,\n          50\n        ],\n        \"semantic_type\": \"\",\n        \"description\": \"\"\n      }\n    }\n  ]\n}"
            }
          },
          "metadata": {},
          "execution_count": 6
        }
      ]
    },
    {
      "cell_type": "code",
      "source": [
        "df.head()"
      ],
      "metadata": {
        "colab": {
          "base_uri": "https://localhost:8080/",
          "height": 206
        },
        "id": "3bUq3fNNAUAn",
        "outputId": "5031d7e9-16ce-4066-d652-4d33c33feb2d"
      },
      "execution_count": null,
      "outputs": [
        {
          "output_type": "execute_result",
          "data": {
            "text/plain": [
              "   Unnamed: 0  stu_roll_no stu_name stu_course  stu_marks\n",
              "0           0            1   murari        mca         66\n",
              "1           1            2    jassi         ba         55\n",
              "2           2            3    vinod         ba         60\n",
              "3           3            4   parmod       bcom         65\n",
              "4           4            5  parveen        bsc         70"
            ],
            "text/html": [
              "\n",
              "  <div id=\"df-49604847-af3a-4483-8a71-019f008967df\" class=\"colab-df-container\">\n",
              "    <div>\n",
              "<style scoped>\n",
              "    .dataframe tbody tr th:only-of-type {\n",
              "        vertical-align: middle;\n",
              "    }\n",
              "\n",
              "    .dataframe tbody tr th {\n",
              "        vertical-align: top;\n",
              "    }\n",
              "\n",
              "    .dataframe thead th {\n",
              "        text-align: right;\n",
              "    }\n",
              "</style>\n",
              "<table border=\"1\" class=\"dataframe\">\n",
              "  <thead>\n",
              "    <tr style=\"text-align: right;\">\n",
              "      <th></th>\n",
              "      <th>Unnamed: 0</th>\n",
              "      <th>stu_roll_no</th>\n",
              "      <th>stu_name</th>\n",
              "      <th>stu_course</th>\n",
              "      <th>stu_marks</th>\n",
              "    </tr>\n",
              "  </thead>\n",
              "  <tbody>\n",
              "    <tr>\n",
              "      <th>0</th>\n",
              "      <td>0</td>\n",
              "      <td>1</td>\n",
              "      <td>murari</td>\n",
              "      <td>mca</td>\n",
              "      <td>66</td>\n",
              "    </tr>\n",
              "    <tr>\n",
              "      <th>1</th>\n",
              "      <td>1</td>\n",
              "      <td>2</td>\n",
              "      <td>jassi</td>\n",
              "      <td>ba</td>\n",
              "      <td>55</td>\n",
              "    </tr>\n",
              "    <tr>\n",
              "      <th>2</th>\n",
              "      <td>2</td>\n",
              "      <td>3</td>\n",
              "      <td>vinod</td>\n",
              "      <td>ba</td>\n",
              "      <td>60</td>\n",
              "    </tr>\n",
              "    <tr>\n",
              "      <th>3</th>\n",
              "      <td>3</td>\n",
              "      <td>4</td>\n",
              "      <td>parmod</td>\n",
              "      <td>bcom</td>\n",
              "      <td>65</td>\n",
              "    </tr>\n",
              "    <tr>\n",
              "      <th>4</th>\n",
              "      <td>4</td>\n",
              "      <td>5</td>\n",
              "      <td>parveen</td>\n",
              "      <td>bsc</td>\n",
              "      <td>70</td>\n",
              "    </tr>\n",
              "  </tbody>\n",
              "</table>\n",
              "</div>\n",
              "    <div class=\"colab-df-buttons\">\n",
              "\n",
              "  <div class=\"colab-df-container\">\n",
              "    <button class=\"colab-df-convert\" onclick=\"convertToInteractive('df-49604847-af3a-4483-8a71-019f008967df')\"\n",
              "            title=\"Convert this dataframe to an interactive table.\"\n",
              "            style=\"display:none;\">\n",
              "\n",
              "  <svg xmlns=\"http://www.w3.org/2000/svg\" height=\"24px\" viewBox=\"0 -960 960 960\">\n",
              "    <path d=\"M120-120v-720h720v720H120Zm60-500h600v-160H180v160Zm220 220h160v-160H400v160Zm0 220h160v-160H400v160ZM180-400h160v-160H180v160Zm440 0h160v-160H620v160ZM180-180h160v-160H180v160Zm440 0h160v-160H620v160Z\"/>\n",
              "  </svg>\n",
              "    </button>\n",
              "\n",
              "  <style>\n",
              "    .colab-df-container {\n",
              "      display:flex;\n",
              "      gap: 12px;\n",
              "    }\n",
              "\n",
              "    .colab-df-convert {\n",
              "      background-color: #E8F0FE;\n",
              "      border: none;\n",
              "      border-radius: 50%;\n",
              "      cursor: pointer;\n",
              "      display: none;\n",
              "      fill: #1967D2;\n",
              "      height: 32px;\n",
              "      padding: 0 0 0 0;\n",
              "      width: 32px;\n",
              "    }\n",
              "\n",
              "    .colab-df-convert:hover {\n",
              "      background-color: #E2EBFA;\n",
              "      box-shadow: 0px 1px 2px rgba(60, 64, 67, 0.3), 0px 1px 3px 1px rgba(60, 64, 67, 0.15);\n",
              "      fill: #174EA6;\n",
              "    }\n",
              "\n",
              "    .colab-df-buttons div {\n",
              "      margin-bottom: 4px;\n",
              "    }\n",
              "\n",
              "    [theme=dark] .colab-df-convert {\n",
              "      background-color: #3B4455;\n",
              "      fill: #D2E3FC;\n",
              "    }\n",
              "\n",
              "    [theme=dark] .colab-df-convert:hover {\n",
              "      background-color: #434B5C;\n",
              "      box-shadow: 0px 1px 3px 1px rgba(0, 0, 0, 0.15);\n",
              "      filter: drop-shadow(0px 1px 2px rgba(0, 0, 0, 0.3));\n",
              "      fill: #FFFFFF;\n",
              "    }\n",
              "  </style>\n",
              "\n",
              "    <script>\n",
              "      const buttonEl =\n",
              "        document.querySelector('#df-49604847-af3a-4483-8a71-019f008967df button.colab-df-convert');\n",
              "      buttonEl.style.display =\n",
              "        google.colab.kernel.accessAllowed ? 'block' : 'none';\n",
              "\n",
              "      async function convertToInteractive(key) {\n",
              "        const element = document.querySelector('#df-49604847-af3a-4483-8a71-019f008967df');\n",
              "        const dataTable =\n",
              "          await google.colab.kernel.invokeFunction('convertToInteractive',\n",
              "                                                    [key], {});\n",
              "        if (!dataTable) return;\n",
              "\n",
              "        const docLinkHtml = 'Like what you see? Visit the ' +\n",
              "          '<a target=\"_blank\" href=https://colab.research.google.com/notebooks/data_table.ipynb>data table notebook</a>'\n",
              "          + ' to learn more about interactive tables.';\n",
              "        element.innerHTML = '';\n",
              "        dataTable['output_type'] = 'display_data';\n",
              "        await google.colab.output.renderOutput(dataTable, element);\n",
              "        const docLink = document.createElement('div');\n",
              "        docLink.innerHTML = docLinkHtml;\n",
              "        element.appendChild(docLink);\n",
              "      }\n",
              "    </script>\n",
              "  </div>\n",
              "\n",
              "\n",
              "    <div id=\"df-a4ba6ee4-e2b9-42eb-bf45-6efce49807b5\">\n",
              "      <button class=\"colab-df-quickchart\" onclick=\"quickchart('df-a4ba6ee4-e2b9-42eb-bf45-6efce49807b5')\"\n",
              "                title=\"Suggest charts\"\n",
              "                style=\"display:none;\">\n",
              "\n",
              "<svg xmlns=\"http://www.w3.org/2000/svg\" height=\"24px\"viewBox=\"0 0 24 24\"\n",
              "     width=\"24px\">\n",
              "    <g>\n",
              "        <path d=\"M19 3H5c-1.1 0-2 .9-2 2v14c0 1.1.9 2 2 2h14c1.1 0 2-.9 2-2V5c0-1.1-.9-2-2-2zM9 17H7v-7h2v7zm4 0h-2V7h2v10zm4 0h-2v-4h2v4z\"/>\n",
              "    </g>\n",
              "</svg>\n",
              "      </button>\n",
              "\n",
              "<style>\n",
              "  .colab-df-quickchart {\n",
              "      --bg-color: #E8F0FE;\n",
              "      --fill-color: #1967D2;\n",
              "      --hover-bg-color: #E2EBFA;\n",
              "      --hover-fill-color: #174EA6;\n",
              "      --disabled-fill-color: #AAA;\n",
              "      --disabled-bg-color: #DDD;\n",
              "  }\n",
              "\n",
              "  [theme=dark] .colab-df-quickchart {\n",
              "      --bg-color: #3B4455;\n",
              "      --fill-color: #D2E3FC;\n",
              "      --hover-bg-color: #434B5C;\n",
              "      --hover-fill-color: #FFFFFF;\n",
              "      --disabled-bg-color: #3B4455;\n",
              "      --disabled-fill-color: #666;\n",
              "  }\n",
              "\n",
              "  .colab-df-quickchart {\n",
              "    background-color: var(--bg-color);\n",
              "    border: none;\n",
              "    border-radius: 50%;\n",
              "    cursor: pointer;\n",
              "    display: none;\n",
              "    fill: var(--fill-color);\n",
              "    height: 32px;\n",
              "    padding: 0;\n",
              "    width: 32px;\n",
              "  }\n",
              "\n",
              "  .colab-df-quickchart:hover {\n",
              "    background-color: var(--hover-bg-color);\n",
              "    box-shadow: 0 1px 2px rgba(60, 64, 67, 0.3), 0 1px 3px 1px rgba(60, 64, 67, 0.15);\n",
              "    fill: var(--button-hover-fill-color);\n",
              "  }\n",
              "\n",
              "  .colab-df-quickchart-complete:disabled,\n",
              "  .colab-df-quickchart-complete:disabled:hover {\n",
              "    background-color: var(--disabled-bg-color);\n",
              "    fill: var(--disabled-fill-color);\n",
              "    box-shadow: none;\n",
              "  }\n",
              "\n",
              "  .colab-df-spinner {\n",
              "    border: 2px solid var(--fill-color);\n",
              "    border-color: transparent;\n",
              "    border-bottom-color: var(--fill-color);\n",
              "    animation:\n",
              "      spin 1s steps(1) infinite;\n",
              "  }\n",
              "\n",
              "  @keyframes spin {\n",
              "    0% {\n",
              "      border-color: transparent;\n",
              "      border-bottom-color: var(--fill-color);\n",
              "      border-left-color: var(--fill-color);\n",
              "    }\n",
              "    20% {\n",
              "      border-color: transparent;\n",
              "      border-left-color: var(--fill-color);\n",
              "      border-top-color: var(--fill-color);\n",
              "    }\n",
              "    30% {\n",
              "      border-color: transparent;\n",
              "      border-left-color: var(--fill-color);\n",
              "      border-top-color: var(--fill-color);\n",
              "      border-right-color: var(--fill-color);\n",
              "    }\n",
              "    40% {\n",
              "      border-color: transparent;\n",
              "      border-right-color: var(--fill-color);\n",
              "      border-top-color: var(--fill-color);\n",
              "    }\n",
              "    60% {\n",
              "      border-color: transparent;\n",
              "      border-right-color: var(--fill-color);\n",
              "    }\n",
              "    80% {\n",
              "      border-color: transparent;\n",
              "      border-right-color: var(--fill-color);\n",
              "      border-bottom-color: var(--fill-color);\n",
              "    }\n",
              "    90% {\n",
              "      border-color: transparent;\n",
              "      border-bottom-color: var(--fill-color);\n",
              "    }\n",
              "  }\n",
              "</style>\n",
              "\n",
              "      <script>\n",
              "        async function quickchart(key) {\n",
              "          const quickchartButtonEl =\n",
              "            document.querySelector('#' + key + ' button');\n",
              "          quickchartButtonEl.disabled = true;  // To prevent multiple clicks.\n",
              "          quickchartButtonEl.classList.add('colab-df-spinner');\n",
              "          try {\n",
              "            const charts = await google.colab.kernel.invokeFunction(\n",
              "                'suggestCharts', [key], {});\n",
              "          } catch (error) {\n",
              "            console.error('Error during call to suggestCharts:', error);\n",
              "          }\n",
              "          quickchartButtonEl.classList.remove('colab-df-spinner');\n",
              "          quickchartButtonEl.classList.add('colab-df-quickchart-complete');\n",
              "        }\n",
              "        (() => {\n",
              "          let quickchartButtonEl =\n",
              "            document.querySelector('#df-a4ba6ee4-e2b9-42eb-bf45-6efce49807b5 button');\n",
              "          quickchartButtonEl.style.display =\n",
              "            google.colab.kernel.accessAllowed ? 'block' : 'none';\n",
              "        })();\n",
              "      </script>\n",
              "    </div>\n",
              "\n",
              "    </div>\n",
              "  </div>\n"
            ],
            "application/vnd.google.colaboratory.intrinsic+json": {
              "type": "dataframe",
              "variable_name": "df",
              "summary": "{\n  \"name\": \"df\",\n  \"rows\": 10,\n  \"fields\": [\n    {\n      \"column\": \"Unnamed: 0\",\n      \"properties\": {\n        \"dtype\": \"number\",\n        \"std\": 3,\n        \"min\": 0,\n        \"max\": 9,\n        \"num_unique_values\": 10,\n        \"samples\": [\n          8,\n          1,\n          5\n        ],\n        \"semantic_type\": \"\",\n        \"description\": \"\"\n      }\n    },\n    {\n      \"column\": \"stu_roll_no\",\n      \"properties\": {\n        \"dtype\": \"number\",\n        \"std\": 3,\n        \"min\": 1,\n        \"max\": 10,\n        \"num_unique_values\": 10,\n        \"samples\": [\n          9,\n          2,\n          6\n        ],\n        \"semantic_type\": \"\",\n        \"description\": \"\"\n      }\n    },\n    {\n      \"column\": \"stu_name\",\n      \"properties\": {\n        \"dtype\": \"string\",\n        \"num_unique_values\": 10,\n        \"samples\": [\n          \"viju\",\n          \"jassi\",\n          \"ramu\"\n        ],\n        \"semantic_type\": \"\",\n        \"description\": \"\"\n      }\n    },\n    {\n      \"column\": \"stu_course\",\n      \"properties\": {\n        \"dtype\": \"category\",\n        \"num_unique_values\": 4,\n        \"samples\": [\n          \"ba\",\n          \"bsc\",\n          \"mca\"\n        ],\n        \"semantic_type\": \"\",\n        \"description\": \"\"\n      }\n    },\n    {\n      \"column\": \"stu_marks\",\n      \"properties\": {\n        \"dtype\": \"number\",\n        \"std\": 13,\n        \"min\": 36,\n        \"max\": 85,\n        \"num_unique_values\": 9,\n        \"samples\": [\n          58,\n          55,\n          50\n        ],\n        \"semantic_type\": \"\",\n        \"description\": \"\"\n      }\n    }\n  ]\n}"
            }
          },
          "metadata": {},
          "execution_count": 7
        }
      ]
    },
    {
      "cell_type": "code",
      "source": [
        "df.tail()"
      ],
      "metadata": {
        "colab": {
          "base_uri": "https://localhost:8080/",
          "height": 206
        },
        "id": "4D0Wmgw2E8W2",
        "outputId": "9246d000-9f96-4e09-9015-cf201e26f194"
      },
      "execution_count": null,
      "outputs": [
        {
          "output_type": "execute_result",
          "data": {
            "text/plain": [
              "   Unnamed: 0  stu_roll_no stu_name stu_course  stu_marks\n",
              "5           5            6     ramu         ba         50\n",
              "6           6            7    dilip        bsc         36\n",
              "7           7            8    banti         ba         58\n",
              "8           8            9     viju       bcom         70\n",
              "9           9           10   goutam        bsc         85"
            ],
            "text/html": [
              "\n",
              "  <div id=\"df-b8fe3e8a-99f1-47c8-a323-88d4def2e800\" class=\"colab-df-container\">\n",
              "    <div>\n",
              "<style scoped>\n",
              "    .dataframe tbody tr th:only-of-type {\n",
              "        vertical-align: middle;\n",
              "    }\n",
              "\n",
              "    .dataframe tbody tr th {\n",
              "        vertical-align: top;\n",
              "    }\n",
              "\n",
              "    .dataframe thead th {\n",
              "        text-align: right;\n",
              "    }\n",
              "</style>\n",
              "<table border=\"1\" class=\"dataframe\">\n",
              "  <thead>\n",
              "    <tr style=\"text-align: right;\">\n",
              "      <th></th>\n",
              "      <th>Unnamed: 0</th>\n",
              "      <th>stu_roll_no</th>\n",
              "      <th>stu_name</th>\n",
              "      <th>stu_course</th>\n",
              "      <th>stu_marks</th>\n",
              "    </tr>\n",
              "  </thead>\n",
              "  <tbody>\n",
              "    <tr>\n",
              "      <th>5</th>\n",
              "      <td>5</td>\n",
              "      <td>6</td>\n",
              "      <td>ramu</td>\n",
              "      <td>ba</td>\n",
              "      <td>50</td>\n",
              "    </tr>\n",
              "    <tr>\n",
              "      <th>6</th>\n",
              "      <td>6</td>\n",
              "      <td>7</td>\n",
              "      <td>dilip</td>\n",
              "      <td>bsc</td>\n",
              "      <td>36</td>\n",
              "    </tr>\n",
              "    <tr>\n",
              "      <th>7</th>\n",
              "      <td>7</td>\n",
              "      <td>8</td>\n",
              "      <td>banti</td>\n",
              "      <td>ba</td>\n",
              "      <td>58</td>\n",
              "    </tr>\n",
              "    <tr>\n",
              "      <th>8</th>\n",
              "      <td>8</td>\n",
              "      <td>9</td>\n",
              "      <td>viju</td>\n",
              "      <td>bcom</td>\n",
              "      <td>70</td>\n",
              "    </tr>\n",
              "    <tr>\n",
              "      <th>9</th>\n",
              "      <td>9</td>\n",
              "      <td>10</td>\n",
              "      <td>goutam</td>\n",
              "      <td>bsc</td>\n",
              "      <td>85</td>\n",
              "    </tr>\n",
              "  </tbody>\n",
              "</table>\n",
              "</div>\n",
              "    <div class=\"colab-df-buttons\">\n",
              "\n",
              "  <div class=\"colab-df-container\">\n",
              "    <button class=\"colab-df-convert\" onclick=\"convertToInteractive('df-b8fe3e8a-99f1-47c8-a323-88d4def2e800')\"\n",
              "            title=\"Convert this dataframe to an interactive table.\"\n",
              "            style=\"display:none;\">\n",
              "\n",
              "  <svg xmlns=\"http://www.w3.org/2000/svg\" height=\"24px\" viewBox=\"0 -960 960 960\">\n",
              "    <path d=\"M120-120v-720h720v720H120Zm60-500h600v-160H180v160Zm220 220h160v-160H400v160Zm0 220h160v-160H400v160ZM180-400h160v-160H180v160Zm440 0h160v-160H620v160ZM180-180h160v-160H180v160Zm440 0h160v-160H620v160Z\"/>\n",
              "  </svg>\n",
              "    </button>\n",
              "\n",
              "  <style>\n",
              "    .colab-df-container {\n",
              "      display:flex;\n",
              "      gap: 12px;\n",
              "    }\n",
              "\n",
              "    .colab-df-convert {\n",
              "      background-color: #E8F0FE;\n",
              "      border: none;\n",
              "      border-radius: 50%;\n",
              "      cursor: pointer;\n",
              "      display: none;\n",
              "      fill: #1967D2;\n",
              "      height: 32px;\n",
              "      padding: 0 0 0 0;\n",
              "      width: 32px;\n",
              "    }\n",
              "\n",
              "    .colab-df-convert:hover {\n",
              "      background-color: #E2EBFA;\n",
              "      box-shadow: 0px 1px 2px rgba(60, 64, 67, 0.3), 0px 1px 3px 1px rgba(60, 64, 67, 0.15);\n",
              "      fill: #174EA6;\n",
              "    }\n",
              "\n",
              "    .colab-df-buttons div {\n",
              "      margin-bottom: 4px;\n",
              "    }\n",
              "\n",
              "    [theme=dark] .colab-df-convert {\n",
              "      background-color: #3B4455;\n",
              "      fill: #D2E3FC;\n",
              "    }\n",
              "\n",
              "    [theme=dark] .colab-df-convert:hover {\n",
              "      background-color: #434B5C;\n",
              "      box-shadow: 0px 1px 3px 1px rgba(0, 0, 0, 0.15);\n",
              "      filter: drop-shadow(0px 1px 2px rgba(0, 0, 0, 0.3));\n",
              "      fill: #FFFFFF;\n",
              "    }\n",
              "  </style>\n",
              "\n",
              "    <script>\n",
              "      const buttonEl =\n",
              "        document.querySelector('#df-b8fe3e8a-99f1-47c8-a323-88d4def2e800 button.colab-df-convert');\n",
              "      buttonEl.style.display =\n",
              "        google.colab.kernel.accessAllowed ? 'block' : 'none';\n",
              "\n",
              "      async function convertToInteractive(key) {\n",
              "        const element = document.querySelector('#df-b8fe3e8a-99f1-47c8-a323-88d4def2e800');\n",
              "        const dataTable =\n",
              "          await google.colab.kernel.invokeFunction('convertToInteractive',\n",
              "                                                    [key], {});\n",
              "        if (!dataTable) return;\n",
              "\n",
              "        const docLinkHtml = 'Like what you see? Visit the ' +\n",
              "          '<a target=\"_blank\" href=https://colab.research.google.com/notebooks/data_table.ipynb>data table notebook</a>'\n",
              "          + ' to learn more about interactive tables.';\n",
              "        element.innerHTML = '';\n",
              "        dataTable['output_type'] = 'display_data';\n",
              "        await google.colab.output.renderOutput(dataTable, element);\n",
              "        const docLink = document.createElement('div');\n",
              "        docLink.innerHTML = docLinkHtml;\n",
              "        element.appendChild(docLink);\n",
              "      }\n",
              "    </script>\n",
              "  </div>\n",
              "\n",
              "\n",
              "    <div id=\"df-906d324b-fbec-4671-9d3a-104856ee4a31\">\n",
              "      <button class=\"colab-df-quickchart\" onclick=\"quickchart('df-906d324b-fbec-4671-9d3a-104856ee4a31')\"\n",
              "                title=\"Suggest charts\"\n",
              "                style=\"display:none;\">\n",
              "\n",
              "<svg xmlns=\"http://www.w3.org/2000/svg\" height=\"24px\"viewBox=\"0 0 24 24\"\n",
              "     width=\"24px\">\n",
              "    <g>\n",
              "        <path d=\"M19 3H5c-1.1 0-2 .9-2 2v14c0 1.1.9 2 2 2h14c1.1 0 2-.9 2-2V5c0-1.1-.9-2-2-2zM9 17H7v-7h2v7zm4 0h-2V7h2v10zm4 0h-2v-4h2v4z\"/>\n",
              "    </g>\n",
              "</svg>\n",
              "      </button>\n",
              "\n",
              "<style>\n",
              "  .colab-df-quickchart {\n",
              "      --bg-color: #E8F0FE;\n",
              "      --fill-color: #1967D2;\n",
              "      --hover-bg-color: #E2EBFA;\n",
              "      --hover-fill-color: #174EA6;\n",
              "      --disabled-fill-color: #AAA;\n",
              "      --disabled-bg-color: #DDD;\n",
              "  }\n",
              "\n",
              "  [theme=dark] .colab-df-quickchart {\n",
              "      --bg-color: #3B4455;\n",
              "      --fill-color: #D2E3FC;\n",
              "      --hover-bg-color: #434B5C;\n",
              "      --hover-fill-color: #FFFFFF;\n",
              "      --disabled-bg-color: #3B4455;\n",
              "      --disabled-fill-color: #666;\n",
              "  }\n",
              "\n",
              "  .colab-df-quickchart {\n",
              "    background-color: var(--bg-color);\n",
              "    border: none;\n",
              "    border-radius: 50%;\n",
              "    cursor: pointer;\n",
              "    display: none;\n",
              "    fill: var(--fill-color);\n",
              "    height: 32px;\n",
              "    padding: 0;\n",
              "    width: 32px;\n",
              "  }\n",
              "\n",
              "  .colab-df-quickchart:hover {\n",
              "    background-color: var(--hover-bg-color);\n",
              "    box-shadow: 0 1px 2px rgba(60, 64, 67, 0.3), 0 1px 3px 1px rgba(60, 64, 67, 0.15);\n",
              "    fill: var(--button-hover-fill-color);\n",
              "  }\n",
              "\n",
              "  .colab-df-quickchart-complete:disabled,\n",
              "  .colab-df-quickchart-complete:disabled:hover {\n",
              "    background-color: var(--disabled-bg-color);\n",
              "    fill: var(--disabled-fill-color);\n",
              "    box-shadow: none;\n",
              "  }\n",
              "\n",
              "  .colab-df-spinner {\n",
              "    border: 2px solid var(--fill-color);\n",
              "    border-color: transparent;\n",
              "    border-bottom-color: var(--fill-color);\n",
              "    animation:\n",
              "      spin 1s steps(1) infinite;\n",
              "  }\n",
              "\n",
              "  @keyframes spin {\n",
              "    0% {\n",
              "      border-color: transparent;\n",
              "      border-bottom-color: var(--fill-color);\n",
              "      border-left-color: var(--fill-color);\n",
              "    }\n",
              "    20% {\n",
              "      border-color: transparent;\n",
              "      border-left-color: var(--fill-color);\n",
              "      border-top-color: var(--fill-color);\n",
              "    }\n",
              "    30% {\n",
              "      border-color: transparent;\n",
              "      border-left-color: var(--fill-color);\n",
              "      border-top-color: var(--fill-color);\n",
              "      border-right-color: var(--fill-color);\n",
              "    }\n",
              "    40% {\n",
              "      border-color: transparent;\n",
              "      border-right-color: var(--fill-color);\n",
              "      border-top-color: var(--fill-color);\n",
              "    }\n",
              "    60% {\n",
              "      border-color: transparent;\n",
              "      border-right-color: var(--fill-color);\n",
              "    }\n",
              "    80% {\n",
              "      border-color: transparent;\n",
              "      border-right-color: var(--fill-color);\n",
              "      border-bottom-color: var(--fill-color);\n",
              "    }\n",
              "    90% {\n",
              "      border-color: transparent;\n",
              "      border-bottom-color: var(--fill-color);\n",
              "    }\n",
              "  }\n",
              "</style>\n",
              "\n",
              "      <script>\n",
              "        async function quickchart(key) {\n",
              "          const quickchartButtonEl =\n",
              "            document.querySelector('#' + key + ' button');\n",
              "          quickchartButtonEl.disabled = true;  // To prevent multiple clicks.\n",
              "          quickchartButtonEl.classList.add('colab-df-spinner');\n",
              "          try {\n",
              "            const charts = await google.colab.kernel.invokeFunction(\n",
              "                'suggestCharts', [key], {});\n",
              "          } catch (error) {\n",
              "            console.error('Error during call to suggestCharts:', error);\n",
              "          }\n",
              "          quickchartButtonEl.classList.remove('colab-df-spinner');\n",
              "          quickchartButtonEl.classList.add('colab-df-quickchart-complete');\n",
              "        }\n",
              "        (() => {\n",
              "          let quickchartButtonEl =\n",
              "            document.querySelector('#df-906d324b-fbec-4671-9d3a-104856ee4a31 button');\n",
              "          quickchartButtonEl.style.display =\n",
              "            google.colab.kernel.accessAllowed ? 'block' : 'none';\n",
              "        })();\n",
              "      </script>\n",
              "    </div>\n",
              "\n",
              "    </div>\n",
              "  </div>\n"
            ],
            "application/vnd.google.colaboratory.intrinsic+json": {
              "type": "dataframe",
              "summary": "{\n  \"name\": \"df\",\n  \"rows\": 5,\n  \"fields\": [\n    {\n      \"column\": \"Unnamed: 0\",\n      \"properties\": {\n        \"dtype\": \"number\",\n        \"std\": 1,\n        \"min\": 5,\n        \"max\": 9,\n        \"num_unique_values\": 5,\n        \"samples\": [\n          6,\n          9,\n          7\n        ],\n        \"semantic_type\": \"\",\n        \"description\": \"\"\n      }\n    },\n    {\n      \"column\": \"stu_roll_no\",\n      \"properties\": {\n        \"dtype\": \"number\",\n        \"std\": 1,\n        \"min\": 6,\n        \"max\": 10,\n        \"num_unique_values\": 5,\n        \"samples\": [\n          7,\n          10,\n          8\n        ],\n        \"semantic_type\": \"\",\n        \"description\": \"\"\n      }\n    },\n    {\n      \"column\": \"stu_name\",\n      \"properties\": {\n        \"dtype\": \"string\",\n        \"num_unique_values\": 5,\n        \"samples\": [\n          \"dilip\",\n          \"goutam\",\n          \"banti\"\n        ],\n        \"semantic_type\": \"\",\n        \"description\": \"\"\n      }\n    },\n    {\n      \"column\": \"stu_course\",\n      \"properties\": {\n        \"dtype\": \"string\",\n        \"num_unique_values\": 3,\n        \"samples\": [\n          \"ba\",\n          \"bsc\",\n          \"bcom\"\n        ],\n        \"semantic_type\": \"\",\n        \"description\": \"\"\n      }\n    },\n    {\n      \"column\": \"stu_marks\",\n      \"properties\": {\n        \"dtype\": \"number\",\n        \"std\": 18,\n        \"min\": 36,\n        \"max\": 85,\n        \"num_unique_values\": 5,\n        \"samples\": [\n          36,\n          85,\n          58\n        ],\n        \"semantic_type\": \"\",\n        \"description\": \"\"\n      }\n    }\n  ]\n}"
            }
          },
          "metadata": {},
          "execution_count": 8
        }
      ]
    },
    {
      "cell_type": "code",
      "source": [
        "dict={}\n",
        "dict"
      ],
      "metadata": {
        "id": "AhNykbztFXrX",
        "colab": {
          "base_uri": "https://localhost:8080/"
        },
        "outputId": "18ca302a-be92-46ea-8915-6e584cf5a559"
      },
      "execution_count": null,
      "outputs": [
        {
          "output_type": "execute_result",
          "data": {
            "text/plain": [
              "{}"
            ]
          },
          "metadata": {},
          "execution_count": 3
        }
      ]
    }
  ]
}