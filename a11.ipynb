{
  "nbformat": 4,
  "nbformat_minor": 0,
  "metadata": {
    "colab": {
      "provenance": []
    },
    "kernelspec": {
      "name": "python3",
      "display_name": "Python 3"
    },
    "language_info": {
      "name": "python"
    }
  },
  "cells": [
    {
      "cell_type": "code",
      "execution_count": null,
      "metadata": {
        "colab": {
          "base_uri": "https://localhost:8080/"
        },
        "id": "gJT4CHhHWBhi",
        "outputId": "6dcd0aaf-a86b-4f67-f814-32d55b35d10f"
      },
      "outputs": [
        {
          "output_type": "stream",
          "name": "stdout",
          "text": [
            "student 1\n",
            " --- subject check ---  1\n",
            " --- subject check ---  2\n",
            " --- subject check ---  3\n",
            "student 2\n",
            " --- subject check ---  1\n",
            " --- subject check ---  2\n",
            " --- subject check ---  3\n",
            "student 3\n",
            " --- subject check ---  1\n",
            " --- subject check ---  2\n",
            " --- subject check ---  3\n",
            "student 4\n",
            " --- subject check ---  1\n",
            " --- subject check ---  2\n",
            " --- subject check ---  3\n"
          ]
        }
      ],
      "source": [
        "# nested loops\n",
        "for x in range(1,5):\n",
        "  print(\"student\",x)\n",
        "  for j in range(1,4):\n",
        "    print(\" --- subject check --- \",j)\n"
      ]
    },
    {
      "cell_type": "code",
      "source": [
        "# nested loops\n",
        "for x in range(1,5):  #1,2,3,4               4,3,2,1\n",
        "  print(\"student\",x)\n",
        "  for j in range(1,6-x):  #(1,2)\n",
        "    print(\" --- subject check --- \",j)"
      ],
      "metadata": {
        "colab": {
          "base_uri": "https://localhost:8080/"
        },
        "id": "oGZqb1Z4XDJw",
        "outputId": "5ed75608-f597-4a6a-b3a9-145e5c76cb3a"
      },
      "execution_count": null,
      "outputs": [
        {
          "output_type": "stream",
          "name": "stdout",
          "text": [
            "student 1\n",
            " --- subject check ---  1\n",
            " --- subject check ---  2\n",
            " --- subject check ---  3\n",
            " --- subject check ---  4\n",
            "student 2\n",
            " --- subject check ---  1\n",
            " --- subject check ---  2\n",
            " --- subject check ---  3\n",
            "student 3\n",
            " --- subject check ---  1\n",
            " --- subject check ---  2\n",
            "student 4\n",
            " --- subject check ---  1\n"
          ]
        }
      ]
    },
    {
      "cell_type": "code",
      "source": [
        "for num in range(2,6):\n",
        "  for i in range(1,11):\n",
        "    print(num,\"X\",i ,\"=\",  i* num)\n",
        "\n",
        "  print(\"-----\")"
      ],
      "metadata": {
        "colab": {
          "base_uri": "https://localhost:8080/"
        },
        "id": "vPDe6VYfZBds",
        "outputId": "54ccc16c-ed54-4077-a30a-0b0910c1cd78"
      },
      "execution_count": null,
      "outputs": [
        {
          "output_type": "stream",
          "name": "stdout",
          "text": [
            "2 X 1 = 2\n",
            "2 X 2 = 4\n",
            "2 X 3 = 6\n",
            "2 X 4 = 8\n",
            "2 X 5 = 10\n",
            "2 X 6 = 12\n",
            "2 X 7 = 14\n",
            "2 X 8 = 16\n",
            "2 X 9 = 18\n",
            "2 X 10 = 20\n",
            "-----\n",
            "3 X 1 = 3\n",
            "3 X 2 = 6\n",
            "3 X 3 = 9\n",
            "3 X 4 = 12\n",
            "3 X 5 = 15\n",
            "3 X 6 = 18\n",
            "3 X 7 = 21\n",
            "3 X 8 = 24\n",
            "3 X 9 = 27\n",
            "3 X 10 = 30\n",
            "-----\n",
            "4 X 1 = 4\n",
            "4 X 2 = 8\n",
            "4 X 3 = 12\n",
            "4 X 4 = 16\n",
            "4 X 5 = 20\n",
            "4 X 6 = 24\n",
            "4 X 7 = 28\n",
            "4 X 8 = 32\n",
            "4 X 9 = 36\n",
            "4 X 10 = 40\n",
            "-----\n",
            "5 X 1 = 5\n",
            "5 X 2 = 10\n",
            "5 X 3 = 15\n",
            "5 X 4 = 20\n",
            "5 X 5 = 25\n",
            "5 X 6 = 30\n",
            "5 X 7 = 35\n",
            "5 X 8 = 40\n",
            "5 X 9 = 45\n",
            "5 X 10 = 50\n",
            "-----\n"
          ]
        }
      ]
    },
    {
      "cell_type": "code",
      "source": [
        "num=19\n",
        "num//10"
      ],
      "metadata": {
        "colab": {
          "base_uri": "https://localhost:8080/"
        },
        "id": "-_pvHnFCfDcq",
        "outputId": "aa98ca61-0783-431c-aea3-037478e3055e"
      },
      "execution_count": null,
      "outputs": [
        {
          "output_type": "execute_result",
          "data": {
            "text/plain": [
              "1"
            ]
          },
          "metadata": {},
          "execution_count": 23
        }
      ]
    },
    {
      "cell_type": "code",
      "source": [
        "for num in range(2,8):\n",
        "  a=0\n",
        "  for i in range(2,num):\n",
        "    if(num%2==0):\n",
        "      a=1\n",
        "      break\n",
        "\n",
        "  if(a==0):\n",
        "    print(\"Prime\",num)\n",
        "  else:\n",
        "    print(\"Not prime\",num)\n"
      ],
      "metadata": {
        "colab": {
          "base_uri": "https://localhost:8080/"
        },
        "id": "GddiUPTucCg3",
        "outputId": "514776b7-c172-4156-fdb4-eb467c12f53a"
      },
      "execution_count": null,
      "outputs": [
        {
          "output_type": "stream",
          "name": "stdout",
          "text": [
            "Prime 2\n",
            "Prime 3\n",
            "Not prime 4\n",
            "Prime 5\n",
            "Not prime 6\n",
            "Prime 7\n"
          ]
        }
      ]
    },
    {
      "cell_type": "code",
      "source": [
        "for num in range(400,451):\n",
        "  total=0\n",
        "  original=num\n",
        "  while(num>0):\n",
        "    rem1=num%10\n",
        "    num=num//10\n",
        "    total=total+rem1\n",
        "\n",
        "\n",
        "\n",
        "  print(\"total =>\",original,total)"
      ],
      "metadata": {
        "colab": {
          "base_uri": "https://localhost:8080/"
        },
        "id": "q8AGl9D5gMmW",
        "outputId": "2b8fd83d-113b-4a4c-a6d1-fff1e9096a62"
      },
      "execution_count": null,
      "outputs": [
        {
          "output_type": "stream",
          "name": "stdout",
          "text": [
            "total => 400 4\n",
            "total => 401 5\n",
            "total => 402 6\n",
            "total => 403 7\n",
            "total => 404 8\n",
            "total => 405 9\n",
            "total => 406 10\n",
            "total => 407 11\n",
            "total => 408 12\n",
            "total => 409 13\n",
            "total => 410 5\n",
            "total => 411 6\n",
            "total => 412 7\n",
            "total => 413 8\n",
            "total => 414 9\n",
            "total => 415 10\n",
            "total => 416 11\n",
            "total => 417 12\n",
            "total => 418 13\n",
            "total => 419 14\n",
            "total => 420 6\n",
            "total => 421 7\n",
            "total => 422 8\n",
            "total => 423 9\n",
            "total => 424 10\n",
            "total => 425 11\n",
            "total => 426 12\n",
            "total => 427 13\n",
            "total => 428 14\n",
            "total => 429 15\n",
            "total => 430 7\n",
            "total => 431 8\n",
            "total => 432 9\n",
            "total => 433 10\n",
            "total => 434 11\n",
            "total => 435 12\n",
            "total => 436 13\n",
            "total => 437 14\n",
            "total => 438 15\n",
            "total => 439 16\n",
            "total => 440 8\n",
            "total => 441 9\n",
            "total => 442 10\n",
            "total => 443 11\n",
            "total => 444 12\n",
            "total => 445 13\n",
            "total => 446 14\n",
            "total => 447 15\n",
            "total => 448 16\n",
            "total => 449 17\n",
            "total => 450 9\n"
          ]
        }
      ]
    },
    {
      "cell_type": "code",
      "source": [
        "for num in range(150,401):\n",
        "  original=num\n",
        "  total=0\n",
        "  while(num>0):\n",
        "    rem1=num%10\n",
        "    num=num//10\n",
        "    total=total + rem1**3\n",
        "\n",
        "  if(original==total):\n",
        "    print(\"armstrong\", original)\n"
      ],
      "metadata": {
        "colab": {
          "base_uri": "https://localhost:8080/"
        },
        "id": "787KnMZMi03P",
        "outputId": "734512f8-36d1-4d55-f076-24547c421ba4"
      },
      "execution_count": null,
      "outputs": [
        {
          "output_type": "stream",
          "name": "stdout",
          "text": [
            "armstrong 153\n",
            "armstrong 370\n",
            "armstrong 371\n"
          ]
        }
      ]
    },
    {
      "cell_type": "code",
      "source": [
        "for i in range(1,6):\n",
        "  for j in range(1,5):\n",
        "    print(j, end=\" \")\n",
        "  print(\"\")"
      ],
      "metadata": {
        "colab": {
          "base_uri": "https://localhost:8080/"
        },
        "id": "KQBa2AHmz_ek",
        "outputId": "2d5e71f6-8f3f-438a-cac0-8ffb2fa2b321"
      },
      "execution_count": null,
      "outputs": [
        {
          "output_type": "stream",
          "name": "stdout",
          "text": [
            "1 2 3 4 \n",
            "1 2 3 4 \n",
            "1 2 3 4 \n",
            "1 2 3 4 \n",
            "1 2 3 4 \n"
          ]
        }
      ]
    },
    {
      "cell_type": "code",
      "source": [
        "print(\"hey\", end=\"\\n\")\n",
        "print(\"hllo\")"
      ],
      "metadata": {
        "colab": {
          "base_uri": "https://localhost:8080/"
        },
        "id": "lYv5raXr04BV",
        "outputId": "593b58c4-a89d-4195-9f4f-3bfd28483428"
      },
      "execution_count": null,
      "outputs": [
        {
          "output_type": "stream",
          "name": "stdout",
          "text": [
            "hey$hllo\n"
          ]
        }
      ]
    },
    {
      "cell_type": "code",
      "source": [
        "\n",
        "for i in range(1,4):\n",
        "  x=2\n",
        "  for j in range(1,4):\n",
        "    print(x, end=\" \")\n",
        "    x+=1\n",
        "  print(\"\")"
      ],
      "metadata": {
        "colab": {
          "base_uri": "https://localhost:8080/"
        },
        "id": "2qmbZ7cv5HJf",
        "outputId": "3cbfd504-78be-4f65-ccbc-a066b118ea77"
      },
      "execution_count": null,
      "outputs": [
        {
          "output_type": "stream",
          "name": "stdout",
          "text": [
            "2 3 4 \n",
            "2 3 4 \n",
            "2 3 4 \n"
          ]
        }
      ]
    },
    {
      "cell_type": "code",
      "source": [
        "\n",
        "for i in range(1,4):\n",
        "  x=2\n",
        "  for j in range(1,4):\n",
        "    print(x, end=\" \")\n",
        "    x+=1\n",
        "  print(\"\")"
      ],
      "metadata": {
        "id": "G7YsZzVL74IF"
      },
      "execution_count": null,
      "outputs": []
    },
    {
      "cell_type": "code",
      "source": [
        "\n",
        "for i in range(1,6):\n",
        "\n",
        "  for j in range(1,i+1):\n",
        "    print(\"*\", end=\" \")\n",
        "  print(\"\")"
      ],
      "metadata": {
        "colab": {
          "base_uri": "https://localhost:8080/"
        },
        "id": "taROw-Zz8HH2",
        "outputId": "2ed7b520-0cf9-4ef4-9ae3-aa350d065e8c"
      },
      "execution_count": null,
      "outputs": [
        {
          "output_type": "stream",
          "name": "stdout",
          "text": [
            "* \n",
            "* * \n",
            "* * * \n",
            "* * * * \n",
            "* * * * * \n"
          ]
        }
      ]
    },
    {
      "cell_type": "code",
      "source": [
        "\n",
        "for i in range(1,5):\n",
        "\n",
        "  for j in range(i,4):\n",
        "    print(\"-\", end=\" \")\n",
        "  print(\"\")"
      ],
      "metadata": {
        "colab": {
          "base_uri": "https://localhost:8080/"
        },
        "id": "gf3vYkQCBKyd",
        "outputId": "85f163f7-7b0e-4ef0-acea-0614f46ecc63"
      },
      "execution_count": null,
      "outputs": [
        {
          "output_type": "stream",
          "name": "stdout",
          "text": [
            "- - - \n",
            "- - \n",
            "- \n",
            "\n"
          ]
        }
      ]
    },
    {
      "cell_type": "code",
      "source": [
        "\n",
        "for i in range(1,5):\n",
        "\n",
        "  for j in range(1,5-i):\n",
        "    print(\"-\", end=\" \")\n",
        "  print(\"\")"
      ],
      "metadata": {
        "colab": {
          "base_uri": "https://localhost:8080/"
        },
        "id": "gwCM_FueBc_S",
        "outputId": "62330921-8cb4-4d33-823b-b21dfd0a7b8e"
      },
      "execution_count": null,
      "outputs": [
        {
          "output_type": "stream",
          "name": "stdout",
          "text": [
            "- - - \n",
            "- - \n",
            "- \n",
            "\n"
          ]
        }
      ]
    },
    {
      "cell_type": "code",
      "source": [
        "\n",
        "for i in range(1,5):\n",
        "\n",
        "  for j in range(1,i+1):\n",
        "    print(\"*\", end=\" \")\n",
        "  print(\"\")"
      ],
      "metadata": {
        "colab": {
          "base_uri": "https://localhost:8080/"
        },
        "id": "-8tCGBZ1B_A1",
        "outputId": "34867f76-2714-457d-8687-67db83490e82"
      },
      "execution_count": null,
      "outputs": [
        {
          "output_type": "stream",
          "name": "stdout",
          "text": [
            "* \n",
            "* * \n",
            "* * * \n",
            "* * * * \n"
          ]
        }
      ]
    },
    {
      "cell_type": "code",
      "source": [
        "\n",
        "for i in range(1,5):\n",
        "\n",
        "  for j in range(1,5-i):\n",
        "    print(\"-\", end=\" \")\n",
        "\n",
        "  for j in range(1,i+1):\n",
        "    print(\"*\", end=\" \")\n",
        "\n",
        "  print(\"\")"
      ],
      "metadata": {
        "colab": {
          "base_uri": "https://localhost:8080/"
        },
        "id": "U8vCybU3CLjZ",
        "outputId": "195ffa9c-c720-4b87-cefb-32cecedaada9"
      },
      "execution_count": null,
      "outputs": [
        {
          "output_type": "stream",
          "name": "stdout",
          "text": [
            "- - - * \n",
            "- - * * \n",
            "- * * * \n",
            "* * * * \n"
          ]
        }
      ]
    },
    {
      "cell_type": "code",
      "source": [
        "\n",
        "for i in range(1,5):\n",
        "\n",
        "  for j in range(1,i):\n",
        "    print(\"-\", end=\" \")\n",
        "\n",
        "  for k in range(i,5):\n",
        "    print(\"*\", end=\" \")\n",
        "\n",
        "  print(\"\")"
      ],
      "metadata": {
        "colab": {
          "base_uri": "https://localhost:8080/"
        },
        "id": "4vdNFRmtEc29",
        "outputId": "c963bc3c-c48f-4310-d7ab-e80d2e3294da"
      },
      "execution_count": null,
      "outputs": [
        {
          "output_type": "stream",
          "name": "stdout",
          "text": [
            "* * * * \n",
            "- * * * \n",
            "- - * * \n",
            "- - - * \n"
          ]
        }
      ]
    },
    {
      "cell_type": "code",
      "source": [
        "num=6\n",
        "for i in range(1,num+1):\n",
        "\n",
        "  for j in range(1,i+1):\n",
        "    if(j==1 or i==6 or i==j):\n",
        "      print(\"*\", end=\" \")\n",
        "    else:\n",
        "      print(\"-\", end=\" \")\n",
        "\n",
        "  print(\"\")"
      ],
      "metadata": {
        "colab": {
          "base_uri": "https://localhost:8080/"
        },
        "id": "63ckqNbfE38C",
        "outputId": "44186e9e-101f-4379-b0f5-0b2ea01d61ca"
      },
      "execution_count": null,
      "outputs": [
        {
          "output_type": "stream",
          "name": "stdout",
          "text": [
            "* \n",
            "* * \n",
            "* - * \n",
            "* - - * \n",
            "* - - - * \n",
            "* * * * * * \n"
          ]
        }
      ]
    },
    {
      "cell_type": "code",
      "source": [
        "num=6\n",
        "for i in range(1,num+1):\n",
        "\n",
        "  for j in range(i,7):\n",
        "    print(\"*\", end=\" \")\n",
        "\n",
        "\n",
        "  print(\"\")"
      ],
      "metadata": {
        "colab": {
          "base_uri": "https://localhost:8080/"
        },
        "id": "OjKqwq0nJIUA",
        "outputId": "0c98dbaa-0ec5-4ec8-f4ec-0a534e7199d8"
      },
      "execution_count": null,
      "outputs": [
        {
          "output_type": "stream",
          "name": "stdout",
          "text": [
            "* * * * * * \n",
            "* * * * * \n",
            "* * * * \n",
            "* * * \n",
            "* * \n",
            "* \n"
          ]
        }
      ]
    },
    {
      "cell_type": "code",
      "source": [
        "# nested loops\n",
        "for x in range(1,5):\n",
        "  print(\"student\",x)\n",
        "  for j in range(1,4):\n",
        "    print(\" --- subject check --- \",j)\n"
      ],
      "metadata": {
        "id": "r_m-CfVTJguX"
      },
      "execution_count": null,
      "outputs": []
    },
    {
      "cell_type": "code",
      "source": [
        "num=4\n",
        "for i in range(1,num+1):\n",
        "\n",
        "  for j in range(i,4):\n",
        "    print(\"_\", end=\"\")\n",
        "\n",
        "\n",
        "  for j in range(1,i+1):\n",
        "    print(\"*\", end=\" \")\n",
        "  print(\"\")"
      ],
      "metadata": {
        "colab": {
          "base_uri": "https://localhost:8080/"
        },
        "id": "CTZ6k5rmJlO1",
        "outputId": "ea708694-aee8-4882-b04c-fb7dac3e17bd"
      },
      "execution_count": null,
      "outputs": [
        {
          "output_type": "stream",
          "name": "stdout",
          "text": [
            "___* \n",
            "__* * \n",
            "_* * * \n",
            "* * * * \n"
          ]
        }
      ]
    },
    {
      "cell_type": "code",
      "source": [
        "num=4\n",
        "for i in range(4,0,-1):\n",
        "\n",
        "  for j in range(i,4):\n",
        "    print(\"_\", end=\"\")\n",
        "\n",
        "  for k in range(1,i+1):\n",
        "    print(\"*\", end=\" \")\n",
        "\n",
        "  print(\"\")"
      ],
      "metadata": {
        "colab": {
          "base_uri": "https://localhost:8080/"
        },
        "id": "YfxzWbzoM-v9",
        "outputId": "947c4089-c766-425d-9e5f-7e4bd2f81c5d"
      },
      "execution_count": null,
      "outputs": [
        {
          "output_type": "stream",
          "name": "stdout",
          "text": [
            "* * * * \n",
            "_* * * \n",
            "__* * \n",
            "___* \n"
          ]
        }
      ]
    },
    {
      "cell_type": "code",
      "source": [
        "num=4\n",
        "\n",
        "for i in range(4,0,-1):\n",
        "  t=1\n",
        "  for j in range(i,4):\n",
        "    print(\" \", end=\"\")\n",
        "\n",
        "  for k in range(1,i+1):\n",
        "    print(t, end=\" \")\n",
        "    t+=1\n",
        "\n",
        "  print(\"\")"
      ],
      "metadata": {
        "colab": {
          "base_uri": "https://localhost:8080/"
        },
        "id": "ivHSZ63_NL5U",
        "outputId": "92d46725-6525-4b13-a604-163ca52cb771"
      },
      "execution_count": null,
      "outputs": [
        {
          "output_type": "stream",
          "name": "stdout",
          "text": [
            "1 2 3 4 \n",
            " 1 2 3 \n",
            "  1 2 \n",
            "   1 \n"
          ]
        }
      ]
    },
    {
      "cell_type": "code",
      "source": [
        "num=4\n",
        "\n",
        "for i in range(4,0,-1):\n",
        "  t=1\n",
        "  for j in range(i,4):\n",
        "    print(\" \", end=\"\")\n",
        "\n",
        "  for k in range(1,i+1):\n",
        "    print(t, end=\" \")\n",
        "    t+=1\n",
        "  print(\"\")"
      ],
      "metadata": {
        "id": "3SoUz_zmOP8c"
      },
      "execution_count": null,
      "outputs": []
    },
    {
      "cell_type": "code",
      "source": [
        "num=4\n",
        "\n",
        "for i in range(4,0,-1):\n",
        "\n",
        "  for j in range(i,4):\n",
        "    print(\" \", end=\"\")\n",
        "\n",
        "  for k in range(1,i+1):\n",
        "    print(\"*\", end=\" \")\n",
        "\n",
        "  print(\"\")"
      ],
      "metadata": {
        "colab": {
          "base_uri": "https://localhost:8080/"
        },
        "id": "zc3txwN9S_ZU",
        "outputId": "2511fcec-2e82-4ec4-c38f-3f3525a1cdbe"
      },
      "execution_count": null,
      "outputs": [
        {
          "output_type": "stream",
          "name": "stdout",
          "text": [
            "* * * * \n",
            " * * * \n",
            "  * * \n",
            "   * \n"
          ]
        }
      ]
    },
    {
      "cell_type": "code",
      "source": [
        "num=4\n",
        "for i in range(1,num+1):\n",
        "\n",
        "  for j in range(i,4):\n",
        "    print(\" \", end=\"\")\n",
        "\n",
        "\n",
        "  for j in range(1,2*i):\n",
        "    if(j==1 or i==4 or j==2*i-1):\n",
        "      print(\"*\", end=\"\")\n",
        "    else:\n",
        "      print(\" \", end=\"\")\n",
        "\n",
        "  print(\"\")"
      ],
      "metadata": {
        "colab": {
          "base_uri": "https://localhost:8080/"
        },
        "id": "C_oj-h69TEJT",
        "outputId": "c948fec2-f692-49ae-d083-8af832f07050"
      },
      "execution_count": null,
      "outputs": [
        {
          "output_type": "stream",
          "name": "stdout",
          "text": [
            "   *\n",
            "  * *\n",
            " *   *\n",
            "*******\n"
          ]
        }
      ]
    },
    {
      "cell_type": "code",
      "source": [
        "# aaj hum start\n",
        "# list datatype\n",
        "# list  => datatype,  multiple element can be store together\n",
        "salary=2000\n",
        "salary2=3000"
      ],
      "metadata": {
        "id": "CW5CkpBeRI1x"
      },
      "execution_count": null,
      "outputs": []
    },
    {
      "cell_type": "code",
      "source": [
        "# list\n",
        "# sequence datatype\n",
        "# int, float, string, tuple ....\n",
        "# ordered format\n",
        "# position => aap data store karenge"
      ],
      "metadata": {
        "id": "sY98tHUWRmm5"
      },
      "execution_count": null,
      "outputs": []
    },
    {
      "cell_type": "code",
      "source": [
        "x=[10,20,40.5, \"hey\"]\n",
        "print(type(x))"
      ],
      "metadata": {
        "colab": {
          "base_uri": "https://localhost:8080/"
        },
        "id": "d5Ym6Z34R81H",
        "outputId": "47c8d47c-58bc-4e71-bde5-e54460702123"
      },
      "execution_count": null,
      "outputs": [
        {
          "output_type": "stream",
          "name": "stdout",
          "text": [
            "<class 'list'>\n"
          ]
        }
      ]
    },
    {
      "cell_type": "code",
      "source": [
        "x=[10,20,40.5, \"hey\"]\n",
        "print(type(x))"
      ],
      "metadata": {
        "id": "g710uGvAS0sX"
      },
      "execution_count": null,
      "outputs": []
    },
    {
      "cell_type": "code",
      "source": [
        "x=[10,20,40.5, \"hey\"]\n",
        "print( x[-1]  )"
      ],
      "metadata": {
        "colab": {
          "base_uri": "https://localhost:8080/"
        },
        "id": "x4vmim3jS66A",
        "outputId": "48107b7a-29b7-4a1a-a793-d76fa507eeed"
      },
      "execution_count": null,
      "outputs": [
        {
          "output_type": "stream",
          "name": "stdout",
          "text": [
            "hey\n"
          ]
        }
      ]
    },
    {
      "cell_type": "code",
      "source": [
        "x=[10,20,40.5, \"hey\"]\n",
        "x[0]=99\n",
        "print( x  )"
      ],
      "metadata": {
        "colab": {
          "base_uri": "https://localhost:8080/"
        },
        "id": "PEWVYEjXTCZf",
        "outputId": "e46c504e-9156-4039-dc45-bffa7e27a2e5"
      },
      "execution_count": null,
      "outputs": [
        {
          "output_type": "stream",
          "name": "stdout",
          "text": [
            "[99, 20, 40.5, 'hey']\n"
          ]
        }
      ]
    },
    {
      "cell_type": "code",
      "source": [
        "x=[10,20,40.5, \"hey\"]\n",
        "x.append(80)\n",
        "print( x  )"
      ],
      "metadata": {
        "colab": {
          "base_uri": "https://localhost:8080/"
        },
        "id": "StXf5bUjTcwH",
        "outputId": "0046a40e-2779-44f8-9066-084df34fff38"
      },
      "execution_count": null,
      "outputs": [
        {
          "output_type": "stream",
          "name": "stdout",
          "text": [
            "[10, 20, 40.5, 'hey', 80]\n"
          ]
        }
      ]
    },
    {
      "cell_type": "code",
      "source": [
        "x=[10,20,40.5, \"hey\"]\n",
        "x.append(80)\n",
        "print( x  )"
      ],
      "metadata": {
        "colab": {
          "base_uri": "https://localhost:8080/"
        },
        "id": "Q93o5RTiT49P",
        "outputId": "006bc68b-1b0d-446c-811f-e135be0e9fb7"
      },
      "execution_count": null,
      "outputs": [
        {
          "output_type": "stream",
          "name": "stdout",
          "text": [
            "[10, 20, 40.5, 'hey', 80]\n"
          ]
        }
      ]
    },
    {
      "cell_type": "code",
      "source": [
        "# multiple element  => extend function\n",
        "x=[10,20,40.5, \"hey\"]\n",
        "x.extend( \"hello\" )           # string is iterable\n",
        "x.extend( [\"hello\"] )         #list is iterable\n",
        "print( x  )"
      ],
      "metadata": {
        "colab": {
          "base_uri": "https://localhost:8080/"
        },
        "id": "aMVeawIMUA-v",
        "outputId": "729cd0cd-6354-45a0-9963-5dffd674c995"
      },
      "execution_count": null,
      "outputs": [
        {
          "output_type": "stream",
          "name": "stdout",
          "text": [
            "[10, 20, 40.5, 'hey', 'h', 'e', 'l', 'l', 'o']\n"
          ]
        }
      ]
    },
    {
      "cell_type": "code",
      "source": [
        "x=[10,20,40.5, \"hey\"]\n",
        "x.extend( [\"hello\"] )\n",
        "print( x  )"
      ],
      "metadata": {
        "colab": {
          "base_uri": "https://localhost:8080/"
        },
        "id": "8AnSLM-iUeIP",
        "outputId": "2654724c-002e-4fa1-d78d-543d5c683254"
      },
      "execution_count": null,
      "outputs": [
        {
          "output_type": "stream",
          "name": "stdout",
          "text": [
            "[10, 20, 40.5, 'hey', 'hello']\n"
          ]
        }
      ]
    },
    {
      "cell_type": "code",
      "source": [
        "mylist=[10,20,30,40,\"abc\",\"def\",1999]\n",
        "out=mylist.pop()\n",
        "print(mylist)"
      ],
      "metadata": {
        "colab": {
          "base_uri": "https://localhost:8080/"
        },
        "id": "8KH5YQ8pU7rJ",
        "outputId": "7fc2b1ff-579a-4c1f-fbd3-67e758c19298"
      },
      "execution_count": null,
      "outputs": [
        {
          "output_type": "stream",
          "name": "stdout",
          "text": [
            "[10, 20, 30, 40, 'abc', 'def']\n"
          ]
        }
      ]
    },
    {
      "cell_type": "code",
      "source": [
        "print(out)"
      ],
      "metadata": {
        "colab": {
          "base_uri": "https://localhost:8080/"
        },
        "id": "j6ivoEVeVOaX",
        "outputId": "1530bea3-bfda-4a41-fd1b-06ef9b5b0cd9"
      },
      "execution_count": null,
      "outputs": [
        {
          "output_type": "stream",
          "name": "stdout",
          "text": [
            "1999\n"
          ]
        }
      ]
    },
    {
      "cell_type": "code",
      "source": [
        "mylist=[10,20,30,40,\"abc\",\"def\",1999]\n",
        "mylist.insert(0,\"tushar\")\n",
        "print(mylist)"
      ],
      "metadata": {
        "colab": {
          "base_uri": "https://localhost:8080/"
        },
        "id": "sNjg2TW-VP5O",
        "outputId": "8d5ce4b1-1a8f-4049-8f38-853baba4143f"
      },
      "execution_count": null,
      "outputs": [
        {
          "output_type": "stream",
          "name": "stdout",
          "text": [
            "['tushar', 10, 20, 30, 40, 'abc', 'def', 1999]\n"
          ]
        }
      ]
    },
    {
      "cell_type": "code",
      "source": [
        "mylist=[10,20,30,40,11,45,3]\n",
        "mylist.sort()\n",
        "print(mylist)"
      ],
      "metadata": {
        "colab": {
          "base_uri": "https://localhost:8080/"
        },
        "id": "t5i19uFnWCig",
        "outputId": "54fab252-0704-42f5-9ddc-6e6866d7783b"
      },
      "execution_count": null,
      "outputs": [
        {
          "output_type": "stream",
          "name": "stdout",
          "text": [
            "[3, 10, 11, 20, 30, 40, 45]\n"
          ]
        }
      ]
    },
    {
      "cell_type": "code",
      "source": [
        "help( mylist )"
      ],
      "metadata": {
        "colab": {
          "base_uri": "https://localhost:8080/"
        },
        "id": "0OROowsvWXc3",
        "outputId": "7790033f-5a25-4b70-9589-7b8567aef05a"
      },
      "execution_count": null,
      "outputs": [
        {
          "output_type": "stream",
          "name": "stdout",
          "text": [
            "Help on list object:\n",
            "\n",
            "class list(object)\n",
            " |  list(iterable=(), /)\n",
            " |  \n",
            " |  Built-in mutable sequence.\n",
            " |  \n",
            " |  If no argument is given, the constructor creates a new empty list.\n",
            " |  The argument must be an iterable if specified.\n",
            " |  \n",
            " |  Methods defined here:\n",
            " |  \n",
            " |  __add__(self, value, /)\n",
            " |      Return self+value.\n",
            " |  \n",
            " |  __contains__(self, key, /)\n",
            " |      Return key in self.\n",
            " |  \n",
            " |  __delitem__(self, key, /)\n",
            " |      Delete self[key].\n",
            " |  \n",
            " |  __eq__(self, value, /)\n",
            " |      Return self==value.\n",
            " |  \n",
            " |  __ge__(self, value, /)\n",
            " |      Return self>=value.\n",
            " |  \n",
            " |  __getattribute__(self, name, /)\n",
            " |      Return getattr(self, name).\n",
            " |  \n",
            " |  __getitem__(...)\n",
            " |      x.__getitem__(y) <==> x[y]\n",
            " |  \n",
            " |  __gt__(self, value, /)\n",
            " |      Return self>value.\n",
            " |  \n",
            " |  __iadd__(self, value, /)\n",
            " |      Implement self+=value.\n",
            " |  \n",
            " |  __imul__(self, value, /)\n",
            " |      Implement self*=value.\n",
            " |  \n",
            " |  __init__(self, /, *args, **kwargs)\n",
            " |      Initialize self.  See help(type(self)) for accurate signature.\n",
            " |  \n",
            " |  __iter__(self, /)\n",
            " |      Implement iter(self).\n",
            " |  \n",
            " |  __le__(self, value, /)\n",
            " |      Return self<=value.\n",
            " |  \n",
            " |  __len__(self, /)\n",
            " |      Return len(self).\n",
            " |  \n",
            " |  __lt__(self, value, /)\n",
            " |      Return self<value.\n",
            " |  \n",
            " |  __mul__(self, value, /)\n",
            " |      Return self*value.\n",
            " |  \n",
            " |  __ne__(self, value, /)\n",
            " |      Return self!=value.\n",
            " |  \n",
            " |  __repr__(self, /)\n",
            " |      Return repr(self).\n",
            " |  \n",
            " |  __reversed__(self, /)\n",
            " |      Return a reverse iterator over the list.\n",
            " |  \n",
            " |  __rmul__(self, value, /)\n",
            " |      Return value*self.\n",
            " |  \n",
            " |  __setitem__(self, key, value, /)\n",
            " |      Set self[key] to value.\n",
            " |  \n",
            " |  __sizeof__(self, /)\n",
            " |      Return the size of the list in memory, in bytes.\n",
            " |  \n",
            " |  append(self, object, /)\n",
            " |      Append object to the end of the list.\n",
            " |  \n",
            " |  clear(self, /)\n",
            " |      Remove all items from list.\n",
            " |  \n",
            " |  copy(self, /)\n",
            " |      Return a shallow copy of the list.\n",
            " |  \n",
            " |  count(self, value, /)\n",
            " |      Return number of occurrences of value.\n",
            " |  \n",
            " |  extend(self, iterable, /)\n",
            " |      Extend list by appending elements from the iterable.\n",
            " |  \n",
            " |  index(self, value, start=0, stop=9223372036854775807, /)\n",
            " |      Return first index of value.\n",
            " |      \n",
            " |      Raises ValueError if the value is not present.\n",
            " |  \n",
            " |  insert(self, index, object, /)\n",
            " |      Insert object before index.\n",
            " |  \n",
            " |  pop(self, index=-1, /)\n",
            " |      Remove and return item at index (default last).\n",
            " |      \n",
            " |      Raises IndexError if list is empty or index is out of range.\n",
            " |  \n",
            " |  remove(self, value, /)\n",
            " |      Remove first occurrence of value.\n",
            " |      \n",
            " |      Raises ValueError if the value is not present.\n",
            " |  \n",
            " |  reverse(self, /)\n",
            " |      Reverse *IN PLACE*.\n",
            " |  \n",
            " |  sort(self, /, *, key=None, reverse=False)\n",
            " |      Sort the list in ascending order and return None.\n",
            " |      \n",
            " |      The sort is in-place (i.e. the list itself is modified) and stable (i.e. the\n",
            " |      order of two equal elements is maintained).\n",
            " |      \n",
            " |      If a key function is given, apply it once to each list item and sort them,\n",
            " |      ascending or descending, according to their function values.\n",
            " |      \n",
            " |      The reverse flag can be set to sort in descending order.\n",
            " |  \n",
            " |  ----------------------------------------------------------------------\n",
            " |  Class methods defined here:\n",
            " |  \n",
            " |  __class_getitem__(...)\n",
            " |      See PEP 585\n",
            " |  \n",
            " |  ----------------------------------------------------------------------\n",
            " |  Static methods defined here:\n",
            " |  \n",
            " |  __new__(*args, **kwargs)\n",
            " |      Create and return a new object.  See help(type) for accurate signature.\n",
            " |  \n",
            " |  ----------------------------------------------------------------------\n",
            " |  Data and other attributes defined here:\n",
            " |  \n",
            " |  __hash__ = None\n",
            "\n"
          ]
        }
      ]
    },
    {
      "cell_type": "code",
      "source": [
        "mylist=[10,20,30]\n",
        "for i in mylist:\n",
        "  print(i)"
      ],
      "metadata": {
        "colab": {
          "base_uri": "https://localhost:8080/"
        },
        "id": "coiV98O-W7vm",
        "outputId": "5c916410-264f-452a-90b1-be57ebd534f6"
      },
      "execution_count": null,
      "outputs": [
        {
          "output_type": "stream",
          "name": "stdout",
          "text": [
            "10\n",
            "20\n",
            "30\n"
          ]
        }
      ]
    },
    {
      "cell_type": "code",
      "source": [
        "mylist=[10,20,30]\n",
        "for i in range(0,3):\n",
        "  print(mylist[i])"
      ],
      "metadata": {
        "colab": {
          "base_uri": "https://localhost:8080/"
        },
        "id": "VD2qG6jZXkv2",
        "outputId": "c7a73e36-03f4-46ae-8cc1-01d9434a114a"
      },
      "execution_count": null,
      "outputs": [
        {
          "output_type": "stream",
          "name": "stdout",
          "text": [
            "10\n",
            "20\n",
            "30\n"
          ]
        }
      ]
    },
    {
      "cell_type": "code",
      "source": [
        "mylist=[10,20,30,67,10,2,6,8,15]\n",
        "len(mylist)"
      ],
      "metadata": {
        "colab": {
          "base_uri": "https://localhost:8080/"
        },
        "id": "PWwmq_8YZdJY",
        "outputId": "fdd72f04-0b97-4749-9367-5b1d13aebdc9"
      },
      "execution_count": null,
      "outputs": [
        {
          "output_type": "execute_result",
          "data": {
            "text/plain": [
              "9"
            ]
          },
          "metadata": {},
          "execution_count": 37
        }
      ]
    },
    {
      "cell_type": "code",
      "source": [
        "mylist=[10,20,30,67,10,2,6,8,15,1,2,3,4,5,6,44]\n",
        "newlist=[]\n",
        "for i in range(0, len(mylist) ):\n",
        "  if(mylist[i] > 10):\n",
        "    print(mylist[i])"
      ],
      "metadata": {
        "colab": {
          "base_uri": "https://localhost:8080/"
        },
        "id": "2vw3HbzHYZ-R",
        "outputId": "72ae8b10-2294-4c3d-96a3-c364031d961e"
      },
      "execution_count": null,
      "outputs": [
        {
          "output_type": "stream",
          "name": "stdout",
          "text": [
            "20\n",
            "30\n",
            "67\n",
            "15\n",
            "44\n"
          ]
        }
      ]
    },
    {
      "cell_type": "code",
      "source": [
        "mylist=[10,20,30,\"hey\",\"naina\",10,\"29\"]\n",
        "\n",
        "for i in range(0, len(mylist) ):\n"
      ],
      "metadata": {
        "id": "lSKwzC7Maf_q"
      },
      "execution_count": null,
      "outputs": []
    },
    {
      "cell_type": "code",
      "source": [
        "mylist=[10,20,30,15,6,7,8,999]\n",
        "max=0\n",
        "for i in range(0, len(mylist) ):\n",
        "  if(mylist[i] > max):\n",
        "    max=mylist[i]\n",
        "\n",
        "print(max)\n",
        "\n"
      ],
      "metadata": {
        "colab": {
          "base_uri": "https://localhost:8080/"
        },
        "id": "tcKAH4rjbsU_",
        "outputId": "3669bc51-a515-472e-d99f-267a2da18442"
      },
      "execution_count": null,
      "outputs": [
        {
          "output_type": "stream",
          "name": "stdout",
          "text": [
            "999\n"
          ]
        }
      ]
    },
    {
      "cell_type": "code",
      "source": [
        "mylist=[10,20,30]\n",
        "mylist.append(40)\n",
        "x=mylist.pop()\n",
        "print(mylist,x)"
      ],
      "metadata": {
        "id": "RIXSqVz3eQRb",
        "colab": {
          "base_uri": "https://localhost:8080/"
        },
        "outputId": "90fe3a4d-4192-4280-c71e-de16d485e1fb"
      },
      "execution_count": null,
      "outputs": [
        {
          "output_type": "stream",
          "name": "stdout",
          "text": [
            "[10, 20, 30] 40\n"
          ]
        }
      ]
    },
    {
      "cell_type": "code",
      "source": [
        "for i in mylist:\n",
        "  print(i)"
      ],
      "metadata": {
        "colab": {
          "base_uri": "https://localhost:8080/"
        },
        "id": "8cSWsHk_btKB",
        "outputId": "0aaa35b1-1ed0-473b-dc1d-7e7f62224ca5"
      },
      "execution_count": null,
      "outputs": [
        {
          "output_type": "stream",
          "name": "stdout",
          "text": [
            "10\n",
            "20\n",
            "30\n"
          ]
        }
      ]
    },
    {
      "cell_type": "code",
      "source": [
        "mylist=[10,20,30,6,4,1,2]\n",
        "for i in range(0, len(mylist)):\n",
        "  print(i, mylist[i] )\n"
      ],
      "metadata": {
        "colab": {
          "base_uri": "https://localhost:8080/"
        },
        "id": "vZN_klMZbxlq",
        "outputId": "7d9dc891-fc0a-436e-8160-6f1f743722ab"
      },
      "execution_count": null,
      "outputs": [
        {
          "output_type": "stream",
          "name": "stdout",
          "text": [
            "0 10\n",
            "1 20\n",
            "2 30\n",
            "3 6\n",
            "4 4\n",
            "5 1\n",
            "6 2\n"
          ]
        }
      ]
    },
    {
      "cell_type": "code",
      "source": [],
      "metadata": {
        "id": "igLHTvsodrHu"
      },
      "execution_count": null,
      "outputs": []
    },
    {
      "cell_type": "code",
      "source": [
        "mylist=[10,30,6,4,1,20,30]\n",
        "maxi = mylist[0]\n",
        "smax=0\n",
        "\n",
        "for i in range(0, len(mylist)):\n",
        "  if(mylist[i] > maxi):    #  30, 20\n",
        "    smax=maxi\n",
        "    maxi=mylist[i]\n",
        "  elif(mylist[i] > smax  and  mylist[i]!=maxi):\n",
        "    smax=mylist[i]\n",
        "\n",
        "print(\"maximum is\", maxi, smax)"
      ],
      "metadata": {
        "colab": {
          "base_uri": "https://localhost:8080/"
        },
        "id": "aQjj0tQYdrBP",
        "outputId": "df8ce626-61b2-44b7-c94c-a4ec90187ddb"
      },
      "execution_count": null,
      "outputs": [
        {
          "output_type": "stream",
          "name": "stdout",
          "text": [
            "maximum is 30 20\n"
          ]
        }
      ]
    },
    {
      "cell_type": "code",
      "source": [
        "20 in [10,20,30]"
      ],
      "metadata": {
        "colab": {
          "base_uri": "https://localhost:8080/"
        },
        "id": "StYygGQkimHc",
        "outputId": "719acd66-39c3-4911-c5ac-0dcb60f7af3b"
      },
      "execution_count": null,
      "outputs": [
        {
          "output_type": "execute_result",
          "data": {
            "text/plain": [
              "True"
            ]
          },
          "metadata": {},
          "execution_count": 18
        }
      ]
    },
    {
      "cell_type": "code",
      "source": [
        "mylist=[10,30,6,4,1,4,30]\n",
        "newlist=[]\n",
        "for i in range(0, len(mylist)):\n",
        "  if( mylist[i]  not in newlist  ):\n",
        "    newlist.append( mylist[i] )\n",
        "  else:\n",
        "    print(\"Duplicate:\", mylist[i])\n",
        "\n",
        "print(newlist)"
      ],
      "metadata": {
        "colab": {
          "base_uri": "https://localhost:8080/"
        },
        "id": "RuFB-7iLjueS",
        "outputId": "737111ff-f5e4-429f-eedf-f4e6923e946c"
      },
      "execution_count": null,
      "outputs": [
        {
          "output_type": "stream",
          "name": "stdout",
          "text": [
            "Duplicate: 4\n",
            "Duplicate: 30\n",
            "[10, 30, 6, 4, 1]\n"
          ]
        }
      ]
    },
    {
      "cell_type": "code",
      "source": [
        "mylist=[10,20,30,40]\n",
        "for i in range(1,4):\n",
        "  print(mylist[i])"
      ],
      "metadata": {
        "colab": {
          "base_uri": "https://localhost:8080/"
        },
        "id": "eXDW4_Y6lnfL",
        "outputId": "6bd7cbf7-47f6-4292-9761-cded32b90869"
      },
      "execution_count": null,
      "outputs": [
        {
          "output_type": "stream",
          "name": "stdout",
          "text": [
            "20\n",
            "30\n",
            "40\n"
          ]
        }
      ]
    },
    {
      "cell_type": "code",
      "source": [
        "mylist=[10,20,10,40,20,50,30]\n",
        "for i in range(0,len(mylist)):\n",
        "  for j in range(i+1,len(mylist)):\n",
        "    if(mylist[i] +  mylist[j]):\n",
        "      print(\"duplicate\", mylist[j])\n",
        "\n",
        "# 10 => n\n",
        "#j   =>  n * (n-1)   ( n2 - n)  => n2\n",
        "\n",
        "    # [1,2,3,7,14]"
      ],
      "metadata": {
        "colab": {
          "base_uri": "https://localhost:8080/"
        },
        "id": "4wXlV_cXlLWC",
        "outputId": "069ed243-5928-475f-8165-6c9c90587dab"
      },
      "execution_count": null,
      "outputs": [
        {
          "output_type": "stream",
          "name": "stdout",
          "text": [
            "duplicate 20\n",
            "duplicate 10\n",
            "duplicate 40\n",
            "duplicate 20\n",
            "duplicate 50\n",
            "duplicate 30\n",
            "duplicate 10\n",
            "duplicate 40\n",
            "duplicate 20\n",
            "duplicate 50\n",
            "duplicate 30\n",
            "duplicate 40\n",
            "duplicate 20\n",
            "duplicate 50\n",
            "duplicate 30\n",
            "duplicate 20\n",
            "duplicate 50\n",
            "duplicate 30\n",
            "duplicate 50\n",
            "duplicate 30\n",
            "duplicate 30\n"
          ]
        }
      ]
    },
    {
      "cell_type": "code",
      "source": [
        "\n",
        "\n",
        "data=\"hey user\"\n",
        "for i in range(0,len(data)):\n",
        "  for j in range(i+1,len(data)):\n",
        "    if(data[i] ==  data[j]):\n",
        "      print(\"duplicate\", data[j])"
      ],
      "metadata": {
        "colab": {
          "base_uri": "https://localhost:8080/"
        },
        "id": "edruolJyp8rc",
        "outputId": "a4b02af2-eb86-4292-dee0-f0bac5185cab"
      },
      "execution_count": null,
      "outputs": [
        {
          "output_type": "stream",
          "name": "stdout",
          "text": [
            "duplicate e\n"
          ]
        }
      ]
    },
    {
      "cell_type": "code",
      "source": [
        "mylist=[1,2,3,5,7,11,18]\n",
        "target=9\n",
        "# 2 pointer approach"
      ],
      "metadata": {
        "id": "yuldM1ki4qtj"
      },
      "execution_count": null,
      "outputs": []
    },
    {
      "cell_type": "code",
      "source": [
        "mylist=[1,2,3,5,7,11,18]\n",
        "i=0\n",
        "end=len(mylist)-1\n",
        "while(i<len(mylist)):\n",
        "\n",
        "  if(mylist[i]+ mylist[end]  > 9):\n",
        "    end-=1\n",
        "\n",
        "  elif( mylist[i]+ mylist[end]  < 9) :\n",
        "    i+=1\n",
        "  else:\n",
        "    print(\"total of two alues\", mylist[i], mylist[end])\n",
        "  i+=1\n",
        "  end-=1\n"
      ],
      "metadata": {
        "colab": {
          "base_uri": "https://localhost:8080/"
        },
        "id": "4cjwCWfg8OGH",
        "outputId": "07d3c7b3-9ac2-4cd5-e113-af56edf2a42a"
      },
      "execution_count": null,
      "outputs": [
        {
          "output_type": "stream",
          "name": "stdout",
          "text": [
            "total of two alues 2 7\n"
          ]
        }
      ]
    },
    {
      "cell_type": "code",
      "source": [
        "data=\"SARAZ\"\n",
        "i=0\n",
        "end=len(data)-1\n",
        "a=0\n",
        "while(i<len(data)):\n",
        "  if( data[i] !=  data[end]):\n",
        "    a=1\n",
        "    break\n",
        "  i+=1\n",
        "  end-=1\n",
        "\n",
        "if(a==0):\n",
        "  print(\"string is palindrome\")\n",
        "else:\n",
        "  print(\"Not a palindrome\")"
      ],
      "metadata": {
        "colab": {
          "base_uri": "https://localhost:8080/"
        },
        "id": "lscltXPNDber",
        "outputId": "795af722-af39-42c0-9284-618e57e7c827"
      },
      "execution_count": null,
      "outputs": [
        {
          "output_type": "stream",
          "name": "stdout",
          "text": [
            "Not a palindrome\n"
          ]
        }
      ]
    },
    {
      "cell_type": "code",
      "source": [
        "# [10,20,10,10,10,10,31,40,31,]\n",
        "# [10,10,10,10,31]"
      ],
      "metadata": {
        "id": "OzqKVQZRFrIz"
      },
      "execution_count": null,
      "outputs": []
    },
    {
      "cell_type": "code",
      "source": [
        "mylist=[10,20,30,40,5]\n",
        "i=0\n",
        "end=len(mylist)-1\n",
        "while(i<end):\n",
        "  print(mylist[i],  mylist[end])\n",
        "  i+=1\n",
        "  end-=1\n"
      ],
      "metadata": {
        "colab": {
          "base_uri": "https://localhost:8080/"
        },
        "id": "T0hH2Ug0AVUk",
        "outputId": "f7ca88d2-41ee-49ea-c953-20c81e3c40f2"
      },
      "execution_count": null,
      "outputs": [
        {
          "output_type": "stream",
          "name": "stdout",
          "text": [
            "10 5\n",
            "20 40\n"
          ]
        }
      ]
    },
    {
      "cell_type": "code",
      "source": [
        "mylist=[10,20,2,4,5]\n",
        "for i in range(0,len(mylist)):\n",
        "  print(\"-----\",mylist[0])\n",
        "  for j in range(i+1, len(mylist)):\n",
        "    if(mylist[i] > mylist[j]):\n",
        "      mylist[i], mylist[j] =  mylist[j], mylist[i]\n",
        "\n",
        "  print(mylist)"
      ],
      "metadata": {
        "colab": {
          "base_uri": "https://localhost:8080/"
        },
        "id": "E-kKpZ3bJ561",
        "outputId": "9602e11a-f66d-46f5-b5ea-5228de234776"
      },
      "execution_count": null,
      "outputs": [
        {
          "output_type": "stream",
          "name": "stdout",
          "text": [
            "----- 10\n",
            "[2, 20, 10, 4, 5]\n",
            "----- 2\n",
            "[2, 4, 20, 10, 5]\n",
            "----- 2\n",
            "[2, 4, 5, 20, 10]\n",
            "----- 2\n",
            "[2, 4, 5, 10, 20]\n",
            "----- 2\n",
            "[2, 4, 5, 10, 20]\n"
          ]
        }
      ]
    },
    {
      "cell_type": "code",
      "source": [
        "# valid parenthesis * => list ,  dictionary\n",
        "\n",
        "data=\"()[\"\n",
        "x=[]\n",
        "a=0\n",
        "for char in data:\n",
        "  if(char==\"(\" or char==\"[\" or char==\"{\"):   # x=\"[\"\n",
        "    x.append(char)\n",
        "  elif(x):\n",
        "    if( (char==\")\" and  \"(\"==x.pop())   or (char==\"]\" and  \"[\"==x.pop() )  ):\n",
        "      continue\n",
        "    else:\n",
        "      a=1\n",
        "      break\n",
        "  else:\n",
        "    a=1\n",
        "    break\n",
        "\n",
        "if(a==1 or len(x)>=1):\n",
        "  print(\"invalid\")\n",
        "else:\n",
        "  print(\"valid\")\n"
      ],
      "metadata": {
        "colab": {
          "base_uri": "https://localhost:8080/"
        },
        "id": "pucf8LdTM9kk",
        "outputId": "b23a09b7-65a6-48f5-ba9a-57345e984293"
      },
      "execution_count": null,
      "outputs": [
        {
          "output_type": "stream",
          "name": "stdout",
          "text": [
            "invalid\n"
          ]
        }
      ]
    },
    {
      "cell_type": "code",
      "source": [
        "# valid parenthesis * => list ,  dictionary\n",
        "\n",
        "data=\"[)\"\n",
        "x=None\n",
        "for char in data:\n",
        "  if(char==\"(\" or char==\"[\"):   # x=\"[\"\n",
        "    x=char\n",
        "  elif( char==\")\" and  \"(\"==x     ):\n",
        "    print(\"valid\", char, x )\n",
        "  elif( char==\"]\" and  \"[\"==x ):\n",
        "    print(\"valid\", char, x )\n",
        "  else:\n",
        "    print(\"invalid\", char, x)\n",
        "\n",
        "print(\"x=>\",x)\n"
      ],
      "metadata": {
        "id": "TfUJUviySPfJ"
      },
      "execution_count": null,
      "outputs": []
    },
    {
      "cell_type": "code",
      "source": [
        "x=[]\n",
        "x.append(\"axz\")\n",
        "x.extend(\"bcde\")\n",
        "print(x)"
      ],
      "metadata": {
        "colab": {
          "base_uri": "https://localhost:8080/"
        },
        "id": "cPS-jaWvUrLi",
        "outputId": "2c3325b1-bece-4905-f6b4-297482a7958a"
      },
      "execution_count": null,
      "outputs": [
        {
          "output_type": "stream",
          "name": "stdout",
          "text": [
            "['axz', 'b', 'c', 'd', 'e']\n"
          ]
        }
      ]
    },
    {
      "cell_type": "code",
      "source": [
        "mylist=[11,20,10]\n",
        "z=mylist.pop()\n",
        "print( 10==z )\n",
        "print(mylist,z)\n",
        "\n"
      ],
      "metadata": {
        "colab": {
          "base_uri": "https://localhost:8080/"
        },
        "id": "7KUefoM0X-Lb",
        "outputId": "4831429b-0647-49cc-e846-38c7c80db65f"
      },
      "execution_count": null,
      "outputs": [
        {
          "output_type": "stream",
          "name": "stdout",
          "text": [
            "True\n",
            "[11, 20] 10\n"
          ]
        }
      ]
    },
    {
      "cell_type": "code",
      "source": [
        "# tuple\n",
        "# immutable\n",
        "# list index\n",
        "mytuple=10,20\n",
        "\n",
        "mytuple=(10,20,10,10)"
      ],
      "metadata": {
        "id": "R3y8PVS06P2w"
      },
      "execution_count": null,
      "outputs": []
    },
    {
      "cell_type": "code",
      "source": [
        "mytuple[0]"
      ],
      "metadata": {
        "colab": {
          "base_uri": "https://localhost:8080/"
        },
        "id": "-rg9L8qi9_I6",
        "outputId": "788dc07d-9118-4614-8aeb-5d62047fb71f"
      },
      "execution_count": null,
      "outputs": [
        {
          "output_type": "execute_result",
          "data": {
            "text/plain": [
              "10"
            ]
          },
          "metadata": {},
          "execution_count": 5
        }
      ]
    },
    {
      "cell_type": "code",
      "source": [
        "\n",
        "mytuple=(10,20,10,10)\n",
        "mytuple.count(10)"
      ],
      "metadata": {
        "colab": {
          "base_uri": "https://localhost:8080/"
        },
        "id": "hF9zXwpm-JgR",
        "outputId": "eac072ae-87ef-4faa-e6e4-e31a5a3a8c02"
      },
      "execution_count": null,
      "outputs": [
        {
          "output_type": "execute_result",
          "data": {
            "text/plain": [
              "3"
            ]
          },
          "metadata": {},
          "execution_count": 7
        }
      ]
    },
    {
      "cell_type": "code",
      "source": [
        "mytuple.index(20)  # will give index position of first element from the data in list"
      ],
      "metadata": {
        "colab": {
          "base_uri": "https://localhost:8080/"
        },
        "id": "SGd9Banv-P0K",
        "outputId": "4383dd43-28ab-4f03-d40e-1f4ffcf7a0d2"
      },
      "execution_count": null,
      "outputs": [
        {
          "output_type": "execute_result",
          "data": {
            "text/plain": [
              "1"
            ]
          },
          "metadata": {},
          "execution_count": 9
        }
      ]
    },
    {
      "cell_type": "code",
      "source": [
        "# dictionary\n",
        "# datatype\n",
        "# key and value\n",
        "\n",
        "# time complexity\n",
        "#  [10,11,12,13,14]  =>[10,abc,11,12,13,14]\n",
        "# O(n)\n",
        "# dictionary => no index\n",
        "# key:value\n",
        "# key => unique\n",
        "# value => unique / duplicate\n",
        "# ordered collection of element"
      ],
      "metadata": {
        "id": "R_cJy-C--ddJ"
      },
      "execution_count": null,
      "outputs": []
    },
    {
      "cell_type": "code",
      "source": [
        "mydictionary={10:\"yash\", 11:\"aman\"}"
      ],
      "metadata": {
        "id": "Kz9Hmb7WAgov"
      },
      "execution_count": null,
      "outputs": []
    },
    {
      "cell_type": "code",
      "source": [
        "mydictionary={10:\"yash\", 11:\"aman\"}\n",
        "mydictionary[10]=\"naina\"   #update the value for key 10\n",
        "print(mydictionary)"
      ],
      "metadata": {
        "colab": {
          "base_uri": "https://localhost:8080/"
        },
        "id": "HEwHuZ2zA2pR",
        "outputId": "4f93454f-fdbd-48a8-9207-984052859bb3"
      },
      "execution_count": null,
      "outputs": [
        {
          "output_type": "stream",
          "name": "stdout",
          "text": [
            "{10: 'naina', 11: 'aman'}\n"
          ]
        }
      ]
    },
    {
      "cell_type": "code",
      "source": [
        "mydictionary={10:\"yash\", 11:\"aman\"}\n",
        "mydictionary[10]=\"naina\"   #update the value for key 10\n",
        "print(mydictionary)"
      ],
      "metadata": {
        "colab": {
          "base_uri": "https://localhost:8080/"
        },
        "id": "HuIAyFi1BIN2",
        "outputId": "24308bcc-4c5f-445b-a643-d53271b8ce0e"
      },
      "execution_count": null,
      "outputs": [
        {
          "output_type": "stream",
          "name": "stdout",
          "text": [
            "{10: 'naina', 11: 'aman'}\n"
          ]
        }
      ]
    },
    {
      "cell_type": "code",
      "source": [
        "mydictionary={10:\"yash\", 11:\"aman\"}\n",
        "mydictionary[15]=\"naina\"   #insert the value for key 10\n",
        "print(mydictionary)"
      ],
      "metadata": {
        "colab": {
          "base_uri": "https://localhost:8080/"
        },
        "id": "XFV3QyV9BYV5",
        "outputId": "e89ec9e1-d0d3-483d-93dd-66e719a9cfdd"
      },
      "execution_count": null,
      "outputs": [
        {
          "output_type": "stream",
          "name": "stdout",
          "text": [
            "{10: 'yash', 11: 'aman', 15: 'naina'}\n"
          ]
        }
      ]
    },
    {
      "cell_type": "code",
      "source": [
        "mydictionary={10:\"yash\", 11:\"aman\", \"salary\":80}\n",
        "\n",
        "mydictionary[\"salary\"] = mydictionary[\"salary\"]+5\n",
        "print(mydictionary)"
      ],
      "metadata": {
        "colab": {
          "base_uri": "https://localhost:8080/"
        },
        "id": "w2YD2qNqBtLD",
        "outputId": "367be6a5-15e6-43e7-e840-23016a8519bd"
      },
      "execution_count": null,
      "outputs": [
        {
          "output_type": "stream",
          "name": "stdout",
          "text": [
            "{10: 'yash', 11: 'aman', 'salary': 85}\n"
          ]
        }
      ]
    },
    {
      "cell_type": "code",
      "source": [
        "mydictionary={10:\"yash\", 11:\"aman\", \"salary\":80}\n",
        "\n",
        "print(mydictionary.keys())  # only keys\n",
        "\n",
        "print(mydictionary.values())   # only values\n",
        "print(mydictionary.items())   # key and value both in form of tuples"
      ],
      "metadata": {
        "colab": {
          "base_uri": "https://localhost:8080/"
        },
        "id": "7oVcOsq1B1Eg",
        "outputId": "9c847efa-63d9-48bc-a85c-7fa6543297bb"
      },
      "execution_count": null,
      "outputs": [
        {
          "output_type": "stream",
          "name": "stdout",
          "text": [
            "dict_keys([10, 11, 'salary'])\n",
            "dict_values(['yash', 'aman', 80])\n",
            "dict_items([(10, 'yash'), (11, 'aman'), ('salary', 80)])\n"
          ]
        }
      ]
    },
    {
      "cell_type": "code",
      "source": [
        "mydictionary={10:\"yash\", 11:\"aman\", \"salary\":80}\n",
        "\n",
        "for i in mydictionary:\n",
        "  print(i, mydictionary[i])"
      ],
      "metadata": {
        "colab": {
          "base_uri": "https://localhost:8080/"
        },
        "id": "eG5hLVNlDoje",
        "outputId": "f6af7a63-2909-482a-971a-40db7b399592"
      },
      "execution_count": null,
      "outputs": [
        {
          "output_type": "stream",
          "name": "stdout",
          "text": [
            "10 yash\n",
            "11 aman\n",
            "salary 80\n"
          ]
        }
      ]
    },
    {
      "cell_type": "code",
      "source": [
        "mydictionary={10:\"yash\", 11:\"aman\", \"salary\":80}\n",
        "\n",
        "for i in mydictionary.keys():\n",
        "  print(i, mydictionary[i])"
      ],
      "metadata": {
        "colab": {
          "base_uri": "https://localhost:8080/"
        },
        "id": "4sT2ZvY7D7i6",
        "outputId": "f30b76c4-a9b3-4bc9-a9b7-33355441a65b"
      },
      "execution_count": null,
      "outputs": [
        {
          "output_type": "stream",
          "name": "stdout",
          "text": [
            "10 yash\n",
            "11 aman\n",
            "salary 80\n"
          ]
        }
      ]
    },
    {
      "cell_type": "code",
      "source": [
        "s=\"hey\"\n",
        "mydictionary={}  #dict[key]=value\n",
        "for i in s:\n",
        "  mydictionary[i]=1\n",
        "\n",
        "print(mydictionary)"
      ],
      "metadata": {
        "colab": {
          "base_uri": "https://localhost:8080/"
        },
        "id": "PgCTI_rGEoJ0",
        "outputId": "0d003aed-349a-497a-9ed7-87b98f67220d"
      },
      "execution_count": null,
      "outputs": [
        {
          "output_type": "stream",
          "name": "stdout",
          "text": [
            "{'h': 1, 'e': 1, 'y': 1}\n"
          ]
        }
      ]
    },
    {
      "cell_type": "code",
      "source": [
        "# s=\"helllo hey\"\n",
        "# {total:10}"
      ],
      "metadata": {
        "id": "AdBlqDUHGRpL"
      },
      "execution_count": null,
      "outputs": []
    },
    {
      "cell_type": "code",
      "source": [
        "s=\"hey hello abhi\"\n",
        "# {e:2, o:1,  a:1, i:1}\n",
        "mydict={}\n",
        "for i in s:\n",
        "  if i in \"aeiou\":\n",
        "    if i not in mydict:\n",
        "      mydict[i]=1\n",
        "    else:\n",
        "      mydict[i] = mydict[i]+1\n",
        "\n",
        "print(mydict)"
      ],
      "metadata": {
        "colab": {
          "base_uri": "https://localhost:8080/"
        },
        "id": "h24d5Jt-H-Lw",
        "outputId": "32329937-ae79-4a6e-99b8-cdbf50e6baf9"
      },
      "execution_count": null,
      "outputs": [
        {
          "output_type": "stream",
          "name": "stdout",
          "text": [
            "{'e': 2, 'o': 1, 'a': 1, 'i': 1}\n"
          ]
        }
      ]
    },
    {
      "cell_type": "code",
      "source": [
        "# string is a anagram\n",
        "s=\"rarj\"\n",
        "t=\"jrra\"\n",
        "dict1={}\n",
        "dict2={}\n",
        "for i in s:\n",
        "  if i in dict1:\n",
        "    dict1[i]= dict1[i]+1\n",
        "  else:\n",
        "    dict1[i]=1\n",
        "\n",
        "for i in t:\n",
        "  if i in dict2:\n",
        "    dict2[i]= dict2[i]+1\n",
        "  else:\n",
        "    dict2[i]=1\n",
        "\n",
        "if(dict1 == dict2):\n",
        "  print(\"t is anagram of s\")\n",
        "else:\n",
        "  print(\"not a anagram\")\n"
      ],
      "metadata": {
        "id": "UJvF77QqH_Tl",
        "colab": {
          "base_uri": "https://localhost:8080/"
        },
        "outputId": "89132095-1259-4ab4-f519-f6d71f9c0e32"
      },
      "execution_count": null,
      "outputs": [
        {
          "output_type": "stream",
          "name": "stdout",
          "text": [
            "t is anagram of s\n"
          ]
        }
      ]
    },
    {
      "cell_type": "code",
      "source": [
        "# dictionary\n",
        "# List comphrension : summarized to create a new list\n",
        "# better readability of code"
      ],
      "metadata": {
        "id": "t08yhFkdGMXV"
      },
      "execution_count": null,
      "outputs": []
    },
    {
      "cell_type": "code",
      "source": [
        "# for i in range(1,10):\n",
        "#   mylist.append(i)\n",
        "# [i for i in range(1,10) ]"
      ],
      "metadata": {
        "id": "HJBW3kg2HCCG"
      },
      "execution_count": null,
      "outputs": []
    },
    {
      "cell_type": "code",
      "source": [
        "# set => datatype mutiple values are stored\n",
        "# contain all immutable values\n",
        "# set have all the unique\n",
        "# Set is mutuable datatype\n",
        "\n",
        "myset= set( {} )\n",
        "print(type(myset))"
      ],
      "metadata": {
        "colab": {
          "base_uri": "https://localhost:8080/"
        },
        "id": "2F2GNhQTHzhU",
        "outputId": "994fd762-d34c-46e6-86cc-cad1d6fa5c8d"
      },
      "execution_count": null,
      "outputs": [
        {
          "output_type": "stream",
          "name": "stdout",
          "text": [
            "<class 'set'>\n"
          ]
        }
      ]
    },
    {
      "cell_type": "code",
      "source": [
        "myset={1,2,3,4,5,1,1,1,1,3,4,100}\n",
        "print(myset)"
      ],
      "metadata": {
        "colab": {
          "base_uri": "https://localhost:8080/"
        },
        "id": "ztt_wAIWIJxx",
        "outputId": "710e8b99-d67a-40f5-9f38-0f51d6dccab8"
      },
      "execution_count": null,
      "outputs": [
        {
          "output_type": "stream",
          "name": "stdout",
          "text": [
            "{1, 2, 3, 4, 5, 100}\n"
          ]
        }
      ]
    },
    {
      "cell_type": "code",
      "source": [
        "myset={1,2,3,4,5,1,1,1,1,3,4,100}\n",
        "print(myset)\n",
        "myset.add(99)  #add\n",
        "print(myset)\n",
        "myset.remove(2)   #delete\n",
        "print(myset)\n",
        "\n"
      ],
      "metadata": {
        "colab": {
          "base_uri": "https://localhost:8080/"
        },
        "id": "nS30B_NaI2vD",
        "outputId": "2ecbfe70-2ef3-461d-e7cc-8bfca1d229a0"
      },
      "execution_count": null,
      "outputs": [
        {
          "output_type": "stream",
          "name": "stdout",
          "text": [
            "{1, 2, 3, 4, 5, 100}\n",
            "{1, 2, 3, 4, 5, 100, 99}\n",
            "{1, 3, 4, 5, 100, 99}\n"
          ]
        }
      ]
    },
    {
      "cell_type": "code",
      "source": [
        "myset={1,2,3}\n",
        "myset.update( [\"hey\"] )\n",
        "print(myset)"
      ],
      "metadata": {
        "colab": {
          "base_uri": "https://localhost:8080/"
        },
        "id": "w1qHnS3yJgf5",
        "outputId": "5db1c1ac-33ed-4b2a-de16-8792f048648a"
      },
      "execution_count": null,
      "outputs": [
        {
          "output_type": "stream",
          "name": "stdout",
          "text": [
            "{1, 2, 3, 'hey'}\n"
          ]
        }
      ]
    },
    {
      "cell_type": "code",
      "source": [
        "# just combine result between 2 or more set\n",
        "myset1={1,2,4}\n",
        "myset2={56,57,3,8,4}\n",
        "myset1.union(myset2)"
      ],
      "metadata": {
        "colab": {
          "base_uri": "https://localhost:8080/"
        },
        "id": "8kiF1ZCtJlQ0",
        "outputId": "5cd5ec63-275d-4043-b708-33d5814375b4"
      },
      "execution_count": null,
      "outputs": [
        {
          "output_type": "execute_result",
          "data": {
            "text/plain": [
              "{1, 2, 3, 4, 8, 56, 57}"
            ]
          },
          "metadata": {},
          "execution_count": 27
        }
      ]
    },
    {
      "cell_type": "code",
      "source": [
        "myset1.intersection(myset2)"
      ],
      "metadata": {
        "colab": {
          "base_uri": "https://localhost:8080/"
        },
        "id": "17Pp7WGgKjPB",
        "outputId": "09323104-787d-4b6e-a599-82c88cc387c5"
      },
      "execution_count": null,
      "outputs": [
        {
          "output_type": "execute_result",
          "data": {
            "text/plain": [
              "{4}"
            ]
          },
          "metadata": {},
          "execution_count": 28
        }
      ]
    },
    {
      "cell_type": "code",
      "source": [
        "# dictonary and set comphrehension\n",
        "{i:1 for i in \"helo\"}"
      ],
      "metadata": {
        "colab": {
          "base_uri": "https://localhost:8080/"
        },
        "id": "z80XimeGLSlV",
        "outputId": "7e2c2781-a79d-4981-a995-0239402a9efd"
      },
      "execution_count": null,
      "outputs": [
        {
          "output_type": "execute_result",
          "data": {
            "text/plain": [
              "{'h': 1, 'e': 1, 'l': 1, 'o': 1}"
            ]
          },
          "metadata": {},
          "execution_count": 31
        }
      ]
    },
    {
      "cell_type": "code",
      "source": [
        "'''\n",
        "Take a number and check it whether the number is a palindrome\n",
        "x=789\n",
        "\n",
        "'''\n",
        "for i in range(1,13):\n",
        "  print(i)\n",
        "\n",
        "print(\"outside\",i)"
      ],
      "metadata": {
        "id": "l56uT8gwPSF0",
        "colab": {
          "base_uri": "https://localhost:8080/"
        },
        "outputId": "f2511c0f-d0b3-4c8d-a0cf-18bde59a93ff"
      },
      "execution_count": null,
      "outputs": [
        {
          "output_type": "stream",
          "name": "stdout",
          "text": [
            "1\n",
            "2\n",
            "3\n",
            "4\n",
            "5\n",
            "6\n",
            "7\n",
            "8\n",
            "9\n",
            "10\n",
            "11\n",
            "12\n",
            "outside 12\n"
          ]
        }
      ]
    },
    {
      "cell_type": "code",
      "source": [
        "for i in range(1,5):\n",
        "  for k in range(1,i):\n",
        "    print(\"O\", end=\" \")\n",
        "  for j in range(i,5):  #(1,5-1)\n",
        "    if(j==4 or i==1 or i==j):\n",
        "      print(j, end=\" \")\n",
        "    else:\n",
        "      print(\" \",end=\" \")\n",
        "  print(\"\")"
      ],
      "metadata": {
        "colab": {
          "base_uri": "https://localhost:8080/"
        },
        "id": "cNl4lvQdfhZP",
        "outputId": "d2d132ae-7f3b-46a3-eec1-8ab504c9a85d"
      },
      "execution_count": null,
      "outputs": [
        {
          "output_type": "stream",
          "name": "stdout",
          "text": [
            "1 2 3 4 \n",
            "O 2   4 \n",
            "O O 3 4 \n",
            "O O O 4 \n"
          ]
        }
      ]
    },
    {
      "cell_type": "code",
      "source": [
        "# loops\n",
        "# statement jo again again => statement\n",
        "print(\"hey\")\n",
        "print(\"hey\")\n",
        "print(\"hey\")\n",
        "print(\"hey\")\n",
        "print(\"hey\")\n",
        "print(\"hey\")\n",
        "# for loop  vs  while loop"
      ],
      "metadata": {
        "colab": {
          "base_uri": "https://localhost:8080/"
        },
        "id": "xP3s2Y1n_iee",
        "outputId": "413595a8-25d2-4b97-f8ea-26b3e68c821e"
      },
      "execution_count": null,
      "outputs": [
        {
          "output_type": "stream",
          "name": "stdout",
          "text": [
            "hey\n",
            "hey\n",
            "hey\n",
            "hey\n",
            "hey\n",
            "hey\n"
          ]
        }
      ]
    },
    {
      "cell_type": "code",
      "source": [
        "# for loop => fixed time\n",
        "# for(i=1 ; i<5; i++)\n",
        "# for i in range(1,5)\n",
        "for i in range(1,5):\n",
        "  print(i)"
      ],
      "metadata": {
        "colab": {
          "base_uri": "https://localhost:8080/"
        },
        "id": "TC2WHY29_7Zm",
        "outputId": "e626c1f5-e6c3-4d60-eb30-88a77fc9b892"
      },
      "execution_count": null,
      "outputs": [
        {
          "output_type": "stream",
          "name": "stdout",
          "text": [
            "1\n",
            "2\n",
            "3\n",
            "4\n"
          ]
        }
      ]
    },
    {
      "cell_type": "code",
      "source": [
        "for i in range(7,2,-1):\n",
        "  print(i)"
      ],
      "metadata": {
        "colab": {
          "base_uri": "https://localhost:8080/"
        },
        "id": "tcn0dHeyA7Cz",
        "outputId": "161119ea-f3f7-4ad3-d84a-a653eca8cee7"
      },
      "execution_count": null,
      "outputs": [
        {
          "output_type": "stream",
          "name": "stdout",
          "text": [
            "7\n",
            "6\n",
            "5\n",
            "4\n",
            "3\n"
          ]
        }
      ]
    },
    {
      "cell_type": "code",
      "source": [
        "for i in range(1,10):\n",
        "  if(i==3):\n",
        "    print(\"value of i:\",i)"
      ],
      "metadata": {
        "colab": {
          "base_uri": "https://localhost:8080/"
        },
        "id": "5zSl9MyJBYB7",
        "outputId": "b287205a-07b9-4484-c18c-b0b06c470f1d"
      },
      "execution_count": null,
      "outputs": [
        {
          "output_type": "stream",
          "name": "stdout",
          "text": [
            "value of i: 3\n"
          ]
        }
      ]
    },
    {
      "cell_type": "code",
      "source": [
        "/"
      ],
      "metadata": {
        "colab": {
          "base_uri": "https://localhost:8080/"
        },
        "id": "hDlUtC3BDQ0G",
        "outputId": "97b700bb-e656-4ec0-be32-3bdb0605be3f"
      },
      "execution_count": null,
      "outputs": [
        {
          "output_type": "execute_result",
          "data": {
            "text/plain": [
              "()"
            ]
          },
          "metadata": {},
          "execution_count": 13
        }
      ]
    },
    {
      "cell_type": "code",
      "source": [
        "for i in range(57,19,-1):\n",
        "  if(i%2==0 and i%5==0):\n",
        "    print(\"Divided by both\",i)\n",
        "  else:\n",
        "    print(\"Not\",i)\n"
      ],
      "metadata": {
        "colab": {
          "base_uri": "https://localhost:8080/"
        },
        "id": "-mw1IK_BEcbj",
        "outputId": "0669ed1d-6ac0-4eac-f77e-5f21ebf9900d"
      },
      "execution_count": null,
      "outputs": [
        {
          "output_type": "stream",
          "name": "stdout",
          "text": [
            "Not 57\n",
            "Not 56\n",
            "Not 55\n",
            "Not 54\n",
            "Not 53\n",
            "Not 52\n",
            "Not 51\n",
            "Divided by both 50\n",
            "Not 49\n",
            "Not 48\n",
            "Not 47\n",
            "Not 46\n",
            "Not 45\n",
            "Not 44\n",
            "Not 43\n",
            "Not 42\n",
            "Not 41\n",
            "Divided by both 40\n",
            "Not 39\n",
            "Not 38\n",
            "Not 37\n",
            "Not 36\n",
            "Not 35\n",
            "Not 34\n",
            "Not 33\n",
            "Not 32\n",
            "Not 31\n",
            "Divided by both 30\n",
            "Not 29\n",
            "Not 28\n",
            "Not 27\n",
            "Not 26\n",
            "Not 25\n",
            "Not 24\n",
            "Not 23\n",
            "Not 22\n",
            "Not 21\n",
            "Divided by both 20\n"
          ]
        }
      ]
    },
    {
      "cell_type": "code",
      "source": [
        "for i in range(57,19,-1):\n",
        "  if(i%2==0 and i%5==0):\n",
        "    print(\"Divided by both\",i)\n",
        "  else:\n",
        "    print(\"Not\",i)\n"
      ],
      "metadata": {
        "colab": {
          "base_uri": "https://localhost:8080/"
        },
        "id": "204DLdxrE7C9",
        "outputId": "b2521af7-e118-4dc4-93d4-ecb19f2a21bf"
      },
      "execution_count": null,
      "outputs": [
        {
          "output_type": "stream",
          "name": "stdout",
          "text": [
            "Not 57\n",
            "Not 56\n",
            "Not 55\n",
            "Not 54\n",
            "Not 53\n",
            "Not 52\n",
            "Not 51\n",
            "Divided by both 50\n",
            "Not 49\n",
            "Not 48\n",
            "Not 47\n",
            "Not 46\n",
            "Not 45\n",
            "Not 44\n",
            "Not 43\n",
            "Not 42\n",
            "Not 41\n",
            "Divided by both 40\n",
            "Not 39\n",
            "Not 38\n",
            "Not 37\n",
            "Not 36\n",
            "Not 35\n",
            "Not 34\n",
            "Not 33\n",
            "Not 32\n",
            "Not 31\n",
            "Divided by both 30\n",
            "Not 29\n",
            "Not 28\n",
            "Not 27\n",
            "Not 26\n",
            "Not 25\n",
            "Not 24\n",
            "Not 23\n",
            "Not 22\n",
            "Not 21\n",
            "Divided by both 20\n"
          ]
        }
      ]
    },
    {
      "cell_type": "code",
      "source": [
        "# to calcuate the total of number from 1 to 10\n",
        "# 1+2+3+4....+10\n",
        "total=0\n",
        "\n",
        "for i in range(1,11):\n",
        "  total=total+i\n",
        "  print(i, \"total:\", total)"
      ],
      "metadata": {
        "colab": {
          "base_uri": "https://localhost:8080/"
        },
        "id": "QfJb3DG4FTys",
        "outputId": "6494bf69-180a-4a9e-c60f-e29895474e3e"
      },
      "execution_count": null,
      "outputs": [
        {
          "output_type": "stream",
          "name": "stdout",
          "text": [
            "1 total: 1\n",
            "2 total: 3\n",
            "3 total: 6\n",
            "4 total: 10\n",
            "5 total: 15\n",
            "6 total: 21\n",
            "7 total: 28\n",
            "8 total: 36\n",
            "9 total: 45\n",
            "10 total: 55\n"
          ]
        }
      ]
    },
    {
      "cell_type": "code",
      "source": [
        "count=0\n",
        "total=0\n",
        "for i in range(97,46,-1):\n",
        "  if(i%2==0):\n",
        "    count=count+1\n",
        "    total+=i\n",
        "\n",
        "print(total, count)"
      ],
      "metadata": {
        "colab": {
          "base_uri": "https://localhost:8080/"
        },
        "id": "1ATPfc2ILHyK",
        "outputId": "a8d3365b-f48b-40b9-d0ba-e9e85a258b5d"
      },
      "execution_count": null,
      "outputs": [
        {
          "output_type": "stream",
          "name": "stdout",
          "text": [
            "1800 25\n"
          ]
        }
      ]
    },
    {
      "cell_type": "code",
      "source": [
        "# range()\n",
        "data=\"regex\"\n",
        "for  char in data:\n",
        "  print(char)"
      ],
      "metadata": {
        "colab": {
          "base_uri": "https://localhost:8080/"
        },
        "id": "QBAmqEEzMBrn",
        "outputId": "3ba3cb7b-cb4d-480b-f44d-ea2fe5a0b757"
      },
      "execution_count": null,
      "outputs": [
        {
          "output_type": "stream",
          "name": "stdout",
          "text": [
            "r\n",
            "e\n",
            "g\n",
            "e\n",
            "x\n"
          ]
        }
      ]
    },
    {
      "cell_type": "code",
      "source": [
        "s=\"REGEX\"\n",
        "\n",
        "for i in range(0,5):\n",
        "  print(i, s[i])  #s[2]"
      ],
      "metadata": {
        "colab": {
          "base_uri": "https://localhost:8080/"
        },
        "id": "LXj-3hXxNt9F",
        "outputId": "73b19c2c-edfd-4751-f4c3-0539bc1c5a67"
      },
      "execution_count": null,
      "outputs": [
        {
          "output_type": "stream",
          "name": "stdout",
          "text": [
            "0 R\n",
            "1 E\n",
            "2 G\n",
            "3 E\n",
            "4 X\n"
          ]
        }
      ]
    },
    {
      "cell_type": "code",
      "source": [
        "# -5-4-3-2-1  #negative indexing\n",
        "s=\"REGEX\"\n",
        "print(s[-3])\n",
        "#01234  #positive indexing"
      ],
      "metadata": {
        "colab": {
          "base_uri": "https://localhost:8080/"
        },
        "id": "VwGRxQS7Mawj",
        "outputId": "00a3639b-5c32-4346-f9ed-24a8fe880d3d"
      },
      "execution_count": null,
      "outputs": [
        {
          "output_type": "stream",
          "name": "stdout",
          "text": [
            "G\n"
          ]
        }
      ]
    },
    {
      "cell_type": "code",
      "source": [
        "# while loop\n",
        "# for loop\n",
        "# while loop => execute ( iteration X)\n",
        "# starting\n",
        "# for i in range(1,10)"
      ],
      "metadata": {
        "id": "Ar73mN-vZi4G"
      },
      "execution_count": null,
      "outputs": []
    },
    {
      "cell_type": "code",
      "source": [
        "i=3\n",
        "while(i<6):\n",
        "  print(\"hey\",i)\n",
        "  i+=1"
      ],
      "metadata": {
        "colab": {
          "base_uri": "https://localhost:8080/"
        },
        "id": "j2esWHTraK50",
        "outputId": "88f709c9-82a9-41b5-9190-a13fef51e593"
      },
      "execution_count": null,
      "outputs": [
        {
          "output_type": "stream",
          "name": "stdout",
          "text": [
            "hey 3\n",
            "hey 4\n",
            "hey 5\n"
          ]
        }
      ]
    },
    {
      "cell_type": "code",
      "source": [
        "# 1 to 100  => total\n",
        "while(i<6):\n",
        "  print(\"hey\",i)\n",
        "  i+=1"
      ],
      "metadata": {
        "id": "o_VMHUZGa-6I"
      },
      "execution_count": null,
      "outputs": []
    },
    {
      "cell_type": "code",
      "source": [
        "total=0\n",
        "for i in range(1,101):\n",
        "  total=total+i\n",
        "\n",
        "print(\"total =>\",total)\n"
      ],
      "metadata": {
        "colab": {
          "base_uri": "https://localhost:8080/"
        },
        "id": "d33C6_kKbMkB",
        "outputId": "4b52027d-8860-4db3-e8e1-f321a8ce09a6"
      },
      "execution_count": null,
      "outputs": [
        {
          "output_type": "stream",
          "name": "stdout",
          "text": [
            "total => 5050\n"
          ]
        }
      ]
    },
    {
      "cell_type": "code",
      "source": [
        "i=1\n",
        "total=0\n",
        "while(i<101):\n",
        "  total=total+i\n",
        "  i=i+1\n",
        "\n",
        "print(total)"
      ],
      "metadata": {
        "colab": {
          "base_uri": "https://localhost:8080/"
        },
        "id": "fZon4tFxbVgA",
        "outputId": "221566be-4bde-4aba-a31e-edf234c7e494"
      },
      "execution_count": null,
      "outputs": [
        {
          "output_type": "stream",
          "name": "stdout",
          "text": [
            "5050\n"
          ]
        }
      ]
    },
    {
      "cell_type": "code",
      "source": [
        "i=20\n",
        "while(i<=40):\n",
        "  if(i%3==0):\n",
        "    print(i)\n",
        "  i+=1"
      ],
      "metadata": {
        "colab": {
          "base_uri": "https://localhost:8080/"
        },
        "id": "KhdQ3lIdc7rA",
        "outputId": "ec83edda-92f2-4bbe-e4eb-bd218c6f31dd"
      },
      "execution_count": null,
      "outputs": [
        {
          "output_type": "stream",
          "name": "stdout",
          "text": [
            "21\n",
            "24\n",
            "27\n",
            "30\n",
            "33\n",
            "36\n",
            "39\n"
          ]
        }
      ]
    },
    {
      "cell_type": "code",
      "source": [
        "# 98 - 58\n",
        "# Get the total values?\n",
        "i=98\n",
        "while(i>=58):\n",
        "  print(i)\n",
        "  i-=1"
      ],
      "metadata": {
        "colab": {
          "base_uri": "https://localhost:8080/"
        },
        "id": "opDhC4BsdYQw",
        "outputId": "4b466a42-44d8-4a9d-a3fb-83154bf7aa5d"
      },
      "execution_count": null,
      "outputs": [
        {
          "output_type": "stream",
          "name": "stdout",
          "text": [
            "98\n",
            "97\n",
            "96\n",
            "95\n",
            "94\n",
            "93\n",
            "92\n",
            "91\n",
            "90\n",
            "89\n",
            "88\n",
            "87\n",
            "86\n",
            "85\n",
            "84\n",
            "83\n",
            "82\n",
            "81\n",
            "80\n",
            "79\n",
            "78\n",
            "77\n",
            "76\n",
            "75\n",
            "74\n",
            "73\n",
            "72\n",
            "71\n",
            "70\n",
            "69\n",
            "68\n",
            "67\n",
            "66\n",
            "65\n",
            "64\n",
            "63\n",
            "62\n",
            "61\n",
            "60\n",
            "59\n",
            "58\n"
          ]
        }
      ]
    },
    {
      "cell_type": "code",
      "source": [
        "num=169\n",
        "rem1=num%10\n",
        "num1=num//10\n",
        "\n",
        "print(rem1, num1)\n",
        "\n",
        "rem2=num1%10\n",
        "num2=num1//10\n",
        "print(rem2, num2)"
      ],
      "metadata": {
        "colab": {
          "base_uri": "https://localhost:8080/"
        },
        "id": "jcusAi_Iej3x",
        "outputId": "81a2a2d7-6415-4d1e-be71-951ac81a8d1f"
      },
      "execution_count": null,
      "outputs": [
        {
          "output_type": "stream",
          "name": "stdout",
          "text": [
            "9 16\n",
            "6 1\n"
          ]
        }
      ]
    },
    {
      "cell_type": "code",
      "source": [
        "num=1629\n",
        "x=0\n",
        "# get the total digit\n",
        "# get the sum of all the digits  1+6+2+9\n",
        "while(num>0):\n",
        "  rem=num%10\n",
        "  num=num//10\n",
        "  x+=1\n",
        "  print(rem, num)\n",
        "\n",
        "print(\"total\",x)\n"
      ],
      "metadata": {
        "colab": {
          "base_uri": "https://localhost:8080/"
        },
        "id": "1j2PkOkAhPpF",
        "outputId": "054bd303-e3db-4b87-b681-3d9723c425ef"
      },
      "execution_count": null,
      "outputs": [
        {
          "output_type": "stream",
          "name": "stdout",
          "text": [
            "9 162\n",
            "2 16\n",
            "6 1\n",
            "1 0\n",
            "total 4\n"
          ]
        }
      ]
    },
    {
      "cell_type": "code",
      "source": [
        "num=153\n",
        "temp=num\n",
        "total=0\n",
        "\n",
        "while(num>0):\n",
        "  rem=num%10\n",
        "  num=num//10\n",
        "  total=total + rem**3\n",
        "\n",
        "if(temp==total):\n",
        "  print(\"Armstrong numner\")\n",
        "else:\n",
        "  print(\"not a armstrong\")\n",
        "\n"
      ],
      "metadata": {
        "colab": {
          "base_uri": "https://localhost:8080/"
        },
        "id": "5XkPidAgjmnr",
        "outputId": "6e1bff47-3867-41c6-8aa4-068c182b660f"
      },
      "execution_count": null,
      "outputs": [
        {
          "output_type": "stream",
          "name": "stdout",
          "text": [
            "Armstrong numner\n"
          ]
        }
      ]
    },
    {
      "cell_type": "code",
      "source": [
        "num=1536\n",
        "num2=num\n",
        "temp=num\n",
        "total=0\n",
        "count=0\n",
        "\n",
        "while(num>0):\n",
        "  num=num//10\n",
        "  count+=1\n",
        "\n",
        "\n",
        "while(num2>0):\n",
        "  rem=num2%10\n",
        "  num2=num2//10\n",
        "  total=total + rem**count\n",
        "\n",
        "if(temp==total):\n",
        "  print(\"Armstrong numner\")\n",
        "else:\n",
        "  print(\"not a armstrong\")\n",
        "\n"
      ],
      "metadata": {
        "colab": {
          "base_uri": "https://localhost:8080/"
        },
        "id": "utBYF77QouBH",
        "outputId": "31af5cda-38fe-43ef-a4d6-ea14fc820788"
      },
      "execution_count": null,
      "outputs": [
        {
          "output_type": "stream",
          "name": "stdout",
          "text": [
            "4\n",
            "1296\n",
            "81\n",
            "625\n",
            "1\n",
            "not a armstrong\n"
          ]
        }
      ]
    },
    {
      "cell_type": "code",
      "source": [
        "# Narcissistic number\n",
        "# 153 => 1**3 +   5**3  + 3** 3\n",
        "# 4321   =>  4**4     3**4    2**4   1**4\n",
        "# 65565  =>   6**5   +  5**5"
      ],
      "metadata": {
        "id": "4VYIZDu2mJC-"
      },
      "execution_count": null,
      "outputs": []
    },
    {
      "cell_type": "code",
      "source": [
        "# Membership  =>\n",
        "\"r\" in \"REGEX\""
      ],
      "metadata": {
        "colab": {
          "base_uri": "https://localhost:8080/"
        },
        "id": "C8z24ugVqOu4",
        "outputId": "b884448c-1638-4936-f520-bdced45eba39"
      },
      "execution_count": null,
      "outputs": [
        {
          "output_type": "execute_result",
          "data": {
            "text/plain": [
              "False"
            ]
          },
          "metadata": {},
          "execution_count": 33
        }
      ]
    },
    {
      "cell_type": "code",
      "source": [
        "\"r\" not in \"REGEX\""
      ],
      "metadata": {
        "colab": {
          "base_uri": "https://localhost:8080/"
        },
        "id": "IbEDZIQPqbNQ",
        "outputId": "13d29c2d-8b64-4fae-82e0-821f3b065f4a"
      },
      "execution_count": null,
      "outputs": [
        {
          "output_type": "execute_result",
          "data": {
            "text/plain": [
              "True"
            ]
          },
          "metadata": {},
          "execution_count": 34
        }
      ]
    },
    {
      "cell_type": "code",
      "source": [
        "# identity operator   is   and is not\n",
        "# memory address ko compare krna\n",
        "# to check kyaa koi data kisi certain data type ko belong krta hai yh nhi"
      ],
      "metadata": {
        "id": "Qjf5AQggqg4f"
      },
      "execution_count": null,
      "outputs": []
    },
    {
      "cell_type": "code",
      "source": [
        "x=10\n",
        "y=10\n",
        "print(id(x), id(y) )"
      ],
      "metadata": {
        "colab": {
          "base_uri": "https://localhost:8080/"
        },
        "id": "mmLoMKgMqqbo",
        "outputId": "739b81ee-55b1-43a0-9437-e5f349d35876"
      },
      "execution_count": null,
      "outputs": [
        {
          "output_type": "stream",
          "name": "stdout",
          "text": [
            "10751144 10751144\n"
          ]
        }
      ]
    },
    {
      "cell_type": "code",
      "source": [
        "x=257\n",
        "y=257\n",
        "print(id(x), id(y) )"
      ],
      "metadata": {
        "colab": {
          "base_uri": "https://localhost:8080/"
        },
        "id": "yHvL1UurqxiV",
        "outputId": "72492ece-ae3d-425d-a065-053e037d8fc3"
      },
      "execution_count": null,
      "outputs": [
        {
          "output_type": "stream",
          "name": "stdout",
          "text": [
            "136607494757840 136607494758064\n"
          ]
        }
      ]
    },
    {
      "cell_type": "code",
      "source": [
        "x=10000\n",
        "y=x    # x => memory => y     x ka memory to y\n",
        "print(id(x),  id(y))"
      ],
      "metadata": {
        "colab": {
          "base_uri": "https://localhost:8080/"
        },
        "id": "mkAv0thYrG9_",
        "outputId": "b1e1fc48-8df0-4b7a-b38f-4133fdb51049"
      },
      "execution_count": null,
      "outputs": [
        {
          "output_type": "stream",
          "name": "stdout",
          "text": [
            "136607494758384 136607494758384\n"
          ]
        }
      ]
    },
    {
      "cell_type": "code",
      "source": [
        "x={'Records': [{'eventVersion': '2.1', 'eventSource': 'aws:s3', 'awsRegion': 'ap-south-1', 'eventTime': '2025-05-27T03:57:02.703Z', 'eventName': 'ObjectCreated:Put', 'userIdentity': {'principalId': 'A9OMJLZWKWCT8'}, 'requestParameters': {'sourceIPAddress': '183.83.54.215'}, 'responseElements': {'x-amz-request-id': '045Z22Q2KDXCTB7B', 'x-amz-id-2': 'rLFNInxEwGAFE3ZFU1P2+ijkS9px44Le1gro5ZZwI1wgn3LFvCch/oQqtd38Zi1rb8YUk22MHicWjVPhqeKmQW94H6AN9OSDFCPQhG4ARqg='}, 's3': {'s3SchemaVersion': '1.0', 'configurationId': 'fcb3ee49-daac-4e1a-9bda-ab628ccb6fe3', 'bucket': {'name': 'mycrawler-regex', 'ownerIdentity': {'principalId': 'A9OMJLZWKWCT8'}, 'arn': 'arn:aws:s3:::mycrawler-regex'}, 'object': {'key': 'Assignments+1.pdf', 'size': 5632, 'eTag': 'd35c79e27821073611fddd8861c7b121', 'sequencer': '006835380EAA6F743E'}}}]}\n",
        "x[\"Records\"][0][\"awsRegion\"]"
      ],
      "metadata": {
        "colab": {
          "base_uri": "https://localhost:8080/",
          "height": 35
        },
        "id": "_7qhtsdY7oY1",
        "outputId": "46daed8d-e12a-4181-e85a-c6ee50af94c7"
      },
      "execution_count": null,
      "outputs": [
        {
          "output_type": "execute_result",
          "data": {
            "text/plain": [
              "'ap-south-1'"
            ],
            "application/vnd.google.colaboratory.intrinsic+json": {
              "type": "string"
            }
          },
          "metadata": {},
          "execution_count": 4
        }
      ]
    },
    {
      "cell_type": "code",
      "source": [
        "for i in range(1,1)"
      ],
      "metadata": {
        "id": "4e3f1y5ILDHC"
      },
      "execution_count": null,
      "outputs": []
    },
    {
      "cell_type": "code",
      "source": [],
      "metadata": {
        "id": "XgJaXvVXLOjB"
      },
      "execution_count": null,
      "outputs": []
    },
    {
      "cell_type": "code",
      "source": [],
      "metadata": {
        "id": "uay6YHlpLOdZ"
      },
      "execution_count": null,
      "outputs": []
    },
    {
      "cell_type": "code",
      "source": [],
      "metadata": {
        "id": "g3sL5N54LOUe"
      },
      "execution_count": null,
      "outputs": []
    },
    {
      "cell_type": "code",
      "source": [
        "for i in range(1,1)"
      ],
      "metadata": {
        "id": "kclXddKeLOIq"
      },
      "execution_count": null,
      "outputs": []
    },
    {
      "cell_type": "code",
      "source": [
        "for i in range(1,5):\n",
        "  for col in range(2,i+1):   #(2, 2+1) => (2,3)\n",
        "      print( \"*\", end=\" \")\n",
        "\n",
        "  print(\"\")"
      ],
      "metadata": {
        "colab": {
          "base_uri": "https://localhost:8080/"
        },
        "id": "AA5lxM9ZIiDy",
        "outputId": "9126a0cc-4f98-43b4-f81d-037812b53bd8"
      },
      "execution_count": null,
      "outputs": [
        {
          "output_type": "stream",
          "name": "stdout",
          "text": [
            "\n",
            "* \n",
            "* * \n",
            "* * * \n"
          ]
        }
      ]
    },
    {
      "cell_type": "code",
      "source": [
        "for i in range(1,5):\n",
        "  for col in range(2,i+1):   #(2, 2+1) => (2,3)\n",
        "      print( \"*\", end=\" \")\n",
        "\n",
        "\n",
        "  print(\"\")"
      ],
      "metadata": {
        "id": "Dl3PdmPfMOBJ"
      },
      "execution_count": null,
      "outputs": []
    },
    {
      "cell_type": "code",
      "source": [
        "\n",
        "for i in range(1,4):\n",
        "  a=66\n",
        "  for col in range(1,4-i+1):   #(1,5-3+1\n",
        "    print( a, end=\" \")\n",
        "    a+=1\n",
        "\n",
        "  print(\"\")"
      ],
      "metadata": {
        "colab": {
          "base_uri": "https://localhost:8080/"
        },
        "id": "5sT6U5UEMW7m",
        "outputId": "eea6a409-2855-43c4-8faf-4c484af4998e"
      },
      "execution_count": null,
      "outputs": [
        {
          "output_type": "stream",
          "name": "stdout",
          "text": [
            "66 67 68 \n",
            "66 67 \n",
            "66 \n"
          ]
        }
      ]
    },
    {
      "cell_type": "code",
      "source": [
        "for i in range(1,5):\n",
        "  a=65\n",
        "  for col in range(1,i+1):   #(2, 2+1) => (2,3)\n",
        "      print( chr(a), end=\" \")\n",
        "      a+=1\n",
        "\n",
        "\n",
        "  print(\"\")"
      ],
      "metadata": {
        "colab": {
          "base_uri": "https://localhost:8080/"
        },
        "id": "lJzacs-pQKAw",
        "outputId": "2bf7595f-553e-49bb-a567-ef54998ec8ce"
      },
      "execution_count": null,
      "outputs": [
        {
          "output_type": "stream",
          "name": "stdout",
          "text": [
            "A \n",
            "A B \n",
            "A B C \n",
            "A B C D \n"
          ]
        }
      ]
    },
    {
      "cell_type": "code",
      "source": [
        "for i in range(1,5):\n",
        "  for col in range(1,i+1):   #(2, 2+1) => (2,3)\n",
        "      print( \"?\", end=\" \")\n",
        "\n",
        "  for col in range(1,5-i):   #(2, 2+1) => (2,3)\n",
        "      print( col, end=\" \")\n",
        "  print(\"\")"
      ],
      "metadata": {
        "colab": {
          "base_uri": "https://localhost:8080/"
        },
        "id": "tByf9gsIQJ15",
        "outputId": "cebccbbd-1be0-4e69-bf8c-b4e1013efb19"
      },
      "execution_count": null,
      "outputs": [
        {
          "output_type": "stream",
          "name": "stdout",
          "text": [
            "? 1 2 3 \n",
            "? ? 1 2 \n",
            "? ? ? 1 \n",
            "? ? ? ? \n"
          ]
        }
      ]
    },
    {
      "cell_type": "code",
      "source": [
        "for i in range(1,5):\n",
        "  for col in range(1,5-i):   #(2, 2+1) => (2,3)\n",
        "      print( col, end=\" \")\n",
        "  print(\"\")"
      ],
      "metadata": {
        "colab": {
          "base_uri": "https://localhost:8080/"
        },
        "id": "MJTa0atQR2gb",
        "outputId": "64d9ecda-3881-49d7-dc91-e7710ec46c27"
      },
      "execution_count": null,
      "outputs": [
        {
          "output_type": "stream",
          "name": "stdout",
          "text": [
            "1 2 3 \n",
            "1 2 \n",
            "1 \n",
            "\n"
          ]
        }
      ]
    },
    {
      "cell_type": "code",
      "source": [
        "# functions\n",
        "\n",
        "def func(a,b):\n",
        "  print(a,b)"
      ],
      "metadata": {
        "id": "Dc90Et6yDAew"
      },
      "execution_count": null,
      "outputs": []
    },
    {
      "cell_type": "code",
      "source": [
        "func(10,20)\n",
        "func(20,10)\n",
        "func(a=10,b=20)"
      ],
      "metadata": {
        "colab": {
          "base_uri": "https://localhost:8080/"
        },
        "id": "vmEiBfGtDHbs",
        "outputId": "0f9082c2-e028-4183-d1bd-c3f0e4587de1"
      },
      "execution_count": null,
      "outputs": [
        {
          "output_type": "stream",
          "name": "stdout",
          "text": [
            "10 20\n",
            "20 10\n",
            "10 20\n"
          ]
        }
      ]
    },
    {
      "cell_type": "code",
      "source": [
        "\n",
        "def func(a,b):\n",
        "  print(a+b)\n",
        "  return \"hello\""
      ],
      "metadata": {
        "id": "8yA_I36_DTHg"
      },
      "execution_count": null,
      "outputs": []
    },
    {
      "cell_type": "code",
      "source": [
        "x=func(10,20)\n",
        "print(\"x =>\",x)"
      ],
      "metadata": {
        "colab": {
          "base_uri": "https://localhost:8080/"
        },
        "id": "1GRm4j5FDW-W",
        "outputId": "e004e7e6-ecd1-42cd-d296-adaef8ae1c12"
      },
      "execution_count": null,
      "outputs": [
        {
          "output_type": "stream",
          "name": "stdout",
          "text": [
            "30\n",
            "x => hello\n"
          ]
        }
      ]
    },
    {
      "cell_type": "code",
      "source": [
        "def shadi(lifafa):\n",
        "  print(lifafa+100)\n",
        "  return lifafa+100\n",
        "\n",
        "\n",
        "out=shadi(500)\n",
        "print(\"Out =>\", out)\n"
      ],
      "metadata": {
        "colab": {
          "base_uri": "https://localhost:8080/"
        },
        "id": "QWUKekTyEvyy",
        "outputId": "733377e1-dc95-4690-d8c7-ee9da1dc082d"
      },
      "execution_count": null,
      "outputs": [
        {
          "output_type": "stream",
          "name": "stdout",
          "text": [
            "600\n",
            "Out => 600\n"
          ]
        }
      ]
    },
    {
      "cell_type": "code",
      "source": [
        "def func():\n",
        "  print(\"hey func\")\n",
        "\n",
        "print(func)\n",
        "a=func    # we can assign a function to a variable  #first class functions\n",
        "print(a)\n",
        "\n",
        "a()"
      ],
      "metadata": {
        "colab": {
          "base_uri": "https://localhost:8080/"
        },
        "id": "TdXT_EQ_Ftai",
        "outputId": "f166f536-efb0-420f-8b47-dac90af24bb8"
      },
      "execution_count": null,
      "outputs": [
        {
          "output_type": "stream",
          "name": "stdout",
          "text": [
            "<function func at 0x7f187d874180>\n",
            "<function func at 0x7f187d874180>\n",
            "hey func\n"
          ]
        }
      ]
    },
    {
      "cell_type": "code",
      "source": [
        "def func(x):\n",
        "  return x**2\n",
        "\n",
        "func(9)"
      ],
      "metadata": {
        "colab": {
          "base_uri": "https://localhost:8080/"
        },
        "id": "aNkiiwUPGmTc",
        "outputId": "941a4d4e-2e3e-4ae1-ab92-8b9cc5a12f1b"
      },
      "execution_count": null,
      "outputs": [
        {
          "output_type": "execute_result",
          "data": {
            "text/plain": [
              "81"
            ]
          },
          "metadata": {},
          "execution_count": 24
        }
      ]
    },
    {
      "cell_type": "code",
      "source": [
        "#  lambda functions\n",
        "# function => annymous functions\n",
        "# single line functions\n",
        "# lambda parameter : expreession\n",
        "out=lambda x : x**2\n",
        "out(9)"
      ],
      "metadata": {
        "colab": {
          "base_uri": "https://localhost:8080/"
        },
        "id": "FZkXzXGPHFDb",
        "outputId": "aa2a0016-c3b0-4343-bb62-923968aad233"
      },
      "execution_count": null,
      "outputs": [
        {
          "output_type": "execute_result",
          "data": {
            "text/plain": [
              "81"
            ]
          },
          "metadata": {},
          "execution_count": 26
        }
      ]
    },
    {
      "cell_type": "code",
      "source": [
        "# map, filter\n",
        "mylist=[10,20,30]\n",
        "for i in mylist:\n",
        "  print(i)\n"
      ],
      "metadata": {
        "colab": {
          "base_uri": "https://localhost:8080/"
        },
        "id": "hnHTyL8HHyBQ",
        "outputId": "7b590d6b-9ac1-438a-97a4-e2c8b1e6a067"
      },
      "execution_count": null,
      "outputs": [
        {
          "output_type": "stream",
          "name": "stdout",
          "text": [
            "10\n",
            "20\n",
            "30\n"
          ]
        }
      ]
    },
    {
      "cell_type": "code",
      "source": [
        "# map =>  kisi dushre ko use krke => apply\n",
        "#  [10,20,30]\n",
        "# map(  func)\n",
        "# 10  => func  =>  return\n",
        "# 20 => func  => return\n",
        "# 30  => func => return\n",
        "\n",
        "\n",
        "\n",
        "gen=map( len,  [\"hey\",\"hello\"] )\n",
        "next(gen)   # lazy => for execute run a next() function here"
      ],
      "metadata": {
        "colab": {
          "base_uri": "https://localhost:8080/"
        },
        "id": "WbsUhH_jIcs0",
        "outputId": "0677981d-70b7-43f0-c04e-80c2062125f3"
      },
      "execution_count": null,
      "outputs": [
        {
          "output_type": "execute_result",
          "data": {
            "text/plain": [
              "3"
            ]
          },
          "metadata": {},
          "execution_count": 33
        }
      ]
    },
    {
      "cell_type": "code",
      "source": [
        "next(gen)"
      ],
      "metadata": {
        "colab": {
          "base_uri": "https://localhost:8080/",
          "height": 141
        },
        "id": "TsJeXmhgJex3",
        "outputId": "065c5c2a-3533-4ea6-d01e-2c5bb9b88b59"
      },
      "execution_count": null,
      "outputs": [
        {
          "output_type": "error",
          "ename": "StopIteration",
          "evalue": "",
          "traceback": [
            "\u001b[0;31m---------------------------------------------------------------------------\u001b[0m",
            "\u001b[0;31mStopIteration\u001b[0m                             Traceback (most recent call last)",
            "\u001b[0;32m<ipython-input-35-6e72e47198db>\u001b[0m in \u001b[0;36m<cell line: 0>\u001b[0;34m()\u001b[0m\n\u001b[0;32m----> 1\u001b[0;31m \u001b[0mnext\u001b[0m\u001b[0;34m(\u001b[0m\u001b[0mgen\u001b[0m\u001b[0;34m)\u001b[0m\u001b[0;34m\u001b[0m\u001b[0;34m\u001b[0m\u001b[0m\n\u001b[0m",
            "\u001b[0;31mStopIteration\u001b[0m: "
          ]
        }
      ]
    },
    {
      "cell_type": "code",
      "source": [
        "# map =>  kisi dushre ko use krke => apply\n",
        "#  [10,20,30]\n",
        "# map(  func)\n",
        "# 10  => func  =>  return\n",
        "# 20 => func  => return\n",
        "# 30  => func => return\n",
        "\n",
        "\n",
        "\n",
        "\n",
        "list( map( len,  [\"hey\",\"hello\"] ) )\n"
      ],
      "metadata": {
        "colab": {
          "base_uri": "https://localhost:8080/"
        },
        "id": "bFfODY06KSZa",
        "outputId": "8f354bf2-cf4c-40bc-c6fd-4024471b3da2"
      },
      "execution_count": null,
      "outputs": [
        {
          "output_type": "execute_result",
          "data": {
            "text/plain": [
              "[3, 5]"
            ]
          },
          "metadata": {},
          "execution_count": 37
        }
      ]
    },
    {
      "cell_type": "code",
      "source": [
        "def square(num):\n",
        "  return num**2\n",
        "\n",
        "x=map( square,  [10,20,30] )\n",
        "next(x)"
      ],
      "metadata": {
        "colab": {
          "base_uri": "https://localhost:8080/"
        },
        "id": "wQIuaHFvKlAg",
        "outputId": "5bc2839c-5af9-464e-90d6-95c2d9e85bc8"
      },
      "execution_count": null,
      "outputs": [
        {
          "output_type": "execute_result",
          "data": {
            "text/plain": [
              "400"
            ]
          },
          "metadata": {},
          "execution_count": 39
        }
      ]
    },
    {
      "cell_type": "code",
      "source": [
        "x=map( lambda num: num**2,  [10,20,30] )\n",
        "next(x)\n"
      ],
      "metadata": {
        "colab": {
          "base_uri": "https://localhost:8080/"
        },
        "id": "5NTPtN6cK6MO",
        "outputId": "bb46a5da-ef9c-470c-b61b-73e8b88ad0e9"
      },
      "execution_count": null,
      "outputs": [
        {
          "output_type": "execute_result",
          "data": {
            "text/plain": [
              "100"
            ]
          },
          "metadata": {},
          "execution_count": 40
        }
      ]
    },
    {
      "cell_type": "code",
      "source": [
        "list( \"abc\" )\n",
        "list=[123213]"
      ],
      "metadata": {
        "colab": {
          "base_uri": "https://localhost:8080/"
        },
        "id": "vyzq59fhLQ3d",
        "outputId": "f7eb4bc7-02c0-4e89-b2ff-e870c0d1a52f"
      },
      "execution_count": null,
      "outputs": [
        {
          "output_type": "execute_result",
          "data": {
            "text/plain": [
              "['a', 'b', 'c']"
            ]
          },
          "metadata": {},
          "execution_count": 42
        }
      ]
    },
    {
      "cell_type": "code",
      "source": [
        "\"hello@yahoo.com\".split(\"@\")[1]\n",
        "\n",
        "\n",
        "{10: lambda x: x+10}\n",
        "\n",
        "\n",
        "x=func\n",
        "mydictioany[key]()"
      ],
      "metadata": {
        "colab": {
          "base_uri": "https://localhost:8080/",
          "height": 106
        },
        "id": "op0Ank9nPKO8",
        "outputId": "8872b7a2-5353-437f-88a6-026d958cc128"
      },
      "execution_count": null,
      "outputs": [
        {
          "output_type": "error",
          "ename": "SyntaxError",
          "evalue": "expression expected after dictionary key and ':' (<ipython-input-46-46c6a9238c15>, line 4)",
          "traceback": [
            "\u001b[0;36m  File \u001b[0;32m\"<ipython-input-46-46c6a9238c15>\"\u001b[0;36m, line \u001b[0;32m4\u001b[0m\n\u001b[0;31m    {10:}\u001b[0m\n\u001b[0m       ^\u001b[0m\n\u001b[0;31mSyntaxError\u001b[0m\u001b[0;31m:\u001b[0m expression expected after dictionary key and ':'\n"
          ]
        }
      ]
    },
    {
      "cell_type": "code",
      "source": [
        "rat\n",
        "#  {r:1 a:1 t:1}\n",
        "\n",
        "\n",
        "#tar\n",
        "#{t:1 , a:1 , r:1}"
      ],
      "metadata": {
        "id": "Of5jYOlRP1yc"
      },
      "execution_count": null,
      "outputs": []
    },
    {
      "cell_type": "code",
      "source": [
        "# list\n",
        "# data alag alag datatypes\n",
        "[10,20,30,40]  + 5"
      ],
      "metadata": {
        "colab": {
          "base_uri": "https://localhost:8080/",
          "height": 176
        },
        "id": "0t5oT7qyhkT6",
        "outputId": "f1b5a2cd-69b5-41a4-d58d-016157c99e84"
      },
      "execution_count": null,
      "outputs": [
        {
          "output_type": "error",
          "ename": "TypeError",
          "evalue": "can only concatenate list (not \"int\") to list",
          "traceback": [
            "\u001b[0;31m---------------------------------------------------------------------------\u001b[0m",
            "\u001b[0;31mTypeError\u001b[0m                                 Traceback (most recent call last)",
            "\u001b[0;32m<ipython-input-2-75dbecb0da4d>\u001b[0m in \u001b[0;36m<cell line: 0>\u001b[0;34m()\u001b[0m\n\u001b[1;32m      1\u001b[0m \u001b[0;31m# list\u001b[0m\u001b[0;34m\u001b[0m\u001b[0;34m\u001b[0m\u001b[0m\n\u001b[1;32m      2\u001b[0m \u001b[0;31m# data alag alag datatypes\u001b[0m\u001b[0;34m\u001b[0m\u001b[0;34m\u001b[0m\u001b[0m\n\u001b[0;32m----> 3\u001b[0;31m \u001b[0;34m[\u001b[0m\u001b[0;36m10\u001b[0m\u001b[0;34m,\u001b[0m\u001b[0;36m20\u001b[0m\u001b[0;34m,\u001b[0m\u001b[0;36m30\u001b[0m\u001b[0;34m,\u001b[0m\u001b[0;36m40\u001b[0m\u001b[0;34m]\u001b[0m  \u001b[0;34m+\u001b[0m \u001b[0;36m5\u001b[0m\u001b[0;34m\u001b[0m\u001b[0;34m\u001b[0m\u001b[0m\n\u001b[0m",
            "\u001b[0;31mTypeError\u001b[0m: can only concatenate list (not \"int\") to list"
          ]
        }
      ]
    },
    {
      "cell_type": "code",
      "source": [
        "# list\n",
        "# data alag alag datatypes\n",
        "[10,20,30,40]  + 5"
      ],
      "metadata": {
        "colab": {
          "base_uri": "https://localhost:8080/",
          "height": 176
        },
        "id": "LrTOcS6lh2So",
        "outputId": "c34ab8a4-47f9-4ec5-e207-4689aac917de"
      },
      "execution_count": null,
      "outputs": [
        {
          "output_type": "error",
          "ename": "TypeError",
          "evalue": "can only concatenate list (not \"int\") to list",
          "traceback": [
            "\u001b[0;31m---------------------------------------------------------------------------\u001b[0m",
            "\u001b[0;31mTypeError\u001b[0m                                 Traceback (most recent call last)",
            "\u001b[0;32m<ipython-input-3-75dbecb0da4d>\u001b[0m in \u001b[0;36m<cell line: 0>\u001b[0;34m()\u001b[0m\n\u001b[1;32m      1\u001b[0m \u001b[0;31m# list\u001b[0m\u001b[0;34m\u001b[0m\u001b[0;34m\u001b[0m\u001b[0m\n\u001b[1;32m      2\u001b[0m \u001b[0;31m# data alag alag datatypes\u001b[0m\u001b[0;34m\u001b[0m\u001b[0;34m\u001b[0m\u001b[0m\n\u001b[0;32m----> 3\u001b[0;31m \u001b[0;34m[\u001b[0m\u001b[0;36m10\u001b[0m\u001b[0;34m,\u001b[0m\u001b[0;36m20\u001b[0m\u001b[0;34m,\u001b[0m\u001b[0;36m30\u001b[0m\u001b[0;34m,\u001b[0m\u001b[0;36m40\u001b[0m\u001b[0;34m]\u001b[0m  \u001b[0;34m+\u001b[0m \u001b[0;36m5\u001b[0m\u001b[0;34m\u001b[0m\u001b[0;34m\u001b[0m\u001b[0m\n\u001b[0m",
            "\u001b[0;31mTypeError\u001b[0m: can only concatenate list (not \"int\") to list"
          ]
        }
      ]
    },
    {
      "cell_type": "code",
      "source": [
        "# Array => collection of values, but similar kind of values are stored\n",
        "# numpy => numerical python\n"
      ],
      "metadata": {
        "id": "-3NjSGyUh9yl"
      },
      "execution_count": null,
      "outputs": []
    },
    {
      "cell_type": "code",
      "source": [
        "a=50\n",
        "b=100\n",
        "b=b-a  #100-50   b=50\n",
        "a=a+b   # 50+50  a=100\n",
        "b=a-b       #  100-50"
      ],
      "metadata": {
        "id": "qfebc6CPJ7mc"
      },
      "execution_count": null,
      "outputs": []
    },
    {
      "cell_type": "code",
      "source": [
        "a=10\n",
        "b=20\n",
        "temp=a  # temp=10\n",
        "a=b  # a=>20\n",
        "b=temp\n",
        "print(a, b)\n"
      ],
      "metadata": {
        "colab": {
          "base_uri": "https://localhost:8080/"
        },
        "id": "lz7RyXmqJego",
        "outputId": "4fe61286-f8ea-4a46-e479-3956b99d748d"
      },
      "execution_count": null,
      "outputs": [
        {
          "output_type": "stream",
          "name": "stdout",
          "text": [
            "20 10\n"
          ]
        }
      ]
    },
    {
      "cell_type": "code",
      "source": [
        "a=10\n",
        "b=20\n",
        "a,b=b,a\n",
        "print(a, b)"
      ],
      "metadata": {
        "colab": {
          "base_uri": "https://localhost:8080/"
        },
        "id": "ZeEMgDMvJRAL",
        "outputId": "99f98ff9-fc50-4421-b71c-672361f8680b"
      },
      "execution_count": null,
      "outputs": [
        {
          "output_type": "stream",
          "name": "stdout",
          "text": [
            "20 10\n"
          ]
        }
      ]
    },
    {
      "cell_type": "code",
      "source": [
        "mylist=[10,20,30,40,50]\n",
        "start=0\n",
        "end=len(mylist)-1\n",
        "\n",
        "while(start!=end):\n",
        "  temp=mylist[start]\n",
        "  mylist[start]= mylist[end]\n",
        "  mylist[end]=temp\n",
        "\n",
        "  start+=1\n",
        "  end-=1\n",
        "\n",
        "print(mylist )\n",
        "\n",
        "\n",
        "# reverse()"
      ],
      "metadata": {
        "colab": {
          "base_uri": "https://localhost:8080/"
        },
        "id": "JGi49BdMLCc9",
        "outputId": "e8cb5932-da5e-4dc5-c7b8-a1d19e4f439f"
      },
      "execution_count": null,
      "outputs": [
        {
          "output_type": "stream",
          "name": "stdout",
          "text": [
            "[50, 40, 30, 20, 10]\n"
          ]
        }
      ]
    },
    {
      "cell_type": "code",
      "source": [
        "mylist=[10,3,20,5,30,40,50]\n",
        "# to sort the list  =>  [3,5,10,20,30,40,50]\n",
        "\n",
        "start=0\n",
        "end=len(mylist)-1\n",
        "\n",
        "while(start!=end):\n",
        "  temp=mylist[start]\n",
        "  mylist[start]= mylist[end]\n",
        "  mylist[end]=temp\n",
        "\n",
        "  start+=1\n",
        "  end-=1\n",
        "\n",
        "print(mylist )\n",
        "\n",
        "\n",
        "# reverse()"
      ],
      "metadata": {
        "id": "F5f7s6hJPfeV"
      },
      "execution_count": null,
      "outputs": []
    },
    {
      "cell_type": "code",
      "source": [
        "mylist=[10,3,20,5,30,40,50]\n",
        "for i in range(0, len(mylist)):\n",
        "\n",
        "  for j in range(i+1, len(mylist)):\n",
        "    print(i, j , mylist[i], mylist[j])\n",
        "    if(mylist[i] > mylist[j]):\n",
        "      temp=mylist[i]\n",
        "      mylist[i]=mylist[j]\n",
        "      mylist[j]=temp\n",
        "      print(\"after change =>\",i, j , mylist[i], mylist[j])"
      ],
      "metadata": {
        "colab": {
          "base_uri": "https://localhost:8080/"
        },
        "id": "VFNknp0NQdl8",
        "outputId": "d5a0d09b-9641-4f88-9754-3a3edd579452"
      },
      "execution_count": null,
      "outputs": [
        {
          "output_type": "stream",
          "name": "stdout",
          "text": [
            "0 1 10 3\n",
            "after change => 0 1 3 10\n",
            "0 2 3 20\n",
            "0 3 3 5\n",
            "0 4 3 30\n",
            "0 5 3 40\n",
            "0 6 3 50\n",
            "1 2 10 20\n",
            "1 3 10 5\n",
            "after change => 1 3 5 10\n",
            "1 4 5 30\n",
            "1 5 5 40\n",
            "1 6 5 50\n",
            "2 3 20 10\n",
            "after change => 2 3 10 20\n",
            "2 4 10 30\n",
            "2 5 10 40\n",
            "2 6 10 50\n",
            "3 4 20 30\n",
            "3 5 20 40\n",
            "3 6 20 50\n",
            "4 5 30 40\n",
            "4 6 30 50\n",
            "5 6 40 50\n"
          ]
        }
      ]
    },
    {
      "cell_type": "code",
      "source": [
        "# if\n",
        "# loops\n",
        "# repetative\n",
        "# for loop and while loop\n",
        "print(\"aman\")\n",
        "print(\"aman\")\n",
        "print(\"aman\")\n",
        "print(\"aman\")\n",
        "print(\"aman\")"
      ],
      "metadata": {
        "colab": {
          "base_uri": "https://localhost:8080/"
        },
        "id": "PCWwALqffX-X",
        "outputId": "84846937-3a6a-41cd-8a49-419990c703ff"
      },
      "execution_count": null,
      "outputs": [
        {
          "output_type": "stream",
          "name": "stdout",
          "text": [
            "aman\n",
            "aman\n",
            "aman\n",
            "aman\n",
            "aman\n"
          ]
        }
      ]
    },
    {
      "cell_type": "code",
      "source": [
        "# for loop -> repeatitive execute\n",
        "# for(int i=1; i<5; i++)\n",
        "#for(int i=5; i>1; i--)\n",
        "for i in range(1,6):\n",
        "  print(\"aman\",i)"
      ],
      "metadata": {
        "colab": {
          "base_uri": "https://localhost:8080/"
        },
        "id": "_kRu6uWOgRvF",
        "outputId": "6dfe2159-c65e-47ed-9622-0dc0d4c51c3c"
      },
      "execution_count": null,
      "outputs": [
        {
          "output_type": "stream",
          "name": "stdout",
          "text": [
            "aman 1\n",
            "aman 2\n",
            "aman 3\n",
            "aman 4\n",
            "aman 5\n"
          ]
        }
      ]
    },
    {
      "cell_type": "code",
      "source": [
        "for i in range(5,0,-1):  # value increase  (step=1)\n",
        "  print(\"aman\",i)"
      ],
      "metadata": {
        "colab": {
          "base_uri": "https://localhost:8080/"
        },
        "id": "qPknFBKyg-NY",
        "outputId": "14f19369-9fd6-4fc3-a3ec-935f84644287"
      },
      "execution_count": null,
      "outputs": [
        {
          "output_type": "stream",
          "name": "stdout",
          "text": [
            "aman 5\n",
            "aman 4\n",
            "aman 3\n",
            "aman 2\n",
            "aman 1\n"
          ]
        }
      ]
    },
    {
      "cell_type": "code",
      "source": [
        "for i in range(1,6):\n",
        "  if(i !=3):\n",
        "    print(i)"
      ],
      "metadata": {
        "colab": {
          "base_uri": "https://localhost:8080/"
        },
        "id": "fb7GMuhrhey5",
        "outputId": "0d4620c5-48aa-4eb5-d8e0-96fd01bd4a54"
      },
      "execution_count": null,
      "outputs": [
        {
          "output_type": "stream",
          "name": "stdout",
          "text": [
            "1\n",
            "2\n",
            "4\n",
            "5\n"
          ]
        }
      ]
    },
    {
      "cell_type": "code",
      "source": [
        "for i in range(48,20,-1):\n",
        "  if(i %2==0  and i%3==0):\n",
        "    print(i)"
      ],
      "metadata": {
        "colab": {
          "base_uri": "https://localhost:8080/"
        },
        "id": "cHW6kTbUi59k",
        "outputId": "a79575a5-645a-4b81-afa3-cff9a9b28374"
      },
      "execution_count": null,
      "outputs": [
        {
          "output_type": "stream",
          "name": "stdout",
          "text": [
            "48\n",
            "42\n",
            "36\n",
            "30\n",
            "24\n"
          ]
        }
      ]
    },
    {
      "cell_type": "code",
      "source": [
        "num=8\n",
        "count=0\n",
        "# prime number => 1, 7\n",
        "for i in range(1,num+1):\n",
        "  if(num%i==0):\n",
        "    count+=1\n",
        "\n",
        "if(count==2):\n",
        "  print(\"Prime\", num)\n",
        "else:\n",
        "  print(\"not prime\", num)\n",
        "\n"
      ],
      "metadata": {
        "colab": {
          "base_uri": "https://localhost:8080/"
        },
        "id": "yhoinqsMjQdB",
        "outputId": "c9009566-94ca-47a0-87db-326818ebb158"
      },
      "execution_count": null,
      "outputs": [
        {
          "output_type": "stream",
          "name": "stdout",
          "text": [
            "not prime 8\n"
          ]
        }
      ]
    },
    {
      "cell_type": "code",
      "source": [
        "# while loop\n",
        "# repettitive task execute\n",
        "# for i in range(1,5)\n",
        "i=1\n",
        "while(i<5):\n",
        "  print(i)\n",
        "  i+=1"
      ],
      "metadata": {
        "colab": {
          "base_uri": "https://localhost:8080/"
        },
        "id": "VRGbZ0CToP1k",
        "outputId": "53625fbf-2590-4556-e4b9-fb5507a8a851"
      },
      "execution_count": null,
      "outputs": [
        {
          "output_type": "stream",
          "name": "stdout",
          "text": [
            "1\n",
            "2\n",
            "3\n",
            "4\n"
          ]
        }
      ]
    },
    {
      "cell_type": "code",
      "source": [
        "num=153\n",
        "total=0\n",
        "temp=num\n",
        "while(num>0):\n",
        "  rem=num%10\n",
        "  num=num//10\n",
        "  total= total + rem**3\n",
        "\n",
        "if(temp==total):\n",
        "  print(\"Armstrong number\", temp)\n",
        "else:\n",
        "  print(\"Not armstrong\", temp)"
      ],
      "metadata": {
        "colab": {
          "base_uri": "https://localhost:8080/"
        },
        "id": "R6_yQ4DLp2gG",
        "outputId": "aa2522c1-cef7-47f6-c161-c409534f69d5"
      },
      "execution_count": null,
      "outputs": [
        {
          "output_type": "stream",
          "name": "stdout",
          "text": [
            "Armstrong number 153\n"
          ]
        }
      ]
    }
  ]
}