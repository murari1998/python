{
  "nbformat": 4,
  "nbformat_minor": 0,
  "metadata": {
    "colab": {
      "provenance": []
    },
    "kernelspec": {
      "name": "python3",
      "display_name": "Python 3"
    },
    "language_info": {
      "name": "python"
    }
  },
  "cells": [
    {
      "cell_type": "code",
      "execution_count": null,
      "metadata": {
        "colab": {
          "base_uri": "https://localhost:8080/"
        },
        "id": "vVTpHphm2yCp",
        "outputId": "ba75c134-e62d-474b-9adf-1f79e5f51292"
      },
      "outputs": [
        {
          "output_type": "stream",
          "name": "stdout",
          "text": [
            "enter a num20\n",
            "diveded by 5 only\n"
          ]
        }
      ],
      "source": [
        "# check the num is diveded by 3,5 and only 3 and only 5.\n",
        "\n",
        "num=int(input(\"enter a num\"))\n",
        "if(num%3==0 and num%5==0):\n",
        "  print(\"diveded by 3 and 5\")\n",
        "elif(num%3==0):\n",
        "  print(\"diveded by 3 only\")\n",
        "elif(num%5==0):\n",
        "  print(\"diveded by 5 only\")\n",
        "else:\n",
        "  print(\"not diveded by 3 and 5\")\n"
      ]
    },
    {
      "cell_type": "code",
      "source": [
        "# check the gratest number .\n",
        "\n",
        "`a=int(input(\"enter a number: \"))\n",
        "b=int(input(\"enter b number: \"))\n",
        "c=int(input(\"enter c number: \"))\n",
        "\n",
        "if(a>=b and a>=c):\n",
        "  print(\"a is gratest\",a)\n",
        "elif(b>=a and b>=c):\n",
        "  print(\"b is gratest\",b)\n",
        "elif(c>=a and c>=b):\n",
        "  print(\"c is gratest\",c)\n"
      ],
      "metadata": {
        "colab": {
          "base_uri": "https://localhost:8080/"
        },
        "id": "8VP3qBAe4TQu",
        "outputId": "4bdb92d7-6bb0-4546-c7bc-a94b7a5cd974"
      },
      "execution_count": null,
      "outputs": [
        {
          "output_type": "stream",
          "name": "stdout",
          "text": [
            "enter a number: 84\n",
            "enter b number: 85\n",
            "enter c number: 25\n",
            "b is gratest 85\n"
          ]
        }
      ]
    },
    {
      "cell_type": "code",
      "source": [
        "# check year is leap year or not.\n",
        "\n",
        "year=int(input(\"enter year :\"))\n",
        "\n",
        "if(year%4==0 and year%100!=0) or (year%400==0):\n",
        "  print(\"leeap year\")\n",
        "else:\n",
        "  print(\"note a leap year\")"
      ],
      "metadata": {
        "colab": {
          "base_uri": "https://localhost:8080/"
        },
        "id": "JyNQr0YA5cOt",
        "outputId": "79c0b8cd-d132-4017-b63a-41aa2597317a"
      },
      "execution_count": null,
      "outputs": [
        {
          "output_type": "stream",
          "name": "stdout",
          "text": [
            "enter year :2000\n",
            "leeap year\n"
          ]
        }
      ]
    },
    {
      "cell_type": "code",
      "source": [
        "# check a charcter is vowel and consonante.\n",
        "\n",
        "ch=input(\"enter a charcter :\")\n",
        "\n",
        "if ch in 'aeiou':\n",
        "  print(\"vowel\")\n",
        "else:\n",
        "  print(\"consonante\")"
      ],
      "metadata": {
        "colab": {
          "base_uri": "https://localhost:8080/"
        },
        "id": "PqOjySkU6L7l",
        "outputId": "ba35c0cf-59b7-453e-ee52-9477893bb355"
      },
      "execution_count": null,
      "outputs": [
        {
          "output_type": "stream",
          "name": "stdout",
          "text": [
            "enter a charcter :i\n",
            "vowel\n"
          ]
        }
      ]
    },
    {
      "cell_type": "code",
      "source": [
        "# if password is admin123 print access granted otherwise acccess denied\n",
        "\n",
        "password=input(\"enter yours password\")\n",
        "\n",
        "if(password=='admin123'):\n",
        "  print(\"access granted\")\n",
        "else:\n",
        "  print(\"acccess denied\")"
      ],
      "metadata": {
        "colab": {
          "base_uri": "https://localhost:8080/"
        },
        "id": "tD1hay4e62p-",
        "outputId": "b15d4ef6-0b42-4a58-a784-f148b1391902"
      },
      "execution_count": null,
      "outputs": [
        {
          "output_type": "stream",
          "name": "stdout",
          "text": [
            "enter yours passwordadmin123\n",
            "access granted\n"
          ]
        }
      ]
    },
    {
      "cell_type": "code",
      "source": [
        "# if username and password is right  so login sucessful oterwise lodin failed.\n",
        "\n",
        "username=input(\"enter username :\")\n",
        "password=input(\"enter password :\")\n",
        "\n",
        "if(username=='murari1998' and password=='sainimurari'):\n",
        "  print(\"login suucessful\")\n",
        "else:\n",
        "  print(\"login failed\")"
      ],
      "metadata": {
        "colab": {
          "base_uri": "https://localhost:8080/"
        },
        "id": "eZRg-h9X7qoo",
        "outputId": "5b0395d2-5e67-436a-d6fb-f6de99748c46"
      },
      "execution_count": null,
      "outputs": [
        {
          "output_type": "stream",
          "name": "stdout",
          "text": [
            "enter username :murari1998\n",
            "enter password :sainimurari\n",
            "login suucessful\n"
          ]
        }
      ]
    },
    {
      "cell_type": "code",
      "source": [
        "# check a number is positive , nagative and zero.\n",
        "\n",
        "num=float(input(\"enter a number :\"))\n",
        "\n",
        "if(num>0):\n",
        "  print(\"positive number \")\n",
        "elif(num<0):\n",
        "  print(\"negative number \")\n",
        "\n",
        "else:\n",
        "  print(\"zero\")"
      ],
      "metadata": {
        "colab": {
          "base_uri": "https://localhost:8080/"
        },
        "id": "s5Qk4ip684OK",
        "outputId": "a7ed2d2f-064e-4a96-88ff-0fef96a70f65"
      },
      "execution_count": null,
      "outputs": [
        {
          "output_type": "stream",
          "name": "stdout",
          "text": [
            "enter a number :0\n",
            "zero\n"
          ]
        }
      ]
    },
    {
      "cell_type": "code",
      "source": [
        "# check a student are pass and failed.\n",
        "\n",
        "mark=int(input(\"enter marks :\"))\n",
        "if(mark>=40):\n",
        "  print(\"pass\")\n",
        "else:\n",
        "  print(\"failed\")"
      ],
      "metadata": {
        "colab": {
          "base_uri": "https://localhost:8080/"
        },
        "id": "CxERBhb4-FWo",
        "outputId": "0d4d4b1a-2d82-4a92-9036-ca1a23c5d8ac"
      },
      "execution_count": null,
      "outputs": [
        {
          "output_type": "stream",
          "name": "stdout",
          "text": [
            "enter marks :45\n",
            "pass\n"
          ]
        }
      ]
    },
    {
      "cell_type": "code",
      "source": [
        "# 0-12 = child\n",
        "# 13-19 =teen\n",
        "# 20-59 =adult\n",
        "# 60+ =senior citizen\n",
        "\n",
        "age=int(input(\"enter your age\"))\n",
        "\n",
        "if(age>0 and age<=12):\n",
        "  print(\"child\")\n",
        "\n",
        "elif(age>12 and age<=19):\n",
        "  print(\"teen\")\n",
        "\n",
        "\n",
        "elif(age>19 and age<=59):\n",
        "  print(\"adult\")\n",
        "\n",
        "\n",
        "elif(age>59):\n",
        "  print(\"senior citizen\")"
      ],
      "metadata": {
        "colab": {
          "base_uri": "https://localhost:8080/"
        },
        "id": "cCU1jCLZ-sCm",
        "outputId": "be18520c-6147-46c5-b33d-f18cb0f90087"
      },
      "execution_count": null,
      "outputs": [
        {
          "output_type": "stream",
          "name": "stdout",
          "text": [
            "enter your age13\n",
            "teen\n"
          ]
        }
      ]
    },
    {
      "cell_type": "code",
      "source": [
        " # time<12 = 'good morning'\n",
        " # time>12 and time<17 =good afternoon\n",
        " # time>17 and time<=23 = good evening\n",
        "\n",
        "\n",
        "time=int(input(\"enter time 24 formatt\"))\n",
        "\n",
        "if(5<=time<12):\n",
        "  print(\"good morning\")\n",
        "elif(12<=time<=17):\n",
        "  print(\"good evening\")\n",
        "elif(17<=time<=23):\n",
        "  print(\"good afternoon\")\n",
        "elif(0<=time<=5):\n",
        "  print(\"good night\")"
      ],
      "metadata": {
        "colab": {
          "base_uri": "https://localhost:8080/"
        },
        "id": "pcceUcQ6_-cx",
        "outputId": "0bec4042-30cc-4e04-ba5e-8fc51c14bd76"
      },
      "execution_count": null,
      "outputs": [
        {
          "output_type": "stream",
          "name": "stdout",
          "text": [
            "enter time 24 formatt2\n",
            "good night\n"
          ]
        }
      ]
    },
    {
      "cell_type": "markdown",
      "source": [
        "# loop exercise **quection** *bold text:* **bold text**"
      ],
      "metadata": {
        "id": "oHmS7jdxCrsD"
      }
    },
    {
      "cell_type": "markdown",
      "source": [
        "1>---for loop"
      ],
      "metadata": {
        "id": "Cj9xIlkYDC6O"
      }
    },
    {
      "cell_type": "code",
      "source": [
        "# print number frrom 1 to 10 using loop.\n",
        "\n",
        "for i in range(1,11):\n",
        "  print(i)"
      ],
      "metadata": {
        "colab": {
          "base_uri": "https://localhost:8080/"
        },
        "id": "wwaserCoaLv6",
        "outputId": "3adb9a57-349e-4207-a1d8-8692658e678f"
      },
      "execution_count": null,
      "outputs": [
        {
          "output_type": "stream",
          "name": "stdout",
          "text": [
            "1\n",
            "2\n",
            "3\n",
            "4\n",
            "5\n",
            "6\n",
            "7\n",
            "8\n",
            "9\n",
            "10\n"
          ]
        }
      ]
    },
    {
      "cell_type": "code",
      "source": [
        "# print even number from 2 20.\n",
        "\n",
        "for i in range(2,20,2):\n",
        "  print(i)"
      ],
      "metadata": {
        "colab": {
          "base_uri": "https://localhost:8080/"
        },
        "id": "gDWL5NPDaee6",
        "outputId": "9ba3c105-7513-4a06-f14c-8e090994e1fc"
      },
      "execution_count": null,
      "outputs": [
        {
          "output_type": "stream",
          "name": "stdout",
          "text": [
            "2\n",
            "4\n",
            "6\n",
            "8\n",
            "10\n",
            "12\n",
            "14\n",
            "16\n",
            "18\n"
          ]
        }
      ]
    },
    {
      "cell_type": "code",
      "source": [
        "# print multipication table of 5.\n",
        "\n",
        "num=5\n",
        "for i in range(1,11):\n",
        "  print(f\"5x{i}={5*i}\")"
      ],
      "metadata": {
        "colab": {
          "base_uri": "https://localhost:8080/"
        },
        "id": "OyB-AZWaartZ",
        "outputId": "c6f05063-7451-417e-ec57-97663dcebc50"
      },
      "execution_count": null,
      "outputs": [
        {
          "output_type": "stream",
          "name": "stdout",
          "text": [
            "5x1=5\n",
            "5x2=10\n",
            "5x3=15\n",
            "5x4=20\n",
            "5x5=25\n",
            "5x6=30\n",
            "5x7=35\n",
            "5x8=40\n",
            "5x9=45\n",
            "5x10=50\n"
          ]
        }
      ]
    },
    {
      "cell_type": "code",
      "source": [
        "# print each charcter in a string.\n",
        "\n",
        "s=\"i love python\"\n",
        "for i in s:\n",
        "  print(i,end=\" \")"
      ],
      "metadata": {
        "colab": {
          "base_uri": "https://localhost:8080/"
        },
        "id": "ZFh-sm9-bH1l",
        "outputId": "4370eced-ed92-42cc-aefd-2455541b92d0"
      },
      "execution_count": null,
      "outputs": [
        {
          "output_type": "stream",
          "name": "stdout",
          "text": [
            "i   l o v e   p y t h o n "
          ]
        }
      ]
    },
    {
      "cell_type": "code",
      "source": [
        "# print the square number of 1 to 10.\n",
        "\n",
        "for i in range(1,11):\n",
        "  print(i**2)"
      ],
      "metadata": {
        "colab": {
          "base_uri": "https://localhost:8080/"
        },
        "id": "Qg9F8mWybhRH",
        "outputId": "e591d7b5-29da-4cfd-d636-e041f64d2492"
      },
      "execution_count": null,
      "outputs": [
        {
          "output_type": "stream",
          "name": "stdout",
          "text": [
            "1\n",
            "4\n",
            "9\n",
            "16\n",
            "25\n",
            "36\n",
            "49\n",
            "64\n",
            "81\n",
            "100\n"
          ]
        }
      ]
    },
    {
      "cell_type": "code",
      "source": [
        "#iterate through  a tuple and print its element.\n",
        "\n",
        "tup=(\"banan\",\"apple\",\"orange\",\"mango\")\n",
        "for i in tup:\n",
        "  print(i)"
      ],
      "metadata": {
        "colab": {
          "base_uri": "https://localhost:8080/"
        },
        "id": "91yi_qE9b063",
        "outputId": "54845185-b533-45bd-9e76-20fb8822ea26"
      },
      "execution_count": null,
      "outputs": [
        {
          "output_type": "stream",
          "name": "stdout",
          "text": [
            "banan\n",
            "apple\n",
            "orange\n",
            "mango\n"
          ]
        }
      ]
    },
    {
      "cell_type": "code",
      "source": [
        "# iterate through a dictionary and print keys.\n",
        "\n",
        "my_dict = {\n",
        "    \"name\": \"Alice\",\n",
        "    \"age\": 25,\n",
        "    \"city\": \"New York\"\n",
        "}\n",
        "\n",
        "for key in my_dict:\n",
        "  print(key)"
      ],
      "metadata": {
        "colab": {
          "base_uri": "https://localhost:8080/"
        },
        "id": "9MNjRG-YcvA9",
        "outputId": "e11b73ea-a379-4078-ab40-24719250d711"
      },
      "execution_count": null,
      "outputs": [
        {
          "output_type": "stream",
          "name": "stdout",
          "text": [
            "name\n",
            "age\n",
            "city\n"
          ]
        }
      ]
    },
    {
      "cell_type": "code",
      "source": [
        "# Iterate through a dictionary and print key-value pairs.\n",
        "\n",
        "my_dict = {\n",
        "    \"name\": \"Alice\",\n",
        "    \"age\": 25,\n",
        "    \"city\": \"New York\"\n",
        "}\n",
        "\n",
        "for key,value in my_dict.items():\n",
        "  print(f\"{key}:{value}\")"
      ],
      "metadata": {
        "colab": {
          "base_uri": "https://localhost:8080/"
        },
        "id": "ZiSQPh-edOvT",
        "outputId": "ba44b6ed-55c3-4417-aa8e-cf00c29eceda"
      },
      "execution_count": null,
      "outputs": [
        {
          "output_type": "stream",
          "name": "stdout",
          "text": [
            "name:Alice\n",
            "age:25\n",
            "city:New York\n"
          ]
        }
      ]
    },
    {
      "cell_type": "code",
      "source": [
        "#Sum all numbers from 1 to 100 using a for loop.\n",
        "\n",
        "sum=0\n",
        "for i in range(1,100):\n",
        "  sum=sum+i\n",
        "print(sum)\n"
      ],
      "metadata": {
        "colab": {
          "base_uri": "https://localhost:8080/"
        },
        "id": "ca735s_OeYhP",
        "outputId": "80429a77-fc12-4b9a-d064-40e3e110b499"
      },
      "execution_count": null,
      "outputs": [
        {
          "output_type": "stream",
          "name": "stdout",
          "text": [
            "4950\n"
          ]
        }
      ]
    },
    {
      "cell_type": "code",
      "source": [
        "# print odd number between 1,100\n",
        "\n",
        "for i in range(1,100):\n",
        "  if(i%2!=0):\n",
        "    print(i)"
      ],
      "metadata": {
        "colab": {
          "base_uri": "https://localhost:8080/"
        },
        "id": "UOANp6iHDCa-",
        "outputId": "3ba63937-0fc3-40d9-8f4e-4c50444eb65b"
      },
      "execution_count": null,
      "outputs": [
        {
          "output_type": "stream",
          "name": "stdout",
          "text": [
            "1\n",
            "3\n",
            "5\n",
            "7\n",
            "9\n",
            "11\n",
            "13\n",
            "15\n",
            "17\n",
            "19\n",
            "21\n",
            "23\n",
            "25\n",
            "27\n",
            "29\n",
            "31\n",
            "33\n",
            "35\n",
            "37\n",
            "39\n",
            "41\n",
            "43\n",
            "45\n",
            "47\n",
            "49\n",
            "51\n",
            "53\n",
            "55\n",
            "57\n",
            "59\n",
            "61\n",
            "63\n",
            "65\n",
            "67\n",
            "69\n",
            "71\n",
            "73\n",
            "75\n",
            "77\n",
            "79\n",
            "81\n",
            "83\n",
            "85\n",
            "87\n",
            "89\n",
            "91\n",
            "93\n",
            "95\n",
            "97\n",
            "99\n"
          ]
        }
      ]
    },
    {
      "cell_type": "code",
      "source": [
        "# method 2\n",
        "\n",
        "for i in range(1,101,2):\n",
        "  print(i)"
      ],
      "metadata": {
        "colab": {
          "base_uri": "https://localhost:8080/"
        },
        "id": "3-V85mvDNaZg",
        "outputId": "2bc5ed14-2454-4c71-f56a-ee0fd3811c6b"
      },
      "execution_count": null,
      "outputs": [
        {
          "output_type": "stream",
          "name": "stdout",
          "text": [
            "1\n",
            "3\n",
            "5\n",
            "7\n",
            "9\n",
            "11\n",
            "13\n",
            "15\n",
            "17\n",
            "19\n",
            "21\n",
            "23\n",
            "25\n",
            "27\n",
            "29\n",
            "31\n",
            "33\n",
            "35\n",
            "37\n",
            "39\n",
            "41\n",
            "43\n",
            "45\n",
            "47\n",
            "49\n",
            "51\n",
            "53\n",
            "55\n",
            "57\n",
            "59\n",
            "61\n",
            "63\n",
            "65\n",
            "67\n",
            "69\n",
            "71\n",
            "73\n",
            "75\n",
            "77\n",
            "79\n",
            "81\n",
            "83\n",
            "85\n",
            "87\n",
            "89\n",
            "91\n",
            "93\n",
            "95\n",
            "97\n",
            "99\n"
          ]
        }
      ]
    },
    {
      "cell_type": "code",
      "source": [
        "# print sum of even number range 1,50.\n",
        "\n",
        "sum=0\n",
        "for i in range(1,51):\n",
        "  if(i%2==0):\n",
        "    sum=sum+i\n",
        "\n",
        "print(sum)\n"
      ],
      "metadata": {
        "colab": {
          "base_uri": "https://localhost:8080/"
        },
        "id": "KOWdJ8kRCnHr",
        "outputId": "dd536852-2a65-440a-da29-f358047c2915"
      },
      "execution_count": null,
      "outputs": [
        {
          "output_type": "stream",
          "name": "stdout",
          "text": [
            "650\n"
          ]
        }
      ]
    },
    {
      "cell_type": "code",
      "source": [
        "sum=0\n",
        "for i in range(2,51,2):\n",
        "  sum=sum+i\n",
        "  print(sum)"
      ],
      "metadata": {
        "colab": {
          "base_uri": "https://localhost:8080/"
        },
        "id": "qBblEwL7N7nw",
        "outputId": "08b43be1-3036-434a-c41a-aaf0b31e2449"
      },
      "execution_count": null,
      "outputs": [
        {
          "output_type": "stream",
          "name": "stdout",
          "text": [
            "2\n",
            "6\n",
            "12\n",
            "20\n",
            "30\n",
            "42\n",
            "56\n",
            "72\n",
            "90\n",
            "110\n",
            "132\n",
            "156\n",
            "182\n",
            "210\n",
            "240\n",
            "272\n",
            "306\n",
            "342\n",
            "380\n",
            "420\n",
            "462\n",
            "506\n",
            "552\n",
            "600\n",
            "650\n"
          ]
        }
      ]
    },
    {
      "cell_type": "code",
      "source": [
        "# print the number in reverse 10 to 1.\n",
        "\n",
        "for i in range(10,0,-1):\n",
        "  print(i)"
      ],
      "metadata": {
        "colab": {
          "base_uri": "https://localhost:8080/"
        },
        "id": "G-ivZ4qKJ7BR",
        "outputId": "43a47fed-4d73-4b40-85b3-2c513c915fbc"
      },
      "execution_count": null,
      "outputs": [
        {
          "output_type": "stream",
          "name": "stdout",
          "text": [
            "10\n",
            "9\n",
            "8\n",
            "7\n",
            "6\n",
            "5\n",
            "4\n",
            "3\n",
            "2\n",
            "1\n"
          ]
        }
      ]
    },
    {
      "cell_type": "code",
      "source": [
        "# print the given number table\n",
        "\n",
        "num=int(input(\"enter a number :\"))\n",
        "for i in range(1,11):\n",
        "  print(num*i)"
      ],
      "metadata": {
        "colab": {
          "base_uri": "https://localhost:8080/"
        },
        "id": "UPhDsW8IKfQJ",
        "outputId": "92f353cd-001e-403f-c90a-293311c5bb14"
      },
      "execution_count": null,
      "outputs": [
        {
          "output_type": "stream",
          "name": "stdout",
          "text": [
            "enter a number :5\n",
            "5\n",
            "10\n",
            "15\n",
            "20\n",
            "25\n",
            "30\n",
            "35\n",
            "40\n",
            "45\n",
            "50\n"
          ]
        }
      ]
    },
    {
      "cell_type": "code",
      "source": [
        "num=int(input(\"enter a number :\"))\n",
        "for i in range(1,11):\n",
        "  print(f\"{num}x{i}={num*i}\")"
      ],
      "metadata": {
        "colab": {
          "base_uri": "https://localhost:8080/"
        },
        "id": "tVEA-kXJOVkC",
        "outputId": "088f9e25-1fd1-4529-db67-a902f0a77f3b"
      },
      "execution_count": null,
      "outputs": [
        {
          "output_type": "stream",
          "name": "stdout",
          "text": [
            "enter a number :6\n",
            "6x1=6\n",
            "6x2=12\n",
            "6x3=18\n",
            "6x4=24\n",
            "6x5=30\n",
            "6x6=36\n",
            "6x7=42\n",
            "6x8=48\n",
            "6x9=54\n",
            "6x10=60\n"
          ]
        }
      ]
    },
    {
      "cell_type": "code",
      "source": [
        "# print all element in a list using for loop.\n",
        "\n",
        "list1=[6,2,8,2,8,2,2]\n",
        "for i in list1:\n",
        "  print(i)"
      ],
      "metadata": {
        "colab": {
          "base_uri": "https://localhost:8080/"
        },
        "id": "a94OOAcBLBqo",
        "outputId": "153a6894-8f28-4931-a0d4-16ae55e2d045"
      },
      "execution_count": null,
      "outputs": [
        {
          "output_type": "stream",
          "name": "stdout",
          "text": [
            "6\n",
            "2\n",
            "8\n",
            "2\n",
            "8\n",
            "2\n",
            "2\n"
          ]
        }
      ]
    },
    {
      "cell_type": "code",
      "source": [
        "fruits=[\"apple\",\"banana\",\"cherry\",\"orange\"]\n",
        "for i in fruits:\n",
        "  print(i)"
      ],
      "metadata": {
        "colab": {
          "base_uri": "https://localhost:8080/"
        },
        "id": "sW8SMdwfO1Qo",
        "outputId": "d69c7576-0826-4785-bedd-47f344c3f8b2"
      },
      "execution_count": null,
      "outputs": [
        {
          "output_type": "stream",
          "name": "stdout",
          "text": [
            "apple\n",
            "banana\n",
            "cherry\n",
            "orange\n"
          ]
        }
      ]
    },
    {
      "cell_type": "markdown",
      "source": [
        "condition based logic"
      ],
      "metadata": {
        "id": "oP8MDwxaL0En"
      }
    },
    {
      "cell_type": "code",
      "source": [
        "# print the number of 1 to 50 there are diveded by 3 and 5.\n",
        "\n",
        "for i in range(1,50):\n",
        "  if(i%3==0 and i%5==0):\n",
        "    print(i)"
      ],
      "metadata": {
        "colab": {
          "base_uri": "https://localhost:8080/"
        },
        "id": "PfxsolfwL4_5",
        "outputId": "a7073c67-069f-4ac4-d6ca-534a2f6e0543"
      },
      "execution_count": null,
      "outputs": [
        {
          "output_type": "stream",
          "name": "stdout",
          "text": [
            "15\n",
            "30\n",
            "45\n"
          ]
        }
      ]
    },
    {
      "cell_type": "code",
      "source": [
        "# CHECK the number is prime or not prime.\n"
      ],
      "metadata": {
        "id": "SMXuDCghPIX-"
      },
      "execution_count": null,
      "outputs": []
    },
    {
      "cell_type": "markdown",
      "source": [
        "list and string ffor loop question"
      ],
      "metadata": {
        "id": "v6NgApYQkQyt"
      }
    },
    {
      "cell_type": "code",
      "source": [],
      "metadata": {
        "id": "bGu3zPJakWsC"
      },
      "execution_count": null,
      "outputs": []
    },
    {
      "cell_type": "code",
      "source": [
        "# Reverse a string using a for loop.\n",
        "\n",
        "s=\"murari\"\n",
        "rev=\" \"\n",
        "for i in s:\n",
        "  rev=i+rev\n",
        "  print(rev)"
      ],
      "metadata": {
        "id": "KHjWZ-MDRRie",
        "colab": {
          "base_uri": "https://localhost:8080/"
        },
        "outputId": "d43f2422-a4ad-4561-aa2e-9eac7f2a5fa7"
      },
      "execution_count": null,
      "outputs": [
        {
          "output_type": "stream",
          "name": "stdout",
          "text": [
            "m \n",
            "um \n",
            "rum \n",
            "arum \n",
            "rarum \n",
            "irarum \n"
          ]
        }
      ]
    },
    {
      "cell_type": "code",
      "source": [
        "# Count vowels in a string.\n",
        "s=\"hello ppython\"\n",
        "count=0\n",
        "for char in s:\n",
        "  if char in \"aeiou\":\n",
        "    count=count+1\n",
        "print(count)\n",
        "\n"
      ],
      "metadata": {
        "colab": {
          "base_uri": "https://localhost:8080/"
        },
        "id": "FYj_-BGog38_",
        "outputId": "63089ddb-6713-46a3-c9ad-584950a1d476"
      },
      "execution_count": null,
      "outputs": [
        {
          "output_type": "stream",
          "name": "stdout",
          "text": [
            "3\n"
          ]
        }
      ]
    },
    {
      "cell_type": "code",
      "source": [
        "# Remove vowels from a string using a for loop.\n",
        "\n",
        "s=\"hello python\"\n",
        "s2=\" \"\n",
        "for char in s:\n",
        "  if char not in \"aeiou\":\n",
        "    s2=s2+char\n",
        "print(s2)"
      ],
      "metadata": {
        "colab": {
          "base_uri": "https://localhost:8080/"
        },
        "id": "njHRfhKnigHU",
        "outputId": "8a71e129-1dc5-47f7-f126-f2fe7824bdc2"
      },
      "execution_count": null,
      "outputs": [
        {
          "output_type": "stream",
          "name": "stdout",
          "text": [
            " hll pythn\n"
          ]
        }
      ]
    },
    {
      "cell_type": "code",
      "source": [
        "# Convert all string elements in a list to uppercase.\n",
        "\n",
        "words = [\"apple\", \"banana\", \"cherry\"]\n",
        "uppercas=[]\n",
        "for i in words:\n",
        "  uppercas.append(i.upper())\n",
        "  print(uppercas)"
      ],
      "metadata": {
        "colab": {
          "base_uri": "https://localhost:8080/"
        },
        "id": "xLfXJEt0klL2",
        "outputId": "f19f33ba-7b3f-4338-c0e6-b9a33d388a55"
      },
      "execution_count": null,
      "outputs": [
        {
          "output_type": "stream",
          "name": "stdout",
          "text": [
            "['APPLE']\n",
            "['APPLE', 'BANANA']\n",
            "['APPLE', 'BANANA', 'CHERRY']\n"
          ]
        }
      ]
    },
    {
      "cell_type": "code",
      "source": [
        "s=\"sainimurari\"\n",
        "s2=\"\"\n",
        "for char in s:\n",
        "  s2=s2+char.upper()\n",
        "print(s2)\n"
      ],
      "metadata": {
        "colab": {
          "base_uri": "https://localhost:8080/"
        },
        "id": "xaME4eTEl3f-",
        "outputId": "18478eab-9f5c-4fb2-f31b-7b95365451af"
      },
      "execution_count": null,
      "outputs": [
        {
          "output_type": "stream",
          "name": "stdout",
          "text": [
            "SAINIMURARI\n"
          ]
        }
      ]
    },
    {
      "cell_type": "code",
      "source": [
        "s=\"sainimurari\"\n",
        "s2=s.upper()\n",
        "print(s2)"
      ],
      "metadata": {
        "colab": {
          "base_uri": "https://localhost:8080/"
        },
        "id": "o2E2Vi6KiOgh",
        "outputId": "adbb12e1-a8d5-4ca3-92a1-14611b927ce0"
      },
      "execution_count": null,
      "outputs": [
        {
          "output_type": "stream",
          "name": "stdout",
          "text": [
            "SAINIMURARI\n"
          ]
        }
      ]
    },
    {
      "cell_type": "code",
      "source": [
        "# Find the longest word in a list.\n",
        "\n",
        "words = [\"apple\", \"banana\", \"grapefruit\", \"kiwi\"]\n",
        "longest=\" \"\n",
        "for item in words:\n",
        "  if len(item)>len(longest):\n",
        "    longest=item\n",
        "print(longest)"
      ],
      "metadata": {
        "colab": {
          "base_uri": "https://localhost:8080/"
        },
        "id": "6nPpB383pNNc",
        "outputId": "94788fae-09f3-494b-e57c-89e7982e3aca"
      },
      "execution_count": null,
      "outputs": [
        {
          "output_type": "stream",
          "name": "stdout",
          "text": [
            "grapefruit\n"
          ]
        }
      ]
    },
    {
      "cell_type": "code",
      "source": [
        "# Append only even numbers to a new list from an existing list.\n",
        "numbers = [1, 2, 3, 4, 5, 6, 7, 8, 9, 10]\n",
        "even=[]\n",
        "for i in numbers:\n",
        "  if(i%2==0):\n",
        "    even.append(i)\n",
        "\n",
        "    print(even)\n"
      ],
      "metadata": {
        "colab": {
          "base_uri": "https://localhost:8080/"
        },
        "id": "Tc4LLWbdqrOK",
        "outputId": "74bfb33b-4811-45d6-c84d-9ca077cd962f"
      },
      "execution_count": null,
      "outputs": [
        {
          "output_type": "stream",
          "name": "stdout",
          "text": [
            "[2]\n",
            "[2, 4]\n",
            "[2, 4, 6]\n",
            "[2, 4, 6, 8]\n",
            "[2, 4, 6, 8, 10]\n"
          ]
        }
      ]
    },
    {
      "cell_type": "code",
      "source": [
        "#  Create a list of squares using a for loop.\n",
        "square=[]\n",
        "for i in range(1,11):\n",
        "  square.append(i*i)\n",
        "\n",
        "print(square)\n"
      ],
      "metadata": {
        "colab": {
          "base_uri": "https://localhost:8080/"
        },
        "id": "W6HDzhzjrZI2",
        "outputId": "5c930163-3611-423e-f97a-4b4917197764"
      },
      "execution_count": null,
      "outputs": [
        {
          "output_type": "stream",
          "name": "stdout",
          "text": [
            "[1, 4, 9, 16, 25, 36, 49, 64, 81, 100]\n"
          ]
        }
      ]
    },
    {
      "cell_type": "markdown",
      "source": [
        " **while loop question in python**"
      ],
      "metadata": {
        "id": "0M4ZU3TYyIid"
      }
    },
    {
      "cell_type": "code",
      "source": [
        "# Print numbers from 1 to 10\n",
        "\n",
        "i=1\n",
        "while(i<=10):\n",
        "  print(i)\n",
        "  i=i+1"
      ],
      "metadata": {
        "colab": {
          "base_uri": "https://localhost:8080/"
        },
        "id": "Mug7Mx0gyVSU",
        "outputId": "db1f3ee1-e816-400a-ec91-98664458fe75"
      },
      "execution_count": null,
      "outputs": [
        {
          "output_type": "stream",
          "name": "stdout",
          "text": [
            "1\n",
            "2\n",
            "3\n",
            "4\n",
            "5\n",
            "6\n",
            "7\n",
            "8\n",
            "9\n",
            "10\n"
          ]
        }
      ]
    },
    {
      "cell_type": "code",
      "source": [
        "# . Print even numbers from 1 to 20.\n",
        "\n",
        "i=1\n",
        "while(i<=20):\n",
        "  if(i%2==0):\n",
        "   print(i)\n",
        "  i=i+1"
      ],
      "metadata": {
        "colab": {
          "base_uri": "https://localhost:8080/"
        },
        "id": "axLsm2InyGzD",
        "outputId": "726a138c-ff7a-4b5c-e448-5c51c0a2bc37"
      },
      "execution_count": null,
      "outputs": [
        {
          "output_type": "stream",
          "name": "stdout",
          "text": [
            "2\n",
            "4\n",
            "6\n",
            "8\n",
            "10\n",
            "12\n",
            "14\n",
            "16\n",
            "18\n",
            "20\n"
          ]
        }
      ]
    },
    {
      "cell_type": "code",
      "source": [
        "# Print odd numbers from 1 to 20\n",
        "i=1\n",
        "while(i<=20):\n",
        "  print(i)\n",
        "  i=i+2"
      ],
      "metadata": {
        "colab": {
          "base_uri": "https://localhost:8080/"
        },
        "id": "17Ri1EMFzK6v",
        "outputId": "799a4f0f-ad02-4030-e92b-45f62eb420ac"
      },
      "execution_count": null,
      "outputs": [
        {
          "output_type": "stream",
          "name": "stdout",
          "text": [
            "1\n",
            "3\n",
            "5\n",
            "7\n",
            "9\n",
            "11\n",
            "13\n",
            "15\n",
            "17\n",
            "19\n"
          ]
        }
      ]
    },
    {
      "cell_type": "code",
      "source": [
        "# Print numbers in reverse from 10 to 1.\n",
        "i=10\n",
        "while(i>=1):\n",
        "  print(i)\n",
        "  i=i-1"
      ],
      "metadata": {
        "colab": {
          "base_uri": "https://localhost:8080/"
        },
        "id": "l5CJncHazWde",
        "outputId": "18210b03-10c9-4dcd-82d8-ed0d7e3e9895"
      },
      "execution_count": null,
      "outputs": [
        {
          "output_type": "stream",
          "name": "stdout",
          "text": [
            "10\n",
            "9\n",
            "8\n",
            "7\n",
            "6\n",
            "5\n",
            "4\n",
            "3\n",
            "2\n",
            "1\n"
          ]
        }
      ]
    },
    {
      "cell_type": "code",
      "source": [
        "# Print multiplication table of a number (e.g., 5)\n",
        "num=5\n",
        "i=1\n",
        "while(i<=10):\n",
        "  print(num*i)\n",
        "  i=i+1"
      ],
      "metadata": {
        "colab": {
          "base_uri": "https://localhost:8080/"
        },
        "id": "xwWWWNuP0OrP",
        "outputId": "a09ddaa9-9d91-4709-bff1-d6b7f2cf3ba3"
      },
      "execution_count": null,
      "outputs": [
        {
          "output_type": "stream",
          "name": "stdout",
          "text": [
            "5\n",
            "10\n",
            "15\n",
            "20\n",
            "25\n",
            "30\n",
            "35\n",
            "40\n",
            "45\n",
            "50\n"
          ]
        }
      ]
    },
    {
      "cell_type": "code",
      "source": [
        " # Calculate sum of first 10 natural numbers..\n",
        " i=1\n",
        " sum=0\n",
        " while(i<=10):\n",
        "  sum=sum+i\n",
        "  i=i+1\n",
        " print(sum)\n"
      ],
      "metadata": {
        "colab": {
          "base_uri": "https://localhost:8080/"
        },
        "id": "lXOpvn9Z1UKc",
        "outputId": "a0b3cb90-f5bc-4dae-f7c1-fc36488a538b"
      },
      "execution_count": null,
      "outputs": [
        {
          "output_type": "stream",
          "name": "stdout",
          "text": [
            "55\n"
          ]
        }
      ]
    },
    {
      "cell_type": "code",
      "source": [
        "# Find factorial of a number.\n",
        "num=5\n",
        "fact=1\n",
        "i=1\n",
        "while(i<num):\n",
        "  fact=fact*i\n",
        "  i=i+1\n",
        "print(fact)"
      ],
      "metadata": {
        "colab": {
          "base_uri": "https://localhost:8080/"
        },
        "id": "xnnysVZ21_nj",
        "outputId": "270fc272-87a2-4e02-b4d8-79789cd44e6a"
      },
      "execution_count": null,
      "outputs": [
        {
          "output_type": "stream",
          "name": "stdout",
          "text": [
            "24\n"
          ]
        }
      ]
    },
    {
      "cell_type": "code",
      "source": [
        "# reverse  a number\n",
        "\n",
        "num=1234\n",
        "rev=0\n",
        "while(num>0):\n",
        "  rev=rev*10+num%10\n",
        "  num=num//10\n",
        "  print(rev)"
      ],
      "metadata": {
        "colab": {
          "base_uri": "https://localhost:8080/"
        },
        "id": "jzi3Qs-flBBd",
        "outputId": "9ec61c67-ecfe-4b30-9220-7728c863ff1e"
      },
      "execution_count": null,
      "outputs": [
        {
          "output_type": "stream",
          "name": "stdout",
          "text": [
            "4\n",
            "43\n",
            "432\n",
            "4321\n"
          ]
        }
      ]
    },
    {
      "cell_type": "code",
      "source": [
        "n = int(input(\"Enter a number: \"))\n",
        "count = 0\n",
        "if n == 0:\n",
        "    count = 1\n",
        "while n > 0:\n",
        "    count += 1\n",
        "    n //= 10\n",
        "print(\"Number of digits:\", count)\n"
      ],
      "metadata": {
        "colab": {
          "base_uri": "https://localhost:8080/"
        },
        "id": "bvihEfHklfBx",
        "outputId": "f97e702e-c843-4314-c0d1-f00704f77c19"
      },
      "execution_count": null,
      "outputs": [
        {
          "output_type": "stream",
          "name": "stdout",
          "text": [
            "Enter a number: 456\n",
            "Number of digits: 3\n"
          ]
        }
      ]
    },
    {
      "cell_type": "code",
      "source": [
        "num=4569\n",
        "count=0\n",
        "while(num>0):\n",
        "  count=count+1\n",
        "  num=num//10\n",
        "print(count)\n"
      ],
      "metadata": {
        "colab": {
          "base_uri": "https://localhost:8080/"
        },
        "id": "giUCLcYgl9Yc",
        "outputId": "7d70c022-d2fe-4da4-f101-0dd8e0a7683d"
      },
      "execution_count": null,
      "outputs": [
        {
          "output_type": "stream",
          "name": "stdout",
          "text": [
            "4\n"
          ]
        }
      ]
    },
    {
      "cell_type": "code",
      "source": [
        "# Check if a number is a palindrome\n",
        "\n",
        "num=4563\n",
        "orignal=num\n",
        "rev=0\n",
        "while(num>0):\n",
        "  rev=rev*10+num%10\n",
        "  num=num//10\n",
        "  print(rev)\n",
        "if(orignal==rev):\n",
        "  print(\"palindrom\")\n",
        "else:\n",
        "  print(\"not palindrom\")\n"
      ],
      "metadata": {
        "colab": {
          "base_uri": "https://localhost:8080/"
        },
        "id": "KqeUE5C3mfQk",
        "outputId": "90279aae-c07c-4592-abbd-9b55f83a0d40"
      },
      "execution_count": null,
      "outputs": [
        {
          "output_type": "stream",
          "name": "stdout",
          "text": [
            "3\n",
            "36\n",
            "365\n",
            "3654\n",
            "not palindrom\n"
          ]
        }
      ]
    },
    {
      "cell_type": "code",
      "source": [
        "# Find factorial of an integer\n",
        "\n",
        "num=5\n",
        "i=1\n",
        "fact=1\n",
        "while(i<=num):\n",
        "  fact=fact*i\n",
        "  i=i+1\n",
        "  print(fact)\n"
      ],
      "metadata": {
        "colab": {
          "base_uri": "https://localhost:8080/"
        },
        "id": "P_jWK2pDosep",
        "outputId": "f937e421-203a-44b8-8969-2531a8720cbd"
      },
      "execution_count": null,
      "outputs": [
        {
          "output_type": "stream",
          "name": "stdout",
          "text": [
            "1\n",
            "2\n",
            "6\n",
            "24\n",
            "120\n"
          ]
        }
      ]
    },
    {
      "cell_type": "code",
      "source": [
        " # Find the greatest digit in a number\n",
        " num=4589\n",
        " max_digit=0\n",
        " while(num>0):\n",
        "  digit=num%10\n",
        "  if(digit>max_digit):\n",
        "    max_digit=digit\n",
        "    num=num//10\n",
        "    print(max_digit)"
      ],
      "metadata": {
        "colab": {
          "base_uri": "https://localhost:8080/",
          "height": 228
        },
        "id": "eup-EQa_pwpK",
        "outputId": "7ff84174-dede-4b15-bae5-cac2dbe374e1"
      },
      "execution_count": null,
      "outputs": [
        {
          "output_type": "stream",
          "name": "stdout",
          "text": [
            "9\n"
          ]
        },
        {
          "output_type": "error",
          "ename": "KeyboardInterrupt",
          "evalue": "",
          "traceback": [
            "\u001b[0;31m---------------------------------------------------------------------------\u001b[0m",
            "\u001b[0;31mKeyboardInterrupt\u001b[0m                         Traceback (most recent call last)",
            "\u001b[0;32m/tmp/ipython-input-15-571424290.py\u001b[0m in \u001b[0;36m<cell line: 0>\u001b[0;34m()\u001b[0m\n\u001b[1;32m      2\u001b[0m \u001b[0mnum\u001b[0m\u001b[0;34m=\u001b[0m\u001b[0;36m4589\u001b[0m\u001b[0;34m\u001b[0m\u001b[0;34m\u001b[0m\u001b[0m\n\u001b[1;32m      3\u001b[0m \u001b[0mmax_digit\u001b[0m\u001b[0;34m=\u001b[0m\u001b[0;36m0\u001b[0m\u001b[0;34m\u001b[0m\u001b[0;34m\u001b[0m\u001b[0m\n\u001b[0;32m----> 4\u001b[0;31m \u001b[0;32mwhile\u001b[0m\u001b[0;34m(\u001b[0m\u001b[0mnum\u001b[0m\u001b[0;34m>\u001b[0m\u001b[0;36m0\u001b[0m\u001b[0;34m)\u001b[0m\u001b[0;34m:\u001b[0m\u001b[0;34m\u001b[0m\u001b[0;34m\u001b[0m\u001b[0m\n\u001b[0m\u001b[1;32m      5\u001b[0m  \u001b[0mdigit\u001b[0m\u001b[0;34m=\u001b[0m\u001b[0mnum\u001b[0m\u001b[0;34m%\u001b[0m\u001b[0;36m10\u001b[0m\u001b[0;34m\u001b[0m\u001b[0;34m\u001b[0m\u001b[0m\n\u001b[1;32m      6\u001b[0m  \u001b[0;32mif\u001b[0m\u001b[0;34m(\u001b[0m\u001b[0mdigit\u001b[0m\u001b[0;34m>\u001b[0m\u001b[0mmax_digit\u001b[0m\u001b[0;34m)\u001b[0m\u001b[0;34m:\u001b[0m\u001b[0;34m\u001b[0m\u001b[0;34m\u001b[0m\u001b[0m\n",
            "\u001b[0;31mKeyboardInterrupt\u001b[0m: "
          ]
        }
      ]
    },
    {
      "cell_type": "code",
      "source": [
        "# Count digits divisible by 3\n",
        "n = int(input(\"Enter a number: \"))\n",
        "count = 0\n",
        "while n > 0:\n",
        "    digit = n % 10\n",
        "    if digit % 3 == 0:\n",
        "        count += 1\n",
        "    n = n // 10\n",
        "print(\"Digits divisible by 3:\", count)\n"
      ],
      "metadata": {
        "colab": {
          "base_uri": "https://localhost:8080/"
        },
        "id": "KDd-nqCqqtPS",
        "outputId": "eb57c3c1-4173-4167-b3d5-82cffb5780b1"
      },
      "execution_count": null,
      "outputs": [
        {
          "output_type": "stream",
          "name": "stdout",
          "text": [
            "Enter a number: 45896\n",
            "Digits divisible by 3: 2\n"
          ]
        }
      ]
    },
    {
      "cell_type": "code",
      "source": [
        "# Reverse factorial: Largest k where k! ≤ n\n",
        "\n",
        "n = int(input(\"Enter a number: \"))\n",
        "k = 1\n",
        "fact = 1\n",
        "while fact <= n:\n",
        "    k += 1\n",
        "    fact *= k\n",
        "k -= 1\n",
        "print(\"Largest k where k! ≤ n is:\", k)\n"
      ],
      "metadata": {
        "id": "ytqk1MtxsjIX"
      },
      "execution_count": null,
      "outputs": []
    },
    {
      "cell_type": "code",
      "source": [
        "#  Digital root (repeated sum of digits)\n",
        "n = int(input(\"Enter a number: \"))\n",
        "while n >= 10:\n",
        "    sum_digits = 0\n",
        "    while n > 0:\n",
        "        sum_digits += n % 10\n",
        "        n = n // 10\n",
        "    n = sum_digits\n",
        "print(\"Digital root:\", n)\n"
      ],
      "metadata": {
        "colab": {
          "base_uri": "https://localhost:8080/"
        },
        "id": "BIjS83_es7en",
        "outputId": "82af9a66-0eb4-4b36-d5e9-5dca9850a2f8"
      },
      "execution_count": null,
      "outputs": [
        {
          "output_type": "stream",
          "name": "stdout",
          "text": [
            "Enter a number: 4587\n",
            "Digital root: 6\n"
          ]
        }
      ]
    },
    {
      "cell_type": "code",
      "source": [
        "# Compute GCD of two numbers (Euclid’s algorithm)\n",
        "\n",
        "a = int(input(\"Enter first number: \"))\n",
        "b = int(input(\"Enter second number: \"))\n",
        "while b != 0:\n",
        "    a, b = b, a % b\n",
        "print(\"GCD is\", a)\n"
      ],
      "metadata": {
        "colab": {
          "base_uri": "https://localhost:8080/"
        },
        "id": "G5z5r939tKkh",
        "outputId": "7aecc4f3-564a-464b-cdad-62d11759dca3"
      },
      "execution_count": null,
      "outputs": [
        {
          "output_type": "stream",
          "name": "stdout",
          "text": [
            "Enter first number: 5\n",
            "Enter second number: 8\n",
            "GCD is 1\n"
          ]
        }
      ]
    },
    {
      "cell_type": "code",
      "source": [
        "#  Compute LCM using GCD\n",
        "\n",
        "a = int(input(\"Enter first number: \"))\n",
        "b = int(input(\"Enter second number: \"))\n",
        "orig_a, orig_b = a, b\n",
        "while b != 0:\n",
        "    a, b = b, a % b\n",
        "gcd = a\n",
        "lcm = (orig_a * orig_b) // gcd\n",
        "print(\"LCM is\", lcm)\n"
      ],
      "metadata": {
        "colab": {
          "base_uri": "https://localhost:8080/"
        },
        "id": "18_0WXsItPCc",
        "outputId": "dcc42bf2-8f7b-45c5-b6e3-3d695aa478cb"
      },
      "execution_count": null,
      "outputs": [
        {
          "output_type": "stream",
          "name": "stdout",
          "text": [
            "Enter first number: 5\n",
            "Enter second number: 8\n",
            "LCM is 40\n"
          ]
        }
      ]
    },
    {
      "cell_type": "code",
      "source": [
        "# check num is prime or not prime\n",
        "\n",
        "num=5\n",
        "count=0\n",
        "for i in range(1,num+1):\n",
        "  if(num%i==0):\n",
        "    count+=1\n",
        "\n",
        "\n",
        "  print(\"---outside loop---\",count)\n",
        "  if(count>2):\n",
        "    print(\"not a PRIME\")\n",
        "  else:\n",
        "     print(\"prime\")\n"
      ],
      "metadata": {
        "colab": {
          "base_uri": "https://localhost:8080/"
        },
        "id": "mf5ghJT1tX72",
        "outputId": "5cd68877-a672-45a6-9e55-94001b862288"
      },
      "execution_count": null,
      "outputs": [
        {
          "output_type": "stream",
          "name": "stdout",
          "text": [
            "---outside loop--- 1\n",
            "prime\n",
            "---outside loop--- 1\n",
            "prime\n",
            "---outside loop--- 1\n",
            "prime\n",
            "---outside loop--- 1\n",
            "prime\n",
            "---outside loop--- 2\n",
            "prime\n"
          ]
        }
      ]
    },
    {
      "cell_type": "code",
      "source": [
        "# armstrong number\n",
        "\n",
        "num=153\n",
        "x=num\n",
        "total=0\n",
        "while(num>0):\n",
        "  rem=num%10\n",
        "  num=num//10\n",
        "  total=total+rem**3\n",
        "  print(rem**3,num,total)\n",
        "\n",
        "if(total==x):\n",
        "  print(\"armstrong\")\n"
      ],
      "metadata": {
        "id": "6LQb1zoqy6P1"
      },
      "execution_count": null,
      "outputs": []
    },
    {
      "cell_type": "code",
      "source": [
        "# sum of given digit number\n",
        "\n",
        "i=1234\n",
        "sum=0\n",
        "while(i>0):\n",
        "  digit=i%10\n",
        "  sum=sum+digit\n",
        "  i=i//10\n",
        "print(\"total=\",sum)"
      ],
      "metadata": {
        "id": "Sc-RJtFmo_Vl"
      },
      "execution_count": null,
      "outputs": []
    }
  ]
}